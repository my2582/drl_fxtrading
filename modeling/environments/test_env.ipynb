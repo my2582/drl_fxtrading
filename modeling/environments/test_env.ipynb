{
 "cells": [
  {
   "cell_type": "code",
   "execution_count": 1,
   "metadata": {
    "ExecuteTime": {
     "end_time": "2019-11-21T15:25:01.585766Z",
     "start_time": "2019-11-21T15:24:59.243936Z"
    }
   },
   "outputs": [],
   "source": [
    "import pandas as pd\n",
    "import numpy as np\n",
    "from environment import Environment\n",
    "\n",
    "config = {\n",
    "    'epi_sz': 100,\n",
    "    'target_currency': 'usdaud',\n",
    "    'bins': np.concatenate([[-10], np.arange(-1e-4, 1.1e-4, 1e-5), [10]]),\n",
    "    'channels': 30\n",
    "}\n",
    "\n",
    "\n",
    "X_train = pd.read_csv('../../dataset/toy_X_train_close.csv', sep=',')\n",
    "\n",
    "env = Environment(X_train, config)\n",
    "step_counter, state, price_tuple, is_finished = env.reset(epi_idx=0)\n",
    "step_counter, state, price_tuple, is_finished = env.step(action = 0.1, inv_wt=0.1)"
   ]
  },
  {
   "cell_type": "code",
   "execution_count": 9,
   "metadata": {
    "ExecuteTime": {
     "end_time": "2019-11-21T15:26:13.461253Z",
     "start_time": "2019-11-21T15:26:13.455564Z"
    },
    "scrolled": true
   },
   "outputs": [
    {
     "data": {
      "text/plain": [
       "array([[[2., 2., 2., ..., 2., 1., 1.],\n",
       "        [0., 0., 0., ..., 0., 0., 0.],\n",
       "        [0., 0., 0., ..., 0., 0., 0.],\n",
       "        ...,\n",
       "        [0., 0., 0., ..., 0., 0., 0.],\n",
       "        [0., 0., 0., ..., 2., 2., 2.],\n",
       "        [1., 1., 2., ..., 2., 2., 2.]],\n",
       "\n",
       "       [[0., 0., 0., ..., 3., 3., 3.],\n",
       "        [0., 0., 0., ..., 0., 0., 0.],\n",
       "        [1., 1., 1., ..., 1., 1., 1.],\n",
       "        ...,\n",
       "        [0., 0., 0., ..., 0., 0., 0.],\n",
       "        [0., 0., 0., ..., 0., 0., 0.],\n",
       "        [0., 0., 0., ..., 3., 3., 3.]],\n",
       "\n",
       "       [[3., 4., 4., ..., 5., 6., 6.],\n",
       "        [0., 0., 0., ..., 0., 0., 0.],\n",
       "        [0., 0., 0., ..., 0., 0., 0.],\n",
       "        ...,\n",
       "        [0., 0., 0., ..., 0., 0., 0.],\n",
       "        [0., 0., 0., ..., 0., 0., 0.],\n",
       "        [5., 4., 4., ..., 5., 5., 5.]],\n",
       "\n",
       "       ...,\n",
       "\n",
       "       [[2., 1., 1., ..., 1., 2., 2.],\n",
       "        [0., 0., 0., ..., 0., 0., 0.],\n",
       "        [1., 1., 1., ..., 0., 0., 0.],\n",
       "        ...,\n",
       "        [0., 0., 0., ..., 0., 0., 0.],\n",
       "        [0., 0., 0., ..., 0., 0., 0.],\n",
       "        [3., 3., 3., ..., 1., 1., 1.]],\n",
       "\n",
       "       [[0., 1., 1., ..., 3., 3., 3.],\n",
       "        [0., 0., 0., ..., 0., 0., 0.],\n",
       "        [1., 1., 1., ..., 0., 0., 0.],\n",
       "        ...,\n",
       "        [0., 0., 0., ..., 0., 0., 0.],\n",
       "        [0., 0., 0., ..., 0., 0., 0.],\n",
       "        [1., 1., 1., ..., 4., 5., 6.]],\n",
       "\n",
       "       [[0., 1., 1., ..., 2., 2., 2.],\n",
       "        [0., 0., 0., ..., 0., 0., 0.],\n",
       "        [0., 0., 0., ..., 1., 1., 1.],\n",
       "        ...,\n",
       "        [0., 0., 0., ..., 0., 0., 0.],\n",
       "        [0., 0., 0., ..., 0., 0., 0.],\n",
       "        [2., 2., 2., ..., 2., 2., 2.]]])"
      ]
     },
     "execution_count": 9,
     "metadata": {},
     "output_type": "execute_result"
    }
   ],
   "source": [
    "state[0]"
   ]
  },
  {
   "cell_type": "code",
   "execution_count": 10,
   "metadata": {
    "ExecuteTime": {
     "end_time": "2019-11-21T15:26:20.427319Z",
     "start_time": "2019-11-21T15:26:20.423481Z"
    }
   },
   "outputs": [
    {
     "data": {
      "text/plain": [
       "[0.1, 0.0]"
      ]
     },
     "execution_count": 10,
     "metadata": {},
     "output_type": "execute_result"
    }
   ],
   "source": [
    "state[1]"
   ]
  },
  {
   "cell_type": "code",
   "execution_count": null,
   "metadata": {},
   "outputs": [],
   "source": []
  }
 ],
 "metadata": {
  "kernelspec": {
   "display_name": "Python 3",
   "language": "python",
   "name": "python3"
  },
  "language_info": {
   "codemirror_mode": {
    "name": "ipython",
    "version": 3
   },
   "file_extension": ".py",
   "mimetype": "text/x-python",
   "name": "python",
   "nbconvert_exporter": "python",
   "pygments_lexer": "ipython3",
   "version": "3.6.6"
  }
 },
 "nbformat": 4,
 "nbformat_minor": 2
}
