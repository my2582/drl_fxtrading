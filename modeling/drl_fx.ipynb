{
 "cells": [
  {
   "cell_type": "markdown",
   "metadata": {},
   "source": [
    "# 1. Import packages"
   ]
  },
  {
   "cell_type": "code",
   "execution_count": 1,
   "metadata": {
    "ExecuteTime": {
     "end_time": "2019-11-30T00:59:46.059429Z",
     "start_time": "2019-11-30T00:59:44.926415Z"
    }
   },
   "outputs": [],
   "source": [
    "import os\n",
    "import numpy as np\n",
    "import pandas as pd\n",
    "\n",
    "# Plotting\n",
    "import matplotlib.pyplot as plt\n",
    "import seaborn as sns\n",
    "\n",
    "import logging "
   ]
  },
  {
   "cell_type": "code",
   "execution_count": 2,
   "metadata": {
    "ExecuteTime": {
     "end_time": "2019-11-30T00:59:46.065020Z",
     "start_time": "2019-11-30T00:59:46.061986Z"
    }
   },
   "outputs": [],
   "source": [
    "logging.basicConfig(format='%(levelname)s: %(message)s', level=logging.INFO)\n",
    "logger = logging.getLogger(__name__)"
   ]
  },
  {
   "cell_type": "markdown",
   "metadata": {},
   "source": [
    "# 2. Data loading"
   ]
  },
  {
   "cell_type": "markdown",
   "metadata": {},
   "source": [
    "## 2.1. Dataset description"
   ]
  },
  {
   "cell_type": "markdown",
   "metadata": {},
   "source": [
    "### A toy dataset for now\n",
    "#### G-10 currency pairs. Every curreny other than USD is against USD. So we have 9 pairs in total\n",
    "- gbpusd, usdsek, usdnok, usdjpy, usdcad, usdchf, nzdusd, eurusd, audusd"
   ]
  },
  {
   "cell_type": "markdown",
   "metadata": {},
   "source": [
    "#### Period in use: May 2019 (1 month)"
   ]
  },
  {
   "cell_type": "markdown",
   "metadata": {},
   "source": [
    "## 2.2 Loading a toy data set"
   ]
  },
  {
   "cell_type": "code",
   "execution_count": 3,
   "metadata": {
    "ExecuteTime": {
     "end_time": "2019-11-30T00:59:48.247097Z",
     "start_time": "2019-11-30T00:59:46.068051Z"
    },
    "scrolled": false
   },
   "outputs": [
    {
     "name": "stderr",
     "output_type": "stream",
     "text": [
      "INFO: Loading...\n",
      "INFO: nzdusd_DAT_ASCII_NZDUSD_M1_201904.csv\n",
      "INFO: nzdusd_DAT_ASCII_NZDUSD_M1_201905.csv\n",
      "INFO: nzdusd_DAT_ASCII_NZDUSD_M1_201901.csv\n",
      "INFO: nzdusd_DAT_ASCII_NZDUSD_M1_201902.csv\n",
      "INFO: nzdusd_DAT_ASCII_NZDUSD_M1_201903.csv\n",
      "INFO: usdchf_DAT_ASCII_USDCHF_M1_201903.csv\n",
      "INFO: usdchf_DAT_ASCII_USDCHF_M1_201902.csv\n",
      "INFO: usdchf_DAT_ASCII_USDCHF_M1_201901.csv\n",
      "INFO: usdchf_DAT_ASCII_USDCHF_M1_201905.csv\n",
      "INFO: usdchf_DAT_ASCII_USDCHF_M1_201904.csv\n",
      "INFO: gbpusd_DAT_ASCII_GBPUSD_M1_201904.csv\n",
      "INFO: usdnok_DAT_ASCII_USDNOK_M1_201905.csv\n",
      "INFO: usdsek_DAT_ASCII_USDSEK_M1_201902.csv\n",
      "INFO: usdsek_DAT_ASCII_USDSEK_M1_201903.csv\n",
      "INFO: usdnok_DAT_ASCII_USDNOK_M1_201904.csv\n",
      "INFO: gbpusd_DAT_ASCII_GBPUSD_M1_201905.csv\n",
      "INFO: usdsek_DAT_ASCII_USDSEK_M1_201901.csv\n",
      "INFO: gbpusd_DAT_ASCII_GBPUSD_M1_201902.csv\n",
      "INFO: usdnok_DAT_ASCII_USDNOK_M1_201903.csv\n",
      "INFO: usdsek_DAT_ASCII_USDSEK_M1_201904.csv\n",
      "INFO: usdsek_DAT_ASCII_USDSEK_M1_201905.csv\n",
      "INFO: usdnok_DAT_ASCII_USDNOK_M1_201902.csv\n",
      "INFO: gbpusd_DAT_ASCII_GBPUSD_M1_201903.csv\n",
      "INFO: gbpusd_DAT_ASCII_GBPUSD_M1_201901.csv\n",
      "INFO: usdnok_DAT_ASCII_USDNOK_M1_201901.csv\n",
      "INFO: audusd_DAT_ASCII_AUDUSD_M1_201902.csv\n",
      "INFO: eurusd_DAT_ASCII_EURUSD_M1_201903.csv\n",
      "INFO: usdcad_DAT_ASCII_USDCAD_M1_201903.csv\n",
      "INFO: usdcad_DAT_ASCII_USDCAD_M1_201902.csv\n",
      "INFO: eurusd_DAT_ASCII_EURUSD_M1_201902.csv\n",
      "INFO: audusd_DAT_ASCII_AUDUSD_M1_201903.csv\n",
      "INFO: audusd_DAT_ASCII_AUDUSD_M1_201901.csv\n",
      "INFO: usdjpy_DAT_ASCII_USDJPY_M1_201904.csv\n",
      "INFO: usdcad_DAT_ASCII_USDCAD_M1_201901.csv\n",
      "INFO: usdjpy_DAT_ASCII_USDJPY_M1_201905.csv\n",
      "INFO: eurusd_DAT_ASCII_EURUSD_M1_201901.csv\n",
      "INFO: audusd_DAT_ASCII_AUDUSD_M1_201904.csv\n",
      "INFO: eurusd_DAT_ASCII_EURUSD_M1_201905.csv\n",
      "INFO: usdjpy_DAT_ASCII_USDJPY_M1_201901.csv\n",
      "INFO: usdcad_DAT_ASCII_USDCAD_M1_201905.csv\n",
      "INFO: usdcad_DAT_ASCII_USDCAD_M1_201904.csv\n",
      "INFO: eurusd_DAT_ASCII_EURUSD_M1_201904.csv\n",
      "INFO: audusd_DAT_ASCII_AUDUSD_M1_201905.csv\n",
      "INFO: usdjpy_DAT_ASCII_USDJPY_M1_201902.csv\n",
      "INFO: usdjpy_DAT_ASCII_USDJPY_M1_201903.csv\n",
      "INFO: Complted.\n"
     ]
    }
   ],
   "source": [
    "toy_path = '../dataset/'\n",
    "toy_folders = ['toyset']\n",
    "\n",
    "# csv files have no explicit column header, but column names come in this order.\n",
    "# 'timestamp',  'opening', 'high', 'low', 'close', 'volume'\n",
    "# As we are only interested in timestamp and close prices, we set `usecols` = [0,4], a list of indices\n",
    "col_names = ['datetime',  'opening', 'high', 'low', 'close', 'volume']\n",
    "usecols = [0, 4]\n",
    "\n",
    "df = {}\n",
    "f = pd.DataFrame(columns=col_names)\n",
    "total_size = 0\n",
    "logger.info(\"Loading...\")\n",
    "for folder in toy_folders:\n",
    "    files = os.listdir(toy_path+folder)\n",
    "    for file in files:\n",
    "        if file.endswith(\".csv\"):\n",
    "            logger.info(file)\n",
    "            tmp = pd.read_csv(os.path.join(toy_path, folder, file),\n",
    "                              delimiter=';', header=0, names=col_names, usecols=usecols)\n",
    "            loaded_ccy = file[:6]\n",
    "            if loaded_ccy in df.keys():\n",
    "                df[loaded_ccy] = df[loaded_ccy].append(tmp, ignore_index=True)\n",
    "            else:\n",
    "                df[loaded_ccy] = tmp.copy()\n",
    "            total_size += len(tmp)\n",
    "logger.info(\"Complted.\")"
   ]
  },
  {
   "cell_type": "code",
   "execution_count": 4,
   "metadata": {
    "ExecuteTime": {
     "end_time": "2019-11-30T00:59:48.254490Z",
     "start_time": "2019-11-30T00:59:48.249199Z"
    }
   },
   "outputs": [
    {
     "name": "stdout",
     "output_type": "stream",
     "text": [
      "We have 1390011 data points in total for all pairs\n"
     ]
    }
   ],
   "source": [
    "print('We have {:d} data points in total for all pairs'.format(total_size))"
   ]
  },
  {
   "cell_type": "code",
   "execution_count": 5,
   "metadata": {
    "ExecuteTime": {
     "end_time": "2019-11-30T00:59:48.264463Z",
     "start_time": "2019-11-30T00:59:48.257791Z"
    }
   },
   "outputs": [
    {
     "data": {
      "text/plain": [
       "dict_keys(['nzdusd', 'usdchf', 'gbpusd', 'usdnok', 'usdsek', 'audusd', 'eurusd', 'usdcad', 'usdjpy'])"
      ]
     },
     "execution_count": 5,
     "metadata": {},
     "output_type": "execute_result"
    }
   ],
   "source": [
    "df.keys()"
   ]
  },
  {
   "cell_type": "code",
   "execution_count": 6,
   "metadata": {
    "ExecuteTime": {
     "end_time": "2019-11-30T00:59:48.271724Z",
     "start_time": "2019-11-30T00:59:48.267419Z"
    }
   },
   "outputs": [
    {
     "name": "stdout",
     "output_type": "stream",
     "text": [
      "We have a list of currency pairs: ['nzdusd', 'usdchf', 'gbpusd', 'usdnok', 'usdsek', 'audusd', 'eurusd', 'usdcad', 'usdjpy']\n"
     ]
    }
   ],
   "source": [
    "ccy_list = list(df.keys())\n",
    "ccy_reciprocal_list = ['usdchf', 'usdnok', 'usdsek', 'usdcad', 'usdjpy']\n",
    "print('We have a list of currency pairs:', ccy_list)"
   ]
  },
  {
   "cell_type": "code",
   "execution_count": 7,
   "metadata": {
    "ExecuteTime": {
     "end_time": "2019-11-30T00:59:48.307212Z",
     "start_time": "2019-11-30T00:59:48.289352Z"
    }
   },
   "outputs": [
    {
     "name": "stdout",
     "output_type": "stream",
     "text": [
      "e.g. nzdusd\n"
     ]
    },
    {
     "data": {
      "text/html": [
       "<div>\n",
       "<style scoped>\n",
       "    .dataframe tbody tr th:only-of-type {\n",
       "        vertical-align: middle;\n",
       "    }\n",
       "\n",
       "    .dataframe tbody tr th {\n",
       "        vertical-align: top;\n",
       "    }\n",
       "\n",
       "    .dataframe thead th {\n",
       "        text-align: right;\n",
       "    }\n",
       "</style>\n",
       "<table border=\"1\" class=\"dataframe\">\n",
       "  <thead>\n",
       "    <tr style=\"text-align: right;\">\n",
       "      <th></th>\n",
       "      <th>datetime</th>\n",
       "      <th>close</th>\n",
       "    </tr>\n",
       "  </thead>\n",
       "  <tbody>\n",
       "    <tr>\n",
       "      <th>0</th>\n",
       "      <td>20190401 000100</td>\n",
       "      <td>0.68238</td>\n",
       "    </tr>\n",
       "    <tr>\n",
       "      <th>1</th>\n",
       "      <td>20190401 000200</td>\n",
       "      <td>0.68259</td>\n",
       "    </tr>\n",
       "    <tr>\n",
       "      <th>2</th>\n",
       "      <td>20190401 000300</td>\n",
       "      <td>0.68270</td>\n",
       "    </tr>\n",
       "    <tr>\n",
       "      <th>3</th>\n",
       "      <td>20190401 000400</td>\n",
       "      <td>0.68259</td>\n",
       "    </tr>\n",
       "    <tr>\n",
       "      <th>4</th>\n",
       "      <td>20190401 000500</td>\n",
       "      <td>0.68269</td>\n",
       "    </tr>\n",
       "  </tbody>\n",
       "</table>\n",
       "</div>"
      ],
      "text/plain": [
       "          datetime    close\n",
       "0  20190401 000100  0.68238\n",
       "1  20190401 000200  0.68259\n",
       "2  20190401 000300  0.68270\n",
       "3  20190401 000400  0.68259\n",
       "4  20190401 000500  0.68269"
      ]
     },
     "execution_count": 7,
     "metadata": {},
     "output_type": "execute_result"
    }
   ],
   "source": [
    "print('e.g.', ccy_list[0])\n",
    "df[ccy_list[0]].head()"
   ]
  },
  {
   "cell_type": "markdown",
   "metadata": {},
   "source": [
    "## 2.3 Data Integrity Check"
   ]
  },
  {
   "cell_type": "code",
   "execution_count": 8,
   "metadata": {
    "ExecuteTime": {
     "end_time": "2019-11-30T00:59:48.506672Z",
     "start_time": "2019-11-30T00:59:48.323199Z"
    },
    "scrolled": false
   },
   "outputs": [],
   "source": [
    "for i, ccy in enumerate(ccy_list):\n",
    "    desc = df[ccy].describe()\n",
    "    if i == 0:\n",
    "        df_desc = desc.copy()\n",
    "    else:\n",
    "        df_desc = pd.merge(df_desc, desc, left_index=True, right_index=True)"
   ]
  },
  {
   "cell_type": "markdown",
   "metadata": {},
   "source": [
    "- Outliers: none.\n",
    "- Index: The number of data points a little vary. See the **2.5 `timestamp` policy** to handle this."
   ]
  },
  {
   "cell_type": "code",
   "execution_count": 9,
   "metadata": {
    "ExecuteTime": {
     "end_time": "2019-11-30T00:59:48.524583Z",
     "start_time": "2019-11-30T00:59:48.509141Z"
    },
    "scrolled": false
   },
   "outputs": [
    {
     "data": {
      "text/html": [
       "<div>\n",
       "<style scoped>\n",
       "    .dataframe tbody tr th:only-of-type {\n",
       "        vertical-align: middle;\n",
       "    }\n",
       "\n",
       "    .dataframe tbody tr th {\n",
       "        vertical-align: top;\n",
       "    }\n",
       "\n",
       "    .dataframe thead th {\n",
       "        text-align: right;\n",
       "    }\n",
       "</style>\n",
       "<table border=\"1\" class=\"dataframe\">\n",
       "  <thead>\n",
       "    <tr style=\"text-align: right;\">\n",
       "      <th></th>\n",
       "      <th>close_x</th>\n",
       "      <th>close_y</th>\n",
       "      <th>close_x</th>\n",
       "      <th>close_y</th>\n",
       "      <th>close_x</th>\n",
       "      <th>close_y</th>\n",
       "      <th>close_x</th>\n",
       "      <th>close_y</th>\n",
       "      <th>close</th>\n",
       "    </tr>\n",
       "  </thead>\n",
       "  <tbody>\n",
       "    <tr>\n",
       "      <th>count</th>\n",
       "      <td>154460.000000</td>\n",
       "      <td>153905.000000</td>\n",
       "      <td>154609.000000</td>\n",
       "      <td>154650.000000</td>\n",
       "      <td>153648.000000</td>\n",
       "      <td>154587.000000</td>\n",
       "      <td>154673.000000</td>\n",
       "      <td>154521.000000</td>\n",
       "      <td>154958.000000</td>\n",
       "    </tr>\n",
       "    <tr>\n",
       "      <th>mean</th>\n",
       "      <td>0.674163</td>\n",
       "      <td>1.002029</td>\n",
       "      <td>1.298926</td>\n",
       "      <td>8.607950</td>\n",
       "      <td>9.289557</td>\n",
       "      <td>0.708413</td>\n",
       "      <td>1.129796</td>\n",
       "      <td>1.334487</td>\n",
       "      <td>110.413199</td>\n",
       "    </tr>\n",
       "    <tr>\n",
       "      <th>std</th>\n",
       "      <td>0.011420</td>\n",
       "      <td>0.009920</td>\n",
       "      <td>0.017666</td>\n",
       "      <td>0.095242</td>\n",
       "      <td>0.210210</td>\n",
       "      <td>0.009086</td>\n",
       "      <td>0.009642</td>\n",
       "      <td>0.010760</td>\n",
       "      <td>1.111011</td>\n",
       "    </tr>\n",
       "    <tr>\n",
       "      <th>min</th>\n",
       "      <td>0.648200</td>\n",
       "      <td>0.971580</td>\n",
       "      <td>1.243440</td>\n",
       "      <td>8.400290</td>\n",
       "      <td>8.850490</td>\n",
       "      <td>0.673740</td>\n",
       "      <td>1.110930</td>\n",
       "      <td>1.306910</td>\n",
       "      <td>105.099000</td>\n",
       "    </tr>\n",
       "    <tr>\n",
       "      <th>25%</th>\n",
       "      <td>0.666280</td>\n",
       "      <td>0.995780</td>\n",
       "      <td>1.287780</td>\n",
       "      <td>8.535972</td>\n",
       "      <td>9.170130</td>\n",
       "      <td>0.703000</td>\n",
       "      <td>1.121810</td>\n",
       "      <td>1.326970</td>\n",
       "      <td>109.596000</td>\n",
       "    </tr>\n",
       "    <tr>\n",
       "      <th>50%</th>\n",
       "      <td>0.676340</td>\n",
       "      <td>1.001330</td>\n",
       "      <td>1.302960</td>\n",
       "      <td>8.594960</td>\n",
       "      <td>9.277940</td>\n",
       "      <td>0.709950</td>\n",
       "      <td>1.129850</td>\n",
       "      <td>1.334840</td>\n",
       "      <td>110.545000</td>\n",
       "    </tr>\n",
       "    <tr>\n",
       "      <th>75%</th>\n",
       "      <td>0.683170</td>\n",
       "      <td>1.008380</td>\n",
       "      <td>1.310770</td>\n",
       "      <td>8.682450</td>\n",
       "      <td>9.439428</td>\n",
       "      <td>0.714850</td>\n",
       "      <td>1.136610</td>\n",
       "      <td>1.343330</td>\n",
       "      <td>111.414000</td>\n",
       "    </tr>\n",
       "    <tr>\n",
       "      <th>max</th>\n",
       "      <td>0.694120</td>\n",
       "      <td>1.022960</td>\n",
       "      <td>1.337600</td>\n",
       "      <td>8.818210</td>\n",
       "      <td>9.687600</td>\n",
       "      <td>0.729440</td>\n",
       "      <td>1.156960</td>\n",
       "      <td>1.365920</td>\n",
       "      <td>112.399000</td>\n",
       "    </tr>\n",
       "  </tbody>\n",
       "</table>\n",
       "</div>"
      ],
      "text/plain": [
       "             close_x        close_y        close_x        close_y  \\\n",
       "count  154460.000000  153905.000000  154609.000000  154650.000000   \n",
       "mean        0.674163       1.002029       1.298926       8.607950   \n",
       "std         0.011420       0.009920       0.017666       0.095242   \n",
       "min         0.648200       0.971580       1.243440       8.400290   \n",
       "25%         0.666280       0.995780       1.287780       8.535972   \n",
       "50%         0.676340       1.001330       1.302960       8.594960   \n",
       "75%         0.683170       1.008380       1.310770       8.682450   \n",
       "max         0.694120       1.022960       1.337600       8.818210   \n",
       "\n",
       "             close_x        close_y        close_x        close_y  \\\n",
       "count  153648.000000  154587.000000  154673.000000  154521.000000   \n",
       "mean        9.289557       0.708413       1.129796       1.334487   \n",
       "std         0.210210       0.009086       0.009642       0.010760   \n",
       "min         8.850490       0.673740       1.110930       1.306910   \n",
       "25%         9.170130       0.703000       1.121810       1.326970   \n",
       "50%         9.277940       0.709950       1.129850       1.334840   \n",
       "75%         9.439428       0.714850       1.136610       1.343330   \n",
       "max         9.687600       0.729440       1.156960       1.365920   \n",
       "\n",
       "               close  \n",
       "count  154958.000000  \n",
       "mean      110.413199  \n",
       "std         1.111011  \n",
       "min       105.099000  \n",
       "25%       109.596000  \n",
       "50%       110.545000  \n",
       "75%       111.414000  \n",
       "max       112.399000  "
      ]
     },
     "execution_count": 9,
     "metadata": {},
     "output_type": "execute_result"
    }
   ],
   "source": [
    "df_desc"
   ]
  },
  {
   "cell_type": "code",
   "execution_count": 10,
   "metadata": {
    "ExecuteTime": {
     "end_time": "2019-11-30T00:59:48.533203Z",
     "start_time": "2019-11-30T00:59:48.527118Z"
    }
   },
   "outputs": [
    {
     "data": {
      "text/plain": [
       "154958.0"
      ]
     },
     "execution_count": 10,
     "metadata": {},
     "output_type": "execute_result"
    }
   ],
   "source": [
    "max_datapoints = np.max(df_desc.loc['count'])\n",
    "max_datapoints"
   ]
  },
  {
   "cell_type": "markdown",
   "metadata": {},
   "source": [
    "## 2.4 Drop from and add some columns to `df`"
   ]
  },
  {
   "cell_type": "markdown",
   "metadata": {},
   "source": [
    "- Drop: `datetime` (no use)\n",
    "- Add: `ccy`, `timestamp`\n",
    "- Retain: `bid_price`, `ask_price`"
   ]
  },
  {
   "cell_type": "code",
   "execution_count": 11,
   "metadata": {
    "ExecuteTime": {
     "end_time": "2019-11-30T01:02:38.253208Z",
     "start_time": "2019-11-30T00:59:48.535954Z"
    }
   },
   "outputs": [],
   "source": [
    "for ccy in ccy_list:\n",
    "    df[ccy]['ccy'] = ccy\n",
    "    df[ccy]['timestamp'] = df[ccy].datetime.apply(lambda x: pd.to_datetime(x))\n",
    "    cols_to_use = ['timestamp', 'ccy', 'close']\n",
    "    df[ccy] = df[ccy][cols_to_use]"
   ]
  },
  {
   "cell_type": "code",
   "execution_count": 12,
   "metadata": {
    "ExecuteTime": {
     "end_time": "2019-11-30T01:02:38.268887Z",
     "start_time": "2019-11-30T01:02:38.255754Z"
    }
   },
   "outputs": [
    {
     "data": {
      "text/html": [
       "<div>\n",
       "<style scoped>\n",
       "    .dataframe tbody tr th:only-of-type {\n",
       "        vertical-align: middle;\n",
       "    }\n",
       "\n",
       "    .dataframe tbody tr th {\n",
       "        vertical-align: top;\n",
       "    }\n",
       "\n",
       "    .dataframe thead th {\n",
       "        text-align: right;\n",
       "    }\n",
       "</style>\n",
       "<table border=\"1\" class=\"dataframe\">\n",
       "  <thead>\n",
       "    <tr style=\"text-align: right;\">\n",
       "      <th></th>\n",
       "      <th>timestamp</th>\n",
       "      <th>ccy</th>\n",
       "      <th>close</th>\n",
       "    </tr>\n",
       "  </thead>\n",
       "  <tbody>\n",
       "    <tr>\n",
       "      <th>72457</th>\n",
       "      <td>2019-01-09 22:18:00</td>\n",
       "      <td>nzdusd</td>\n",
       "      <td>0.67810</td>\n",
       "    </tr>\n",
       "    <tr>\n",
       "      <th>11015</th>\n",
       "      <td>2019-04-10 15:44:00</td>\n",
       "      <td>nzdusd</td>\n",
       "      <td>0.67615</td>\n",
       "    </tr>\n",
       "    <tr>\n",
       "      <th>73679</th>\n",
       "      <td>2019-01-10 18:40:00</td>\n",
       "      <td>nzdusd</td>\n",
       "      <td>0.67838</td>\n",
       "    </tr>\n",
       "    <tr>\n",
       "      <th>131230</th>\n",
       "      <td>2019-03-07 18:38:00</td>\n",
       "      <td>nzdusd</td>\n",
       "      <td>0.67641</td>\n",
       "    </tr>\n",
       "    <tr>\n",
       "      <th>58452</th>\n",
       "      <td>2019-05-28 04:42:00</td>\n",
       "      <td>nzdusd</td>\n",
       "      <td>0.65511</td>\n",
       "    </tr>\n",
       "  </tbody>\n",
       "</table>\n",
       "</div>"
      ],
      "text/plain": [
       "                 timestamp     ccy    close\n",
       "72457  2019-01-09 22:18:00  nzdusd  0.67810\n",
       "11015  2019-04-10 15:44:00  nzdusd  0.67615\n",
       "73679  2019-01-10 18:40:00  nzdusd  0.67838\n",
       "131230 2019-03-07 18:38:00  nzdusd  0.67641\n",
       "58452  2019-05-28 04:42:00  nzdusd  0.65511"
      ]
     },
     "execution_count": 12,
     "metadata": {},
     "output_type": "execute_result"
    }
   ],
   "source": [
    "rand_ccy = ccy_list[np.random.randint(len(ccy_list))]\n",
    "df[rand_ccy].sample(5)"
   ]
  },
  {
   "cell_type": "markdown",
   "metadata": {
    "ExecuteTime": {
     "end_time": "2019-10-30T16:05:23.457496Z",
     "start_time": "2019-10-30T16:05:23.451601Z"
    }
   },
   "source": [
    "### Check if we have all data points in `df`"
   ]
  },
  {
   "cell_type": "code",
   "execution_count": 13,
   "metadata": {
    "ExecuteTime": {
     "end_time": "2019-11-30T01:02:38.275261Z",
     "start_time": "2019-11-30T01:02:38.271103Z"
    }
   },
   "outputs": [],
   "source": [
    "assert np.sum([len(df[ccy]) for ccy in ccy_list]) == total_size, \"We got some data loss.\""
   ]
  },
  {
   "cell_type": "markdown",
   "metadata": {},
   "source": [
    "## 2.5 Padding missing time to `df`"
   ]
  },
  {
   "cell_type": "markdown",
   "metadata": {},
   "source": [
    "### Creating a new index `idx`\n",
    "#### `timestamp` policy:\n",
    "- If any curency pair has any price at timestamp $t$, then we have the timestamp $t$ for the rest of the currency pairs as well."
   ]
  },
  {
   "cell_type": "markdown",
   "metadata": {},
   "source": [
    "#### We create a union set `idx` of `timestamp` for every currency pair so that we can cover every data point."
   ]
  },
  {
   "cell_type": "code",
   "execution_count": 14,
   "metadata": {
    "ExecuteTime": {
     "end_time": "2019-11-30T01:02:38.409528Z",
     "start_time": "2019-11-30T01:02:38.277765Z"
    }
   },
   "outputs": [],
   "source": [
    "ccy_idx = {}\n",
    "for i, ccy in enumerate(ccy_list):\n",
    "    ccy_idx[ccy] = pd.Index(df[ccy].timestamp)\n",
    "    if i == 0 :\n",
    "        idx = pd.Index(ccy_idx[ccy])\n",
    "    else:\n",
    "        idx = idx.union(ccy_idx[ccy])"
   ]
  },
  {
   "cell_type": "code",
   "execution_count": 15,
   "metadata": {
    "ExecuteTime": {
     "end_time": "2019-11-30T01:02:38.414682Z",
     "start_time": "2019-11-30T01:02:38.411455Z"
    }
   },
   "outputs": [],
   "source": [
    "assert len(idx) >= np.max([len(ccy_idx[key]) for key in ccy_idx.keys()]), \"len(Union(every index)) must be larger than max(len(indices))\""
   ]
  },
  {
   "cell_type": "code",
   "execution_count": 16,
   "metadata": {
    "ExecuteTime": {
     "end_time": "2019-11-30T01:02:38.420474Z",
     "start_time": "2019-11-30T01:02:38.417069Z"
    }
   },
   "outputs": [
    {
     "name": "stdout",
     "output_type": "stream",
     "text": [
      "We have 155265 rows per currency pair\n"
     ]
    }
   ],
   "source": [
    "print('We have {} rows per currency pair'.format(len(idx)))"
   ]
  },
  {
   "cell_type": "markdown",
   "metadata": {},
   "source": [
    "#### Apply `idx` to every `df[ccy]`"
   ]
  },
  {
   "cell_type": "code",
   "execution_count": 17,
   "metadata": {
    "ExecuteTime": {
     "end_time": "2019-11-30T01:02:38.951457Z",
     "start_time": "2019-11-30T01:02:38.422667Z"
    }
   },
   "outputs": [],
   "source": [
    "for ccy in ccy_list:\n",
    "    df_ccy = pd.DataFrame(index=idx)\n",
    "    df[ccy] = df_ccy.merge(df[ccy], how='left', on='timestamp')\n",
    "    df[ccy]['ccy'].fillna(ccy, inplace=True)"
   ]
  },
  {
   "cell_type": "code",
   "execution_count": 18,
   "metadata": {
    "ExecuteTime": {
     "end_time": "2019-11-30T01:02:38.957786Z",
     "start_time": "2019-11-30T01:02:38.954261Z"
    }
   },
   "outputs": [],
   "source": [
    "assert [ len(idx) == len(df[key]) for key in df.keys()], \"Some df[ccy] have the different number of rows.\""
   ]
  },
  {
   "cell_type": "code",
   "execution_count": 19,
   "metadata": {
    "ExecuteTime": {
     "end_time": "2019-11-30T01:02:38.965417Z",
     "start_time": "2019-11-30T01:02:38.960461Z"
    }
   },
   "outputs": [],
   "source": [
    "assert np.min([df[f].shape[0] for f in df.keys()]) >= max_datapoints, \"We got some data loss.\""
   ]
  },
  {
   "cell_type": "markdown",
   "metadata": {},
   "source": [
    "#### We get the global earliest date and last date over the entire data set."
   ]
  },
  {
   "cell_type": "markdown",
   "metadata": {},
   "source": [
    "## 2.6 Create the data set `X`\n",
    "### We do it simply by appending `df` for each currency pair to create the data set `X`"
   ]
  },
  {
   "cell_type": "markdown",
   "metadata": {},
   "source": [
    "Create a template for `X`"
   ]
  },
  {
   "cell_type": "code",
   "execution_count": 20,
   "metadata": {
    "ExecuteTime": {
     "end_time": "2019-11-30T01:02:38.978612Z",
     "start_time": "2019-11-30T01:02:38.968039Z"
    }
   },
   "outputs": [
    {
     "data": {
      "text/html": [
       "<div>\n",
       "<style scoped>\n",
       "    .dataframe tbody tr th:only-of-type {\n",
       "        vertical-align: middle;\n",
       "    }\n",
       "\n",
       "    .dataframe tbody tr th {\n",
       "        vertical-align: top;\n",
       "    }\n",
       "\n",
       "    .dataframe thead th {\n",
       "        text-align: right;\n",
       "    }\n",
       "</style>\n",
       "<table border=\"1\" class=\"dataframe\">\n",
       "  <thead>\n",
       "    <tr style=\"text-align: right;\">\n",
       "      <th></th>\n",
       "      <th>timestamp</th>\n",
       "      <th>ccy</th>\n",
       "      <th>close</th>\n",
       "    </tr>\n",
       "  </thead>\n",
       "  <tbody>\n",
       "  </tbody>\n",
       "</table>\n",
       "</div>"
      ],
      "text/plain": [
       "Empty DataFrame\n",
       "Columns: [timestamp, ccy, close]\n",
       "Index: []"
      ]
     },
     "execution_count": 20,
     "metadata": {},
     "output_type": "execute_result"
    }
   ],
   "source": [
    "X = pd.DataFrame(columns = df[ccy_list[0]].columns)\n",
    "X"
   ]
  },
  {
   "cell_type": "code",
   "execution_count": 21,
   "metadata": {
    "ExecuteTime": {
     "end_time": "2019-11-30T01:02:39.212258Z",
     "start_time": "2019-11-30T01:02:38.981208Z"
    }
   },
   "outputs": [],
   "source": [
    "for ccy in ccy_list:\n",
    "    X = X.append(df[ccy], ignore_index=False, sort=False)"
   ]
  },
  {
   "cell_type": "code",
   "execution_count": 22,
   "metadata": {
    "ExecuteTime": {
     "end_time": "2019-11-30T01:02:39.285468Z",
     "start_time": "2019-11-30T01:02:39.219639Z"
    }
   },
   "outputs": [
    {
     "data": {
      "text/html": [
       "<div>\n",
       "<style scoped>\n",
       "    .dataframe tbody tr th:only-of-type {\n",
       "        vertical-align: middle;\n",
       "    }\n",
       "\n",
       "    .dataframe tbody tr th {\n",
       "        vertical-align: top;\n",
       "    }\n",
       "\n",
       "    .dataframe thead th {\n",
       "        text-align: right;\n",
       "    }\n",
       "</style>\n",
       "<table border=\"1\" class=\"dataframe\">\n",
       "  <thead>\n",
       "    <tr style=\"text-align: right;\">\n",
       "      <th></th>\n",
       "      <th>timestamp</th>\n",
       "      <th>ccy</th>\n",
       "      <th>close</th>\n",
       "    </tr>\n",
       "  </thead>\n",
       "  <tbody>\n",
       "    <tr>\n",
       "      <th>128299</th>\n",
       "      <td>2019-05-06 20:34:00</td>\n",
       "      <td>usdnok</td>\n",
       "      <td>8.72334</td>\n",
       "    </tr>\n",
       "    <tr>\n",
       "      <th>121054</th>\n",
       "      <td>2019-04-29 19:47:00</td>\n",
       "      <td>usdjpy</td>\n",
       "      <td>111.68600</td>\n",
       "    </tr>\n",
       "    <tr>\n",
       "      <th>39124</th>\n",
       "      <td>2019-02-07 21:13:00</td>\n",
       "      <td>usdjpy</td>\n",
       "      <td>109.67700</td>\n",
       "    </tr>\n",
       "    <tr>\n",
       "      <th>140763</th>\n",
       "      <td>2019-05-17 12:18:00</td>\n",
       "      <td>audusd</td>\n",
       "      <td>0.68737</td>\n",
       "    </tr>\n",
       "    <tr>\n",
       "      <th>54823</th>\n",
       "      <td>2019-02-24 18:52:00</td>\n",
       "      <td>usdchf</td>\n",
       "      <td>0.99996</td>\n",
       "    </tr>\n",
       "  </tbody>\n",
       "</table>\n",
       "</div>"
      ],
      "text/plain": [
       "                 timestamp     ccy      close\n",
       "128299 2019-05-06 20:34:00  usdnok    8.72334\n",
       "121054 2019-04-29 19:47:00  usdjpy  111.68600\n",
       "39124  2019-02-07 21:13:00  usdjpy  109.67700\n",
       "140763 2019-05-17 12:18:00  audusd    0.68737\n",
       "54823  2019-02-24 18:52:00  usdchf    0.99996"
      ]
     },
     "execution_count": 22,
     "metadata": {},
     "output_type": "execute_result"
    }
   ],
   "source": [
    "X.sample(5)"
   ]
  },
  {
   "cell_type": "code",
   "execution_count": 23,
   "metadata": {
    "ExecuteTime": {
     "end_time": "2019-11-30T01:02:39.293517Z",
     "start_time": "2019-11-30T01:02:39.290497Z"
    }
   },
   "outputs": [],
   "source": [
    "assert X.shape[0] == len(ccy_list)*len(idx), \"We have some data loss.\""
   ]
  },
  {
   "cell_type": "markdown",
   "metadata": {},
   "source": [
    "## 2.7 Missing Data Analysis\n",
    "#### An imputing policy:\n",
    "- First we sort `X` by `ccy` and `timestamp`, and reset the index.\n",
    "- Then we group `X` by `ccy`\n",
    "- We finally forwardfill (use previous values to fill missing values)"
   ]
  },
  {
   "cell_type": "code",
   "execution_count": 24,
   "metadata": {
    "ExecuteTime": {
     "end_time": "2019-11-30T01:02:39.730615Z",
     "start_time": "2019-11-30T01:02:39.296306Z"
    }
   },
   "outputs": [],
   "source": [
    "X = X.sort_values(by=['ccy','timestamp'])\n",
    "X.reset_index(drop=True, inplace=True)"
   ]
  },
  {
   "cell_type": "markdown",
   "metadata": {},
   "source": [
    "### Missing data\n",
    "- `close': See below\n",
    "- We impute them by previous values (done by group)"
   ]
  },
  {
   "cell_type": "code",
   "execution_count": 25,
   "metadata": {
    "ExecuteTime": {
     "end_time": "2019-11-30T01:02:39.804367Z",
     "start_time": "2019-11-30T01:02:39.733005Z"
    }
   },
   "outputs": [
    {
     "data": {
      "text/plain": [
       "timestamp       0\n",
       "ccy             0\n",
       "close        7374\n",
       "dtype: int64"
      ]
     },
     "execution_count": 25,
     "metadata": {},
     "output_type": "execute_result"
    }
   ],
   "source": [
    "X.isna().sum()"
   ]
  },
  {
   "cell_type": "code",
   "execution_count": 26,
   "metadata": {
    "ExecuteTime": {
     "end_time": "2019-11-30T01:02:39.953278Z",
     "start_time": "2019-11-30T01:02:39.807059Z"
    }
   },
   "outputs": [],
   "source": [
    "g = X.groupby('ccy')\n",
    "X['close'] = g['close'].fillna(method='ffill')"
   ]
  },
  {
   "cell_type": "markdown",
   "metadata": {},
   "source": [
    "#### Sometimes we still have some rows with nan because 'ffill'can't be done due to no previous values."
   ]
  },
  {
   "cell_type": "code",
   "execution_count": 27,
   "metadata": {
    "ExecuteTime": {
     "end_time": "2019-11-30T01:02:39.961900Z",
     "start_time": "2019-11-30T01:02:39.955770Z"
    }
   },
   "outputs": [],
   "source": [
    "nan_timestamp = X.loc[X['close'].isna()].timestamp.unique()"
   ]
  },
  {
   "cell_type": "markdown",
   "metadata": {},
   "source": [
    "#### We have a list of `timestamp` for a nan row for any currency pair."
   ]
  },
  {
   "cell_type": "code",
   "execution_count": 28,
   "metadata": {
    "ExecuteTime": {
     "end_time": "2019-11-30T01:02:39.969317Z",
     "start_time": "2019-11-30T01:02:39.964208Z"
    }
   },
   "outputs": [
    {
     "data": {
      "text/plain": [
       "array(['2019-01-01T17:01:00.000000000', '2019-01-01T17:02:00.000000000',\n",
       "       '2019-01-01T17:03:00.000000000', '2019-01-01T17:04:00.000000000',\n",
       "       '2019-01-01T17:05:00.000000000', '2019-01-01T17:06:00.000000000',\n",
       "       '2019-01-01T17:07:00.000000000', '2019-01-01T17:08:00.000000000',\n",
       "       '2019-01-01T17:09:00.000000000', '2019-01-01T17:10:00.000000000'],\n",
       "      dtype='datetime64[ns]')"
      ]
     },
     "execution_count": 28,
     "metadata": {},
     "output_type": "execute_result"
    }
   ],
   "source": [
    "nan_timestamp"
   ]
  },
  {
   "cell_type": "markdown",
   "metadata": {
    "ExecuteTime": {
     "end_time": "2019-11-05T18:08:16.388714Z",
     "start_time": "2019-11-05T18:08:16.385933Z"
    }
   },
   "source": [
    "#### Any row in `nan_timestamp` will be dropped."
   ]
  },
  {
   "cell_type": "code",
   "execution_count": 29,
   "metadata": {
    "ExecuteTime": {
     "end_time": "2019-11-30T01:02:40.043297Z",
     "start_time": "2019-11-30T01:02:39.971789Z"
    }
   },
   "outputs": [],
   "source": [
    "X = X[~X['timestamp'].isin(nan_timestamp)]"
   ]
  },
  {
   "cell_type": "markdown",
   "metadata": {},
   "source": [
    "#### Now we have no missing value. Cleaning is *done*."
   ]
  },
  {
   "cell_type": "code",
   "execution_count": 30,
   "metadata": {
    "ExecuteTime": {
     "end_time": "2019-11-30T01:02:40.109814Z",
     "start_time": "2019-11-30T01:02:40.045424Z"
    }
   },
   "outputs": [
    {
     "data": {
      "text/plain": [
       "timestamp    0\n",
       "ccy          0\n",
       "close        0\n",
       "dtype: int64"
      ]
     },
     "execution_count": 30,
     "metadata": {},
     "output_type": "execute_result"
    }
   ],
   "source": [
    "X.isna().sum()"
   ]
  },
  {
   "cell_type": "markdown",
   "metadata": {},
   "source": [
    "## 2.8 Take the reciprocal if needed"
   ]
  },
  {
   "cell_type": "code",
   "execution_count": 31,
   "metadata": {
    "ExecuteTime": {
     "end_time": "2019-11-30T01:02:41.341678Z",
     "start_time": "2019-11-30T01:02:40.112546Z"
    }
   },
   "outputs": [
    {
     "name": "stderr",
     "output_type": "stream",
     "text": [
      "/Users/msyeom/anaconda3/envs/dl/lib/python3.6/site-packages/pandas/core/indexing.py:480: SettingWithCopyWarning: \n",
      "A value is trying to be set on a copy of a slice from a DataFrame.\n",
      "Try using .loc[row_indexer,col_indexer] = value instead\n",
      "\n",
      "See the caveats in the documentation: http://pandas.pydata.org/pandas-docs/stable/user_guide/indexing.html#returning-a-view-versus-a-copy\n",
      "  self.obj[item] = s\n"
     ]
    }
   ],
   "source": [
    "for ccy in ccy_reciprocal_list:\n",
    "    X.loc[X.ccy==ccy, 'close'] = np.reciprocal(X[X.ccy==ccy].loc[:,'close'])\n",
    "    X.loc[X.ccy==ccy, 'ccy'] = ccy[3:] + 'usd'"
   ]
  },
  {
   "cell_type": "code",
   "execution_count": 32,
   "metadata": {
    "ExecuteTime": {
     "end_time": "2019-11-30T01:02:41.348487Z",
     "start_time": "2019-11-30T01:02:41.344351Z"
    }
   },
   "outputs": [
    {
     "data": {
      "text/plain": [
       "'jpy'"
      ]
     },
     "execution_count": 32,
     "metadata": {},
     "output_type": "execute_result"
    }
   ],
   "source": [
    "ccy[3:]"
   ]
  },
  {
   "cell_type": "code",
   "execution_count": 33,
   "metadata": {
    "ExecuteTime": {
     "end_time": "2019-11-30T01:02:41.424128Z",
     "start_time": "2019-11-30T01:02:41.351127Z"
    }
   },
   "outputs": [
    {
     "data": {
      "text/html": [
       "<div>\n",
       "<style scoped>\n",
       "    .dataframe tbody tr th:only-of-type {\n",
       "        vertical-align: middle;\n",
       "    }\n",
       "\n",
       "    .dataframe tbody tr th {\n",
       "        vertical-align: top;\n",
       "    }\n",
       "\n",
       "    .dataframe thead th {\n",
       "        text-align: right;\n",
       "    }\n",
       "</style>\n",
       "<table border=\"1\" class=\"dataframe\">\n",
       "  <thead>\n",
       "    <tr style=\"text-align: right;\">\n",
       "      <th></th>\n",
       "      <th>timestamp</th>\n",
       "      <th>ccy</th>\n",
       "      <th>close</th>\n",
       "    </tr>\n",
       "  </thead>\n",
       "  <tbody>\n",
       "    <tr>\n",
       "      <th>313503</th>\n",
       "      <td>2019-01-03 18:34:00</td>\n",
       "      <td>gbpusd</td>\n",
       "      <td>1.262790</td>\n",
       "    </tr>\n",
       "    <tr>\n",
       "      <th>443492</th>\n",
       "      <td>2019-05-10 02:17:00</td>\n",
       "      <td>gbpusd</td>\n",
       "      <td>1.300200</td>\n",
       "    </tr>\n",
       "    <tr>\n",
       "      <th>517695</th>\n",
       "      <td>2019-02-20 18:09:00</td>\n",
       "      <td>nzdusd</td>\n",
       "      <td>0.685690</td>\n",
       "    </tr>\n",
       "    <tr>\n",
       "      <th>422490</th>\n",
       "      <td>2019-04-19 12:13:00</td>\n",
       "      <td>gbpusd</td>\n",
       "      <td>1.299990</td>\n",
       "    </tr>\n",
       "    <tr>\n",
       "      <th>1222563</th>\n",
       "      <td>2019-05-14 00:03:00</td>\n",
       "      <td>nokusd</td>\n",
       "      <td>0.114435</td>\n",
       "    </tr>\n",
       "    <tr>\n",
       "      <th>261201</th>\n",
       "      <td>2019-04-15 07:49:00</td>\n",
       "      <td>eurusd</td>\n",
       "      <td>1.131220</td>\n",
       "    </tr>\n",
       "    <tr>\n",
       "      <th>838996</th>\n",
       "      <td>2019-03-04 05:42:00</td>\n",
       "      <td>chfusd</td>\n",
       "      <td>0.999360</td>\n",
       "    </tr>\n",
       "    <tr>\n",
       "      <th>1286458</th>\n",
       "      <td>2019-02-13 12:07:00</td>\n",
       "      <td>sekusd</td>\n",
       "      <td>0.108116</td>\n",
       "    </tr>\n",
       "    <tr>\n",
       "      <th>144681</th>\n",
       "      <td>2019-05-22 05:36:00</td>\n",
       "      <td>audusd</td>\n",
       "      <td>0.689160</td>\n",
       "    </tr>\n",
       "    <tr>\n",
       "      <th>983812</th>\n",
       "      <td>2019-02-20 23:31:00</td>\n",
       "      <td>jpyusd</td>\n",
       "      <td>0.009028</td>\n",
       "    </tr>\n",
       "  </tbody>\n",
       "</table>\n",
       "</div>"
      ],
      "text/plain": [
       "                  timestamp     ccy     close\n",
       "313503  2019-01-03 18:34:00  gbpusd  1.262790\n",
       "443492  2019-05-10 02:17:00  gbpusd  1.300200\n",
       "517695  2019-02-20 18:09:00  nzdusd  0.685690\n",
       "422490  2019-04-19 12:13:00  gbpusd  1.299990\n",
       "1222563 2019-05-14 00:03:00  nokusd  0.114435\n",
       "261201  2019-04-15 07:49:00  eurusd  1.131220\n",
       "838996  2019-03-04 05:42:00  chfusd  0.999360\n",
       "1286458 2019-02-13 12:07:00  sekusd  0.108116\n",
       "144681  2019-05-22 05:36:00  audusd  0.689160\n",
       "983812  2019-02-20 23:31:00  jpyusd  0.009028"
      ]
     },
     "execution_count": 33,
     "metadata": {},
     "output_type": "execute_result"
    }
   ],
   "source": [
    "X.sample(10)"
   ]
  },
  {
   "cell_type": "markdown",
   "metadata": {},
   "source": [
    "### We make a new `ccy_list`\n",
    "- The order is fixed here manually."
   ]
  },
  {
   "cell_type": "code",
   "execution_count": 34,
   "metadata": {
    "ExecuteTime": {
     "end_time": "2019-11-30T01:02:41.429420Z",
     "start_time": "2019-11-30T01:02:41.426464Z"
    }
   },
   "outputs": [],
   "source": [
    "ccy_list = ['gbpusd', 'eurusd', 'chfusd', 'nokusd', 'sekusd', 'cadusd', 'audusd', 'nzdusd', 'jpyusd']"
   ]
  },
  {
   "cell_type": "code",
   "execution_count": 35,
   "metadata": {
    "ExecuteTime": {
     "end_time": "2019-11-30T01:02:41.716730Z",
     "start_time": "2019-11-30T01:02:41.431773Z"
    }
   },
   "outputs": [
    {
     "name": "stderr",
     "output_type": "stream",
     "text": [
      "/Users/msyeom/anaconda3/envs/dl/lib/python3.6/site-packages/pandas/core/indexing.py:362: SettingWithCopyWarning: \n",
      "A value is trying to be set on a copy of a slice from a DataFrame.\n",
      "Try using .loc[row_indexer,col_indexer] = value instead\n",
      "\n",
      "See the caveats in the documentation: http://pandas.pydata.org/pandas-docs/stable/user_guide/indexing.html#returning-a-view-versus-a-copy\n",
      "  self.obj[key] = _infer_fill_value(value)\n"
     ]
    }
   ],
   "source": [
    "close_ret = np.log(X.loc[:,'close']) - np.log(X.loc[:,'close'].shift(-1))\n",
    "X.loc[X.loc[:,'ccy'] == X.loc[:,'ccy'].shift(), 'close_ret'] = close_ret"
   ]
  },
  {
   "cell_type": "code",
   "execution_count": 36,
   "metadata": {
    "ExecuteTime": {
     "end_time": "2019-11-30T01:02:41.816820Z",
     "start_time": "2019-11-30T01:02:41.719251Z"
    },
    "scrolled": true
   },
   "outputs": [
    {
     "data": {
      "text/html": [
       "<div>\n",
       "<style scoped>\n",
       "    .dataframe tbody tr th:only-of-type {\n",
       "        vertical-align: middle;\n",
       "    }\n",
       "\n",
       "    .dataframe tbody tr th {\n",
       "        vertical-align: top;\n",
       "    }\n",
       "\n",
       "    .dataframe thead th {\n",
       "        text-align: right;\n",
       "    }\n",
       "</style>\n",
       "<table border=\"1\" class=\"dataframe\">\n",
       "  <thead>\n",
       "    <tr style=\"text-align: right;\">\n",
       "      <th></th>\n",
       "      <th>timestamp</th>\n",
       "      <th>ccy</th>\n",
       "      <th>close</th>\n",
       "      <th>close_ret</th>\n",
       "    </tr>\n",
       "  </thead>\n",
       "  <tbody>\n",
       "    <tr>\n",
       "      <th>10</th>\n",
       "      <td>2019-01-01 17:11:00</td>\n",
       "      <td>audusd</td>\n",
       "      <td>0.704690</td>\n",
       "      <td>NaN</td>\n",
       "    </tr>\n",
       "    <tr>\n",
       "      <th>155275</th>\n",
       "      <td>2019-01-01 17:11:00</td>\n",
       "      <td>eurusd</td>\n",
       "      <td>1.146070</td>\n",
       "      <td>NaN</td>\n",
       "    </tr>\n",
       "    <tr>\n",
       "      <th>310540</th>\n",
       "      <td>2019-01-01 17:11:00</td>\n",
       "      <td>gbpusd</td>\n",
       "      <td>1.272270</td>\n",
       "      <td>NaN</td>\n",
       "    </tr>\n",
       "    <tr>\n",
       "      <th>465805</th>\n",
       "      <td>2019-01-01 17:11:00</td>\n",
       "      <td>nzdusd</td>\n",
       "      <td>0.671380</td>\n",
       "      <td>NaN</td>\n",
       "    </tr>\n",
       "    <tr>\n",
       "      <th>621070</th>\n",
       "      <td>2019-01-01 17:11:00</td>\n",
       "      <td>cadusd</td>\n",
       "      <td>0.733762</td>\n",
       "      <td>NaN</td>\n",
       "    </tr>\n",
       "    <tr>\n",
       "      <th>776335</th>\n",
       "      <td>2019-01-01 17:11:00</td>\n",
       "      <td>chfusd</td>\n",
       "      <td>1.019233</td>\n",
       "      <td>NaN</td>\n",
       "    </tr>\n",
       "    <tr>\n",
       "      <th>931600</th>\n",
       "      <td>2019-01-01 17:11:00</td>\n",
       "      <td>jpyusd</td>\n",
       "      <td>0.009120</td>\n",
       "      <td>NaN</td>\n",
       "    </tr>\n",
       "    <tr>\n",
       "      <th>1086865</th>\n",
       "      <td>2019-01-01 17:11:00</td>\n",
       "      <td>nokusd</td>\n",
       "      <td>0.115812</td>\n",
       "      <td>NaN</td>\n",
       "    </tr>\n",
       "    <tr>\n",
       "      <th>1242130</th>\n",
       "      <td>2019-01-01 17:11:00</td>\n",
       "      <td>sekusd</td>\n",
       "      <td>0.112896</td>\n",
       "      <td>NaN</td>\n",
       "    </tr>\n",
       "  </tbody>\n",
       "</table>\n",
       "</div>"
      ],
      "text/plain": [
       "                  timestamp     ccy     close  close_ret\n",
       "10      2019-01-01 17:11:00  audusd  0.704690        NaN\n",
       "155275  2019-01-01 17:11:00  eurusd  1.146070        NaN\n",
       "310540  2019-01-01 17:11:00  gbpusd  1.272270        NaN\n",
       "465805  2019-01-01 17:11:00  nzdusd  0.671380        NaN\n",
       "621070  2019-01-01 17:11:00  cadusd  0.733762        NaN\n",
       "776335  2019-01-01 17:11:00  chfusd  1.019233        NaN\n",
       "931600  2019-01-01 17:11:00  jpyusd  0.009120        NaN\n",
       "1086865 2019-01-01 17:11:00  nokusd  0.115812        NaN\n",
       "1242130 2019-01-01 17:11:00  sekusd  0.112896        NaN"
      ]
     },
     "execution_count": 36,
     "metadata": {},
     "output_type": "execute_result"
    }
   ],
   "source": [
    "X_boundary = X.loc[X['ccy'] != X['ccy'].shift()]\n",
    "X_boundary"
   ]
  },
  {
   "cell_type": "code",
   "execution_count": 37,
   "metadata": {
    "ExecuteTime": {
     "end_time": "2019-11-30T01:02:41.963528Z",
     "start_time": "2019-11-30T01:02:41.819145Z"
    }
   },
   "outputs": [
    {
     "name": "stderr",
     "output_type": "stream",
     "text": [
      "/Users/msyeom/anaconda3/envs/dl/lib/python3.6/site-packages/ipykernel_launcher.py:1: SettingWithCopyWarning: \n",
      "A value is trying to be set on a copy of a slice from a DataFrame\n",
      "\n",
      "See the caveats in the documentation: http://pandas.pydata.org/pandas-docs/stable/user_guide/indexing.html#returning-a-view-versus-a-copy\n",
      "  \"\"\"Entry point for launching an IPython kernel.\n"
     ]
    }
   ],
   "source": [
    "X.dropna(axis='index', how='any', inplace=True)"
   ]
  },
  {
   "cell_type": "code",
   "execution_count": 38,
   "metadata": {
    "ExecuteTime": {
     "end_time": "2019-11-30T01:02:42.037743Z",
     "start_time": "2019-11-30T01:02:41.966145Z"
    },
    "scrolled": true
   },
   "outputs": [
    {
     "data": {
      "text/plain": [
       "timestamp    0\n",
       "ccy          0\n",
       "close        0\n",
       "close_ret    0\n",
       "dtype: int64"
      ]
     },
     "execution_count": 38,
     "metadata": {},
     "output_type": "execute_result"
    }
   ],
   "source": [
    "X.isna().sum()"
   ]
  },
  {
   "cell_type": "code",
   "execution_count": 39,
   "metadata": {
    "ExecuteTime": {
     "end_time": "2019-11-30T01:02:42.044244Z",
     "start_time": "2019-11-30T01:02:42.040020Z"
    }
   },
   "outputs": [],
   "source": [
    "X.reset_index(drop=True, inplace=True)"
   ]
  },
  {
   "cell_type": "code",
   "execution_count": 40,
   "metadata": {
    "ExecuteTime": {
     "end_time": "2019-11-30T01:02:42.060238Z",
     "start_time": "2019-11-30T01:02:42.046807Z"
    }
   },
   "outputs": [
    {
     "data": {
      "text/html": [
       "<div>\n",
       "<style scoped>\n",
       "    .dataframe tbody tr th:only-of-type {\n",
       "        vertical-align: middle;\n",
       "    }\n",
       "\n",
       "    .dataframe tbody tr th {\n",
       "        vertical-align: top;\n",
       "    }\n",
       "\n",
       "    .dataframe thead th {\n",
       "        text-align: right;\n",
       "    }\n",
       "</style>\n",
       "<table border=\"1\" class=\"dataframe\">\n",
       "  <thead>\n",
       "    <tr style=\"text-align: right;\">\n",
       "      <th></th>\n",
       "      <th>timestamp</th>\n",
       "      <th>ccy</th>\n",
       "      <th>close</th>\n",
       "      <th>close_ret</th>\n",
       "    </tr>\n",
       "  </thead>\n",
       "  <tbody>\n",
       "    <tr>\n",
       "      <th>0</th>\n",
       "      <td>2019-01-01 17:12:00</td>\n",
       "      <td>audusd</td>\n",
       "      <td>0.70469</td>\n",
       "      <td>0.000028</td>\n",
       "    </tr>\n",
       "    <tr>\n",
       "      <th>1</th>\n",
       "      <td>2019-01-01 17:13:00</td>\n",
       "      <td>audusd</td>\n",
       "      <td>0.70467</td>\n",
       "      <td>0.000000</td>\n",
       "    </tr>\n",
       "    <tr>\n",
       "      <th>2</th>\n",
       "      <td>2019-01-01 17:14:00</td>\n",
       "      <td>audusd</td>\n",
       "      <td>0.70467</td>\n",
       "      <td>0.000057</td>\n",
       "    </tr>\n",
       "    <tr>\n",
       "      <th>3</th>\n",
       "      <td>2019-01-01 17:15:00</td>\n",
       "      <td>audusd</td>\n",
       "      <td>0.70463</td>\n",
       "      <td>-0.000028</td>\n",
       "    </tr>\n",
       "    <tr>\n",
       "      <th>4</th>\n",
       "      <td>2019-01-01 17:16:00</td>\n",
       "      <td>audusd</td>\n",
       "      <td>0.70465</td>\n",
       "      <td>-0.000014</td>\n",
       "    </tr>\n",
       "  </tbody>\n",
       "</table>\n",
       "</div>"
      ],
      "text/plain": [
       "            timestamp     ccy    close  close_ret\n",
       "0 2019-01-01 17:12:00  audusd  0.70469   0.000028\n",
       "1 2019-01-01 17:13:00  audusd  0.70467   0.000000\n",
       "2 2019-01-01 17:14:00  audusd  0.70467   0.000057\n",
       "3 2019-01-01 17:15:00  audusd  0.70463  -0.000028\n",
       "4 2019-01-01 17:16:00  audusd  0.70465  -0.000014"
      ]
     },
     "execution_count": 40,
     "metadata": {},
     "output_type": "execute_result"
    }
   ],
   "source": [
    "X.head()"
   ]
  },
  {
   "cell_type": "markdown",
   "metadata": {},
   "source": [
    "## 2.9 Let's plot for a visual check."
   ]
  },
  {
   "cell_type": "code",
   "execution_count": 41,
   "metadata": {
    "ExecuteTime": {
     "end_time": "2019-11-30T01:02:42.074656Z",
     "start_time": "2019-11-30T01:02:42.062839Z"
    }
   },
   "outputs": [],
   "source": [
    "# Code: https://stackoverflow.com/questions/11640243/pandas-plot-multiple-y-axes\n",
    "def plot_multi(data, cols=None, spacing=.1, **kwargs):\n",
    "\n",
    "    from pandas import plotting\n",
    "\n",
    "    # Get default color style from pandas - can be changed to any other color list\n",
    "    if cols is None: cols = data.columns\n",
    "    if len(cols) == 0: return\n",
    "    colors = getattr(getattr(plotting, '_matplotlib').style, '_get_standard_colors')(num_colors=len(cols))\n",
    "\n",
    "    # First axis\n",
    "    ax = data.loc[:, cols[0]].plot(label=cols[0], color=colors[0], **kwargs)\n",
    "    ax.set_ylabel(ylabel=cols[0])\n",
    "    ax.tick_params(axis='y', colors=colors[0])\n",
    "    lines, labels = ax.get_legend_handles_labels()\n",
    "\n",
    "    for n in range(1, len(cols)):\n",
    "        # Multiple y-axes\n",
    "        ax_new = ax.twinx()\n",
    "        ax_new.spines['right'].set_position(('axes', 1 + spacing * (n - 1)))\n",
    "        data.loc[:, cols[n]].plot(ax=ax_new, label=cols[n], color=colors[n % len(colors)])\n",
    "        ax_new.set_ylabel(ylabel=cols[n])\n",
    "        ax_new.tick_params(axis='y', colors=colors[n % len(colors)])\n",
    "\n",
    "        # Proper legend position\n",
    "        line, label = ax_new.get_legend_handles_labels()\n",
    "        lines += line\n",
    "        labels += label\n",
    "\n",
    "    ax.legend(lines, labels, loc=0)\n",
    "    return ax"
   ]
  },
  {
   "cell_type": "code",
   "execution_count": 42,
   "metadata": {
    "ExecuteTime": {
     "end_time": "2019-11-30T01:02:42.682284Z",
     "start_time": "2019-11-30T01:02:42.078845Z"
    }
   },
   "outputs": [],
   "source": [
    "close_dict = dict()\n",
    "for ccy in ccy_list:\n",
    "    close_dict[ccy] = X[X.ccy==ccy].close.reset_index(drop=True)\n",
    "X_close = pd.DataFrame(close_dict)"
   ]
  },
  {
   "cell_type": "code",
   "execution_count": 43,
   "metadata": {
    "ExecuteTime": {
     "end_time": "2019-11-30T01:02:42.698582Z",
     "start_time": "2019-11-30T01:02:42.684653Z"
    }
   },
   "outputs": [
    {
     "data": {
      "text/html": [
       "<div>\n",
       "<style scoped>\n",
       "    .dataframe tbody tr th:only-of-type {\n",
       "        vertical-align: middle;\n",
       "    }\n",
       "\n",
       "    .dataframe tbody tr th {\n",
       "        vertical-align: top;\n",
       "    }\n",
       "\n",
       "    .dataframe thead th {\n",
       "        text-align: right;\n",
       "    }\n",
       "</style>\n",
       "<table border=\"1\" class=\"dataframe\">\n",
       "  <thead>\n",
       "    <tr style=\"text-align: right;\">\n",
       "      <th></th>\n",
       "      <th>gbpusd</th>\n",
       "      <th>eurusd</th>\n",
       "      <th>chfusd</th>\n",
       "      <th>nokusd</th>\n",
       "      <th>sekusd</th>\n",
       "      <th>cadusd</th>\n",
       "      <th>audusd</th>\n",
       "      <th>nzdusd</th>\n",
       "      <th>jpyusd</th>\n",
       "    </tr>\n",
       "  </thead>\n",
       "  <tbody>\n",
       "    <tr>\n",
       "      <th>0</th>\n",
       "      <td>1.27294</td>\n",
       "      <td>1.14608</td>\n",
       "      <td>1.019389</td>\n",
       "      <td>0.115812</td>\n",
       "      <td>0.112896</td>\n",
       "      <td>0.733778</td>\n",
       "      <td>0.70469</td>\n",
       "      <td>0.67138</td>\n",
       "      <td>0.009120</td>\n",
       "    </tr>\n",
       "    <tr>\n",
       "      <th>1</th>\n",
       "      <td>1.27295</td>\n",
       "      <td>1.14607</td>\n",
       "      <td>1.019410</td>\n",
       "      <td>0.115812</td>\n",
       "      <td>0.112896</td>\n",
       "      <td>0.733918</td>\n",
       "      <td>0.70467</td>\n",
       "      <td>0.67138</td>\n",
       "      <td>0.009120</td>\n",
       "    </tr>\n",
       "    <tr>\n",
       "      <th>2</th>\n",
       "      <td>1.27277</td>\n",
       "      <td>1.14608</td>\n",
       "      <td>1.019929</td>\n",
       "      <td>0.115812</td>\n",
       "      <td>0.112896</td>\n",
       "      <td>0.733918</td>\n",
       "      <td>0.70467</td>\n",
       "      <td>0.67139</td>\n",
       "      <td>0.009122</td>\n",
       "    </tr>\n",
       "    <tr>\n",
       "      <th>3</th>\n",
       "      <td>1.27277</td>\n",
       "      <td>1.14607</td>\n",
       "      <td>1.019929</td>\n",
       "      <td>0.115812</td>\n",
       "      <td>0.112896</td>\n",
       "      <td>0.733918</td>\n",
       "      <td>0.70463</td>\n",
       "      <td>0.67137</td>\n",
       "      <td>0.009119</td>\n",
       "    </tr>\n",
       "    <tr>\n",
       "      <th>4</th>\n",
       "      <td>1.27277</td>\n",
       "      <td>1.14607</td>\n",
       "      <td>1.019940</td>\n",
       "      <td>0.115812</td>\n",
       "      <td>0.112896</td>\n",
       "      <td>0.733913</td>\n",
       "      <td>0.70465</td>\n",
       "      <td>0.67137</td>\n",
       "      <td>0.009119</td>\n",
       "    </tr>\n",
       "  </tbody>\n",
       "</table>\n",
       "</div>"
      ],
      "text/plain": [
       "    gbpusd   eurusd    chfusd    nokusd    sekusd    cadusd   audusd   nzdusd  \\\n",
       "0  1.27294  1.14608  1.019389  0.115812  0.112896  0.733778  0.70469  0.67138   \n",
       "1  1.27295  1.14607  1.019410  0.115812  0.112896  0.733918  0.70467  0.67138   \n",
       "2  1.27277  1.14608  1.019929  0.115812  0.112896  0.733918  0.70467  0.67139   \n",
       "3  1.27277  1.14607  1.019929  0.115812  0.112896  0.733918  0.70463  0.67137   \n",
       "4  1.27277  1.14607  1.019940  0.115812  0.112896  0.733913  0.70465  0.67137   \n",
       "\n",
       "     jpyusd  \n",
       "0  0.009120  \n",
       "1  0.009120  \n",
       "2  0.009122  \n",
       "3  0.009119  \n",
       "4  0.009119  "
      ]
     },
     "execution_count": 43,
     "metadata": {},
     "output_type": "execute_result"
    }
   ],
   "source": [
    "X_close.head()"
   ]
  },
  {
   "cell_type": "markdown",
   "metadata": {},
   "source": [
    "#### Close prices"
   ]
  },
  {
   "cell_type": "code",
   "execution_count": 44,
   "metadata": {
    "ExecuteTime": {
     "end_time": "2019-11-30T01:02:44.965999Z",
     "start_time": "2019-11-30T01:02:42.701038Z"
    },
    "scrolled": true
   },
   "outputs": [
    {
     "data": {
      "text/plain": [
       "<matplotlib.axes._subplots.AxesSubplot at 0x123ef6390>"
      ]
     },
     "execution_count": 44,
     "metadata": {},
     "output_type": "execute_result"
    },
    {
     "data": {
      "image/png": "[encoded data removed]",
      "text/plain": [
       "<Figure size 720x360 with 9 Axes>"
      ]
     },
     "metadata": {},
     "output_type": "display_data"
    }
   ],
   "source": [
    "plot_multi(X_close, figsize=(10, 5))"
   ]
  },
  {
   "cell_type": "markdown",
   "metadata": {},
   "source": [
    "#### Ask prices"
   ]
  },
  {
   "cell_type": "code",
   "execution_count": null,
   "metadata": {},
   "outputs": [],
   "source": []
  },
  {
   "cell_type": "markdown",
   "metadata": {},
   "source": [
    "# 3. Data set `X` is ready"
   ]
  },
  {
   "cell_type": "markdown",
   "metadata": {},
   "source": [
    "## 3.1 Take a look"
   ]
  },
  {
   "cell_type": "code",
   "execution_count": 45,
   "metadata": {
    "ExecuteTime": {
     "end_time": "2019-11-30T01:02:44.972307Z",
     "start_time": "2019-11-30T01:02:44.968067Z"
    }
   },
   "outputs": [
    {
     "data": {
      "text/plain": [
       "(1397285, 4)"
      ]
     },
     "execution_count": 45,
     "metadata": {},
     "output_type": "execute_result"
    }
   ],
   "source": [
    "X.shape"
   ]
  },
  {
   "cell_type": "code",
   "execution_count": 46,
   "metadata": {
    "ExecuteTime": {
     "end_time": "2019-11-30T01:02:45.056526Z",
     "start_time": "2019-11-30T01:02:44.974588Z"
    }
   },
   "outputs": [
    {
     "data": {
      "text/html": [
       "<div>\n",
       "<style scoped>\n",
       "    .dataframe tbody tr th:only-of-type {\n",
       "        vertical-align: middle;\n",
       "    }\n",
       "\n",
       "    .dataframe tbody tr th {\n",
       "        vertical-align: top;\n",
       "    }\n",
       "\n",
       "    .dataframe thead th {\n",
       "        text-align: right;\n",
       "    }\n",
       "</style>\n",
       "<table border=\"1\" class=\"dataframe\">\n",
       "  <thead>\n",
       "    <tr style=\"text-align: right;\">\n",
       "      <th></th>\n",
       "      <th>timestamp</th>\n",
       "      <th>ccy</th>\n",
       "      <th>close</th>\n",
       "      <th>close_ret</th>\n",
       "    </tr>\n",
       "  </thead>\n",
       "  <tbody>\n",
       "    <tr>\n",
       "      <th>1120994</th>\n",
       "      <td>2019-02-04 11:36:00</td>\n",
       "      <td>nokusd</td>\n",
       "      <td>0.117955</td>\n",
       "      <td>0.000160</td>\n",
       "    </tr>\n",
       "    <tr>\n",
       "      <th>299960</th>\n",
       "      <td>2019-05-22 06:12:00</td>\n",
       "      <td>eurusd</td>\n",
       "      <td>1.117030</td>\n",
       "      <td>-0.000009</td>\n",
       "    </tr>\n",
       "    <tr>\n",
       "      <th>942867</th>\n",
       "      <td>2019-01-11 14:15:00</td>\n",
       "      <td>jpyusd</td>\n",
       "      <td>0.009219</td>\n",
       "      <td>-0.000018</td>\n",
       "    </tr>\n",
       "    <tr>\n",
       "      <th>418089</th>\n",
       "      <td>2019-04-16 11:25:00</td>\n",
       "      <td>gbpusd</td>\n",
       "      <td>1.304910</td>\n",
       "      <td>-0.000222</td>\n",
       "    </tr>\n",
       "    <tr>\n",
       "      <th>537647</th>\n",
       "      <td>2019-03-12 14:27:00</td>\n",
       "      <td>nzdusd</td>\n",
       "      <td>0.687030</td>\n",
       "      <td>0.000131</td>\n",
       "    </tr>\n",
       "  </tbody>\n",
       "</table>\n",
       "</div>"
      ],
      "text/plain": [
       "                  timestamp     ccy     close  close_ret\n",
       "1120994 2019-02-04 11:36:00  nokusd  0.117955   0.000160\n",
       "299960  2019-05-22 06:12:00  eurusd  1.117030  -0.000009\n",
       "942867  2019-01-11 14:15:00  jpyusd  0.009219  -0.000018\n",
       "418089  2019-04-16 11:25:00  gbpusd  1.304910  -0.000222\n",
       "537647  2019-03-12 14:27:00  nzdusd  0.687030   0.000131"
      ]
     },
     "execution_count": 46,
     "metadata": {},
     "output_type": "execute_result"
    }
   ],
   "source": [
    "X.sample(5)"
   ]
  },
  {
   "cell_type": "code",
   "execution_count": 47,
   "metadata": {
    "ExecuteTime": {
     "end_time": "2019-11-30T01:02:45.135826Z",
     "start_time": "2019-11-30T01:02:45.058968Z"
    }
   },
   "outputs": [
    {
     "data": {
      "text/html": [
       "<div>\n",
       "<style scoped>\n",
       "    .dataframe tbody tr th:only-of-type {\n",
       "        vertical-align: middle;\n",
       "    }\n",
       "\n",
       "    .dataframe tbody tr th {\n",
       "        vertical-align: top;\n",
       "    }\n",
       "\n",
       "    .dataframe thead th {\n",
       "        text-align: right;\n",
       "    }\n",
       "</style>\n",
       "<table border=\"1\" class=\"dataframe\">\n",
       "  <thead>\n",
       "    <tr style=\"text-align: right;\">\n",
       "      <th></th>\n",
       "      <th>timestamp</th>\n",
       "      <th>ccy</th>\n",
       "      <th>close</th>\n",
       "      <th>close_ret</th>\n",
       "    </tr>\n",
       "  </thead>\n",
       "  <tbody>\n",
       "  </tbody>\n",
       "</table>\n",
       "</div>"
      ],
      "text/plain": [
       "Empty DataFrame\n",
       "Columns: [timestamp, ccy, close, close_ret]\n",
       "Index: []"
      ]
     },
     "execution_count": 47,
     "metadata": {},
     "output_type": "execute_result"
    }
   ],
   "source": [
    "X[X.ccy=='usdgbp'].head(5)"
   ]
  },
  {
   "cell_type": "markdown",
   "metadata": {},
   "source": [
    "## Split: Training set and Validation set(=evaluation set)\n",
    "- Training set `X_train`: The first two and a half weeks (From May 1, 2019 to May 19, 2019)\n",
    "- Validation set `X_val`: The following one week (From May 20, 2019 to May 26, 2019)\n",
    "- Test set `X_test`: The rest of days (From May 27, 2019 to May 31, 2019)\n",
    "  - In fact, we never create `X_test` until the very last moment."
   ]
  },
  {
   "cell_type": "code",
   "execution_count": 48,
   "metadata": {
    "ExecuteTime": {
     "end_time": "2019-11-30T01:02:45.214998Z",
     "start_time": "2019-11-30T01:02:45.138230Z"
    }
   },
   "outputs": [],
   "source": [
    "X_train = X[(X.timestamp >= pd.datetime(2019, 1, 1)) &\n",
    "            (X.timestamp < pd.datetime(2019, 4, 1))]\n",
    "X_val = X[(X.timestamp >= pd.datetime(2019, 4, 1)) &\n",
    "          (X.timestamp < pd.datetime(2019, 5, 1))]"
   ]
  },
  {
   "cell_type": "code",
   "execution_count": 49,
   "metadata": {
    "ExecuteTime": {
     "end_time": "2019-11-30T01:02:45.340661Z",
     "start_time": "2019-11-30T01:02:45.217563Z"
    }
   },
   "outputs": [
    {
     "name": "stderr",
     "output_type": "stream",
     "text": [
      "/Users/msyeom/anaconda3/envs/dl/lib/python3.6/site-packages/pandas/core/frame.py:4097: SettingWithCopyWarning: \n",
      "A value is trying to be set on a copy of a slice from a DataFrame\n",
      "\n",
      "See the caveats in the documentation: http://pandas.pydata.org/pandas-docs/stable/user_guide/indexing.html#returning-a-view-versus-a-copy\n",
      "  errors=errors,\n"
     ]
    }
   ],
   "source": [
    "X.drop(X[(X.timestamp >= pd.datetime(2019, 5, 27)) & (\n",
    "    X.timestamp < pd.datetime(2019, 6, 1))].index, inplace=True)"
   ]
  },
  {
   "cell_type": "code",
   "execution_count": 50,
   "metadata": {
    "ExecuteTime": {
     "end_time": "2019-11-30T01:02:45.354086Z",
     "start_time": "2019-11-30T01:02:45.343844Z"
    },
    "scrolled": true
   },
   "outputs": [
    {
     "data": {
      "text/html": [
       "<div>\n",
       "<style scoped>\n",
       "    .dataframe tbody tr th:only-of-type {\n",
       "        vertical-align: middle;\n",
       "    }\n",
       "\n",
       "    .dataframe tbody tr th {\n",
       "        vertical-align: top;\n",
       "    }\n",
       "\n",
       "    .dataframe thead th {\n",
       "        text-align: right;\n",
       "    }\n",
       "</style>\n",
       "<table border=\"1\" class=\"dataframe\">\n",
       "  <thead>\n",
       "    <tr style=\"text-align: right;\">\n",
       "      <th></th>\n",
       "      <th>timestamp</th>\n",
       "      <th>ccy</th>\n",
       "      <th>close</th>\n",
       "      <th>close_ret</th>\n",
       "    </tr>\n",
       "  </thead>\n",
       "  <tbody>\n",
       "    <tr>\n",
       "      <th>1390502</th>\n",
       "      <td>2019-05-26 23:55:00</td>\n",
       "      <td>sekusd</td>\n",
       "      <td>0.104943</td>\n",
       "      <td>0.0</td>\n",
       "    </tr>\n",
       "    <tr>\n",
       "      <th>1390503</th>\n",
       "      <td>2019-05-26 23:56:00</td>\n",
       "      <td>sekusd</td>\n",
       "      <td>0.104943</td>\n",
       "      <td>0.0</td>\n",
       "    </tr>\n",
       "    <tr>\n",
       "      <th>1390504</th>\n",
       "      <td>2019-05-26 23:57:00</td>\n",
       "      <td>sekusd</td>\n",
       "      <td>0.104943</td>\n",
       "      <td>0.0</td>\n",
       "    </tr>\n",
       "    <tr>\n",
       "      <th>1390505</th>\n",
       "      <td>2019-05-26 23:58:00</td>\n",
       "      <td>sekusd</td>\n",
       "      <td>0.104943</td>\n",
       "      <td>0.0</td>\n",
       "    </tr>\n",
       "    <tr>\n",
       "      <th>1390506</th>\n",
       "      <td>2019-05-26 23:59:00</td>\n",
       "      <td>sekusd</td>\n",
       "      <td>0.104943</td>\n",
       "      <td>0.0</td>\n",
       "    </tr>\n",
       "  </tbody>\n",
       "</table>\n",
       "</div>"
      ],
      "text/plain": [
       "                  timestamp     ccy     close  close_ret\n",
       "1390502 2019-05-26 23:55:00  sekusd  0.104943        0.0\n",
       "1390503 2019-05-26 23:56:00  sekusd  0.104943        0.0\n",
       "1390504 2019-05-26 23:57:00  sekusd  0.104943        0.0\n",
       "1390505 2019-05-26 23:58:00  sekusd  0.104943        0.0\n",
       "1390506 2019-05-26 23:59:00  sekusd  0.104943        0.0"
      ]
     },
     "execution_count": 50,
     "metadata": {},
     "output_type": "execute_result"
    }
   ],
   "source": [
    "X.tail()"
   ]
  },
  {
   "cell_type": "markdown",
   "metadata": {},
   "source": [
    "## 3.2 Save to csv files"
   ]
  },
  {
   "cell_type": "code",
   "execution_count": 51,
   "metadata": {
    "ExecuteTime": {
     "end_time": "2019-11-30T01:02:51.619805Z",
     "start_time": "2019-11-30T01:02:45.356483Z"
    }
   },
   "outputs": [],
   "source": [
    "X_train.to_csv('../dataset/toy_X_train_close.csv', index=False)\n",
    "X_val.to_csv('../dataset/toy_X_val_close.csv', index=False)"
   ]
  },
  {
   "cell_type": "markdown",
   "metadata": {},
   "source": [
    "### The end of preprocessing ------------------------------------------------"
   ]
  },
  {
   "cell_type": "code",
   "execution_count": 52,
   "metadata": {
    "ExecuteTime": {
     "end_time": "2019-11-30T01:02:51.751429Z",
     "start_time": "2019-11-30T01:02:51.622556Z"
    }
   },
   "outputs": [
    {
     "data": {
      "text/plain": [
       "((0, 4), (91057, 4), (91057, 4))"
      ]
     },
     "execution_count": 52,
     "metadata": {},
     "output_type": "execute_result"
    }
   ],
   "source": [
    "X_train[X_train.ccy=='usdjpy'].shape, X_train[X_train.ccy=='eurusd'].shape, X_train[X_train.ccy=='gbpusd'].shape"
   ]
  },
  {
   "cell_type": "code",
   "execution_count": 53,
   "metadata": {
    "ExecuteTime": {
     "end_time": "2019-11-30T01:02:51.757661Z",
     "start_time": "2019-11-30T01:02:51.753658Z"
    }
   },
   "outputs": [
    {
     "data": {
      "text/plain": [
       "62.36780821917808"
      ]
     },
     "execution_count": 53,
     "metadata": {},
     "output_type": "execute_result"
    }
   ],
   "source": [
    "91057/1460"
   ]
  },
  {
   "cell_type": "code",
   "execution_count": null,
   "metadata": {},
   "outputs": [],
   "source": []
  },
  {
   "cell_type": "markdown",
   "metadata": {},
   "source": [
    "# Dat2019/DRL/run.py"
   ]
  },
  {
   "cell_type": "markdown",
   "metadata": {},
   "source": [
    "#### Import required packages"
   ]
  },
  {
   "cell_type": "code",
   "execution_count": 54,
   "metadata": {
    "ExecuteTime": {
     "end_time": "2019-11-30T01:02:54.861943Z",
     "start_time": "2019-11-30T01:02:51.760665Z"
    }
   },
   "outputs": [],
   "source": [
    "from __future__ import absolute_import, division, print_function, unicode_literals\n",
    "\n",
    "import numpy as np\n",
    "\n",
    "# utils\n",
    "import time\n",
    "\n",
    "# TensorFlow\n",
    "import tensorflow as tf\n",
    "import tensorflow.keras.optimizers as kop\n",
    "import tensorflow.keras.losses as kls\n",
    "from tensorflow.keras.layers import Dense\n",
    "from tensorflow.keras import Model"
   ]
  },
  {
   "cell_type": "markdown",
   "metadata": {},
   "source": [
    "#### Import our packages"
   ]
  },
  {
   "cell_type": "code",
   "execution_count": 55,
   "metadata": {
    "ExecuteTime": {
     "end_time": "2019-11-30T01:02:55.431794Z",
     "start_time": "2019-11-30T01:02:54.864433Z"
    }
   },
   "outputs": [
    {
     "ename": "ModuleNotFoundError",
     "evalue": "No module named 'features'",
     "output_type": "error",
     "traceback": [
      "\u001b[0;31m---------------------------------------------------------------------------\u001b[0m",
      "\u001b[0;31mModuleNotFoundError\u001b[0m                       Traceback (most recent call last)",
      "\u001b[0;32m<ipython-input-55-b215a1403423>\u001b[0m in \u001b[0;36m<module>\u001b[0;34m\u001b[0m\n\u001b[0;32m----> 1\u001b[0;31m \u001b[0;32mfrom\u001b[0m \u001b[0mfeatures\u001b[0m \u001b[0;32mimport\u001b[0m \u001b[0mdraw_episode\u001b[0m\u001b[0;34m\u001b[0m\u001b[0m\n\u001b[0m",
      "\u001b[0;31mModuleNotFoundError\u001b[0m: No module named 'features'"
     ]
    }
   ],
   "source": [
    "from features import draw_episode"
   ]
  },
  {
   "cell_type": "markdown",
   "metadata": {},
   "source": [
    "#### Configuration\n",
    "- *Json* format or something else will be used later, but for now..."
   ]
  },
  {
   "cell_type": "code",
   "execution_count": null,
   "metadata": {
    "ExecuteTime": {
     "end_time": "2019-11-30T01:02:55.440367Z",
     "start_time": "2019-11-30T00:59:45.178Z"
    }
   },
   "outputs": [],
   "source": [
    "config = {}\n",
    "config['lag'] = 20\n",
    "config['ep_size'] = 100\n",
    "config['init_lr'] = 0.005\n",
    "config['momentum'] = 0.9\n",
    "config['num_of_eval_data'] = 30\n",
    "config['target_currency'] = 'audusd'\n",
    "config['epochs'] = 100\n",
    "config['timespan'] = 1440   # one full day (1440 minutes)\n",
    "\n",
    "tf.keras.backend.set_floatx('float64')"
   ]
  },
  {
   "cell_type": "code",
   "execution_count": null,
   "metadata": {
    "ExecuteTime": {
     "end_time": "2019-11-30T01:02:55.442084Z",
     "start_time": "2019-11-30T00:59:45.181Z"
    }
   },
   "outputs": [],
   "source": [
    "class Policy(Model):\n",
    "    def __init__(self):\n",
    "        super(Policy, self).__init__('mlp_policy')\n",
    "        self.fc1 = Dense(units=256, activation='relu')\n",
    "        self.fc2 = Dense(units=64, activation='relu')\n",
    "        self.value = Dense(1, activation='tanh', name='value')\n",
    "        \n",
    "        self.saved_log_probs = []\n",
    "        self.rewards = 0\n",
    "#         self.actions = []\n",
    "        \n",
    "    def call(self, inputs):\n",
    "        # `inputs` is a numpy array. We convert to Tensor.\n",
    "        x = tf.convert_to_tensor(inputs)\n",
    "        \n",
    "        x = self.fc1(x)\n",
    "        x = self.fc2(x)\n",
    "        x = self.value(x)\n",
    "        \n",
    "        return x\n",
    "    \n",
    "#     def choose_action(self, obs):\n",
    "#         # self.call() will be executed under the hool.\n",
    "#         value = self.predict(obs)\n",
    "        \n",
    "#         return np.squeeze(value, axis=-1)"
   ]
  },
  {
   "cell_type": "code",
   "execution_count": null,
   "metadata": {
    "ExecuteTime": {
     "end_time": "2019-11-30T01:02:55.443642Z",
     "start_time": "2019-11-30T00:59:45.184Z"
    }
   },
   "outputs": [],
   "source": [
    "policy = Policy()"
   ]
  },
  {
   "cell_type": "code",
   "execution_count": null,
   "metadata": {
    "ExecuteTime": {
     "end_time": "2019-11-30T01:02:55.445446Z",
     "start_time": "2019-11-30T00:59:45.187Z"
    }
   },
   "outputs": [],
   "source": [
    "def train_eval():\n",
    "    # We use an optimizer defined in Keras (kop)\n",
    "    optimizer = kop.SGD(\n",
    "        learning_rate=config['init_lr'], momentum=config['momentum'], name='SGD')\n",
    "\n",
    "    # Machine limits for floating point types.\n",
    "    eps = np.finfo(np.float64).eps.item()\n",
    "    rewards_over_time = []\n",
    "\n",
    "    num_of_eval_data = config['num_of_eval_data']\n",
    "    path = './base/best_model_' + \\\n",
    "        config['target_currency'] + str(time.time()) + '.tf'\n",
    "\n",
    "    for epoch in range(config['epochs']):\n",
    "        for ep_idx in range(config['ep_size']):\n",
    "            prev_action = 0\n",
    "            # n is `n-th` episode\n",
    "            # ep_size is a length of one episode.\n",
    "            # in draw_episode(), X[n:n+ep_size+1] will be used.\n",
    "            \n",
    "            # For a lag of 20,\n",
    "            # feature_span[0] := [20 target's log return(bid prices),\n",
    "            #                     20 target's log return(ask prices),\n",
    "            #                     8*20 others' log return(bid prices),\n",
    "            #                     8*20 others' log return(ask prices)]\n",
    "            #     at the oldest time stamp.\n",
    "            # (feature_span[-1] has features at the latest)\n",
    "            # Features are nomalized within draw_episode()\n",
    "            target_bid, target_ask, feature_span = \\\n",
    "                draw_episode(X=X_train, cur=config['target_currency'],\n",
    "                             n=ep_idx, ep_size=config['ep_size'],\n",
    "                             lag=config['lag'])\n",
    "            bid, ask, features = target_bid[config['lag']:] * 1e3, \\\n",
    "                            target_ask[config['lag']:]*1e3, \\\n",
    "                            feature_span\n",
    "            \n",
    "            # We loop through time stamps in order within an episode.\n",
    "            for t in range(config['timespan']):\n",
    "                observation = feature_span[t]\n",
    "                \n",
    "                # The neural networks returns an action-like value\n",
    "                # `state` is a numpy array.\n",
    "                action_by_nets = policy(observation)\n",
    "                \n",
    "                # An actual action to take should effectively cause a trade.\n",
    "                # Therefore, we subtract `prev_action_by_nets`\n",
    "                # from `action_by_nets` and take it as our `action`\n",
    "                action = action_by_nets - prev_action\n",
    "                print(action, action.shape)\n",
    "                price = 0\n",
    "                if action > 0:\n",
    "                    price = ask[t]  # We buy\n",
    "                elif action < 0:\n",
    "                    price = bid[t]  # We sell\n",
    "                \n",
    "                # This is an immediate reward caused by taking an action\n",
    "                reward = tf.math.add(-1*action*price)\n",
    "                \n",
    "                # Accumulated rewards\n",
    "                policy.rewards += reward\n",
    "                \n",
    "                prev_action = action_by_nets\n",
    "            \n",
    "            # Now that we've completed one episode,\n",
    "            # we optimize the neural nets.\n",
    "            losses = policy.train_on_batch(-policy.rewards / config['timespan'])\n",
    "#             with tf.GradientTape() as tape:\n",
    "#                 loss = -policy.rewards / config['timespan']\n",
    "#             grads = tape.gradient(loss, policy.trainable_variables)\n",
    "#             optimizer.apply_gradient(zip(grads, model.trainable_variables))\n",
    "            \n",
    "            if ep_idx % 10 == 0:\n",
    "                logger.info('Epoch:{} Episode:{}. The training loss is {}'.format(epoch, ep_idx, loss.item()))\n",
    "            \n",
    "            policy.rewards = 0"
   ]
  },
  {
   "cell_type": "code",
   "execution_count": null,
   "metadata": {
    "ExecuteTime": {
     "end_time": "2019-11-30T01:02:55.447071Z",
     "start_time": "2019-11-30T00:59:45.191Z"
    }
   },
   "outputs": [],
   "source": [
    "train_eval()"
   ]
  },
  {
   "cell_type": "markdown",
   "metadata": {},
   "source": [
    "# environment.py"
   ]
  },
  {
   "cell_type": "code",
   "execution_count": null,
   "metadata": {
    "ExecuteTime": {
     "end_time": "2019-11-30T01:02:55.449254Z",
     "start_time": "2019-11-30T00:59:45.194Z"
    }
   },
   "outputs": [],
   "source": [
    "import numpy as np\n",
    "import pandas as pd"
   ]
  },
  {
   "cell_type": "code",
   "execution_count": null,
   "metadata": {
    "ExecuteTime": {
     "end_time": "2019-11-30T01:02:55.451276Z",
     "start_time": "2019-11-30T00:59:45.198Z"
    }
   },
   "outputs": [],
   "source": [
    "class ForexEnv(object):\n",
    "    '''\n",
    "    Observation:\n",
    "        self.timestamp\n",
    "        self.state =   3 (the day of the week, hour, minute) +\n",
    "                       3 (the previous position; {-1, 0, 1}) + \n",
    "                      20 (the 10-minute bid and ask prices of the target currency) +\n",
    "                      80 (the 10-minute mid prices of the rest of 8 currency pairs)\n",
    "                   = 106 (total)\n",
    "        self.price_record: bid and ask prices of the target currency\n",
    "        \n",
    "    Actions:\n",
    "        -1: short 100%\n",
    "         0: take a neutral position (no action) and 0 reward. \n",
    "        +1: long 100%\n",
    "        \n",
    "    Starting State:\n",
    "        random start within training set.\n",
    "        i.e., we pick an arbitrary number and take it as index to start with.                 \n",
    "    '''\n",
    "    \n",
    "    def __init__(self, cur='audusd', lag=10, min_history=1440, mode='train'):\n",
    "        self.ccy = cur\n",
    "        self.lag = lag\n",
    "        self.min_history = min_history\n",
    "        self.index = None\n",
    "        self.state = None\n",
    "        self.price_record = None\n",
    "        self.X_train = X_train\n",
    "        self.X_val = X.val\n",
    "        self.trainframe = self.X_train.index.values.tolist()\n",
    "        self.valframe = self.X_val.index.values.tolist()\n",
    "        self.train = self.trainframe[:-self.min_history]\n",
    "        self.val = self.valframe[:-self.min_history]\n",
    "        self.mode = mode"
   ]
  },
  {
   "cell_type": "code",
   "execution_count": null,
   "metadata": {},
   "outputs": [],
   "source": []
  },
  {
   "cell_type": "code",
   "execution_count": null,
   "metadata": {},
   "outputs": [],
   "source": []
  },
  {
   "cell_type": "code",
   "execution_count": null,
   "metadata": {},
   "outputs": [],
   "source": []
  },
  {
   "cell_type": "markdown",
   "metadata": {},
   "source": [
    "# experiment.py"
   ]
  },
  {
   "cell_type": "code",
   "execution_count": null,
   "metadata": {
    "ExecuteTime": {
     "end_time": "2019-11-30T01:02:55.453377Z",
     "start_time": "2019-11-30T00:59:45.209Z"
    }
   },
   "outputs": [],
   "source": [
    "import numpy as np\n",
    "\n",
    "import time"
   ]
  },
  {
   "cell_type": "code",
   "execution_count": null,
   "metadata": {
    "ExecuteTime": {
     "end_time": "2019-11-30T01:02:55.455150Z",
     "start_time": "2019-11-30T00:59:45.211Z"
    }
   },
   "outputs": [],
   "source": [
    "cur ='eurusd'\n",
    "reward_path = './results/rewards/' + cur + time.strftime(\"%Y%m%d-%H%M%S\") + '/'\n",
    "agent_path = './results/agents/' + cur + time.strftime(\"%Y%m%d-%H%M%S\") + '/'\n",
    "\n",
    "if not os.path.exists(reward_path):\n",
    "    os.makedirs(reward_path)\n",
    "if not os.path.exists(agent_path):\n",
    "    os.makedirs(agent_path)\n"
   ]
  },
  {
   "cell_type": "code",
   "execution_count": null,
   "metadata": {},
   "outputs": [],
   "source": []
  },
  {
   "cell_type": "code",
   "execution_count": null,
   "metadata": {},
   "outputs": [],
   "source": []
  },
  {
   "cell_type": "code",
   "execution_count": null,
   "metadata": {
    "ExecuteTime": {
     "end_time": "2019-11-30T01:02:55.457034Z",
     "start_time": "2019-11-30T00:59:45.220Z"
    }
   },
   "outputs": [],
   "source": [
    "X_train.iloc[10:15]"
   ]
  },
  {
   "cell_type": "code",
   "execution_count": null,
   "metadata": {
    "ExecuteTime": {
     "end_time": "2019-11-30T01:02:55.458783Z",
     "start_time": "2019-11-30T00:59:45.222Z"
    }
   },
   "outputs": [],
   "source": [
    "from naive_drl.features import draw_episode"
   ]
  },
  {
   "cell_type": "code",
   "execution_count": null,
   "metadata": {
    "ExecuteTime": {
     "end_time": "2019-11-30T01:02:55.460777Z",
     "start_time": "2019-11-30T00:59:45.225Z"
    }
   },
   "outputs": [],
   "source": [
    "X_train.shape"
   ]
  },
  {
   "cell_type": "code",
   "execution_count": null,
   "metadata": {
    "ExecuteTime": {
     "end_time": "2019-11-30T01:02:55.462743Z",
     "start_time": "2019-11-30T00:59:45.229Z"
    }
   },
   "outputs": [],
   "source": [
    "ts = X_train.loc[:, 'timestamp'].unique()\n",
    "ccy = X_train.loc[:, 'ccy'].unique()"
   ]
  },
  {
   "cell_type": "code",
   "execution_count": null,
   "metadata": {
    "ExecuteTime": {
     "end_time": "2019-11-30T01:02:55.464655Z",
     "start_time": "2019-11-30T00:59:45.231Z"
    }
   },
   "outputs": [],
   "source": [
    "target_bid, target_ask, features = draw_episode(\n",
    "    X, cur='audusd', n=0, split_sz=200, lag=10, ts=ts, ccy=ccy)"
   ]
  },
  {
   "cell_type": "code",
   "execution_count": null,
   "metadata": {
    "ExecuteTime": {
     "end_time": "2019-11-30T01:02:55.466208Z",
     "start_time": "2019-11-30T00:59:45.234Z"
    }
   },
   "outputs": [],
   "source": [
    "X_train[X_train.ccy=='audusd'].head()"
   ]
  },
  {
   "cell_type": "code",
   "execution_count": null,
   "metadata": {
    "ExecuteTime": {
     "end_time": "2019-11-30T01:02:55.468326Z",
     "start_time": "2019-11-30T00:59:45.237Z"
    }
   },
   "outputs": [],
   "source": [
    "target_bid"
   ]
  },
  {
   "cell_type": "code",
   "execution_count": null,
   "metadata": {
    "ExecuteTime": {
     "end_time": "2019-11-30T01:02:55.472730Z",
     "start_time": "2019-11-30T00:59:45.240Z"
    }
   },
   "outputs": [],
   "source": [
    "target_ask"
   ]
  },
  {
   "cell_type": "code",
   "execution_count": null,
   "metadata": {
    "ExecuteTime": {
     "end_time": "2019-11-30T01:02:55.475410Z",
     "start_time": "2019-11-30T00:59:45.244Z"
    }
   },
   "outputs": [],
   "source": [
    "features.shape"
   ]
  },
  {
   "cell_type": "code",
   "execution_count": null,
   "metadata": {
    "ExecuteTime": {
     "end_time": "2019-11-30T01:02:55.477594Z",
     "start_time": "2019-11-30T00:59:45.247Z"
    }
   },
   "outputs": [],
   "source": [
    "features.shape"
   ]
  },
  {
   "cell_type": "code",
   "execution_count": null,
   "metadata": {},
   "outputs": [],
   "source": []
  },
  {
   "cell_type": "code",
   "execution_count": null,
   "metadata": {},
   "outputs": [],
   "source": []
  },
  {
   "cell_type": "code",
   "execution_count": null,
   "metadata": {},
   "outputs": [],
   "source": []
  },
  {
   "cell_type": "code",
   "execution_count": null,
   "metadata": {},
   "outputs": [],
   "source": []
  },
  {
   "cell_type": "code",
   "execution_count": null,
   "metadata": {
    "ExecuteTime": {
     "end_time": "2019-11-30T01:02:55.479838Z",
     "start_time": "2019-11-30T00:59:45.257Z"
    }
   },
   "outputs": [],
   "source": [
    "target_bid.shape"
   ]
  },
  {
   "cell_type": "code",
   "execution_count": null,
   "metadata": {
    "ExecuteTime": {
     "end_time": "2019-11-30T01:02:55.481982Z",
     "start_time": "2019-11-30T00:59:45.261Z"
    }
   },
   "outputs": [],
   "source": [
    "target_ask"
   ]
  },
  {
   "cell_type": "code",
   "execution_count": null,
   "metadata": {
    "ExecuteTime": {
     "end_time": "2019-11-30T01:02:55.486487Z",
     "start_time": "2019-11-30T00:59:45.263Z"
    }
   },
   "outputs": [],
   "source": [
    "target_ask.shape"
   ]
  },
  {
   "cell_type": "code",
   "execution_count": null,
   "metadata": {
    "ExecuteTime": {
     "end_time": "2019-11-30T01:02:55.489715Z",
     "start_time": "2019-11-30T00:59:45.267Z"
    }
   },
   "outputs": [],
   "source": [
    "features[0]"
   ]
  },
  {
   "cell_type": "code",
   "execution_count": null,
   "metadata": {
    "ExecuteTime": {
     "end_time": "2019-11-30T01:02:55.492187Z",
     "start_time": "2019-11-30T00:59:45.269Z"
    }
   },
   "outputs": [],
   "source": [
    "X_train"
   ]
  },
  {
   "cell_type": "code",
   "execution_count": null,
   "metadata": {
    "ExecuteTime": {
     "end_time": "2019-11-30T01:02:55.494649Z",
     "start_time": "2019-11-30T00:59:45.273Z"
    }
   },
   "outputs": [],
   "source": [
    "features.shape"
   ]
  },
  {
   "cell_type": "code",
   "execution_count": null,
   "metadata": {
    "ExecuteTime": {
     "end_time": "2019-11-30T01:02:55.497389Z",
     "start_time": "2019-11-30T00:59:45.276Z"
    }
   },
   "outputs": [],
   "source": [
    "features[0]"
   ]
  },
  {
   "cell_type": "code",
   "execution_count": null,
   "metadata": {
    "ExecuteTime": {
     "end_time": "2019-11-30T01:02:55.499692Z",
     "start_time": "2019-11-30T00:59:45.278Z"
    }
   },
   "outputs": [],
   "source": [
    "features[0].shape"
   ]
  },
  {
   "cell_type": "code",
   "execution_count": null,
   "metadata": {
    "ExecuteTime": {
     "end_time": "2019-11-30T01:02:55.502173Z",
     "start_time": "2019-11-30T00:59:45.280Z"
    }
   },
   "outputs": [],
   "source": [
    "len(features)"
   ]
  },
  {
   "cell_type": "code",
   "execution_count": null,
   "metadata": {
    "ExecuteTime": {
     "end_time": "2019-11-30T01:02:55.504645Z",
     "start_time": "2019-11-30T00:59:45.284Z"
    }
   },
   "outputs": [],
   "source": [
    "np.empty(len(features))"
   ]
  },
  {
   "cell_type": "code",
   "execution_count": null,
   "metadata": {
    "ExecuteTime": {
     "end_time": "2019-11-30T01:02:55.507009Z",
     "start_time": "2019-11-30T00:59:45.287Z"
    }
   },
   "outputs": [],
   "source": [
    "features.shape[1]"
   ]
  },
  {
   "cell_type": "code",
   "execution_count": null,
   "metadata": {
    "ExecuteTime": {
     "end_time": "2019-11-30T01:02:55.509481Z",
     "start_time": "2019-11-30T00:59:45.291Z"
    }
   },
   "outputs": [],
   "source": [
    "df['eurusd']"
   ]
  },
  {
   "cell_type": "code",
   "execution_count": null,
   "metadata": {
    "ExecuteTime": {
     "end_time": "2019-11-30T01:02:55.512055Z",
     "start_time": "2019-11-30T00:59:45.293Z"
    }
   },
   "outputs": [],
   "source": [
    "np.min([df[key].shape[0] for key in df.keys()])"
   ]
  },
  {
   "cell_type": "code",
   "execution_count": null,
   "metadata": {
    "ExecuteTime": {
     "end_time": "2019-11-30T01:02:55.514218Z",
     "start_time": "2019-11-30T00:59:45.297Z"
    }
   },
   "outputs": [],
   "source": [
    "features.shape"
   ]
  },
  {
   "cell_type": "code",
   "execution_count": null,
   "metadata": {
    "ExecuteTime": {
     "end_time": "2019-11-30T01:02:55.515913Z",
     "start_time": "2019-11-30T00:59:45.300Z"
    }
   },
   "outputs": [],
   "source": [
    "import tensorflow as tf\n",
    "tf.TypeSpec"
   ]
  },
  {
   "cell_type": "code",
   "execution_count": null,
   "metadata": {
    "ExecuteTime": {
     "end_time": "2019-11-30T01:02:55.517908Z",
     "start_time": "2019-11-30T00:59:45.304Z"
    }
   },
   "outputs": [],
   "source": [
    "tf.__version__"
   ]
  },
  {
   "cell_type": "code",
   "execution_count": null,
   "metadata": {
    "ExecuteTime": {
     "end_time": "2019-11-05T05:33:50.110275Z",
     "start_time": "2019-11-05T05:33:49.928666Z"
    }
   },
   "outputs": [],
   "source": []
  },
  {
   "cell_type": "code",
   "execution_count": null,
   "metadata": {
    "ExecuteTime": {
     "end_time": "2019-11-30T01:02:55.520003Z",
     "start_time": "2019-11-30T00:59:45.309Z"
    }
   },
   "outputs": [],
   "source": [
    "cal = X_train[X_train.ccy=='usdjpy'][['bid_price', 'ask_price', 'bid_ret', 'ask_ret']].iloc[500:510].reset_index(drop=True)"
   ]
  },
  {
   "cell_type": "code",
   "execution_count": null,
   "metadata": {
    "ExecuteTime": {
     "end_time": "2019-11-30T01:02:55.522133Z",
     "start_time": "2019-11-30T00:59:45.312Z"
    }
   },
   "outputs": [],
   "source": [
    "cal['bs'] = pd.DataFrame(['B' if i == 0 else 'S' for i in np.random.choice(2, size=10)])"
   ]
  },
  {
   "cell_type": "code",
   "execution_count": null,
   "metadata": {
    "ExecuteTime": {
     "end_time": "2019-11-30T01:02:55.524354Z",
     "start_time": "2019-11-30T00:59:45.315Z"
    }
   },
   "outputs": [],
   "source": [
    "cal.to_csv('t.csv')"
   ]
  },
  {
   "cell_type": "code",
   "execution_count": null,
   "metadata": {},
   "outputs": [],
   "source": []
  },
  {
   "cell_type": "code",
   "execution_count": null,
   "metadata": {},
   "outputs": [],
   "source": []
  },
  {
   "cell_type": "code",
   "execution_count": null,
   "metadata": {},
   "outputs": [],
   "source": []
  },
  {
   "cell_type": "code",
   "execution_count": null,
   "metadata": {},
   "outputs": [],
   "source": []
  },
  {
   "cell_type": "code",
   "execution_count": null,
   "metadata": {
    "ExecuteTime": {
     "end_time": "2019-11-30T01:02:55.526745Z",
     "start_time": "2019-11-30T00:59:45.327Z"
    }
   },
   "outputs": [],
   "source": [
    "X_train[X_train.ccy=='usdjpy'][['bid_price']].plot()"
   ]
  },
  {
   "cell_type": "code",
   "execution_count": null,
   "metadata": {
    "ExecuteTime": {
     "end_time": "2019-11-30T01:02:55.529068Z",
     "start_time": "2019-11-30T00:59:45.330Z"
    }
   },
   "outputs": [],
   "source": [
    "X_train[X_train.ccy=='usdjpy'][['bid_price']].iloc[500:510]"
   ]
  },
  {
   "cell_type": "code",
   "execution_count": null,
   "metadata": {},
   "outputs": [],
   "source": []
  },
  {
   "cell_type": "code",
   "execution_count": null,
   "metadata": {},
   "outputs": [],
   "source": []
  },
  {
   "cell_type": "code",
   "execution_count": null,
   "metadata": {},
   "outputs": [],
   "source": []
  },
  {
   "cell_type": "code",
   "execution_count": null,
   "metadata": {},
   "outputs": [],
   "source": []
  },
  {
   "cell_type": "code",
   "execution_count": null,
   "metadata": {
    "ExecuteTime": {
     "end_time": "2019-11-30T01:02:55.530967Z",
     "start_time": "2019-11-30T00:59:45.341Z"
    }
   },
   "outputs": [],
   "source": [
    "import tensorflow as tf\n",
    "from tf.keras.optimizers import Adam\n",
    "from tf.keras.models import Sequential\n",
    "from tf.keras.layers.core import Dense, Dropout\n",
    "import random\n",
    "import numpy as np\n",
    "import pandas as pd\n",
    "from operator import add\n",
    "\n",
    "\n",
    "class DQNAgent(object):\n",
    "\n",
    "    def __init__(self):\n",
    "        self.reward = 0\n",
    "        self.gamma = 0.9\n",
    "        self.dataframe = pd.DataFrame()\n",
    "        self.short_memory = np.array([])\n",
    "        self.agent_target = 1\n",
    "        self.agent_predict = 0\n",
    "        self.learning_rate = 0.0005\n",
    "        self.model = self.network()\n",
    "        #self.model = self.network(\"weights.hdf5\")\n",
    "        self.epsilon = 0\n",
    "        self.actual = []\n",
    "        self.memory = []\n",
    "\n",
    "    def get_state(self, game, player, food):\n",
    "\n",
    "        state = [\n",
    "            (player.x_change == 20 and player.y_change == 0 and ((list(map(add, player.position[-1], [20, 0])) in player.position) or\n",
    "            player.position[-1][0] + 20 >= (game.game_width - 20))) or (player.x_change == -20 and player.y_change == 0 and ((list(map(add, player.position[-1], [-20, 0])) in player.position) or\n",
    "            player.position[-1][0] - 20 < 20)) or (player.x_change == 0 and player.y_change == -20 and ((list(map(add, player.position[-1], [0, -20])) in player.position) or\n",
    "            player.position[-1][-1] - 20 < 20)) or (player.x_change == 0 and player.y_change == 20 and ((list(map(add, player.position[-1], [0, 20])) in player.position) or\n",
    "            player.position[-1][-1] + 20 >= (game.game_height-20))),  # danger straight\n",
    "\n",
    "            (player.x_change == 0 and player.y_change == -20 and ((list(map(add,player.position[-1],[20, 0])) in player.position) or\n",
    "            player.position[ -1][0] + 20 > (game.game_width-20))) or (player.x_change == 0 and player.y_change == 20 and ((list(map(add,player.position[-1],\n",
    "            [-20,0])) in player.position) or player.position[-1][0] - 20 < 20)) or (player.x_change == -20 and player.y_change == 0 and ((list(map(\n",
    "            add,player.position[-1],[0,-20])) in player.position) or player.position[-1][-1] - 20 < 20)) or (player.x_change == 20 and player.y_change == 0 and (\n",
    "            (list(map(add,player.position[-1],[0,20])) in player.position) or player.position[-1][\n",
    "             -1] + 20 >= (game.game_height-20))),  # danger right\n",
    "\n",
    "             (player.x_change == 0 and player.y_change == 20 and ((list(map(add,player.position[-1],[20,0])) in player.position) or\n",
    "             player.position[-1][0] + 20 > (game.game_width-20))) or (player.x_change == 0 and player.y_change == -20 and ((list(map(\n",
    "             add, player.position[-1],[-20,0])) in player.position) or player.position[-1][0] - 20 < 20)) or (player.x_change == 20 and player.y_change == 0 and (\n",
    "            (list(map(add,player.position[-1],[0,-20])) in player.position) or player.position[-1][-1] - 20 < 20)) or (\n",
    "            player.x_change == -20 and player.y_change == 0 and ((list(map(add,player.position[-1],[0,20])) in player.position) or\n",
    "            player.position[-1][-1] + 20 >= (game.game_height-20))), #danger left\n",
    "\n",
    "\n",
    "            player.x_change == -20,  # move left\n",
    "            player.x_change == 20,  # move right\n",
    "            player.y_change == -20,  # move up\n",
    "            player.y_change == 20,  # move down\n",
    "            food.x_food < player.x,  # food left\n",
    "            food.x_food > player.x,  # food right\n",
    "            food.y_food < player.y,  # food up\n",
    "            food.y_food > player.y  # food down\n",
    "            ]\n",
    "\n",
    "        for i in range(len(state)):\n",
    "            if state[i]:\n",
    "                state[i]=1\n",
    "            else:\n",
    "                state[i]=0\n",
    "\n",
    "        return np.asarray(state)\n",
    "\n",
    "    def set_reward(self, player, crash):\n",
    "        self.reward = 0\n",
    "        if crash:\n",
    "            self.reward = -10\n",
    "            return self.reward\n",
    "        if player.eaten:\n",
    "            self.reward = 10\n",
    "        return self.reward\n",
    "\n",
    "    def network(self, weights=None):\n",
    "        model = Sequential()\n",
    "        model.add(Dense(output_dim=120, activation='relu', input_dim=11))\n",
    "        model.add(Dropout(0.15))\n",
    "        model.add(Dense(output_dim=120, activation='relu'))\n",
    "        model.add(Dropout(0.15))\n",
    "        model.add(Dense(output_dim=120, activation='relu'))\n",
    "        model.add(Dropout(0.15))\n",
    "        model.add(Dense(output_dim=3, activation='softmax'))\n",
    "        opt = Adam(self.learning_rate)\n",
    "        model.compile(loss='mse', optimizer=opt)\n",
    "\n",
    "        if weights:\n",
    "            model.load_weights(weights)\n",
    "        return model\n",
    "\n",
    "    def remember(self, state, action, reward, next_state, done):\n",
    "        self.memory.append((state, action, reward, next_state, done))\n",
    "\n",
    "    def replay_new(self, memory):\n",
    "        if len(memory) > 1000:\n",
    "            minibatch = random.sample(memory, 1000)\n",
    "        else:\n",
    "            minibatch = memory\n",
    "        for state, action, reward, next_state, done in minibatch:\n",
    "            target = reward\n",
    "            if not done:\n",
    "                target = reward + self.gamma * np.amax(self.model.predict(np.array([next_state]))[0])\n",
    "            target_f = self.model.predict(np.array([state]))\n",
    "            target_f[0][np.argmax(action)] = target\n",
    "            self.model.fit(np.array([state]), target_f, epochs=1, verbose=0)\n",
    "\n",
    "    def train_short_memory(self, state, action, reward, next_state, done):\n",
    "        target = reward\n",
    "        if not done:\n",
    "            target = reward + self.gamma * np.amax(self.model.predict(next_state.reshape((1, 11)))[0])\n",
    "        target_f = self.model.predict(state.reshape((1, 11)))\n",
    "        target_f[0][np.argmax(action)] = target\n",
    "        self.model.fit(state.reshape((1, 11)), target_f, epochs=1, verbose=0)"
   ]
  },
  {
   "cell_type": "code",
   "execution_count": null,
   "metadata": {
    "ExecuteTime": {
     "end_time": "2019-11-30T01:02:55.532983Z",
     "start_time": "2019-11-30T00:59:45.344Z"
    }
   },
   "outputs": [],
   "source": [
    "state = np.empty(11)"
   ]
  },
  {
   "cell_type": "code",
   "execution_count": null,
   "metadata": {
    "ExecuteTime": {
     "end_time": "2019-11-30T01:02:55.535146Z",
     "start_time": "2019-11-30T00:59:45.347Z"
    }
   },
   "outputs": [],
   "source": [
    "state"
   ]
  },
  {
   "cell_type": "code",
   "execution_count": null,
   "metadata": {
    "ExecuteTime": {
     "end_time": "2019-11-30T01:02:55.537117Z",
     "start_time": "2019-11-30T00:59:45.350Z"
    }
   },
   "outputs": [],
   "source": [
    "target_f = np.empty(state.reshape(1,11))"
   ]
  },
  {
   "cell_type": "code",
   "execution_count": null,
   "metadata": {
    "ExecuteTime": {
     "end_time": "2019-11-30T01:02:55.539512Z",
     "start_time": "2019-11-30T00:59:45.353Z"
    }
   },
   "outputs": [],
   "source": [
    "X_val.shape"
   ]
  },
  {
   "cell_type": "code",
   "execution_count": null,
   "metadata": {
    "ExecuteTime": {
     "end_time": "2019-11-30T01:02:55.541613Z",
     "start_time": "2019-11-30T00:59:45.355Z"
    }
   },
   "outputs": [],
   "source": [
    "285102/9"
   ]
  },
  {
   "cell_type": "code",
   "execution_count": null,
   "metadata": {
    "ExecuteTime": {
     "end_time": "2019-11-30T01:02:55.544232Z",
     "start_time": "2019-11-30T00:59:45.358Z"
    }
   },
   "outputs": [],
   "source": [
    "31678/100"
   ]
  },
  {
   "cell_type": "code",
   "execution_count": null,
   "metadata": {
    "ExecuteTime": {
     "end_time": "2019-11-30T01:02:55.545855Z",
     "start_time": "2019-11-30T00:59:45.362Z"
    }
   },
   "outputs": [],
   "source": [
    "target_f"
   ]
  },
  {
   "cell_type": "code",
   "execution_count": null,
   "metadata": {
    "ExecuteTime": {
     "end_time": "2019-11-30T01:02:55.547712Z",
     "start_time": "2019-11-30T00:59:45.363Z"
    }
   },
   "outputs": [],
   "source": [
    "target_f"
   ]
  },
  {
   "cell_type": "code",
   "execution_count": null,
   "metadata": {
    "ExecuteTime": {
     "end_time": "2019-11-30T01:02:55.549841Z",
     "start_time": "2019-11-30T00:59:45.367Z"
    }
   },
   "outputs": [],
   "source": [
    "target_f[0]"
   ]
  },
  {
   "cell_type": "code",
   "execution_count": null,
   "metadata": {
    "ExecuteTime": {
     "end_time": "2019-11-30T01:02:55.552492Z",
     "start_time": "2019-11-30T00:59:45.369Z"
    }
   },
   "outputs": [],
   "source": [
    "target_f_t = target_f.T"
   ]
  },
  {
   "cell_type": "code",
   "execution_count": null,
   "metadata": {
    "ExecuteTime": {
     "end_time": "2019-11-30T01:02:55.554657Z",
     "start_time": "2019-11-30T00:59:45.372Z"
    }
   },
   "outputs": [],
   "source": [
    "kk = pd.DataFrame(target_f_t)"
   ]
  },
  {
   "cell_type": "code",
   "execution_count": null,
   "metadata": {
    "ExecuteTime": {
     "end_time": "2019-11-30T01:02:55.557076Z",
     "start_time": "2019-11-30T00:59:45.375Z"
    }
   },
   "outputs": [],
   "source": [
    "kk.to_csv('kk.csv', index=False, index_label=False, header=False)"
   ]
  },
  {
   "cell_type": "code",
   "execution_count": null,
   "metadata": {
    "ExecuteTime": {
     "end_time": "2019-11-30T01:02:55.559393Z",
     "start_time": "2019-11-30T00:59:45.378Z"
    }
   },
   "outputs": [],
   "source": [
    "kk"
   ]
  },
  {
   "cell_type": "code",
   "execution_count": null,
   "metadata": {},
   "outputs": [],
   "source": []
  },
  {
   "cell_type": "code",
   "execution_count": null,
   "metadata": {},
   "outputs": [],
   "source": []
  },
  {
   "cell_type": "code",
   "execution_count": null,
   "metadata": {},
   "outputs": [],
   "source": []
  },
  {
   "cell_type": "code",
   "execution_count": null,
   "metadata": {},
   "outputs": [],
   "source": []
  },
  {
   "cell_type": "code",
   "execution_count": null,
   "metadata": {
    "ExecuteTime": {
     "end_time": "2019-11-30T01:02:55.561560Z",
     "start_time": "2019-11-30T00:59:45.389Z"
    }
   },
   "outputs": [],
   "source": [
    "import numpy as np\n",
    "import pandas as pd\n",
    "\n",
    "def generate_episode(X, n, cur, split_sz, ts, ccy):    \n",
    "    '''\n",
    "    Input:\n",
    "        X: data (bid/ask for each currency pair)\n",
    "        n: get the n-th episode\n",
    "        cur: target currency\n",
    "        split_sz: size of one split. len(split) == len(batch) + len(lag).\n",
    "                  The number of episodes is int()\n",
    "        ts: a numpy array of unique time stamps\n",
    "        ccy: a Series of unique currency pairs\n",
    "    '''\n",
    "\n",
    "    start_idx = n * split_sz\n",
    "    end_idx = min((n+1) * split_sz, ts.size) - 1\n",
    "    data = X[(X.timestamp>=ts[start_idx]) & (X.timestamp<=ts[end_idx])]\n",
    "     \n",
    "    i = 0\n",
    "    other_bid = np.zeros((end_idx - start_idx + 1, ccy.shape[0]-1))\n",
    "    other_ask = np.zeros((end_idx - start_idx + 1, ccy.shape[0]-1))\n",
    "    for elem in ccy:\n",
    "        tmp = data[data.ccy == elem]\n",
    "        if elem == cur:\n",
    "            target_bid = tmp['bid_price'].values\n",
    "            target_ask = tmp['ask_price'].values\n",
    "        else:\n",
    "            other_bid[:,i] = tmp['bid_price'].values\n",
    "            other_ask[:,i] = tmp['ask_price'].values\n",
    "            i += 1\n",
    "    return target_bid, target_ask, other_bid, other_ask\n",
    "\n",
    "def log_returns(prices, lag):\n",
    "    '''\n",
    "    output: \n",
    "        returns[t][i] = log(p_t / p_{t-i}), 1 <= i <= lag\n",
    "    '''\n",
    "    returns = np.zeros((prices.shape[0]-lag, lag))\n",
    "    for i in range(lag):\n",
    "        returns[:,i] = (np.log(prices) - np.log(np.roll(prices, i+1)))[lag:]\n",
    "    return returns\n",
    "\n",
    "def get_features(target_bid, target_ask, other_bid, other_ask, lag):\n",
    "    '''\n",
    "    Output:\n",
    "        features: log returns of ask/bid for all currency pairs; shape (T-lag, 2*lag*cur_pairs); already normalized\n",
    "    '''\n",
    "    features = log_returns(target_bid, lag)\n",
    "    features = np.append(features, log_returns(target_ask, lag), axis = 1)\n",
    "    for i in range(other_bid.shape[1]):\n",
    "        features = np.append(features, log_returns(other_bid[:,i], lag), axis = 1)\n",
    "    for i in range(other_bid.shape[1]):\n",
    "        features = np.append(features, log_returns(other_ask[:,i], lag), axis = 1)\n",
    "        \n",
    "    normalized_fs = (features - features.mean()) / features.std()\n",
    "    return normalized_fs\n",
    "\n",
    "def draw_episode(X, cur, n, split_sz, lag, ts, ccy):\n",
    "    '''\n",
    "    Input:\n",
    "        X: data (bid/ask for each currency pair)\n",
    "        cur: currency pair that we target to trade\n",
    "        n: draw the n-th episode\n",
    "        split_sz: size of episode\n",
    "        lag: number of lag log-returns z_1,...z_m\n",
    "        ts: a numpy array of unique time stamps\n",
    "        ccy: a Series of unique currency pairs\n",
    "    Output:\n",
    "        target_bid: target currency's bid prices\n",
    "        target_ask: target currency's ask prices\n",
    "        features: features for feeding into the neural network\n",
    "        \n",
    "    Note: compared to Dai's code, I am not using min_history (min length of a valid episode) as argument; \n",
    "        Also, I am not randomly selecting episodes\n",
    "    '''\n",
    "    target_bid, target_ask, other_bid, other_ask = generate_episode(X, n, cur, split_sz, ts, ccy)\n",
    "    features = get_features(target_bid, target_ask, other_bid, other_ask, lag)\n",
    "    return target_bid[lag-1:], target_ask[lag-1:], features"
   ]
  },
  {
   "cell_type": "code",
   "execution_count": null,
   "metadata": {},
   "outputs": [],
   "source": []
  },
  {
   "cell_type": "code",
   "execution_count": null,
   "metadata": {},
   "outputs": [],
   "source": []
  },
  {
   "cell_type": "code",
   "execution_count": null,
   "metadata": {
    "ExecuteTime": {
     "end_time": "2019-11-30T01:02:55.563432Z",
     "start_time": "2019-11-30T00:59:45.397Z"
    }
   },
   "outputs": [],
   "source": [
    "pf_wt = np.zeros((1,10))"
   ]
  },
  {
   "cell_type": "code",
   "execution_count": null,
   "metadata": {
    "ExecuteTime": {
     "end_time": "2019-11-30T01:02:55.565289Z",
     "start_time": "2019-11-30T00:59:45.399Z"
    }
   },
   "outputs": [],
   "source": [
    "pf_wt[0][0] = 1"
   ]
  },
  {
   "cell_type": "code",
   "execution_count": null,
   "metadata": {
    "ExecuteTime": {
     "end_time": "2019-11-30T01:02:55.567306Z",
     "start_time": "2019-11-30T00:59:45.402Z"
    }
   },
   "outputs": [],
   "source": [
    "pf_wt"
   ]
  },
  {
   "cell_type": "code",
   "execution_count": null,
   "metadata": {
    "ExecuteTime": {
     "end_time": "2019-11-30T01:02:55.569507Z",
     "start_time": "2019-11-30T00:59:45.405Z"
    }
   },
   "outputs": [],
   "source": [
    "pf_wt = np.append(pf_wt, np.zeros((1,10)), axis=0)"
   ]
  },
  {
   "cell_type": "code",
   "execution_count": null,
   "metadata": {
    "ExecuteTime": {
     "end_time": "2019-11-30T01:02:55.571863Z",
     "start_time": "2019-11-30T00:59:45.407Z"
    }
   },
   "outputs": [],
   "source": [
    "pf_wt"
   ]
  },
  {
   "cell_type": "code",
   "execution_count": null,
   "metadata": {
    "ExecuteTime": {
     "end_time": "2019-11-30T01:02:55.574541Z",
     "start_time": "2019-11-30T00:59:45.411Z"
    }
   },
   "outputs": [],
   "source": [
    "pf_wt[1][-1] = 1"
   ]
  },
  {
   "cell_type": "code",
   "execution_count": null,
   "metadata": {
    "ExecuteTime": {
     "end_time": "2019-11-30T01:02:55.576655Z",
     "start_time": "2019-11-30T00:59:45.413Z"
    }
   },
   "outputs": [],
   "source": [
    "pf_wt"
   ]
  },
  {
   "cell_type": "code",
   "execution_count": null,
   "metadata": {
    "ExecuteTime": {
     "end_time": "2019-11-30T01:02:55.578588Z",
     "start_time": "2019-11-30T00:59:45.416Z"
    }
   },
   "outputs": [],
   "source": [
    "X.loc[X.timestamp==np.max(X['timestamp']),:].close"
   ]
  },
  {
   "cell_type": "code",
   "execution_count": null,
   "metadata": {
    "ExecuteTime": {
     "end_time": "2019-11-30T01:02:55.580324Z",
     "start_time": "2019-11-30T00:59:45.419Z"
    }
   },
   "outputs": [],
   "source": [
    "qty = np.zeros((1,10))"
   ]
  },
  {
   "cell_type": "code",
   "execution_count": null,
   "metadata": {
    "ExecuteTime": {
     "end_time": "2019-11-30T01:02:55.582218Z",
     "start_time": "2019-11-30T00:59:45.421Z"
    }
   },
   "outputs": [],
   "source": [
    "qty[0] = np.array([10000, 0,0,0,0,0,0,0,0,0])"
   ]
  },
  {
   "cell_type": "code",
   "execution_count": null,
   "metadata": {
    "ExecuteTime": {
     "end_time": "2019-11-30T01:02:55.584444Z",
     "start_time": "2019-11-30T00:59:45.424Z"
    }
   },
   "outputs": [],
   "source": [
    "qty"
   ]
  },
  {
   "cell_type": "code",
   "execution_count": null,
   "metadata": {
    "ExecuteTime": {
     "end_time": "2019-11-30T01:02:55.586197Z",
     "start_time": "2019-11-30T00:59:45.427Z"
    }
   },
   "outputs": [],
   "source": [
    "price = X.loc[X.timestamp==np.max(X['timestamp']),:].close.to_numpy()"
   ]
  },
  {
   "cell_type": "code",
   "execution_count": null,
   "metadata": {
    "ExecuteTime": {
     "end_time": "2019-11-30T01:02:55.587980Z",
     "start_time": "2019-11-30T00:59:45.429Z"
    }
   },
   "outputs": [],
   "source": [
    "price"
   ]
  },
  {
   "cell_type": "code",
   "execution_count": null,
   "metadata": {
    "ExecuteTime": {
     "end_time": "2019-11-30T01:02:55.589885Z",
     "start_time": "2019-11-30T00:59:45.432Z"
    }
   },
   "outputs": [],
   "source": [
    "10000/9.52895"
   ]
  },
  {
   "cell_type": "code",
   "execution_count": null,
   "metadata": {
    "ExecuteTime": {
     "end_time": "2019-11-30T01:02:55.591856Z",
     "start_time": "2019-11-30T00:59:45.435Z"
    }
   },
   "outputs": [],
   "source": [
    "wt = np.array([[1.0, 0.0],\n",
    "               [0.0, 1.0]])\n",
    "qty = np.array([[10, 0],\n",
    "                [0, 5]])\n",
    "price = np.array([[1, 2],\n",
    "                  [1, 2.2]])"
   ]
  },
  {
   "cell_type": "code",
   "execution_count": null,
   "metadata": {
    "ExecuteTime": {
     "end_time": "2019-11-30T01:02:55.593992Z",
     "start_time": "2019-11-30T00:59:45.437Z"
    }
   },
   "outputs": [],
   "source": [
    "wt"
   ]
  },
  {
   "cell_type": "code",
   "execution_count": null,
   "metadata": {
    "ExecuteTime": {
     "end_time": "2019-11-30T01:02:55.595898Z",
     "start_time": "2019-11-30T00:59:45.440Z"
    }
   },
   "outputs": [],
   "source": [
    "qty"
   ]
  },
  {
   "cell_type": "code",
   "execution_count": null,
   "metadata": {
    "ExecuteTime": {
     "end_time": "2019-11-30T01:02:55.597455Z",
     "start_time": "2019-11-30T00:59:45.444Z"
    }
   },
   "outputs": [],
   "source": [
    "price"
   ]
  },
  {
   "cell_type": "code",
   "execution_count": null,
   "metadata": {
    "ExecuteTime": {
     "end_time": "2019-11-30T01:02:55.599808Z",
     "start_time": "2019-11-30T00:59:45.446Z"
    }
   },
   "outputs": [],
   "source": [
    "qty*price"
   ]
  },
  {
   "cell_type": "code",
   "execution_count": null,
   "metadata": {
    "ExecuteTime": {
     "end_time": "2019-11-30T01:02:55.602166Z",
     "start_time": "2019-11-30T00:59:45.448Z"
    }
   },
   "outputs": [],
   "source": [
    "price"
   ]
  },
  {
   "cell_type": "code",
   "execution_count": null,
   "metadata": {
    "ExecuteTime": {
     "end_time": "2019-11-30T01:02:55.604490Z",
     "start_time": "2019-11-30T00:59:45.451Z"
    }
   },
   "outputs": [],
   "source": [
    "p = price[1]"
   ]
  },
  {
   "cell_type": "code",
   "execution_count": null,
   "metadata": {
    "ExecuteTime": {
     "end_time": "2019-11-30T01:02:55.606734Z",
     "start_time": "2019-11-30T00:59:45.454Z"
    }
   },
   "outputs": [],
   "source": [
    "price = []\n",
    "for _ in range(10000):\n",
    "    price.append(np.random.normal(loc=1, scale=(3*10)**-2))"
   ]
  },
  {
   "cell_type": "code",
   "execution_count": null,
   "metadata": {
    "ExecuteTime": {
     "end_time": "2019-11-30T01:02:55.608916Z",
     "start_time": "2019-11-30T00:59:45.457Z"
    }
   },
   "outputs": [],
   "source": [
    "plt.hist(price)"
   ]
  },
  {
   "cell_type": "code",
   "execution_count": null,
   "metadata": {
    "ExecuteTime": {
     "end_time": "2019-11-30T01:02:55.611104Z",
     "start_time": "2019-11-30T00:59:45.460Z"
    }
   },
   "outputs": [],
   "source": [
    "p*np.random.normal(loc=1, scale=(3*10)**-2, size=p.shape[0])"
   ]
  },
  {
   "cell_type": "code",
   "execution_count": null,
   "metadata": {
    "ExecuteTime": {
     "end_time": "2019-11-30T01:02:55.613054Z",
     "start_time": "2019-11-30T00:59:45.463Z"
    }
   },
   "outputs": [],
   "source": [
    "p"
   ]
  },
  {
   "cell_type": "code",
   "execution_count": null,
   "metadata": {
    "ExecuteTime": {
     "end_time": "2019-11-30T01:02:55.614966Z",
     "start_time": "2019-11-30T00:59:45.466Z"
    }
   },
   "outputs": [],
   "source": [
    "np.floor(p)"
   ]
  },
  {
   "cell_type": "code",
   "execution_count": null,
   "metadata": {
    "ExecuteTime": {
     "end_time": "2019-11-30T01:02:55.617064Z",
     "start_time": "2019-11-30T00:59:45.469Z"
    }
   },
   "outputs": [],
   "source": [
    "p"
   ]
  },
  {
   "cell_type": "code",
   "execution_count": null,
   "metadata": {
    "ExecuteTime": {
     "end_time": "2019-11-30T01:02:55.619396Z",
     "start_time": "2019-11-30T00:59:45.473Z"
    }
   },
   "outputs": [],
   "source": [
    "p / np.array([0.5, 1.1])"
   ]
  },
  {
   "cell_type": "code",
   "execution_count": null,
   "metadata": {
    "ExecuteTime": {
     "end_time": "2019-11-30T01:02:55.621375Z",
     "start_time": "2019-11-30T00:59:45.476Z"
    }
   },
   "outputs": [],
   "source": [
    "p[0] = -1"
   ]
  },
  {
   "cell_type": "code",
   "execution_count": null,
   "metadata": {
    "ExecuteTime": {
     "end_time": "2019-11-30T01:02:55.623453Z",
     "start_time": "2019-11-30T00:59:45.478Z"
    }
   },
   "outputs": [],
   "source": [
    "p"
   ]
  },
  {
   "cell_type": "code",
   "execution_count": null,
   "metadata": {
    "ExecuteTime": {
     "end_time": "2019-11-30T01:02:55.625451Z",
     "start_time": "2019-11-30T00:59:45.481Z"
    }
   },
   "outputs": [],
   "source": [
    "[v*2 if v<0 else v*-1 for v in p]"
   ]
  },
  {
   "cell_type": "code",
   "execution_count": null,
   "metadata": {
    "ExecuteTime": {
     "end_time": "2019-11-30T01:02:55.627527Z",
     "start_time": "2019-11-30T00:59:45.484Z"
    }
   },
   "outputs": [],
   "source": [
    "pv = np.random.rand(10)\n",
    "pv = pv/np.sum(pv)"
   ]
  },
  {
   "cell_type": "code",
   "execution_count": null,
   "metadata": {
    "ExecuteTime": {
     "end_time": "2019-11-30T01:02:55.629080Z",
     "start_time": "2019-11-30T00:59:45.487Z"
    }
   },
   "outputs": [],
   "source": [
    "pv"
   ]
  },
  {
   "cell_type": "code",
   "execution_count": null,
   "metadata": {},
   "outputs": [],
   "source": []
  }
 ],
 "metadata": {
  "kernelspec": {
   "display_name": "Python 3",
   "language": "python",
   "name": "python3"
  },
  "language_info": {
   "codemirror_mode": {
    "name": "ipython",
    "version": 3
   },
   "file_extension": ".py",
   "mimetype": "text/x-python",
   "name": "python",
   "nbconvert_exporter": "python",
   "pygments_lexer": "ipython3",
   "version": "3.6.6"
  }
 },
 "nbformat": 4,
 "nbformat_minor": 2
}
