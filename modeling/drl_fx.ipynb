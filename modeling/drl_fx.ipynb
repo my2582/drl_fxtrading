{
 "cells": [
  {
   "cell_type": "markdown",
   "metadata": {},
   "source": [
    "# 1. Import packages"
   ]
  },
  {
   "cell_type": "code",
   "execution_count": 1,
   "metadata": {
    "ExecuteTime": {
     "end_time": "2019-10-31T04:44:21.934989Z",
     "start_time": "2019-10-31T04:44:20.676864Z"
    }
   },
   "outputs": [],
   "source": [
    "import os\n",
    "import numpy as np\n",
    "import pandas as pd\n",
    "\n",
    "# Plotting\n",
    "import matplotlib.pyplot as plt\n",
    "import seaborn as sns\n",
    "\n",
    "import logging "
   ]
  },
  {
   "cell_type": "code",
   "execution_count": 2,
   "metadata": {
    "ExecuteTime": {
     "end_time": "2019-10-31T04:44:21.940292Z",
     "start_time": "2019-10-31T04:44:21.937261Z"
    }
   },
   "outputs": [],
   "source": [
    "logging.basicConfig(format='%(levelname)s: %(message)s', level=logging.INFO)\n",
    "logger = logging.getLogger(__name__)"
   ]
  },
  {
   "cell_type": "markdown",
   "metadata": {},
   "source": [
    "# 2. Data loading"
   ]
  },
  {
   "cell_type": "markdown",
   "metadata": {},
   "source": [
    "## 2.1. Dataset description"
   ]
  },
  {
   "cell_type": "markdown",
   "metadata": {},
   "source": [
    "### A toy dataset for now\n",
    "#### G-10 currency pairs. Every curreny other than USD is against USD. So we have 9 pairs in total\n",
    "- gbpusd, usdsek, usdnok, usdjpy, usdcad, usdchf, nzdusd, eurusd, audusd"
   ]
  },
  {
   "cell_type": "markdown",
   "metadata": {},
   "source": [
    "#### Period in use: May 2019 (1 month)"
   ]
  },
  {
   "cell_type": "markdown",
   "metadata": {},
   "source": [
    "## 2.2 Loading a toy data set"
   ]
  },
  {
   "cell_type": "code",
   "execution_count": 3,
   "metadata": {
    "ExecuteTime": {
     "end_time": "2019-10-31T04:44:22.353490Z",
     "start_time": "2019-10-31T04:44:21.943143Z"
    },
    "scrolled": false
   },
   "outputs": [
    {
     "name": "stderr",
     "output_type": "stream",
     "text": [
      "INFO: Loading...\n",
      "INFO: audusd_DAT_ASCII_AUDUSD_M1_201905.csv\n",
      "INFO: gbpusd_DAT_ASCII_GBPUSD_M1_201905.csv\n",
      "INFO: usdcad_DAT_ASCII_USDCAD_M1_201905.csv\n",
      "INFO: eurusd_DAT_ASCII_EURUSD_M1_201905.csv\n",
      "INFO: usdchf_DAT_ASCII_USDCHF_M1_201905.csv\n",
      "INFO: usdsek_DAT_ASCII_USDSEK_M1_201905.csv\n",
      "INFO: nzdusd_DAT_ASCII_NZDUSD_M1_201905.csv\n",
      "INFO: usdnok_DAT_ASCII_USDNOK_M1_201905.csv\n",
      "INFO: usdjpy_DAT_ASCII_USDJPY_M1_201905.csv\n",
      "INFO: Complted.\n"
     ]
    }
   ],
   "source": [
    "toy_path = '../dataset/'\n",
    "toy_folders = ['toyset']\n",
    "\n",
    "# csv files have no explicit column header, but column names come in this order.\n",
    "# 'timestamp',  'opening', 'high', 'low', 'close', 'volume'\n",
    "# As we are only interested in timestamp and close prices, we set `usecols` = [0,4], a list of indices\n",
    "col_names = ['datetime',  'opening', 'high', 'low', 'close', 'volume']\n",
    "usecols = [0, 2, 3]\n",
    "\n",
    "df = {}\n",
    "f = pd.DataFrame(columns=col_names)\n",
    "total_size = 0\n",
    "logging.info(\"Loading...\")\n",
    "for folder in toy_folders:\n",
    "    files = os.listdir(toy_path+folder)\n",
    "    for file in files:\n",
    "        if file.endswith(\"05.csv\"):\n",
    "            logging.info(file)\n",
    "            tmp = pd.read_csv(os.path.join(toy_path, folder, file),\n",
    "                              delimiter=';', header=0, names=col_names, usecols=usecols)\n",
    "            loaded_ccy = file[:6]\n",
    "            if loaded_ccy in df.keys():\n",
    "                df[loaded_ccy] = df[loaded_ccy].append(tmp, ignore_index=True)\n",
    "            else:\n",
    "                df[loaded_ccy] = tmp.copy()\n",
    "            total_size += len(df[loaded_ccy])\n",
    "logging.info(\"Complted.\")"
   ]
  },
  {
   "cell_type": "code",
   "execution_count": 4,
   "metadata": {
    "ExecuteTime": {
     "end_time": "2019-10-31T04:44:22.362223Z",
     "start_time": "2019-10-31T04:44:22.357634Z"
    }
   },
   "outputs": [
    {
     "name": "stdout",
     "output_type": "stream",
     "text": [
      "We have 287995 data points in total for all pairs\n"
     ]
    }
   ],
   "source": [
    "print('We have {:d} data points in total for all pairs'.format(total_size))"
   ]
  },
  {
   "cell_type": "code",
   "execution_count": 5,
   "metadata": {
    "ExecuteTime": {
     "end_time": "2019-10-31T04:44:22.374029Z",
     "start_time": "2019-10-31T04:44:22.367021Z"
    }
   },
   "outputs": [
    {
     "data": {
      "text/plain": [
       "dict_keys(['audusd', 'gbpusd', 'usdcad', 'eurusd', 'usdchf', 'usdsek', 'nzdusd', 'usdnok', 'usdjpy'])"
      ]
     },
     "execution_count": 5,
     "metadata": {},
     "output_type": "execute_result"
    }
   ],
   "source": [
    "df.keys()"
   ]
  },
  {
   "cell_type": "code",
   "execution_count": 6,
   "metadata": {
    "ExecuteTime": {
     "end_time": "2019-10-31T04:44:22.381003Z",
     "start_time": "2019-10-31T04:44:22.376523Z"
    }
   },
   "outputs": [
    {
     "name": "stdout",
     "output_type": "stream",
     "text": [
      "We have a list of currency pairs: ['audusd', 'gbpusd', 'usdcad', 'eurusd', 'usdchf', 'usdsek', 'nzdusd', 'usdnok', 'usdjpy']\n"
     ]
    }
   ],
   "source": [
    "ccy_list = list(df.keys())\n",
    "print('We have a list of currency pairs:', ccy_list)"
   ]
  },
  {
   "cell_type": "code",
   "execution_count": 7,
   "metadata": {
    "ExecuteTime": {
     "end_time": "2019-10-31T04:44:22.409176Z",
     "start_time": "2019-10-31T04:44:22.383996Z"
    }
   },
   "outputs": [
    {
     "name": "stdout",
     "output_type": "stream",
     "text": [
      "e.g. audusd\n"
     ]
    },
    {
     "data": {
      "text/html": [
       "<div>\n",
       "<style scoped>\n",
       "    .dataframe tbody tr th:only-of-type {\n",
       "        vertical-align: middle;\n",
       "    }\n",
       "\n",
       "    .dataframe tbody tr th {\n",
       "        vertical-align: top;\n",
       "    }\n",
       "\n",
       "    .dataframe thead th {\n",
       "        text-align: right;\n",
       "    }\n",
       "</style>\n",
       "<table border=\"1\" class=\"dataframe\">\n",
       "  <thead>\n",
       "    <tr style=\"text-align: right;\">\n",
       "      <th></th>\n",
       "      <th>datetime</th>\n",
       "      <th>high</th>\n",
       "      <th>low</th>\n",
       "    </tr>\n",
       "  </thead>\n",
       "  <tbody>\n",
       "    <tr>\n",
       "      <th>0</th>\n",
       "      <td>20190501 000100</td>\n",
       "      <td>0.70517</td>\n",
       "      <td>0.70514</td>\n",
       "    </tr>\n",
       "    <tr>\n",
       "      <th>1</th>\n",
       "      <td>20190501 000200</td>\n",
       "      <td>0.70517</td>\n",
       "      <td>0.70514</td>\n",
       "    </tr>\n",
       "    <tr>\n",
       "      <th>2</th>\n",
       "      <td>20190501 000300</td>\n",
       "      <td>0.70517</td>\n",
       "      <td>0.70517</td>\n",
       "    </tr>\n",
       "    <tr>\n",
       "      <th>3</th>\n",
       "      <td>20190501 000400</td>\n",
       "      <td>0.70518</td>\n",
       "      <td>0.70517</td>\n",
       "    </tr>\n",
       "    <tr>\n",
       "      <th>4</th>\n",
       "      <td>20190501 000500</td>\n",
       "      <td>0.70518</td>\n",
       "      <td>0.70517</td>\n",
       "    </tr>\n",
       "  </tbody>\n",
       "</table>\n",
       "</div>"
      ],
      "text/plain": [
       "          datetime     high      low\n",
       "0  20190501 000100  0.70517  0.70514\n",
       "1  20190501 000200  0.70517  0.70514\n",
       "2  20190501 000300  0.70517  0.70517\n",
       "3  20190501 000400  0.70518  0.70517\n",
       "4  20190501 000500  0.70518  0.70517"
      ]
     },
     "execution_count": 7,
     "metadata": {},
     "output_type": "execute_result"
    }
   ],
   "source": [
    "print('e.g.', ccy_list[0])\n",
    "df[ccy_list[0]].head()"
   ]
  },
  {
   "cell_type": "markdown",
   "metadata": {},
   "source": [
    "#### We do not have ask prices in our data set.\n",
    "- We take high prices as `ask_price` and low prices as `bid_price` for now just until we have a new data set."
   ]
  },
  {
   "cell_type": "code",
   "execution_count": 8,
   "metadata": {
    "ExecuteTime": {
     "end_time": "2019-10-31T04:44:22.418770Z",
     "start_time": "2019-10-31T04:44:22.414130Z"
    }
   },
   "outputs": [
    {
     "data": {
      "text/plain": [
       "Index(['datetime', 'high', 'low'], dtype='object')"
      ]
     },
     "execution_count": 8,
     "metadata": {},
     "output_type": "execute_result"
    }
   ],
   "source": [
    "df['eurusd'].columns"
   ]
  },
  {
   "cell_type": "code",
   "execution_count": 9,
   "metadata": {
    "ExecuteTime": {
     "end_time": "2019-10-31T04:44:22.442794Z",
     "start_time": "2019-10-31T04:44:22.423366Z"
    }
   },
   "outputs": [],
   "source": [
    "for ccy in ccy_list:\n",
    "    df[ccy].rename(columns={'high': 'ask_price', 'low': 'bid_price'}, inplace=True)"
   ]
  },
  {
   "cell_type": "markdown",
   "metadata": {},
   "source": [
    "## 2.3 Data Integrity Check"
   ]
  },
  {
   "cell_type": "code",
   "execution_count": 10,
   "metadata": {
    "ExecuteTime": {
     "end_time": "2019-10-31T04:44:22.590526Z",
     "start_time": "2019-10-31T04:44:22.445672Z"
    },
    "scrolled": false
   },
   "outputs": [],
   "source": [
    "for i, ccy in enumerate(ccy_list):\n",
    "    desc = df[ccy].describe()\n",
    "    desc.rename(columns={'ask_price': ccy+'_ask', 'bid_price':ccy+'_bid'}, inplace=True)\n",
    "    if i == 0:\n",
    "        df_desc = desc.copy()\n",
    "    else:\n",
    "        df_desc = pd.merge(df_desc, desc, left_index=True, right_index=True)"
   ]
  },
  {
   "cell_type": "markdown",
   "metadata": {},
   "source": [
    "- Outliers: none.\n",
    "- Index: The number of data points a little vary. See the **2.5 `timestamp` policy** to handle this."
   ]
  },
  {
   "cell_type": "code",
   "execution_count": 11,
   "metadata": {
    "ExecuteTime": {
     "end_time": "2019-10-31T04:44:22.618307Z",
     "start_time": "2019-10-31T04:44:22.593449Z"
    },
    "scrolled": false
   },
   "outputs": [
    {
     "data": {
      "text/html": [
       "<div>\n",
       "<style scoped>\n",
       "    .dataframe tbody tr th:only-of-type {\n",
       "        vertical-align: middle;\n",
       "    }\n",
       "\n",
       "    .dataframe tbody tr th {\n",
       "        vertical-align: top;\n",
       "    }\n",
       "\n",
       "    .dataframe thead th {\n",
       "        text-align: right;\n",
       "    }\n",
       "</style>\n",
       "<table border=\"1\" class=\"dataframe\">\n",
       "  <thead>\n",
       "    <tr style=\"text-align: right;\">\n",
       "      <th></th>\n",
       "      <th>audusd_ask</th>\n",
       "      <th>audusd_bid</th>\n",
       "      <th>gbpusd_ask</th>\n",
       "      <th>gbpusd_bid</th>\n",
       "      <th>usdcad_ask</th>\n",
       "      <th>usdcad_bid</th>\n",
       "      <th>eurusd_ask</th>\n",
       "      <th>eurusd_bid</th>\n",
       "      <th>usdchf_ask</th>\n",
       "      <th>usdchf_bid</th>\n",
       "      <th>usdsek_ask</th>\n",
       "      <th>usdsek_bid</th>\n",
       "      <th>nzdusd_ask</th>\n",
       "      <th>nzdusd_bid</th>\n",
       "      <th>usdnok_ask</th>\n",
       "      <th>usdnok_bid</th>\n",
       "      <th>usdjpy_ask</th>\n",
       "      <th>usdjpy_bid</th>\n",
       "    </tr>\n",
       "  </thead>\n",
       "  <tbody>\n",
       "    <tr>\n",
       "      <th>count</th>\n",
       "      <td>31946.000000</td>\n",
       "      <td>31946.000000</td>\n",
       "      <td>31953.000000</td>\n",
       "      <td>31953.000000</td>\n",
       "      <td>31900.000000</td>\n",
       "      <td>31900.000000</td>\n",
       "      <td>31968.000000</td>\n",
       "      <td>31968.000000</td>\n",
       "      <td>31871.000000</td>\n",
       "      <td>31871.000000</td>\n",
       "      <td>31616.000000</td>\n",
       "      <td>31616.000000</td>\n",
       "      <td>31885.000000</td>\n",
       "      <td>31885.000000</td>\n",
       "      <td>32383.000000</td>\n",
       "      <td>32383.000000</td>\n",
       "      <td>32473.000000</td>\n",
       "      <td>32473.000000</td>\n",
       "    </tr>\n",
       "    <tr>\n",
       "      <th>mean</th>\n",
       "      <td>0.694530</td>\n",
       "      <td>0.694438</td>\n",
       "      <td>1.285139</td>\n",
       "      <td>1.284985</td>\n",
       "      <td>1.345870</td>\n",
       "      <td>1.345737</td>\n",
       "      <td>1.118613</td>\n",
       "      <td>1.118509</td>\n",
       "      <td>1.011103</td>\n",
       "      <td>1.011012</td>\n",
       "      <td>9.596976</td>\n",
       "      <td>9.595584</td>\n",
       "      <td>0.656137</td>\n",
       "      <td>0.656059</td>\n",
       "      <td>8.740825</td>\n",
       "      <td>8.739539</td>\n",
       "      <td>110.015410</td>\n",
       "      <td>110.003956</td>\n",
       "    </tr>\n",
       "    <tr>\n",
       "      <th>std</th>\n",
       "      <td>0.004925</td>\n",
       "      <td>0.004917</td>\n",
       "      <td>0.017836</td>\n",
       "      <td>0.017832</td>\n",
       "      <td>0.003246</td>\n",
       "      <td>0.003238</td>\n",
       "      <td>0.002978</td>\n",
       "      <td>0.002973</td>\n",
       "      <td>0.005351</td>\n",
       "      <td>0.005350</td>\n",
       "      <td>0.043117</td>\n",
       "      <td>0.043147</td>\n",
       "      <td>0.004287</td>\n",
       "      <td>0.004279</td>\n",
       "      <td>0.034109</td>\n",
       "      <td>0.034058</td>\n",
       "      <td>0.684108</td>\n",
       "      <td>0.685476</td>\n",
       "    </tr>\n",
       "    <tr>\n",
       "      <th>min</th>\n",
       "      <td>0.686470</td>\n",
       "      <td>0.686440</td>\n",
       "      <td>1.256290</td>\n",
       "      <td>1.255900</td>\n",
       "      <td>1.336170</td>\n",
       "      <td>1.335710</td>\n",
       "      <td>1.111240</td>\n",
       "      <td>1.110700</td>\n",
       "      <td>1.000250</td>\n",
       "      <td>1.000060</td>\n",
       "      <td>9.469900</td>\n",
       "      <td>9.468420</td>\n",
       "      <td>0.648210</td>\n",
       "      <td>0.648130</td>\n",
       "      <td>8.609150</td>\n",
       "      <td>8.607350</td>\n",
       "      <td>108.285000</td>\n",
       "      <td>108.277000</td>\n",
       "    </tr>\n",
       "    <tr>\n",
       "      <th>25%</th>\n",
       "      <td>0.691100</td>\n",
       "      <td>0.691010</td>\n",
       "      <td>1.267360</td>\n",
       "      <td>1.267200</td>\n",
       "      <td>1.343670</td>\n",
       "      <td>1.343560</td>\n",
       "      <td>1.116350</td>\n",
       "      <td>1.116270</td>\n",
       "      <td>1.007450</td>\n",
       "      <td>1.007330</td>\n",
       "      <td>9.566308</td>\n",
       "      <td>9.564930</td>\n",
       "      <td>0.652390</td>\n",
       "      <td>0.652320</td>\n",
       "      <td>8.719160</td>\n",
       "      <td>8.718090</td>\n",
       "      <td>109.551000</td>\n",
       "      <td>109.540000</td>\n",
       "    </tr>\n",
       "    <tr>\n",
       "      <th>50%</th>\n",
       "      <td>0.692870</td>\n",
       "      <td>0.692800</td>\n",
       "      <td>1.284000</td>\n",
       "      <td>1.283810</td>\n",
       "      <td>1.346150</td>\n",
       "      <td>1.346040</td>\n",
       "      <td>1.118780</td>\n",
       "      <td>1.118630</td>\n",
       "      <td>1.009590</td>\n",
       "      <td>1.009510</td>\n",
       "      <td>9.600090</td>\n",
       "      <td>9.598530</td>\n",
       "      <td>0.655690</td>\n",
       "      <td>0.655590</td>\n",
       "      <td>8.748570</td>\n",
       "      <td>8.747320</td>\n",
       "      <td>109.815000</td>\n",
       "      <td>109.796000</td>\n",
       "    </tr>\n",
       "    <tr>\n",
       "      <th>75%</th>\n",
       "      <td>0.699320</td>\n",
       "      <td>0.699230</td>\n",
       "      <td>1.302110</td>\n",
       "      <td>1.301910</td>\n",
       "      <td>1.347600</td>\n",
       "      <td>1.347480</td>\n",
       "      <td>1.120640</td>\n",
       "      <td>1.120550</td>\n",
       "      <td>1.016550</td>\n",
       "      <td>1.016420</td>\n",
       "      <td>9.634173</td>\n",
       "      <td>9.632803</td>\n",
       "      <td>0.659480</td>\n",
       "      <td>0.659390</td>\n",
       "      <td>8.764320</td>\n",
       "      <td>8.762980</td>\n",
       "      <td>110.348000</td>\n",
       "      <td>110.336000</td>\n",
       "    </tr>\n",
       "    <tr>\n",
       "      <th>max</th>\n",
       "      <td>0.706070</td>\n",
       "      <td>0.705980</td>\n",
       "      <td>1.317620</td>\n",
       "      <td>1.317360</td>\n",
       "      <td>1.356440</td>\n",
       "      <td>1.356270</td>\n",
       "      <td>1.126470</td>\n",
       "      <td>1.126210</td>\n",
       "      <td>1.022590</td>\n",
       "      <td>1.022250</td>\n",
       "      <td>9.687630</td>\n",
       "      <td>9.686170</td>\n",
       "      <td>0.666510</td>\n",
       "      <td>0.666420</td>\n",
       "      <td>8.804460</td>\n",
       "      <td>8.803100</td>\n",
       "      <td>111.699000</td>\n",
       "      <td>111.657000</td>\n",
       "    </tr>\n",
       "  </tbody>\n",
       "</table>\n",
       "</div>"
      ],
      "text/plain": [
       "         audusd_ask    audusd_bid    gbpusd_ask    gbpusd_bid    usdcad_ask  \\\n",
       "count  31946.000000  31946.000000  31953.000000  31953.000000  31900.000000   \n",
       "mean       0.694530      0.694438      1.285139      1.284985      1.345870   \n",
       "std        0.004925      0.004917      0.017836      0.017832      0.003246   \n",
       "min        0.686470      0.686440      1.256290      1.255900      1.336170   \n",
       "25%        0.691100      0.691010      1.267360      1.267200      1.343670   \n",
       "50%        0.692870      0.692800      1.284000      1.283810      1.346150   \n",
       "75%        0.699320      0.699230      1.302110      1.301910      1.347600   \n",
       "max        0.706070      0.705980      1.317620      1.317360      1.356440   \n",
       "\n",
       "         usdcad_bid    eurusd_ask    eurusd_bid    usdchf_ask    usdchf_bid  \\\n",
       "count  31900.000000  31968.000000  31968.000000  31871.000000  31871.000000   \n",
       "mean       1.345737      1.118613      1.118509      1.011103      1.011012   \n",
       "std        0.003238      0.002978      0.002973      0.005351      0.005350   \n",
       "min        1.335710      1.111240      1.110700      1.000250      1.000060   \n",
       "25%        1.343560      1.116350      1.116270      1.007450      1.007330   \n",
       "50%        1.346040      1.118780      1.118630      1.009590      1.009510   \n",
       "75%        1.347480      1.120640      1.120550      1.016550      1.016420   \n",
       "max        1.356270      1.126470      1.126210      1.022590      1.022250   \n",
       "\n",
       "         usdsek_ask    usdsek_bid    nzdusd_ask    nzdusd_bid    usdnok_ask  \\\n",
       "count  31616.000000  31616.000000  31885.000000  31885.000000  32383.000000   \n",
       "mean       9.596976      9.595584      0.656137      0.656059      8.740825   \n",
       "std        0.043117      0.043147      0.004287      0.004279      0.034109   \n",
       "min        9.469900      9.468420      0.648210      0.648130      8.609150   \n",
       "25%        9.566308      9.564930      0.652390      0.652320      8.719160   \n",
       "50%        9.600090      9.598530      0.655690      0.655590      8.748570   \n",
       "75%        9.634173      9.632803      0.659480      0.659390      8.764320   \n",
       "max        9.687630      9.686170      0.666510      0.666420      8.804460   \n",
       "\n",
       "         usdnok_bid    usdjpy_ask    usdjpy_bid  \n",
       "count  32383.000000  32473.000000  32473.000000  \n",
       "mean       8.739539    110.015410    110.003956  \n",
       "std        0.034058      0.684108      0.685476  \n",
       "min        8.607350    108.285000    108.277000  \n",
       "25%        8.718090    109.551000    109.540000  \n",
       "50%        8.747320    109.815000    109.796000  \n",
       "75%        8.762980    110.348000    110.336000  \n",
       "max        8.803100    111.699000    111.657000  "
      ]
     },
     "execution_count": 11,
     "metadata": {},
     "output_type": "execute_result"
    }
   ],
   "source": [
    "df_desc"
   ]
  },
  {
   "cell_type": "code",
   "execution_count": 12,
   "metadata": {
    "ExecuteTime": {
     "end_time": "2019-10-31T04:44:22.630967Z",
     "start_time": "2019-10-31T04:44:22.623134Z"
    }
   },
   "outputs": [
    {
     "data": {
      "text/plain": [
       "32473.0"
      ]
     },
     "execution_count": 12,
     "metadata": {},
     "output_type": "execute_result"
    }
   ],
   "source": [
    "max_datapoints = np.max(df_desc.loc['count'])\n",
    "max_datapoints"
   ]
  },
  {
   "cell_type": "markdown",
   "metadata": {},
   "source": [
    "## 2.4 Drop from and add some columns to `df`"
   ]
  },
  {
   "cell_type": "markdown",
   "metadata": {},
   "source": [
    "- Drop: `datetime` (no use)\n",
    "- Add: `ccy`, `timestamp`\n",
    "- Retain: `bid_price`, `ask_price`"
   ]
  },
  {
   "cell_type": "code",
   "execution_count": 13,
   "metadata": {
    "ExecuteTime": {
     "end_time": "2019-10-31T04:45:01.542407Z",
     "start_time": "2019-10-31T04:44:22.634416Z"
    }
   },
   "outputs": [],
   "source": [
    "for ccy in ccy_list:\n",
    "    df[ccy]['ccy'] = ccy\n",
    "    df[ccy]['timestamp'] = df[ccy].datetime.apply(lambda x: pd.to_datetime(x))\n",
    "    cols_to_use = ['timestamp', 'ccy', 'bid_price', 'ask_price']\n",
    "    df[ccy] = df[ccy][cols_to_use]"
   ]
  },
  {
   "cell_type": "code",
   "execution_count": 14,
   "metadata": {
    "ExecuteTime": {
     "end_time": "2019-10-31T04:45:01.556882Z",
     "start_time": "2019-10-31T04:45:01.544783Z"
    }
   },
   "outputs": [
    {
     "data": {
      "text/html": [
       "<div>\n",
       "<style scoped>\n",
       "    .dataframe tbody tr th:only-of-type {\n",
       "        vertical-align: middle;\n",
       "    }\n",
       "\n",
       "    .dataframe tbody tr th {\n",
       "        vertical-align: top;\n",
       "    }\n",
       "\n",
       "    .dataframe thead th {\n",
       "        text-align: right;\n",
       "    }\n",
       "</style>\n",
       "<table border=\"1\" class=\"dataframe\">\n",
       "  <thead>\n",
       "    <tr style=\"text-align: right;\">\n",
       "      <th></th>\n",
       "      <th>timestamp</th>\n",
       "      <th>ccy</th>\n",
       "      <th>bid_price</th>\n",
       "      <th>ask_price</th>\n",
       "    </tr>\n",
       "  </thead>\n",
       "  <tbody>\n",
       "    <tr>\n",
       "      <th>13168</th>\n",
       "      <td>2019-05-14 03:53:00</td>\n",
       "      <td>usdjpy</td>\n",
       "      <td>109.698</td>\n",
       "      <td>109.706</td>\n",
       "    </tr>\n",
       "    <tr>\n",
       "      <th>15448</th>\n",
       "      <td>2019-05-15 17:56:00</td>\n",
       "      <td>usdjpy</td>\n",
       "      <td>109.583</td>\n",
       "      <td>109.584</td>\n",
       "    </tr>\n",
       "    <tr>\n",
       "      <th>21393</th>\n",
       "      <td>2019-05-21 21:07:00</td>\n",
       "      <td>usdjpy</td>\n",
       "      <td>110.517</td>\n",
       "      <td>110.527</td>\n",
       "    </tr>\n",
       "    <tr>\n",
       "      <th>16582</th>\n",
       "      <td>2019-05-16 12:50:00</td>\n",
       "      <td>usdjpy</td>\n",
       "      <td>109.849</td>\n",
       "      <td>109.858</td>\n",
       "    </tr>\n",
       "    <tr>\n",
       "      <th>14099</th>\n",
       "      <td>2019-05-14 19:25:00</td>\n",
       "      <td>usdjpy</td>\n",
       "      <td>109.658</td>\n",
       "      <td>109.660</td>\n",
       "    </tr>\n",
       "  </tbody>\n",
       "</table>\n",
       "</div>"
      ],
      "text/plain": [
       "                timestamp     ccy  bid_price  ask_price\n",
       "13168 2019-05-14 03:53:00  usdjpy    109.698    109.706\n",
       "15448 2019-05-15 17:56:00  usdjpy    109.583    109.584\n",
       "21393 2019-05-21 21:07:00  usdjpy    110.517    110.527\n",
       "16582 2019-05-16 12:50:00  usdjpy    109.849    109.858\n",
       "14099 2019-05-14 19:25:00  usdjpy    109.658    109.660"
      ]
     },
     "execution_count": 14,
     "metadata": {},
     "output_type": "execute_result"
    }
   ],
   "source": [
    "#rand_ccy = ccy_list[np.random.randint(len(ccy_list))]\n",
    "rand_ccy='usdjpy'\n",
    "df[rand_ccy].sample(5)"
   ]
  },
  {
   "cell_type": "markdown",
   "metadata": {
    "ExecuteTime": {
     "end_time": "2019-10-30T16:05:23.457496Z",
     "start_time": "2019-10-30T16:05:23.451601Z"
    }
   },
   "source": [
    "### Check if we have all data points in `df`"
   ]
  },
  {
   "cell_type": "code",
   "execution_count": 15,
   "metadata": {
    "ExecuteTime": {
     "end_time": "2019-10-31T04:45:01.563772Z",
     "start_time": "2019-10-31T04:45:01.559641Z"
    }
   },
   "outputs": [],
   "source": [
    "assert np.sum([len(df[ccy]) for ccy in ccy_list]) == total_size, \"We got some data loss.\""
   ]
  },
  {
   "cell_type": "markdown",
   "metadata": {},
   "source": [
    "## 2.5 Padding missing time to `df`"
   ]
  },
  {
   "cell_type": "markdown",
   "metadata": {},
   "source": [
    "### Creating a new index `idx`\n",
    "#### `timestamp` policy:\n",
    "- If any curency pair has any price at timestamp $t$, then we have the timestamp $t$ for the rest of the currency pairs as well."
   ]
  },
  {
   "cell_type": "markdown",
   "metadata": {},
   "source": [
    "#### We create a union set `idx` of `timestamp` for every currency pair so that we can cover every data point."
   ]
  },
  {
   "cell_type": "code",
   "execution_count": 16,
   "metadata": {
    "ExecuteTime": {
     "end_time": "2019-10-31T04:45:01.579374Z",
     "start_time": "2019-10-31T04:45:01.567115Z"
    }
   },
   "outputs": [],
   "source": [
    "ccy_idx = {}\n",
    "for i, ccy in enumerate(ccy_list):\n",
    "    ccy_idx[ccy] = pd.Index(df[ccy].timestamp)\n",
    "    if i == 0 :\n",
    "        idx = pd.Index(ccy_idx[ccy])\n",
    "    else:\n",
    "        idx = idx.union(ccy_idx[ccy])"
   ]
  },
  {
   "cell_type": "markdown",
   "metadata": {},
   "source": [
    "#### Apply `idx` to every `df[ccy]`"
   ]
  },
  {
   "cell_type": "code",
   "execution_count": 17,
   "metadata": {
    "ExecuteTime": {
     "end_time": "2019-10-31T04:45:01.725166Z",
     "start_time": "2019-10-31T04:45:01.582068Z"
    }
   },
   "outputs": [],
   "source": [
    "for ccy in ccy_list:\n",
    "    df_ccy = pd.DataFrame(index=idx)\n",
    "    df[ccy] = df_ccy.merge(df[ccy], how='left', on='timestamp')\n",
    "    df[ccy]['ccy'].fillna(ccy, inplace=True)"
   ]
  },
  {
   "cell_type": "code",
   "execution_count": 18,
   "metadata": {
    "ExecuteTime": {
     "end_time": "2019-10-31T04:45:01.731835Z",
     "start_time": "2019-10-31T04:45:01.727553Z"
    }
   },
   "outputs": [],
   "source": [
    "assert np.min([df[f].shape[0] for f in df.keys()]) >= max_datapoints, \"We got some data loss.\""
   ]
  },
  {
   "cell_type": "markdown",
   "metadata": {},
   "source": [
    "#### We get the global earliest date and last date over the entire data set."
   ]
  },
  {
   "cell_type": "markdown",
   "metadata": {},
   "source": [
    "## 2.6 Create the data set `X`\n",
    "### We do it simply by appending `df` for each currency pair to create the data set `X`"
   ]
  },
  {
   "cell_type": "markdown",
   "metadata": {},
   "source": [
    "Create a template for `X`"
   ]
  },
  {
   "cell_type": "code",
   "execution_count": 19,
   "metadata": {
    "ExecuteTime": {
     "end_time": "2019-10-31T04:45:01.745202Z",
     "start_time": "2019-10-31T04:45:01.734539Z"
    }
   },
   "outputs": [
    {
     "data": {
      "text/html": [
       "<div>\n",
       "<style scoped>\n",
       "    .dataframe tbody tr th:only-of-type {\n",
       "        vertical-align: middle;\n",
       "    }\n",
       "\n",
       "    .dataframe tbody tr th {\n",
       "        vertical-align: top;\n",
       "    }\n",
       "\n",
       "    .dataframe thead th {\n",
       "        text-align: right;\n",
       "    }\n",
       "</style>\n",
       "<table border=\"1\" class=\"dataframe\">\n",
       "  <thead>\n",
       "    <tr style=\"text-align: right;\">\n",
       "      <th></th>\n",
       "      <th>timestamp</th>\n",
       "      <th>ccy</th>\n",
       "      <th>bid_price</th>\n",
       "      <th>ask_price</th>\n",
       "    </tr>\n",
       "  </thead>\n",
       "  <tbody>\n",
       "  </tbody>\n",
       "</table>\n",
       "</div>"
      ],
      "text/plain": [
       "Empty DataFrame\n",
       "Columns: [timestamp, ccy, bid_price, ask_price]\n",
       "Index: []"
      ]
     },
     "execution_count": 19,
     "metadata": {},
     "output_type": "execute_result"
    }
   ],
   "source": [
    "X = pd.DataFrame(columns = df[ccy_list[0]].columns)\n",
    "X"
   ]
  },
  {
   "cell_type": "code",
   "execution_count": 20,
   "metadata": {
    "ExecuteTime": {
     "end_time": "2019-10-31T04:45:01.813001Z",
     "start_time": "2019-10-31T04:45:01.748181Z"
    }
   },
   "outputs": [],
   "source": [
    "for ccy in ccy_list:\n",
    "    X = X.append(df[ccy], ignore_index=False, sort=False)"
   ]
  },
  {
   "cell_type": "code",
   "execution_count": 21,
   "metadata": {
    "ExecuteTime": {
     "end_time": "2019-10-31T04:45:01.836152Z",
     "start_time": "2019-10-31T04:45:01.815527Z"
    }
   },
   "outputs": [
    {
     "data": {
      "text/html": [
       "<div>\n",
       "<style scoped>\n",
       "    .dataframe tbody tr th:only-of-type {\n",
       "        vertical-align: middle;\n",
       "    }\n",
       "\n",
       "    .dataframe tbody tr th {\n",
       "        vertical-align: top;\n",
       "    }\n",
       "\n",
       "    .dataframe thead th {\n",
       "        text-align: right;\n",
       "    }\n",
       "</style>\n",
       "<table border=\"1\" class=\"dataframe\">\n",
       "  <thead>\n",
       "    <tr style=\"text-align: right;\">\n",
       "      <th></th>\n",
       "      <th>timestamp</th>\n",
       "      <th>ccy</th>\n",
       "      <th>bid_price</th>\n",
       "      <th>ask_price</th>\n",
       "    </tr>\n",
       "  </thead>\n",
       "  <tbody>\n",
       "    <tr>\n",
       "      <th>16452</th>\n",
       "      <td>2019-05-16 10:13:00</td>\n",
       "      <td>usdchf</td>\n",
       "      <td>1.01007</td>\n",
       "      <td>1.01024</td>\n",
       "    </tr>\n",
       "    <tr>\n",
       "      <th>10716</th>\n",
       "      <td>2019-05-10 10:37:00</td>\n",
       "      <td>audusd</td>\n",
       "      <td>0.70034</td>\n",
       "      <td>0.70045</td>\n",
       "    </tr>\n",
       "    <tr>\n",
       "      <th>6752</th>\n",
       "      <td>2019-05-07 16:33:00</td>\n",
       "      <td>usdnok</td>\n",
       "      <td>8.74850</td>\n",
       "      <td>8.74892</td>\n",
       "    </tr>\n",
       "    <tr>\n",
       "      <th>28318</th>\n",
       "      <td>2019-05-28 18:58:00</td>\n",
       "      <td>gbpusd</td>\n",
       "      <td>1.26570</td>\n",
       "      <td>1.26571</td>\n",
       "    </tr>\n",
       "    <tr>\n",
       "      <th>5234</th>\n",
       "      <td>2019-05-06 15:15:00</td>\n",
       "      <td>usdsek</td>\n",
       "      <td>9.55556</td>\n",
       "      <td>9.55653</td>\n",
       "    </tr>\n",
       "  </tbody>\n",
       "</table>\n",
       "</div>"
      ],
      "text/plain": [
       "                timestamp     ccy  bid_price  ask_price\n",
       "16452 2019-05-16 10:13:00  usdchf    1.01007    1.01024\n",
       "10716 2019-05-10 10:37:00  audusd    0.70034    0.70045\n",
       "6752  2019-05-07 16:33:00  usdnok    8.74850    8.74892\n",
       "28318 2019-05-28 18:58:00  gbpusd    1.26570    1.26571\n",
       "5234  2019-05-06 15:15:00  usdsek    9.55556    9.55653"
      ]
     },
     "execution_count": 21,
     "metadata": {},
     "output_type": "execute_result"
    }
   ],
   "source": [
    "X.sample(5)"
   ]
  },
  {
   "cell_type": "markdown",
   "metadata": {},
   "source": [
    "## 2.7 Missing Data Analysis\n",
    "#### An imputing policy:\n",
    "- First we sort `X` by `ccy` and `timestamp`, and reset the index.\n",
    "- Then we group `X` by `ccy`\n",
    "- We finally forwardfill (use previous values to fill missing values)"
   ]
  },
  {
   "cell_type": "code",
   "execution_count": 22,
   "metadata": {
    "ExecuteTime": {
     "end_time": "2019-10-31T04:45:01.936148Z",
     "start_time": "2019-10-31T04:45:01.839494Z"
    }
   },
   "outputs": [],
   "source": [
    "X = X.sort_values(by=['ccy','timestamp'])\n",
    "X.reset_index(drop=True, inplace=True)"
   ]
  },
  {
   "cell_type": "markdown",
   "metadata": {},
   "source": [
    "### Missing data\n",
    "- `bid_price`: 4,676\n",
    "- `ask_price`: 4,676\n",
    "- We impute them by previous values (done by group)"
   ]
  },
  {
   "cell_type": "code",
   "execution_count": 23,
   "metadata": {
    "ExecuteTime": {
     "end_time": "2019-10-31T04:45:01.963750Z",
     "start_time": "2019-10-31T04:45:01.943515Z"
    }
   },
   "outputs": [
    {
     "data": {
      "text/plain": [
       "timestamp       0\n",
       "ccy             0\n",
       "bid_price    4676\n",
       "ask_price    4676\n",
       "dtype: int64"
      ]
     },
     "execution_count": 23,
     "metadata": {},
     "output_type": "execute_result"
    }
   ],
   "source": [
    "X.isna().sum()"
   ]
  },
  {
   "cell_type": "code",
   "execution_count": 24,
   "metadata": {
    "ExecuteTime": {
     "end_time": "2019-10-31T04:45:02.018440Z",
     "start_time": "2019-10-31T04:45:01.967755Z"
    }
   },
   "outputs": [],
   "source": [
    "g = X.groupby('ccy')\n",
    "X['bid_price'] = g['bid_price'].fillna(method='ffill')\n",
    "X['ask_price'] = g['ask_price'].fillna(method='ffill')"
   ]
  },
  {
   "cell_type": "markdown",
   "metadata": {},
   "source": [
    "#### Now we have no missing value. Cleaning is *done*."
   ]
  },
  {
   "cell_type": "code",
   "execution_count": 25,
   "metadata": {
    "ExecuteTime": {
     "end_time": "2019-10-31T04:45:02.041372Z",
     "start_time": "2019-10-31T04:45:02.020738Z"
    }
   },
   "outputs": [
    {
     "data": {
      "text/plain": [
       "timestamp    0\n",
       "ccy          0\n",
       "bid_price    0\n",
       "ask_price    0\n",
       "dtype: int64"
      ]
     },
     "execution_count": 25,
     "metadata": {},
     "output_type": "execute_result"
    }
   ],
   "source": [
    "X.isna().sum()"
   ]
  },
  {
   "cell_type": "markdown",
   "metadata": {},
   "source": [
    "## 2.8 Calculate `bid_ret`, `ask_ret` and `mid_price`"
   ]
  },
  {
   "cell_type": "code",
   "execution_count": 26,
   "metadata": {
    "ExecuteTime": {
     "end_time": "2019-10-31T04:45:02.161141Z",
     "start_time": "2019-10-31T04:45:02.043827Z"
    }
   },
   "outputs": [],
   "source": [
    "X.loc[X['ccy'] == X['ccy'].shift(), 'bid_ret'] = np.log(X['bid_price']) - np.log(X['bid_price'].shift())\n",
    "X.loc[X['ccy'] == X['ccy'].shift(), 'ask_ret'] = np.log(X['ask_price']) - np.log(X['ask_price'].shift())\n",
    "X['mid_price'] = X['ask_price'] - X['bid_price']"
   ]
  },
  {
   "cell_type": "code",
   "execution_count": 27,
   "metadata": {
    "ExecuteTime": {
     "end_time": "2019-10-31T04:45:02.213859Z",
     "start_time": "2019-10-31T04:45:02.163451Z"
    },
    "scrolled": true
   },
   "outputs": [
    {
     "data": {
      "text/html": [
       "<div>\n",
       "<style scoped>\n",
       "    .dataframe tbody tr th:only-of-type {\n",
       "        vertical-align: middle;\n",
       "    }\n",
       "\n",
       "    .dataframe tbody tr th {\n",
       "        vertical-align: top;\n",
       "    }\n",
       "\n",
       "    .dataframe thead th {\n",
       "        text-align: right;\n",
       "    }\n",
       "</style>\n",
       "<table border=\"1\" class=\"dataframe\">\n",
       "  <thead>\n",
       "    <tr style=\"text-align: right;\">\n",
       "      <th></th>\n",
       "      <th>timestamp</th>\n",
       "      <th>ccy</th>\n",
       "      <th>bid_price</th>\n",
       "      <th>ask_price</th>\n",
       "      <th>bid_ret</th>\n",
       "      <th>ask_ret</th>\n",
       "      <th>mid_price</th>\n",
       "    </tr>\n",
       "  </thead>\n",
       "  <tbody>\n",
       "    <tr>\n",
       "      <th>0</th>\n",
       "      <td>2019-05-01 00:01:00</td>\n",
       "      <td>audusd</td>\n",
       "      <td>0.70514</td>\n",
       "      <td>0.70517</td>\n",
       "      <td>NaN</td>\n",
       "      <td>NaN</td>\n",
       "      <td>0.00003</td>\n",
       "    </tr>\n",
       "    <tr>\n",
       "      <th>32519</th>\n",
       "      <td>2019-05-01 00:01:00</td>\n",
       "      <td>eurusd</td>\n",
       "      <td>1.12182</td>\n",
       "      <td>1.12188</td>\n",
       "      <td>NaN</td>\n",
       "      <td>NaN</td>\n",
       "      <td>0.00006</td>\n",
       "    </tr>\n",
       "    <tr>\n",
       "      <th>65038</th>\n",
       "      <td>2019-05-01 00:01:00</td>\n",
       "      <td>gbpusd</td>\n",
       "      <td>1.30426</td>\n",
       "      <td>1.30430</td>\n",
       "      <td>NaN</td>\n",
       "      <td>NaN</td>\n",
       "      <td>0.00004</td>\n",
       "    </tr>\n",
       "    <tr>\n",
       "      <th>97557</th>\n",
       "      <td>2019-05-01 00:01:00</td>\n",
       "      <td>nzdusd</td>\n",
       "      <td>0.66488</td>\n",
       "      <td>0.66490</td>\n",
       "      <td>NaN</td>\n",
       "      <td>NaN</td>\n",
       "      <td>0.00002</td>\n",
       "    </tr>\n",
       "    <tr>\n",
       "      <th>130076</th>\n",
       "      <td>2019-05-01 00:01:00</td>\n",
       "      <td>usdcad</td>\n",
       "      <td>1.33774</td>\n",
       "      <td>1.33776</td>\n",
       "      <td>NaN</td>\n",
       "      <td>NaN</td>\n",
       "      <td>0.00002</td>\n",
       "    </tr>\n",
       "    <tr>\n",
       "      <th>162595</th>\n",
       "      <td>2019-05-01 00:01:00</td>\n",
       "      <td>usdchf</td>\n",
       "      <td>1.01927</td>\n",
       "      <td>1.01930</td>\n",
       "      <td>NaN</td>\n",
       "      <td>NaN</td>\n",
       "      <td>0.00003</td>\n",
       "    </tr>\n",
       "    <tr>\n",
       "      <th>195114</th>\n",
       "      <td>2019-05-01 00:01:00</td>\n",
       "      <td>usdjpy</td>\n",
       "      <td>111.48800</td>\n",
       "      <td>111.48900</td>\n",
       "      <td>NaN</td>\n",
       "      <td>NaN</td>\n",
       "      <td>0.00100</td>\n",
       "    </tr>\n",
       "    <tr>\n",
       "      <th>227633</th>\n",
       "      <td>2019-05-01 00:01:00</td>\n",
       "      <td>usdnok</td>\n",
       "      <td>8.62020</td>\n",
       "      <td>8.62055</td>\n",
       "      <td>NaN</td>\n",
       "      <td>NaN</td>\n",
       "      <td>0.00035</td>\n",
       "    </tr>\n",
       "    <tr>\n",
       "      <th>260152</th>\n",
       "      <td>2019-05-01 00:01:00</td>\n",
       "      <td>usdsek</td>\n",
       "      <td>9.48740</td>\n",
       "      <td>9.48757</td>\n",
       "      <td>NaN</td>\n",
       "      <td>NaN</td>\n",
       "      <td>0.00017</td>\n",
       "    </tr>\n",
       "  </tbody>\n",
       "</table>\n",
       "</div>"
      ],
      "text/plain": [
       "                 timestamp     ccy  bid_price  ask_price  bid_ret  ask_ret  \\\n",
       "0      2019-05-01 00:01:00  audusd    0.70514    0.70517      NaN      NaN   \n",
       "32519  2019-05-01 00:01:00  eurusd    1.12182    1.12188      NaN      NaN   \n",
       "65038  2019-05-01 00:01:00  gbpusd    1.30426    1.30430      NaN      NaN   \n",
       "97557  2019-05-01 00:01:00  nzdusd    0.66488    0.66490      NaN      NaN   \n",
       "130076 2019-05-01 00:01:00  usdcad    1.33774    1.33776      NaN      NaN   \n",
       "162595 2019-05-01 00:01:00  usdchf    1.01927    1.01930      NaN      NaN   \n",
       "195114 2019-05-01 00:01:00  usdjpy  111.48800  111.48900      NaN      NaN   \n",
       "227633 2019-05-01 00:01:00  usdnok    8.62020    8.62055      NaN      NaN   \n",
       "260152 2019-05-01 00:01:00  usdsek    9.48740    9.48757      NaN      NaN   \n",
       "\n",
       "        mid_price  \n",
       "0         0.00003  \n",
       "32519     0.00006  \n",
       "65038     0.00004  \n",
       "97557     0.00002  \n",
       "130076    0.00002  \n",
       "162595    0.00003  \n",
       "195114    0.00100  \n",
       "227633    0.00035  \n",
       "260152    0.00017  "
      ]
     },
     "execution_count": 27,
     "metadata": {},
     "output_type": "execute_result"
    }
   ],
   "source": [
    "X_boundary = X.loc[X['ccy'] != X['ccy'].shift()]\n",
    "X_boundary"
   ]
  },
  {
   "cell_type": "code",
   "execution_count": 28,
   "metadata": {
    "ExecuteTime": {
     "end_time": "2019-10-31T04:45:02.253659Z",
     "start_time": "2019-10-31T04:45:02.216932Z"
    }
   },
   "outputs": [],
   "source": [
    "X.dropna(axis='index', how='any', inplace=True)"
   ]
  },
  {
   "cell_type": "code",
   "execution_count": 29,
   "metadata": {
    "ExecuteTime": {
     "end_time": "2019-10-31T04:45:02.279779Z",
     "start_time": "2019-10-31T04:45:02.256244Z"
    },
    "scrolled": true
   },
   "outputs": [
    {
     "data": {
      "text/plain": [
       "timestamp    0\n",
       "ccy          0\n",
       "bid_price    0\n",
       "ask_price    0\n",
       "bid_ret      0\n",
       "ask_ret      0\n",
       "mid_price    0\n",
       "dtype: int64"
      ]
     },
     "execution_count": 29,
     "metadata": {},
     "output_type": "execute_result"
    }
   ],
   "source": [
    "X.isna().sum()"
   ]
  },
  {
   "cell_type": "code",
   "execution_count": 30,
   "metadata": {
    "ExecuteTime": {
     "end_time": "2019-10-31T04:45:02.286340Z",
     "start_time": "2019-10-31T04:45:02.282638Z"
    }
   },
   "outputs": [],
   "source": [
    "X.reset_index(drop=True, inplace=True)"
   ]
  },
  {
   "cell_type": "code",
   "execution_count": 31,
   "metadata": {
    "ExecuteTime": {
     "end_time": "2019-10-31T04:45:02.308708Z",
     "start_time": "2019-10-31T04:45:02.289500Z"
    }
   },
   "outputs": [
    {
     "data": {
      "text/html": [
       "<div>\n",
       "<style scoped>\n",
       "    .dataframe tbody tr th:only-of-type {\n",
       "        vertical-align: middle;\n",
       "    }\n",
       "\n",
       "    .dataframe tbody tr th {\n",
       "        vertical-align: top;\n",
       "    }\n",
       "\n",
       "    .dataframe thead th {\n",
       "        text-align: right;\n",
       "    }\n",
       "</style>\n",
       "<table border=\"1\" class=\"dataframe\">\n",
       "  <thead>\n",
       "    <tr style=\"text-align: right;\">\n",
       "      <th></th>\n",
       "      <th>timestamp</th>\n",
       "      <th>ccy</th>\n",
       "      <th>bid_price</th>\n",
       "      <th>ask_price</th>\n",
       "      <th>bid_ret</th>\n",
       "      <th>ask_ret</th>\n",
       "      <th>mid_price</th>\n",
       "    </tr>\n",
       "  </thead>\n",
       "  <tbody>\n",
       "    <tr>\n",
       "      <th>0</th>\n",
       "      <td>2019-05-01 00:02:00</td>\n",
       "      <td>audusd</td>\n",
       "      <td>0.70514</td>\n",
       "      <td>0.70517</td>\n",
       "      <td>0.000000</td>\n",
       "      <td>0.000000</td>\n",
       "      <td>0.00003</td>\n",
       "    </tr>\n",
       "    <tr>\n",
       "      <th>1</th>\n",
       "      <td>2019-05-01 00:03:00</td>\n",
       "      <td>audusd</td>\n",
       "      <td>0.70517</td>\n",
       "      <td>0.70517</td>\n",
       "      <td>0.000043</td>\n",
       "      <td>0.000000</td>\n",
       "      <td>0.00000</td>\n",
       "    </tr>\n",
       "    <tr>\n",
       "      <th>2</th>\n",
       "      <td>2019-05-01 00:04:00</td>\n",
       "      <td>audusd</td>\n",
       "      <td>0.70517</td>\n",
       "      <td>0.70518</td>\n",
       "      <td>0.000000</td>\n",
       "      <td>0.000014</td>\n",
       "      <td>0.00001</td>\n",
       "    </tr>\n",
       "    <tr>\n",
       "      <th>3</th>\n",
       "      <td>2019-05-01 00:05:00</td>\n",
       "      <td>audusd</td>\n",
       "      <td>0.70517</td>\n",
       "      <td>0.70518</td>\n",
       "      <td>0.000000</td>\n",
       "      <td>0.000000</td>\n",
       "      <td>0.00001</td>\n",
       "    </tr>\n",
       "    <tr>\n",
       "      <th>4</th>\n",
       "      <td>2019-05-01 00:06:00</td>\n",
       "      <td>audusd</td>\n",
       "      <td>0.70517</td>\n",
       "      <td>0.70518</td>\n",
       "      <td>0.000000</td>\n",
       "      <td>0.000000</td>\n",
       "      <td>0.00001</td>\n",
       "    </tr>\n",
       "  </tbody>\n",
       "</table>\n",
       "</div>"
      ],
      "text/plain": [
       "            timestamp     ccy  bid_price  ask_price   bid_ret   ask_ret  \\\n",
       "0 2019-05-01 00:02:00  audusd    0.70514    0.70517  0.000000  0.000000   \n",
       "1 2019-05-01 00:03:00  audusd    0.70517    0.70517  0.000043  0.000000   \n",
       "2 2019-05-01 00:04:00  audusd    0.70517    0.70518  0.000000  0.000014   \n",
       "3 2019-05-01 00:05:00  audusd    0.70517    0.70518  0.000000  0.000000   \n",
       "4 2019-05-01 00:06:00  audusd    0.70517    0.70518  0.000000  0.000000   \n",
       "\n",
       "   mid_price  \n",
       "0    0.00003  \n",
       "1    0.00000  \n",
       "2    0.00001  \n",
       "3    0.00001  \n",
       "4    0.00001  "
      ]
     },
     "execution_count": 31,
     "metadata": {},
     "output_type": "execute_result"
    }
   ],
   "source": [
    "X.head()"
   ]
  },
  {
   "cell_type": "markdown",
   "metadata": {},
   "source": [
    "## 2.9 Let's plot for a visual check."
   ]
  },
  {
   "cell_type": "code",
   "execution_count": 32,
   "metadata": {
    "ExecuteTime": {
     "end_time": "2019-10-31T04:45:02.325474Z",
     "start_time": "2019-10-31T04:45:02.312777Z"
    }
   },
   "outputs": [],
   "source": [
    "# Code: https://stackoverflow.com/questions/11640243/pandas-plot-multiple-y-axes\n",
    "def plot_multi(data, cols=None, spacing=.1, **kwargs):\n",
    "\n",
    "    from pandas import plotting\n",
    "\n",
    "    # Get default color style from pandas - can be changed to any other color list\n",
    "    if cols is None: cols = data.columns\n",
    "    if len(cols) == 0: return\n",
    "    colors = getattr(getattr(plotting, '_matplotlib').style, '_get_standard_colors')(num_colors=len(cols))\n",
    "\n",
    "    # First axis\n",
    "    ax = data.loc[:, cols[0]].plot(label=cols[0], color=colors[0], **kwargs)\n",
    "    ax.set_ylabel(ylabel=cols[0])\n",
    "    ax.tick_params(axis='y', colors=colors[0])\n",
    "    lines, labels = ax.get_legend_handles_labels()\n",
    "\n",
    "    for n in range(1, len(cols)):\n",
    "        # Multiple y-axes\n",
    "        ax_new = ax.twinx()\n",
    "        ax_new.spines['right'].set_position(('axes', 1 + spacing * (n - 1)))\n",
    "        data.loc[:, cols[n]].plot(ax=ax_new, label=cols[n], color=colors[n % len(colors)])\n",
    "        ax_new.set_ylabel(ylabel=cols[n])\n",
    "        ax_new.tick_params(axis='y', colors=colors[n % len(colors)])\n",
    "\n",
    "        # Proper legend position\n",
    "        line, label = ax_new.get_legend_handles_labels()\n",
    "        lines += line\n",
    "        labels += label\n",
    "\n",
    "    ax.legend(lines, labels, loc=0)\n",
    "    return ax"
   ]
  },
  {
   "cell_type": "code",
   "execution_count": 33,
   "metadata": {
    "ExecuteTime": {
     "end_time": "2019-10-31T04:45:02.606480Z",
     "start_time": "2019-10-31T04:45:02.329321Z"
    }
   },
   "outputs": [],
   "source": [
    "bid_dict = dict()\n",
    "ask_dict = dict()\n",
    "for ccy in ccy_list:\n",
    "    bid_dict[ccy] = X[X.ccy==ccy].bid_price.reset_index(drop=True)\n",
    "    ask_dict[ccy] = X[X.ccy==ccy].ask_price.reset_index(drop=True)\n",
    "X_bid = pd.DataFrame(bid_dict)\n",
    "X_ask = pd.DataFrame(ask_dict)"
   ]
  },
  {
   "cell_type": "code",
   "execution_count": 34,
   "metadata": {
    "ExecuteTime": {
     "end_time": "2019-10-31T04:45:02.624178Z",
     "start_time": "2019-10-31T04:45:02.608862Z"
    }
   },
   "outputs": [
    {
     "data": {
      "text/html": [
       "<div>\n",
       "<style scoped>\n",
       "    .dataframe tbody tr th:only-of-type {\n",
       "        vertical-align: middle;\n",
       "    }\n",
       "\n",
       "    .dataframe tbody tr th {\n",
       "        vertical-align: top;\n",
       "    }\n",
       "\n",
       "    .dataframe thead th {\n",
       "        text-align: right;\n",
       "    }\n",
       "</style>\n",
       "<table border=\"1\" class=\"dataframe\">\n",
       "  <thead>\n",
       "    <tr style=\"text-align: right;\">\n",
       "      <th></th>\n",
       "      <th>audusd</th>\n",
       "      <th>gbpusd</th>\n",
       "      <th>usdcad</th>\n",
       "      <th>eurusd</th>\n",
       "      <th>usdchf</th>\n",
       "      <th>usdsek</th>\n",
       "      <th>nzdusd</th>\n",
       "      <th>usdnok</th>\n",
       "      <th>usdjpy</th>\n",
       "    </tr>\n",
       "  </thead>\n",
       "  <tbody>\n",
       "    <tr>\n",
       "      <th>0</th>\n",
       "      <td>0.70514</td>\n",
       "      <td>1.30425</td>\n",
       "      <td>1.33776</td>\n",
       "      <td>1.12182</td>\n",
       "      <td>1.01928</td>\n",
       "      <td>9.48757</td>\n",
       "      <td>0.66485</td>\n",
       "      <td>8.62052</td>\n",
       "      <td>111.488</td>\n",
       "    </tr>\n",
       "    <tr>\n",
       "      <th>1</th>\n",
       "      <td>0.70517</td>\n",
       "      <td>1.30435</td>\n",
       "      <td>1.33777</td>\n",
       "      <td>1.12182</td>\n",
       "      <td>1.01928</td>\n",
       "      <td>9.48757</td>\n",
       "      <td>0.66489</td>\n",
       "      <td>8.62105</td>\n",
       "      <td>111.488</td>\n",
       "    </tr>\n",
       "    <tr>\n",
       "      <th>2</th>\n",
       "      <td>0.70517</td>\n",
       "      <td>1.30426</td>\n",
       "      <td>1.33781</td>\n",
       "      <td>1.12182</td>\n",
       "      <td>1.01928</td>\n",
       "      <td>9.48757</td>\n",
       "      <td>0.66489</td>\n",
       "      <td>8.62104</td>\n",
       "      <td>111.489</td>\n",
       "    </tr>\n",
       "    <tr>\n",
       "      <th>3</th>\n",
       "      <td>0.70517</td>\n",
       "      <td>1.30427</td>\n",
       "      <td>1.33783</td>\n",
       "      <td>1.12179</td>\n",
       "      <td>1.01927</td>\n",
       "      <td>9.48757</td>\n",
       "      <td>0.66488</td>\n",
       "      <td>8.62111</td>\n",
       "      <td>111.487</td>\n",
       "    </tr>\n",
       "    <tr>\n",
       "      <th>4</th>\n",
       "      <td>0.70517</td>\n",
       "      <td>1.30427</td>\n",
       "      <td>1.33784</td>\n",
       "      <td>1.12180</td>\n",
       "      <td>1.01928</td>\n",
       "      <td>9.48790</td>\n",
       "      <td>0.66488</td>\n",
       "      <td>8.62132</td>\n",
       "      <td>111.488</td>\n",
       "    </tr>\n",
       "  </tbody>\n",
       "</table>\n",
       "</div>"
      ],
      "text/plain": [
       "    audusd   gbpusd   usdcad   eurusd   usdchf   usdsek   nzdusd   usdnok  \\\n",
       "0  0.70514  1.30425  1.33776  1.12182  1.01928  9.48757  0.66485  8.62052   \n",
       "1  0.70517  1.30435  1.33777  1.12182  1.01928  9.48757  0.66489  8.62105   \n",
       "2  0.70517  1.30426  1.33781  1.12182  1.01928  9.48757  0.66489  8.62104   \n",
       "3  0.70517  1.30427  1.33783  1.12179  1.01927  9.48757  0.66488  8.62111   \n",
       "4  0.70517  1.30427  1.33784  1.12180  1.01928  9.48790  0.66488  8.62132   \n",
       "\n",
       "    usdjpy  \n",
       "0  111.488  \n",
       "1  111.488  \n",
       "2  111.489  \n",
       "3  111.487  \n",
       "4  111.488  "
      ]
     },
     "execution_count": 34,
     "metadata": {},
     "output_type": "execute_result"
    }
   ],
   "source": [
    "X_bid.head()"
   ]
  },
  {
   "cell_type": "code",
   "execution_count": 35,
   "metadata": {
    "ExecuteTime": {
     "end_time": "2019-10-31T04:45:02.645114Z",
     "start_time": "2019-10-31T04:45:02.627881Z"
    }
   },
   "outputs": [
    {
     "data": {
      "text/html": [
       "<div>\n",
       "<style scoped>\n",
       "    .dataframe tbody tr th:only-of-type {\n",
       "        vertical-align: middle;\n",
       "    }\n",
       "\n",
       "    .dataframe tbody tr th {\n",
       "        vertical-align: top;\n",
       "    }\n",
       "\n",
       "    .dataframe thead th {\n",
       "        text-align: right;\n",
       "    }\n",
       "</style>\n",
       "<table border=\"1\" class=\"dataframe\">\n",
       "  <thead>\n",
       "    <tr style=\"text-align: right;\">\n",
       "      <th></th>\n",
       "      <th>audusd</th>\n",
       "      <th>gbpusd</th>\n",
       "      <th>usdcad</th>\n",
       "      <th>eurusd</th>\n",
       "      <th>usdchf</th>\n",
       "      <th>usdsek</th>\n",
       "      <th>nzdusd</th>\n",
       "      <th>usdnok</th>\n",
       "      <th>usdjpy</th>\n",
       "    </tr>\n",
       "  </thead>\n",
       "  <tbody>\n",
       "    <tr>\n",
       "      <th>0</th>\n",
       "      <td>0.70517</td>\n",
       "      <td>1.30439</td>\n",
       "      <td>1.33780</td>\n",
       "      <td>1.12184</td>\n",
       "      <td>1.01928</td>\n",
       "      <td>9.48757</td>\n",
       "      <td>0.66490</td>\n",
       "      <td>8.62105</td>\n",
       "      <td>111.489</td>\n",
       "    </tr>\n",
       "    <tr>\n",
       "      <th>1</th>\n",
       "      <td>0.70517</td>\n",
       "      <td>1.30439</td>\n",
       "      <td>1.33781</td>\n",
       "      <td>1.12183</td>\n",
       "      <td>1.01928</td>\n",
       "      <td>9.48757</td>\n",
       "      <td>0.66491</td>\n",
       "      <td>8.62106</td>\n",
       "      <td>111.489</td>\n",
       "    </tr>\n",
       "    <tr>\n",
       "      <th>2</th>\n",
       "      <td>0.70518</td>\n",
       "      <td>1.30437</td>\n",
       "      <td>1.33784</td>\n",
       "      <td>1.12183</td>\n",
       "      <td>1.01928</td>\n",
       "      <td>9.48757</td>\n",
       "      <td>0.66490</td>\n",
       "      <td>8.62124</td>\n",
       "      <td>111.489</td>\n",
       "    </tr>\n",
       "    <tr>\n",
       "      <th>3</th>\n",
       "      <td>0.70518</td>\n",
       "      <td>1.30438</td>\n",
       "      <td>1.33788</td>\n",
       "      <td>1.12183</td>\n",
       "      <td>1.01929</td>\n",
       "      <td>9.48791</td>\n",
       "      <td>0.66490</td>\n",
       "      <td>8.62135</td>\n",
       "      <td>111.489</td>\n",
       "    </tr>\n",
       "    <tr>\n",
       "      <th>4</th>\n",
       "      <td>0.70518</td>\n",
       "      <td>1.30431</td>\n",
       "      <td>1.33787</td>\n",
       "      <td>1.12181</td>\n",
       "      <td>1.01929</td>\n",
       "      <td>9.48791</td>\n",
       "      <td>0.66489</td>\n",
       "      <td>8.62141</td>\n",
       "      <td>111.488</td>\n",
       "    </tr>\n",
       "  </tbody>\n",
       "</table>\n",
       "</div>"
      ],
      "text/plain": [
       "    audusd   gbpusd   usdcad   eurusd   usdchf   usdsek   nzdusd   usdnok  \\\n",
       "0  0.70517  1.30439  1.33780  1.12184  1.01928  9.48757  0.66490  8.62105   \n",
       "1  0.70517  1.30439  1.33781  1.12183  1.01928  9.48757  0.66491  8.62106   \n",
       "2  0.70518  1.30437  1.33784  1.12183  1.01928  9.48757  0.66490  8.62124   \n",
       "3  0.70518  1.30438  1.33788  1.12183  1.01929  9.48791  0.66490  8.62135   \n",
       "4  0.70518  1.30431  1.33787  1.12181  1.01929  9.48791  0.66489  8.62141   \n",
       "\n",
       "    usdjpy  \n",
       "0  111.489  \n",
       "1  111.489  \n",
       "2  111.489  \n",
       "3  111.489  \n",
       "4  111.488  "
      ]
     },
     "execution_count": 35,
     "metadata": {},
     "output_type": "execute_result"
    }
   ],
   "source": [
    "X_ask.head()"
   ]
  },
  {
   "cell_type": "markdown",
   "metadata": {},
   "source": [
    "#### Bid prices"
   ]
  },
  {
   "cell_type": "code",
   "execution_count": 36,
   "metadata": {
    "ExecuteTime": {
     "end_time": "2019-10-31T04:45:04.555284Z",
     "start_time": "2019-10-31T04:45:02.648565Z"
    },
    "scrolled": true
   },
   "outputs": [
    {
     "data": {
      "text/plain": [
       "<matplotlib.axes._subplots.AxesSubplot at 0x7f981b7e0e10>"
      ]
     },
     "execution_count": 36,
     "metadata": {},
     "output_type": "execute_result"
    },
    {
     "data": {
      "image/png": "[encoded data removed]",
      "text/plain": [
       "<Figure size 720x360 with 9 Axes>"
      ]
     },
     "metadata": {},
     "output_type": "display_data"
    }
   ],
   "source": [
    "plot_multi(X_bid, figsize=(10, 5))"
   ]
  },
  {
   "cell_type": "markdown",
   "metadata": {},
   "source": [
    "#### Ask prices"
   ]
  },
  {
   "cell_type": "code",
   "execution_count": 37,
   "metadata": {
    "ExecuteTime": {
     "end_time": "2019-10-31T04:45:06.325913Z",
     "start_time": "2019-10-31T04:45:04.557571Z"
    }
   },
   "outputs": [
    {
     "data": {
      "text/plain": [
       "<matplotlib.axes._subplots.AxesSubplot at 0x7f9858bf8f28>"
      ]
     },
     "execution_count": 37,
     "metadata": {},
     "output_type": "execute_result"
    },
    {
     "data": {
      "image/png": "[encoded data removed]",
      "text/plain": [
       "<Figure size 720x360 with 9 Axes>"
      ]
     },
     "metadata": {},
     "output_type": "display_data"
    }
   ],
   "source": [
    "plot_multi(X_ask, figsize=(10, 5))"
   ]
  },
  {
   "cell_type": "code",
   "execution_count": null,
   "metadata": {},
   "outputs": [],
   "source": []
  },
  {
   "cell_type": "markdown",
   "metadata": {},
   "source": [
    "# 3. Data set `X` is ready"
   ]
  },
  {
   "cell_type": "markdown",
   "metadata": {},
   "source": [
    "## 3.1 Take a look"
   ]
  },
  {
   "cell_type": "code",
   "execution_count": 38,
   "metadata": {
    "ExecuteTime": {
     "end_time": "2019-10-31T04:45:06.331633Z",
     "start_time": "2019-10-31T04:45:06.327688Z"
    }
   },
   "outputs": [
    {
     "data": {
      "text/plain": [
       "(292662, 7)"
      ]
     },
     "execution_count": 38,
     "metadata": {},
     "output_type": "execute_result"
    }
   ],
   "source": [
    "X.shape"
   ]
  },
  {
   "cell_type": "code",
   "execution_count": 39,
   "metadata": {
    "ExecuteTime": {
     "end_time": "2019-10-31T04:45:06.360644Z",
     "start_time": "2019-10-31T04:45:06.334021Z"
    }
   },
   "outputs": [
    {
     "data": {
      "text/html": [
       "<div>\n",
       "<style scoped>\n",
       "    .dataframe tbody tr th:only-of-type {\n",
       "        vertical-align: middle;\n",
       "    }\n",
       "\n",
       "    .dataframe tbody tr th {\n",
       "        vertical-align: top;\n",
       "    }\n",
       "\n",
       "    .dataframe thead th {\n",
       "        text-align: right;\n",
       "    }\n",
       "</style>\n",
       "<table border=\"1\" class=\"dataframe\">\n",
       "  <thead>\n",
       "    <tr style=\"text-align: right;\">\n",
       "      <th></th>\n",
       "      <th>timestamp</th>\n",
       "      <th>ccy</th>\n",
       "      <th>bid_price</th>\n",
       "      <th>ask_price</th>\n",
       "      <th>bid_ret</th>\n",
       "      <th>ask_ret</th>\n",
       "      <th>mid_price</th>\n",
       "    </tr>\n",
       "  </thead>\n",
       "  <tbody>\n",
       "    <tr>\n",
       "      <th>66379</th>\n",
       "      <td>2019-05-01 22:25:00</td>\n",
       "      <td>gbpusd</td>\n",
       "      <td>1.30539</td>\n",
       "      <td>1.30544</td>\n",
       "      <td>0.000015</td>\n",
       "      <td>-0.000023</td>\n",
       "      <td>0.00005</td>\n",
       "    </tr>\n",
       "    <tr>\n",
       "      <th>183019</th>\n",
       "      <td>2019-05-21 04:31:00</td>\n",
       "      <td>usdchf</td>\n",
       "      <td>1.01048</td>\n",
       "      <td>1.01050</td>\n",
       "      <td>0.000000</td>\n",
       "      <td>-0.000158</td>\n",
       "      <td>0.00002</td>\n",
       "    </tr>\n",
       "    <tr>\n",
       "      <th>97726</th>\n",
       "      <td>2019-05-01 02:54:00</td>\n",
       "      <td>nzdusd</td>\n",
       "      <td>0.66478</td>\n",
       "      <td>0.66479</td>\n",
       "      <td>0.000000</td>\n",
       "      <td>-0.000015</td>\n",
       "      <td>0.00001</td>\n",
       "    </tr>\n",
       "    <tr>\n",
       "      <th>264392</th>\n",
       "      <td>2019-05-05 22:50:00</td>\n",
       "      <td>usdsek</td>\n",
       "      <td>9.57353</td>\n",
       "      <td>9.57383</td>\n",
       "      <td>0.000063</td>\n",
       "      <td>-0.000010</td>\n",
       "      <td>0.00030</td>\n",
       "    </tr>\n",
       "    <tr>\n",
       "      <th>17619</th>\n",
       "      <td>2019-05-17 05:41:00</td>\n",
       "      <td>audusd</td>\n",
       "      <td>0.68740</td>\n",
       "      <td>0.68755</td>\n",
       "      <td>-0.000102</td>\n",
       "      <td>0.000015</td>\n",
       "      <td>0.00015</td>\n",
       "    </tr>\n",
       "  </tbody>\n",
       "</table>\n",
       "</div>"
      ],
      "text/plain": [
       "                 timestamp     ccy  bid_price  ask_price   bid_ret   ask_ret  \\\n",
       "66379  2019-05-01 22:25:00  gbpusd    1.30539    1.30544  0.000015 -0.000023   \n",
       "183019 2019-05-21 04:31:00  usdchf    1.01048    1.01050  0.000000 -0.000158   \n",
       "97726  2019-05-01 02:54:00  nzdusd    0.66478    0.66479  0.000000 -0.000015   \n",
       "264392 2019-05-05 22:50:00  usdsek    9.57353    9.57383  0.000063 -0.000010   \n",
       "17619  2019-05-17 05:41:00  audusd    0.68740    0.68755 -0.000102  0.000015   \n",
       "\n",
       "        mid_price  \n",
       "66379     0.00005  \n",
       "183019    0.00002  \n",
       "97726     0.00001  \n",
       "264392    0.00030  \n",
       "17619     0.00015  "
      ]
     },
     "execution_count": 39,
     "metadata": {},
     "output_type": "execute_result"
    }
   ],
   "source": [
    "X.sample(5)"
   ]
  },
  {
   "cell_type": "code",
   "execution_count": 40,
   "metadata": {
    "ExecuteTime": {
     "end_time": "2019-10-31T04:45:06.400524Z",
     "start_time": "2019-10-31T04:45:06.366038Z"
    }
   },
   "outputs": [
    {
     "data": {
      "text/html": [
       "<div>\n",
       "<style scoped>\n",
       "    .dataframe tbody tr th:only-of-type {\n",
       "        vertical-align: middle;\n",
       "    }\n",
       "\n",
       "    .dataframe tbody tr th {\n",
       "        vertical-align: top;\n",
       "    }\n",
       "\n",
       "    .dataframe thead th {\n",
       "        text-align: right;\n",
       "    }\n",
       "</style>\n",
       "<table border=\"1\" class=\"dataframe\">\n",
       "  <thead>\n",
       "    <tr style=\"text-align: right;\">\n",
       "      <th></th>\n",
       "      <th>timestamp</th>\n",
       "      <th>ccy</th>\n",
       "      <th>bid_price</th>\n",
       "      <th>ask_price</th>\n",
       "      <th>bid_ret</th>\n",
       "      <th>ask_ret</th>\n",
       "      <th>mid_price</th>\n",
       "    </tr>\n",
       "  </thead>\n",
       "  <tbody>\n",
       "    <tr>\n",
       "      <th>65036</th>\n",
       "      <td>2019-05-01 00:02:00</td>\n",
       "      <td>gbpusd</td>\n",
       "      <td>1.30425</td>\n",
       "      <td>1.30439</td>\n",
       "      <td>-0.000008</td>\n",
       "      <td>0.000069</td>\n",
       "      <td>0.00014</td>\n",
       "    </tr>\n",
       "    <tr>\n",
       "      <th>65037</th>\n",
       "      <td>2019-05-01 00:03:00</td>\n",
       "      <td>gbpusd</td>\n",
       "      <td>1.30435</td>\n",
       "      <td>1.30439</td>\n",
       "      <td>0.000077</td>\n",
       "      <td>0.000000</td>\n",
       "      <td>0.00004</td>\n",
       "    </tr>\n",
       "    <tr>\n",
       "      <th>65038</th>\n",
       "      <td>2019-05-01 00:04:00</td>\n",
       "      <td>gbpusd</td>\n",
       "      <td>1.30426</td>\n",
       "      <td>1.30437</td>\n",
       "      <td>-0.000069</td>\n",
       "      <td>-0.000015</td>\n",
       "      <td>0.00011</td>\n",
       "    </tr>\n",
       "    <tr>\n",
       "      <th>65039</th>\n",
       "      <td>2019-05-01 00:05:00</td>\n",
       "      <td>gbpusd</td>\n",
       "      <td>1.30427</td>\n",
       "      <td>1.30438</td>\n",
       "      <td>0.000008</td>\n",
       "      <td>0.000008</td>\n",
       "      <td>0.00011</td>\n",
       "    </tr>\n",
       "    <tr>\n",
       "      <th>65040</th>\n",
       "      <td>2019-05-01 00:06:00</td>\n",
       "      <td>gbpusd</td>\n",
       "      <td>1.30427</td>\n",
       "      <td>1.30431</td>\n",
       "      <td>0.000000</td>\n",
       "      <td>-0.000054</td>\n",
       "      <td>0.00004</td>\n",
       "    </tr>\n",
       "  </tbody>\n",
       "</table>\n",
       "</div>"
      ],
      "text/plain": [
       "                timestamp     ccy  bid_price  ask_price   bid_ret   ask_ret  \\\n",
       "65036 2019-05-01 00:02:00  gbpusd    1.30425    1.30439 -0.000008  0.000069   \n",
       "65037 2019-05-01 00:03:00  gbpusd    1.30435    1.30439  0.000077  0.000000   \n",
       "65038 2019-05-01 00:04:00  gbpusd    1.30426    1.30437 -0.000069 -0.000015   \n",
       "65039 2019-05-01 00:05:00  gbpusd    1.30427    1.30438  0.000008  0.000008   \n",
       "65040 2019-05-01 00:06:00  gbpusd    1.30427    1.30431  0.000000 -0.000054   \n",
       "\n",
       "       mid_price  \n",
       "65036    0.00014  \n",
       "65037    0.00004  \n",
       "65038    0.00011  \n",
       "65039    0.00011  \n",
       "65040    0.00004  "
      ]
     },
     "execution_count": 40,
     "metadata": {},
     "output_type": "execute_result"
    }
   ],
   "source": [
    "X[X.ccy=='gbpusd'].head(5)"
   ]
  },
  {
   "cell_type": "markdown",
   "metadata": {},
   "source": [
    "## Split: Training set and Validation set(=evaluation set)\n",
    "- Training set `X_train`: The first two and a half weeks (From May 1, 2019 to May 19, 2019)\n",
    "- Validation set `X_val`: The following one week (From May 20, 2019 to May 26, 2019)\n",
    "- Test set `X_test`: The rest of days (From May 27, 2019 to May 31, 2019)\n",
    "  - In fact, we never create `X_test` until the very last moment."
   ]
  },
  {
   "cell_type": "code",
   "execution_count": 41,
   "metadata": {
    "ExecuteTime": {
     "end_time": "2019-10-31T04:45:06.432484Z",
     "start_time": "2019-10-31T04:45:06.402912Z"
    }
   },
   "outputs": [],
   "source": [
    "X_train = X[(X.timestamp >= pd.datetime(2019, 5, 1)) &\n",
    "            (X.timestamp < pd.datetime(2019, 5, 20))]\n",
    "X_val = X[(X.timestamp >= pd.datetime(2019, 5, 20)) &\n",
    "          (X.timestamp < pd.datetime(2019, 5, 27))]"
   ]
  },
  {
   "cell_type": "code",
   "execution_count": 42,
   "metadata": {
    "ExecuteTime": {
     "end_time": "2019-10-31T04:45:06.483819Z",
     "start_time": "2019-10-31T04:45:06.434808Z"
    }
   },
   "outputs": [],
   "source": [
    "X.drop(X[(X.timestamp >= pd.datetime(2019, 5, 27)) & (\n",
    "    X.timestamp < pd.datetime(2019, 6, 1))].index, inplace=True)"
   ]
  },
  {
   "cell_type": "code",
   "execution_count": 43,
   "metadata": {
    "ExecuteTime": {
     "end_time": "2019-10-31T04:45:06.501714Z",
     "start_time": "2019-10-31T04:45:06.485969Z"
    }
   },
   "outputs": [
    {
     "data": {
      "text/html": [
       "<div>\n",
       "<style scoped>\n",
       "    .dataframe tbody tr th:only-of-type {\n",
       "        vertical-align: middle;\n",
       "    }\n",
       "\n",
       "    .dataframe tbody tr th {\n",
       "        vertical-align: top;\n",
       "    }\n",
       "\n",
       "    .dataframe thead th {\n",
       "        text-align: right;\n",
       "    }\n",
       "</style>\n",
       "<table border=\"1\" class=\"dataframe\">\n",
       "  <thead>\n",
       "    <tr style=\"text-align: right;\">\n",
       "      <th></th>\n",
       "      <th>timestamp</th>\n",
       "      <th>ccy</th>\n",
       "      <th>bid_price</th>\n",
       "      <th>ask_price</th>\n",
       "      <th>bid_ret</th>\n",
       "      <th>ask_ret</th>\n",
       "      <th>mid_price</th>\n",
       "    </tr>\n",
       "  </thead>\n",
       "  <tbody>\n",
       "    <tr>\n",
       "      <th>285878</th>\n",
       "      <td>2019-05-26 23:55:00</td>\n",
       "      <td>usdsek</td>\n",
       "      <td>9.52895</td>\n",
       "      <td>9.52895</td>\n",
       "      <td>0.0</td>\n",
       "      <td>0.0</td>\n",
       "      <td>0.0</td>\n",
       "    </tr>\n",
       "    <tr>\n",
       "      <th>285879</th>\n",
       "      <td>2019-05-26 23:56:00</td>\n",
       "      <td>usdsek</td>\n",
       "      <td>9.52895</td>\n",
       "      <td>9.52895</td>\n",
       "      <td>0.0</td>\n",
       "      <td>0.0</td>\n",
       "      <td>0.0</td>\n",
       "    </tr>\n",
       "    <tr>\n",
       "      <th>285880</th>\n",
       "      <td>2019-05-26 23:57:00</td>\n",
       "      <td>usdsek</td>\n",
       "      <td>9.52895</td>\n",
       "      <td>9.52895</td>\n",
       "      <td>0.0</td>\n",
       "      <td>0.0</td>\n",
       "      <td>0.0</td>\n",
       "    </tr>\n",
       "    <tr>\n",
       "      <th>285881</th>\n",
       "      <td>2019-05-26 23:58:00</td>\n",
       "      <td>usdsek</td>\n",
       "      <td>9.52895</td>\n",
       "      <td>9.52895</td>\n",
       "      <td>0.0</td>\n",
       "      <td>0.0</td>\n",
       "      <td>0.0</td>\n",
       "    </tr>\n",
       "    <tr>\n",
       "      <th>285882</th>\n",
       "      <td>2019-05-26 23:59:00</td>\n",
       "      <td>usdsek</td>\n",
       "      <td>9.52895</td>\n",
       "      <td>9.52895</td>\n",
       "      <td>0.0</td>\n",
       "      <td>0.0</td>\n",
       "      <td>0.0</td>\n",
       "    </tr>\n",
       "  </tbody>\n",
       "</table>\n",
       "</div>"
      ],
      "text/plain": [
       "                 timestamp     ccy  bid_price  ask_price  bid_ret  ask_ret  \\\n",
       "285878 2019-05-26 23:55:00  usdsek    9.52895    9.52895      0.0      0.0   \n",
       "285879 2019-05-26 23:56:00  usdsek    9.52895    9.52895      0.0      0.0   \n",
       "285880 2019-05-26 23:57:00  usdsek    9.52895    9.52895      0.0      0.0   \n",
       "285881 2019-05-26 23:58:00  usdsek    9.52895    9.52895      0.0      0.0   \n",
       "285882 2019-05-26 23:59:00  usdsek    9.52895    9.52895      0.0      0.0   \n",
       "\n",
       "        mid_price  \n",
       "285878        0.0  \n",
       "285879        0.0  \n",
       "285880        0.0  \n",
       "285881        0.0  \n",
       "285882        0.0  "
      ]
     },
     "execution_count": 43,
     "metadata": {},
     "output_type": "execute_result"
    }
   ],
   "source": [
    "X.tail()"
   ]
  },
  {
   "cell_type": "markdown",
   "metadata": {},
   "source": [
    "### The end of preprocessing ------------------------------------------------"
   ]
  },
  {
   "cell_type": "code",
   "execution_count": null,
   "metadata": {},
   "outputs": [],
   "source": []
  },
  {
   "cell_type": "code",
   "execution_count": null,
   "metadata": {},
   "outputs": [],
   "source": []
  },
  {
   "cell_type": "code",
   "execution_count": null,
   "metadata": {},
   "outputs": [],
   "source": []
  },
  {
   "cell_type": "markdown",
   "metadata": {},
   "source": [
    "# environment.py"
   ]
  },
  {
   "cell_type": "code",
   "execution_count": 44,
   "metadata": {
    "ExecuteTime": {
     "end_time": "2019-10-31T04:45:06.508901Z",
     "start_time": "2019-10-31T04:45:06.505277Z"
    }
   },
   "outputs": [],
   "source": [
    "import numpy as np\n",
    "import pandas as pd"
   ]
  },
  {
   "cell_type": "code",
   "execution_count": 45,
   "metadata": {
    "ExecuteTime": {
     "end_time": "2019-10-31T04:45:06.521206Z",
     "start_time": "2019-10-31T04:45:06.511768Z"
    }
   },
   "outputs": [],
   "source": [
    "class ForexEnv(object):\n",
    "    '''\n",
    "    Observation:\n",
    "        self.timestamp\n",
    "        self.state =   3 (the day of the week, hour, minute) +\n",
    "                       3 (the previous position; {-1, 0, 1}) + \n",
    "                      20 (the 10-minute bid and ask prices of the target currency) +\n",
    "                      80 (the 10-minute mid prices of the rest of 8 currency pairs)\n",
    "                   = 106 (total)\n",
    "        self.price_record: bid and ask prices of the target currency\n",
    "        \n",
    "    Actions:\n",
    "        -1: short 100%\n",
    "         0: take a neutral position\n",
    "        +1: long 100%\n",
    "        \n",
    "    Starting State:\n",
    "        random start within training set.\n",
    "        i.e., we pick an arbitrary number and take it as index to start with.                 \n",
    "    '''\n",
    "    \n",
    "    def __init__(self, cur='eurusd', lag=10, min_history=1440, mode='train'):\n",
    "        self.ccy = cur\n",
    "        self.lag = lag\n",
    "        self.min_history = min_history\n",
    "        self.index = None\n",
    "        self.state = None\n",
    "        self.price_record = None\n",
    "        self.X_train = X_train\n",
    "        self.X_val = X.val\n",
    "        self.trainframe = self.X_train.index.values.tolist()\n",
    "        self.valframe = self.X_val.index.values.tolist()\n",
    "        self.train = self.trainframe[:-self.min_history]\n",
    "        self.val = self.valframe[:-self.min_history]\n",
    "        self.mode = mode"
   ]
  },
  {
   "cell_type": "code",
   "execution_count": null,
   "metadata": {},
   "outputs": [],
   "source": []
  },
  {
   "cell_type": "code",
   "execution_count": null,
   "metadata": {},
   "outputs": [],
   "source": []
  },
  {
   "cell_type": "code",
   "execution_count": null,
   "metadata": {},
   "outputs": [],
   "source": []
  },
  {
   "cell_type": "markdown",
   "metadata": {},
   "source": [
    "# experiment.py"
   ]
  },
  {
   "cell_type": "code",
   "execution_count": 46,
   "metadata": {
    "ExecuteTime": {
     "end_time": "2019-10-31T04:45:06.527127Z",
     "start_time": "2019-10-31T04:45:06.523989Z"
    }
   },
   "outputs": [],
   "source": [
    "import numpy as np\n",
    "\n",
    "import time"
   ]
  },
  {
   "cell_type": "code",
   "execution_count": 47,
   "metadata": {
    "ExecuteTime": {
     "end_time": "2019-10-31T04:45:06.536814Z",
     "start_time": "2019-10-31T04:45:06.529816Z"
    }
   },
   "outputs": [],
   "source": [
    "cur ='eurusd'\n",
    "reward_path = './results/rewards/' + cur + time.strftime(\"%Y%m%d-%H%M%S\") + '/'\n",
    "agent_path = './results/agents/' + cur + time.strftime(\"%Y%m%d-%H%M%S\") + '/'\n",
    "\n",
    "if not os.path.exists(reward_path):\n",
    "    os.makedirs(reward_path)\n",
    "if not os.path.exists(agent_path):\n",
    "    os.makedirs(agent_path)\n"
   ]
  },
  {
   "cell_type": "code",
   "execution_count": null,
   "metadata": {},
   "outputs": [],
   "source": []
  },
  {
   "cell_type": "code",
   "execution_count": null,
   "metadata": {},
   "outputs": [],
   "source": []
  },
  {
   "cell_type": "code",
   "execution_count": null,
   "metadata": {},
   "outputs": [],
   "source": []
  },
  {
   "cell_type": "code",
   "execution_count": 48,
   "metadata": {},
   "outputs": [],
   "source": [
    "\n",
    "# def generate_episode(X, n, cur, ep_size):    \n",
    "#     '''\n",
    "#     Input:\n",
    "#         X: data (bid/ask for each currency pair)\n",
    "#         n: get the n-th episode\n",
    "#         cur: target currency\n",
    "#         ep_size, size of episode\n",
    "#     '''\n",
    "    \n",
    "#     ts = np.sort(X['timestamp'].unique()) # all timestamps\n",
    "#     ccy = X['ccy'].unique() # all currency pairs\n",
    "    \n",
    "#     start_idx = n * ep_size\n",
    "#     end_idx = min((n+1) * ep_size, ts.size) - 1\n",
    "#     data = X[(X.timestamp>=ts[start_idx]) & (X.timestamp<=ts[end_idx])]\n",
    "     \n",
    "#     i = 0\n",
    "#     other_bid = np.zeros((end_idx - start_idx + 1, ccy.shape[0]-1))\n",
    "#     other_ask = np.zeros((end_idx - start_idx + 1, ccy.shape[0]-1))\n",
    "#     for elem in ccy:\n",
    "#         tmp = data[data.ccy == elem]\n",
    "#         if elem == cur:\n",
    "#             target_bid = tmp['bid_price'].values\n",
    "#             target_ask = tmp['ask_price'].values\n",
    "#         else:\n",
    "#             other_bid[:,i] = tmp['bid_price'].values\n",
    "#             other_ask[:,i] = tmp['ask_price'].values\n",
    "#             i += 1\n",
    "#     return target_bid, target_ask, other_bid, other_ask\n",
    "\n",
    "# def log_returns(prices, lag):\n",
    "#     '''\n",
    "#     output: \n",
    "#         returns[t][i] = log(p_t / p_{t-i}), 1 <= i <= lag\n",
    "#     '''\n",
    "#     returns = np.zeros((prices.shape[0]-lag, lag))\n",
    "#     for i in range(lag):\n",
    "#         returns[:,i] = (np.log(prices) - np.log(np.roll(prices, i+1)))[lag:]\n",
    "#     return returns\n",
    "\n",
    "# def get_features(target_bid, target_ask, other_bid, other_ask, lag):\n",
    "#     '''\n",
    "#     Output:\n",
    "#         features: log returns of ask/bid for all currency pairs; shape (T-lag, 2*lag*cur_pairs); already normalized\n",
    "#     '''\n",
    "#     features = log_returns(target_bid, lag)\n",
    "#     features = np.append(features, log_returns(target_ask, lag), axis = 1)\n",
    "#     for i in range(other_bid.shape[1]):\n",
    "#         features = np.append(features, log_returns(other_bid[:,i], lag), axis = 1)\n",
    "#     for i in range(other_bid.shape[1]):\n",
    "#         features = np.append(features, log_returns(other_ask[:,i], lag), axis = 1)\n",
    "        \n",
    "#     normalized_fs = (features - features.mean()) / features.std()\n",
    "#     return normalized_fs\n",
    "\n",
    "# def draw_episode(X, cur, n, ep_size, lag):\n",
    "#     '''\n",
    "#     Input:\n",
    "#         X: data (bid/ask for each currency pair)\n",
    "#         cur, currency pair that we target to trade\n",
    "#         n, draw the n-th episode\n",
    "#         ep_size, size of episode\n",
    "#         lag, number of lag log-returns z_1,...z_m\n",
    "#     Output:\n",
    "#         target_bid: target currency's bid prices\n",
    "#         target_ask: target currency's ask prices\n",
    "#         features: features for feeding into the neural network\n",
    "        \n",
    "#     Note: compared to Dai's code, I am not using min_history (min length of a valid episode) as argument; \n",
    "#         Also, I am not randomly selecting episodes\n",
    "#     '''\n",
    "#     target_bid, target_ask, other_bid, other_ask = generate_episode(X, n, cur, ep_size)\n",
    "#     features = get_features(target_bid, target_ask, other_bid, other_ask, lag)\n",
    "#     return target_bid, target_ask, features"
   ]
  },
  {
   "cell_type": "code",
   "execution_count": null,
   "metadata": {},
   "outputs": [],
   "source": []
  },
  {
   "cell_type": "code",
   "execution_count": 50,
   "metadata": {},
   "outputs": [],
   "source": [
    "from features import draw_episode\n",
    "target_bid, target_ask, features = draw_episode(X, cur='audusd', n=0, ep_size=100, lag=2)"
   ]
  },
  {
   "cell_type": "code",
   "execution_count": null,
   "metadata": {},
   "outputs": [],
   "source": []
  }
 ],
 "metadata": {
  "kernelspec": {
   "display_name": "Python 3",
   "language": "python",
   "name": "python3"
  },
  "language_info": {
   "codemirror_mode": {
    "name": "ipython",
    "version": 3
   },
   "file_extension": ".py",
   "mimetype": "text/x-python",
   "name": "python",
   "nbconvert_exporter": "python",
   "pygments_lexer": "ipython3",
   "version": "3.6.8"
  }
 },
 "nbformat": 4,
 "nbformat_minor": 2
}
