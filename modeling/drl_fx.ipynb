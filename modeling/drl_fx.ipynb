{
 "cells": [
  {
   "cell_type": "markdown",
   "metadata": {},
   "source": [
    "# 1. Import packages"
   ]
  },
  {
   "cell_type": "code",
   "execution_count": 1,
   "metadata": {
    "ExecuteTime": {
     "end_time": "2019-11-05T18:10:03.710609Z",
     "start_time": "2019-11-05T18:10:02.365482Z"
    }
   },
   "outputs": [],
   "source": [
    "import os\n",
    "import numpy as np\n",
    "import pandas as pd\n",
    "\n",
    "# Plotting\n",
    "import matplotlib.pyplot as plt\n",
    "import seaborn as sns\n",
    "\n",
    "import logging "
   ]
  },
  {
   "cell_type": "code",
   "execution_count": 2,
   "metadata": {
    "ExecuteTime": {
     "end_time": "2019-11-05T18:10:03.717516Z",
     "start_time": "2019-11-05T18:10:03.713449Z"
    }
   },
   "outputs": [],
   "source": [
    "logging.basicConfig(format='%(levelname)s: %(message)s', level=logging.INFO)\n",
    "logger = logging.getLogger(__name__)"
   ]
  },
  {
   "cell_type": "markdown",
   "metadata": {},
   "source": [
    "# 2. Data loading"
   ]
  },
  {
   "cell_type": "markdown",
   "metadata": {},
   "source": [
    "## 2.1. Dataset description"
   ]
  },
  {
   "cell_type": "markdown",
   "metadata": {},
   "source": [
    "### A toy dataset for now\n",
    "#### G-10 currency pairs. Every curreny other than USD is against USD. So we have 9 pairs in total\n",
    "- gbpusd, usdsek, usdnok, usdjpy, usdcad, usdchf, nzdusd, eurusd, audusd"
   ]
  },
  {
   "cell_type": "markdown",
   "metadata": {},
   "source": [
    "#### Period in use: May 2019 (1 month)"
   ]
  },
  {
   "cell_type": "markdown",
   "metadata": {},
   "source": [
    "## 2.2 Loading a toy data set"
   ]
  },
  {
   "cell_type": "code",
   "execution_count": 3,
   "metadata": {
    "ExecuteTime": {
     "end_time": "2019-11-05T18:10:06.150875Z",
     "start_time": "2019-11-05T18:10:03.721689Z"
    },
    "scrolled": false
   },
   "outputs": [
    {
     "name": "stderr",
     "output_type": "stream",
     "text": [
      "INFO: Loading...\n",
      "INFO: nzdusd_DAT_ASCII_NZDUSD_M1_201904.csv\n",
      "INFO: nzdusd_DAT_ASCII_NZDUSD_M1_201905.csv\n",
      "INFO: nzdusd_DAT_ASCII_NZDUSD_M1_201901.csv\n",
      "INFO: nzdusd_DAT_ASCII_NZDUSD_M1_201902.csv\n",
      "INFO: nzdusd_DAT_ASCII_NZDUSD_M1_201903.csv\n",
      "INFO: usdchf_DAT_ASCII_USDCHF_M1_201903.csv\n",
      "INFO: usdchf_DAT_ASCII_USDCHF_M1_201902.csv\n",
      "INFO: usdchf_DAT_ASCII_USDCHF_M1_201901.csv\n",
      "INFO: usdchf_DAT_ASCII_USDCHF_M1_201905.csv\n",
      "INFO: usdchf_DAT_ASCII_USDCHF_M1_201904.csv\n",
      "INFO: gbpusd_DAT_ASCII_GBPUSD_M1_201904.csv\n",
      "INFO: usdnok_DAT_ASCII_USDNOK_M1_201905.csv\n",
      "INFO: usdsek_DAT_ASCII_USDSEK_M1_201902.csv\n",
      "INFO: usdsek_DAT_ASCII_USDSEK_M1_201903.csv\n",
      "INFO: usdnok_DAT_ASCII_USDNOK_M1_201904.csv\n",
      "INFO: gbpusd_DAT_ASCII_GBPUSD_M1_201905.csv\n",
      "INFO: usdsek_DAT_ASCII_USDSEK_M1_201901.csv\n",
      "INFO: gbpusd_DAT_ASCII_GBPUSD_M1_201902.csv\n",
      "INFO: usdnok_DAT_ASCII_USDNOK_M1_201903.csv\n",
      "INFO: usdsek_DAT_ASCII_USDSEK_M1_201904.csv\n",
      "INFO: usdsek_DAT_ASCII_USDSEK_M1_201905.csv\n",
      "INFO: usdnok_DAT_ASCII_USDNOK_M1_201902.csv\n",
      "INFO: gbpusd_DAT_ASCII_GBPUSD_M1_201903.csv\n",
      "INFO: gbpusd_DAT_ASCII_GBPUSD_M1_201901.csv\n",
      "INFO: usdnok_DAT_ASCII_USDNOK_M1_201901.csv\n",
      "INFO: audusd_DAT_ASCII_AUDUSD_M1_201902.csv\n",
      "INFO: eurusd_DAT_ASCII_EURUSD_M1_201903.csv\n",
      "INFO: usdcad_DAT_ASCII_USDCAD_M1_201903.csv\n",
      "INFO: usdcad_DAT_ASCII_USDCAD_M1_201902.csv\n",
      "INFO: eurusd_DAT_ASCII_EURUSD_M1_201902.csv\n",
      "INFO: audusd_DAT_ASCII_AUDUSD_M1_201903.csv\n",
      "INFO: audusd_DAT_ASCII_AUDUSD_M1_201901.csv\n",
      "INFO: usdjpy_DAT_ASCII_USDJPY_M1_201904.csv\n",
      "INFO: usdcad_DAT_ASCII_USDCAD_M1_201901.csv\n",
      "INFO: usdjpy_DAT_ASCII_USDJPY_M1_201905.csv\n",
      "INFO: eurusd_DAT_ASCII_EURUSD_M1_201901.csv\n",
      "INFO: audusd_DAT_ASCII_AUDUSD_M1_201904.csv\n",
      "INFO: eurusd_DAT_ASCII_EURUSD_M1_201905.csv\n",
      "INFO: usdjpy_DAT_ASCII_USDJPY_M1_201901.csv\n",
      "INFO: usdcad_DAT_ASCII_USDCAD_M1_201905.csv\n",
      "INFO: usdcad_DAT_ASCII_USDCAD_M1_201904.csv\n",
      "INFO: eurusd_DAT_ASCII_EURUSD_M1_201904.csv\n",
      "INFO: audusd_DAT_ASCII_AUDUSD_M1_201905.csv\n",
      "INFO: usdjpy_DAT_ASCII_USDJPY_M1_201902.csv\n",
      "INFO: usdjpy_DAT_ASCII_USDJPY_M1_201903.csv\n",
      "INFO: Complted.\n"
     ]
    }
   ],
   "source": [
    "toy_path = '../dataset/'\n",
    "toy_folders = ['toyset']\n",
    "\n",
    "# csv files have no explicit column header, but column names come in this order.\n",
    "# 'timestamp',  'opening', 'high', 'low', 'close', 'volume'\n",
    "# As we are only interested in timestamp and close prices, we set `usecols` = [0,4], a list of indices\n",
    "col_names = ['datetime',  'opening', 'high', 'low', 'close', 'volume']\n",
    "usecols = [0, 2, 3]\n",
    "\n",
    "df = {}\n",
    "f = pd.DataFrame(columns=col_names)\n",
    "total_size = 0\n",
    "logger.info(\"Loading...\")\n",
    "for folder in toy_folders:\n",
    "    files = os.listdir(toy_path+folder)\n",
    "    for file in files:\n",
    "        if file.endswith(\".csv\"):\n",
    "            logger.info(file)\n",
    "            tmp = pd.read_csv(os.path.join(toy_path, folder, file),\n",
    "                              delimiter=';', header=0, names=col_names, usecols=usecols)\n",
    "            loaded_ccy = file[:6]\n",
    "            if loaded_ccy in df.keys():\n",
    "                df[loaded_ccy] = df[loaded_ccy].append(tmp, ignore_index=True)\n",
    "            else:\n",
    "                df[loaded_ccy] = tmp.copy()\n",
    "            total_size += len(tmp)\n",
    "logger.info(\"Complted.\")"
   ]
  },
  {
   "cell_type": "code",
   "execution_count": 4,
   "metadata": {
    "ExecuteTime": {
     "end_time": "2019-11-05T18:10:06.158875Z",
     "start_time": "2019-11-05T18:10:06.153983Z"
    }
   },
   "outputs": [
    {
     "name": "stdout",
     "output_type": "stream",
     "text": [
      "We have 1390011 data points in total for all pairs\n"
     ]
    }
   ],
   "source": [
    "print('We have {:d} data points in total for all pairs'.format(total_size))"
   ]
  },
  {
   "cell_type": "code",
   "execution_count": 5,
   "metadata": {
    "ExecuteTime": {
     "end_time": "2019-11-05T18:10:06.172201Z",
     "start_time": "2019-11-05T18:10:06.162506Z"
    }
   },
   "outputs": [
    {
     "data": {
      "text/plain": [
       "dict_keys(['nzdusd', 'usdchf', 'gbpusd', 'usdnok', 'usdsek', 'audusd', 'eurusd', 'usdcad', 'usdjpy'])"
      ]
     },
     "execution_count": 5,
     "metadata": {},
     "output_type": "execute_result"
    }
   ],
   "source": [
    "df.keys()"
   ]
  },
  {
   "cell_type": "code",
   "execution_count": 6,
   "metadata": {
    "ExecuteTime": {
     "end_time": "2019-11-05T18:10:06.196495Z",
     "start_time": "2019-11-05T18:10:06.190463Z"
    }
   },
   "outputs": [
    {
     "name": "stdout",
     "output_type": "stream",
     "text": [
      "We have a list of currency pairs: ['nzdusd', 'usdchf', 'gbpusd', 'usdnok', 'usdsek', 'audusd', 'eurusd', 'usdcad', 'usdjpy']\n"
     ]
    }
   ],
   "source": [
    "ccy_list = list(df.keys())\n",
    "print('We have a list of currency pairs:', ccy_list)"
   ]
  },
  {
   "cell_type": "code",
   "execution_count": 7,
   "metadata": {
    "ExecuteTime": {
     "end_time": "2019-11-05T18:10:06.216529Z",
     "start_time": "2019-11-05T18:10:06.199157Z"
    }
   },
   "outputs": [
    {
     "name": "stdout",
     "output_type": "stream",
     "text": [
      "e.g. nzdusd\n"
     ]
    },
    {
     "data": {
      "text/html": [
       "<div>\n",
       "<style scoped>\n",
       "    .dataframe tbody tr th:only-of-type {\n",
       "        vertical-align: middle;\n",
       "    }\n",
       "\n",
       "    .dataframe tbody tr th {\n",
       "        vertical-align: top;\n",
       "    }\n",
       "\n",
       "    .dataframe thead th {\n",
       "        text-align: right;\n",
       "    }\n",
       "</style>\n",
       "<table border=\"1\" class=\"dataframe\">\n",
       "  <thead>\n",
       "    <tr style=\"text-align: right;\">\n",
       "      <th></th>\n",
       "      <th>datetime</th>\n",
       "      <th>high</th>\n",
       "      <th>low</th>\n",
       "    </tr>\n",
       "  </thead>\n",
       "  <tbody>\n",
       "    <tr>\n",
       "      <th>0</th>\n",
       "      <td>20190401 000100</td>\n",
       "      <td>0.68248</td>\n",
       "      <td>0.68238</td>\n",
       "    </tr>\n",
       "    <tr>\n",
       "      <th>1</th>\n",
       "      <td>20190401 000200</td>\n",
       "      <td>0.68261</td>\n",
       "      <td>0.68239</td>\n",
       "    </tr>\n",
       "    <tr>\n",
       "      <th>2</th>\n",
       "      <td>20190401 000300</td>\n",
       "      <td>0.68272</td>\n",
       "      <td>0.68257</td>\n",
       "    </tr>\n",
       "    <tr>\n",
       "      <th>3</th>\n",
       "      <td>20190401 000400</td>\n",
       "      <td>0.68276</td>\n",
       "      <td>0.68259</td>\n",
       "    </tr>\n",
       "    <tr>\n",
       "      <th>4</th>\n",
       "      <td>20190401 000500</td>\n",
       "      <td>0.68270</td>\n",
       "      <td>0.68261</td>\n",
       "    </tr>\n",
       "  </tbody>\n",
       "</table>\n",
       "</div>"
      ],
      "text/plain": [
       "          datetime     high      low\n",
       "0  20190401 000100  0.68248  0.68238\n",
       "1  20190401 000200  0.68261  0.68239\n",
       "2  20190401 000300  0.68272  0.68257\n",
       "3  20190401 000400  0.68276  0.68259\n",
       "4  20190401 000500  0.68270  0.68261"
      ]
     },
     "execution_count": 7,
     "metadata": {},
     "output_type": "execute_result"
    }
   ],
   "source": [
    "print('e.g.', ccy_list[0])\n",
    "df[ccy_list[0]].head()"
   ]
  },
  {
   "cell_type": "markdown",
   "metadata": {},
   "source": [
    "#### We do not have ask prices in our data set.\n",
    "- We take high prices as `ask_price` and low prices as `bid_price` for now just until we have a new data set."
   ]
  },
  {
   "cell_type": "code",
   "execution_count": 8,
   "metadata": {
    "ExecuteTime": {
     "end_time": "2019-11-05T18:10:06.229841Z",
     "start_time": "2019-11-05T18:10:06.223465Z"
    }
   },
   "outputs": [
    {
     "data": {
      "text/plain": [
       "Index(['datetime', 'high', 'low'], dtype='object')"
      ]
     },
     "execution_count": 8,
     "metadata": {},
     "output_type": "execute_result"
    }
   ],
   "source": [
    "df['eurusd'].columns"
   ]
  },
  {
   "cell_type": "code",
   "execution_count": 9,
   "metadata": {
    "ExecuteTime": {
     "end_time": "2019-11-05T18:10:06.292503Z",
     "start_time": "2019-11-05T18:10:06.234658Z"
    }
   },
   "outputs": [],
   "source": [
    "for ccy in ccy_list:\n",
    "    df[ccy].rename(columns={'high': 'ask_price', 'low': 'bid_price'}, inplace=True)"
   ]
  },
  {
   "cell_type": "markdown",
   "metadata": {},
   "source": [
    "## 2.3 Data Integrity Check"
   ]
  },
  {
   "cell_type": "code",
   "execution_count": 10,
   "metadata": {
    "ExecuteTime": {
     "end_time": "2019-11-05T18:10:06.497577Z",
     "start_time": "2019-11-05T18:10:06.295427Z"
    },
    "scrolled": false
   },
   "outputs": [],
   "source": [
    "for i, ccy in enumerate(ccy_list):\n",
    "    desc = df[ccy].describe()\n",
    "    desc.rename(columns={'ask_price': ccy+'_ask', 'bid_price':ccy+'_bid'}, inplace=True)\n",
    "    if i == 0:\n",
    "        df_desc = desc.copy()\n",
    "    else:\n",
    "        df_desc = pd.merge(df_desc, desc, left_index=True, right_index=True)"
   ]
  },
  {
   "cell_type": "markdown",
   "metadata": {},
   "source": [
    "- Outliers: none.\n",
    "- Index: The number of data points a little vary. See the **2.5 `timestamp` policy** to handle this."
   ]
  },
  {
   "cell_type": "code",
   "execution_count": 11,
   "metadata": {
    "ExecuteTime": {
     "end_time": "2019-11-05T18:10:06.520978Z",
     "start_time": "2019-11-05T18:10:06.499907Z"
    },
    "scrolled": false
   },
   "outputs": [
    {
     "data": {
      "text/html": [
       "<div>\n",
       "<style scoped>\n",
       "    .dataframe tbody tr th:only-of-type {\n",
       "        vertical-align: middle;\n",
       "    }\n",
       "\n",
       "    .dataframe tbody tr th {\n",
       "        vertical-align: top;\n",
       "    }\n",
       "\n",
       "    .dataframe thead th {\n",
       "        text-align: right;\n",
       "    }\n",
       "</style>\n",
       "<table border=\"1\" class=\"dataframe\">\n",
       "  <thead>\n",
       "    <tr style=\"text-align: right;\">\n",
       "      <th></th>\n",
       "      <th>nzdusd_ask</th>\n",
       "      <th>nzdusd_bid</th>\n",
       "      <th>usdchf_ask</th>\n",
       "      <th>usdchf_bid</th>\n",
       "      <th>gbpusd_ask</th>\n",
       "      <th>gbpusd_bid</th>\n",
       "      <th>usdnok_ask</th>\n",
       "      <th>usdnok_bid</th>\n",
       "      <th>usdsek_ask</th>\n",
       "      <th>usdsek_bid</th>\n",
       "      <th>audusd_ask</th>\n",
       "      <th>audusd_bid</th>\n",
       "      <th>eurusd_ask</th>\n",
       "      <th>eurusd_bid</th>\n",
       "      <th>usdcad_ask</th>\n",
       "      <th>usdcad_bid</th>\n",
       "      <th>usdjpy_ask</th>\n",
       "      <th>usdjpy_bid</th>\n",
       "    </tr>\n",
       "  </thead>\n",
       "  <tbody>\n",
       "    <tr>\n",
       "      <th>count</th>\n",
       "      <td>154460.000000</td>\n",
       "      <td>154460.000000</td>\n",
       "      <td>153905.000000</td>\n",
       "      <td>153905.000000</td>\n",
       "      <td>154609.000000</td>\n",
       "      <td>154609.000000</td>\n",
       "      <td>154650.000000</td>\n",
       "      <td>154650.000000</td>\n",
       "      <td>153648.000000</td>\n",
       "      <td>153648.000000</td>\n",
       "      <td>154587.000000</td>\n",
       "      <td>154587.000000</td>\n",
       "      <td>154673.000000</td>\n",
       "      <td>154673.000000</td>\n",
       "      <td>154521.000000</td>\n",
       "      <td>154521.000000</td>\n",
       "      <td>154958.000000</td>\n",
       "      <td>154958.000000</td>\n",
       "    </tr>\n",
       "    <tr>\n",
       "      <th>mean</th>\n",
       "      <td>0.674211</td>\n",
       "      <td>0.674117</td>\n",
       "      <td>1.002077</td>\n",
       "      <td>1.001983</td>\n",
       "      <td>1.299031</td>\n",
       "      <td>1.298826</td>\n",
       "      <td>8.608601</td>\n",
       "      <td>8.607294</td>\n",
       "      <td>9.290274</td>\n",
       "      <td>9.288836</td>\n",
       "      <td>0.708465</td>\n",
       "      <td>0.708362</td>\n",
       "      <td>1.129856</td>\n",
       "      <td>1.129738</td>\n",
       "      <td>1.334558</td>\n",
       "      <td>1.334419</td>\n",
       "      <td>110.418996</td>\n",
       "      <td>110.407525</td>\n",
       "    </tr>\n",
       "    <tr>\n",
       "      <th>std</th>\n",
       "      <td>0.011425</td>\n",
       "      <td>0.011415</td>\n",
       "      <td>0.009914</td>\n",
       "      <td>0.009925</td>\n",
       "      <td>0.017675</td>\n",
       "      <td>0.017658</td>\n",
       "      <td>0.095264</td>\n",
       "      <td>0.095219</td>\n",
       "      <td>0.210172</td>\n",
       "      <td>0.210253</td>\n",
       "      <td>0.009088</td>\n",
       "      <td>0.009085</td>\n",
       "      <td>0.009650</td>\n",
       "      <td>0.009635</td>\n",
       "      <td>0.010762</td>\n",
       "      <td>0.010760</td>\n",
       "      <td>1.109443</td>\n",
       "      <td>1.112565</td>\n",
       "    </tr>\n",
       "    <tr>\n",
       "      <th>min</th>\n",
       "      <td>0.648210</td>\n",
       "      <td>0.648130</td>\n",
       "      <td>0.971690</td>\n",
       "      <td>0.971580</td>\n",
       "      <td>1.246080</td>\n",
       "      <td>1.242500</td>\n",
       "      <td>8.400640</td>\n",
       "      <td>8.399150</td>\n",
       "      <td>8.851560</td>\n",
       "      <td>8.849790</td>\n",
       "      <td>0.673740</td>\n",
       "      <td>0.672180</td>\n",
       "      <td>1.111240</td>\n",
       "      <td>1.110700</td>\n",
       "      <td>1.307010</td>\n",
       "      <td>1.306820</td>\n",
       "      <td>105.390000</td>\n",
       "      <td>104.736000</td>\n",
       "    </tr>\n",
       "    <tr>\n",
       "      <th>25%</th>\n",
       "      <td>0.666320</td>\n",
       "      <td>0.666250</td>\n",
       "      <td>0.995830</td>\n",
       "      <td>0.995730</td>\n",
       "      <td>1.287890</td>\n",
       "      <td>1.287660</td>\n",
       "      <td>8.536650</td>\n",
       "      <td>8.535300</td>\n",
       "      <td>9.170620</td>\n",
       "      <td>9.169358</td>\n",
       "      <td>0.703050</td>\n",
       "      <td>0.702940</td>\n",
       "      <td>1.121850</td>\n",
       "      <td>1.121760</td>\n",
       "      <td>1.327050</td>\n",
       "      <td>1.326900</td>\n",
       "      <td>109.602000</td>\n",
       "      <td>109.591000</td>\n",
       "    </tr>\n",
       "    <tr>\n",
       "      <th>50%</th>\n",
       "      <td>0.676390</td>\n",
       "      <td>0.676290</td>\n",
       "      <td>1.001380</td>\n",
       "      <td>1.001290</td>\n",
       "      <td>1.303080</td>\n",
       "      <td>1.302840</td>\n",
       "      <td>8.595650</td>\n",
       "      <td>8.594250</td>\n",
       "      <td>9.278640</td>\n",
       "      <td>9.277230</td>\n",
       "      <td>0.710000</td>\n",
       "      <td>0.709900</td>\n",
       "      <td>1.129910</td>\n",
       "      <td>1.129800</td>\n",
       "      <td>1.334900</td>\n",
       "      <td>1.334770</td>\n",
       "      <td>110.550000</td>\n",
       "      <td>110.540000</td>\n",
       "    </tr>\n",
       "    <tr>\n",
       "      <th>75%</th>\n",
       "      <td>0.683220</td>\n",
       "      <td>0.683130</td>\n",
       "      <td>1.008410</td>\n",
       "      <td>1.008340</td>\n",
       "      <td>1.310920</td>\n",
       "      <td>1.310650</td>\n",
       "      <td>8.683010</td>\n",
       "      <td>8.681747</td>\n",
       "      <td>9.440400</td>\n",
       "      <td>9.438785</td>\n",
       "      <td>0.714890</td>\n",
       "      <td>0.714810</td>\n",
       "      <td>1.136680</td>\n",
       "      <td>1.136560</td>\n",
       "      <td>1.343390</td>\n",
       "      <td>1.343270</td>\n",
       "      <td>111.418000</td>\n",
       "      <td>111.409000</td>\n",
       "    </tr>\n",
       "    <tr>\n",
       "      <th>max</th>\n",
       "      <td>0.694140</td>\n",
       "      <td>0.693850</td>\n",
       "      <td>1.023630</td>\n",
       "      <td>1.022830</td>\n",
       "      <td>1.338080</td>\n",
       "      <td>1.335170</td>\n",
       "      <td>8.819380</td>\n",
       "      <td>8.816520</td>\n",
       "      <td>9.687630</td>\n",
       "      <td>9.686170</td>\n",
       "      <td>0.729480</td>\n",
       "      <td>0.729180</td>\n",
       "      <td>1.156970</td>\n",
       "      <td>1.156890</td>\n",
       "      <td>1.366220</td>\n",
       "      <td>1.365540</td>\n",
       "      <td>112.399000</td>\n",
       "      <td>112.395000</td>\n",
       "    </tr>\n",
       "  </tbody>\n",
       "</table>\n",
       "</div>"
      ],
      "text/plain": [
       "          nzdusd_ask     nzdusd_bid     usdchf_ask     usdchf_bid  \\\n",
       "count  154460.000000  154460.000000  153905.000000  153905.000000   \n",
       "mean        0.674211       0.674117       1.002077       1.001983   \n",
       "std         0.011425       0.011415       0.009914       0.009925   \n",
       "min         0.648210       0.648130       0.971690       0.971580   \n",
       "25%         0.666320       0.666250       0.995830       0.995730   \n",
       "50%         0.676390       0.676290       1.001380       1.001290   \n",
       "75%         0.683220       0.683130       1.008410       1.008340   \n",
       "max         0.694140       0.693850       1.023630       1.022830   \n",
       "\n",
       "          gbpusd_ask     gbpusd_bid     usdnok_ask     usdnok_bid  \\\n",
       "count  154609.000000  154609.000000  154650.000000  154650.000000   \n",
       "mean        1.299031       1.298826       8.608601       8.607294   \n",
       "std         0.017675       0.017658       0.095264       0.095219   \n",
       "min         1.246080       1.242500       8.400640       8.399150   \n",
       "25%         1.287890       1.287660       8.536650       8.535300   \n",
       "50%         1.303080       1.302840       8.595650       8.594250   \n",
       "75%         1.310920       1.310650       8.683010       8.681747   \n",
       "max         1.338080       1.335170       8.819380       8.816520   \n",
       "\n",
       "          usdsek_ask     usdsek_bid     audusd_ask     audusd_bid  \\\n",
       "count  153648.000000  153648.000000  154587.000000  154587.000000   \n",
       "mean        9.290274       9.288836       0.708465       0.708362   \n",
       "std         0.210172       0.210253       0.009088       0.009085   \n",
       "min         8.851560       8.849790       0.673740       0.672180   \n",
       "25%         9.170620       9.169358       0.703050       0.702940   \n",
       "50%         9.278640       9.277230       0.710000       0.709900   \n",
       "75%         9.440400       9.438785       0.714890       0.714810   \n",
       "max         9.687630       9.686170       0.729480       0.729180   \n",
       "\n",
       "          eurusd_ask     eurusd_bid     usdcad_ask     usdcad_bid  \\\n",
       "count  154673.000000  154673.000000  154521.000000  154521.000000   \n",
       "mean        1.129856       1.129738       1.334558       1.334419   \n",
       "std         0.009650       0.009635       0.010762       0.010760   \n",
       "min         1.111240       1.110700       1.307010       1.306820   \n",
       "25%         1.121850       1.121760       1.327050       1.326900   \n",
       "50%         1.129910       1.129800       1.334900       1.334770   \n",
       "75%         1.136680       1.136560       1.343390       1.343270   \n",
       "max         1.156970       1.156890       1.366220       1.365540   \n",
       "\n",
       "          usdjpy_ask     usdjpy_bid  \n",
       "count  154958.000000  154958.000000  \n",
       "mean      110.418996     110.407525  \n",
       "std         1.109443       1.112565  \n",
       "min       105.390000     104.736000  \n",
       "25%       109.602000     109.591000  \n",
       "50%       110.550000     110.540000  \n",
       "75%       111.418000     111.409000  \n",
       "max       112.399000     112.395000  "
      ]
     },
     "execution_count": 11,
     "metadata": {},
     "output_type": "execute_result"
    }
   ],
   "source": [
    "df_desc"
   ]
  },
  {
   "cell_type": "code",
   "execution_count": 12,
   "metadata": {
    "ExecuteTime": {
     "end_time": "2019-11-05T18:10:06.530658Z",
     "start_time": "2019-11-05T18:10:06.524048Z"
    }
   },
   "outputs": [
    {
     "data": {
      "text/plain": [
       "154958.0"
      ]
     },
     "execution_count": 12,
     "metadata": {},
     "output_type": "execute_result"
    }
   ],
   "source": [
    "max_datapoints = np.max(df_desc.loc['count'])\n",
    "max_datapoints"
   ]
  },
  {
   "cell_type": "markdown",
   "metadata": {},
   "source": [
    "## 2.4 Drop from and add some columns to `df`"
   ]
  },
  {
   "cell_type": "markdown",
   "metadata": {},
   "source": [
    "- Drop: `datetime` (no use)\n",
    "- Add: `ccy`, `timestamp`\n",
    "- Retain: `bid_price`, `ask_price`"
   ]
  },
  {
   "cell_type": "code",
   "execution_count": 13,
   "metadata": {
    "ExecuteTime": {
     "end_time": "2019-11-05T18:13:05.219806Z",
     "start_time": "2019-11-05T18:10:06.533324Z"
    }
   },
   "outputs": [],
   "source": [
    "for ccy in ccy_list:\n",
    "    df[ccy]['ccy'] = ccy\n",
    "    df[ccy]['timestamp'] = df[ccy].datetime.apply(lambda x: pd.to_datetime(x))\n",
    "    cols_to_use = ['timestamp', 'ccy', 'bid_price', 'ask_price']\n",
    "    df[ccy] = df[ccy][cols_to_use]"
   ]
  },
  {
   "cell_type": "code",
   "execution_count": 14,
   "metadata": {
    "ExecuteTime": {
     "end_time": "2019-11-05T18:13:05.236612Z",
     "start_time": "2019-11-05T18:13:05.222454Z"
    }
   },
   "outputs": [
    {
     "data": {
      "text/html": [
       "<div>\n",
       "<style scoped>\n",
       "    .dataframe tbody tr th:only-of-type {\n",
       "        vertical-align: middle;\n",
       "    }\n",
       "\n",
       "    .dataframe tbody tr th {\n",
       "        vertical-align: top;\n",
       "    }\n",
       "\n",
       "    .dataframe thead th {\n",
       "        text-align: right;\n",
       "    }\n",
       "</style>\n",
       "<table border=\"1\" class=\"dataframe\">\n",
       "  <thead>\n",
       "    <tr style=\"text-align: right;\">\n",
       "      <th></th>\n",
       "      <th>timestamp</th>\n",
       "      <th>ccy</th>\n",
       "      <th>bid_price</th>\n",
       "      <th>ask_price</th>\n",
       "    </tr>\n",
       "  </thead>\n",
       "  <tbody>\n",
       "    <tr>\n",
       "      <th>7368</th>\n",
       "      <td>2019-04-08 03:08:00</td>\n",
       "      <td>usdjpy</td>\n",
       "      <td>111.453</td>\n",
       "      <td>111.459</td>\n",
       "    </tr>\n",
       "    <tr>\n",
       "      <th>90180</th>\n",
       "      <td>2019-01-27 20:50:00</td>\n",
       "      <td>usdjpy</td>\n",
       "      <td>109.404</td>\n",
       "      <td>109.420</td>\n",
       "    </tr>\n",
       "    <tr>\n",
       "      <th>101416</th>\n",
       "      <td>2019-02-06 16:14:00</td>\n",
       "      <td>usdjpy</td>\n",
       "      <td>109.965</td>\n",
       "      <td>109.966</td>\n",
       "    </tr>\n",
       "    <tr>\n",
       "      <th>72734</th>\n",
       "      <td>2019-01-09 17:46:00</td>\n",
       "      <td>usdjpy</td>\n",
       "      <td>108.148</td>\n",
       "      <td>108.155</td>\n",
       "    </tr>\n",
       "    <tr>\n",
       "      <th>81947</th>\n",
       "      <td>2019-01-18 03:26:00</td>\n",
       "      <td>usdjpy</td>\n",
       "      <td>109.420</td>\n",
       "      <td>109.430</td>\n",
       "    </tr>\n",
       "  </tbody>\n",
       "</table>\n",
       "</div>"
      ],
      "text/plain": [
       "                 timestamp     ccy  bid_price  ask_price\n",
       "7368   2019-04-08 03:08:00  usdjpy    111.453    111.459\n",
       "90180  2019-01-27 20:50:00  usdjpy    109.404    109.420\n",
       "101416 2019-02-06 16:14:00  usdjpy    109.965    109.966\n",
       "72734  2019-01-09 17:46:00  usdjpy    108.148    108.155\n",
       "81947  2019-01-18 03:26:00  usdjpy    109.420    109.430"
      ]
     },
     "execution_count": 14,
     "metadata": {},
     "output_type": "execute_result"
    }
   ],
   "source": [
    "#rand_ccy = ccy_list[np.random.randint(len(ccy_list))]\n",
    "rand_ccy='usdjpy'\n",
    "df[rand_ccy].sample(5)"
   ]
  },
  {
   "cell_type": "markdown",
   "metadata": {
    "ExecuteTime": {
     "end_time": "2019-10-30T16:05:23.457496Z",
     "start_time": "2019-10-30T16:05:23.451601Z"
    }
   },
   "source": [
    "### Check if we have all data points in `df`"
   ]
  },
  {
   "cell_type": "code",
   "execution_count": 15,
   "metadata": {
    "ExecuteTime": {
     "end_time": "2019-11-05T18:13:05.242109Z",
     "start_time": "2019-11-05T18:13:05.238735Z"
    }
   },
   "outputs": [],
   "source": [
    "assert np.sum([len(df[ccy]) for ccy in ccy_list]) == total_size, \"We got some data loss.\""
   ]
  },
  {
   "cell_type": "markdown",
   "metadata": {},
   "source": [
    "## 2.5 Padding missing time to `df`"
   ]
  },
  {
   "cell_type": "markdown",
   "metadata": {},
   "source": [
    "### Creating a new index `idx`\n",
    "#### `timestamp` policy:\n",
    "- If any curency pair has any price at timestamp $t$, then we have the timestamp $t$ for the rest of the currency pairs as well."
   ]
  },
  {
   "cell_type": "markdown",
   "metadata": {},
   "source": [
    "#### We create a union set `idx` of `timestamp` for every currency pair so that we can cover every data point."
   ]
  },
  {
   "cell_type": "code",
   "execution_count": 16,
   "metadata": {
    "ExecuteTime": {
     "end_time": "2019-11-05T18:13:05.397282Z",
     "start_time": "2019-11-05T18:13:05.244372Z"
    }
   },
   "outputs": [],
   "source": [
    "ccy_idx = {}\n",
    "for i, ccy in enumerate(ccy_list):\n",
    "    ccy_idx[ccy] = pd.Index(df[ccy].timestamp)\n",
    "    if i == 0 :\n",
    "        idx = pd.Index(ccy_idx[ccy])\n",
    "    else:\n",
    "        idx = idx.union(ccy_idx[ccy])"
   ]
  },
  {
   "cell_type": "code",
   "execution_count": 17,
   "metadata": {
    "ExecuteTime": {
     "end_time": "2019-11-05T18:13:05.403192Z",
     "start_time": "2019-11-05T18:13:05.399408Z"
    }
   },
   "outputs": [],
   "source": [
    "assert len(idx) >= np.max([len(ccy_idx[key]) for key in ccy_idx.keys()]), \"len(Union(every index)) must be larger than max(len(indices))\""
   ]
  },
  {
   "cell_type": "code",
   "execution_count": 18,
   "metadata": {
    "ExecuteTime": {
     "end_time": "2019-11-05T18:13:05.410418Z",
     "start_time": "2019-11-05T18:13:05.406137Z"
    }
   },
   "outputs": [
    {
     "name": "stdout",
     "output_type": "stream",
     "text": [
      "We have 155265 rows per currency pair\n"
     ]
    }
   ],
   "source": [
    "print('We have {} rows per currency pair'.format(len(idx)))"
   ]
  },
  {
   "cell_type": "markdown",
   "metadata": {},
   "source": [
    "#### Apply `idx` to every `df[ccy]`"
   ]
  },
  {
   "cell_type": "code",
   "execution_count": 19,
   "metadata": {
    "ExecuteTime": {
     "end_time": "2019-11-05T18:13:06.080324Z",
     "start_time": "2019-11-05T18:13:05.413042Z"
    }
   },
   "outputs": [],
   "source": [
    "for ccy in ccy_list:\n",
    "    df_ccy = pd.DataFrame(index=idx)\n",
    "    df[ccy] = df_ccy.merge(df[ccy], how='left', on='timestamp')\n",
    "    df[ccy]['ccy'].fillna(ccy, inplace=True)"
   ]
  },
  {
   "cell_type": "code",
   "execution_count": 20,
   "metadata": {
    "ExecuteTime": {
     "end_time": "2019-11-05T18:13:06.086961Z",
     "start_time": "2019-11-05T18:13:06.082967Z"
    }
   },
   "outputs": [],
   "source": [
    "assert [ len(idx) == len(df[key]) for key in df.keys()], \"Some df[ccy] have the different number of rows.\""
   ]
  },
  {
   "cell_type": "code",
   "execution_count": 21,
   "metadata": {
    "ExecuteTime": {
     "end_time": "2019-11-05T18:13:06.094461Z",
     "start_time": "2019-11-05T18:13:06.089942Z"
    }
   },
   "outputs": [],
   "source": [
    "assert np.min([df[f].shape[0] for f in df.keys()]) >= max_datapoints, \"We got some data loss.\""
   ]
  },
  {
   "cell_type": "markdown",
   "metadata": {},
   "source": [
    "#### We get the global earliest date and last date over the entire data set."
   ]
  },
  {
   "cell_type": "markdown",
   "metadata": {},
   "source": [
    "## 2.6 Create the data set `X`\n",
    "### We do it simply by appending `df` for each currency pair to create the data set `X`"
   ]
  },
  {
   "cell_type": "markdown",
   "metadata": {},
   "source": [
    "Create a template for `X`"
   ]
  },
  {
   "cell_type": "code",
   "execution_count": 22,
   "metadata": {
    "ExecuteTime": {
     "end_time": "2019-11-05T18:13:06.109500Z",
     "start_time": "2019-11-05T18:13:06.096948Z"
    }
   },
   "outputs": [
    {
     "data": {
      "text/html": [
       "<div>\n",
       "<style scoped>\n",
       "    .dataframe tbody tr th:only-of-type {\n",
       "        vertical-align: middle;\n",
       "    }\n",
       "\n",
       "    .dataframe tbody tr th {\n",
       "        vertical-align: top;\n",
       "    }\n",
       "\n",
       "    .dataframe thead th {\n",
       "        text-align: right;\n",
       "    }\n",
       "</style>\n",
       "<table border=\"1\" class=\"dataframe\">\n",
       "  <thead>\n",
       "    <tr style=\"text-align: right;\">\n",
       "      <th></th>\n",
       "      <th>timestamp</th>\n",
       "      <th>ccy</th>\n",
       "      <th>bid_price</th>\n",
       "      <th>ask_price</th>\n",
       "    </tr>\n",
       "  </thead>\n",
       "  <tbody>\n",
       "  </tbody>\n",
       "</table>\n",
       "</div>"
      ],
      "text/plain": [
       "Empty DataFrame\n",
       "Columns: [timestamp, ccy, bid_price, ask_price]\n",
       "Index: []"
      ]
     },
     "execution_count": 22,
     "metadata": {},
     "output_type": "execute_result"
    }
   ],
   "source": [
    "X = pd.DataFrame(columns = df[ccy_list[0]].columns)\n",
    "X"
   ]
  },
  {
   "cell_type": "code",
   "execution_count": 23,
   "metadata": {
    "ExecuteTime": {
     "end_time": "2019-11-05T18:13:06.361428Z",
     "start_time": "2019-11-05T18:13:06.117397Z"
    }
   },
   "outputs": [],
   "source": [
    "for ccy in ccy_list:\n",
    "    X = X.append(df[ccy], ignore_index=False, sort=False)"
   ]
  },
  {
   "cell_type": "code",
   "execution_count": 24,
   "metadata": {
    "ExecuteTime": {
     "end_time": "2019-11-05T18:13:06.446713Z",
     "start_time": "2019-11-05T18:13:06.364602Z"
    }
   },
   "outputs": [
    {
     "data": {
      "text/html": [
       "<div>\n",
       "<style scoped>\n",
       "    .dataframe tbody tr th:only-of-type {\n",
       "        vertical-align: middle;\n",
       "    }\n",
       "\n",
       "    .dataframe tbody tr th {\n",
       "        vertical-align: top;\n",
       "    }\n",
       "\n",
       "    .dataframe thead th {\n",
       "        text-align: right;\n",
       "    }\n",
       "</style>\n",
       "<table border=\"1\" class=\"dataframe\">\n",
       "  <thead>\n",
       "    <tr style=\"text-align: right;\">\n",
       "      <th></th>\n",
       "      <th>timestamp</th>\n",
       "      <th>ccy</th>\n",
       "      <th>bid_price</th>\n",
       "      <th>ask_price</th>\n",
       "    </tr>\n",
       "  </thead>\n",
       "  <tbody>\n",
       "    <tr>\n",
       "      <th>104444</th>\n",
       "      <td>2019-04-12 06:57:00</td>\n",
       "      <td>usdnok</td>\n",
       "      <td>8.49635</td>\n",
       "      <td>8.49869</td>\n",
       "    </tr>\n",
       "    <tr>\n",
       "      <th>1469</th>\n",
       "      <td>2019-01-02 17:30:00</td>\n",
       "      <td>usdcad</td>\n",
       "      <td>1.35923</td>\n",
       "      <td>1.35995</td>\n",
       "    </tr>\n",
       "    <tr>\n",
       "      <th>58869</th>\n",
       "      <td>2019-02-27 14:18:00</td>\n",
       "      <td>nzdusd</td>\n",
       "      <td>0.68363</td>\n",
       "      <td>0.68373</td>\n",
       "    </tr>\n",
       "    <tr>\n",
       "      <th>30747</th>\n",
       "      <td>2019-01-31 01:34:00</td>\n",
       "      <td>gbpusd</td>\n",
       "      <td>1.31237</td>\n",
       "      <td>1.31247</td>\n",
       "    </tr>\n",
       "    <tr>\n",
       "      <th>82301</th>\n",
       "      <td>2019-03-21 19:52:00</td>\n",
       "      <td>gbpusd</td>\n",
       "      <td>1.31215</td>\n",
       "      <td>1.31226</td>\n",
       "    </tr>\n",
       "  </tbody>\n",
       "</table>\n",
       "</div>"
      ],
      "text/plain": [
       "                 timestamp     ccy  bid_price  ask_price\n",
       "104444 2019-04-12 06:57:00  usdnok    8.49635    8.49869\n",
       "1469   2019-01-02 17:30:00  usdcad    1.35923    1.35995\n",
       "58869  2019-02-27 14:18:00  nzdusd    0.68363    0.68373\n",
       "30747  2019-01-31 01:34:00  gbpusd    1.31237    1.31247\n",
       "82301  2019-03-21 19:52:00  gbpusd    1.31215    1.31226"
      ]
     },
     "execution_count": 24,
     "metadata": {},
     "output_type": "execute_result"
    }
   ],
   "source": [
    "X.sample(5)"
   ]
  },
  {
   "cell_type": "code",
   "execution_count": 25,
   "metadata": {
    "ExecuteTime": {
     "end_time": "2019-11-05T18:13:06.454316Z",
     "start_time": "2019-11-05T18:13:06.450396Z"
    }
   },
   "outputs": [],
   "source": [
    "assert X.shape[0] == len(ccy_list)*len(idx), \"We have some data loss.\""
   ]
  },
  {
   "cell_type": "markdown",
   "metadata": {},
   "source": [
    "## 2.7 Missing Data Analysis\n",
    "#### An imputing policy:\n",
    "- First we sort `X` by `ccy` and `timestamp`, and reset the index.\n",
    "- Then we group `X` by `ccy`\n",
    "- We finally forwardfill (use previous values to fill missing values)"
   ]
  },
  {
   "cell_type": "code",
   "execution_count": 26,
   "metadata": {
    "ExecuteTime": {
     "end_time": "2019-11-05T18:13:06.950049Z",
     "start_time": "2019-11-05T18:13:06.465724Z"
    }
   },
   "outputs": [],
   "source": [
    "X = X.sort_values(by=['ccy','timestamp'])\n",
    "X.reset_index(drop=True, inplace=True)"
   ]
  },
  {
   "cell_type": "markdown",
   "metadata": {},
   "source": [
    "### Missing data\n",
    "- `bid_price`: see a number below\n",
    "- `ask_price`: see a number below\n",
    "- We impute them by previous values (done by group)"
   ]
  },
  {
   "cell_type": "code",
   "execution_count": 27,
   "metadata": {
    "ExecuteTime": {
     "end_time": "2019-11-05T18:13:07.035823Z",
     "start_time": "2019-11-05T18:13:06.952864Z"
    }
   },
   "outputs": [
    {
     "data": {
      "text/plain": [
       "timestamp       0\n",
       "ccy             0\n",
       "bid_price    7374\n",
       "ask_price    7374\n",
       "dtype: int64"
      ]
     },
     "execution_count": 27,
     "metadata": {},
     "output_type": "execute_result"
    }
   ],
   "source": [
    "X.isna().sum()"
   ]
  },
  {
   "cell_type": "code",
   "execution_count": 28,
   "metadata": {
    "ExecuteTime": {
     "end_time": "2019-11-05T18:13:07.228207Z",
     "start_time": "2019-11-05T18:13:07.044131Z"
    }
   },
   "outputs": [],
   "source": [
    "g = X.groupby('ccy')\n",
    "X['bid_price'] = g['bid_price'].fillna(method='ffill')\n",
    "X['ask_price'] = g['ask_price'].fillna(method='ffill')"
   ]
  },
  {
   "cell_type": "markdown",
   "metadata": {},
   "source": [
    "#### Sometimes we still have some rows with nan because 'ffill'can't be done due to no previous values."
   ]
  },
  {
   "cell_type": "code",
   "execution_count": 29,
   "metadata": {
    "ExecuteTime": {
     "end_time": "2019-11-05T18:13:07.242796Z",
     "start_time": "2019-11-05T18:13:07.230668Z"
    }
   },
   "outputs": [],
   "source": [
    "bid_nan_timestamp = X.loc[X['bid_price'].isna()].timestamp.unique()\n",
    "ask_nan_timestamp = X.loc[X['ask_price'].isna()].timestamp.unique()\n",
    "nan_timestamp = np.unique((bid_nan_timestamp,ask_nan_timestamp))"
   ]
  },
  {
   "cell_type": "markdown",
   "metadata": {},
   "source": [
    "#### We have a list of `timestamp` for a nan row for any currency pair."
   ]
  },
  {
   "cell_type": "code",
   "execution_count": 30,
   "metadata": {
    "ExecuteTime": {
     "end_time": "2019-11-05T18:13:07.250427Z",
     "start_time": "2019-11-05T18:13:07.245134Z"
    }
   },
   "outputs": [
    {
     "data": {
      "text/plain": [
       "array(['2019-01-01T17:01:00.000000000', '2019-01-01T17:02:00.000000000',\n",
       "       '2019-01-01T17:03:00.000000000', '2019-01-01T17:04:00.000000000',\n",
       "       '2019-01-01T17:05:00.000000000', '2019-01-01T17:06:00.000000000',\n",
       "       '2019-01-01T17:07:00.000000000', '2019-01-01T17:08:00.000000000',\n",
       "       '2019-01-01T17:09:00.000000000', '2019-01-01T17:10:00.000000000'],\n",
       "      dtype='datetime64[ns]')"
      ]
     },
     "execution_count": 30,
     "metadata": {},
     "output_type": "execute_result"
    }
   ],
   "source": [
    "nan_timestamp"
   ]
  },
  {
   "cell_type": "markdown",
   "metadata": {
    "ExecuteTime": {
     "end_time": "2019-11-05T18:08:16.388714Z",
     "start_time": "2019-11-05T18:08:16.385933Z"
    }
   },
   "source": [
    "#### Any row in `nan_timestamp` will be dropped."
   ]
  },
  {
   "cell_type": "code",
   "execution_count": 31,
   "metadata": {
    "ExecuteTime": {
     "end_time": "2019-11-05T18:13:07.324284Z",
     "start_time": "2019-11-05T18:13:07.252987Z"
    }
   },
   "outputs": [],
   "source": [
    "X = X[~X['timestamp'].isin(nan_timestamp)]"
   ]
  },
  {
   "cell_type": "markdown",
   "metadata": {},
   "source": [
    "#### Now we have no missing value. Cleaning is *done*."
   ]
  },
  {
   "cell_type": "code",
   "execution_count": 32,
   "metadata": {
    "ExecuteTime": {
     "end_time": "2019-11-05T18:13:07.398667Z",
     "start_time": "2019-11-05T18:13:07.326845Z"
    }
   },
   "outputs": [
    {
     "data": {
      "text/plain": [
       "timestamp    0\n",
       "ccy          0\n",
       "bid_price    0\n",
       "ask_price    0\n",
       "dtype: int64"
      ]
     },
     "execution_count": 32,
     "metadata": {},
     "output_type": "execute_result"
    }
   ],
   "source": [
    "X.isna().sum()"
   ]
  },
  {
   "cell_type": "markdown",
   "metadata": {},
   "source": [
    "## 2.8 Calculate `bid_ret`, `ask_ret` and `mid_price`"
   ]
  },
  {
   "cell_type": "code",
   "execution_count": 36,
   "metadata": {
    "ExecuteTime": {
     "end_time": "2019-11-05T18:15:21.815212Z",
     "start_time": "2019-11-05T18:15:21.510107Z"
    }
   },
   "outputs": [
    {
     "name": "stderr",
     "output_type": "stream",
     "text": [
      "/Users/msyeom/anaconda3/envs/dl/lib/python3.6/site-packages/ipykernel_launcher.py:6: SettingWithCopyWarning: \n",
      "A value is trying to be set on a copy of a slice from a DataFrame.\n",
      "Try using .loc[row_indexer,col_indexer] = value instead\n",
      "\n",
      "See the caveats in the documentation: http://pandas.pydata.org/pandas-docs/stable/user_guide/indexing.html#returning-a-view-versus-a-copy\n",
      "  \n"
     ]
    }
   ],
   "source": [
    "bid_ret = np.log(X['bid_price']) - np.log(X['bid_price'].shift())\n",
    "ask_ret = np.log(X['ask_price']) - np.log(X['ask_price'].shift())\n",
    "X.loc[X['ccy'] == X['ccy'].shift(), 'bid_ret'] = bid_ret\n",
    "X.loc[X['ccy'] == X['ccy'].shift(), 'ask_ret'] = ask_ret\n",
    "X['mid_price'] = X['ask_price'] - X['bid_price']"
   ]
  },
  {
   "cell_type": "code",
   "execution_count": 38,
   "metadata": {
    "ExecuteTime": {
     "end_time": "2019-11-05T18:15:41.133954Z",
     "start_time": "2019-11-05T18:15:41.001848Z"
    },
    "scrolled": true
   },
   "outputs": [
    {
     "data": {
      "text/html": [
       "<div>\n",
       "<style scoped>\n",
       "    .dataframe tbody tr th:only-of-type {\n",
       "        vertical-align: middle;\n",
       "    }\n",
       "\n",
       "    .dataframe tbody tr th {\n",
       "        vertical-align: top;\n",
       "    }\n",
       "\n",
       "    .dataframe thead th {\n",
       "        text-align: right;\n",
       "    }\n",
       "</style>\n",
       "<table border=\"1\" class=\"dataframe\">\n",
       "  <thead>\n",
       "    <tr style=\"text-align: right;\">\n",
       "      <th></th>\n",
       "      <th>timestamp</th>\n",
       "      <th>ccy</th>\n",
       "      <th>bid_price</th>\n",
       "      <th>ask_price</th>\n",
       "      <th>bid_ret</th>\n",
       "      <th>ask_ret</th>\n",
       "      <th>mid_price</th>\n",
       "    </tr>\n",
       "  </thead>\n",
       "  <tbody>\n",
       "    <tr>\n",
       "      <th>10</th>\n",
       "      <td>2019-01-01 17:11:00</td>\n",
       "      <td>audusd</td>\n",
       "      <td>0.70464</td>\n",
       "      <td>0.70469</td>\n",
       "      <td>NaN</td>\n",
       "      <td>NaN</td>\n",
       "      <td>0.00005</td>\n",
       "    </tr>\n",
       "    <tr>\n",
       "      <th>155275</th>\n",
       "      <td>2019-01-01 17:11:00</td>\n",
       "      <td>eurusd</td>\n",
       "      <td>1.14606</td>\n",
       "      <td>1.14617</td>\n",
       "      <td>NaN</td>\n",
       "      <td>NaN</td>\n",
       "      <td>0.00011</td>\n",
       "    </tr>\n",
       "    <tr>\n",
       "      <th>310540</th>\n",
       "      <td>2019-01-01 17:11:00</td>\n",
       "      <td>gbpusd</td>\n",
       "      <td>1.27227</td>\n",
       "      <td>1.27227</td>\n",
       "      <td>NaN</td>\n",
       "      <td>NaN</td>\n",
       "      <td>0.00000</td>\n",
       "    </tr>\n",
       "    <tr>\n",
       "      <th>465805</th>\n",
       "      <td>2019-01-01 17:11:00</td>\n",
       "      <td>nzdusd</td>\n",
       "      <td>0.67138</td>\n",
       "      <td>0.67175</td>\n",
       "      <td>NaN</td>\n",
       "      <td>NaN</td>\n",
       "      <td>0.00037</td>\n",
       "    </tr>\n",
       "    <tr>\n",
       "      <th>621070</th>\n",
       "      <td>2019-01-01 17:11:00</td>\n",
       "      <td>usdcad</td>\n",
       "      <td>1.36259</td>\n",
       "      <td>1.36289</td>\n",
       "      <td>NaN</td>\n",
       "      <td>NaN</td>\n",
       "      <td>0.00030</td>\n",
       "    </tr>\n",
       "    <tr>\n",
       "      <th>776335</th>\n",
       "      <td>2019-01-01 17:11:00</td>\n",
       "      <td>usdchf</td>\n",
       "      <td>0.98061</td>\n",
       "      <td>0.98113</td>\n",
       "      <td>NaN</td>\n",
       "      <td>NaN</td>\n",
       "      <td>0.00052</td>\n",
       "    </tr>\n",
       "    <tr>\n",
       "      <th>931600</th>\n",
       "      <td>2019-01-01 17:11:00</td>\n",
       "      <td>usdjpy</td>\n",
       "      <td>109.65200</td>\n",
       "      <td>109.65300</td>\n",
       "      <td>NaN</td>\n",
       "      <td>NaN</td>\n",
       "      <td>0.00100</td>\n",
       "    </tr>\n",
       "    <tr>\n",
       "      <th>1086865</th>\n",
       "      <td>2019-01-01 17:11:00</td>\n",
       "      <td>usdnok</td>\n",
       "      <td>8.63465</td>\n",
       "      <td>8.63466</td>\n",
       "      <td>NaN</td>\n",
       "      <td>NaN</td>\n",
       "      <td>0.00001</td>\n",
       "    </tr>\n",
       "    <tr>\n",
       "      <th>1242130</th>\n",
       "      <td>2019-01-01 17:11:00</td>\n",
       "      <td>usdsek</td>\n",
       "      <td>8.85770</td>\n",
       "      <td>8.85778</td>\n",
       "      <td>NaN</td>\n",
       "      <td>NaN</td>\n",
       "      <td>0.00008</td>\n",
       "    </tr>\n",
       "  </tbody>\n",
       "</table>\n",
       "</div>"
      ],
      "text/plain": [
       "                  timestamp     ccy  bid_price  ask_price  bid_ret  ask_ret  \\\n",
       "10      2019-01-01 17:11:00  audusd    0.70464    0.70469      NaN      NaN   \n",
       "155275  2019-01-01 17:11:00  eurusd    1.14606    1.14617      NaN      NaN   \n",
       "310540  2019-01-01 17:11:00  gbpusd    1.27227    1.27227      NaN      NaN   \n",
       "465805  2019-01-01 17:11:00  nzdusd    0.67138    0.67175      NaN      NaN   \n",
       "621070  2019-01-01 17:11:00  usdcad    1.36259    1.36289      NaN      NaN   \n",
       "776335  2019-01-01 17:11:00  usdchf    0.98061    0.98113      NaN      NaN   \n",
       "931600  2019-01-01 17:11:00  usdjpy  109.65200  109.65300      NaN      NaN   \n",
       "1086865 2019-01-01 17:11:00  usdnok    8.63465    8.63466      NaN      NaN   \n",
       "1242130 2019-01-01 17:11:00  usdsek    8.85770    8.85778      NaN      NaN   \n",
       "\n",
       "         mid_price  \n",
       "10         0.00005  \n",
       "155275     0.00011  \n",
       "310540     0.00000  \n",
       "465805     0.00037  \n",
       "621070     0.00030  \n",
       "776335     0.00052  \n",
       "931600     0.00100  \n",
       "1086865    0.00001  \n",
       "1242130    0.00008  "
      ]
     },
     "execution_count": 38,
     "metadata": {},
     "output_type": "execute_result"
    }
   ],
   "source": [
    "X_boundary = X.loc[X['ccy'] != X['ccy'].shift()]\n",
    "X_boundary"
   ]
  },
  {
   "cell_type": "code",
   "execution_count": 39,
   "metadata": {
    "ExecuteTime": {
     "end_time": "2019-11-05T18:16:05.397459Z",
     "start_time": "2019-11-05T18:16:05.247294Z"
    }
   },
   "outputs": [
    {
     "name": "stderr",
     "output_type": "stream",
     "text": [
      "/Users/msyeom/anaconda3/envs/dl/lib/python3.6/site-packages/ipykernel_launcher.py:1: SettingWithCopyWarning: \n",
      "A value is trying to be set on a copy of a slice from a DataFrame\n",
      "\n",
      "See the caveats in the documentation: http://pandas.pydata.org/pandas-docs/stable/user_guide/indexing.html#returning-a-view-versus-a-copy\n",
      "  \"\"\"Entry point for launching an IPython kernel.\n"
     ]
    }
   ],
   "source": [
    "X.dropna(axis='index', how='any', inplace=True)"
   ]
  },
  {
   "cell_type": "code",
   "execution_count": 40,
   "metadata": {
    "ExecuteTime": {
     "end_time": "2019-11-05T18:16:46.350993Z",
     "start_time": "2019-11-05T18:16:46.276070Z"
    },
    "scrolled": true
   },
   "outputs": [
    {
     "data": {
      "text/plain": [
       "timestamp    0\n",
       "ccy          0\n",
       "bid_price    0\n",
       "ask_price    0\n",
       "bid_ret      0\n",
       "ask_ret      0\n",
       "mid_price    0\n",
       "dtype: int64"
      ]
     },
     "execution_count": 40,
     "metadata": {},
     "output_type": "execute_result"
    }
   ],
   "source": [
    "X.isna().sum()"
   ]
  },
  {
   "cell_type": "code",
   "execution_count": 41,
   "metadata": {
    "ExecuteTime": {
     "end_time": "2019-11-05T18:16:47.775469Z",
     "start_time": "2019-11-05T18:16:47.771270Z"
    }
   },
   "outputs": [],
   "source": [
    "X.reset_index(drop=True, inplace=True)"
   ]
  },
  {
   "cell_type": "code",
   "execution_count": 42,
   "metadata": {
    "ExecuteTime": {
     "end_time": "2019-11-05T18:16:49.061710Z",
     "start_time": "2019-11-05T18:16:49.048834Z"
    }
   },
   "outputs": [
    {
     "data": {
      "text/html": [
       "<div>\n",
       "<style scoped>\n",
       "    .dataframe tbody tr th:only-of-type {\n",
       "        vertical-align: middle;\n",
       "    }\n",
       "\n",
       "    .dataframe tbody tr th {\n",
       "        vertical-align: top;\n",
       "    }\n",
       "\n",
       "    .dataframe thead th {\n",
       "        text-align: right;\n",
       "    }\n",
       "</style>\n",
       "<table border=\"1\" class=\"dataframe\">\n",
       "  <thead>\n",
       "    <tr style=\"text-align: right;\">\n",
       "      <th></th>\n",
       "      <th>timestamp</th>\n",
       "      <th>ccy</th>\n",
       "      <th>bid_price</th>\n",
       "      <th>ask_price</th>\n",
       "      <th>bid_ret</th>\n",
       "      <th>ask_ret</th>\n",
       "      <th>mid_price</th>\n",
       "    </tr>\n",
       "  </thead>\n",
       "  <tbody>\n",
       "    <tr>\n",
       "      <th>0</th>\n",
       "      <td>2019-01-01 17:12:00</td>\n",
       "      <td>audusd</td>\n",
       "      <td>0.70465</td>\n",
       "      <td>0.70475</td>\n",
       "      <td>0.000014</td>\n",
       "      <td>0.000085</td>\n",
       "      <td>0.00010</td>\n",
       "    </tr>\n",
       "    <tr>\n",
       "      <th>1</th>\n",
       "      <td>2019-01-01 17:13:00</td>\n",
       "      <td>audusd</td>\n",
       "      <td>0.70465</td>\n",
       "      <td>0.70471</td>\n",
       "      <td>0.000000</td>\n",
       "      <td>-0.000057</td>\n",
       "      <td>0.00006</td>\n",
       "    </tr>\n",
       "    <tr>\n",
       "      <th>2</th>\n",
       "      <td>2019-01-01 17:14:00</td>\n",
       "      <td>audusd</td>\n",
       "      <td>0.70464</td>\n",
       "      <td>0.70472</td>\n",
       "      <td>-0.000014</td>\n",
       "      <td>0.000014</td>\n",
       "      <td>0.00008</td>\n",
       "    </tr>\n",
       "    <tr>\n",
       "      <th>3</th>\n",
       "      <td>2019-01-01 17:15:00</td>\n",
       "      <td>audusd</td>\n",
       "      <td>0.70463</td>\n",
       "      <td>0.70473</td>\n",
       "      <td>-0.000014</td>\n",
       "      <td>0.000014</td>\n",
       "      <td>0.00010</td>\n",
       "    </tr>\n",
       "    <tr>\n",
       "      <th>4</th>\n",
       "      <td>2019-01-01 17:16:00</td>\n",
       "      <td>audusd</td>\n",
       "      <td>0.70463</td>\n",
       "      <td>0.70469</td>\n",
       "      <td>0.000000</td>\n",
       "      <td>-0.000057</td>\n",
       "      <td>0.00006</td>\n",
       "    </tr>\n",
       "  </tbody>\n",
       "</table>\n",
       "</div>"
      ],
      "text/plain": [
       "            timestamp     ccy  bid_price  ask_price   bid_ret   ask_ret  \\\n",
       "0 2019-01-01 17:12:00  audusd    0.70465    0.70475  0.000014  0.000085   \n",
       "1 2019-01-01 17:13:00  audusd    0.70465    0.70471  0.000000 -0.000057   \n",
       "2 2019-01-01 17:14:00  audusd    0.70464    0.70472 -0.000014  0.000014   \n",
       "3 2019-01-01 17:15:00  audusd    0.70463    0.70473 -0.000014  0.000014   \n",
       "4 2019-01-01 17:16:00  audusd    0.70463    0.70469  0.000000 -0.000057   \n",
       "\n",
       "   mid_price  \n",
       "0    0.00010  \n",
       "1    0.00006  \n",
       "2    0.00008  \n",
       "3    0.00010  \n",
       "4    0.00006  "
      ]
     },
     "execution_count": 42,
     "metadata": {},
     "output_type": "execute_result"
    }
   ],
   "source": [
    "X.head()"
   ]
  },
  {
   "cell_type": "markdown",
   "metadata": {},
   "source": [
    "## 2.9 Let's plot for a visual check."
   ]
  },
  {
   "cell_type": "code",
   "execution_count": 43,
   "metadata": {
    "ExecuteTime": {
     "end_time": "2019-11-05T18:16:51.157620Z",
     "start_time": "2019-11-05T18:16:51.148355Z"
    }
   },
   "outputs": [],
   "source": [
    "# Code: https://stackoverflow.com/questions/11640243/pandas-plot-multiple-y-axes\n",
    "def plot_multi(data, cols=None, spacing=.1, **kwargs):\n",
    "\n",
    "    from pandas import plotting\n",
    "\n",
    "    # Get default color style from pandas - can be changed to any other color list\n",
    "    if cols is None: cols = data.columns\n",
    "    if len(cols) == 0: return\n",
    "    colors = getattr(getattr(plotting, '_matplotlib').style, '_get_standard_colors')(num_colors=len(cols))\n",
    "\n",
    "    # First axis\n",
    "    ax = data.loc[:, cols[0]].plot(label=cols[0], color=colors[0], **kwargs)\n",
    "    ax.set_ylabel(ylabel=cols[0])\n",
    "    ax.tick_params(axis='y', colors=colors[0])\n",
    "    lines, labels = ax.get_legend_handles_labels()\n",
    "\n",
    "    for n in range(1, len(cols)):\n",
    "        # Multiple y-axes\n",
    "        ax_new = ax.twinx()\n",
    "        ax_new.spines['right'].set_position(('axes', 1 + spacing * (n - 1)))\n",
    "        data.loc[:, cols[n]].plot(ax=ax_new, label=cols[n], color=colors[n % len(colors)])\n",
    "        ax_new.set_ylabel(ylabel=cols[n])\n",
    "        ax_new.tick_params(axis='y', colors=colors[n % len(colors)])\n",
    "\n",
    "        # Proper legend position\n",
    "        line, label = ax_new.get_legend_handles_labels()\n",
    "        lines += line\n",
    "        labels += label\n",
    "\n",
    "    ax.legend(lines, labels, loc=0)\n",
    "    return ax"
   ]
  },
  {
   "cell_type": "code",
   "execution_count": 44,
   "metadata": {
    "ExecuteTime": {
     "end_time": "2019-11-05T18:16:52.916765Z",
     "start_time": "2019-11-05T18:16:51.729938Z"
    }
   },
   "outputs": [],
   "source": [
    "bid_dict = dict()\n",
    "ask_dict = dict()\n",
    "for ccy in ccy_list:\n",
    "    bid_dict[ccy] = X[X.ccy==ccy].bid_price.reset_index(drop=True)\n",
    "    ask_dict[ccy] = X[X.ccy==ccy].ask_price.reset_index(drop=True)\n",
    "X_bid = pd.DataFrame(bid_dict)\n",
    "X_ask = pd.DataFrame(ask_dict)"
   ]
  },
  {
   "cell_type": "code",
   "execution_count": 45,
   "metadata": {
    "ExecuteTime": {
     "end_time": "2019-11-05T18:16:52.932070Z",
     "start_time": "2019-11-05T18:16:52.919078Z"
    }
   },
   "outputs": [
    {
     "data": {
      "text/html": [
       "<div>\n",
       "<style scoped>\n",
       "    .dataframe tbody tr th:only-of-type {\n",
       "        vertical-align: middle;\n",
       "    }\n",
       "\n",
       "    .dataframe tbody tr th {\n",
       "        vertical-align: top;\n",
       "    }\n",
       "\n",
       "    .dataframe thead th {\n",
       "        text-align: right;\n",
       "    }\n",
       "</style>\n",
       "<table border=\"1\" class=\"dataframe\">\n",
       "  <thead>\n",
       "    <tr style=\"text-align: right;\">\n",
       "      <th></th>\n",
       "      <th>nzdusd</th>\n",
       "      <th>usdchf</th>\n",
       "      <th>gbpusd</th>\n",
       "      <th>usdnok</th>\n",
       "      <th>usdsek</th>\n",
       "      <th>audusd</th>\n",
       "      <th>eurusd</th>\n",
       "      <th>usdcad</th>\n",
       "      <th>usdjpy</th>\n",
       "    </tr>\n",
       "  </thead>\n",
       "  <tbody>\n",
       "    <tr>\n",
       "      <th>0</th>\n",
       "      <td>0.67138</td>\n",
       "      <td>0.98061</td>\n",
       "      <td>1.27294</td>\n",
       "      <td>8.63465</td>\n",
       "      <td>8.8577</td>\n",
       "      <td>0.70465</td>\n",
       "      <td>1.14607</td>\n",
       "      <td>1.36280</td>\n",
       "      <td>109.652</td>\n",
       "    </tr>\n",
       "    <tr>\n",
       "      <th>1</th>\n",
       "      <td>0.67137</td>\n",
       "      <td>0.98096</td>\n",
       "      <td>1.27294</td>\n",
       "      <td>8.63466</td>\n",
       "      <td>8.8577</td>\n",
       "      <td>0.70465</td>\n",
       "      <td>1.14607</td>\n",
       "      <td>1.36255</td>\n",
       "      <td>109.652</td>\n",
       "    </tr>\n",
       "    <tr>\n",
       "      <th>2</th>\n",
       "      <td>0.67138</td>\n",
       "      <td>0.98046</td>\n",
       "      <td>1.27277</td>\n",
       "      <td>8.63465</td>\n",
       "      <td>8.8577</td>\n",
       "      <td>0.70464</td>\n",
       "      <td>1.14607</td>\n",
       "      <td>1.36255</td>\n",
       "      <td>109.623</td>\n",
       "    </tr>\n",
       "    <tr>\n",
       "      <th>3</th>\n",
       "      <td>0.67135</td>\n",
       "      <td>0.98045</td>\n",
       "      <td>1.27277</td>\n",
       "      <td>8.63465</td>\n",
       "      <td>8.8577</td>\n",
       "      <td>0.70463</td>\n",
       "      <td>1.14607</td>\n",
       "      <td>1.36255</td>\n",
       "      <td>109.624</td>\n",
       "    </tr>\n",
       "    <tr>\n",
       "      <th>4</th>\n",
       "      <td>0.67134</td>\n",
       "      <td>0.98045</td>\n",
       "      <td>1.27277</td>\n",
       "      <td>8.63465</td>\n",
       "      <td>8.8577</td>\n",
       "      <td>0.70463</td>\n",
       "      <td>1.14607</td>\n",
       "      <td>1.36255</td>\n",
       "      <td>109.660</td>\n",
       "    </tr>\n",
       "  </tbody>\n",
       "</table>\n",
       "</div>"
      ],
      "text/plain": [
       "    nzdusd   usdchf   gbpusd   usdnok  usdsek   audusd   eurusd   usdcad  \\\n",
       "0  0.67138  0.98061  1.27294  8.63465  8.8577  0.70465  1.14607  1.36280   \n",
       "1  0.67137  0.98096  1.27294  8.63466  8.8577  0.70465  1.14607  1.36255   \n",
       "2  0.67138  0.98046  1.27277  8.63465  8.8577  0.70464  1.14607  1.36255   \n",
       "3  0.67135  0.98045  1.27277  8.63465  8.8577  0.70463  1.14607  1.36255   \n",
       "4  0.67134  0.98045  1.27277  8.63465  8.8577  0.70463  1.14607  1.36255   \n",
       "\n",
       "    usdjpy  \n",
       "0  109.652  \n",
       "1  109.652  \n",
       "2  109.623  \n",
       "3  109.624  \n",
       "4  109.660  "
      ]
     },
     "execution_count": 45,
     "metadata": {},
     "output_type": "execute_result"
    }
   ],
   "source": [
    "X_bid.head()"
   ]
  },
  {
   "cell_type": "code",
   "execution_count": 46,
   "metadata": {
    "ExecuteTime": {
     "end_time": "2019-11-05T18:16:53.976604Z",
     "start_time": "2019-11-05T18:16:53.960311Z"
    }
   },
   "outputs": [
    {
     "data": {
      "text/html": [
       "<div>\n",
       "<style scoped>\n",
       "    .dataframe tbody tr th:only-of-type {\n",
       "        vertical-align: middle;\n",
       "    }\n",
       "\n",
       "    .dataframe tbody tr th {\n",
       "        vertical-align: top;\n",
       "    }\n",
       "\n",
       "    .dataframe thead th {\n",
       "        text-align: right;\n",
       "    }\n",
       "</style>\n",
       "<table border=\"1\" class=\"dataframe\">\n",
       "  <thead>\n",
       "    <tr style=\"text-align: right;\">\n",
       "      <th></th>\n",
       "      <th>nzdusd</th>\n",
       "      <th>usdchf</th>\n",
       "      <th>gbpusd</th>\n",
       "      <th>usdnok</th>\n",
       "      <th>usdsek</th>\n",
       "      <th>audusd</th>\n",
       "      <th>eurusd</th>\n",
       "      <th>usdcad</th>\n",
       "      <th>usdjpy</th>\n",
       "    </tr>\n",
       "  </thead>\n",
       "  <tbody>\n",
       "    <tr>\n",
       "      <th>0</th>\n",
       "      <td>0.67140</td>\n",
       "      <td>0.98113</td>\n",
       "      <td>1.27294</td>\n",
       "      <td>8.63466</td>\n",
       "      <td>8.85778</td>\n",
       "      <td>0.70475</td>\n",
       "      <td>1.14608</td>\n",
       "      <td>1.36284</td>\n",
       "      <td>109.653</td>\n",
       "    </tr>\n",
       "    <tr>\n",
       "      <th>1</th>\n",
       "      <td>0.67139</td>\n",
       "      <td>0.98096</td>\n",
       "      <td>1.27295</td>\n",
       "      <td>8.63466</td>\n",
       "      <td>8.85778</td>\n",
       "      <td>0.70471</td>\n",
       "      <td>1.14608</td>\n",
       "      <td>1.36256</td>\n",
       "      <td>109.653</td>\n",
       "    </tr>\n",
       "    <tr>\n",
       "      <th>2</th>\n",
       "      <td>0.67139</td>\n",
       "      <td>0.98098</td>\n",
       "      <td>1.27295</td>\n",
       "      <td>8.63465</td>\n",
       "      <td>8.85778</td>\n",
       "      <td>0.70472</td>\n",
       "      <td>1.14608</td>\n",
       "      <td>1.36255</td>\n",
       "      <td>109.653</td>\n",
       "    </tr>\n",
       "    <tr>\n",
       "      <th>3</th>\n",
       "      <td>0.67141</td>\n",
       "      <td>0.98098</td>\n",
       "      <td>1.27277</td>\n",
       "      <td>8.63465</td>\n",
       "      <td>8.85778</td>\n",
       "      <td>0.70473</td>\n",
       "      <td>1.14608</td>\n",
       "      <td>1.36256</td>\n",
       "      <td>109.662</td>\n",
       "    </tr>\n",
       "    <tr>\n",
       "      <th>4</th>\n",
       "      <td>0.67139</td>\n",
       "      <td>0.98098</td>\n",
       "      <td>1.27277</td>\n",
       "      <td>8.63465</td>\n",
       "      <td>8.85778</td>\n",
       "      <td>0.70469</td>\n",
       "      <td>1.14608</td>\n",
       "      <td>1.36256</td>\n",
       "      <td>109.668</td>\n",
       "    </tr>\n",
       "  </tbody>\n",
       "</table>\n",
       "</div>"
      ],
      "text/plain": [
       "    nzdusd   usdchf   gbpusd   usdnok   usdsek   audusd   eurusd   usdcad  \\\n",
       "0  0.67140  0.98113  1.27294  8.63466  8.85778  0.70475  1.14608  1.36284   \n",
       "1  0.67139  0.98096  1.27295  8.63466  8.85778  0.70471  1.14608  1.36256   \n",
       "2  0.67139  0.98098  1.27295  8.63465  8.85778  0.70472  1.14608  1.36255   \n",
       "3  0.67141  0.98098  1.27277  8.63465  8.85778  0.70473  1.14608  1.36256   \n",
       "4  0.67139  0.98098  1.27277  8.63465  8.85778  0.70469  1.14608  1.36256   \n",
       "\n",
       "    usdjpy  \n",
       "0  109.653  \n",
       "1  109.653  \n",
       "2  109.653  \n",
       "3  109.662  \n",
       "4  109.668  "
      ]
     },
     "execution_count": 46,
     "metadata": {},
     "output_type": "execute_result"
    }
   ],
   "source": [
    "X_ask.head()"
   ]
  },
  {
   "cell_type": "markdown",
   "metadata": {},
   "source": [
    "#### Bid prices"
   ]
  },
  {
   "cell_type": "code",
   "execution_count": 47,
   "metadata": {
    "ExecuteTime": {
     "end_time": "2019-11-05T18:16:57.382457Z",
     "start_time": "2019-11-05T18:16:55.476298Z"
    },
    "scrolled": true
   },
   "outputs": [
    {
     "data": {
      "text/plain": [
       "<matplotlib.axes._subplots.AxesSubplot at 0x12deb66a0>"
      ]
     },
     "execution_count": 47,
     "metadata": {},
     "output_type": "execute_result"
    },
    {
     "data": {
      "image/png": "[encoded data removed]",
      "text/plain": [
       "<Figure size 720x360 with 9 Axes>"
      ]
     },
     "metadata": {},
     "output_type": "display_data"
    }
   ],
   "source": [
    "plot_multi(X_bid, figsize=(10, 5))"
   ]
  },
  {
   "cell_type": "markdown",
   "metadata": {},
   "source": [
    "#### Ask prices"
   ]
  },
  {
   "cell_type": "code",
   "execution_count": 48,
   "metadata": {
    "ExecuteTime": {
     "end_time": "2019-11-05T18:17:00.386577Z",
     "start_time": "2019-11-05T18:16:58.217260Z"
    }
   },
   "outputs": [
    {
     "data": {
      "text/plain": [
       "<matplotlib.axes._subplots.AxesSubplot at 0x12d89ed68>"
      ]
     },
     "execution_count": 48,
     "metadata": {},
     "output_type": "execute_result"
    },
    {
     "data": {
      "image/png": "[encoded data removed]",
      "text/plain": [
       "<Figure size 720x360 with 9 Axes>"
      ]
     },
     "metadata": {},
     "output_type": "display_data"
    }
   ],
   "source": [
    "plot_multi(X_ask, figsize=(10, 5))"
   ]
  },
  {
   "cell_type": "code",
   "execution_count": null,
   "metadata": {},
   "outputs": [],
   "source": []
  },
  {
   "cell_type": "markdown",
   "metadata": {},
   "source": [
    "# 3. Data set `X` is ready"
   ]
  },
  {
   "cell_type": "markdown",
   "metadata": {},
   "source": [
    "## 3.1 Take a look"
   ]
  },
  {
   "cell_type": "code",
   "execution_count": 49,
   "metadata": {
    "ExecuteTime": {
     "end_time": "2019-11-05T18:17:00.583683Z",
     "start_time": "2019-11-05T18:17:00.579363Z"
    }
   },
   "outputs": [
    {
     "data": {
      "text/plain": [
       "(1397286, 7)"
      ]
     },
     "execution_count": 49,
     "metadata": {},
     "output_type": "execute_result"
    }
   ],
   "source": [
    "X.shape"
   ]
  },
  {
   "cell_type": "code",
   "execution_count": 50,
   "metadata": {
    "ExecuteTime": {
     "end_time": "2019-11-05T18:17:02.052952Z",
     "start_time": "2019-11-05T18:17:01.951590Z"
    }
   },
   "outputs": [
    {
     "data": {
      "text/html": [
       "<div>\n",
       "<style scoped>\n",
       "    .dataframe tbody tr th:only-of-type {\n",
       "        vertical-align: middle;\n",
       "    }\n",
       "\n",
       "    .dataframe tbody tr th {\n",
       "        vertical-align: top;\n",
       "    }\n",
       "\n",
       "    .dataframe thead th {\n",
       "        text-align: right;\n",
       "    }\n",
       "</style>\n",
       "<table border=\"1\" class=\"dataframe\">\n",
       "  <thead>\n",
       "    <tr style=\"text-align: right;\">\n",
       "      <th></th>\n",
       "      <th>timestamp</th>\n",
       "      <th>ccy</th>\n",
       "      <th>bid_price</th>\n",
       "      <th>ask_price</th>\n",
       "      <th>bid_ret</th>\n",
       "      <th>ask_ret</th>\n",
       "      <th>mid_price</th>\n",
       "    </tr>\n",
       "  </thead>\n",
       "  <tbody>\n",
       "    <tr>\n",
       "      <th>1268162</th>\n",
       "      <td>2019-01-27 20:48:00</td>\n",
       "      <td>usdsek</td>\n",
       "      <td>9.03745</td>\n",
       "      <td>9.03868</td>\n",
       "      <td>0.000045</td>\n",
       "      <td>0.000027</td>\n",
       "      <td>0.00123</td>\n",
       "    </tr>\n",
       "    <tr>\n",
       "      <th>34146</th>\n",
       "      <td>2019-02-04 10:26:00</td>\n",
       "      <td>audusd</td>\n",
       "      <td>0.72135</td>\n",
       "      <td>0.72146</td>\n",
       "      <td>0.000055</td>\n",
       "      <td>0.000000</td>\n",
       "      <td>0.00011</td>\n",
       "    </tr>\n",
       "    <tr>\n",
       "      <th>1243884</th>\n",
       "      <td>2019-01-03 00:04:00</td>\n",
       "      <td>usdsek</td>\n",
       "      <td>9.00477</td>\n",
       "      <td>9.00531</td>\n",
       "      <td>0.000002</td>\n",
       "      <td>0.000001</td>\n",
       "      <td>0.00054</td>\n",
       "    </tr>\n",
       "    <tr>\n",
       "      <th>672599</th>\n",
       "      <td>2019-02-20 13:03:00</td>\n",
       "      <td>usdcad</td>\n",
       "      <td>1.31578</td>\n",
       "      <td>1.31601</td>\n",
       "      <td>-0.000061</td>\n",
       "      <td>-0.000175</td>\n",
       "      <td>0.00023</td>\n",
       "    </tr>\n",
       "    <tr>\n",
       "      <th>661216</th>\n",
       "      <td>2019-02-08 15:20:00</td>\n",
       "      <td>usdcad</td>\n",
       "      <td>1.32666</td>\n",
       "      <td>1.32678</td>\n",
       "      <td>-0.000038</td>\n",
       "      <td>-0.000023</td>\n",
       "      <td>0.00012</td>\n",
       "    </tr>\n",
       "  </tbody>\n",
       "</table>\n",
       "</div>"
      ],
      "text/plain": [
       "                  timestamp     ccy  bid_price  ask_price   bid_ret   ask_ret  \\\n",
       "1268162 2019-01-27 20:48:00  usdsek    9.03745    9.03868  0.000045  0.000027   \n",
       "34146   2019-02-04 10:26:00  audusd    0.72135    0.72146  0.000055  0.000000   \n",
       "1243884 2019-01-03 00:04:00  usdsek    9.00477    9.00531  0.000002  0.000001   \n",
       "672599  2019-02-20 13:03:00  usdcad    1.31578    1.31601 -0.000061 -0.000175   \n",
       "661216  2019-02-08 15:20:00  usdcad    1.32666    1.32678 -0.000038 -0.000023   \n",
       "\n",
       "         mid_price  \n",
       "1268162    0.00123  \n",
       "34146      0.00011  \n",
       "1243884    0.00054  \n",
       "672599     0.00023  \n",
       "661216     0.00012  "
      ]
     },
     "execution_count": 50,
     "metadata": {},
     "output_type": "execute_result"
    }
   ],
   "source": [
    "X.sample(5)"
   ]
  },
  {
   "cell_type": "code",
   "execution_count": 51,
   "metadata": {
    "ExecuteTime": {
     "end_time": "2019-11-05T18:17:03.389365Z",
     "start_time": "2019-11-05T18:17:03.301304Z"
    }
   },
   "outputs": [
    {
     "data": {
      "text/html": [
       "<div>\n",
       "<style scoped>\n",
       "    .dataframe tbody tr th:only-of-type {\n",
       "        vertical-align: middle;\n",
       "    }\n",
       "\n",
       "    .dataframe tbody tr th {\n",
       "        vertical-align: top;\n",
       "    }\n",
       "\n",
       "    .dataframe thead th {\n",
       "        text-align: right;\n",
       "    }\n",
       "</style>\n",
       "<table border=\"1\" class=\"dataframe\">\n",
       "  <thead>\n",
       "    <tr style=\"text-align: right;\">\n",
       "      <th></th>\n",
       "      <th>timestamp</th>\n",
       "      <th>ccy</th>\n",
       "      <th>bid_price</th>\n",
       "      <th>ask_price</th>\n",
       "      <th>bid_ret</th>\n",
       "      <th>ask_ret</th>\n",
       "      <th>mid_price</th>\n",
       "    </tr>\n",
       "  </thead>\n",
       "  <tbody>\n",
       "    <tr>\n",
       "      <th>310508</th>\n",
       "      <td>2019-01-01 17:12:00</td>\n",
       "      <td>gbpusd</td>\n",
       "      <td>1.27294</td>\n",
       "      <td>1.27294</td>\n",
       "      <td>0.000526</td>\n",
       "      <td>0.000526</td>\n",
       "      <td>0.00000</td>\n",
       "    </tr>\n",
       "    <tr>\n",
       "      <th>310509</th>\n",
       "      <td>2019-01-01 17:13:00</td>\n",
       "      <td>gbpusd</td>\n",
       "      <td>1.27294</td>\n",
       "      <td>1.27295</td>\n",
       "      <td>0.000000</td>\n",
       "      <td>0.000008</td>\n",
       "      <td>0.00001</td>\n",
       "    </tr>\n",
       "    <tr>\n",
       "      <th>310510</th>\n",
       "      <td>2019-01-01 17:14:00</td>\n",
       "      <td>gbpusd</td>\n",
       "      <td>1.27277</td>\n",
       "      <td>1.27295</td>\n",
       "      <td>-0.000134</td>\n",
       "      <td>0.000000</td>\n",
       "      <td>0.00018</td>\n",
       "    </tr>\n",
       "    <tr>\n",
       "      <th>310511</th>\n",
       "      <td>2019-01-01 17:15:00</td>\n",
       "      <td>gbpusd</td>\n",
       "      <td>1.27277</td>\n",
       "      <td>1.27277</td>\n",
       "      <td>0.000000</td>\n",
       "      <td>-0.000141</td>\n",
       "      <td>0.00000</td>\n",
       "    </tr>\n",
       "    <tr>\n",
       "      <th>310512</th>\n",
       "      <td>2019-01-01 17:16:00</td>\n",
       "      <td>gbpusd</td>\n",
       "      <td>1.27277</td>\n",
       "      <td>1.27277</td>\n",
       "      <td>0.000000</td>\n",
       "      <td>0.000000</td>\n",
       "      <td>0.00000</td>\n",
       "    </tr>\n",
       "  </tbody>\n",
       "</table>\n",
       "</div>"
      ],
      "text/plain": [
       "                 timestamp     ccy  bid_price  ask_price   bid_ret   ask_ret  \\\n",
       "310508 2019-01-01 17:12:00  gbpusd    1.27294    1.27294  0.000526  0.000526   \n",
       "310509 2019-01-01 17:13:00  gbpusd    1.27294    1.27295  0.000000  0.000008   \n",
       "310510 2019-01-01 17:14:00  gbpusd    1.27277    1.27295 -0.000134  0.000000   \n",
       "310511 2019-01-01 17:15:00  gbpusd    1.27277    1.27277  0.000000 -0.000141   \n",
       "310512 2019-01-01 17:16:00  gbpusd    1.27277    1.27277  0.000000  0.000000   \n",
       "\n",
       "        mid_price  \n",
       "310508    0.00000  \n",
       "310509    0.00001  \n",
       "310510    0.00018  \n",
       "310511    0.00000  \n",
       "310512    0.00000  "
      ]
     },
     "execution_count": 51,
     "metadata": {},
     "output_type": "execute_result"
    }
   ],
   "source": [
    "X[X.ccy=='gbpusd'].head(5)"
   ]
  },
  {
   "cell_type": "markdown",
   "metadata": {},
   "source": [
    "## Split: Training set and Validation set(=evaluation set)\n",
    "- Training set `X_train`: The first two and a half weeks (From May 1, 2019 to May 19, 2019)\n",
    "- Validation set `X_val`: The following one week (From May 20, 2019 to May 26, 2019)\n",
    "- Test set `X_test`: The rest of days (From May 27, 2019 to May 31, 2019)\n",
    "  - In fact, we never create `X_test` until the very last moment."
   ]
  },
  {
   "cell_type": "code",
   "execution_count": 52,
   "metadata": {
    "ExecuteTime": {
     "end_time": "2019-11-05T18:17:06.025818Z",
     "start_time": "2019-11-05T18:17:05.936291Z"
    }
   },
   "outputs": [],
   "source": [
    "X_train = X[(X.timestamp >= pd.datetime(2019, 1, 1)) &\n",
    "            (X.timestamp < pd.datetime(2019, 4, 1))]\n",
    "X_val = X[(X.timestamp >= pd.datetime(2019, 4, 1)) &\n",
    "          (X.timestamp < pd.datetime(2019, 5, 1))]"
   ]
  },
  {
   "cell_type": "code",
   "execution_count": 53,
   "metadata": {
    "ExecuteTime": {
     "end_time": "2019-11-05T18:17:06.517599Z",
     "start_time": "2019-11-05T18:17:06.355845Z"
    }
   },
   "outputs": [
    {
     "name": "stderr",
     "output_type": "stream",
     "text": [
      "/Users/msyeom/anaconda3/envs/dl/lib/python3.6/site-packages/pandas/core/frame.py:4097: SettingWithCopyWarning: \n",
      "A value is trying to be set on a copy of a slice from a DataFrame\n",
      "\n",
      "See the caveats in the documentation: http://pandas.pydata.org/pandas-docs/stable/user_guide/indexing.html#returning-a-view-versus-a-copy\n",
      "  errors=errors,\n"
     ]
    }
   ],
   "source": [
    "X.drop(X[(X.timestamp >= pd.datetime(2019, 5, 27)) & (\n",
    "    X.timestamp < pd.datetime(2019, 6, 1))].index, inplace=True)"
   ]
  },
  {
   "cell_type": "code",
   "execution_count": 54,
   "metadata": {
    "ExecuteTime": {
     "end_time": "2019-11-05T18:17:06.728481Z",
     "start_time": "2019-11-05T18:17:06.717482Z"
    },
    "scrolled": true
   },
   "outputs": [
    {
     "data": {
      "text/html": [
       "<div>\n",
       "<style scoped>\n",
       "    .dataframe tbody tr th:only-of-type {\n",
       "        vertical-align: middle;\n",
       "    }\n",
       "\n",
       "    .dataframe tbody tr th {\n",
       "        vertical-align: top;\n",
       "    }\n",
       "\n",
       "    .dataframe thead th {\n",
       "        text-align: right;\n",
       "    }\n",
       "</style>\n",
       "<table border=\"1\" class=\"dataframe\">\n",
       "  <thead>\n",
       "    <tr style=\"text-align: right;\">\n",
       "      <th></th>\n",
       "      <th>timestamp</th>\n",
       "      <th>ccy</th>\n",
       "      <th>bid_price</th>\n",
       "      <th>ask_price</th>\n",
       "      <th>bid_ret</th>\n",
       "      <th>ask_ret</th>\n",
       "      <th>mid_price</th>\n",
       "    </tr>\n",
       "  </thead>\n",
       "  <tbody>\n",
       "    <tr>\n",
       "      <th>1390502</th>\n",
       "      <td>2019-05-26 23:55:00</td>\n",
       "      <td>usdsek</td>\n",
       "      <td>9.52895</td>\n",
       "      <td>9.52895</td>\n",
       "      <td>0.0</td>\n",
       "      <td>0.0</td>\n",
       "      <td>0.0</td>\n",
       "    </tr>\n",
       "    <tr>\n",
       "      <th>1390503</th>\n",
       "      <td>2019-05-26 23:56:00</td>\n",
       "      <td>usdsek</td>\n",
       "      <td>9.52895</td>\n",
       "      <td>9.52895</td>\n",
       "      <td>0.0</td>\n",
       "      <td>0.0</td>\n",
       "      <td>0.0</td>\n",
       "    </tr>\n",
       "    <tr>\n",
       "      <th>1390504</th>\n",
       "      <td>2019-05-26 23:57:00</td>\n",
       "      <td>usdsek</td>\n",
       "      <td>9.52895</td>\n",
       "      <td>9.52895</td>\n",
       "      <td>0.0</td>\n",
       "      <td>0.0</td>\n",
       "      <td>0.0</td>\n",
       "    </tr>\n",
       "    <tr>\n",
       "      <th>1390505</th>\n",
       "      <td>2019-05-26 23:58:00</td>\n",
       "      <td>usdsek</td>\n",
       "      <td>9.52895</td>\n",
       "      <td>9.52895</td>\n",
       "      <td>0.0</td>\n",
       "      <td>0.0</td>\n",
       "      <td>0.0</td>\n",
       "    </tr>\n",
       "    <tr>\n",
       "      <th>1390506</th>\n",
       "      <td>2019-05-26 23:59:00</td>\n",
       "      <td>usdsek</td>\n",
       "      <td>9.52895</td>\n",
       "      <td>9.52895</td>\n",
       "      <td>0.0</td>\n",
       "      <td>0.0</td>\n",
       "      <td>0.0</td>\n",
       "    </tr>\n",
       "  </tbody>\n",
       "</table>\n",
       "</div>"
      ],
      "text/plain": [
       "                  timestamp     ccy  bid_price  ask_price  bid_ret  ask_ret  \\\n",
       "1390502 2019-05-26 23:55:00  usdsek    9.52895    9.52895      0.0      0.0   \n",
       "1390503 2019-05-26 23:56:00  usdsek    9.52895    9.52895      0.0      0.0   \n",
       "1390504 2019-05-26 23:57:00  usdsek    9.52895    9.52895      0.0      0.0   \n",
       "1390505 2019-05-26 23:58:00  usdsek    9.52895    9.52895      0.0      0.0   \n",
       "1390506 2019-05-26 23:59:00  usdsek    9.52895    9.52895      0.0      0.0   \n",
       "\n",
       "         mid_price  \n",
       "1390502        0.0  \n",
       "1390503        0.0  \n",
       "1390504        0.0  \n",
       "1390505        0.0  \n",
       "1390506        0.0  "
      ]
     },
     "execution_count": 54,
     "metadata": {},
     "output_type": "execute_result"
    }
   ],
   "source": [
    "X.tail()"
   ]
  },
  {
   "cell_type": "markdown",
   "metadata": {},
   "source": [
    "## 3.2 Save to csv files"
   ]
  },
  {
   "cell_type": "code",
   "execution_count": 55,
   "metadata": {
    "ExecuteTime": {
     "end_time": "2019-11-05T18:20:26.757905Z",
     "start_time": "2019-11-05T18:20:15.636312Z"
    }
   },
   "outputs": [],
   "source": [
    "X_train.to_csv('../dataset/toy_X_train.csv', index=False)\n",
    "X_val.to_csv('../dataset/toy_X_val.csv', index=False)"
   ]
  },
  {
   "cell_type": "markdown",
   "metadata": {},
   "source": [
    "### The end of preprocessing ------------------------------------------------"
   ]
  },
  {
   "cell_type": "code",
   "execution_count": 56,
   "metadata": {
    "ExecuteTime": {
     "end_time": "2019-11-05T18:20:26.942056Z",
     "start_time": "2019-11-05T18:20:26.760467Z"
    }
   },
   "outputs": [
    {
     "data": {
      "text/plain": [
       "((91057, 7), (91057, 7), (91057, 7))"
      ]
     },
     "execution_count": 56,
     "metadata": {},
     "output_type": "execute_result"
    }
   ],
   "source": [
    "X_train[X_train.ccy=='usdjpy'].shape, X_train[X_train.ccy=='eurusd'].shape, X_train[X_train.ccy=='gbpusd'].shape"
   ]
  },
  {
   "cell_type": "code",
   "execution_count": 57,
   "metadata": {
    "ExecuteTime": {
     "end_time": "2019-11-05T18:20:50.223315Z",
     "start_time": "2019-11-05T18:20:50.218238Z"
    }
   },
   "outputs": [
    {
     "data": {
      "text/plain": [
       "62.36780821917808"
      ]
     },
     "execution_count": 57,
     "metadata": {},
     "output_type": "execute_result"
    }
   ],
   "source": [
    "91057/1460"
   ]
  },
  {
   "cell_type": "code",
   "execution_count": null,
   "metadata": {},
   "outputs": [],
   "source": []
  },
  {
   "cell_type": "markdown",
   "metadata": {},
   "source": [
    "# Dat2019/DRL/run.py"
   ]
  },
  {
   "cell_type": "markdown",
   "metadata": {},
   "source": [
    "#### Import required packages"
   ]
  },
  {
   "cell_type": "code",
   "execution_count": 51,
   "metadata": {
    "ExecuteTime": {
     "end_time": "2019-11-03T17:59:26.157631Z",
     "start_time": "2019-11-03T17:59:26.152296Z"
    }
   },
   "outputs": [],
   "source": [
    "from __future__ import absolute_import, division, print_function, unicode_literals\n",
    "\n",
    "import numpy as np\n",
    "\n",
    "# utils\n",
    "import time\n",
    "\n",
    "# TensorFlow\n",
    "import tensorflow as tf\n",
    "import tensorflow.keras.optimizers as kop\n",
    "import tensorflow.keras.losses as kls\n",
    "from tensorflow.keras.layers import Dense\n",
    "from tensorflow.keras import Model"
   ]
  },
  {
   "cell_type": "markdown",
   "metadata": {},
   "source": [
    "#### Import our packages"
   ]
  },
  {
   "cell_type": "code",
   "execution_count": 45,
   "metadata": {
    "ExecuteTime": {
     "end_time": "2019-11-03T17:58:16.893349Z",
     "start_time": "2019-11-03T17:58:16.889726Z"
    }
   },
   "outputs": [],
   "source": [
    "from features import draw_episode"
   ]
  },
  {
   "cell_type": "markdown",
   "metadata": {},
   "source": [
    "#### Configuration\n",
    "- *Json* format or something else will be used later, but for now..."
   ]
  },
  {
   "cell_type": "code",
   "execution_count": 53,
   "metadata": {
    "ExecuteTime": {
     "end_time": "2019-11-03T18:00:31.882655Z",
     "start_time": "2019-11-03T18:00:31.878156Z"
    }
   },
   "outputs": [],
   "source": [
    "config = {}\n",
    "config['lag'] = 20\n",
    "config['ep_size'] = 100\n",
    "config['init_lr'] = 0.005\n",
    "config['momentum'] = 0.9\n",
    "config['num_of_eval_data'] = 30\n",
    "config['target_currency'] = 'audusd'\n",
    "config['epochs'] = 100\n",
    "config['timespan'] = 1440   # one full day (1440 minutes)\n",
    "\n",
    "tf.keras.backend.set_floatx('float64')"
   ]
  },
  {
   "cell_type": "code",
   "execution_count": 47,
   "metadata": {
    "ExecuteTime": {
     "end_time": "2019-11-03T17:58:16.908989Z",
     "start_time": "2019-11-03T17:58:16.902741Z"
    }
   },
   "outputs": [],
   "source": [
    "class Policy(Model):\n",
    "    def __init__(self):\n",
    "        super(Policy, self).__init__('mlp_policy')\n",
    "        self.fc1 = Dense(units=256, activation='relu')\n",
    "        self.fc2 = Dense(units=64, activation='relu')\n",
    "        self.value = Dense(1, activation='tanh', name='value')\n",
    "        \n",
    "        self.saved_log_probs = []\n",
    "        self.rewards = 0\n",
    "#         self.actions = []\n",
    "        \n",
    "    def call(self, inputs):\n",
    "        # `inputs` is a numpy array. We convert to Tensor.\n",
    "        x = tf.convert_to_tensor(inputs)\n",
    "        \n",
    "        x = self.fc1(x)\n",
    "        x = self.fc2(x)\n",
    "        x = self.value(x)\n",
    "        \n",
    "        return x\n",
    "    \n",
    "#     def choose_action(self, obs):\n",
    "#         # self.call() will be executed under the hool.\n",
    "#         value = self.predict(obs)\n",
    "        \n",
    "#         return np.squeeze(value, axis=-1)"
   ]
  },
  {
   "cell_type": "code",
   "execution_count": 48,
   "metadata": {
    "ExecuteTime": {
     "end_time": "2019-11-03T17:58:16.927866Z",
     "start_time": "2019-11-03T17:58:16.911604Z"
    }
   },
   "outputs": [],
   "source": [
    "policy = Policy()"
   ]
  },
  {
   "cell_type": "code",
   "execution_count": 49,
   "metadata": {
    "ExecuteTime": {
     "end_time": "2019-11-03T17:58:20.456082Z",
     "start_time": "2019-11-03T17:58:20.443990Z"
    }
   },
   "outputs": [],
   "source": [
    "def train_eval():\n",
    "    # We use an optimizer defined in Keras (kop)\n",
    "    optimizer = kop.SGD(\n",
    "        learning_rate=config['init_lr'], momentum=config['momentum'], name='SGD')\n",
    "\n",
    "    # Machine limits for floating point types.\n",
    "    eps = np.finfo(np.float64).eps.item()\n",
    "    rewards_over_time = []\n",
    "\n",
    "    num_of_eval_data = config['num_of_eval_data']\n",
    "    path = './base/best_model_' + \\\n",
    "        config['target_currency'] + str(time.time()) + '.tf'\n",
    "\n",
    "    for epoch in range(config['epochs']):\n",
    "        for ep_idx in range(config['ep_size']):\n",
    "            prev_action = 0\n",
    "            # n is `n-th` episode\n",
    "            # ep_size is a length of one episode.\n",
    "            # in draw_episode(), X[n:n+ep_size+1] will be used.\n",
    "            \n",
    "            # For a lag of 20,\n",
    "            # feature_span[0] := [20 target's log return(bid prices),\n",
    "            #                     20 target's log return(ask prices),\n",
    "            #                     8*20 others' log return(bid prices),\n",
    "            #                     8*20 others' log return(ask prices)]\n",
    "            #     at the oldest time stamp.\n",
    "            # (feature_span[-1] has features at the latest)\n",
    "            # Features are nomalized within draw_episode()\n",
    "            target_bid, target_ask, feature_span = \\\n",
    "                draw_episode(X=X_train, cur=config['target_currency'],\n",
    "                             n=ep_idx, ep_size=config['ep_size'],\n",
    "                             lag=config['lag'])\n",
    "            bid, ask, features = target_bid[config['lag']:] * 1e3, \\\n",
    "                            target_ask[config['lag']:]*1e3, \\\n",
    "                            feature_span\n",
    "            \n",
    "            # We loop through time stamps in order within an episode.\n",
    "            for t in range(config['timespan']):\n",
    "                observation = feature_span[t]\n",
    "                \n",
    "                # The neural networks returns an action-like value\n",
    "                # `state` is a numpy array.\n",
    "                action_by_nets = policy(observation)\n",
    "                \n",
    "                # An actual action to take should effectively cause a trade.\n",
    "                # Therefore, we subtract `prev_action_by_nets`\n",
    "                # from `action_by_nets` and take it as our `action`\n",
    "                action = action_by_nets - prev_action\n",
    "                print(action, action.shape)\n",
    "                price = 0\n",
    "                if action > 0:\n",
    "                    price = ask[t]  # We buy\n",
    "                elif action < 0:\n",
    "                    price = bid[t]  # We sell\n",
    "                \n",
    "                # This is an immediate reward caused by taking an action\n",
    "                reward = tf.math.add(-1*action*price)\n",
    "                \n",
    "                # Accumulated rewards\n",
    "                policy.rewards += reward\n",
    "                \n",
    "                prev_action = action_by_nets\n",
    "            \n",
    "            # Now that we've completed one episode,\n",
    "            # we optimize the neural nets.\n",
    "            losses = policy.train_on_batch(-policy.rewards / config['timespan'])\n",
    "#             with tf.GradientTape() as tape:\n",
    "#                 loss = -policy.rewards / config['timespan']\n",
    "#             grads = tape.gradient(loss, policy.trainable_variables)\n",
    "#             optimizer.apply_gradient(zip(grads, model.trainable_variables))\n",
    "            \n",
    "            if ep_idx % 10 == 0:\n",
    "                logger.info('Epoch:{} Episode:{}. The training loss is {}'.format(epoch, ep_idx, loss.item()))\n",
    "            \n",
    "            policy.rewards = 0"
   ]
  },
  {
   "cell_type": "code",
   "execution_count": 54,
   "metadata": {
    "ExecuteTime": {
     "end_time": "2019-11-03T18:00:35.179081Z",
     "start_time": "2019-11-03T18:00:35.092449Z"
    }
   },
   "outputs": [
    {
     "ename": "ValueError",
     "evalue": "Input 0 of layer dense is incompatible with the layer: : expected min_ndim=2, found ndim=1. Full shape received: [360]",
     "output_type": "error",
     "traceback": [
      "\u001b[0;31m---------------------------------------------------------------------------\u001b[0m",
      "\u001b[0;31mValueError\u001b[0m                                Traceback (most recent call last)",
      "\u001b[0;32m<ipython-input-54-8d6533c980f7>\u001b[0m in \u001b[0;36m<module>\u001b[0;34m\u001b[0m\n\u001b[0;32m----> 1\u001b[0;31m \u001b[0mtrain_eval\u001b[0m\u001b[0;34m(\u001b[0m\u001b[0;34m)\u001b[0m\u001b[0;34m\u001b[0m\u001b[0m\n\u001b[0m",
      "\u001b[0;32m<ipython-input-49-ca72884d5141>\u001b[0m in \u001b[0;36mtrain_eval\u001b[0;34m()\u001b[0m\n\u001b[1;32m     41\u001b[0m                 \u001b[0;31m# The neural networks returns an action-like value\u001b[0m\u001b[0;34m\u001b[0m\u001b[0;34m\u001b[0m\u001b[0m\n\u001b[1;32m     42\u001b[0m                 \u001b[0;31m# `state` is a numpy array.\u001b[0m\u001b[0;34m\u001b[0m\u001b[0;34m\u001b[0m\u001b[0m\n\u001b[0;32m---> 43\u001b[0;31m                 \u001b[0maction_by_nets\u001b[0m \u001b[0;34m=\u001b[0m \u001b[0mpolicy\u001b[0m\u001b[0;34m(\u001b[0m\u001b[0mobservation\u001b[0m\u001b[0;34m)\u001b[0m\u001b[0;34m\u001b[0m\u001b[0m\n\u001b[0m\u001b[1;32m     44\u001b[0m \u001b[0;34m\u001b[0m\u001b[0m\n\u001b[1;32m     45\u001b[0m                 \u001b[0;31m# An actual action to take should effectively cause a trade.\u001b[0m\u001b[0;34m\u001b[0m\u001b[0;34m\u001b[0m\u001b[0m\n",
      "\u001b[0;32m~/anaconda3/envs/dl/lib/python3.6/site-packages/tensorflow_core/python/keras/engine/base_layer.py\u001b[0m in \u001b[0;36m__call__\u001b[0;34m(self, inputs, *args, **kwargs)\u001b[0m\n\u001b[1;32m    889\u001b[0m           with base_layer_utils.autocast_context_manager(\n\u001b[1;32m    890\u001b[0m               self._compute_dtype):\n\u001b[0;32m--> 891\u001b[0;31m             \u001b[0moutputs\u001b[0m \u001b[0;34m=\u001b[0m \u001b[0mself\u001b[0m\u001b[0;34m.\u001b[0m\u001b[0mcall\u001b[0m\u001b[0;34m(\u001b[0m\u001b[0mcast_inputs\u001b[0m\u001b[0;34m,\u001b[0m \u001b[0;34m*\u001b[0m\u001b[0margs\u001b[0m\u001b[0;34m,\u001b[0m \u001b[0;34m**\u001b[0m\u001b[0mkwargs\u001b[0m\u001b[0;34m)\u001b[0m\u001b[0;34m\u001b[0m\u001b[0m\n\u001b[0m\u001b[1;32m    892\u001b[0m           \u001b[0mself\u001b[0m\u001b[0;34m.\u001b[0m\u001b[0m_handle_activity_regularization\u001b[0m\u001b[0;34m(\u001b[0m\u001b[0minputs\u001b[0m\u001b[0;34m,\u001b[0m \u001b[0moutputs\u001b[0m\u001b[0;34m)\u001b[0m\u001b[0;34m\u001b[0m\u001b[0m\n\u001b[1;32m    893\u001b[0m           \u001b[0mself\u001b[0m\u001b[0;34m.\u001b[0m\u001b[0m_set_mask_metadata\u001b[0m\u001b[0;34m(\u001b[0m\u001b[0minputs\u001b[0m\u001b[0;34m,\u001b[0m \u001b[0moutputs\u001b[0m\u001b[0;34m,\u001b[0m \u001b[0minput_masks\u001b[0m\u001b[0;34m)\u001b[0m\u001b[0;34m\u001b[0m\u001b[0m\n",
      "\u001b[0;32m<ipython-input-47-a5c1ed4025d4>\u001b[0m in \u001b[0;36mcall\u001b[0;34m(self, inputs)\u001b[0m\n\u001b[1;32m     14\u001b[0m         \u001b[0mx\u001b[0m \u001b[0;34m=\u001b[0m \u001b[0mtf\u001b[0m\u001b[0;34m.\u001b[0m\u001b[0mconvert_to_tensor\u001b[0m\u001b[0;34m(\u001b[0m\u001b[0minputs\u001b[0m\u001b[0;34m)\u001b[0m\u001b[0;34m\u001b[0m\u001b[0m\n\u001b[1;32m     15\u001b[0m \u001b[0;34m\u001b[0m\u001b[0m\n\u001b[0;32m---> 16\u001b[0;31m         \u001b[0mx\u001b[0m \u001b[0;34m=\u001b[0m \u001b[0mself\u001b[0m\u001b[0;34m.\u001b[0m\u001b[0mfc1\u001b[0m\u001b[0;34m(\u001b[0m\u001b[0mx\u001b[0m\u001b[0;34m)\u001b[0m\u001b[0;34m\u001b[0m\u001b[0m\n\u001b[0m\u001b[1;32m     17\u001b[0m         \u001b[0mx\u001b[0m \u001b[0;34m=\u001b[0m \u001b[0mself\u001b[0m\u001b[0;34m.\u001b[0m\u001b[0mfc2\u001b[0m\u001b[0;34m(\u001b[0m\u001b[0mx\u001b[0m\u001b[0;34m)\u001b[0m\u001b[0;34m\u001b[0m\u001b[0m\n\u001b[1;32m     18\u001b[0m         \u001b[0mx\u001b[0m \u001b[0;34m=\u001b[0m \u001b[0mself\u001b[0m\u001b[0;34m.\u001b[0m\u001b[0mvalue\u001b[0m\u001b[0;34m(\u001b[0m\u001b[0mx\u001b[0m\u001b[0;34m)\u001b[0m\u001b[0;34m\u001b[0m\u001b[0m\n",
      "\u001b[0;32m~/anaconda3/envs/dl/lib/python3.6/site-packages/tensorflow_core/python/keras/engine/base_layer.py\u001b[0m in \u001b[0;36m__call__\u001b[0;34m(self, inputs, *args, **kwargs)\u001b[0m\n\u001b[1;32m    885\u001b[0m         \u001b[0;31m# Eager execution on data tensors.\u001b[0m\u001b[0;34m\u001b[0m\u001b[0;34m\u001b[0m\u001b[0m\n\u001b[1;32m    886\u001b[0m         \u001b[0;32mwith\u001b[0m \u001b[0mbackend\u001b[0m\u001b[0;34m.\u001b[0m\u001b[0mname_scope\u001b[0m\u001b[0;34m(\u001b[0m\u001b[0mself\u001b[0m\u001b[0;34m.\u001b[0m\u001b[0m_name_scope\u001b[0m\u001b[0;34m(\u001b[0m\u001b[0;34m)\u001b[0m\u001b[0;34m)\u001b[0m\u001b[0;34m:\u001b[0m\u001b[0;34m\u001b[0m\u001b[0m\n\u001b[0;32m--> 887\u001b[0;31m           \u001b[0mself\u001b[0m\u001b[0;34m.\u001b[0m\u001b[0m_maybe_build\u001b[0m\u001b[0;34m(\u001b[0m\u001b[0minputs\u001b[0m\u001b[0;34m)\u001b[0m\u001b[0;34m\u001b[0m\u001b[0m\n\u001b[0m\u001b[1;32m    888\u001b[0m           \u001b[0mcast_inputs\u001b[0m \u001b[0;34m=\u001b[0m \u001b[0mself\u001b[0m\u001b[0;34m.\u001b[0m\u001b[0m_maybe_cast_inputs\u001b[0m\u001b[0;34m(\u001b[0m\u001b[0minputs\u001b[0m\u001b[0;34m)\u001b[0m\u001b[0;34m\u001b[0m\u001b[0m\n\u001b[1;32m    889\u001b[0m           with base_layer_utils.autocast_context_manager(\n",
      "\u001b[0;32m~/anaconda3/envs/dl/lib/python3.6/site-packages/tensorflow_core/python/keras/engine/base_layer.py\u001b[0m in \u001b[0;36m_maybe_build\u001b[0;34m(self, inputs)\u001b[0m\n\u001b[1;32m   2120\u001b[0m     \u001b[0;32mif\u001b[0m \u001b[0;32mnot\u001b[0m \u001b[0mself\u001b[0m\u001b[0;34m.\u001b[0m\u001b[0mbuilt\u001b[0m\u001b[0;34m:\u001b[0m\u001b[0;34m\u001b[0m\u001b[0m\n\u001b[1;32m   2121\u001b[0m       input_spec.assert_input_compatibility(\n\u001b[0;32m-> 2122\u001b[0;31m           self.input_spec, inputs, self.name)\n\u001b[0m\u001b[1;32m   2123\u001b[0m       \u001b[0minput_list\u001b[0m \u001b[0;34m=\u001b[0m \u001b[0mnest\u001b[0m\u001b[0;34m.\u001b[0m\u001b[0mflatten\u001b[0m\u001b[0;34m(\u001b[0m\u001b[0minputs\u001b[0m\u001b[0;34m)\u001b[0m\u001b[0;34m\u001b[0m\u001b[0m\n\u001b[1;32m   2124\u001b[0m       \u001b[0;32mif\u001b[0m \u001b[0minput_list\u001b[0m \u001b[0;32mand\u001b[0m \u001b[0mself\u001b[0m\u001b[0;34m.\u001b[0m\u001b[0m_dtype_policy\u001b[0m\u001b[0;34m.\u001b[0m\u001b[0mcompute_dtype\u001b[0m \u001b[0;32mis\u001b[0m \u001b[0;32mNone\u001b[0m\u001b[0;34m:\u001b[0m\u001b[0;34m\u001b[0m\u001b[0m\n",
      "\u001b[0;32m~/anaconda3/envs/dl/lib/python3.6/site-packages/tensorflow_core/python/keras/engine/input_spec.py\u001b[0m in \u001b[0;36massert_input_compatibility\u001b[0;34m(input_spec, inputs, layer_name)\u001b[0m\n\u001b[1;32m    191\u001b[0m                          \u001b[0;34m', found ndim='\u001b[0m \u001b[0;34m+\u001b[0m \u001b[0mstr\u001b[0m\u001b[0;34m(\u001b[0m\u001b[0mndim\u001b[0m\u001b[0;34m)\u001b[0m \u001b[0;34m+\u001b[0m\u001b[0;34m\u001b[0m\u001b[0m\n\u001b[1;32m    192\u001b[0m                          \u001b[0;34m'. Full shape received: '\u001b[0m \u001b[0;34m+\u001b[0m\u001b[0;34m\u001b[0m\u001b[0m\n\u001b[0;32m--> 193\u001b[0;31m                          str(x.shape.as_list()))\n\u001b[0m\u001b[1;32m    194\u001b[0m     \u001b[0;31m# Check dtype.\u001b[0m\u001b[0;34m\u001b[0m\u001b[0;34m\u001b[0m\u001b[0m\n\u001b[1;32m    195\u001b[0m     \u001b[0;32mif\u001b[0m \u001b[0mspec\u001b[0m\u001b[0;34m.\u001b[0m\u001b[0mdtype\u001b[0m \u001b[0;32mis\u001b[0m \u001b[0;32mnot\u001b[0m \u001b[0;32mNone\u001b[0m\u001b[0;34m:\u001b[0m\u001b[0;34m\u001b[0m\u001b[0m\n",
      "\u001b[0;31mValueError\u001b[0m: Input 0 of layer dense is incompatible with the layer: : expected min_ndim=2, found ndim=1. Full shape received: [360]"
     ]
    }
   ],
   "source": [
    "train_eval()"
   ]
  },
  {
   "cell_type": "markdown",
   "metadata": {},
   "source": [
    "# environment.py"
   ]
  },
  {
   "cell_type": "code",
   "execution_count": 135,
   "metadata": {
    "ExecuteTime": {
     "end_time": "2019-11-02T14:49:37.856972Z",
     "start_time": "2019-11-02T14:49:37.853603Z"
    }
   },
   "outputs": [],
   "source": [
    "import numpy as np\n",
    "import pandas as pd"
   ]
  },
  {
   "cell_type": "code",
   "execution_count": 136,
   "metadata": {
    "ExecuteTime": {
     "end_time": "2019-11-02T14:49:38.844177Z",
     "start_time": "2019-11-02T14:49:38.828123Z"
    }
   },
   "outputs": [],
   "source": [
    "class ForexEnv(object):\n",
    "    '''\n",
    "    Observation:\n",
    "        self.timestamp\n",
    "        self.state =   3 (the day of the week, hour, minute) +\n",
    "                       3 (the previous position; {-1, 0, 1}) + \n",
    "                      20 (the 10-minute bid and ask prices of the target currency) +\n",
    "                      80 (the 10-minute mid prices of the rest of 8 currency pairs)\n",
    "                   = 106 (total)\n",
    "        self.price_record: bid and ask prices of the target currency\n",
    "        \n",
    "    Actions:\n",
    "        -1: short 100%\n",
    "         0: take a neutral position (no action) and 0 reward. \n",
    "        +1: long 100%\n",
    "        \n",
    "    Starting State:\n",
    "        random start within training set.\n",
    "        i.e., we pick an arbitrary number and take it as index to start with.                 \n",
    "    '''\n",
    "    \n",
    "    def __init__(self, cur='audusd', lag=10, min_history=1440, mode='train'):\n",
    "        self.ccy = cur\n",
    "        self.lag = lag\n",
    "        self.min_history = min_history\n",
    "        self.index = None\n",
    "        self.state = None\n",
    "        self.price_record = None\n",
    "        self.X_train = X_train\n",
    "        self.X_val = X.val\n",
    "        self.trainframe = self.X_train.index.values.tolist()\n",
    "        self.valframe = self.X_val.index.values.tolist()\n",
    "        self.train = self.trainframe[:-self.min_history]\n",
    "        self.val = self.valframe[:-self.min_history]\n",
    "        self.mode = mode"
   ]
  },
  {
   "cell_type": "code",
   "execution_count": null,
   "metadata": {},
   "outputs": [],
   "source": []
  },
  {
   "cell_type": "code",
   "execution_count": null,
   "metadata": {},
   "outputs": [],
   "source": []
  },
  {
   "cell_type": "code",
   "execution_count": null,
   "metadata": {},
   "outputs": [],
   "source": []
  },
  {
   "cell_type": "markdown",
   "metadata": {},
   "source": [
    "# experiment.py"
   ]
  },
  {
   "cell_type": "code",
   "execution_count": 46,
   "metadata": {
    "ExecuteTime": {
     "end_time": "2019-11-01T16:37:09.947822Z",
     "start_time": "2019-11-01T16:37:09.945203Z"
    }
   },
   "outputs": [],
   "source": [
    "import numpy as np\n",
    "\n",
    "import time"
   ]
  },
  {
   "cell_type": "code",
   "execution_count": 47,
   "metadata": {
    "ExecuteTime": {
     "end_time": "2019-11-01T16:37:10.365380Z",
     "start_time": "2019-11-01T16:37:10.360022Z"
    }
   },
   "outputs": [],
   "source": [
    "cur ='eurusd'\n",
    "reward_path = './results/rewards/' + cur + time.strftime(\"%Y%m%d-%H%M%S\") + '/'\n",
    "agent_path = './results/agents/' + cur + time.strftime(\"%Y%m%d-%H%M%S\") + '/'\n",
    "\n",
    "if not os.path.exists(reward_path):\n",
    "    os.makedirs(reward_path)\n",
    "if not os.path.exists(agent_path):\n",
    "    os.makedirs(agent_path)\n"
   ]
  },
  {
   "cell_type": "code",
   "execution_count": null,
   "metadata": {},
   "outputs": [],
   "source": []
  },
  {
   "cell_type": "code",
   "execution_count": null,
   "metadata": {},
   "outputs": [],
   "source": []
  },
  {
   "cell_type": "code",
   "execution_count": 131,
   "metadata": {
    "ExecuteTime": {
     "end_time": "2019-11-04T03:28:54.331637Z",
     "start_time": "2019-11-04T03:28:54.312860Z"
    }
   },
   "outputs": [
    {
     "data": {
      "text/html": [
       "<div>\n",
       "<style scoped>\n",
       "    .dataframe tbody tr th:only-of-type {\n",
       "        vertical-align: middle;\n",
       "    }\n",
       "\n",
       "    .dataframe tbody tr th {\n",
       "        vertical-align: top;\n",
       "    }\n",
       "\n",
       "    .dataframe thead th {\n",
       "        text-align: right;\n",
       "    }\n",
       "</style>\n",
       "<table border=\"1\" class=\"dataframe\">\n",
       "  <thead>\n",
       "    <tr style=\"text-align: right;\">\n",
       "      <th></th>\n",
       "      <th>timestamp</th>\n",
       "      <th>ccy</th>\n",
       "      <th>bid_price</th>\n",
       "      <th>ask_price</th>\n",
       "      <th>bid_ret</th>\n",
       "      <th>ask_ret</th>\n",
       "      <th>mid_price</th>\n",
       "    </tr>\n",
       "  </thead>\n",
       "  <tbody>\n",
       "    <tr>\n",
       "      <th>10</th>\n",
       "      <td>2019-05-01 00:12:00</td>\n",
       "      <td>audusd</td>\n",
       "      <td>0.70519</td>\n",
       "      <td>0.70520</td>\n",
       "      <td>0.000014</td>\n",
       "      <td>-0.000028</td>\n",
       "      <td>0.00001</td>\n",
       "    </tr>\n",
       "    <tr>\n",
       "      <th>11</th>\n",
       "      <td>2019-05-01 00:13:00</td>\n",
       "      <td>audusd</td>\n",
       "      <td>0.70518</td>\n",
       "      <td>0.70520</td>\n",
       "      <td>-0.000014</td>\n",
       "      <td>0.000000</td>\n",
       "      <td>0.00002</td>\n",
       "    </tr>\n",
       "    <tr>\n",
       "      <th>12</th>\n",
       "      <td>2019-05-01 00:14:00</td>\n",
       "      <td>audusd</td>\n",
       "      <td>0.70518</td>\n",
       "      <td>0.70519</td>\n",
       "      <td>0.000000</td>\n",
       "      <td>-0.000014</td>\n",
       "      <td>0.00001</td>\n",
       "    </tr>\n",
       "    <tr>\n",
       "      <th>13</th>\n",
       "      <td>2019-05-01 00:15:00</td>\n",
       "      <td>audusd</td>\n",
       "      <td>0.70519</td>\n",
       "      <td>0.70519</td>\n",
       "      <td>0.000014</td>\n",
       "      <td>0.000000</td>\n",
       "      <td>0.00000</td>\n",
       "    </tr>\n",
       "    <tr>\n",
       "      <th>14</th>\n",
       "      <td>2019-05-01 00:16:00</td>\n",
       "      <td>audusd</td>\n",
       "      <td>0.70520</td>\n",
       "      <td>0.70521</td>\n",
       "      <td>0.000014</td>\n",
       "      <td>0.000028</td>\n",
       "      <td>0.00001</td>\n",
       "    </tr>\n",
       "  </tbody>\n",
       "</table>\n",
       "</div>"
      ],
      "text/plain": [
       "             timestamp     ccy  bid_price  ask_price   bid_ret   ask_ret  \\\n",
       "10 2019-05-01 00:12:00  audusd    0.70519    0.70520  0.000014 -0.000028   \n",
       "11 2019-05-01 00:13:00  audusd    0.70518    0.70520 -0.000014  0.000000   \n",
       "12 2019-05-01 00:14:00  audusd    0.70518    0.70519  0.000000 -0.000014   \n",
       "13 2019-05-01 00:15:00  audusd    0.70519    0.70519  0.000014  0.000000   \n",
       "14 2019-05-01 00:16:00  audusd    0.70520    0.70521  0.000014  0.000028   \n",
       "\n",
       "    mid_price  \n",
       "10    0.00001  \n",
       "11    0.00002  \n",
       "12    0.00001  \n",
       "13    0.00000  \n",
       "14    0.00001  "
      ]
     },
     "execution_count": 131,
     "metadata": {},
     "output_type": "execute_result"
    }
   ],
   "source": [
    "X_train.iloc[10:15]"
   ]
  },
  {
   "cell_type": "code",
   "execution_count": 175,
   "metadata": {
    "ExecuteTime": {
     "end_time": "2019-11-05T17:12:30.753278Z",
     "start_time": "2019-11-05T17:12:30.692413Z"
    }
   },
   "outputs": [],
   "source": [
    "from features import draw_episode"
   ]
  },
  {
   "cell_type": "code",
   "execution_count": 177,
   "metadata": {
    "ExecuteTime": {
     "end_time": "2019-11-05T17:12:49.149799Z",
     "start_time": "2019-11-05T17:12:49.142947Z"
    }
   },
   "outputs": [
    {
     "data": {
      "text/plain": [
       "(168462, 7)"
      ]
     },
     "execution_count": 177,
     "metadata": {},
     "output_type": "execute_result"
    }
   ],
   "source": [
    "X_train.shape"
   ]
  },
  {
   "cell_type": "code",
   "execution_count": null,
   "metadata": {},
   "outputs": [],
   "source": [
    "draw_episode(X=self.X, cur=self.config['target_currency'],\n",
    "            n=self.epi_idx, split_sz=self.config['split_sz'],\n",
    "            lag=self.config['lag'], ts=self.ts, ccy=self.ccy)"
   ]
  },
  {
   "cell_type": "code",
   "execution_count": null,
   "metadata": {},
   "outputs": [],
   "source": []
  },
  {
   "cell_type": "code",
   "execution_count": null,
   "metadata": {},
   "outputs": [],
   "source": []
  },
  {
   "cell_type": "code",
   "execution_count": null,
   "metadata": {},
   "outputs": [],
   "source": []
  },
  {
   "cell_type": "code",
   "execution_count": 115,
   "metadata": {
    "ExecuteTime": {
     "end_time": "2019-11-04T03:22:18.581449Z",
     "start_time": "2019-11-04T03:22:18.544121Z"
    }
   },
   "outputs": [],
   "source": [
    "target_bid, target_ask, features = draw_episode(\n",
    "    X, cur='audusd', n=2, ep_size=5, lag=2)"
   ]
  },
  {
   "cell_type": "code",
   "execution_count": 116,
   "metadata": {
    "ExecuteTime": {
     "end_time": "2019-11-04T03:22:18.929509Z",
     "start_time": "2019-11-04T03:22:18.925607Z"
    }
   },
   "outputs": [
    {
     "data": {
      "text/plain": [
       "array([0.70519, 0.70518, 0.70518, 0.70519, 0.7052 ])"
      ]
     },
     "execution_count": 116,
     "metadata": {},
     "output_type": "execute_result"
    }
   ],
   "source": [
    "target_bid"
   ]
  },
  {
   "cell_type": "code",
   "execution_count": 117,
   "metadata": {
    "ExecuteTime": {
     "end_time": "2019-11-04T03:22:20.540153Z",
     "start_time": "2019-11-04T03:22:20.535805Z"
    }
   },
   "outputs": [
    {
     "data": {
      "text/plain": [
       "(5,)"
      ]
     },
     "execution_count": 117,
     "metadata": {},
     "output_type": "execute_result"
    }
   ],
   "source": [
    "target_bid.shape"
   ]
  },
  {
   "cell_type": "code",
   "execution_count": 118,
   "metadata": {
    "ExecuteTime": {
     "end_time": "2019-11-04T03:22:21.143174Z",
     "start_time": "2019-11-04T03:22:21.138929Z"
    }
   },
   "outputs": [
    {
     "data": {
      "text/plain": [
       "array([0.7052 , 0.7052 , 0.70519, 0.70519, 0.70521])"
      ]
     },
     "execution_count": 118,
     "metadata": {},
     "output_type": "execute_result"
    }
   ],
   "source": [
    "target_ask"
   ]
  },
  {
   "cell_type": "code",
   "execution_count": 119,
   "metadata": {
    "ExecuteTime": {
     "end_time": "2019-11-04T03:22:23.392752Z",
     "start_time": "2019-11-04T03:22:23.388864Z"
    }
   },
   "outputs": [
    {
     "data": {
      "text/plain": [
       "(5,)"
      ]
     },
     "execution_count": 119,
     "metadata": {},
     "output_type": "execute_result"
    }
   ],
   "source": [
    "target_ask.shape"
   ]
  },
  {
   "cell_type": "code",
   "execution_count": 129,
   "metadata": {
    "ExecuteTime": {
     "end_time": "2019-11-04T03:27:54.606113Z",
     "start_time": "2019-11-04T03:27:54.600274Z"
    }
   },
   "outputs": [
    {
     "data": {
      "text/plain": [
       "array([ 0.1184248 , -0.58560619, -0.5855962 , -0.5855962 ,  1.00355167,\n",
       "        1.44612103,  0.87973326,  1.6410534 ,  0.86520712,  0.86520712,\n",
       "       -0.62372478,  3.08713404,  1.57963245,  2.55379478, -2.10809715,\n",
       "       -1.21750035, -0.28469299, -0.28469299,  0.1184248 ,  0.5893887 ,\n",
       "        0.56097837,  0.1184248 , -0.64285448,  0.1184248 ,  0.86517342,\n",
       "        1.61193328, -0.25264583,  0.1184248 ,  0.60548446,  1.0925489 ,\n",
       "       -0.32686362, -0.32686362, -1.14849256, -0.745386  , -0.71883333,\n",
       "       -0.71883333])"
      ]
     },
     "execution_count": 129,
     "metadata": {},
     "output_type": "execute_result"
    }
   ],
   "source": [
    "features[0]"
   ]
  },
  {
   "cell_type": "code",
   "execution_count": 121,
   "metadata": {
    "ExecuteTime": {
     "end_time": "2019-11-04T03:22:24.143031Z",
     "start_time": "2019-11-04T03:22:24.139404Z"
    }
   },
   "outputs": [
    {
     "data": {
      "text/plain": [
       "(3, 36)"
      ]
     },
     "execution_count": 121,
     "metadata": {},
     "output_type": "execute_result"
    }
   ],
   "source": [
    "features.shape"
   ]
  },
  {
   "cell_type": "code",
   "execution_count": 122,
   "metadata": {
    "ExecuteTime": {
     "end_time": "2019-11-04T03:22:24.698343Z",
     "start_time": "2019-11-04T03:22:24.692720Z"
    }
   },
   "outputs": [
    {
     "data": {
      "text/plain": [
       "array([ 0.1184248 , -0.58560619, -0.5855962 , -0.5855962 ,  1.00355167,\n",
       "        1.44612103,  0.87973326,  1.6410534 ,  0.86520712,  0.86520712,\n",
       "       -0.62372478,  3.08713404,  1.57963245,  2.55379478, -2.10809715,\n",
       "       -1.21750035, -0.28469299, -0.28469299,  0.1184248 ,  0.5893887 ,\n",
       "        0.56097837,  0.1184248 , -0.64285448,  0.1184248 ,  0.86517342,\n",
       "        1.61193328, -0.25264583,  0.1184248 ,  0.60548446,  1.0925489 ,\n",
       "       -0.32686362, -0.32686362, -1.14849256, -0.745386  , -0.71883333,\n",
       "       -0.71883333])"
      ]
     },
     "execution_count": 122,
     "metadata": {},
     "output_type": "execute_result"
    }
   ],
   "source": [
    "features[0]"
   ]
  },
  {
   "cell_type": "code",
   "execution_count": 123,
   "metadata": {
    "ExecuteTime": {
     "end_time": "2019-11-04T03:22:25.408060Z",
     "start_time": "2019-11-04T03:22:25.398066Z"
    }
   },
   "outputs": [
    {
     "data": {
      "text/plain": [
       "(36,)"
      ]
     },
     "execution_count": 123,
     "metadata": {},
     "output_type": "execute_result"
    }
   ],
   "source": [
    "features[0].shape"
   ]
  },
  {
   "cell_type": "code",
   "execution_count": 124,
   "metadata": {
    "ExecuteTime": {
     "end_time": "2019-11-04T03:22:28.036723Z",
     "start_time": "2019-11-04T03:22:28.033029Z"
    }
   },
   "outputs": [
    {
     "data": {
      "text/plain": [
       "3"
      ]
     },
     "execution_count": 124,
     "metadata": {},
     "output_type": "execute_result"
    }
   ],
   "source": [
    "len(features)"
   ]
  },
  {
   "cell_type": "code",
   "execution_count": 102,
   "metadata": {
    "ExecuteTime": {
     "end_time": "2019-11-04T03:19:08.740104Z",
     "start_time": "2019-11-04T03:19:08.734511Z"
    }
   },
   "outputs": [
    {
     "data": {
      "text/plain": [
       "array([-1.28822975e-231,  2.00389893e+000,  2.78113689e-314,\n",
       "        2.78114481e-314,  2.78114482e-314,  2.12199580e-314,\n",
       "        0.00000000e+000,  3.95252517e-323,  2.12199579e-314,\n",
       "        2.76946182e-314,  2.76946163e-314,  2.76946188e-314,\n",
       "        2.77594478e-314,  2.79264360e-314,  2.79264366e-314,\n",
       "        2.79264373e-314,  2.79264379e-314,  2.79264385e-314,\n",
       "        2.79264392e-314,  2.79264398e-314,  2.79264404e-314,\n",
       "        2.21885319e-314, -1.28822975e-231,  2.00389893e+000,\n",
       "        2.34573531e-314,  2.21885273e-314,  2.34575557e-314,\n",
       "        2.21885273e-314,  2.34573147e-314,  2.21885273e-314,\n",
       "        2.33376200e-314,  2.21885319e-314,  2.34574979e-314,\n",
       "        2.21885273e-314,  1.29074111e-231, -1.28822975e-231,\n",
       "        5.92878775e-323,  0.00000000e+000,  0.00000000e+000,\n",
       "        0.00000000e+000,  0.00000000e+000,  0.00000000e+000,\n",
       "        0.00000000e+000,  0.00000000e+000,  0.00000000e+000,\n",
       "        0.00000000e+000,  2.12199579e-314,  2.12199579e-314,\n",
       "        0.00000000e+000,  0.00000000e+000,  2.75557184e-314,\n",
       "        0.00000000e+000,  0.00000000e+000,  0.00000000e+000,\n",
       "        2.75557184e-314,  2.75557184e-314,  0.00000000e+000,\n",
       "        1.72443224e-307,  0.00000000e+000,  0.00000000e+000,\n",
       "        0.00000000e+000,  4.94065646e-324,  2.79263831e-314,\n",
       "        2.12199579e-314,  4.94065646e-324,  0.00000000e+000,\n",
       "        0.00000000e+000,  0.00000000e+000,  0.00000000e+000,\n",
       "        0.00000000e+000,  0.00000000e+000,  0.00000000e+000,\n",
       "        0.00000000e+000,  0.00000000e+000,  0.00000000e+000,\n",
       "        0.00000000e+000,  0.00000000e+000,  0.00000000e+000,\n",
       "        0.00000000e+000,  0.00000000e+000,  0.00000000e+000,\n",
       "        0.00000000e+000,  0.00000000e+000,  0.00000000e+000,\n",
       "        0.00000000e+000,  0.00000000e+000,  3.50977866e+064,\n",
       "        0.00000000e+000,  0.00000000e+000,  0.00000000e+000])"
      ]
     },
     "execution_count": 102,
     "metadata": {},
     "output_type": "execute_result"
    }
   ],
   "source": [
    "np.empty(len(features))"
   ]
  },
  {
   "cell_type": "code",
   "execution_count": 103,
   "metadata": {
    "ExecuteTime": {
     "end_time": "2019-11-04T03:19:09.085342Z",
     "start_time": "2019-11-04T03:19:09.081516Z"
    }
   },
   "outputs": [
    {
     "data": {
      "text/plain": [
       "180"
      ]
     },
     "execution_count": 103,
     "metadata": {},
     "output_type": "execute_result"
    }
   ],
   "source": [
    "features.shape[1]"
   ]
  },
  {
   "cell_type": "code",
   "execution_count": 104,
   "metadata": {
    "ExecuteTime": {
     "end_time": "2019-11-04T03:19:09.349304Z",
     "start_time": "2019-11-04T03:19:09.285791Z"
    }
   },
   "outputs": [
    {
     "data": {
      "text/html": [
       "<div>\n",
       "<style scoped>\n",
       "    .dataframe tbody tr th:only-of-type {\n",
       "        vertical-align: middle;\n",
       "    }\n",
       "\n",
       "    .dataframe tbody tr th {\n",
       "        vertical-align: top;\n",
       "    }\n",
       "\n",
       "    .dataframe thead th {\n",
       "        text-align: right;\n",
       "    }\n",
       "</style>\n",
       "<table border=\"1\" class=\"dataframe\">\n",
       "  <thead>\n",
       "    <tr style=\"text-align: right;\">\n",
       "      <th></th>\n",
       "      <th>datetime</th>\n",
       "      <th>high</th>\n",
       "      <th>low</th>\n",
       "    </tr>\n",
       "  </thead>\n",
       "  <tbody>\n",
       "    <tr>\n",
       "      <th>0</th>\n",
       "      <td>20190501 000100</td>\n",
       "      <td>1.12188</td>\n",
       "      <td>1.12182</td>\n",
       "    </tr>\n",
       "    <tr>\n",
       "      <th>1</th>\n",
       "      <td>20190501 000200</td>\n",
       "      <td>1.12184</td>\n",
       "      <td>1.12182</td>\n",
       "    </tr>\n",
       "    <tr>\n",
       "      <th>2</th>\n",
       "      <td>20190501 000300</td>\n",
       "      <td>1.12183</td>\n",
       "      <td>1.12182</td>\n",
       "    </tr>\n",
       "    <tr>\n",
       "      <th>3</th>\n",
       "      <td>20190501 000400</td>\n",
       "      <td>1.12183</td>\n",
       "      <td>1.12182</td>\n",
       "    </tr>\n",
       "    <tr>\n",
       "      <th>4</th>\n",
       "      <td>20190501 000500</td>\n",
       "      <td>1.12183</td>\n",
       "      <td>1.12179</td>\n",
       "    </tr>\n",
       "    <tr>\n",
       "      <th>5</th>\n",
       "      <td>20190501 000600</td>\n",
       "      <td>1.12181</td>\n",
       "      <td>1.12180</td>\n",
       "    </tr>\n",
       "    <tr>\n",
       "      <th>6</th>\n",
       "      <td>20190501 000700</td>\n",
       "      <td>1.12180</td>\n",
       "      <td>1.12179</td>\n",
       "    </tr>\n",
       "    <tr>\n",
       "      <th>7</th>\n",
       "      <td>20190501 000800</td>\n",
       "      <td>1.12180</td>\n",
       "      <td>1.12179</td>\n",
       "    </tr>\n",
       "    <tr>\n",
       "      <th>8</th>\n",
       "      <td>20190501 000900</td>\n",
       "      <td>1.12180</td>\n",
       "      <td>1.12180</td>\n",
       "    </tr>\n",
       "    <tr>\n",
       "      <th>9</th>\n",
       "      <td>20190501 001000</td>\n",
       "      <td>1.12184</td>\n",
       "      <td>1.12182</td>\n",
       "    </tr>\n",
       "    <tr>\n",
       "      <th>10</th>\n",
       "      <td>20190501 001100</td>\n",
       "      <td>1.12184</td>\n",
       "      <td>1.12183</td>\n",
       "    </tr>\n",
       "    <tr>\n",
       "      <th>11</th>\n",
       "      <td>20190501 001200</td>\n",
       "      <td>1.12184</td>\n",
       "      <td>1.12179</td>\n",
       "    </tr>\n",
       "    <tr>\n",
       "      <th>12</th>\n",
       "      <td>20190501 001300</td>\n",
       "      <td>1.12183</td>\n",
       "      <td>1.12180</td>\n",
       "    </tr>\n",
       "    <tr>\n",
       "      <th>13</th>\n",
       "      <td>20190501 001400</td>\n",
       "      <td>1.12184</td>\n",
       "      <td>1.12182</td>\n",
       "    </tr>\n",
       "    <tr>\n",
       "      <th>14</th>\n",
       "      <td>20190501 001500</td>\n",
       "      <td>1.12183</td>\n",
       "      <td>1.12182</td>\n",
       "    </tr>\n",
       "    <tr>\n",
       "      <th>15</th>\n",
       "      <td>20190501 001600</td>\n",
       "      <td>1.12183</td>\n",
       "      <td>1.12182</td>\n",
       "    </tr>\n",
       "    <tr>\n",
       "      <th>16</th>\n",
       "      <td>20190501 001700</td>\n",
       "      <td>1.12184</td>\n",
       "      <td>1.12181</td>\n",
       "    </tr>\n",
       "    <tr>\n",
       "      <th>17</th>\n",
       "      <td>20190501 001800</td>\n",
       "      <td>1.12184</td>\n",
       "      <td>1.12182</td>\n",
       "    </tr>\n",
       "    <tr>\n",
       "      <th>18</th>\n",
       "      <td>20190501 001900</td>\n",
       "      <td>1.12183</td>\n",
       "      <td>1.12182</td>\n",
       "    </tr>\n",
       "    <tr>\n",
       "      <th>19</th>\n",
       "      <td>20190501 002000</td>\n",
       "      <td>1.12183</td>\n",
       "      <td>1.12182</td>\n",
       "    </tr>\n",
       "    <tr>\n",
       "      <th>20</th>\n",
       "      <td>20190501 002100</td>\n",
       "      <td>1.12183</td>\n",
       "      <td>1.12182</td>\n",
       "    </tr>\n",
       "    <tr>\n",
       "      <th>21</th>\n",
       "      <td>20190501 002200</td>\n",
       "      <td>1.12183</td>\n",
       "      <td>1.12182</td>\n",
       "    </tr>\n",
       "    <tr>\n",
       "      <th>22</th>\n",
       "      <td>20190501 002300</td>\n",
       "      <td>1.12183</td>\n",
       "      <td>1.12182</td>\n",
       "    </tr>\n",
       "    <tr>\n",
       "      <th>23</th>\n",
       "      <td>20190501 002400</td>\n",
       "      <td>1.12183</td>\n",
       "      <td>1.12181</td>\n",
       "    </tr>\n",
       "    <tr>\n",
       "      <th>24</th>\n",
       "      <td>20190501 002500</td>\n",
       "      <td>1.12184</td>\n",
       "      <td>1.12182</td>\n",
       "    </tr>\n",
       "    <tr>\n",
       "      <th>25</th>\n",
       "      <td>20190501 002600</td>\n",
       "      <td>1.12188</td>\n",
       "      <td>1.12180</td>\n",
       "    </tr>\n",
       "    <tr>\n",
       "      <th>26</th>\n",
       "      <td>20190501 002700</td>\n",
       "      <td>1.12182</td>\n",
       "      <td>1.12178</td>\n",
       "    </tr>\n",
       "    <tr>\n",
       "      <th>27</th>\n",
       "      <td>20190501 002800</td>\n",
       "      <td>1.12182</td>\n",
       "      <td>1.12181</td>\n",
       "    </tr>\n",
       "    <tr>\n",
       "      <th>28</th>\n",
       "      <td>20190501 002900</td>\n",
       "      <td>1.12181</td>\n",
       "      <td>1.12178</td>\n",
       "    </tr>\n",
       "    <tr>\n",
       "      <th>29</th>\n",
       "      <td>20190501 003000</td>\n",
       "      <td>1.12178</td>\n",
       "      <td>1.12177</td>\n",
       "    </tr>\n",
       "    <tr>\n",
       "      <th>...</th>\n",
       "      <td>...</td>\n",
       "      <td>...</td>\n",
       "      <td>...</td>\n",
       "    </tr>\n",
       "    <tr>\n",
       "      <th>31938</th>\n",
       "      <td>20190531 162900</td>\n",
       "      <td>1.11682</td>\n",
       "      <td>1.11668</td>\n",
       "    </tr>\n",
       "    <tr>\n",
       "      <th>31939</th>\n",
       "      <td>20190531 163000</td>\n",
       "      <td>1.11671</td>\n",
       "      <td>1.11667</td>\n",
       "    </tr>\n",
       "    <tr>\n",
       "      <th>31940</th>\n",
       "      <td>20190531 163100</td>\n",
       "      <td>1.11668</td>\n",
       "      <td>1.11665</td>\n",
       "    </tr>\n",
       "    <tr>\n",
       "      <th>31941</th>\n",
       "      <td>20190531 163200</td>\n",
       "      <td>1.11667</td>\n",
       "      <td>1.11666</td>\n",
       "    </tr>\n",
       "    <tr>\n",
       "      <th>31942</th>\n",
       "      <td>20190531 163300</td>\n",
       "      <td>1.11670</td>\n",
       "      <td>1.11666</td>\n",
       "    </tr>\n",
       "    <tr>\n",
       "      <th>31943</th>\n",
       "      <td>20190531 163400</td>\n",
       "      <td>1.11669</td>\n",
       "      <td>1.11667</td>\n",
       "    </tr>\n",
       "    <tr>\n",
       "      <th>31944</th>\n",
       "      <td>20190531 163500</td>\n",
       "      <td>1.11669</td>\n",
       "      <td>1.11667</td>\n",
       "    </tr>\n",
       "    <tr>\n",
       "      <th>31945</th>\n",
       "      <td>20190531 163600</td>\n",
       "      <td>1.11669</td>\n",
       "      <td>1.11667</td>\n",
       "    </tr>\n",
       "    <tr>\n",
       "      <th>31946</th>\n",
       "      <td>20190531 163700</td>\n",
       "      <td>1.11669</td>\n",
       "      <td>1.11668</td>\n",
       "    </tr>\n",
       "    <tr>\n",
       "      <th>31947</th>\n",
       "      <td>20190531 163800</td>\n",
       "      <td>1.11667</td>\n",
       "      <td>1.11663</td>\n",
       "    </tr>\n",
       "    <tr>\n",
       "      <th>31948</th>\n",
       "      <td>20190531 163900</td>\n",
       "      <td>1.11666</td>\n",
       "      <td>1.11662</td>\n",
       "    </tr>\n",
       "    <tr>\n",
       "      <th>31949</th>\n",
       "      <td>20190531 164000</td>\n",
       "      <td>1.11662</td>\n",
       "      <td>1.11658</td>\n",
       "    </tr>\n",
       "    <tr>\n",
       "      <th>31950</th>\n",
       "      <td>20190531 164100</td>\n",
       "      <td>1.11662</td>\n",
       "      <td>1.11658</td>\n",
       "    </tr>\n",
       "    <tr>\n",
       "      <th>31951</th>\n",
       "      <td>20190531 164200</td>\n",
       "      <td>1.11664</td>\n",
       "      <td>1.11660</td>\n",
       "    </tr>\n",
       "    <tr>\n",
       "      <th>31952</th>\n",
       "      <td>20190531 164300</td>\n",
       "      <td>1.11666</td>\n",
       "      <td>1.11661</td>\n",
       "    </tr>\n",
       "    <tr>\n",
       "      <th>31953</th>\n",
       "      <td>20190531 164400</td>\n",
       "      <td>1.11666</td>\n",
       "      <td>1.11657</td>\n",
       "    </tr>\n",
       "    <tr>\n",
       "      <th>31954</th>\n",
       "      <td>20190531 164500</td>\n",
       "      <td>1.11666</td>\n",
       "      <td>1.11660</td>\n",
       "    </tr>\n",
       "    <tr>\n",
       "      <th>31955</th>\n",
       "      <td>20190531 164600</td>\n",
       "      <td>1.11666</td>\n",
       "      <td>1.11656</td>\n",
       "    </tr>\n",
       "    <tr>\n",
       "      <th>31956</th>\n",
       "      <td>20190531 164700</td>\n",
       "      <td>1.11662</td>\n",
       "      <td>1.11657</td>\n",
       "    </tr>\n",
       "    <tr>\n",
       "      <th>31957</th>\n",
       "      <td>20190531 164800</td>\n",
       "      <td>1.11661</td>\n",
       "      <td>1.11660</td>\n",
       "    </tr>\n",
       "    <tr>\n",
       "      <th>31958</th>\n",
       "      <td>20190531 164900</td>\n",
       "      <td>1.11661</td>\n",
       "      <td>1.11660</td>\n",
       "    </tr>\n",
       "    <tr>\n",
       "      <th>31959</th>\n",
       "      <td>20190531 165000</td>\n",
       "      <td>1.11675</td>\n",
       "      <td>1.11656</td>\n",
       "    </tr>\n",
       "    <tr>\n",
       "      <th>31960</th>\n",
       "      <td>20190531 165100</td>\n",
       "      <td>1.11671</td>\n",
       "      <td>1.11665</td>\n",
       "    </tr>\n",
       "    <tr>\n",
       "      <th>31961</th>\n",
       "      <td>20190531 165200</td>\n",
       "      <td>1.11673</td>\n",
       "      <td>1.11666</td>\n",
       "    </tr>\n",
       "    <tr>\n",
       "      <th>31962</th>\n",
       "      <td>20190531 165300</td>\n",
       "      <td>1.11676</td>\n",
       "      <td>1.11669</td>\n",
       "    </tr>\n",
       "    <tr>\n",
       "      <th>31963</th>\n",
       "      <td>20190531 165400</td>\n",
       "      <td>1.11686</td>\n",
       "      <td>1.11676</td>\n",
       "    </tr>\n",
       "    <tr>\n",
       "      <th>31964</th>\n",
       "      <td>20190531 165500</td>\n",
       "      <td>1.11692</td>\n",
       "      <td>1.11678</td>\n",
       "    </tr>\n",
       "    <tr>\n",
       "      <th>31965</th>\n",
       "      <td>20190531 165600</td>\n",
       "      <td>1.11692</td>\n",
       "      <td>1.11685</td>\n",
       "    </tr>\n",
       "    <tr>\n",
       "      <th>31966</th>\n",
       "      <td>20190531 165700</td>\n",
       "      <td>1.11688</td>\n",
       "      <td>1.11679</td>\n",
       "    </tr>\n",
       "    <tr>\n",
       "      <th>31967</th>\n",
       "      <td>20190531 165800</td>\n",
       "      <td>1.11686</td>\n",
       "      <td>1.11675</td>\n",
       "    </tr>\n",
       "  </tbody>\n",
       "</table>\n",
       "<p>31968 rows × 3 columns</p>\n",
       "</div>"
      ],
      "text/plain": [
       "              datetime     high      low\n",
       "0      20190501 000100  1.12188  1.12182\n",
       "1      20190501 000200  1.12184  1.12182\n",
       "2      20190501 000300  1.12183  1.12182\n",
       "3      20190501 000400  1.12183  1.12182\n",
       "4      20190501 000500  1.12183  1.12179\n",
       "...                ...      ...      ...\n",
       "31963  20190531 165400  1.11686  1.11676\n",
       "31964  20190531 165500  1.11692  1.11678\n",
       "31965  20190531 165600  1.11692  1.11685\n",
       "31966  20190531 165700  1.11688  1.11679\n",
       "31967  20190531 165800  1.11686  1.11675\n",
       "\n",
       "[31968 rows x 3 columns]"
      ]
     },
     "execution_count": 104,
     "metadata": {},
     "output_type": "execute_result"
    }
   ],
   "source": [
    "df['eurusd']"
   ]
  },
  {
   "cell_type": "code",
   "execution_count": 84,
   "metadata": {
    "ExecuteTime": {
     "end_time": "2019-11-03T22:16:23.606301Z",
     "start_time": "2019-11-03T22:16:23.594579Z"
    }
   },
   "outputs": [
    {
     "data": {
      "text/plain": [
       "31616"
      ]
     },
     "execution_count": 84,
     "metadata": {},
     "output_type": "execute_result"
    }
   ],
   "source": [
    "np.min([df[key].shape[0] for key in df.keys()])"
   ]
  },
  {
   "cell_type": "code",
   "execution_count": 85,
   "metadata": {
    "ExecuteTime": {
     "end_time": "2019-11-03T22:32:06.836069Z",
     "start_time": "2019-11-03T22:32:06.832187Z"
    }
   },
   "outputs": [
    {
     "data": {
      "text/plain": [
       "(80, 360)"
      ]
     },
     "execution_count": 85,
     "metadata": {},
     "output_type": "execute_result"
    }
   ],
   "source": [
    "features.shape"
   ]
  },
  {
   "cell_type": "code",
   "execution_count": 133,
   "metadata": {
    "ExecuteTime": {
     "end_time": "2019-11-04T23:17:06.533391Z",
     "start_time": "2019-11-04T23:17:06.509070Z"
    }
   },
   "outputs": [
    {
     "data": {
      "text/plain": [
       "tensorflow.python.framework.type_spec.TypeSpec"
      ]
     },
     "execution_count": 133,
     "metadata": {},
     "output_type": "execute_result"
    }
   ],
   "source": [
    "import tensorflow as tf\n",
    "tf.TypeSpec"
   ]
  },
  {
   "cell_type": "code",
   "execution_count": 134,
   "metadata": {
    "ExecuteTime": {
     "end_time": "2019-11-04T23:25:36.321937Z",
     "start_time": "2019-11-04T23:25:36.306985Z"
    }
   },
   "outputs": [
    {
     "data": {
      "text/plain": [
       "'2.0.0'"
      ]
     },
     "execution_count": 134,
     "metadata": {},
     "output_type": "execute_result"
    }
   ],
   "source": [
    "tf.__version__"
   ]
  },
  {
   "cell_type": "code",
   "execution_count": 135,
   "metadata": {
    "ExecuteTime": {
     "end_time": "2019-11-05T05:33:50.110275Z",
     "start_time": "2019-11-05T05:33:49.928666Z"
    }
   },
   "outputs": [
    {
     "data": {
      "text/html": [
       "<div>\n",
       "<style scoped>\n",
       "    .dataframe tbody tr th:only-of-type {\n",
       "        vertical-align: middle;\n",
       "    }\n",
       "\n",
       "    .dataframe tbody tr th {\n",
       "        vertical-align: top;\n",
       "    }\n",
       "\n",
       "    .dataframe thead th {\n",
       "        text-align: right;\n",
       "    }\n",
       "</style>\n",
       "<table border=\"1\" class=\"dataframe\">\n",
       "  <thead>\n",
       "    <tr style=\"text-align: right;\">\n",
       "      <th></th>\n",
       "      <th>timestamp</th>\n",
       "      <th>ccy</th>\n",
       "      <th>bid_price</th>\n",
       "      <th>ask_price</th>\n",
       "      <th>bid_ret</th>\n",
       "      <th>ask_ret</th>\n",
       "      <th>mid_price</th>\n",
       "    </tr>\n",
       "  </thead>\n",
       "  <tbody>\n",
       "    <tr>\n",
       "      <th>0</th>\n",
       "      <td>2019-05-01 00:02:00</td>\n",
       "      <td>audusd</td>\n",
       "      <td>0.70514</td>\n",
       "      <td>0.70517</td>\n",
       "      <td>0.000000</td>\n",
       "      <td>0.000000</td>\n",
       "      <td>0.00003</td>\n",
       "    </tr>\n",
       "    <tr>\n",
       "      <th>1</th>\n",
       "      <td>2019-05-01 00:03:00</td>\n",
       "      <td>audusd</td>\n",
       "      <td>0.70517</td>\n",
       "      <td>0.70517</td>\n",
       "      <td>0.000043</td>\n",
       "      <td>0.000000</td>\n",
       "      <td>0.00000</td>\n",
       "    </tr>\n",
       "    <tr>\n",
       "      <th>2</th>\n",
       "      <td>2019-05-01 00:04:00</td>\n",
       "      <td>audusd</td>\n",
       "      <td>0.70517</td>\n",
       "      <td>0.70518</td>\n",
       "      <td>0.000000</td>\n",
       "      <td>0.000014</td>\n",
       "      <td>0.00001</td>\n",
       "    </tr>\n",
       "    <tr>\n",
       "      <th>3</th>\n",
       "      <td>2019-05-01 00:05:00</td>\n",
       "      <td>audusd</td>\n",
       "      <td>0.70517</td>\n",
       "      <td>0.70518</td>\n",
       "      <td>0.000000</td>\n",
       "      <td>0.000000</td>\n",
       "      <td>0.00001</td>\n",
       "    </tr>\n",
       "    <tr>\n",
       "      <th>4</th>\n",
       "      <td>2019-05-01 00:06:00</td>\n",
       "      <td>audusd</td>\n",
       "      <td>0.70517</td>\n",
       "      <td>0.70518</td>\n",
       "      <td>0.000000</td>\n",
       "      <td>0.000000</td>\n",
       "      <td>0.00001</td>\n",
       "    </tr>\n",
       "    <tr>\n",
       "      <th>5</th>\n",
       "      <td>2019-05-01 00:07:00</td>\n",
       "      <td>audusd</td>\n",
       "      <td>0.70517</td>\n",
       "      <td>0.70518</td>\n",
       "      <td>0.000000</td>\n",
       "      <td>0.000000</td>\n",
       "      <td>0.00001</td>\n",
       "    </tr>\n",
       "    <tr>\n",
       "      <th>6</th>\n",
       "      <td>2019-05-01 00:08:00</td>\n",
       "      <td>audusd</td>\n",
       "      <td>0.70517</td>\n",
       "      <td>0.70518</td>\n",
       "      <td>0.000000</td>\n",
       "      <td>0.000000</td>\n",
       "      <td>0.00001</td>\n",
       "    </tr>\n",
       "    <tr>\n",
       "      <th>7</th>\n",
       "      <td>2019-05-01 00:09:00</td>\n",
       "      <td>audusd</td>\n",
       "      <td>0.70517</td>\n",
       "      <td>0.70518</td>\n",
       "      <td>0.000000</td>\n",
       "      <td>0.000000</td>\n",
       "      <td>0.00001</td>\n",
       "    </tr>\n",
       "    <tr>\n",
       "      <th>8</th>\n",
       "      <td>2019-05-01 00:10:00</td>\n",
       "      <td>audusd</td>\n",
       "      <td>0.70517</td>\n",
       "      <td>0.70518</td>\n",
       "      <td>0.000000</td>\n",
       "      <td>0.000000</td>\n",
       "      <td>0.00001</td>\n",
       "    </tr>\n",
       "    <tr>\n",
       "      <th>9</th>\n",
       "      <td>2019-05-01 00:11:00</td>\n",
       "      <td>audusd</td>\n",
       "      <td>0.70518</td>\n",
       "      <td>0.70522</td>\n",
       "      <td>0.000014</td>\n",
       "      <td>0.000057</td>\n",
       "      <td>0.00004</td>\n",
       "    </tr>\n",
       "    <tr>\n",
       "      <th>10</th>\n",
       "      <td>2019-05-01 00:12:00</td>\n",
       "      <td>audusd</td>\n",
       "      <td>0.70519</td>\n",
       "      <td>0.70520</td>\n",
       "      <td>0.000014</td>\n",
       "      <td>-0.000028</td>\n",
       "      <td>0.00001</td>\n",
       "    </tr>\n",
       "    <tr>\n",
       "      <th>11</th>\n",
       "      <td>2019-05-01 00:13:00</td>\n",
       "      <td>audusd</td>\n",
       "      <td>0.70518</td>\n",
       "      <td>0.70520</td>\n",
       "      <td>-0.000014</td>\n",
       "      <td>0.000000</td>\n",
       "      <td>0.00002</td>\n",
       "    </tr>\n",
       "    <tr>\n",
       "      <th>12</th>\n",
       "      <td>2019-05-01 00:14:00</td>\n",
       "      <td>audusd</td>\n",
       "      <td>0.70518</td>\n",
       "      <td>0.70519</td>\n",
       "      <td>0.000000</td>\n",
       "      <td>-0.000014</td>\n",
       "      <td>0.00001</td>\n",
       "    </tr>\n",
       "    <tr>\n",
       "      <th>13</th>\n",
       "      <td>2019-05-01 00:15:00</td>\n",
       "      <td>audusd</td>\n",
       "      <td>0.70519</td>\n",
       "      <td>0.70519</td>\n",
       "      <td>0.000014</td>\n",
       "      <td>0.000000</td>\n",
       "      <td>0.00000</td>\n",
       "    </tr>\n",
       "    <tr>\n",
       "      <th>14</th>\n",
       "      <td>2019-05-01 00:16:00</td>\n",
       "      <td>audusd</td>\n",
       "      <td>0.70520</td>\n",
       "      <td>0.70521</td>\n",
       "      <td>0.000014</td>\n",
       "      <td>0.000028</td>\n",
       "      <td>0.00001</td>\n",
       "    </tr>\n",
       "    <tr>\n",
       "      <th>15</th>\n",
       "      <td>2019-05-01 00:17:00</td>\n",
       "      <td>audusd</td>\n",
       "      <td>0.70518</td>\n",
       "      <td>0.70520</td>\n",
       "      <td>-0.000028</td>\n",
       "      <td>-0.000014</td>\n",
       "      <td>0.00002</td>\n",
       "    </tr>\n",
       "    <tr>\n",
       "      <th>16</th>\n",
       "      <td>2019-05-01 00:18:00</td>\n",
       "      <td>audusd</td>\n",
       "      <td>0.70520</td>\n",
       "      <td>0.70529</td>\n",
       "      <td>0.000028</td>\n",
       "      <td>0.000128</td>\n",
       "      <td>0.00009</td>\n",
       "    </tr>\n",
       "    <tr>\n",
       "      <th>17</th>\n",
       "      <td>2019-05-01 00:19:00</td>\n",
       "      <td>audusd</td>\n",
       "      <td>0.70528</td>\n",
       "      <td>0.70530</td>\n",
       "      <td>0.000113</td>\n",
       "      <td>0.000014</td>\n",
       "      <td>0.00002</td>\n",
       "    </tr>\n",
       "    <tr>\n",
       "      <th>18</th>\n",
       "      <td>2019-05-01 00:20:00</td>\n",
       "      <td>audusd</td>\n",
       "      <td>0.70530</td>\n",
       "      <td>0.70531</td>\n",
       "      <td>0.000028</td>\n",
       "      <td>0.000014</td>\n",
       "      <td>0.00001</td>\n",
       "    </tr>\n",
       "    <tr>\n",
       "      <th>19</th>\n",
       "      <td>2019-05-01 00:21:00</td>\n",
       "      <td>audusd</td>\n",
       "      <td>0.70528</td>\n",
       "      <td>0.70531</td>\n",
       "      <td>-0.000028</td>\n",
       "      <td>0.000000</td>\n",
       "      <td>0.00003</td>\n",
       "    </tr>\n",
       "    <tr>\n",
       "      <th>20</th>\n",
       "      <td>2019-05-01 00:22:00</td>\n",
       "      <td>audusd</td>\n",
       "      <td>0.70537</td>\n",
       "      <td>0.70537</td>\n",
       "      <td>0.000128</td>\n",
       "      <td>0.000085</td>\n",
       "      <td>0.00000</td>\n",
       "    </tr>\n",
       "    <tr>\n",
       "      <th>21</th>\n",
       "      <td>2019-05-01 00:23:00</td>\n",
       "      <td>audusd</td>\n",
       "      <td>0.70537</td>\n",
       "      <td>0.70539</td>\n",
       "      <td>0.000000</td>\n",
       "      <td>0.000028</td>\n",
       "      <td>0.00002</td>\n",
       "    </tr>\n",
       "    <tr>\n",
       "      <th>22</th>\n",
       "      <td>2019-05-01 00:24:00</td>\n",
       "      <td>audusd</td>\n",
       "      <td>0.70527</td>\n",
       "      <td>0.70538</td>\n",
       "      <td>-0.000142</td>\n",
       "      <td>-0.000014</td>\n",
       "      <td>0.00011</td>\n",
       "    </tr>\n",
       "    <tr>\n",
       "      <th>23</th>\n",
       "      <td>2019-05-01 00:25:00</td>\n",
       "      <td>audusd</td>\n",
       "      <td>0.70535</td>\n",
       "      <td>0.70539</td>\n",
       "      <td>0.000113</td>\n",
       "      <td>0.000014</td>\n",
       "      <td>0.00004</td>\n",
       "    </tr>\n",
       "    <tr>\n",
       "      <th>24</th>\n",
       "      <td>2019-05-01 00:26:00</td>\n",
       "      <td>audusd</td>\n",
       "      <td>0.70538</td>\n",
       "      <td>0.70539</td>\n",
       "      <td>0.000043</td>\n",
       "      <td>0.000000</td>\n",
       "      <td>0.00001</td>\n",
       "    </tr>\n",
       "    <tr>\n",
       "      <th>25</th>\n",
       "      <td>2019-05-01 00:27:00</td>\n",
       "      <td>audusd</td>\n",
       "      <td>0.70537</td>\n",
       "      <td>0.70538</td>\n",
       "      <td>-0.000014</td>\n",
       "      <td>-0.000014</td>\n",
       "      <td>0.00001</td>\n",
       "    </tr>\n",
       "    <tr>\n",
       "      <th>26</th>\n",
       "      <td>2019-05-01 00:28:00</td>\n",
       "      <td>audusd</td>\n",
       "      <td>0.70535</td>\n",
       "      <td>0.70538</td>\n",
       "      <td>-0.000028</td>\n",
       "      <td>0.000000</td>\n",
       "      <td>0.00003</td>\n",
       "    </tr>\n",
       "    <tr>\n",
       "      <th>27</th>\n",
       "      <td>2019-05-01 00:29:00</td>\n",
       "      <td>audusd</td>\n",
       "      <td>0.70526</td>\n",
       "      <td>0.70534</td>\n",
       "      <td>-0.000128</td>\n",
       "      <td>-0.000057</td>\n",
       "      <td>0.00008</td>\n",
       "    </tr>\n",
       "    <tr>\n",
       "      <th>28</th>\n",
       "      <td>2019-05-01 00:30:00</td>\n",
       "      <td>audusd</td>\n",
       "      <td>0.70527</td>\n",
       "      <td>0.70529</td>\n",
       "      <td>0.000014</td>\n",
       "      <td>-0.000071</td>\n",
       "      <td>0.00002</td>\n",
       "    </tr>\n",
       "    <tr>\n",
       "      <th>29</th>\n",
       "      <td>2019-05-01 00:31:00</td>\n",
       "      <td>audusd</td>\n",
       "      <td>0.70528</td>\n",
       "      <td>0.70529</td>\n",
       "      <td>0.000014</td>\n",
       "      <td>0.000000</td>\n",
       "      <td>0.00001</td>\n",
       "    </tr>\n",
       "    <tr>\n",
       "      <th>...</th>\n",
       "      <td>...</td>\n",
       "      <td>...</td>\n",
       "      <td>...</td>\n",
       "      <td>...</td>\n",
       "      <td>...</td>\n",
       "      <td>...</td>\n",
       "      <td>...</td>\n",
       "    </tr>\n",
       "    <tr>\n",
       "      <th>285853</th>\n",
       "      <td>2019-05-26 23:30:00</td>\n",
       "      <td>usdsek</td>\n",
       "      <td>9.52895</td>\n",
       "      <td>9.52895</td>\n",
       "      <td>0.000000</td>\n",
       "      <td>0.000000</td>\n",
       "      <td>0.00000</td>\n",
       "    </tr>\n",
       "    <tr>\n",
       "      <th>285854</th>\n",
       "      <td>2019-05-26 23:31:00</td>\n",
       "      <td>usdsek</td>\n",
       "      <td>9.52895</td>\n",
       "      <td>9.52895</td>\n",
       "      <td>0.000000</td>\n",
       "      <td>0.000000</td>\n",
       "      <td>0.00000</td>\n",
       "    </tr>\n",
       "    <tr>\n",
       "      <th>285855</th>\n",
       "      <td>2019-05-26 23:32:00</td>\n",
       "      <td>usdsek</td>\n",
       "      <td>9.52895</td>\n",
       "      <td>9.52895</td>\n",
       "      <td>0.000000</td>\n",
       "      <td>0.000000</td>\n",
       "      <td>0.00000</td>\n",
       "    </tr>\n",
       "    <tr>\n",
       "      <th>285856</th>\n",
       "      <td>2019-05-26 23:33:00</td>\n",
       "      <td>usdsek</td>\n",
       "      <td>9.52895</td>\n",
       "      <td>9.52895</td>\n",
       "      <td>0.000000</td>\n",
       "      <td>0.000000</td>\n",
       "      <td>0.00000</td>\n",
       "    </tr>\n",
       "    <tr>\n",
       "      <th>285857</th>\n",
       "      <td>2019-05-26 23:34:00</td>\n",
       "      <td>usdsek</td>\n",
       "      <td>9.52895</td>\n",
       "      <td>9.52895</td>\n",
       "      <td>0.000000</td>\n",
       "      <td>0.000000</td>\n",
       "      <td>0.00000</td>\n",
       "    </tr>\n",
       "    <tr>\n",
       "      <th>285858</th>\n",
       "      <td>2019-05-26 23:35:00</td>\n",
       "      <td>usdsek</td>\n",
       "      <td>9.52895</td>\n",
       "      <td>9.52895</td>\n",
       "      <td>0.000000</td>\n",
       "      <td>0.000000</td>\n",
       "      <td>0.00000</td>\n",
       "    </tr>\n",
       "    <tr>\n",
       "      <th>285859</th>\n",
       "      <td>2019-05-26 23:36:00</td>\n",
       "      <td>usdsek</td>\n",
       "      <td>9.52895</td>\n",
       "      <td>9.52895</td>\n",
       "      <td>0.000000</td>\n",
       "      <td>0.000000</td>\n",
       "      <td>0.00000</td>\n",
       "    </tr>\n",
       "    <tr>\n",
       "      <th>285860</th>\n",
       "      <td>2019-05-26 23:37:00</td>\n",
       "      <td>usdsek</td>\n",
       "      <td>9.52895</td>\n",
       "      <td>9.52895</td>\n",
       "      <td>0.000000</td>\n",
       "      <td>0.000000</td>\n",
       "      <td>0.00000</td>\n",
       "    </tr>\n",
       "    <tr>\n",
       "      <th>285861</th>\n",
       "      <td>2019-05-26 23:38:00</td>\n",
       "      <td>usdsek</td>\n",
       "      <td>9.52895</td>\n",
       "      <td>9.52895</td>\n",
       "      <td>0.000000</td>\n",
       "      <td>0.000000</td>\n",
       "      <td>0.00000</td>\n",
       "    </tr>\n",
       "    <tr>\n",
       "      <th>285862</th>\n",
       "      <td>2019-05-26 23:39:00</td>\n",
       "      <td>usdsek</td>\n",
       "      <td>9.52895</td>\n",
       "      <td>9.52895</td>\n",
       "      <td>0.000000</td>\n",
       "      <td>0.000000</td>\n",
       "      <td>0.00000</td>\n",
       "    </tr>\n",
       "    <tr>\n",
       "      <th>285863</th>\n",
       "      <td>2019-05-26 23:40:00</td>\n",
       "      <td>usdsek</td>\n",
       "      <td>9.52895</td>\n",
       "      <td>9.52895</td>\n",
       "      <td>0.000000</td>\n",
       "      <td>0.000000</td>\n",
       "      <td>0.00000</td>\n",
       "    </tr>\n",
       "    <tr>\n",
       "      <th>285864</th>\n",
       "      <td>2019-05-26 23:41:00</td>\n",
       "      <td>usdsek</td>\n",
       "      <td>9.52895</td>\n",
       "      <td>9.52895</td>\n",
       "      <td>0.000000</td>\n",
       "      <td>0.000000</td>\n",
       "      <td>0.00000</td>\n",
       "    </tr>\n",
       "    <tr>\n",
       "      <th>285865</th>\n",
       "      <td>2019-05-26 23:42:00</td>\n",
       "      <td>usdsek</td>\n",
       "      <td>9.52895</td>\n",
       "      <td>9.52895</td>\n",
       "      <td>0.000000</td>\n",
       "      <td>0.000000</td>\n",
       "      <td>0.00000</td>\n",
       "    </tr>\n",
       "    <tr>\n",
       "      <th>285866</th>\n",
       "      <td>2019-05-26 23:43:00</td>\n",
       "      <td>usdsek</td>\n",
       "      <td>9.52895</td>\n",
       "      <td>9.52895</td>\n",
       "      <td>0.000000</td>\n",
       "      <td>0.000000</td>\n",
       "      <td>0.00000</td>\n",
       "    </tr>\n",
       "    <tr>\n",
       "      <th>285867</th>\n",
       "      <td>2019-05-26 23:44:00</td>\n",
       "      <td>usdsek</td>\n",
       "      <td>9.52895</td>\n",
       "      <td>9.52895</td>\n",
       "      <td>0.000000</td>\n",
       "      <td>0.000000</td>\n",
       "      <td>0.00000</td>\n",
       "    </tr>\n",
       "    <tr>\n",
       "      <th>285868</th>\n",
       "      <td>2019-05-26 23:45:00</td>\n",
       "      <td>usdsek</td>\n",
       "      <td>9.52895</td>\n",
       "      <td>9.52895</td>\n",
       "      <td>0.000000</td>\n",
       "      <td>0.000000</td>\n",
       "      <td>0.00000</td>\n",
       "    </tr>\n",
       "    <tr>\n",
       "      <th>285869</th>\n",
       "      <td>2019-05-26 23:46:00</td>\n",
       "      <td>usdsek</td>\n",
       "      <td>9.52895</td>\n",
       "      <td>9.52895</td>\n",
       "      <td>0.000000</td>\n",
       "      <td>0.000000</td>\n",
       "      <td>0.00000</td>\n",
       "    </tr>\n",
       "    <tr>\n",
       "      <th>285870</th>\n",
       "      <td>2019-05-26 23:47:00</td>\n",
       "      <td>usdsek</td>\n",
       "      <td>9.52895</td>\n",
       "      <td>9.52895</td>\n",
       "      <td>0.000000</td>\n",
       "      <td>0.000000</td>\n",
       "      <td>0.00000</td>\n",
       "    </tr>\n",
       "    <tr>\n",
       "      <th>285871</th>\n",
       "      <td>2019-05-26 23:48:00</td>\n",
       "      <td>usdsek</td>\n",
       "      <td>9.52895</td>\n",
       "      <td>9.52895</td>\n",
       "      <td>0.000000</td>\n",
       "      <td>0.000000</td>\n",
       "      <td>0.00000</td>\n",
       "    </tr>\n",
       "    <tr>\n",
       "      <th>285872</th>\n",
       "      <td>2019-05-26 23:49:00</td>\n",
       "      <td>usdsek</td>\n",
       "      <td>9.52895</td>\n",
       "      <td>9.52895</td>\n",
       "      <td>0.000000</td>\n",
       "      <td>0.000000</td>\n",
       "      <td>0.00000</td>\n",
       "    </tr>\n",
       "    <tr>\n",
       "      <th>285873</th>\n",
       "      <td>2019-05-26 23:50:00</td>\n",
       "      <td>usdsek</td>\n",
       "      <td>9.52895</td>\n",
       "      <td>9.52895</td>\n",
       "      <td>0.000000</td>\n",
       "      <td>0.000000</td>\n",
       "      <td>0.00000</td>\n",
       "    </tr>\n",
       "    <tr>\n",
       "      <th>285874</th>\n",
       "      <td>2019-05-26 23:51:00</td>\n",
       "      <td>usdsek</td>\n",
       "      <td>9.52895</td>\n",
       "      <td>9.52895</td>\n",
       "      <td>0.000000</td>\n",
       "      <td>0.000000</td>\n",
       "      <td>0.00000</td>\n",
       "    </tr>\n",
       "    <tr>\n",
       "      <th>285875</th>\n",
       "      <td>2019-05-26 23:52:00</td>\n",
       "      <td>usdsek</td>\n",
       "      <td>9.52895</td>\n",
       "      <td>9.52895</td>\n",
       "      <td>0.000000</td>\n",
       "      <td>0.000000</td>\n",
       "      <td>0.00000</td>\n",
       "    </tr>\n",
       "    <tr>\n",
       "      <th>285876</th>\n",
       "      <td>2019-05-26 23:53:00</td>\n",
       "      <td>usdsek</td>\n",
       "      <td>9.52895</td>\n",
       "      <td>9.52895</td>\n",
       "      <td>0.000000</td>\n",
       "      <td>0.000000</td>\n",
       "      <td>0.00000</td>\n",
       "    </tr>\n",
       "    <tr>\n",
       "      <th>285877</th>\n",
       "      <td>2019-05-26 23:54:00</td>\n",
       "      <td>usdsek</td>\n",
       "      <td>9.52895</td>\n",
       "      <td>9.52895</td>\n",
       "      <td>0.000000</td>\n",
       "      <td>0.000000</td>\n",
       "      <td>0.00000</td>\n",
       "    </tr>\n",
       "    <tr>\n",
       "      <th>285878</th>\n",
       "      <td>2019-05-26 23:55:00</td>\n",
       "      <td>usdsek</td>\n",
       "      <td>9.52895</td>\n",
       "      <td>9.52895</td>\n",
       "      <td>0.000000</td>\n",
       "      <td>0.000000</td>\n",
       "      <td>0.00000</td>\n",
       "    </tr>\n",
       "    <tr>\n",
       "      <th>285879</th>\n",
       "      <td>2019-05-26 23:56:00</td>\n",
       "      <td>usdsek</td>\n",
       "      <td>9.52895</td>\n",
       "      <td>9.52895</td>\n",
       "      <td>0.000000</td>\n",
       "      <td>0.000000</td>\n",
       "      <td>0.00000</td>\n",
       "    </tr>\n",
       "    <tr>\n",
       "      <th>285880</th>\n",
       "      <td>2019-05-26 23:57:00</td>\n",
       "      <td>usdsek</td>\n",
       "      <td>9.52895</td>\n",
       "      <td>9.52895</td>\n",
       "      <td>0.000000</td>\n",
       "      <td>0.000000</td>\n",
       "      <td>0.00000</td>\n",
       "    </tr>\n",
       "    <tr>\n",
       "      <th>285881</th>\n",
       "      <td>2019-05-26 23:58:00</td>\n",
       "      <td>usdsek</td>\n",
       "      <td>9.52895</td>\n",
       "      <td>9.52895</td>\n",
       "      <td>0.000000</td>\n",
       "      <td>0.000000</td>\n",
       "      <td>0.00000</td>\n",
       "    </tr>\n",
       "    <tr>\n",
       "      <th>285882</th>\n",
       "      <td>2019-05-26 23:59:00</td>\n",
       "      <td>usdsek</td>\n",
       "      <td>9.52895</td>\n",
       "      <td>9.52895</td>\n",
       "      <td>0.000000</td>\n",
       "      <td>0.000000</td>\n",
       "      <td>0.00000</td>\n",
       "    </tr>\n",
       "  </tbody>\n",
       "</table>\n",
       "<p>231651 rows × 7 columns</p>\n",
       "</div>"
      ],
      "text/plain": [
       "                 timestamp     ccy  bid_price  ask_price   bid_ret   ask_ret  \\\n",
       "0      2019-05-01 00:02:00  audusd    0.70514    0.70517  0.000000  0.000000   \n",
       "1      2019-05-01 00:03:00  audusd    0.70517    0.70517  0.000043  0.000000   \n",
       "2      2019-05-01 00:04:00  audusd    0.70517    0.70518  0.000000  0.000014   \n",
       "3      2019-05-01 00:05:00  audusd    0.70517    0.70518  0.000000  0.000000   \n",
       "4      2019-05-01 00:06:00  audusd    0.70517    0.70518  0.000000  0.000000   \n",
       "...                    ...     ...        ...        ...       ...       ...   \n",
       "285878 2019-05-26 23:55:00  usdsek    9.52895    9.52895  0.000000  0.000000   \n",
       "285879 2019-05-26 23:56:00  usdsek    9.52895    9.52895  0.000000  0.000000   \n",
       "285880 2019-05-26 23:57:00  usdsek    9.52895    9.52895  0.000000  0.000000   \n",
       "285881 2019-05-26 23:58:00  usdsek    9.52895    9.52895  0.000000  0.000000   \n",
       "285882 2019-05-26 23:59:00  usdsek    9.52895    9.52895  0.000000  0.000000   \n",
       "\n",
       "        mid_price  \n",
       "0         0.00003  \n",
       "1         0.00000  \n",
       "2         0.00001  \n",
       "3         0.00001  \n",
       "4         0.00001  \n",
       "...           ...  \n",
       "285878    0.00000  \n",
       "285879    0.00000  \n",
       "285880    0.00000  \n",
       "285881    0.00000  \n",
       "285882    0.00000  \n",
       "\n",
       "[231651 rows x 7 columns]"
      ]
     },
     "execution_count": 135,
     "metadata": {},
     "output_type": "execute_result"
    }
   ],
   "source": []
  },
  {
   "cell_type": "code",
   "execution_count": 171,
   "metadata": {
    "ExecuteTime": {
     "end_time": "2019-11-05T05:41:57.290182Z",
     "start_time": "2019-11-05T05:41:57.274125Z"
    }
   },
   "outputs": [],
   "source": [
    "cal = X_train[X_train.ccy=='usdjpy'][['bid_price', 'ask_price', 'bid_ret', 'ask_ret']].iloc[500:510].reset_index(drop=True)"
   ]
  },
  {
   "cell_type": "code",
   "execution_count": 172,
   "metadata": {
    "ExecuteTime": {
     "end_time": "2019-11-05T05:41:57.478164Z",
     "start_time": "2019-11-05T05:41:57.472953Z"
    }
   },
   "outputs": [],
   "source": [
    "cal['bs'] = pd.DataFrame(['B' if i == 0 else 'S' for i in np.random.choice(2, size=10)])"
   ]
  },
  {
   "cell_type": "code",
   "execution_count": 174,
   "metadata": {
    "ExecuteTime": {
     "end_time": "2019-11-05T05:42:54.077945Z",
     "start_time": "2019-11-05T05:42:54.058651Z"
    }
   },
   "outputs": [],
   "source": [
    "cal.to_csv('t.csv')"
   ]
  },
  {
   "cell_type": "code",
   "execution_count": null,
   "metadata": {},
   "outputs": [],
   "source": []
  },
  {
   "cell_type": "code",
   "execution_count": null,
   "metadata": {},
   "outputs": [],
   "source": []
  },
  {
   "cell_type": "code",
   "execution_count": null,
   "metadata": {},
   "outputs": [],
   "source": []
  },
  {
   "cell_type": "code",
   "execution_count": null,
   "metadata": {},
   "outputs": [],
   "source": []
  },
  {
   "cell_type": "code",
   "execution_count": 144,
   "metadata": {
    "ExecuteTime": {
     "end_time": "2019-11-05T05:36:58.816899Z",
     "start_time": "2019-11-05T05:36:58.402610Z"
    }
   },
   "outputs": [
    {
     "data": {
      "text/plain": [
       "<matplotlib.axes._subplots.AxesSubplot at 0x14b39e6a0>"
      ]
     },
     "execution_count": 144,
     "metadata": {},
     "output_type": "execute_result"
    },
    {
     "data": {
      "image/png": "[encoded data removed]",
      "text/plain": [
       "<Figure size 432x288 with 1 Axes>"
      ]
     },
     "metadata": {
      "needs_background": "light"
     },
     "output_type": "display_data"
    }
   ],
   "source": [
    "X_train[X_train.ccy=='usdjpy'][['bid_price']].plot()"
   ]
  },
  {
   "cell_type": "code",
   "execution_count": 150,
   "metadata": {
    "ExecuteTime": {
     "end_time": "2019-11-05T05:37:43.164272Z",
     "start_time": "2019-11-05T05:37:43.141072Z"
    }
   },
   "outputs": [
    {
     "data": {
      "text/html": [
       "<div>\n",
       "<style scoped>\n",
       "    .dataframe tbody tr th:only-of-type {\n",
       "        vertical-align: middle;\n",
       "    }\n",
       "\n",
       "    .dataframe tbody tr th {\n",
       "        vertical-align: top;\n",
       "    }\n",
       "\n",
       "    .dataframe thead th {\n",
       "        text-align: right;\n",
       "    }\n",
       "</style>\n",
       "<table border=\"1\" class=\"dataframe\">\n",
       "  <thead>\n",
       "    <tr style=\"text-align: right;\">\n",
       "      <th></th>\n",
       "      <th>bid_price</th>\n",
       "    </tr>\n",
       "  </thead>\n",
       "  <tbody>\n",
       "    <tr>\n",
       "      <th>195608</th>\n",
       "      <td>111.350</td>\n",
       "    </tr>\n",
       "    <tr>\n",
       "      <th>195609</th>\n",
       "      <td>111.332</td>\n",
       "    </tr>\n",
       "    <tr>\n",
       "      <th>195610</th>\n",
       "      <td>111.331</td>\n",
       "    </tr>\n",
       "    <tr>\n",
       "      <th>195611</th>\n",
       "      <td>111.341</td>\n",
       "    </tr>\n",
       "    <tr>\n",
       "      <th>195612</th>\n",
       "      <td>111.320</td>\n",
       "    </tr>\n",
       "    <tr>\n",
       "      <th>195613</th>\n",
       "      <td>111.323</td>\n",
       "    </tr>\n",
       "    <tr>\n",
       "      <th>195614</th>\n",
       "      <td>111.337</td>\n",
       "    </tr>\n",
       "    <tr>\n",
       "      <th>195615</th>\n",
       "      <td>111.336</td>\n",
       "    </tr>\n",
       "    <tr>\n",
       "      <th>195616</th>\n",
       "      <td>111.339</td>\n",
       "    </tr>\n",
       "    <tr>\n",
       "      <th>195617</th>\n",
       "      <td>111.361</td>\n",
       "    </tr>\n",
       "  </tbody>\n",
       "</table>\n",
       "</div>"
      ],
      "text/plain": [
       "        bid_price\n",
       "195608    111.350\n",
       "195609    111.332\n",
       "195610    111.331\n",
       "195611    111.341\n",
       "195612    111.320\n",
       "195613    111.323\n",
       "195614    111.337\n",
       "195615    111.336\n",
       "195616    111.339\n",
       "195617    111.361"
      ]
     },
     "execution_count": 150,
     "metadata": {},
     "output_type": "execute_result"
    }
   ],
   "source": [
    "X_train[X_train.ccy=='usdjpy'][['bid_price']].iloc[500:510]"
   ]
  },
  {
   "cell_type": "code",
   "execution_count": null,
   "metadata": {},
   "outputs": [],
   "source": []
  },
  {
   "cell_type": "code",
   "execution_count": null,
   "metadata": {},
   "outputs": [],
   "source": []
  },
  {
   "cell_type": "code",
   "execution_count": null,
   "metadata": {},
   "outputs": [],
   "source": []
  },
  {
   "cell_type": "code",
   "execution_count": null,
   "metadata": {},
   "outputs": [],
   "source": []
  },
  {
   "cell_type": "code",
   "execution_count": 60,
   "metadata": {
    "ExecuteTime": {
     "end_time": "2019-11-05T20:55:25.035058Z",
     "start_time": "2019-11-05T20:55:21.441180Z"
    }
   },
   "outputs": [
    {
     "ename": "ModuleNotFoundError",
     "evalue": "No module named 'tf'",
     "output_type": "error",
     "traceback": [
      "\u001b[0;31m---------------------------------------------------------------------------\u001b[0m",
      "\u001b[0;31mModuleNotFoundError\u001b[0m                       Traceback (most recent call last)",
      "\u001b[0;32m<ipython-input-60-86a2a42a453e>\u001b[0m in \u001b[0;36m<module>\u001b[0;34m\u001b[0m\n\u001b[1;32m      1\u001b[0m \u001b[0;32mimport\u001b[0m \u001b[0mtensorflow\u001b[0m \u001b[0;32mas\u001b[0m \u001b[0mtf\u001b[0m\u001b[0;34m\u001b[0m\u001b[0m\n\u001b[0;32m----> 2\u001b[0;31m \u001b[0;32mfrom\u001b[0m \u001b[0mtf\u001b[0m\u001b[0;34m.\u001b[0m\u001b[0mkeras\u001b[0m\u001b[0;34m.\u001b[0m\u001b[0moptimizers\u001b[0m \u001b[0;32mimport\u001b[0m \u001b[0mAdam\u001b[0m\u001b[0;34m\u001b[0m\u001b[0m\n\u001b[0m\u001b[1;32m      3\u001b[0m \u001b[0;32mfrom\u001b[0m \u001b[0mtf\u001b[0m\u001b[0;34m.\u001b[0m\u001b[0mkeras\u001b[0m\u001b[0;34m.\u001b[0m\u001b[0mmodels\u001b[0m \u001b[0;32mimport\u001b[0m \u001b[0mSequential\u001b[0m\u001b[0;34m\u001b[0m\u001b[0m\n\u001b[1;32m      4\u001b[0m \u001b[0;32mfrom\u001b[0m \u001b[0mtf\u001b[0m\u001b[0;34m.\u001b[0m\u001b[0mkeras\u001b[0m\u001b[0;34m.\u001b[0m\u001b[0mlayers\u001b[0m\u001b[0;34m.\u001b[0m\u001b[0mcore\u001b[0m \u001b[0;32mimport\u001b[0m \u001b[0mDense\u001b[0m\u001b[0;34m,\u001b[0m \u001b[0mDropout\u001b[0m\u001b[0;34m\u001b[0m\u001b[0m\n\u001b[1;32m      5\u001b[0m \u001b[0;32mimport\u001b[0m \u001b[0mrandom\u001b[0m\u001b[0;34m\u001b[0m\u001b[0m\n",
      "\u001b[0;31mModuleNotFoundError\u001b[0m: No module named 'tf'"
     ]
    }
   ],
   "source": [
    "import tensorflow as tf\n",
    "from tf.keras.optimizers import Adam\n",
    "from tf.keras.models import Sequential\n",
    "from tf.keras.layers.core import Dense, Dropout\n",
    "import random\n",
    "import numpy as np\n",
    "import pandas as pd\n",
    "from operator import add\n",
    "\n",
    "\n",
    "class DQNAgent(object):\n",
    "\n",
    "    def __init__(self):\n",
    "        self.reward = 0\n",
    "        self.gamma = 0.9\n",
    "        self.dataframe = pd.DataFrame()\n",
    "        self.short_memory = np.array([])\n",
    "        self.agent_target = 1\n",
    "        self.agent_predict = 0\n",
    "        self.learning_rate = 0.0005\n",
    "        self.model = self.network()\n",
    "        #self.model = self.network(\"weights.hdf5\")\n",
    "        self.epsilon = 0\n",
    "        self.actual = []\n",
    "        self.memory = []\n",
    "\n",
    "    def get_state(self, game, player, food):\n",
    "\n",
    "        state = [\n",
    "            (player.x_change == 20 and player.y_change == 0 and ((list(map(add, player.position[-1], [20, 0])) in player.position) or\n",
    "            player.position[-1][0] + 20 >= (game.game_width - 20))) or (player.x_change == -20 and player.y_change == 0 and ((list(map(add, player.position[-1], [-20, 0])) in player.position) or\n",
    "            player.position[-1][0] - 20 < 20)) or (player.x_change == 0 and player.y_change == -20 and ((list(map(add, player.position[-1], [0, -20])) in player.position) or\n",
    "            player.position[-1][-1] - 20 < 20)) or (player.x_change == 0 and player.y_change == 20 and ((list(map(add, player.position[-1], [0, 20])) in player.position) or\n",
    "            player.position[-1][-1] + 20 >= (game.game_height-20))),  # danger straight\n",
    "\n",
    "            (player.x_change == 0 and player.y_change == -20 and ((list(map(add,player.position[-1],[20, 0])) in player.position) or\n",
    "            player.position[ -1][0] + 20 > (game.game_width-20))) or (player.x_change == 0 and player.y_change == 20 and ((list(map(add,player.position[-1],\n",
    "            [-20,0])) in player.position) or player.position[-1][0] - 20 < 20)) or (player.x_change == -20 and player.y_change == 0 and ((list(map(\n",
    "            add,player.position[-1],[0,-20])) in player.position) or player.position[-1][-1] - 20 < 20)) or (player.x_change == 20 and player.y_change == 0 and (\n",
    "            (list(map(add,player.position[-1],[0,20])) in player.position) or player.position[-1][\n",
    "             -1] + 20 >= (game.game_height-20))),  # danger right\n",
    "\n",
    "             (player.x_change == 0 and player.y_change == 20 and ((list(map(add,player.position[-1],[20,0])) in player.position) or\n",
    "             player.position[-1][0] + 20 > (game.game_width-20))) or (player.x_change == 0 and player.y_change == -20 and ((list(map(\n",
    "             add, player.position[-1],[-20,0])) in player.position) or player.position[-1][0] - 20 < 20)) or (player.x_change == 20 and player.y_change == 0 and (\n",
    "            (list(map(add,player.position[-1],[0,-20])) in player.position) or player.position[-1][-1] - 20 < 20)) or (\n",
    "            player.x_change == -20 and player.y_change == 0 and ((list(map(add,player.position[-1],[0,20])) in player.position) or\n",
    "            player.position[-1][-1] + 20 >= (game.game_height-20))), #danger left\n",
    "\n",
    "\n",
    "            player.x_change == -20,  # move left\n",
    "            player.x_change == 20,  # move right\n",
    "            player.y_change == -20,  # move up\n",
    "            player.y_change == 20,  # move down\n",
    "            food.x_food < player.x,  # food left\n",
    "            food.x_food > player.x,  # food right\n",
    "            food.y_food < player.y,  # food up\n",
    "            food.y_food > player.y  # food down\n",
    "            ]\n",
    "\n",
    "        for i in range(len(state)):\n",
    "            if state[i]:\n",
    "                state[i]=1\n",
    "            else:\n",
    "                state[i]=0\n",
    "\n",
    "        return np.asarray(state)\n",
    "\n",
    "    def set_reward(self, player, crash):\n",
    "        self.reward = 0\n",
    "        if crash:\n",
    "            self.reward = -10\n",
    "            return self.reward\n",
    "        if player.eaten:\n",
    "            self.reward = 10\n",
    "        return self.reward\n",
    "\n",
    "    def network(self, weights=None):\n",
    "        model = Sequential()\n",
    "        model.add(Dense(output_dim=120, activation='relu', input_dim=11))\n",
    "        model.add(Dropout(0.15))\n",
    "        model.add(Dense(output_dim=120, activation='relu'))\n",
    "        model.add(Dropout(0.15))\n",
    "        model.add(Dense(output_dim=120, activation='relu'))\n",
    "        model.add(Dropout(0.15))\n",
    "        model.add(Dense(output_dim=3, activation='softmax'))\n",
    "        opt = Adam(self.learning_rate)\n",
    "        model.compile(loss='mse', optimizer=opt)\n",
    "\n",
    "        if weights:\n",
    "            model.load_weights(weights)\n",
    "        return model\n",
    "\n",
    "    def remember(self, state, action, reward, next_state, done):\n",
    "        self.memory.append((state, action, reward, next_state, done))\n",
    "\n",
    "    def replay_new(self, memory):\n",
    "        if len(memory) > 1000:\n",
    "            minibatch = random.sample(memory, 1000)\n",
    "        else:\n",
    "            minibatch = memory\n",
    "        for state, action, reward, next_state, done in minibatch:\n",
    "            target = reward\n",
    "            if not done:\n",
    "                target = reward + self.gamma * np.amax(self.model.predict(np.array([next_state]))[0])\n",
    "            target_f = self.model.predict(np.array([state]))\n",
    "            target_f[0][np.argmax(action)] = target\n",
    "            self.model.fit(np.array([state]), target_f, epochs=1, verbose=0)\n",
    "\n",
    "    def train_short_memory(self, state, action, reward, next_state, done):\n",
    "        target = reward\n",
    "        if not done:\n",
    "            target = reward + self.gamma * np.amax(self.model.predict(next_state.reshape((1, 11)))[0])\n",
    "        target_f = self.model.predict(state.reshape((1, 11)))\n",
    "        target_f[0][np.argmax(action)] = target\n",
    "        self.model.fit(state.reshape((1, 11)), target_f, epochs=1, verbose=0)"
   ]
  },
  {
   "cell_type": "code",
   "execution_count": 66,
   "metadata": {
    "ExecuteTime": {
     "end_time": "2019-11-05T21:00:44.591542Z",
     "start_time": "2019-11-05T21:00:44.587853Z"
    }
   },
   "outputs": [],
   "source": [
    "state = np.empty(11)"
   ]
  },
  {
   "cell_type": "code",
   "execution_count": 67,
   "metadata": {
    "ExecuteTime": {
     "end_time": "2019-11-05T21:00:48.986598Z",
     "start_time": "2019-11-05T21:00:48.979884Z"
    }
   },
   "outputs": [
    {
     "data": {
      "text/plain": [
       "array([0. , 0.1, 0.2, 0.3, 0.4, 0.5, 0.6, 0.7, 0.8, 0.9, 1. ])"
      ]
     },
     "execution_count": 67,
     "metadata": {},
     "output_type": "execute_result"
    }
   ],
   "source": [
    "state"
   ]
  },
  {
   "cell_type": "code",
   "execution_count": 65,
   "metadata": {
    "ExecuteTime": {
     "end_time": "2019-11-05T21:00:26.471979Z",
     "start_time": "2019-11-05T21:00:26.453310Z"
    }
   },
   "outputs": [
    {
     "ename": "TypeError",
     "evalue": "data type not understood",
     "output_type": "error",
     "traceback": [
      "\u001b[0;31m---------------------------------------------------------------------------\u001b[0m",
      "\u001b[0;31mTypeError\u001b[0m                                 Traceback (most recent call last)",
      "\u001b[0;32m<ipython-input-65-a65286a408e1>\u001b[0m in \u001b[0;36m<module>\u001b[0;34m\u001b[0m\n\u001b[0;32m----> 1\u001b[0;31m \u001b[0mtarget_f\u001b[0m \u001b[0;34m=\u001b[0m \u001b[0mnp\u001b[0m\u001b[0;34m.\u001b[0m\u001b[0mempty\u001b[0m\u001b[0;34m(\u001b[0m\u001b[0;36m1\u001b[0m\u001b[0;34m,\u001b[0m\u001b[0;36m11\u001b[0m\u001b[0;34m)\u001b[0m\u001b[0;34m\u001b[0m\u001b[0m\n\u001b[0m",
      "\u001b[0;31mTypeError\u001b[0m: data type not understood"
     ]
    }
   ],
   "source": [
    "target_f = np.empty(state.reshape(1,11))"
   ]
  },
  {
   "cell_type": "code",
   "execution_count": 64,
   "metadata": {
    "ExecuteTime": {
     "end_time": "2019-11-05T21:00:19.247645Z",
     "start_time": "2019-11-05T21:00:19.237690Z"
    }
   },
   "outputs": [
    {
     "data": {
      "text/plain": [
       "array([[0. , 0.1, 0.2, 0.3, 0.4, 0.5, 0.6, 0.7, 0.8, 0.9, 1. ]])"
      ]
     },
     "execution_count": 64,
     "metadata": {},
     "output_type": "execute_result"
    }
   ],
   "source": [
    "target_f"
   ]
  },
  {
   "cell_type": "code",
   "execution_count": 68,
   "metadata": {
    "ExecuteTime": {
     "end_time": "2019-11-05T21:01:13.031847Z",
     "start_time": "2019-11-05T21:01:13.026913Z"
    }
   },
   "outputs": [
    {
     "data": {
      "text/plain": [
       "array([[0. , 0.1, 0.2, 0.3, 0.4, 0.5, 0.6, 0.7, 0.8, 0.9, 1. ]])"
      ]
     },
     "execution_count": 68,
     "metadata": {},
     "output_type": "execute_result"
    }
   ],
   "source": [
    "target_f"
   ]
  },
  {
   "cell_type": "code",
   "execution_count": 70,
   "metadata": {
    "ExecuteTime": {
     "end_time": "2019-11-05T21:01:20.021459Z",
     "start_time": "2019-11-05T21:01:20.016593Z"
    }
   },
   "outputs": [
    {
     "data": {
      "text/plain": [
       "array([0. , 0.1, 0.2, 0.3, 0.4, 0.5, 0.6, 0.7, 0.8, 0.9, 1. ])"
      ]
     },
     "execution_count": 70,
     "metadata": {},
     "output_type": "execute_result"
    }
   ],
   "source": [
    "target_f[0]"
   ]
  },
  {
   "cell_type": "code",
   "execution_count": null,
   "metadata": {},
   "outputs": [],
   "source": []
  }
 ],
 "metadata": {
  "kernelspec": {
   "display_name": "Python 3",
   "language": "python",
   "name": "python3"
  },
  "language_info": {
   "codemirror_mode": {
    "name": "ipython",
    "version": 3
   },
   "file_extension": ".py",
   "mimetype": "text/x-python",
   "name": "python",
   "nbconvert_exporter": "python",
   "pygments_lexer": "ipython3",
   "version": "3.6.6"
  }
 },
 "nbformat": 4,
 "nbformat_minor": 2
}
