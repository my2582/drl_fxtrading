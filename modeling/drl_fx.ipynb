{
 "cells": [
  {
   "cell_type": "markdown",
   "metadata": {},
   "source": [
    "# 1. Import packages"
   ]
  },
  {
   "cell_type": "code",
   "execution_count": 1,
   "metadata": {
    "ExecuteTime": {
     "end_time": "2019-11-16T18:29:00.619630Z",
     "start_time": "2019-11-16T18:28:59.664320Z"
    }
   },
   "outputs": [],
   "source": [
    "import os\n",
    "import numpy as np\n",
    "import pandas as pd\n",
    "\n",
    "# Plotting\n",
    "import matplotlib.pyplot as plt\n",
    "import seaborn as sns\n",
    "\n",
    "import logging "
   ]
  },
  {
   "cell_type": "code",
   "execution_count": 2,
   "metadata": {
    "ExecuteTime": {
     "end_time": "2019-11-16T18:29:00.625522Z",
     "start_time": "2019-11-16T18:29:00.622153Z"
    }
   },
   "outputs": [],
   "source": [
    "logging.basicConfig(format='%(levelname)s: %(message)s', level=logging.INFO)\n",
    "logger = logging.getLogger(__name__)"
   ]
  },
  {
   "cell_type": "markdown",
   "metadata": {},
   "source": [
    "# 2. Data loading"
   ]
  },
  {
   "cell_type": "markdown",
   "metadata": {},
   "source": [
    "## 2.1. Dataset description"
   ]
  },
  {
   "cell_type": "markdown",
   "metadata": {},
   "source": [
    "### A toy dataset for now\n",
    "#### G-10 currency pairs. Every curreny other than USD is against USD. So we have 9 pairs in total\n",
    "- gbpusd, usdsek, usdnok, usdjpy, usdcad, usdchf, nzdusd, eurusd, audusd"
   ]
  },
  {
   "cell_type": "markdown",
   "metadata": {},
   "source": [
    "#### Period in use: May 2019 (1 month)"
   ]
  },
  {
   "cell_type": "markdown",
   "metadata": {},
   "source": [
    "## 2.2 Loading a toy data set"
   ]
  },
  {
   "cell_type": "code",
   "execution_count": 3,
   "metadata": {
    "ExecuteTime": {
     "end_time": "2019-11-16T18:29:02.737102Z",
     "start_time": "2019-11-16T18:29:00.628933Z"
    },
    "scrolled": false
   },
   "outputs": [
    {
     "name": "stderr",
     "output_type": "stream",
     "text": [
      "INFO: Loading...\n",
      "INFO: nzdusd_DAT_ASCII_NZDUSD_M1_201904.csv\n",
      "INFO: nzdusd_DAT_ASCII_NZDUSD_M1_201905.csv\n",
      "INFO: nzdusd_DAT_ASCII_NZDUSD_M1_201901.csv\n",
      "INFO: nzdusd_DAT_ASCII_NZDUSD_M1_201902.csv\n",
      "INFO: nzdusd_DAT_ASCII_NZDUSD_M1_201903.csv\n",
      "INFO: usdchf_DAT_ASCII_USDCHF_M1_201903.csv\n",
      "INFO: usdchf_DAT_ASCII_USDCHF_M1_201902.csv\n",
      "INFO: usdchf_DAT_ASCII_USDCHF_M1_201901.csv\n",
      "INFO: usdchf_DAT_ASCII_USDCHF_M1_201905.csv\n",
      "INFO: usdchf_DAT_ASCII_USDCHF_M1_201904.csv\n",
      "INFO: gbpusd_DAT_ASCII_GBPUSD_M1_201904.csv\n",
      "INFO: usdnok_DAT_ASCII_USDNOK_M1_201905.csv\n",
      "INFO: usdsek_DAT_ASCII_USDSEK_M1_201902.csv\n",
      "INFO: usdsek_DAT_ASCII_USDSEK_M1_201903.csv\n",
      "INFO: usdnok_DAT_ASCII_USDNOK_M1_201904.csv\n",
      "INFO: gbpusd_DAT_ASCII_GBPUSD_M1_201905.csv\n",
      "INFO: usdsek_DAT_ASCII_USDSEK_M1_201901.csv\n",
      "INFO: gbpusd_DAT_ASCII_GBPUSD_M1_201902.csv\n",
      "INFO: usdnok_DAT_ASCII_USDNOK_M1_201903.csv\n",
      "INFO: usdsek_DAT_ASCII_USDSEK_M1_201904.csv\n",
      "INFO: usdsek_DAT_ASCII_USDSEK_M1_201905.csv\n",
      "INFO: usdnok_DAT_ASCII_USDNOK_M1_201902.csv\n",
      "INFO: gbpusd_DAT_ASCII_GBPUSD_M1_201903.csv\n",
      "INFO: gbpusd_DAT_ASCII_GBPUSD_M1_201901.csv\n",
      "INFO: usdnok_DAT_ASCII_USDNOK_M1_201901.csv\n",
      "INFO: audusd_DAT_ASCII_AUDUSD_M1_201902.csv\n",
      "INFO: eurusd_DAT_ASCII_EURUSD_M1_201903.csv\n",
      "INFO: usdcad_DAT_ASCII_USDCAD_M1_201903.csv\n",
      "INFO: usdcad_DAT_ASCII_USDCAD_M1_201902.csv\n",
      "INFO: eurusd_DAT_ASCII_EURUSD_M1_201902.csv\n",
      "INFO: audusd_DAT_ASCII_AUDUSD_M1_201903.csv\n",
      "INFO: audusd_DAT_ASCII_AUDUSD_M1_201901.csv\n",
      "INFO: usdjpy_DAT_ASCII_USDJPY_M1_201904.csv\n",
      "INFO: usdcad_DAT_ASCII_USDCAD_M1_201901.csv\n",
      "INFO: usdjpy_DAT_ASCII_USDJPY_M1_201905.csv\n",
      "INFO: eurusd_DAT_ASCII_EURUSD_M1_201901.csv\n",
      "INFO: audusd_DAT_ASCII_AUDUSD_M1_201904.csv\n",
      "INFO: eurusd_DAT_ASCII_EURUSD_M1_201905.csv\n",
      "INFO: usdjpy_DAT_ASCII_USDJPY_M1_201901.csv\n",
      "INFO: usdcad_DAT_ASCII_USDCAD_M1_201905.csv\n",
      "INFO: usdcad_DAT_ASCII_USDCAD_M1_201904.csv\n",
      "INFO: eurusd_DAT_ASCII_EURUSD_M1_201904.csv\n",
      "INFO: audusd_DAT_ASCII_AUDUSD_M1_201905.csv\n",
      "INFO: usdjpy_DAT_ASCII_USDJPY_M1_201902.csv\n",
      "INFO: usdjpy_DAT_ASCII_USDJPY_M1_201903.csv\n",
      "INFO: Complted.\n"
     ]
    }
   ],
   "source": [
    "toy_path = '../dataset/'\n",
    "toy_folders = ['toyset']\n",
    "\n",
    "# csv files have no explicit column header, but column names come in this order.\n",
    "# 'timestamp',  'opening', 'high', 'low', 'close', 'volume'\n",
    "# As we are only interested in timestamp and close prices, we set `usecols` = [0,4], a list of indices\n",
    "col_names = ['datetime',  'opening', 'high', 'low', 'close', 'volume']\n",
    "usecols = [0, 4]\n",
    "\n",
    "df = {}\n",
    "f = pd.DataFrame(columns=col_names)\n",
    "total_size = 0\n",
    "logger.info(\"Loading...\")\n",
    "for folder in toy_folders:\n",
    "    files = os.listdir(toy_path+folder)\n",
    "    for file in files:\n",
    "        if file.endswith(\".csv\"):\n",
    "            logger.info(file)\n",
    "            tmp = pd.read_csv(os.path.join(toy_path, folder, file),\n",
    "                              delimiter=';', header=0, names=col_names, usecols=usecols)\n",
    "            loaded_ccy = file[:6]\n",
    "            if loaded_ccy in df.keys():\n",
    "                df[loaded_ccy] = df[loaded_ccy].append(tmp, ignore_index=True)\n",
    "            else:\n",
    "                df[loaded_ccy] = tmp.copy()\n",
    "            total_size += len(tmp)\n",
    "logger.info(\"Complted.\")"
   ]
  },
  {
   "cell_type": "code",
   "execution_count": 4,
   "metadata": {
    "ExecuteTime": {
     "end_time": "2019-11-16T18:29:02.744624Z",
     "start_time": "2019-11-16T18:29:02.740365Z"
    }
   },
   "outputs": [
    {
     "name": "stdout",
     "output_type": "stream",
     "text": [
      "We have 1390011 data points in total for all pairs\n"
     ]
    }
   ],
   "source": [
    "print('We have {:d} data points in total for all pairs'.format(total_size))"
   ]
  },
  {
   "cell_type": "code",
   "execution_count": 5,
   "metadata": {
    "ExecuteTime": {
     "end_time": "2019-11-16T18:29:02.757263Z",
     "start_time": "2019-11-16T18:29:02.748471Z"
    }
   },
   "outputs": [
    {
     "data": {
      "text/plain": [
       "dict_keys(['nzdusd', 'usdchf', 'gbpusd', 'usdnok', 'usdsek', 'audusd', 'eurusd', 'usdcad', 'usdjpy'])"
      ]
     },
     "execution_count": 5,
     "metadata": {},
     "output_type": "execute_result"
    }
   ],
   "source": [
    "df.keys()"
   ]
  },
  {
   "cell_type": "code",
   "execution_count": 6,
   "metadata": {
    "ExecuteTime": {
     "end_time": "2019-11-16T18:29:02.766060Z",
     "start_time": "2019-11-16T18:29:02.761290Z"
    }
   },
   "outputs": [
    {
     "name": "stdout",
     "output_type": "stream",
     "text": [
      "We have a list of currency pairs: ['nzdusd', 'usdchf', 'gbpusd', 'usdnok', 'usdsek', 'audusd', 'eurusd', 'usdcad', 'usdjpy']\n"
     ]
    }
   ],
   "source": [
    "ccy_list = list(df.keys())\n",
    "ccy_reciprocal_list = ['nzdusd', 'gbpusd', 'audusd', 'eurusd']\n",
    "print('We have a list of currency pairs:', ccy_list)"
   ]
  },
  {
   "cell_type": "code",
   "execution_count": 7,
   "metadata": {
    "ExecuteTime": {
     "end_time": "2019-11-16T18:29:02.795316Z",
     "start_time": "2019-11-16T18:29:02.777917Z"
    }
   },
   "outputs": [
    {
     "name": "stdout",
     "output_type": "stream",
     "text": [
      "e.g. nzdusd\n"
     ]
    },
    {
     "data": {
      "text/html": [
       "<div>\n",
       "<style scoped>\n",
       "    .dataframe tbody tr th:only-of-type {\n",
       "        vertical-align: middle;\n",
       "    }\n",
       "\n",
       "    .dataframe tbody tr th {\n",
       "        vertical-align: top;\n",
       "    }\n",
       "\n",
       "    .dataframe thead th {\n",
       "        text-align: right;\n",
       "    }\n",
       "</style>\n",
       "<table border=\"1\" class=\"dataframe\">\n",
       "  <thead>\n",
       "    <tr style=\"text-align: right;\">\n",
       "      <th></th>\n",
       "      <th>datetime</th>\n",
       "      <th>close</th>\n",
       "    </tr>\n",
       "  </thead>\n",
       "  <tbody>\n",
       "    <tr>\n",
       "      <th>0</th>\n",
       "      <td>20190401 000100</td>\n",
       "      <td>0.68238</td>\n",
       "    </tr>\n",
       "    <tr>\n",
       "      <th>1</th>\n",
       "      <td>20190401 000200</td>\n",
       "      <td>0.68259</td>\n",
       "    </tr>\n",
       "    <tr>\n",
       "      <th>2</th>\n",
       "      <td>20190401 000300</td>\n",
       "      <td>0.68270</td>\n",
       "    </tr>\n",
       "    <tr>\n",
       "      <th>3</th>\n",
       "      <td>20190401 000400</td>\n",
       "      <td>0.68259</td>\n",
       "    </tr>\n",
       "    <tr>\n",
       "      <th>4</th>\n",
       "      <td>20190401 000500</td>\n",
       "      <td>0.68269</td>\n",
       "    </tr>\n",
       "  </tbody>\n",
       "</table>\n",
       "</div>"
      ],
      "text/plain": [
       "          datetime    close\n",
       "0  20190401 000100  0.68238\n",
       "1  20190401 000200  0.68259\n",
       "2  20190401 000300  0.68270\n",
       "3  20190401 000400  0.68259\n",
       "4  20190401 000500  0.68269"
      ]
     },
     "execution_count": 7,
     "metadata": {},
     "output_type": "execute_result"
    }
   ],
   "source": [
    "print('e.g.', ccy_list[0])\n",
    "df[ccy_list[0]].head()"
   ]
  },
  {
   "cell_type": "markdown",
   "metadata": {},
   "source": [
    "## 2.3 Data Integrity Check"
   ]
  },
  {
   "cell_type": "code",
   "execution_count": 8,
   "metadata": {
    "ExecuteTime": {
     "end_time": "2019-11-16T18:29:02.940933Z",
     "start_time": "2019-11-16T18:29:02.799686Z"
    },
    "scrolled": false
   },
   "outputs": [],
   "source": [
    "for i, ccy in enumerate(ccy_list):\n",
    "    desc = df[ccy].describe()\n",
    "    if i == 0:\n",
    "        df_desc = desc.copy()\n",
    "    else:\n",
    "        df_desc = pd.merge(df_desc, desc, left_index=True, right_index=True)"
   ]
  },
  {
   "cell_type": "markdown",
   "metadata": {},
   "source": [
    "- Outliers: none.\n",
    "- Index: The number of data points a little vary. See the **2.5 `timestamp` policy** to handle this."
   ]
  },
  {
   "cell_type": "code",
   "execution_count": 9,
   "metadata": {
    "ExecuteTime": {
     "end_time": "2019-11-16T18:29:02.957142Z",
     "start_time": "2019-11-16T18:29:02.944148Z"
    },
    "scrolled": false
   },
   "outputs": [
    {
     "data": {
      "text/html": [
       "<div>\n",
       "<style scoped>\n",
       "    .dataframe tbody tr th:only-of-type {\n",
       "        vertical-align: middle;\n",
       "    }\n",
       "\n",
       "    .dataframe tbody tr th {\n",
       "        vertical-align: top;\n",
       "    }\n",
       "\n",
       "    .dataframe thead th {\n",
       "        text-align: right;\n",
       "    }\n",
       "</style>\n",
       "<table border=\"1\" class=\"dataframe\">\n",
       "  <thead>\n",
       "    <tr style=\"text-align: right;\">\n",
       "      <th></th>\n",
       "      <th>close_x</th>\n",
       "      <th>close_y</th>\n",
       "      <th>close_x</th>\n",
       "      <th>close_y</th>\n",
       "      <th>close_x</th>\n",
       "      <th>close_y</th>\n",
       "      <th>close_x</th>\n",
       "      <th>close_y</th>\n",
       "      <th>close</th>\n",
       "    </tr>\n",
       "  </thead>\n",
       "  <tbody>\n",
       "    <tr>\n",
       "      <th>count</th>\n",
       "      <td>154460.000000</td>\n",
       "      <td>153905.000000</td>\n",
       "      <td>154609.000000</td>\n",
       "      <td>154650.000000</td>\n",
       "      <td>153648.000000</td>\n",
       "      <td>154587.000000</td>\n",
       "      <td>154673.000000</td>\n",
       "      <td>154521.000000</td>\n",
       "      <td>154958.000000</td>\n",
       "    </tr>\n",
       "    <tr>\n",
       "      <th>mean</th>\n",
       "      <td>0.674163</td>\n",
       "      <td>1.002029</td>\n",
       "      <td>1.298926</td>\n",
       "      <td>8.607950</td>\n",
       "      <td>9.289557</td>\n",
       "      <td>0.708413</td>\n",
       "      <td>1.129796</td>\n",
       "      <td>1.334487</td>\n",
       "      <td>110.413199</td>\n",
       "    </tr>\n",
       "    <tr>\n",
       "      <th>std</th>\n",
       "      <td>0.011420</td>\n",
       "      <td>0.009920</td>\n",
       "      <td>0.017666</td>\n",
       "      <td>0.095242</td>\n",
       "      <td>0.210210</td>\n",
       "      <td>0.009086</td>\n",
       "      <td>0.009642</td>\n",
       "      <td>0.010760</td>\n",
       "      <td>1.111011</td>\n",
       "    </tr>\n",
       "    <tr>\n",
       "      <th>min</th>\n",
       "      <td>0.648200</td>\n",
       "      <td>0.971580</td>\n",
       "      <td>1.243440</td>\n",
       "      <td>8.400290</td>\n",
       "      <td>8.850490</td>\n",
       "      <td>0.673740</td>\n",
       "      <td>1.110930</td>\n",
       "      <td>1.306910</td>\n",
       "      <td>105.099000</td>\n",
       "    </tr>\n",
       "    <tr>\n",
       "      <th>25%</th>\n",
       "      <td>0.666280</td>\n",
       "      <td>0.995780</td>\n",
       "      <td>1.287780</td>\n",
       "      <td>8.535972</td>\n",
       "      <td>9.170130</td>\n",
       "      <td>0.703000</td>\n",
       "      <td>1.121810</td>\n",
       "      <td>1.326970</td>\n",
       "      <td>109.596000</td>\n",
       "    </tr>\n",
       "    <tr>\n",
       "      <th>50%</th>\n",
       "      <td>0.676340</td>\n",
       "      <td>1.001330</td>\n",
       "      <td>1.302960</td>\n",
       "      <td>8.594960</td>\n",
       "      <td>9.277940</td>\n",
       "      <td>0.709950</td>\n",
       "      <td>1.129850</td>\n",
       "      <td>1.334840</td>\n",
       "      <td>110.545000</td>\n",
       "    </tr>\n",
       "    <tr>\n",
       "      <th>75%</th>\n",
       "      <td>0.683170</td>\n",
       "      <td>1.008380</td>\n",
       "      <td>1.310770</td>\n",
       "      <td>8.682450</td>\n",
       "      <td>9.439428</td>\n",
       "      <td>0.714850</td>\n",
       "      <td>1.136610</td>\n",
       "      <td>1.343330</td>\n",
       "      <td>111.414000</td>\n",
       "    </tr>\n",
       "    <tr>\n",
       "      <th>max</th>\n",
       "      <td>0.694120</td>\n",
       "      <td>1.022960</td>\n",
       "      <td>1.337600</td>\n",
       "      <td>8.818210</td>\n",
       "      <td>9.687600</td>\n",
       "      <td>0.729440</td>\n",
       "      <td>1.156960</td>\n",
       "      <td>1.365920</td>\n",
       "      <td>112.399000</td>\n",
       "    </tr>\n",
       "  </tbody>\n",
       "</table>\n",
       "</div>"
      ],
      "text/plain": [
       "             close_x        close_y        close_x        close_y  \\\n",
       "count  154460.000000  153905.000000  154609.000000  154650.000000   \n",
       "mean        0.674163       1.002029       1.298926       8.607950   \n",
       "std         0.011420       0.009920       0.017666       0.095242   \n",
       "min         0.648200       0.971580       1.243440       8.400290   \n",
       "25%         0.666280       0.995780       1.287780       8.535972   \n",
       "50%         0.676340       1.001330       1.302960       8.594960   \n",
       "75%         0.683170       1.008380       1.310770       8.682450   \n",
       "max         0.694120       1.022960       1.337600       8.818210   \n",
       "\n",
       "             close_x        close_y        close_x        close_y  \\\n",
       "count  153648.000000  154587.000000  154673.000000  154521.000000   \n",
       "mean        9.289557       0.708413       1.129796       1.334487   \n",
       "std         0.210210       0.009086       0.009642       0.010760   \n",
       "min         8.850490       0.673740       1.110930       1.306910   \n",
       "25%         9.170130       0.703000       1.121810       1.326970   \n",
       "50%         9.277940       0.709950       1.129850       1.334840   \n",
       "75%         9.439428       0.714850       1.136610       1.343330   \n",
       "max         9.687600       0.729440       1.156960       1.365920   \n",
       "\n",
       "               close  \n",
       "count  154958.000000  \n",
       "mean      110.413199  \n",
       "std         1.111011  \n",
       "min       105.099000  \n",
       "25%       109.596000  \n",
       "50%       110.545000  \n",
       "75%       111.414000  \n",
       "max       112.399000  "
      ]
     },
     "execution_count": 9,
     "metadata": {},
     "output_type": "execute_result"
    }
   ],
   "source": [
    "df_desc"
   ]
  },
  {
   "cell_type": "code",
   "execution_count": 10,
   "metadata": {
    "ExecuteTime": {
     "end_time": "2019-11-16T18:29:02.966419Z",
     "start_time": "2019-11-16T18:29:02.960205Z"
    }
   },
   "outputs": [
    {
     "data": {
      "text/plain": [
       "154958.0"
      ]
     },
     "execution_count": 10,
     "metadata": {},
     "output_type": "execute_result"
    }
   ],
   "source": [
    "max_datapoints = np.max(df_desc.loc['count'])\n",
    "max_datapoints"
   ]
  },
  {
   "cell_type": "markdown",
   "metadata": {},
   "source": [
    "## 2.4 Drop from and add some columns to `df`"
   ]
  },
  {
   "cell_type": "markdown",
   "metadata": {},
   "source": [
    "- Drop: `datetime` (no use)\n",
    "- Add: `ccy`, `timestamp`\n",
    "- Retain: `bid_price`, `ask_price`"
   ]
  },
  {
   "cell_type": "code",
   "execution_count": 11,
   "metadata": {
    "ExecuteTime": {
     "end_time": "2019-11-16T18:32:02.112447Z",
     "start_time": "2019-11-16T18:29:02.969197Z"
    }
   },
   "outputs": [],
   "source": [
    "for ccy in ccy_list:\n",
    "    df[ccy]['ccy'] = ccy\n",
    "    df[ccy]['timestamp'] = df[ccy].datetime.apply(lambda x: pd.to_datetime(x))\n",
    "    cols_to_use = ['timestamp', 'ccy', 'close']\n",
    "    df[ccy] = df[ccy][cols_to_use]"
   ]
  },
  {
   "cell_type": "code",
   "execution_count": 12,
   "metadata": {
    "ExecuteTime": {
     "end_time": "2019-11-16T18:32:02.129766Z",
     "start_time": "2019-11-16T18:32:02.114762Z"
    }
   },
   "outputs": [
    {
     "data": {
      "text/html": [
       "<div>\n",
       "<style scoped>\n",
       "    .dataframe tbody tr th:only-of-type {\n",
       "        vertical-align: middle;\n",
       "    }\n",
       "\n",
       "    .dataframe tbody tr th {\n",
       "        vertical-align: top;\n",
       "    }\n",
       "\n",
       "    .dataframe thead th {\n",
       "        text-align: right;\n",
       "    }\n",
       "</style>\n",
       "<table border=\"1\" class=\"dataframe\">\n",
       "  <thead>\n",
       "    <tr style=\"text-align: right;\">\n",
       "      <th></th>\n",
       "      <th>timestamp</th>\n",
       "      <th>ccy</th>\n",
       "      <th>close</th>\n",
       "    </tr>\n",
       "  </thead>\n",
       "  <tbody>\n",
       "    <tr>\n",
       "      <th>60322</th>\n",
       "      <td>2019-05-29 11:53:00</td>\n",
       "      <td>nzdusd</td>\n",
       "      <td>0.65105</td>\n",
       "    </tr>\n",
       "    <tr>\n",
       "      <th>116962</th>\n",
       "      <td>2019-02-21 20:39:00</td>\n",
       "      <td>nzdusd</td>\n",
       "      <td>0.68035</td>\n",
       "    </tr>\n",
       "    <tr>\n",
       "      <th>59841</th>\n",
       "      <td>2019-05-29 03:52:00</td>\n",
       "      <td>nzdusd</td>\n",
       "      <td>0.65247</td>\n",
       "    </tr>\n",
       "    <tr>\n",
       "      <th>141661</th>\n",
       "      <td>2019-03-19 00:34:00</td>\n",
       "      <td>nzdusd</td>\n",
       "      <td>0.68607</td>\n",
       "    </tr>\n",
       "    <tr>\n",
       "      <th>91833</th>\n",
       "      <td>2019-01-29 09:37:00</td>\n",
       "      <td>nzdusd</td>\n",
       "      <td>0.68430</td>\n",
       "    </tr>\n",
       "  </tbody>\n",
       "</table>\n",
       "</div>"
      ],
      "text/plain": [
       "                 timestamp     ccy    close\n",
       "60322  2019-05-29 11:53:00  nzdusd  0.65105\n",
       "116962 2019-02-21 20:39:00  nzdusd  0.68035\n",
       "59841  2019-05-29 03:52:00  nzdusd  0.65247\n",
       "141661 2019-03-19 00:34:00  nzdusd  0.68607\n",
       "91833  2019-01-29 09:37:00  nzdusd  0.68430"
      ]
     },
     "execution_count": 12,
     "metadata": {},
     "output_type": "execute_result"
    }
   ],
   "source": [
    "rand_ccy = ccy_list[np.random.randint(len(ccy_list))]\n",
    "df[rand_ccy].sample(5)"
   ]
  },
  {
   "cell_type": "markdown",
   "metadata": {
    "ExecuteTime": {
     "end_time": "2019-10-30T16:05:23.457496Z",
     "start_time": "2019-10-30T16:05:23.451601Z"
    }
   },
   "source": [
    "### Check if we have all data points in `df`"
   ]
  },
  {
   "cell_type": "code",
   "execution_count": 13,
   "metadata": {
    "ExecuteTime": {
     "end_time": "2019-11-16T18:32:02.135469Z",
     "start_time": "2019-11-16T18:32:02.131860Z"
    }
   },
   "outputs": [],
   "source": [
    "assert np.sum([len(df[ccy]) for ccy in ccy_list]) == total_size, \"We got some data loss.\""
   ]
  },
  {
   "cell_type": "markdown",
   "metadata": {},
   "source": [
    "## 2.5 Padding missing time to `df`"
   ]
  },
  {
   "cell_type": "markdown",
   "metadata": {},
   "source": [
    "### Creating a new index `idx`\n",
    "#### `timestamp` policy:\n",
    "- If any curency pair has any price at timestamp $t$, then we have the timestamp $t$ for the rest of the currency pairs as well."
   ]
  },
  {
   "cell_type": "markdown",
   "metadata": {},
   "source": [
    "#### We create a union set `idx` of `timestamp` for every currency pair so that we can cover every data point."
   ]
  },
  {
   "cell_type": "code",
   "execution_count": 14,
   "metadata": {
    "ExecuteTime": {
     "end_time": "2019-11-16T18:32:02.323298Z",
     "start_time": "2019-11-16T18:32:02.137953Z"
    }
   },
   "outputs": [],
   "source": [
    "ccy_idx = {}\n",
    "for i, ccy in enumerate(ccy_list):\n",
    "    ccy_idx[ccy] = pd.Index(df[ccy].timestamp)\n",
    "    if i == 0 :\n",
    "        idx = pd.Index(ccy_idx[ccy])\n",
    "    else:\n",
    "        idx = idx.union(ccy_idx[ccy])"
   ]
  },
  {
   "cell_type": "code",
   "execution_count": 15,
   "metadata": {
    "ExecuteTime": {
     "end_time": "2019-11-16T18:32:02.330672Z",
     "start_time": "2019-11-16T18:32:02.326781Z"
    }
   },
   "outputs": [],
   "source": [
    "assert len(idx) >= np.max([len(ccy_idx[key]) for key in ccy_idx.keys()]), \"len(Union(every index)) must be larger than max(len(indices))\""
   ]
  },
  {
   "cell_type": "code",
   "execution_count": 16,
   "metadata": {
    "ExecuteTime": {
     "end_time": "2019-11-16T18:32:02.339692Z",
     "start_time": "2019-11-16T18:32:02.333976Z"
    }
   },
   "outputs": [
    {
     "name": "stdout",
     "output_type": "stream",
     "text": [
      "We have 155265 rows per currency pair\n"
     ]
    }
   ],
   "source": [
    "print('We have {} rows per currency pair'.format(len(idx)))"
   ]
  },
  {
   "cell_type": "markdown",
   "metadata": {},
   "source": [
    "#### Apply `idx` to every `df[ccy]`"
   ]
  },
  {
   "cell_type": "code",
   "execution_count": 17,
   "metadata": {
    "ExecuteTime": {
     "end_time": "2019-11-16T18:32:02.955630Z",
     "start_time": "2019-11-16T18:32:02.343820Z"
    }
   },
   "outputs": [],
   "source": [
    "for ccy in ccy_list:\n",
    "    df_ccy = pd.DataFrame(index=idx)\n",
    "    df[ccy] = df_ccy.merge(df[ccy], how='left', on='timestamp')\n",
    "    df[ccy]['ccy'].fillna(ccy, inplace=True)"
   ]
  },
  {
   "cell_type": "code",
   "execution_count": 18,
   "metadata": {
    "ExecuteTime": {
     "end_time": "2019-11-16T18:32:02.962476Z",
     "start_time": "2019-11-16T18:32:02.958427Z"
    }
   },
   "outputs": [],
   "source": [
    "assert [ len(idx) == len(df[key]) for key in df.keys()], \"Some df[ccy] have the different number of rows.\""
   ]
  },
  {
   "cell_type": "code",
   "execution_count": 19,
   "metadata": {
    "ExecuteTime": {
     "end_time": "2019-11-16T18:32:02.970499Z",
     "start_time": "2019-11-16T18:32:02.965228Z"
    }
   },
   "outputs": [],
   "source": [
    "assert np.min([df[f].shape[0] for f in df.keys()]) >= max_datapoints, \"We got some data loss.\""
   ]
  },
  {
   "cell_type": "markdown",
   "metadata": {},
   "source": [
    "#### We get the global earliest date and last date over the entire data set."
   ]
  },
  {
   "cell_type": "markdown",
   "metadata": {},
   "source": [
    "## 2.6 Create the data set `X`\n",
    "### We do it simply by appending `df` for each currency pair to create the data set `X`"
   ]
  },
  {
   "cell_type": "markdown",
   "metadata": {},
   "source": [
    "Create a template for `X`"
   ]
  },
  {
   "cell_type": "code",
   "execution_count": 20,
   "metadata": {
    "ExecuteTime": {
     "end_time": "2019-11-16T18:32:02.985311Z",
     "start_time": "2019-11-16T18:32:02.973640Z"
    }
   },
   "outputs": [
    {
     "data": {
      "text/html": [
       "<div>\n",
       "<style scoped>\n",
       "    .dataframe tbody tr th:only-of-type {\n",
       "        vertical-align: middle;\n",
       "    }\n",
       "\n",
       "    .dataframe tbody tr th {\n",
       "        vertical-align: top;\n",
       "    }\n",
       "\n",
       "    .dataframe thead th {\n",
       "        text-align: right;\n",
       "    }\n",
       "</style>\n",
       "<table border=\"1\" class=\"dataframe\">\n",
       "  <thead>\n",
       "    <tr style=\"text-align: right;\">\n",
       "      <th></th>\n",
       "      <th>timestamp</th>\n",
       "      <th>ccy</th>\n",
       "      <th>close</th>\n",
       "    </tr>\n",
       "  </thead>\n",
       "  <tbody>\n",
       "  </tbody>\n",
       "</table>\n",
       "</div>"
      ],
      "text/plain": [
       "Empty DataFrame\n",
       "Columns: [timestamp, ccy, close]\n",
       "Index: []"
      ]
     },
     "execution_count": 20,
     "metadata": {},
     "output_type": "execute_result"
    }
   ],
   "source": [
    "X = pd.DataFrame(columns = df[ccy_list[0]].columns)\n",
    "X"
   ]
  },
  {
   "cell_type": "code",
   "execution_count": 21,
   "metadata": {
    "ExecuteTime": {
     "end_time": "2019-11-16T18:32:03.231687Z",
     "start_time": "2019-11-16T18:32:02.987627Z"
    }
   },
   "outputs": [],
   "source": [
    "for ccy in ccy_list:\n",
    "    X = X.append(df[ccy], ignore_index=False, sort=False)"
   ]
  },
  {
   "cell_type": "code",
   "execution_count": 22,
   "metadata": {
    "ExecuteTime": {
     "end_time": "2019-11-16T18:32:03.312440Z",
     "start_time": "2019-11-16T18:32:03.234617Z"
    }
   },
   "outputs": [
    {
     "data": {
      "text/html": [
       "<div>\n",
       "<style scoped>\n",
       "    .dataframe tbody tr th:only-of-type {\n",
       "        vertical-align: middle;\n",
       "    }\n",
       "\n",
       "    .dataframe tbody tr th {\n",
       "        vertical-align: top;\n",
       "    }\n",
       "\n",
       "    .dataframe thead th {\n",
       "        text-align: right;\n",
       "    }\n",
       "</style>\n",
       "<table border=\"1\" class=\"dataframe\">\n",
       "  <thead>\n",
       "    <tr style=\"text-align: right;\">\n",
       "      <th></th>\n",
       "      <th>timestamp</th>\n",
       "      <th>ccy</th>\n",
       "      <th>close</th>\n",
       "    </tr>\n",
       "  </thead>\n",
       "  <tbody>\n",
       "    <tr>\n",
       "      <th>101454</th>\n",
       "      <td>2019-04-10 05:07:00</td>\n",
       "      <td>nzdusd</td>\n",
       "      <td>0.67549</td>\n",
       "    </tr>\n",
       "    <tr>\n",
       "      <th>147004</th>\n",
       "      <td>2019-05-23 20:19:00</td>\n",
       "      <td>usdchf</td>\n",
       "      <td>1.00328</td>\n",
       "    </tr>\n",
       "    <tr>\n",
       "      <th>141352</th>\n",
       "      <td>2019-05-19 22:07:00</td>\n",
       "      <td>usdcad</td>\n",
       "      <td>1.34346</td>\n",
       "    </tr>\n",
       "    <tr>\n",
       "      <th>102603</th>\n",
       "      <td>2019-04-11 00:16:00</td>\n",
       "      <td>audusd</td>\n",
       "      <td>0.71588</td>\n",
       "    </tr>\n",
       "    <tr>\n",
       "      <th>86043</th>\n",
       "      <td>2019-03-26 10:14:00</td>\n",
       "      <td>eurusd</td>\n",
       "      <td>1.12906</td>\n",
       "    </tr>\n",
       "  </tbody>\n",
       "</table>\n",
       "</div>"
      ],
      "text/plain": [
       "                 timestamp     ccy    close\n",
       "101454 2019-04-10 05:07:00  nzdusd  0.67549\n",
       "147004 2019-05-23 20:19:00  usdchf  1.00328\n",
       "141352 2019-05-19 22:07:00  usdcad  1.34346\n",
       "102603 2019-04-11 00:16:00  audusd  0.71588\n",
       "86043  2019-03-26 10:14:00  eurusd  1.12906"
      ]
     },
     "execution_count": 22,
     "metadata": {},
     "output_type": "execute_result"
    }
   ],
   "source": [
    "X.sample(5)"
   ]
  },
  {
   "cell_type": "code",
   "execution_count": 23,
   "metadata": {
    "ExecuteTime": {
     "end_time": "2019-11-16T18:32:03.324663Z",
     "start_time": "2019-11-16T18:32:03.319588Z"
    }
   },
   "outputs": [],
   "source": [
    "assert X.shape[0] == len(ccy_list)*len(idx), \"We have some data loss.\""
   ]
  },
  {
   "cell_type": "markdown",
   "metadata": {},
   "source": [
    "## 2.7 Missing Data Analysis\n",
    "#### An imputing policy:\n",
    "- First we sort `X` by `ccy` and `timestamp`, and reset the index.\n",
    "- Then we group `X` by `ccy`\n",
    "- We finally forwardfill (use previous values to fill missing values)"
   ]
  },
  {
   "cell_type": "code",
   "execution_count": 24,
   "metadata": {
    "ExecuteTime": {
     "end_time": "2019-11-16T18:32:03.791527Z",
     "start_time": "2019-11-16T18:32:03.330030Z"
    }
   },
   "outputs": [],
   "source": [
    "X = X.sort_values(by=['ccy','timestamp'])\n",
    "X.reset_index(drop=True, inplace=True)"
   ]
  },
  {
   "cell_type": "markdown",
   "metadata": {},
   "source": [
    "### Missing data\n",
    "- `close': See below\n",
    "- We impute them by previous values (done by group)"
   ]
  },
  {
   "cell_type": "code",
   "execution_count": 25,
   "metadata": {
    "ExecuteTime": {
     "end_time": "2019-11-16T18:32:03.899765Z",
     "start_time": "2019-11-16T18:32:03.793752Z"
    }
   },
   "outputs": [
    {
     "data": {
      "text/plain": [
       "timestamp       0\n",
       "ccy             0\n",
       "close        7374\n",
       "dtype: int64"
      ]
     },
     "execution_count": 25,
     "metadata": {},
     "output_type": "execute_result"
    }
   ],
   "source": [
    "X.isna().sum()"
   ]
  },
  {
   "cell_type": "code",
   "execution_count": 26,
   "metadata": {
    "ExecuteTime": {
     "end_time": "2019-11-16T18:32:04.032611Z",
     "start_time": "2019-11-16T18:32:03.903041Z"
    }
   },
   "outputs": [],
   "source": [
    "g = X.groupby('ccy')\n",
    "X['close'] = g['close'].fillna(method='ffill')"
   ]
  },
  {
   "cell_type": "markdown",
   "metadata": {},
   "source": [
    "#### Sometimes we still have some rows with nan because 'ffill'can't be done due to no previous values."
   ]
  },
  {
   "cell_type": "code",
   "execution_count": 27,
   "metadata": {
    "ExecuteTime": {
     "end_time": "2019-11-16T18:32:04.041246Z",
     "start_time": "2019-11-16T18:32:04.035024Z"
    }
   },
   "outputs": [],
   "source": [
    "nan_timestamp = X.loc[X['close'].isna()].timestamp.unique()"
   ]
  },
  {
   "cell_type": "markdown",
   "metadata": {},
   "source": [
    "#### We have a list of `timestamp` for a nan row for any currency pair."
   ]
  },
  {
   "cell_type": "code",
   "execution_count": 28,
   "metadata": {
    "ExecuteTime": {
     "end_time": "2019-11-16T18:32:04.049376Z",
     "start_time": "2019-11-16T18:32:04.043787Z"
    }
   },
   "outputs": [
    {
     "data": {
      "text/plain": [
       "array(['2019-01-01T17:01:00.000000000', '2019-01-01T17:02:00.000000000',\n",
       "       '2019-01-01T17:03:00.000000000', '2019-01-01T17:04:00.000000000',\n",
       "       '2019-01-01T17:05:00.000000000', '2019-01-01T17:06:00.000000000',\n",
       "       '2019-01-01T17:07:00.000000000', '2019-01-01T17:08:00.000000000',\n",
       "       '2019-01-01T17:09:00.000000000', '2019-01-01T17:10:00.000000000'],\n",
       "      dtype='datetime64[ns]')"
      ]
     },
     "execution_count": 28,
     "metadata": {},
     "output_type": "execute_result"
    }
   ],
   "source": [
    "nan_timestamp"
   ]
  },
  {
   "cell_type": "markdown",
   "metadata": {
    "ExecuteTime": {
     "end_time": "2019-11-05T18:08:16.388714Z",
     "start_time": "2019-11-05T18:08:16.385933Z"
    }
   },
   "source": [
    "#### Any row in `nan_timestamp` will be dropped."
   ]
  },
  {
   "cell_type": "code",
   "execution_count": 29,
   "metadata": {
    "ExecuteTime": {
     "end_time": "2019-11-16T18:32:04.118774Z",
     "start_time": "2019-11-16T18:32:04.051768Z"
    }
   },
   "outputs": [],
   "source": [
    "X = X[~X['timestamp'].isin(nan_timestamp)]"
   ]
  },
  {
   "cell_type": "markdown",
   "metadata": {},
   "source": [
    "#### Now we have no missing value. Cleaning is *done*."
   ]
  },
  {
   "cell_type": "code",
   "execution_count": 30,
   "metadata": {
    "ExecuteTime": {
     "end_time": "2019-11-16T18:32:04.188436Z",
     "start_time": "2019-11-16T18:32:04.121147Z"
    }
   },
   "outputs": [
    {
     "data": {
      "text/plain": [
       "timestamp    0\n",
       "ccy          0\n",
       "close        0\n",
       "dtype: int64"
      ]
     },
     "execution_count": 30,
     "metadata": {},
     "output_type": "execute_result"
    }
   ],
   "source": [
    "X.isna().sum()"
   ]
  },
  {
   "cell_type": "markdown",
   "metadata": {},
   "source": [
    "## 2.8 Take the reciprocal if needed"
   ]
  },
  {
   "cell_type": "code",
   "execution_count": 31,
   "metadata": {
    "ExecuteTime": {
     "end_time": "2019-11-16T18:32:05.224293Z",
     "start_time": "2019-11-16T18:32:04.191497Z"
    }
   },
   "outputs": [
    {
     "name": "stderr",
     "output_type": "stream",
     "text": [
      "/Users/msyeom/anaconda3/envs/dl/lib/python3.6/site-packages/pandas/core/indexing.py:480: SettingWithCopyWarning: \n",
      "A value is trying to be set on a copy of a slice from a DataFrame.\n",
      "Try using .loc[row_indexer,col_indexer] = value instead\n",
      "\n",
      "See the caveats in the documentation: http://pandas.pydata.org/pandas-docs/stable/user_guide/indexing.html#returning-a-view-versus-a-copy\n",
      "  self.obj[item] = s\n"
     ]
    }
   ],
   "source": [
    "for ccy in ccy_reciprocal_list:\n",
    "    X.loc[X.ccy==ccy, 'close'] = np.reciprocal(X[X.ccy==ccy].loc[:,'close'])\n",
    "    X.loc[X.ccy==ccy, 'ccy'] = 'usd' + ccy[:3]"
   ]
  },
  {
   "cell_type": "markdown",
   "metadata": {},
   "source": [
    "### We make a new `ccy_list`\n",
    "- The order is fixed here manually."
   ]
  },
  {
   "cell_type": "code",
   "execution_count": 32,
   "metadata": {
    "ExecuteTime": {
     "end_time": "2019-11-16T18:32:05.229961Z",
     "start_time": "2019-11-16T18:32:05.226587Z"
    }
   },
   "outputs": [],
   "source": [
    "ccy_list = ['usdgbp', 'usdeur', 'usdchf', 'usdnok', 'usdsek', 'usdcad', 'usdaud', 'usdnzd', 'usdjpy']"
   ]
  },
  {
   "cell_type": "code",
   "execution_count": 33,
   "metadata": {
    "ExecuteTime": {
     "end_time": "2019-11-16T18:32:05.564566Z",
     "start_time": "2019-11-16T18:32:05.232880Z"
    }
   },
   "outputs": [
    {
     "name": "stderr",
     "output_type": "stream",
     "text": [
      "/Users/msyeom/anaconda3/envs/dl/lib/python3.6/site-packages/pandas/core/indexing.py:362: SettingWithCopyWarning: \n",
      "A value is trying to be set on a copy of a slice from a DataFrame.\n",
      "Try using .loc[row_indexer,col_indexer] = value instead\n",
      "\n",
      "See the caveats in the documentation: http://pandas.pydata.org/pandas-docs/stable/user_guide/indexing.html#returning-a-view-versus-a-copy\n",
      "  self.obj[key] = _infer_fill_value(value)\n"
     ]
    }
   ],
   "source": [
    "close_ret = np.log(X.loc[:,'close']) - np.log(X.loc[:,'close'].shift(-1))\n",
    "X.loc[X.loc[:,'ccy'] == X.loc[:,'ccy'].shift(), 'close_ret'] = close_ret"
   ]
  },
  {
   "cell_type": "code",
   "execution_count": 34,
   "metadata": {
    "ExecuteTime": {
     "end_time": "2019-11-16T18:32:05.681928Z",
     "start_time": "2019-11-16T18:32:05.567471Z"
    },
    "scrolled": true
   },
   "outputs": [
    {
     "data": {
      "text/html": [
       "<div>\n",
       "<style scoped>\n",
       "    .dataframe tbody tr th:only-of-type {\n",
       "        vertical-align: middle;\n",
       "    }\n",
       "\n",
       "    .dataframe tbody tr th {\n",
       "        vertical-align: top;\n",
       "    }\n",
       "\n",
       "    .dataframe thead th {\n",
       "        text-align: right;\n",
       "    }\n",
       "</style>\n",
       "<table border=\"1\" class=\"dataframe\">\n",
       "  <thead>\n",
       "    <tr style=\"text-align: right;\">\n",
       "      <th></th>\n",
       "      <th>timestamp</th>\n",
       "      <th>ccy</th>\n",
       "      <th>close</th>\n",
       "      <th>close_ret</th>\n",
       "    </tr>\n",
       "  </thead>\n",
       "  <tbody>\n",
       "    <tr>\n",
       "      <th>10</th>\n",
       "      <td>2019-01-01 17:11:00</td>\n",
       "      <td>usdaud</td>\n",
       "      <td>1.419064</td>\n",
       "      <td>NaN</td>\n",
       "    </tr>\n",
       "    <tr>\n",
       "      <th>155275</th>\n",
       "      <td>2019-01-01 17:11:00</td>\n",
       "      <td>usdeur</td>\n",
       "      <td>0.872547</td>\n",
       "      <td>NaN</td>\n",
       "    </tr>\n",
       "    <tr>\n",
       "      <th>310540</th>\n",
       "      <td>2019-01-01 17:11:00</td>\n",
       "      <td>usdgbp</td>\n",
       "      <td>0.785997</td>\n",
       "      <td>NaN</td>\n",
       "    </tr>\n",
       "    <tr>\n",
       "      <th>465805</th>\n",
       "      <td>2019-01-01 17:11:00</td>\n",
       "      <td>usdnzd</td>\n",
       "      <td>1.489469</td>\n",
       "      <td>NaN</td>\n",
       "    </tr>\n",
       "    <tr>\n",
       "      <th>621070</th>\n",
       "      <td>2019-01-01 17:11:00</td>\n",
       "      <td>usdcad</td>\n",
       "      <td>1.362840</td>\n",
       "      <td>NaN</td>\n",
       "    </tr>\n",
       "    <tr>\n",
       "      <th>776335</th>\n",
       "      <td>2019-01-01 17:11:00</td>\n",
       "      <td>usdchf</td>\n",
       "      <td>0.981130</td>\n",
       "      <td>NaN</td>\n",
       "    </tr>\n",
       "    <tr>\n",
       "      <th>931600</th>\n",
       "      <td>2019-01-01 17:11:00</td>\n",
       "      <td>usdjpy</td>\n",
       "      <td>109.652000</td>\n",
       "      <td>NaN</td>\n",
       "    </tr>\n",
       "    <tr>\n",
       "      <th>1086865</th>\n",
       "      <td>2019-01-01 17:11:00</td>\n",
       "      <td>usdnok</td>\n",
       "      <td>8.634650</td>\n",
       "      <td>NaN</td>\n",
       "    </tr>\n",
       "    <tr>\n",
       "      <th>1242130</th>\n",
       "      <td>2019-01-01 17:11:00</td>\n",
       "      <td>usdsek</td>\n",
       "      <td>8.857700</td>\n",
       "      <td>NaN</td>\n",
       "    </tr>\n",
       "  </tbody>\n",
       "</table>\n",
       "</div>"
      ],
      "text/plain": [
       "                  timestamp     ccy       close  close_ret\n",
       "10      2019-01-01 17:11:00  usdaud    1.419064        NaN\n",
       "155275  2019-01-01 17:11:00  usdeur    0.872547        NaN\n",
       "310540  2019-01-01 17:11:00  usdgbp    0.785997        NaN\n",
       "465805  2019-01-01 17:11:00  usdnzd    1.489469        NaN\n",
       "621070  2019-01-01 17:11:00  usdcad    1.362840        NaN\n",
       "776335  2019-01-01 17:11:00  usdchf    0.981130        NaN\n",
       "931600  2019-01-01 17:11:00  usdjpy  109.652000        NaN\n",
       "1086865 2019-01-01 17:11:00  usdnok    8.634650        NaN\n",
       "1242130 2019-01-01 17:11:00  usdsek    8.857700        NaN"
      ]
     },
     "execution_count": 34,
     "metadata": {},
     "output_type": "execute_result"
    }
   ],
   "source": [
    "X_boundary = X.loc[X['ccy'] != X['ccy'].shift()]\n",
    "X_boundary"
   ]
  },
  {
   "cell_type": "code",
   "execution_count": 35,
   "metadata": {
    "ExecuteTime": {
     "end_time": "2019-11-16T18:32:05.872312Z",
     "start_time": "2019-11-16T18:32:05.684469Z"
    }
   },
   "outputs": [
    {
     "name": "stderr",
     "output_type": "stream",
     "text": [
      "/Users/msyeom/anaconda3/envs/dl/lib/python3.6/site-packages/ipykernel_launcher.py:1: SettingWithCopyWarning: \n",
      "A value is trying to be set on a copy of a slice from a DataFrame\n",
      "\n",
      "See the caveats in the documentation: http://pandas.pydata.org/pandas-docs/stable/user_guide/indexing.html#returning-a-view-versus-a-copy\n",
      "  \"\"\"Entry point for launching an IPython kernel.\n"
     ]
    }
   ],
   "source": [
    "X.dropna(axis='index', how='any', inplace=True)"
   ]
  },
  {
   "cell_type": "code",
   "execution_count": 36,
   "metadata": {
    "ExecuteTime": {
     "end_time": "2019-11-16T18:32:05.959929Z",
     "start_time": "2019-11-16T18:32:05.875774Z"
    },
    "scrolled": true
   },
   "outputs": [
    {
     "data": {
      "text/plain": [
       "timestamp    0\n",
       "ccy          0\n",
       "close        0\n",
       "close_ret    0\n",
       "dtype: int64"
      ]
     },
     "execution_count": 36,
     "metadata": {},
     "output_type": "execute_result"
    }
   ],
   "source": [
    "X.isna().sum()"
   ]
  },
  {
   "cell_type": "code",
   "execution_count": 37,
   "metadata": {
    "ExecuteTime": {
     "end_time": "2019-11-16T18:32:05.972480Z",
     "start_time": "2019-11-16T18:32:05.962867Z"
    }
   },
   "outputs": [],
   "source": [
    "X.reset_index(drop=True, inplace=True)"
   ]
  },
  {
   "cell_type": "code",
   "execution_count": 38,
   "metadata": {
    "ExecuteTime": {
     "end_time": "2019-11-16T18:32:05.993899Z",
     "start_time": "2019-11-16T18:32:05.977346Z"
    }
   },
   "outputs": [
    {
     "data": {
      "text/html": [
       "<div>\n",
       "<style scoped>\n",
       "    .dataframe tbody tr th:only-of-type {\n",
       "        vertical-align: middle;\n",
       "    }\n",
       "\n",
       "    .dataframe tbody tr th {\n",
       "        vertical-align: top;\n",
       "    }\n",
       "\n",
       "    .dataframe thead th {\n",
       "        text-align: right;\n",
       "    }\n",
       "</style>\n",
       "<table border=\"1\" class=\"dataframe\">\n",
       "  <thead>\n",
       "    <tr style=\"text-align: right;\">\n",
       "      <th></th>\n",
       "      <th>timestamp</th>\n",
       "      <th>ccy</th>\n",
       "      <th>close</th>\n",
       "      <th>close_ret</th>\n",
       "    </tr>\n",
       "  </thead>\n",
       "  <tbody>\n",
       "    <tr>\n",
       "      <th>0</th>\n",
       "      <td>2019-01-01 17:12:00</td>\n",
       "      <td>usdaud</td>\n",
       "      <td>1.419064</td>\n",
       "      <td>-0.000028</td>\n",
       "    </tr>\n",
       "    <tr>\n",
       "      <th>1</th>\n",
       "      <td>2019-01-01 17:13:00</td>\n",
       "      <td>usdaud</td>\n",
       "      <td>1.419104</td>\n",
       "      <td>0.000000</td>\n",
       "    </tr>\n",
       "    <tr>\n",
       "      <th>2</th>\n",
       "      <td>2019-01-01 17:14:00</td>\n",
       "      <td>usdaud</td>\n",
       "      <td>1.419104</td>\n",
       "      <td>-0.000057</td>\n",
       "    </tr>\n",
       "    <tr>\n",
       "      <th>3</th>\n",
       "      <td>2019-01-01 17:15:00</td>\n",
       "      <td>usdaud</td>\n",
       "      <td>1.419185</td>\n",
       "      <td>0.000028</td>\n",
       "    </tr>\n",
       "    <tr>\n",
       "      <th>4</th>\n",
       "      <td>2019-01-01 17:16:00</td>\n",
       "      <td>usdaud</td>\n",
       "      <td>1.419144</td>\n",
       "      <td>0.000014</td>\n",
       "    </tr>\n",
       "  </tbody>\n",
       "</table>\n",
       "</div>"
      ],
      "text/plain": [
       "            timestamp     ccy     close  close_ret\n",
       "0 2019-01-01 17:12:00  usdaud  1.419064  -0.000028\n",
       "1 2019-01-01 17:13:00  usdaud  1.419104   0.000000\n",
       "2 2019-01-01 17:14:00  usdaud  1.419104  -0.000057\n",
       "3 2019-01-01 17:15:00  usdaud  1.419185   0.000028\n",
       "4 2019-01-01 17:16:00  usdaud  1.419144   0.000014"
      ]
     },
     "execution_count": 38,
     "metadata": {},
     "output_type": "execute_result"
    }
   ],
   "source": [
    "X.head()"
   ]
  },
  {
   "cell_type": "markdown",
   "metadata": {},
   "source": [
    "## 2.9 Let's plot for a visual check."
   ]
  },
  {
   "cell_type": "code",
   "execution_count": 39,
   "metadata": {
    "ExecuteTime": {
     "end_time": "2019-11-16T18:32:06.026276Z",
     "start_time": "2019-11-16T18:32:06.005993Z"
    }
   },
   "outputs": [],
   "source": [
    "# Code: https://stackoverflow.com/questions/11640243/pandas-plot-multiple-y-axes\n",
    "def plot_multi(data, cols=None, spacing=.1, **kwargs):\n",
    "\n",
    "    from pandas import plotting\n",
    "\n",
    "    # Get default color style from pandas - can be changed to any other color list\n",
    "    if cols is None: cols = data.columns\n",
    "    if len(cols) == 0: return\n",
    "    colors = getattr(getattr(plotting, '_matplotlib').style, '_get_standard_colors')(num_colors=len(cols))\n",
    "\n",
    "    # First axis\n",
    "    ax = data.loc[:, cols[0]].plot(label=cols[0], color=colors[0], **kwargs)\n",
    "    ax.set_ylabel(ylabel=cols[0])\n",
    "    ax.tick_params(axis='y', colors=colors[0])\n",
    "    lines, labels = ax.get_legend_handles_labels()\n",
    "\n",
    "    for n in range(1, len(cols)):\n",
    "        # Multiple y-axes\n",
    "        ax_new = ax.twinx()\n",
    "        ax_new.spines['right'].set_position(('axes', 1 + spacing * (n - 1)))\n",
    "        data.loc[:, cols[n]].plot(ax=ax_new, label=cols[n], color=colors[n % len(colors)])\n",
    "        ax_new.set_ylabel(ylabel=cols[n])\n",
    "        ax_new.tick_params(axis='y', colors=colors[n % len(colors)])\n",
    "\n",
    "        # Proper legend position\n",
    "        line, label = ax_new.get_legend_handles_labels()\n",
    "        lines += line\n",
    "        labels += label\n",
    "\n",
    "    ax.legend(lines, labels, loc=0)\n",
    "    return ax"
   ]
  },
  {
   "cell_type": "code",
   "execution_count": 40,
   "metadata": {
    "ExecuteTime": {
     "end_time": "2019-11-16T18:32:06.794207Z",
     "start_time": "2019-11-16T18:32:06.031972Z"
    }
   },
   "outputs": [],
   "source": [
    "close_dict = dict()\n",
    "for ccy in ccy_list:\n",
    "    close_dict[ccy] = X[X.ccy==ccy].close.reset_index(drop=True)\n",
    "X_close = pd.DataFrame(close_dict)"
   ]
  },
  {
   "cell_type": "code",
   "execution_count": 41,
   "metadata": {
    "ExecuteTime": {
     "end_time": "2019-11-16T18:32:06.809203Z",
     "start_time": "2019-11-16T18:32:06.796385Z"
    }
   },
   "outputs": [
    {
     "data": {
      "text/html": [
       "<div>\n",
       "<style scoped>\n",
       "    .dataframe tbody tr th:only-of-type {\n",
       "        vertical-align: middle;\n",
       "    }\n",
       "\n",
       "    .dataframe tbody tr th {\n",
       "        vertical-align: top;\n",
       "    }\n",
       "\n",
       "    .dataframe thead th {\n",
       "        text-align: right;\n",
       "    }\n",
       "</style>\n",
       "<table border=\"1\" class=\"dataframe\">\n",
       "  <thead>\n",
       "    <tr style=\"text-align: right;\">\n",
       "      <th></th>\n",
       "      <th>usdgbp</th>\n",
       "      <th>usdeur</th>\n",
       "      <th>usdchf</th>\n",
       "      <th>usdnok</th>\n",
       "      <th>usdsek</th>\n",
       "      <th>usdcad</th>\n",
       "      <th>usdaud</th>\n",
       "      <th>usdnzd</th>\n",
       "      <th>usdjpy</th>\n",
       "    </tr>\n",
       "  </thead>\n",
       "  <tbody>\n",
       "    <tr>\n",
       "      <th>0</th>\n",
       "      <td>0.785583</td>\n",
       "      <td>0.872539</td>\n",
       "      <td>0.98098</td>\n",
       "      <td>8.63465</td>\n",
       "      <td>8.8577</td>\n",
       "      <td>1.36281</td>\n",
       "      <td>1.419064</td>\n",
       "      <td>1.489469</td>\n",
       "      <td>109.653</td>\n",
       "    </tr>\n",
       "    <tr>\n",
       "      <th>1</th>\n",
       "      <td>0.785577</td>\n",
       "      <td>0.872547</td>\n",
       "      <td>0.98096</td>\n",
       "      <td>8.63466</td>\n",
       "      <td>8.8577</td>\n",
       "      <td>1.36255</td>\n",
       "      <td>1.419104</td>\n",
       "      <td>1.489469</td>\n",
       "      <td>109.652</td>\n",
       "    </tr>\n",
       "    <tr>\n",
       "      <th>2</th>\n",
       "      <td>0.785688</td>\n",
       "      <td>0.872539</td>\n",
       "      <td>0.98046</td>\n",
       "      <td>8.63465</td>\n",
       "      <td>8.8577</td>\n",
       "      <td>1.36255</td>\n",
       "      <td>1.419104</td>\n",
       "      <td>1.489447</td>\n",
       "      <td>109.623</td>\n",
       "    </tr>\n",
       "    <tr>\n",
       "      <th>3</th>\n",
       "      <td>0.785688</td>\n",
       "      <td>0.872547</td>\n",
       "      <td>0.98046</td>\n",
       "      <td>8.63465</td>\n",
       "      <td>8.8577</td>\n",
       "      <td>1.36255</td>\n",
       "      <td>1.419185</td>\n",
       "      <td>1.489492</td>\n",
       "      <td>109.660</td>\n",
       "    </tr>\n",
       "    <tr>\n",
       "      <th>4</th>\n",
       "      <td>0.785688</td>\n",
       "      <td>0.872547</td>\n",
       "      <td>0.98045</td>\n",
       "      <td>8.63465</td>\n",
       "      <td>8.8577</td>\n",
       "      <td>1.36256</td>\n",
       "      <td>1.419144</td>\n",
       "      <td>1.489492</td>\n",
       "      <td>109.665</td>\n",
       "    </tr>\n",
       "  </tbody>\n",
       "</table>\n",
       "</div>"
      ],
      "text/plain": [
       "     usdgbp    usdeur   usdchf   usdnok  usdsek   usdcad    usdaud    usdnzd  \\\n",
       "0  0.785583  0.872539  0.98098  8.63465  8.8577  1.36281  1.419064  1.489469   \n",
       "1  0.785577  0.872547  0.98096  8.63466  8.8577  1.36255  1.419104  1.489469   \n",
       "2  0.785688  0.872539  0.98046  8.63465  8.8577  1.36255  1.419104  1.489447   \n",
       "3  0.785688  0.872547  0.98046  8.63465  8.8577  1.36255  1.419185  1.489492   \n",
       "4  0.785688  0.872547  0.98045  8.63465  8.8577  1.36256  1.419144  1.489492   \n",
       "\n",
       "    usdjpy  \n",
       "0  109.653  \n",
       "1  109.652  \n",
       "2  109.623  \n",
       "3  109.660  \n",
       "4  109.665  "
      ]
     },
     "execution_count": 41,
     "metadata": {},
     "output_type": "execute_result"
    }
   ],
   "source": [
    "X_close.head()"
   ]
  },
  {
   "cell_type": "markdown",
   "metadata": {},
   "source": [
    "#### Close prices"
   ]
  },
  {
   "cell_type": "code",
   "execution_count": 42,
   "metadata": {
    "ExecuteTime": {
     "end_time": "2019-11-16T18:32:09.574385Z",
     "start_time": "2019-11-16T18:32:06.812117Z"
    },
    "scrolled": true
   },
   "outputs": [
    {
     "data": {
      "text/plain": [
       "<matplotlib.axes._subplots.AxesSubplot at 0x1290da400>"
      ]
     },
     "execution_count": 42,
     "metadata": {},
     "output_type": "execute_result"
    },
    {
     "data": {
      "image/png": "[encoded data removed]",
      "text/plain": [
       "<Figure size 720x360 with 9 Axes>"
      ]
     },
     "metadata": {},
     "output_type": "display_data"
    }
   ],
   "source": [
    "plot_multi(X_close, figsize=(10, 5))"
   ]
  },
  {
   "cell_type": "markdown",
   "metadata": {},
   "source": [
    "#### Ask prices"
   ]
  },
  {
   "cell_type": "code",
   "execution_count": null,
   "metadata": {},
   "outputs": [],
   "source": []
  },
  {
   "cell_type": "markdown",
   "metadata": {},
   "source": [
    "# 3. Data set `X` is ready"
   ]
  },
  {
   "cell_type": "markdown",
   "metadata": {},
   "source": [
    "## 3.1 Take a look"
   ]
  },
  {
   "cell_type": "code",
   "execution_count": 43,
   "metadata": {
    "ExecuteTime": {
     "end_time": "2019-11-16T18:32:09.581231Z",
     "start_time": "2019-11-16T18:32:09.576729Z"
    }
   },
   "outputs": [
    {
     "data": {
      "text/plain": [
       "(1397285, 4)"
      ]
     },
     "execution_count": 43,
     "metadata": {},
     "output_type": "execute_result"
    }
   ],
   "source": [
    "X.shape"
   ]
  },
  {
   "cell_type": "code",
   "execution_count": 44,
   "metadata": {
    "ExecuteTime": {
     "end_time": "2019-11-16T18:32:09.655108Z",
     "start_time": "2019-11-16T18:32:09.583274Z"
    }
   },
   "outputs": [
    {
     "data": {
      "text/html": [
       "<div>\n",
       "<style scoped>\n",
       "    .dataframe tbody tr th:only-of-type {\n",
       "        vertical-align: middle;\n",
       "    }\n",
       "\n",
       "    .dataframe tbody tr th {\n",
       "        vertical-align: top;\n",
       "    }\n",
       "\n",
       "    .dataframe thead th {\n",
       "        text-align: right;\n",
       "    }\n",
       "</style>\n",
       "<table border=\"1\" class=\"dataframe\">\n",
       "  <thead>\n",
       "    <tr style=\"text-align: right;\">\n",
       "      <th></th>\n",
       "      <th>timestamp</th>\n",
       "      <th>ccy</th>\n",
       "      <th>close</th>\n",
       "      <th>close_ret</th>\n",
       "    </tr>\n",
       "  </thead>\n",
       "  <tbody>\n",
       "    <tr>\n",
       "      <th>276821</th>\n",
       "      <td>2019-04-30 04:31:00</td>\n",
       "      <td>usdeur</td>\n",
       "      <td>0.892594</td>\n",
       "      <td>-0.000071</td>\n",
       "    </tr>\n",
       "    <tr>\n",
       "      <th>688350</th>\n",
       "      <td>2019-03-07 11:36:00</td>\n",
       "      <td>usdcad</td>\n",
       "      <td>1.342500</td>\n",
       "      <td>0.000149</td>\n",
       "    </tr>\n",
       "    <tr>\n",
       "      <th>949068</th>\n",
       "      <td>2019-01-17 21:36:00</td>\n",
       "      <td>usdjpy</td>\n",
       "      <td>109.331000</td>\n",
       "      <td>0.000027</td>\n",
       "    </tr>\n",
       "    <tr>\n",
       "      <th>614139</th>\n",
       "      <td>2019-05-26 22:22:00</td>\n",
       "      <td>usdnzd</td>\n",
       "      <td>1.526881</td>\n",
       "      <td>0.000000</td>\n",
       "    </tr>\n",
       "    <tr>\n",
       "      <th>410032</th>\n",
       "      <td>2019-04-08 21:08:00</td>\n",
       "      <td>usdgbp</td>\n",
       "      <td>0.765439</td>\n",
       "      <td>-0.000038</td>\n",
       "    </tr>\n",
       "  </tbody>\n",
       "</table>\n",
       "</div>"
      ],
      "text/plain": [
       "                 timestamp     ccy       close  close_ret\n",
       "276821 2019-04-30 04:31:00  usdeur    0.892594  -0.000071\n",
       "688350 2019-03-07 11:36:00  usdcad    1.342500   0.000149\n",
       "949068 2019-01-17 21:36:00  usdjpy  109.331000   0.000027\n",
       "614139 2019-05-26 22:22:00  usdnzd    1.526881   0.000000\n",
       "410032 2019-04-08 21:08:00  usdgbp    0.765439  -0.000038"
      ]
     },
     "execution_count": 44,
     "metadata": {},
     "output_type": "execute_result"
    }
   ],
   "source": [
    "X.sample(5)"
   ]
  },
  {
   "cell_type": "code",
   "execution_count": 45,
   "metadata": {
    "ExecuteTime": {
     "end_time": "2019-11-16T18:32:09.748285Z",
     "start_time": "2019-11-16T18:32:09.657703Z"
    }
   },
   "outputs": [
    {
     "data": {
      "text/html": [
       "<div>\n",
       "<style scoped>\n",
       "    .dataframe tbody tr th:only-of-type {\n",
       "        vertical-align: middle;\n",
       "    }\n",
       "\n",
       "    .dataframe tbody tr th {\n",
       "        vertical-align: top;\n",
       "    }\n",
       "\n",
       "    .dataframe thead th {\n",
       "        text-align: right;\n",
       "    }\n",
       "</style>\n",
       "<table border=\"1\" class=\"dataframe\">\n",
       "  <thead>\n",
       "    <tr style=\"text-align: right;\">\n",
       "      <th></th>\n",
       "      <th>timestamp</th>\n",
       "      <th>ccy</th>\n",
       "      <th>close</th>\n",
       "      <th>close_ret</th>\n",
       "    </tr>\n",
       "  </thead>\n",
       "  <tbody>\n",
       "    <tr>\n",
       "      <th>310508</th>\n",
       "      <td>2019-01-01 17:12:00</td>\n",
       "      <td>usdgbp</td>\n",
       "      <td>0.785583</td>\n",
       "      <td>0.000008</td>\n",
       "    </tr>\n",
       "    <tr>\n",
       "      <th>310509</th>\n",
       "      <td>2019-01-01 17:13:00</td>\n",
       "      <td>usdgbp</td>\n",
       "      <td>0.785577</td>\n",
       "      <td>-0.000141</td>\n",
       "    </tr>\n",
       "    <tr>\n",
       "      <th>310510</th>\n",
       "      <td>2019-01-01 17:14:00</td>\n",
       "      <td>usdgbp</td>\n",
       "      <td>0.785688</td>\n",
       "      <td>0.000000</td>\n",
       "    </tr>\n",
       "    <tr>\n",
       "      <th>310511</th>\n",
       "      <td>2019-01-01 17:15:00</td>\n",
       "      <td>usdgbp</td>\n",
       "      <td>0.785688</td>\n",
       "      <td>0.000000</td>\n",
       "    </tr>\n",
       "    <tr>\n",
       "      <th>310512</th>\n",
       "      <td>2019-01-01 17:16:00</td>\n",
       "      <td>usdgbp</td>\n",
       "      <td>0.785688</td>\n",
       "      <td>0.000000</td>\n",
       "    </tr>\n",
       "  </tbody>\n",
       "</table>\n",
       "</div>"
      ],
      "text/plain": [
       "                 timestamp     ccy     close  close_ret\n",
       "310508 2019-01-01 17:12:00  usdgbp  0.785583   0.000008\n",
       "310509 2019-01-01 17:13:00  usdgbp  0.785577  -0.000141\n",
       "310510 2019-01-01 17:14:00  usdgbp  0.785688   0.000000\n",
       "310511 2019-01-01 17:15:00  usdgbp  0.785688   0.000000\n",
       "310512 2019-01-01 17:16:00  usdgbp  0.785688   0.000000"
      ]
     },
     "execution_count": 45,
     "metadata": {},
     "output_type": "execute_result"
    }
   ],
   "source": [
    "X[X.ccy=='usdgbp'].head(5)"
   ]
  },
  {
   "cell_type": "markdown",
   "metadata": {},
   "source": [
    "## Split: Training set and Validation set(=evaluation set)\n",
    "- Training set `X_train`: The first two and a half weeks (From May 1, 2019 to May 19, 2019)\n",
    "- Validation set `X_val`: The following one week (From May 20, 2019 to May 26, 2019)\n",
    "- Test set `X_test`: The rest of days (From May 27, 2019 to May 31, 2019)\n",
    "  - In fact, we never create `X_test` until the very last moment."
   ]
  },
  {
   "cell_type": "code",
   "execution_count": 46,
   "metadata": {
    "ExecuteTime": {
     "end_time": "2019-11-16T18:32:09.817571Z",
     "start_time": "2019-11-16T18:32:09.750365Z"
    }
   },
   "outputs": [],
   "source": [
    "X_train = X[(X.timestamp >= pd.datetime(2019, 1, 1)) &\n",
    "            (X.timestamp < pd.datetime(2019, 4, 1))]\n",
    "X_val = X[(X.timestamp >= pd.datetime(2019, 4, 1)) &\n",
    "          (X.timestamp < pd.datetime(2019, 5, 1))]"
   ]
  },
  {
   "cell_type": "code",
   "execution_count": 47,
   "metadata": {
    "ExecuteTime": {
     "end_time": "2019-11-16T18:32:09.986579Z",
     "start_time": "2019-11-16T18:32:09.819813Z"
    }
   },
   "outputs": [
    {
     "name": "stderr",
     "output_type": "stream",
     "text": [
      "/Users/msyeom/anaconda3/envs/dl/lib/python3.6/site-packages/pandas/core/frame.py:4097: SettingWithCopyWarning: \n",
      "A value is trying to be set on a copy of a slice from a DataFrame\n",
      "\n",
      "See the caveats in the documentation: http://pandas.pydata.org/pandas-docs/stable/user_guide/indexing.html#returning-a-view-versus-a-copy\n",
      "  errors=errors,\n"
     ]
    }
   ],
   "source": [
    "X.drop(X[(X.timestamp >= pd.datetime(2019, 5, 27)) & (\n",
    "    X.timestamp < pd.datetime(2019, 6, 1))].index, inplace=True)"
   ]
  },
  {
   "cell_type": "code",
   "execution_count": 50,
   "metadata": {
    "ExecuteTime": {
     "end_time": "2019-11-16T18:35:02.450307Z",
     "start_time": "2019-11-16T18:35:02.439403Z"
    },
    "scrolled": true
   },
   "outputs": [
    {
     "data": {
      "text/html": [
       "<div>\n",
       "<style scoped>\n",
       "    .dataframe tbody tr th:only-of-type {\n",
       "        vertical-align: middle;\n",
       "    }\n",
       "\n",
       "    .dataframe tbody tr th {\n",
       "        vertical-align: top;\n",
       "    }\n",
       "\n",
       "    .dataframe thead th {\n",
       "        text-align: right;\n",
       "    }\n",
       "</style>\n",
       "<table border=\"1\" class=\"dataframe\">\n",
       "  <thead>\n",
       "    <tr style=\"text-align: right;\">\n",
       "      <th></th>\n",
       "      <th>timestamp</th>\n",
       "      <th>ccy</th>\n",
       "      <th>close</th>\n",
       "      <th>close_ret</th>\n",
       "    </tr>\n",
       "  </thead>\n",
       "  <tbody>\n",
       "    <tr>\n",
       "      <th>1390502</th>\n",
       "      <td>2019-05-26 23:55:00</td>\n",
       "      <td>usdsek</td>\n",
       "      <td>9.52895</td>\n",
       "      <td>0.0</td>\n",
       "    </tr>\n",
       "    <tr>\n",
       "      <th>1390503</th>\n",
       "      <td>2019-05-26 23:56:00</td>\n",
       "      <td>usdsek</td>\n",
       "      <td>9.52895</td>\n",
       "      <td>0.0</td>\n",
       "    </tr>\n",
       "    <tr>\n",
       "      <th>1390504</th>\n",
       "      <td>2019-05-26 23:57:00</td>\n",
       "      <td>usdsek</td>\n",
       "      <td>9.52895</td>\n",
       "      <td>0.0</td>\n",
       "    </tr>\n",
       "    <tr>\n",
       "      <th>1390505</th>\n",
       "      <td>2019-05-26 23:58:00</td>\n",
       "      <td>usdsek</td>\n",
       "      <td>9.52895</td>\n",
       "      <td>0.0</td>\n",
       "    </tr>\n",
       "    <tr>\n",
       "      <th>1390506</th>\n",
       "      <td>2019-05-26 23:59:00</td>\n",
       "      <td>usdsek</td>\n",
       "      <td>9.52895</td>\n",
       "      <td>0.0</td>\n",
       "    </tr>\n",
       "  </tbody>\n",
       "</table>\n",
       "</div>"
      ],
      "text/plain": [
       "                  timestamp     ccy    close  close_ret\n",
       "1390502 2019-05-26 23:55:00  usdsek  9.52895        0.0\n",
       "1390503 2019-05-26 23:56:00  usdsek  9.52895        0.0\n",
       "1390504 2019-05-26 23:57:00  usdsek  9.52895        0.0\n",
       "1390505 2019-05-26 23:58:00  usdsek  9.52895        0.0\n",
       "1390506 2019-05-26 23:59:00  usdsek  9.52895        0.0"
      ]
     },
     "execution_count": 50,
     "metadata": {},
     "output_type": "execute_result"
    }
   ],
   "source": [
    "X.tail()"
   ]
  },
  {
   "cell_type": "markdown",
   "metadata": {},
   "source": [
    "## 3.2 Save to csv files"
   ]
  },
  {
   "cell_type": "code",
   "execution_count": 49,
   "metadata": {
    "ExecuteTime": {
     "end_time": "2019-11-16T18:32:16.742833Z",
     "start_time": "2019-11-16T18:32:10.007687Z"
    }
   },
   "outputs": [],
   "source": [
    "X_train.to_csv('../dataset/toy_X_train_close.csv', index=False)\n",
    "X_val.to_csv('../dataset/toy_X_val_close.csv', index=False)"
   ]
  },
  {
   "cell_type": "markdown",
   "metadata": {},
   "source": [
    "### The end of preprocessing ------------------------------------------------"
   ]
  },
  {
   "cell_type": "code",
   "execution_count": 56,
   "metadata": {
    "ExecuteTime": {
     "end_time": "2019-11-05T18:20:26.942056Z",
     "start_time": "2019-11-05T18:20:26.760467Z"
    }
   },
   "outputs": [
    {
     "data": {
      "text/plain": [
       "((91057, 7), (91057, 7), (91057, 7))"
      ]
     },
     "execution_count": 56,
     "metadata": {},
     "output_type": "execute_result"
    }
   ],
   "source": [
    "X_train[X_train.ccy=='usdjpy'].shape, X_train[X_train.ccy=='eurusd'].shape, X_train[X_train.ccy=='gbpusd'].shape"
   ]
  },
  {
   "cell_type": "code",
   "execution_count": 57,
   "metadata": {
    "ExecuteTime": {
     "end_time": "2019-11-05T18:20:50.223315Z",
     "start_time": "2019-11-05T18:20:50.218238Z"
    }
   },
   "outputs": [
    {
     "data": {
      "text/plain": [
       "62.36780821917808"
      ]
     },
     "execution_count": 57,
     "metadata": {},
     "output_type": "execute_result"
    }
   ],
   "source": [
    "91057/1460"
   ]
  },
  {
   "cell_type": "code",
   "execution_count": null,
   "metadata": {},
   "outputs": [],
   "source": []
  },
  {
   "cell_type": "markdown",
   "metadata": {},
   "source": [
    "# Dat2019/DRL/run.py"
   ]
  },
  {
   "cell_type": "markdown",
   "metadata": {},
   "source": [
    "#### Import required packages"
   ]
  },
  {
   "cell_type": "code",
   "execution_count": 51,
   "metadata": {
    "ExecuteTime": {
     "end_time": "2019-11-03T17:59:26.157631Z",
     "start_time": "2019-11-03T17:59:26.152296Z"
    }
   },
   "outputs": [],
   "source": [
    "from __future__ import absolute_import, division, print_function, unicode_literals\n",
    "\n",
    "import numpy as np\n",
    "\n",
    "# utils\n",
    "import time\n",
    "\n",
    "# TensorFlow\n",
    "import tensorflow as tf\n",
    "import tensorflow.keras.optimizers as kop\n",
    "import tensorflow.keras.losses as kls\n",
    "from tensorflow.keras.layers import Dense\n",
    "from tensorflow.keras import Model"
   ]
  },
  {
   "cell_type": "markdown",
   "metadata": {},
   "source": [
    "#### Import our packages"
   ]
  },
  {
   "cell_type": "code",
   "execution_count": 45,
   "metadata": {
    "ExecuteTime": {
     "end_time": "2019-11-03T17:58:16.893349Z",
     "start_time": "2019-11-03T17:58:16.889726Z"
    }
   },
   "outputs": [],
   "source": [
    "from features import draw_episode"
   ]
  },
  {
   "cell_type": "markdown",
   "metadata": {},
   "source": [
    "#### Configuration\n",
    "- *Json* format or something else will be used later, but for now..."
   ]
  },
  {
   "cell_type": "code",
   "execution_count": 53,
   "metadata": {
    "ExecuteTime": {
     "end_time": "2019-11-03T18:00:31.882655Z",
     "start_time": "2019-11-03T18:00:31.878156Z"
    }
   },
   "outputs": [],
   "source": [
    "config = {}\n",
    "config['lag'] = 20\n",
    "config['ep_size'] = 100\n",
    "config['init_lr'] = 0.005\n",
    "config['momentum'] = 0.9\n",
    "config['num_of_eval_data'] = 30\n",
    "config['target_currency'] = 'audusd'\n",
    "config['epochs'] = 100\n",
    "config['timespan'] = 1440   # one full day (1440 minutes)\n",
    "\n",
    "tf.keras.backend.set_floatx('float64')"
   ]
  },
  {
   "cell_type": "code",
   "execution_count": 47,
   "metadata": {
    "ExecuteTime": {
     "end_time": "2019-11-03T17:58:16.908989Z",
     "start_time": "2019-11-03T17:58:16.902741Z"
    }
   },
   "outputs": [],
   "source": [
    "class Policy(Model):\n",
    "    def __init__(self):\n",
    "        super(Policy, self).__init__('mlp_policy')\n",
    "        self.fc1 = Dense(units=256, activation='relu')\n",
    "        self.fc2 = Dense(units=64, activation='relu')\n",
    "        self.value = Dense(1, activation='tanh', name='value')\n",
    "        \n",
    "        self.saved_log_probs = []\n",
    "        self.rewards = 0\n",
    "#         self.actions = []\n",
    "        \n",
    "    def call(self, inputs):\n",
    "        # `inputs` is a numpy array. We convert to Tensor.\n",
    "        x = tf.convert_to_tensor(inputs)\n",
    "        \n",
    "        x = self.fc1(x)\n",
    "        x = self.fc2(x)\n",
    "        x = self.value(x)\n",
    "        \n",
    "        return x\n",
    "    \n",
    "#     def choose_action(self, obs):\n",
    "#         # self.call() will be executed under the hool.\n",
    "#         value = self.predict(obs)\n",
    "        \n",
    "#         return np.squeeze(value, axis=-1)"
   ]
  },
  {
   "cell_type": "code",
   "execution_count": 48,
   "metadata": {
    "ExecuteTime": {
     "end_time": "2019-11-03T17:58:16.927866Z",
     "start_time": "2019-11-03T17:58:16.911604Z"
    }
   },
   "outputs": [],
   "source": [
    "policy = Policy()"
   ]
  },
  {
   "cell_type": "code",
   "execution_count": 49,
   "metadata": {
    "ExecuteTime": {
     "end_time": "2019-11-03T17:58:20.456082Z",
     "start_time": "2019-11-03T17:58:20.443990Z"
    }
   },
   "outputs": [],
   "source": [
    "def train_eval():\n",
    "    # We use an optimizer defined in Keras (kop)\n",
    "    optimizer = kop.SGD(\n",
    "        learning_rate=config['init_lr'], momentum=config['momentum'], name='SGD')\n",
    "\n",
    "    # Machine limits for floating point types.\n",
    "    eps = np.finfo(np.float64).eps.item()\n",
    "    rewards_over_time = []\n",
    "\n",
    "    num_of_eval_data = config['num_of_eval_data']\n",
    "    path = './base/best_model_' + \\\n",
    "        config['target_currency'] + str(time.time()) + '.tf'\n",
    "\n",
    "    for epoch in range(config['epochs']):\n",
    "        for ep_idx in range(config['ep_size']):\n",
    "            prev_action = 0\n",
    "            # n is `n-th` episode\n",
    "            # ep_size is a length of one episode.\n",
    "            # in draw_episode(), X[n:n+ep_size+1] will be used.\n",
    "            \n",
    "            # For a lag of 20,\n",
    "            # feature_span[0] := [20 target's log return(bid prices),\n",
    "            #                     20 target's log return(ask prices),\n",
    "            #                     8*20 others' log return(bid prices),\n",
    "            #                     8*20 others' log return(ask prices)]\n",
    "            #     at the oldest time stamp.\n",
    "            # (feature_span[-1] has features at the latest)\n",
    "            # Features are nomalized within draw_episode()\n",
    "            target_bid, target_ask, feature_span = \\\n",
    "                draw_episode(X=X_train, cur=config['target_currency'],\n",
    "                             n=ep_idx, ep_size=config['ep_size'],\n",
    "                             lag=config['lag'])\n",
    "            bid, ask, features = target_bid[config['lag']:] * 1e3, \\\n",
    "                            target_ask[config['lag']:]*1e3, \\\n",
    "                            feature_span\n",
    "            \n",
    "            # We loop through time stamps in order within an episode.\n",
    "            for t in range(config['timespan']):\n",
    "                observation = feature_span[t]\n",
    "                \n",
    "                # The neural networks returns an action-like value\n",
    "                # `state` is a numpy array.\n",
    "                action_by_nets = policy(observation)\n",
    "                \n",
    "                # An actual action to take should effectively cause a trade.\n",
    "                # Therefore, we subtract `prev_action_by_nets`\n",
    "                # from `action_by_nets` and take it as our `action`\n",
    "                action = action_by_nets - prev_action\n",
    "                print(action, action.shape)\n",
    "                price = 0\n",
    "                if action > 0:\n",
    "                    price = ask[t]  # We buy\n",
    "                elif action < 0:\n",
    "                    price = bid[t]  # We sell\n",
    "                \n",
    "                # This is an immediate reward caused by taking an action\n",
    "                reward = tf.math.add(-1*action*price)\n",
    "                \n",
    "                # Accumulated rewards\n",
    "                policy.rewards += reward\n",
    "                \n",
    "                prev_action = action_by_nets\n",
    "            \n",
    "            # Now that we've completed one episode,\n",
    "            # we optimize the neural nets.\n",
    "            losses = policy.train_on_batch(-policy.rewards / config['timespan'])\n",
    "#             with tf.GradientTape() as tape:\n",
    "#                 loss = -policy.rewards / config['timespan']\n",
    "#             grads = tape.gradient(loss, policy.trainable_variables)\n",
    "#             optimizer.apply_gradient(zip(grads, model.trainable_variables))\n",
    "            \n",
    "            if ep_idx % 10 == 0:\n",
    "                logger.info('Epoch:{} Episode:{}. The training loss is {}'.format(epoch, ep_idx, loss.item()))\n",
    "            \n",
    "            policy.rewards = 0"
   ]
  },
  {
   "cell_type": "code",
   "execution_count": 54,
   "metadata": {
    "ExecuteTime": {
     "end_time": "2019-11-03T18:00:35.179081Z",
     "start_time": "2019-11-03T18:00:35.092449Z"
    }
   },
   "outputs": [
    {
     "ename": "ValueError",
     "evalue": "Input 0 of layer dense is incompatible with the layer: : expected min_ndim=2, found ndim=1. Full shape received: [360]",
     "output_type": "error",
     "traceback": [
      "\u001b[0;31m---------------------------------------------------------------------------\u001b[0m",
      "\u001b[0;31mValueError\u001b[0m                                Traceback (most recent call last)",
      "\u001b[0;32m<ipython-input-54-8d6533c980f7>\u001b[0m in \u001b[0;36m<module>\u001b[0;34m\u001b[0m\n\u001b[0;32m----> 1\u001b[0;31m \u001b[0mtrain_eval\u001b[0m\u001b[0;34m(\u001b[0m\u001b[0;34m)\u001b[0m\u001b[0;34m\u001b[0m\u001b[0m\n\u001b[0m",
      "\u001b[0;32m<ipython-input-49-ca72884d5141>\u001b[0m in \u001b[0;36mtrain_eval\u001b[0;34m()\u001b[0m\n\u001b[1;32m     41\u001b[0m                 \u001b[0;31m# The neural networks returns an action-like value\u001b[0m\u001b[0;34m\u001b[0m\u001b[0;34m\u001b[0m\u001b[0m\n\u001b[1;32m     42\u001b[0m                 \u001b[0;31m# `state` is a numpy array.\u001b[0m\u001b[0;34m\u001b[0m\u001b[0;34m\u001b[0m\u001b[0m\n\u001b[0;32m---> 43\u001b[0;31m                 \u001b[0maction_by_nets\u001b[0m \u001b[0;34m=\u001b[0m \u001b[0mpolicy\u001b[0m\u001b[0;34m(\u001b[0m\u001b[0mobservation\u001b[0m\u001b[0;34m)\u001b[0m\u001b[0;34m\u001b[0m\u001b[0m\n\u001b[0m\u001b[1;32m     44\u001b[0m \u001b[0;34m\u001b[0m\u001b[0m\n\u001b[1;32m     45\u001b[0m                 \u001b[0;31m# An actual action to take should effectively cause a trade.\u001b[0m\u001b[0;34m\u001b[0m\u001b[0;34m\u001b[0m\u001b[0m\n",
      "\u001b[0;32m~/anaconda3/envs/dl/lib/python3.6/site-packages/tensorflow_core/python/keras/engine/base_layer.py\u001b[0m in \u001b[0;36m__call__\u001b[0;34m(self, inputs, *args, **kwargs)\u001b[0m\n\u001b[1;32m    889\u001b[0m           with base_layer_utils.autocast_context_manager(\n\u001b[1;32m    890\u001b[0m               self._compute_dtype):\n\u001b[0;32m--> 891\u001b[0;31m             \u001b[0moutputs\u001b[0m \u001b[0;34m=\u001b[0m \u001b[0mself\u001b[0m\u001b[0;34m.\u001b[0m\u001b[0mcall\u001b[0m\u001b[0;34m(\u001b[0m\u001b[0mcast_inputs\u001b[0m\u001b[0;34m,\u001b[0m \u001b[0;34m*\u001b[0m\u001b[0margs\u001b[0m\u001b[0;34m,\u001b[0m \u001b[0;34m**\u001b[0m\u001b[0mkwargs\u001b[0m\u001b[0;34m)\u001b[0m\u001b[0;34m\u001b[0m\u001b[0m\n\u001b[0m\u001b[1;32m    892\u001b[0m           \u001b[0mself\u001b[0m\u001b[0;34m.\u001b[0m\u001b[0m_handle_activity_regularization\u001b[0m\u001b[0;34m(\u001b[0m\u001b[0minputs\u001b[0m\u001b[0;34m,\u001b[0m \u001b[0moutputs\u001b[0m\u001b[0;34m)\u001b[0m\u001b[0;34m\u001b[0m\u001b[0m\n\u001b[1;32m    893\u001b[0m           \u001b[0mself\u001b[0m\u001b[0;34m.\u001b[0m\u001b[0m_set_mask_metadata\u001b[0m\u001b[0;34m(\u001b[0m\u001b[0minputs\u001b[0m\u001b[0;34m,\u001b[0m \u001b[0moutputs\u001b[0m\u001b[0;34m,\u001b[0m \u001b[0minput_masks\u001b[0m\u001b[0;34m)\u001b[0m\u001b[0;34m\u001b[0m\u001b[0m\n",
      "\u001b[0;32m<ipython-input-47-a5c1ed4025d4>\u001b[0m in \u001b[0;36mcall\u001b[0;34m(self, inputs)\u001b[0m\n\u001b[1;32m     14\u001b[0m         \u001b[0mx\u001b[0m \u001b[0;34m=\u001b[0m \u001b[0mtf\u001b[0m\u001b[0;34m.\u001b[0m\u001b[0mconvert_to_tensor\u001b[0m\u001b[0;34m(\u001b[0m\u001b[0minputs\u001b[0m\u001b[0;34m)\u001b[0m\u001b[0;34m\u001b[0m\u001b[0m\n\u001b[1;32m     15\u001b[0m \u001b[0;34m\u001b[0m\u001b[0m\n\u001b[0;32m---> 16\u001b[0;31m         \u001b[0mx\u001b[0m \u001b[0;34m=\u001b[0m \u001b[0mself\u001b[0m\u001b[0;34m.\u001b[0m\u001b[0mfc1\u001b[0m\u001b[0;34m(\u001b[0m\u001b[0mx\u001b[0m\u001b[0;34m)\u001b[0m\u001b[0;34m\u001b[0m\u001b[0m\n\u001b[0m\u001b[1;32m     17\u001b[0m         \u001b[0mx\u001b[0m \u001b[0;34m=\u001b[0m \u001b[0mself\u001b[0m\u001b[0;34m.\u001b[0m\u001b[0mfc2\u001b[0m\u001b[0;34m(\u001b[0m\u001b[0mx\u001b[0m\u001b[0;34m)\u001b[0m\u001b[0;34m\u001b[0m\u001b[0m\n\u001b[1;32m     18\u001b[0m         \u001b[0mx\u001b[0m \u001b[0;34m=\u001b[0m \u001b[0mself\u001b[0m\u001b[0;34m.\u001b[0m\u001b[0mvalue\u001b[0m\u001b[0;34m(\u001b[0m\u001b[0mx\u001b[0m\u001b[0;34m)\u001b[0m\u001b[0;34m\u001b[0m\u001b[0m\n",
      "\u001b[0;32m~/anaconda3/envs/dl/lib/python3.6/site-packages/tensorflow_core/python/keras/engine/base_layer.py\u001b[0m in \u001b[0;36m__call__\u001b[0;34m(self, inputs, *args, **kwargs)\u001b[0m\n\u001b[1;32m    885\u001b[0m         \u001b[0;31m# Eager execution on data tensors.\u001b[0m\u001b[0;34m\u001b[0m\u001b[0;34m\u001b[0m\u001b[0m\n\u001b[1;32m    886\u001b[0m         \u001b[0;32mwith\u001b[0m \u001b[0mbackend\u001b[0m\u001b[0;34m.\u001b[0m\u001b[0mname_scope\u001b[0m\u001b[0;34m(\u001b[0m\u001b[0mself\u001b[0m\u001b[0;34m.\u001b[0m\u001b[0m_name_scope\u001b[0m\u001b[0;34m(\u001b[0m\u001b[0;34m)\u001b[0m\u001b[0;34m)\u001b[0m\u001b[0;34m:\u001b[0m\u001b[0;34m\u001b[0m\u001b[0m\n\u001b[0;32m--> 887\u001b[0;31m           \u001b[0mself\u001b[0m\u001b[0;34m.\u001b[0m\u001b[0m_maybe_build\u001b[0m\u001b[0;34m(\u001b[0m\u001b[0minputs\u001b[0m\u001b[0;34m)\u001b[0m\u001b[0;34m\u001b[0m\u001b[0m\n\u001b[0m\u001b[1;32m    888\u001b[0m           \u001b[0mcast_inputs\u001b[0m \u001b[0;34m=\u001b[0m \u001b[0mself\u001b[0m\u001b[0;34m.\u001b[0m\u001b[0m_maybe_cast_inputs\u001b[0m\u001b[0;34m(\u001b[0m\u001b[0minputs\u001b[0m\u001b[0;34m)\u001b[0m\u001b[0;34m\u001b[0m\u001b[0m\n\u001b[1;32m    889\u001b[0m           with base_layer_utils.autocast_context_manager(\n",
      "\u001b[0;32m~/anaconda3/envs/dl/lib/python3.6/site-packages/tensorflow_core/python/keras/engine/base_layer.py\u001b[0m in \u001b[0;36m_maybe_build\u001b[0;34m(self, inputs)\u001b[0m\n\u001b[1;32m   2120\u001b[0m     \u001b[0;32mif\u001b[0m \u001b[0;32mnot\u001b[0m \u001b[0mself\u001b[0m\u001b[0;34m.\u001b[0m\u001b[0mbuilt\u001b[0m\u001b[0;34m:\u001b[0m\u001b[0;34m\u001b[0m\u001b[0m\n\u001b[1;32m   2121\u001b[0m       input_spec.assert_input_compatibility(\n\u001b[0;32m-> 2122\u001b[0;31m           self.input_spec, inputs, self.name)\n\u001b[0m\u001b[1;32m   2123\u001b[0m       \u001b[0minput_list\u001b[0m \u001b[0;34m=\u001b[0m \u001b[0mnest\u001b[0m\u001b[0;34m.\u001b[0m\u001b[0mflatten\u001b[0m\u001b[0;34m(\u001b[0m\u001b[0minputs\u001b[0m\u001b[0;34m)\u001b[0m\u001b[0;34m\u001b[0m\u001b[0m\n\u001b[1;32m   2124\u001b[0m       \u001b[0;32mif\u001b[0m \u001b[0minput_list\u001b[0m \u001b[0;32mand\u001b[0m \u001b[0mself\u001b[0m\u001b[0;34m.\u001b[0m\u001b[0m_dtype_policy\u001b[0m\u001b[0;34m.\u001b[0m\u001b[0mcompute_dtype\u001b[0m \u001b[0;32mis\u001b[0m \u001b[0;32mNone\u001b[0m\u001b[0;34m:\u001b[0m\u001b[0;34m\u001b[0m\u001b[0m\n",
      "\u001b[0;32m~/anaconda3/envs/dl/lib/python3.6/site-packages/tensorflow_core/python/keras/engine/input_spec.py\u001b[0m in \u001b[0;36massert_input_compatibility\u001b[0;34m(input_spec, inputs, layer_name)\u001b[0m\n\u001b[1;32m    191\u001b[0m                          \u001b[0;34m', found ndim='\u001b[0m \u001b[0;34m+\u001b[0m \u001b[0mstr\u001b[0m\u001b[0;34m(\u001b[0m\u001b[0mndim\u001b[0m\u001b[0;34m)\u001b[0m \u001b[0;34m+\u001b[0m\u001b[0;34m\u001b[0m\u001b[0m\n\u001b[1;32m    192\u001b[0m                          \u001b[0;34m'. Full shape received: '\u001b[0m \u001b[0;34m+\u001b[0m\u001b[0;34m\u001b[0m\u001b[0m\n\u001b[0;32m--> 193\u001b[0;31m                          str(x.shape.as_list()))\n\u001b[0m\u001b[1;32m    194\u001b[0m     \u001b[0;31m# Check dtype.\u001b[0m\u001b[0;34m\u001b[0m\u001b[0;34m\u001b[0m\u001b[0m\n\u001b[1;32m    195\u001b[0m     \u001b[0;32mif\u001b[0m \u001b[0mspec\u001b[0m\u001b[0;34m.\u001b[0m\u001b[0mdtype\u001b[0m \u001b[0;32mis\u001b[0m \u001b[0;32mnot\u001b[0m \u001b[0;32mNone\u001b[0m\u001b[0;34m:\u001b[0m\u001b[0;34m\u001b[0m\u001b[0m\n",
      "\u001b[0;31mValueError\u001b[0m: Input 0 of layer dense is incompatible with the layer: : expected min_ndim=2, found ndim=1. Full shape received: [360]"
     ]
    }
   ],
   "source": [
    "train_eval()"
   ]
  },
  {
   "cell_type": "markdown",
   "metadata": {},
   "source": [
    "# environment.py"
   ]
  },
  {
   "cell_type": "code",
   "execution_count": 135,
   "metadata": {
    "ExecuteTime": {
     "end_time": "2019-11-02T14:49:37.856972Z",
     "start_time": "2019-11-02T14:49:37.853603Z"
    }
   },
   "outputs": [],
   "source": [
    "import numpy as np\n",
    "import pandas as pd"
   ]
  },
  {
   "cell_type": "code",
   "execution_count": 136,
   "metadata": {
    "ExecuteTime": {
     "end_time": "2019-11-02T14:49:38.844177Z",
     "start_time": "2019-11-02T14:49:38.828123Z"
    }
   },
   "outputs": [],
   "source": [
    "class ForexEnv(object):\n",
    "    '''\n",
    "    Observation:\n",
    "        self.timestamp\n",
    "        self.state =   3 (the day of the week, hour, minute) +\n",
    "                       3 (the previous position; {-1, 0, 1}) + \n",
    "                      20 (the 10-minute bid and ask prices of the target currency) +\n",
    "                      80 (the 10-minute mid prices of the rest of 8 currency pairs)\n",
    "                   = 106 (total)\n",
    "        self.price_record: bid and ask prices of the target currency\n",
    "        \n",
    "    Actions:\n",
    "        -1: short 100%\n",
    "         0: take a neutral position (no action) and 0 reward. \n",
    "        +1: long 100%\n",
    "        \n",
    "    Starting State:\n",
    "        random start within training set.\n",
    "        i.e., we pick an arbitrary number and take it as index to start with.                 \n",
    "    '''\n",
    "    \n",
    "    def __init__(self, cur='audusd', lag=10, min_history=1440, mode='train'):\n",
    "        self.ccy = cur\n",
    "        self.lag = lag\n",
    "        self.min_history = min_history\n",
    "        self.index = None\n",
    "        self.state = None\n",
    "        self.price_record = None\n",
    "        self.X_train = X_train\n",
    "        self.X_val = X.val\n",
    "        self.trainframe = self.X_train.index.values.tolist()\n",
    "        self.valframe = self.X_val.index.values.tolist()\n",
    "        self.train = self.trainframe[:-self.min_history]\n",
    "        self.val = self.valframe[:-self.min_history]\n",
    "        self.mode = mode"
   ]
  },
  {
   "cell_type": "code",
   "execution_count": null,
   "metadata": {},
   "outputs": [],
   "source": []
  },
  {
   "cell_type": "code",
   "execution_count": null,
   "metadata": {},
   "outputs": [],
   "source": []
  },
  {
   "cell_type": "code",
   "execution_count": null,
   "metadata": {},
   "outputs": [],
   "source": []
  },
  {
   "cell_type": "markdown",
   "metadata": {},
   "source": [
    "# experiment.py"
   ]
  },
  {
   "cell_type": "code",
   "execution_count": 46,
   "metadata": {
    "ExecuteTime": {
     "end_time": "2019-11-01T16:37:09.947822Z",
     "start_time": "2019-11-01T16:37:09.945203Z"
    }
   },
   "outputs": [],
   "source": [
    "import numpy as np\n",
    "\n",
    "import time"
   ]
  },
  {
   "cell_type": "code",
   "execution_count": 47,
   "metadata": {
    "ExecuteTime": {
     "end_time": "2019-11-01T16:37:10.365380Z",
     "start_time": "2019-11-01T16:37:10.360022Z"
    }
   },
   "outputs": [],
   "source": [
    "cur ='eurusd'\n",
    "reward_path = './results/rewards/' + cur + time.strftime(\"%Y%m%d-%H%M%S\") + '/'\n",
    "agent_path = './results/agents/' + cur + time.strftime(\"%Y%m%d-%H%M%S\") + '/'\n",
    "\n",
    "if not os.path.exists(reward_path):\n",
    "    os.makedirs(reward_path)\n",
    "if not os.path.exists(agent_path):\n",
    "    os.makedirs(agent_path)\n"
   ]
  },
  {
   "cell_type": "code",
   "execution_count": null,
   "metadata": {},
   "outputs": [],
   "source": []
  },
  {
   "cell_type": "code",
   "execution_count": null,
   "metadata": {},
   "outputs": [],
   "source": []
  },
  {
   "cell_type": "code",
   "execution_count": 131,
   "metadata": {
    "ExecuteTime": {
     "end_time": "2019-11-04T03:28:54.331637Z",
     "start_time": "2019-11-04T03:28:54.312860Z"
    }
   },
   "outputs": [
    {
     "data": {
      "text/html": [
       "<div>\n",
       "<style scoped>\n",
       "    .dataframe tbody tr th:only-of-type {\n",
       "        vertical-align: middle;\n",
       "    }\n",
       "\n",
       "    .dataframe tbody tr th {\n",
       "        vertical-align: top;\n",
       "    }\n",
       "\n",
       "    .dataframe thead th {\n",
       "        text-align: right;\n",
       "    }\n",
       "</style>\n",
       "<table border=\"1\" class=\"dataframe\">\n",
       "  <thead>\n",
       "    <tr style=\"text-align: right;\">\n",
       "      <th></th>\n",
       "      <th>timestamp</th>\n",
       "      <th>ccy</th>\n",
       "      <th>bid_price</th>\n",
       "      <th>ask_price</th>\n",
       "      <th>bid_ret</th>\n",
       "      <th>ask_ret</th>\n",
       "      <th>mid_price</th>\n",
       "    </tr>\n",
       "  </thead>\n",
       "  <tbody>\n",
       "    <tr>\n",
       "      <th>10</th>\n",
       "      <td>2019-05-01 00:12:00</td>\n",
       "      <td>audusd</td>\n",
       "      <td>0.70519</td>\n",
       "      <td>0.70520</td>\n",
       "      <td>0.000014</td>\n",
       "      <td>-0.000028</td>\n",
       "      <td>0.00001</td>\n",
       "    </tr>\n",
       "    <tr>\n",
       "      <th>11</th>\n",
       "      <td>2019-05-01 00:13:00</td>\n",
       "      <td>audusd</td>\n",
       "      <td>0.70518</td>\n",
       "      <td>0.70520</td>\n",
       "      <td>-0.000014</td>\n",
       "      <td>0.000000</td>\n",
       "      <td>0.00002</td>\n",
       "    </tr>\n",
       "    <tr>\n",
       "      <th>12</th>\n",
       "      <td>2019-05-01 00:14:00</td>\n",
       "      <td>audusd</td>\n",
       "      <td>0.70518</td>\n",
       "      <td>0.70519</td>\n",
       "      <td>0.000000</td>\n",
       "      <td>-0.000014</td>\n",
       "      <td>0.00001</td>\n",
       "    </tr>\n",
       "    <tr>\n",
       "      <th>13</th>\n",
       "      <td>2019-05-01 00:15:00</td>\n",
       "      <td>audusd</td>\n",
       "      <td>0.70519</td>\n",
       "      <td>0.70519</td>\n",
       "      <td>0.000014</td>\n",
       "      <td>0.000000</td>\n",
       "      <td>0.00000</td>\n",
       "    </tr>\n",
       "    <tr>\n",
       "      <th>14</th>\n",
       "      <td>2019-05-01 00:16:00</td>\n",
       "      <td>audusd</td>\n",
       "      <td>0.70520</td>\n",
       "      <td>0.70521</td>\n",
       "      <td>0.000014</td>\n",
       "      <td>0.000028</td>\n",
       "      <td>0.00001</td>\n",
       "    </tr>\n",
       "  </tbody>\n",
       "</table>\n",
       "</div>"
      ],
      "text/plain": [
       "             timestamp     ccy  bid_price  ask_price   bid_ret   ask_ret  \\\n",
       "10 2019-05-01 00:12:00  audusd    0.70519    0.70520  0.000014 -0.000028   \n",
       "11 2019-05-01 00:13:00  audusd    0.70518    0.70520 -0.000014  0.000000   \n",
       "12 2019-05-01 00:14:00  audusd    0.70518    0.70519  0.000000 -0.000014   \n",
       "13 2019-05-01 00:15:00  audusd    0.70519    0.70519  0.000014  0.000000   \n",
       "14 2019-05-01 00:16:00  audusd    0.70520    0.70521  0.000014  0.000028   \n",
       "\n",
       "    mid_price  \n",
       "10    0.00001  \n",
       "11    0.00002  \n",
       "12    0.00001  \n",
       "13    0.00000  \n",
       "14    0.00001  "
      ]
     },
     "execution_count": 131,
     "metadata": {},
     "output_type": "execute_result"
    }
   ],
   "source": [
    "X_train.iloc[10:15]"
   ]
  },
  {
   "cell_type": "code",
   "execution_count": 73,
   "metadata": {
    "ExecuteTime": {
     "end_time": "2019-11-06T05:22:03.285673Z",
     "start_time": "2019-11-06T05:22:03.244708Z"
    }
   },
   "outputs": [],
   "source": [
    "from naive_drl.features import draw_episode"
   ]
  },
  {
   "cell_type": "code",
   "execution_count": 74,
   "metadata": {
    "ExecuteTime": {
     "end_time": "2019-11-06T05:22:05.233500Z",
     "start_time": "2019-11-06T05:22:05.226077Z"
    }
   },
   "outputs": [
    {
     "data": {
      "text/plain": [
       "(819513, 7)"
      ]
     },
     "execution_count": 74,
     "metadata": {},
     "output_type": "execute_result"
    }
   ],
   "source": [
    "X_train.shape"
   ]
  },
  {
   "cell_type": "code",
   "execution_count": 85,
   "metadata": {
    "ExecuteTime": {
     "end_time": "2019-11-06T05:24:13.340684Z",
     "start_time": "2019-11-06T05:24:13.262200Z"
    }
   },
   "outputs": [],
   "source": [
    "ts = X_train.loc[:, 'timestamp'].unique()\n",
    "ccy = X_train.loc[:, 'ccy'].unique()"
   ]
  },
  {
   "cell_type": "code",
   "execution_count": 111,
   "metadata": {
    "ExecuteTime": {
     "end_time": "2019-11-06T06:12:53.158687Z",
     "start_time": "2019-11-06T06:12:53.126399Z"
    }
   },
   "outputs": [],
   "source": [
    "target_bid, target_ask, features = draw_episode(\n",
    "    X, cur='audusd', n=0, split_sz=200, lag=10, ts=ts, ccy=ccy)"
   ]
  },
  {
   "cell_type": "code",
   "execution_count": 90,
   "metadata": {
    "ExecuteTime": {
     "end_time": "2019-11-06T05:25:30.071180Z",
     "start_time": "2019-11-06T05:25:30.010515Z"
    }
   },
   "outputs": [
    {
     "data": {
      "text/html": [
       "<div>\n",
       "<style scoped>\n",
       "    .dataframe tbody tr th:only-of-type {\n",
       "        vertical-align: middle;\n",
       "    }\n",
       "\n",
       "    .dataframe tbody tr th {\n",
       "        vertical-align: top;\n",
       "    }\n",
       "\n",
       "    .dataframe thead th {\n",
       "        text-align: right;\n",
       "    }\n",
       "</style>\n",
       "<table border=\"1\" class=\"dataframe\">\n",
       "  <thead>\n",
       "    <tr style=\"text-align: right;\">\n",
       "      <th></th>\n",
       "      <th>timestamp</th>\n",
       "      <th>ccy</th>\n",
       "      <th>bid_price</th>\n",
       "      <th>ask_price</th>\n",
       "      <th>bid_ret</th>\n",
       "      <th>ask_ret</th>\n",
       "      <th>mid_price</th>\n",
       "    </tr>\n",
       "  </thead>\n",
       "  <tbody>\n",
       "    <tr>\n",
       "      <th>0</th>\n",
       "      <td>2019-01-01 17:12:00</td>\n",
       "      <td>audusd</td>\n",
       "      <td>0.70465</td>\n",
       "      <td>0.70475</td>\n",
       "      <td>0.000014</td>\n",
       "      <td>0.000085</td>\n",
       "      <td>0.00010</td>\n",
       "    </tr>\n",
       "    <tr>\n",
       "      <th>1</th>\n",
       "      <td>2019-01-01 17:13:00</td>\n",
       "      <td>audusd</td>\n",
       "      <td>0.70465</td>\n",
       "      <td>0.70471</td>\n",
       "      <td>0.000000</td>\n",
       "      <td>-0.000057</td>\n",
       "      <td>0.00006</td>\n",
       "    </tr>\n",
       "    <tr>\n",
       "      <th>2</th>\n",
       "      <td>2019-01-01 17:14:00</td>\n",
       "      <td>audusd</td>\n",
       "      <td>0.70464</td>\n",
       "      <td>0.70472</td>\n",
       "      <td>-0.000014</td>\n",
       "      <td>0.000014</td>\n",
       "      <td>0.00008</td>\n",
       "    </tr>\n",
       "    <tr>\n",
       "      <th>3</th>\n",
       "      <td>2019-01-01 17:15:00</td>\n",
       "      <td>audusd</td>\n",
       "      <td>0.70463</td>\n",
       "      <td>0.70473</td>\n",
       "      <td>-0.000014</td>\n",
       "      <td>0.000014</td>\n",
       "      <td>0.00010</td>\n",
       "    </tr>\n",
       "    <tr>\n",
       "      <th>4</th>\n",
       "      <td>2019-01-01 17:16:00</td>\n",
       "      <td>audusd</td>\n",
       "      <td>0.70463</td>\n",
       "      <td>0.70469</td>\n",
       "      <td>0.000000</td>\n",
       "      <td>-0.000057</td>\n",
       "      <td>0.00006</td>\n",
       "    </tr>\n",
       "  </tbody>\n",
       "</table>\n",
       "</div>"
      ],
      "text/plain": [
       "            timestamp     ccy  bid_price  ask_price   bid_ret   ask_ret  \\\n",
       "0 2019-01-01 17:12:00  audusd    0.70465    0.70475  0.000014  0.000085   \n",
       "1 2019-01-01 17:13:00  audusd    0.70465    0.70471  0.000000 -0.000057   \n",
       "2 2019-01-01 17:14:00  audusd    0.70464    0.70472 -0.000014  0.000014   \n",
       "3 2019-01-01 17:15:00  audusd    0.70463    0.70473 -0.000014  0.000014   \n",
       "4 2019-01-01 17:16:00  audusd    0.70463    0.70469  0.000000 -0.000057   \n",
       "\n",
       "   mid_price  \n",
       "0    0.00010  \n",
       "1    0.00006  \n",
       "2    0.00008  \n",
       "3    0.00010  \n",
       "4    0.00006  "
      ]
     },
     "execution_count": 90,
     "metadata": {},
     "output_type": "execute_result"
    }
   ],
   "source": [
    "X_train[X_train.ccy=='audusd'].head()"
   ]
  },
  {
   "cell_type": "code",
   "execution_count": 91,
   "metadata": {
    "ExecuteTime": {
     "end_time": "2019-11-06T05:25:30.770223Z",
     "start_time": "2019-11-06T05:25:30.766468Z"
    }
   },
   "outputs": [
    {
     "data": {
      "text/plain": [
       "array([0.70465, 0.70464, 0.70463, 0.70463])"
      ]
     },
     "execution_count": 91,
     "metadata": {},
     "output_type": "execute_result"
    }
   ],
   "source": [
    "target_bid"
   ]
  },
  {
   "cell_type": "code",
   "execution_count": 92,
   "metadata": {
    "ExecuteTime": {
     "end_time": "2019-11-06T05:25:44.031217Z",
     "start_time": "2019-11-06T05:25:44.026297Z"
    }
   },
   "outputs": [
    {
     "data": {
      "text/plain": [
       "array([0.70471, 0.70472, 0.70473, 0.70469])"
      ]
     },
     "execution_count": 92,
     "metadata": {},
     "output_type": "execute_result"
    }
   ],
   "source": [
    "target_ask"
   ]
  },
  {
   "cell_type": "code",
   "execution_count": 100,
   "metadata": {
    "ExecuteTime": {
     "end_time": "2019-11-06T06:08:28.863843Z",
     "start_time": "2019-11-06T06:08:28.853780Z"
    }
   },
   "outputs": [
    {
     "data": {
      "text/plain": [
       "(3, 36)"
      ]
     },
     "execution_count": 100,
     "metadata": {},
     "output_type": "execute_result"
    }
   ],
   "source": [
    "features.shape"
   ]
  },
  {
   "cell_type": "code",
   "execution_count": 112,
   "metadata": {
    "ExecuteTime": {
     "end_time": "2019-11-06T06:12:55.186347Z",
     "start_time": "2019-11-06T06:12:55.180654Z"
    }
   },
   "outputs": [
    {
     "data": {
      "text/plain": [
       "(190, 180)"
      ]
     },
     "execution_count": 112,
     "metadata": {},
     "output_type": "execute_result"
    }
   ],
   "source": [
    "features.shape"
   ]
  },
  {
   "cell_type": "code",
   "execution_count": null,
   "metadata": {},
   "outputs": [],
   "source": []
  },
  {
   "cell_type": "code",
   "execution_count": null,
   "metadata": {},
   "outputs": [],
   "source": []
  },
  {
   "cell_type": "code",
   "execution_count": null,
   "metadata": {},
   "outputs": [],
   "source": []
  },
  {
   "cell_type": "code",
   "execution_count": null,
   "metadata": {},
   "outputs": [],
   "source": []
  },
  {
   "cell_type": "code",
   "execution_count": 117,
   "metadata": {
    "ExecuteTime": {
     "end_time": "2019-11-04T03:22:20.540153Z",
     "start_time": "2019-11-04T03:22:20.535805Z"
    }
   },
   "outputs": [
    {
     "data": {
      "text/plain": [
       "(5,)"
      ]
     },
     "execution_count": 117,
     "metadata": {},
     "output_type": "execute_result"
    }
   ],
   "source": [
    "target_bid.shape"
   ]
  },
  {
   "cell_type": "code",
   "execution_count": 118,
   "metadata": {
    "ExecuteTime": {
     "end_time": "2019-11-04T03:22:21.143174Z",
     "start_time": "2019-11-04T03:22:21.138929Z"
    }
   },
   "outputs": [
    {
     "data": {
      "text/plain": [
       "array([0.7052 , 0.7052 , 0.70519, 0.70519, 0.70521])"
      ]
     },
     "execution_count": 118,
     "metadata": {},
     "output_type": "execute_result"
    }
   ],
   "source": [
    "target_ask"
   ]
  },
  {
   "cell_type": "code",
   "execution_count": 119,
   "metadata": {
    "ExecuteTime": {
     "end_time": "2019-11-04T03:22:23.392752Z",
     "start_time": "2019-11-04T03:22:23.388864Z"
    }
   },
   "outputs": [
    {
     "data": {
      "text/plain": [
       "(5,)"
      ]
     },
     "execution_count": 119,
     "metadata": {},
     "output_type": "execute_result"
    }
   ],
   "source": [
    "target_ask.shape"
   ]
  },
  {
   "cell_type": "code",
   "execution_count": 129,
   "metadata": {
    "ExecuteTime": {
     "end_time": "2019-11-04T03:27:54.606113Z",
     "start_time": "2019-11-04T03:27:54.600274Z"
    }
   },
   "outputs": [
    {
     "data": {
      "text/plain": [
       "array([ 0.1184248 , -0.58560619, -0.5855962 , -0.5855962 ,  1.00355167,\n",
       "        1.44612103,  0.87973326,  1.6410534 ,  0.86520712,  0.86520712,\n",
       "       -0.62372478,  3.08713404,  1.57963245,  2.55379478, -2.10809715,\n",
       "       -1.21750035, -0.28469299, -0.28469299,  0.1184248 ,  0.5893887 ,\n",
       "        0.56097837,  0.1184248 , -0.64285448,  0.1184248 ,  0.86517342,\n",
       "        1.61193328, -0.25264583,  0.1184248 ,  0.60548446,  1.0925489 ,\n",
       "       -0.32686362, -0.32686362, -1.14849256, -0.745386  , -0.71883333,\n",
       "       -0.71883333])"
      ]
     },
     "execution_count": 129,
     "metadata": {},
     "output_type": "execute_result"
    }
   ],
   "source": [
    "features[0]"
   ]
  },
  {
   "cell_type": "code",
   "execution_count": 132,
   "metadata": {
    "ExecuteTime": {
     "end_time": "2019-11-07T02:26:55.771719Z",
     "start_time": "2019-11-07T02:26:55.659135Z"
    }
   },
   "outputs": [
    {
     "data": {
      "text/html": [
       "<div>\n",
       "<style scoped>\n",
       "    .dataframe tbody tr th:only-of-type {\n",
       "        vertical-align: middle;\n",
       "    }\n",
       "\n",
       "    .dataframe tbody tr th {\n",
       "        vertical-align: top;\n",
       "    }\n",
       "\n",
       "    .dataframe thead th {\n",
       "        text-align: right;\n",
       "    }\n",
       "</style>\n",
       "<table border=\"1\" class=\"dataframe\">\n",
       "  <thead>\n",
       "    <tr style=\"text-align: right;\">\n",
       "      <th></th>\n",
       "      <th>timestamp</th>\n",
       "      <th>ccy</th>\n",
       "      <th>bid_price</th>\n",
       "      <th>ask_price</th>\n",
       "      <th>bid_ret</th>\n",
       "      <th>ask_ret</th>\n",
       "      <th>mid_price</th>\n",
       "    </tr>\n",
       "  </thead>\n",
       "  <tbody>\n",
       "    <tr>\n",
       "      <th>0</th>\n",
       "      <td>2019-01-01 17:12:00</td>\n",
       "      <td>audusd</td>\n",
       "      <td>0.70465</td>\n",
       "      <td>0.70475</td>\n",
       "      <td>0.000014</td>\n",
       "      <td>0.000085</td>\n",
       "      <td>0.00010</td>\n",
       "    </tr>\n",
       "    <tr>\n",
       "      <th>1</th>\n",
       "      <td>2019-01-01 17:13:00</td>\n",
       "      <td>audusd</td>\n",
       "      <td>0.70465</td>\n",
       "      <td>0.70471</td>\n",
       "      <td>0.000000</td>\n",
       "      <td>-0.000057</td>\n",
       "      <td>0.00006</td>\n",
       "    </tr>\n",
       "    <tr>\n",
       "      <th>2</th>\n",
       "      <td>2019-01-01 17:14:00</td>\n",
       "      <td>audusd</td>\n",
       "      <td>0.70464</td>\n",
       "      <td>0.70472</td>\n",
       "      <td>-0.000014</td>\n",
       "      <td>0.000014</td>\n",
       "      <td>0.00008</td>\n",
       "    </tr>\n",
       "    <tr>\n",
       "      <th>3</th>\n",
       "      <td>2019-01-01 17:15:00</td>\n",
       "      <td>audusd</td>\n",
       "      <td>0.70463</td>\n",
       "      <td>0.70473</td>\n",
       "      <td>-0.000014</td>\n",
       "      <td>0.000014</td>\n",
       "      <td>0.00010</td>\n",
       "    </tr>\n",
       "    <tr>\n",
       "      <th>4</th>\n",
       "      <td>2019-01-01 17:16:00</td>\n",
       "      <td>audusd</td>\n",
       "      <td>0.70463</td>\n",
       "      <td>0.70469</td>\n",
       "      <td>0.000000</td>\n",
       "      <td>-0.000057</td>\n",
       "      <td>0.00006</td>\n",
       "    </tr>\n",
       "    <tr>\n",
       "      <th>5</th>\n",
       "      <td>2019-01-01 17:17:00</td>\n",
       "      <td>audusd</td>\n",
       "      <td>0.70465</td>\n",
       "      <td>0.70467</td>\n",
       "      <td>0.000028</td>\n",
       "      <td>-0.000028</td>\n",
       "      <td>0.00002</td>\n",
       "    </tr>\n",
       "    <tr>\n",
       "      <th>6</th>\n",
       "      <td>2019-01-01 17:18:00</td>\n",
       "      <td>audusd</td>\n",
       "      <td>0.70465</td>\n",
       "      <td>0.70472</td>\n",
       "      <td>0.000000</td>\n",
       "      <td>0.000071</td>\n",
       "      <td>0.00007</td>\n",
       "    </tr>\n",
       "    <tr>\n",
       "      <th>7</th>\n",
       "      <td>2019-01-01 17:19:00</td>\n",
       "      <td>audusd</td>\n",
       "      <td>0.70466</td>\n",
       "      <td>0.70478</td>\n",
       "      <td>0.000014</td>\n",
       "      <td>0.000085</td>\n",
       "      <td>0.00012</td>\n",
       "    </tr>\n",
       "    <tr>\n",
       "      <th>8</th>\n",
       "      <td>2019-01-01 17:20:00</td>\n",
       "      <td>audusd</td>\n",
       "      <td>0.70466</td>\n",
       "      <td>0.70473</td>\n",
       "      <td>0.000000</td>\n",
       "      <td>-0.000071</td>\n",
       "      <td>0.00007</td>\n",
       "    </tr>\n",
       "    <tr>\n",
       "      <th>9</th>\n",
       "      <td>2019-01-01 17:21:00</td>\n",
       "      <td>audusd</td>\n",
       "      <td>0.70468</td>\n",
       "      <td>0.70501</td>\n",
       "      <td>0.000028</td>\n",
       "      <td>0.000397</td>\n",
       "      <td>0.00033</td>\n",
       "    </tr>\n",
       "    <tr>\n",
       "      <th>10</th>\n",
       "      <td>2019-01-01 17:22:00</td>\n",
       "      <td>audusd</td>\n",
       "      <td>0.70501</td>\n",
       "      <td>0.70503</td>\n",
       "      <td>0.000468</td>\n",
       "      <td>0.000028</td>\n",
       "      <td>0.00002</td>\n",
       "    </tr>\n",
       "    <tr>\n",
       "      <th>11</th>\n",
       "      <td>2019-01-01 17:23:00</td>\n",
       "      <td>audusd</td>\n",
       "      <td>0.70503</td>\n",
       "      <td>0.70504</td>\n",
       "      <td>0.000028</td>\n",
       "      <td>0.000014</td>\n",
       "      <td>0.00001</td>\n",
       "    </tr>\n",
       "    <tr>\n",
       "      <th>12</th>\n",
       "      <td>2019-01-01 17:24:00</td>\n",
       "      <td>audusd</td>\n",
       "      <td>0.70503</td>\n",
       "      <td>0.70504</td>\n",
       "      <td>0.000000</td>\n",
       "      <td>0.000000</td>\n",
       "      <td>0.00001</td>\n",
       "    </tr>\n",
       "    <tr>\n",
       "      <th>13</th>\n",
       "      <td>2019-01-01 17:25:00</td>\n",
       "      <td>audusd</td>\n",
       "      <td>0.70503</td>\n",
       "      <td>0.70505</td>\n",
       "      <td>0.000000</td>\n",
       "      <td>0.000014</td>\n",
       "      <td>0.00002</td>\n",
       "    </tr>\n",
       "    <tr>\n",
       "      <th>14</th>\n",
       "      <td>2019-01-01 17:26:00</td>\n",
       "      <td>audusd</td>\n",
       "      <td>0.70503</td>\n",
       "      <td>0.70506</td>\n",
       "      <td>0.000000</td>\n",
       "      <td>0.000014</td>\n",
       "      <td>0.00003</td>\n",
       "    </tr>\n",
       "    <tr>\n",
       "      <th>15</th>\n",
       "      <td>2019-01-01 17:27:00</td>\n",
       "      <td>audusd</td>\n",
       "      <td>0.70501</td>\n",
       "      <td>0.70501</td>\n",
       "      <td>-0.000028</td>\n",
       "      <td>-0.000071</td>\n",
       "      <td>0.00000</td>\n",
       "    </tr>\n",
       "    <tr>\n",
       "      <th>16</th>\n",
       "      <td>2019-01-01 17:28:00</td>\n",
       "      <td>audusd</td>\n",
       "      <td>0.70500</td>\n",
       "      <td>0.70501</td>\n",
       "      <td>-0.000014</td>\n",
       "      <td>0.000000</td>\n",
       "      <td>0.00001</td>\n",
       "    </tr>\n",
       "    <tr>\n",
       "      <th>17</th>\n",
       "      <td>2019-01-01 17:29:00</td>\n",
       "      <td>audusd</td>\n",
       "      <td>0.70498</td>\n",
       "      <td>0.70517</td>\n",
       "      <td>-0.000028</td>\n",
       "      <td>0.000227</td>\n",
       "      <td>0.00019</td>\n",
       "    </tr>\n",
       "    <tr>\n",
       "      <th>18</th>\n",
       "      <td>2019-01-01 17:30:00</td>\n",
       "      <td>audusd</td>\n",
       "      <td>0.70516</td>\n",
       "      <td>0.70517</td>\n",
       "      <td>0.000255</td>\n",
       "      <td>0.000000</td>\n",
       "      <td>0.00001</td>\n",
       "    </tr>\n",
       "    <tr>\n",
       "      <th>19</th>\n",
       "      <td>2019-01-01 17:31:00</td>\n",
       "      <td>audusd</td>\n",
       "      <td>0.70496</td>\n",
       "      <td>0.70518</td>\n",
       "      <td>-0.000284</td>\n",
       "      <td>0.000014</td>\n",
       "      <td>0.00022</td>\n",
       "    </tr>\n",
       "    <tr>\n",
       "      <th>20</th>\n",
       "      <td>2019-01-01 17:32:00</td>\n",
       "      <td>audusd</td>\n",
       "      <td>0.70496</td>\n",
       "      <td>0.70505</td>\n",
       "      <td>0.000000</td>\n",
       "      <td>-0.000184</td>\n",
       "      <td>0.00009</td>\n",
       "    </tr>\n",
       "    <tr>\n",
       "      <th>21</th>\n",
       "      <td>2019-01-01 17:33:00</td>\n",
       "      <td>audusd</td>\n",
       "      <td>0.70502</td>\n",
       "      <td>0.70522</td>\n",
       "      <td>0.000085</td>\n",
       "      <td>0.000241</td>\n",
       "      <td>0.00020</td>\n",
       "    </tr>\n",
       "    <tr>\n",
       "      <th>22</th>\n",
       "      <td>2019-01-01 17:34:00</td>\n",
       "      <td>audusd</td>\n",
       "      <td>0.70505</td>\n",
       "      <td>0.70516</td>\n",
       "      <td>0.000043</td>\n",
       "      <td>-0.000085</td>\n",
       "      <td>0.00011</td>\n",
       "    </tr>\n",
       "    <tr>\n",
       "      <th>23</th>\n",
       "      <td>2019-01-01 17:35:00</td>\n",
       "      <td>audusd</td>\n",
       "      <td>0.70501</td>\n",
       "      <td>0.70511</td>\n",
       "      <td>-0.000057</td>\n",
       "      <td>-0.000071</td>\n",
       "      <td>0.00010</td>\n",
       "    </tr>\n",
       "    <tr>\n",
       "      <th>24</th>\n",
       "      <td>2019-01-01 17:36:00</td>\n",
       "      <td>audusd</td>\n",
       "      <td>0.70501</td>\n",
       "      <td>0.70508</td>\n",
       "      <td>0.000000</td>\n",
       "      <td>-0.000043</td>\n",
       "      <td>0.00007</td>\n",
       "    </tr>\n",
       "    <tr>\n",
       "      <th>25</th>\n",
       "      <td>2019-01-01 17:37:00</td>\n",
       "      <td>audusd</td>\n",
       "      <td>0.70498</td>\n",
       "      <td>0.70508</td>\n",
       "      <td>-0.000043</td>\n",
       "      <td>0.000000</td>\n",
       "      <td>0.00010</td>\n",
       "    </tr>\n",
       "    <tr>\n",
       "      <th>26</th>\n",
       "      <td>2019-01-01 17:38:00</td>\n",
       "      <td>audusd</td>\n",
       "      <td>0.70495</td>\n",
       "      <td>0.70503</td>\n",
       "      <td>-0.000043</td>\n",
       "      <td>-0.000071</td>\n",
       "      <td>0.00008</td>\n",
       "    </tr>\n",
       "    <tr>\n",
       "      <th>27</th>\n",
       "      <td>2019-01-01 17:39:00</td>\n",
       "      <td>audusd</td>\n",
       "      <td>0.70459</td>\n",
       "      <td>0.70497</td>\n",
       "      <td>-0.000511</td>\n",
       "      <td>-0.000085</td>\n",
       "      <td>0.00038</td>\n",
       "    </tr>\n",
       "    <tr>\n",
       "      <th>28</th>\n",
       "      <td>2019-01-01 17:40:00</td>\n",
       "      <td>audusd</td>\n",
       "      <td>0.70457</td>\n",
       "      <td>0.70467</td>\n",
       "      <td>-0.000028</td>\n",
       "      <td>-0.000426</td>\n",
       "      <td>0.00010</td>\n",
       "    </tr>\n",
       "    <tr>\n",
       "      <th>29</th>\n",
       "      <td>2019-01-01 17:41:00</td>\n",
       "      <td>audusd</td>\n",
       "      <td>0.70464</td>\n",
       "      <td>0.70481</td>\n",
       "      <td>0.000099</td>\n",
       "      <td>0.000199</td>\n",
       "      <td>0.00017</td>\n",
       "    </tr>\n",
       "    <tr>\n",
       "      <th>...</th>\n",
       "      <td>...</td>\n",
       "      <td>...</td>\n",
       "      <td>...</td>\n",
       "      <td>...</td>\n",
       "      <td>...</td>\n",
       "      <td>...</td>\n",
       "      <td>...</td>\n",
       "    </tr>\n",
       "    <tr>\n",
       "      <th>1333059</th>\n",
       "      <td>2019-03-31 23:29:00</td>\n",
       "      <td>usdsek</td>\n",
       "      <td>9.27179</td>\n",
       "      <td>9.27183</td>\n",
       "      <td>-0.000033</td>\n",
       "      <td>-0.000071</td>\n",
       "      <td>0.00004</td>\n",
       "    </tr>\n",
       "    <tr>\n",
       "      <th>1333060</th>\n",
       "      <td>2019-03-31 23:30:00</td>\n",
       "      <td>usdsek</td>\n",
       "      <td>9.27194</td>\n",
       "      <td>9.27264</td>\n",
       "      <td>0.000016</td>\n",
       "      <td>0.000087</td>\n",
       "      <td>0.00070</td>\n",
       "    </tr>\n",
       "    <tr>\n",
       "      <th>1333061</th>\n",
       "      <td>2019-03-31 23:31:00</td>\n",
       "      <td>usdsek</td>\n",
       "      <td>9.27256</td>\n",
       "      <td>9.27304</td>\n",
       "      <td>0.000067</td>\n",
       "      <td>0.000043</td>\n",
       "      <td>0.00048</td>\n",
       "    </tr>\n",
       "    <tr>\n",
       "      <th>1333062</th>\n",
       "      <td>2019-03-31 23:32:00</td>\n",
       "      <td>usdsek</td>\n",
       "      <td>9.27209</td>\n",
       "      <td>9.27308</td>\n",
       "      <td>-0.000051</td>\n",
       "      <td>0.000004</td>\n",
       "      <td>0.00099</td>\n",
       "    </tr>\n",
       "    <tr>\n",
       "      <th>1333063</th>\n",
       "      <td>2019-03-31 23:33:00</td>\n",
       "      <td>usdsek</td>\n",
       "      <td>9.27209</td>\n",
       "      <td>9.27300</td>\n",
       "      <td>0.000000</td>\n",
       "      <td>-0.000009</td>\n",
       "      <td>0.00091</td>\n",
       "    </tr>\n",
       "    <tr>\n",
       "      <th>1333064</th>\n",
       "      <td>2019-03-31 23:34:00</td>\n",
       "      <td>usdsek</td>\n",
       "      <td>9.27141</td>\n",
       "      <td>9.27262</td>\n",
       "      <td>-0.000073</td>\n",
       "      <td>-0.000041</td>\n",
       "      <td>0.00121</td>\n",
       "    </tr>\n",
       "    <tr>\n",
       "      <th>1333065</th>\n",
       "      <td>2019-03-31 23:35:00</td>\n",
       "      <td>usdsek</td>\n",
       "      <td>9.27142</td>\n",
       "      <td>9.27172</td>\n",
       "      <td>0.000001</td>\n",
       "      <td>-0.000097</td>\n",
       "      <td>0.00030</td>\n",
       "    </tr>\n",
       "    <tr>\n",
       "      <th>1333066</th>\n",
       "      <td>2019-03-31 23:36:00</td>\n",
       "      <td>usdsek</td>\n",
       "      <td>9.27121</td>\n",
       "      <td>9.27161</td>\n",
       "      <td>-0.000023</td>\n",
       "      <td>-0.000012</td>\n",
       "      <td>0.00040</td>\n",
       "    </tr>\n",
       "    <tr>\n",
       "      <th>1333067</th>\n",
       "      <td>2019-03-31 23:37:00</td>\n",
       "      <td>usdsek</td>\n",
       "      <td>9.27118</td>\n",
       "      <td>9.27199</td>\n",
       "      <td>-0.000003</td>\n",
       "      <td>0.000041</td>\n",
       "      <td>0.00081</td>\n",
       "    </tr>\n",
       "    <tr>\n",
       "      <th>1333068</th>\n",
       "      <td>2019-03-31 23:38:00</td>\n",
       "      <td>usdsek</td>\n",
       "      <td>9.27180</td>\n",
       "      <td>9.27203</td>\n",
       "      <td>0.000067</td>\n",
       "      <td>0.000004</td>\n",
       "      <td>0.00023</td>\n",
       "    </tr>\n",
       "    <tr>\n",
       "      <th>1333069</th>\n",
       "      <td>2019-03-31 23:39:00</td>\n",
       "      <td>usdsek</td>\n",
       "      <td>9.27156</td>\n",
       "      <td>9.27203</td>\n",
       "      <td>-0.000026</td>\n",
       "      <td>0.000000</td>\n",
       "      <td>0.00047</td>\n",
       "    </tr>\n",
       "    <tr>\n",
       "      <th>1333070</th>\n",
       "      <td>2019-03-31 23:40:00</td>\n",
       "      <td>usdsek</td>\n",
       "      <td>9.27132</td>\n",
       "      <td>9.27215</td>\n",
       "      <td>-0.000026</td>\n",
       "      <td>0.000013</td>\n",
       "      <td>0.00083</td>\n",
       "    </tr>\n",
       "    <tr>\n",
       "      <th>1333071</th>\n",
       "      <td>2019-03-31 23:41:00</td>\n",
       "      <td>usdsek</td>\n",
       "      <td>9.27167</td>\n",
       "      <td>9.27295</td>\n",
       "      <td>0.000038</td>\n",
       "      <td>0.000086</td>\n",
       "      <td>0.00128</td>\n",
       "    </tr>\n",
       "    <tr>\n",
       "      <th>1333072</th>\n",
       "      <td>2019-03-31 23:42:00</td>\n",
       "      <td>usdsek</td>\n",
       "      <td>9.27193</td>\n",
       "      <td>9.27269</td>\n",
       "      <td>0.000028</td>\n",
       "      <td>-0.000028</td>\n",
       "      <td>0.00076</td>\n",
       "    </tr>\n",
       "    <tr>\n",
       "      <th>1333073</th>\n",
       "      <td>2019-03-31 23:43:00</td>\n",
       "      <td>usdsek</td>\n",
       "      <td>9.27152</td>\n",
       "      <td>9.27304</td>\n",
       "      <td>-0.000044</td>\n",
       "      <td>0.000038</td>\n",
       "      <td>0.00152</td>\n",
       "    </tr>\n",
       "    <tr>\n",
       "      <th>1333074</th>\n",
       "      <td>2019-03-31 23:44:00</td>\n",
       "      <td>usdsek</td>\n",
       "      <td>9.27264</td>\n",
       "      <td>9.27300</td>\n",
       "      <td>0.000121</td>\n",
       "      <td>-0.000004</td>\n",
       "      <td>0.00036</td>\n",
       "    </tr>\n",
       "    <tr>\n",
       "      <th>1333075</th>\n",
       "      <td>2019-03-31 23:45:00</td>\n",
       "      <td>usdsek</td>\n",
       "      <td>9.27271</td>\n",
       "      <td>9.27315</td>\n",
       "      <td>0.000008</td>\n",
       "      <td>0.000016</td>\n",
       "      <td>0.00044</td>\n",
       "    </tr>\n",
       "    <tr>\n",
       "      <th>1333076</th>\n",
       "      <td>2019-03-31 23:46:00</td>\n",
       "      <td>usdsek</td>\n",
       "      <td>9.27224</td>\n",
       "      <td>9.27297</td>\n",
       "      <td>-0.000051</td>\n",
       "      <td>-0.000019</td>\n",
       "      <td>0.00073</td>\n",
       "    </tr>\n",
       "    <tr>\n",
       "      <th>1333077</th>\n",
       "      <td>2019-03-31 23:47:00</td>\n",
       "      <td>usdsek</td>\n",
       "      <td>9.27170</td>\n",
       "      <td>9.27223</td>\n",
       "      <td>-0.000058</td>\n",
       "      <td>-0.000080</td>\n",
       "      <td>0.00053</td>\n",
       "    </tr>\n",
       "    <tr>\n",
       "      <th>1333078</th>\n",
       "      <td>2019-03-31 23:48:00</td>\n",
       "      <td>usdsek</td>\n",
       "      <td>9.27152</td>\n",
       "      <td>9.27188</td>\n",
       "      <td>-0.000019</td>\n",
       "      <td>-0.000038</td>\n",
       "      <td>0.00036</td>\n",
       "    </tr>\n",
       "    <tr>\n",
       "      <th>1333079</th>\n",
       "      <td>2019-03-31 23:49:00</td>\n",
       "      <td>usdsek</td>\n",
       "      <td>9.27075</td>\n",
       "      <td>9.27164</td>\n",
       "      <td>-0.000083</td>\n",
       "      <td>-0.000026</td>\n",
       "      <td>0.00089</td>\n",
       "    </tr>\n",
       "    <tr>\n",
       "      <th>1333080</th>\n",
       "      <td>2019-03-31 23:50:00</td>\n",
       "      <td>usdsek</td>\n",
       "      <td>9.27095</td>\n",
       "      <td>9.27124</td>\n",
       "      <td>0.000022</td>\n",
       "      <td>-0.000043</td>\n",
       "      <td>0.00029</td>\n",
       "    </tr>\n",
       "    <tr>\n",
       "      <th>1333081</th>\n",
       "      <td>2019-03-31 23:51:00</td>\n",
       "      <td>usdsek</td>\n",
       "      <td>9.27012</td>\n",
       "      <td>9.27137</td>\n",
       "      <td>-0.000090</td>\n",
       "      <td>0.000014</td>\n",
       "      <td>0.00125</td>\n",
       "    </tr>\n",
       "    <tr>\n",
       "      <th>1333082</th>\n",
       "      <td>2019-03-31 23:52:00</td>\n",
       "      <td>usdsek</td>\n",
       "      <td>9.27100</td>\n",
       "      <td>9.27148</td>\n",
       "      <td>0.000095</td>\n",
       "      <td>0.000012</td>\n",
       "      <td>0.00048</td>\n",
       "    </tr>\n",
       "    <tr>\n",
       "      <th>1333083</th>\n",
       "      <td>2019-03-31 23:53:00</td>\n",
       "      <td>usdsek</td>\n",
       "      <td>9.27076</td>\n",
       "      <td>9.27141</td>\n",
       "      <td>-0.000026</td>\n",
       "      <td>-0.000008</td>\n",
       "      <td>0.00065</td>\n",
       "    </tr>\n",
       "    <tr>\n",
       "      <th>1333084</th>\n",
       "      <td>2019-03-31 23:54:00</td>\n",
       "      <td>usdsek</td>\n",
       "      <td>9.27080</td>\n",
       "      <td>9.27121</td>\n",
       "      <td>0.000004</td>\n",
       "      <td>-0.000022</td>\n",
       "      <td>0.00041</td>\n",
       "    </tr>\n",
       "    <tr>\n",
       "      <th>1333085</th>\n",
       "      <td>2019-03-31 23:55:00</td>\n",
       "      <td>usdsek</td>\n",
       "      <td>9.27096</td>\n",
       "      <td>9.27247</td>\n",
       "      <td>0.000017</td>\n",
       "      <td>0.000136</td>\n",
       "      <td>0.00151</td>\n",
       "    </tr>\n",
       "    <tr>\n",
       "      <th>1333086</th>\n",
       "      <td>2019-03-31 23:56:00</td>\n",
       "      <td>usdsek</td>\n",
       "      <td>9.27254</td>\n",
       "      <td>9.27306</td>\n",
       "      <td>0.000170</td>\n",
       "      <td>0.000064</td>\n",
       "      <td>0.00052</td>\n",
       "    </tr>\n",
       "    <tr>\n",
       "      <th>1333087</th>\n",
       "      <td>2019-03-31 23:57:00</td>\n",
       "      <td>usdsek</td>\n",
       "      <td>9.27287</td>\n",
       "      <td>9.27305</td>\n",
       "      <td>0.000036</td>\n",
       "      <td>-0.000001</td>\n",
       "      <td>0.00018</td>\n",
       "    </tr>\n",
       "    <tr>\n",
       "      <th>1333088</th>\n",
       "      <td>2019-03-31 23:58:00</td>\n",
       "      <td>usdsek</td>\n",
       "      <td>9.27255</td>\n",
       "      <td>9.27346</td>\n",
       "      <td>-0.000035</td>\n",
       "      <td>0.000044</td>\n",
       "      <td>0.00091</td>\n",
       "    </tr>\n",
       "  </tbody>\n",
       "</table>\n",
       "<p>819513 rows × 7 columns</p>\n",
       "</div>"
      ],
      "text/plain": [
       "                  timestamp     ccy  bid_price  ask_price   bid_ret   ask_ret  \\\n",
       "0       2019-01-01 17:12:00  audusd    0.70465    0.70475  0.000014  0.000085   \n",
       "1       2019-01-01 17:13:00  audusd    0.70465    0.70471  0.000000 -0.000057   \n",
       "2       2019-01-01 17:14:00  audusd    0.70464    0.70472 -0.000014  0.000014   \n",
       "3       2019-01-01 17:15:00  audusd    0.70463    0.70473 -0.000014  0.000014   \n",
       "4       2019-01-01 17:16:00  audusd    0.70463    0.70469  0.000000 -0.000057   \n",
       "...                     ...     ...        ...        ...       ...       ...   \n",
       "1333084 2019-03-31 23:54:00  usdsek    9.27080    9.27121  0.000004 -0.000022   \n",
       "1333085 2019-03-31 23:55:00  usdsek    9.27096    9.27247  0.000017  0.000136   \n",
       "1333086 2019-03-31 23:56:00  usdsek    9.27254    9.27306  0.000170  0.000064   \n",
       "1333087 2019-03-31 23:57:00  usdsek    9.27287    9.27305  0.000036 -0.000001   \n",
       "1333088 2019-03-31 23:58:00  usdsek    9.27255    9.27346 -0.000035  0.000044   \n",
       "\n",
       "         mid_price  \n",
       "0          0.00010  \n",
       "1          0.00006  \n",
       "2          0.00008  \n",
       "3          0.00010  \n",
       "4          0.00006  \n",
       "...            ...  \n",
       "1333084    0.00041  \n",
       "1333085    0.00151  \n",
       "1333086    0.00052  \n",
       "1333087    0.00018  \n",
       "1333088    0.00091  \n",
       "\n",
       "[819513 rows x 7 columns]"
      ]
     },
     "execution_count": 132,
     "metadata": {},
     "output_type": "execute_result"
    }
   ],
   "source": [
    "X_train"
   ]
  },
  {
   "cell_type": "code",
   "execution_count": 121,
   "metadata": {
    "ExecuteTime": {
     "end_time": "2019-11-04T03:22:24.143031Z",
     "start_time": "2019-11-04T03:22:24.139404Z"
    }
   },
   "outputs": [
    {
     "data": {
      "text/plain": [
       "(3, 36)"
      ]
     },
     "execution_count": 121,
     "metadata": {},
     "output_type": "execute_result"
    }
   ],
   "source": [
    "features.shape"
   ]
  },
  {
   "cell_type": "code",
   "execution_count": 122,
   "metadata": {
    "ExecuteTime": {
     "end_time": "2019-11-04T03:22:24.698343Z",
     "start_time": "2019-11-04T03:22:24.692720Z"
    }
   },
   "outputs": [
    {
     "data": {
      "text/plain": [
       "array([ 0.1184248 , -0.58560619, -0.5855962 , -0.5855962 ,  1.00355167,\n",
       "        1.44612103,  0.87973326,  1.6410534 ,  0.86520712,  0.86520712,\n",
       "       -0.62372478,  3.08713404,  1.57963245,  2.55379478, -2.10809715,\n",
       "       -1.21750035, -0.28469299, -0.28469299,  0.1184248 ,  0.5893887 ,\n",
       "        0.56097837,  0.1184248 , -0.64285448,  0.1184248 ,  0.86517342,\n",
       "        1.61193328, -0.25264583,  0.1184248 ,  0.60548446,  1.0925489 ,\n",
       "       -0.32686362, -0.32686362, -1.14849256, -0.745386  , -0.71883333,\n",
       "       -0.71883333])"
      ]
     },
     "execution_count": 122,
     "metadata": {},
     "output_type": "execute_result"
    }
   ],
   "source": [
    "features[0]"
   ]
  },
  {
   "cell_type": "code",
   "execution_count": 123,
   "metadata": {
    "ExecuteTime": {
     "end_time": "2019-11-04T03:22:25.408060Z",
     "start_time": "2019-11-04T03:22:25.398066Z"
    }
   },
   "outputs": [
    {
     "data": {
      "text/plain": [
       "(36,)"
      ]
     },
     "execution_count": 123,
     "metadata": {},
     "output_type": "execute_result"
    }
   ],
   "source": [
    "features[0].shape"
   ]
  },
  {
   "cell_type": "code",
   "execution_count": 124,
   "metadata": {
    "ExecuteTime": {
     "end_time": "2019-11-04T03:22:28.036723Z",
     "start_time": "2019-11-04T03:22:28.033029Z"
    }
   },
   "outputs": [
    {
     "data": {
      "text/plain": [
       "3"
      ]
     },
     "execution_count": 124,
     "metadata": {},
     "output_type": "execute_result"
    }
   ],
   "source": [
    "len(features)"
   ]
  },
  {
   "cell_type": "code",
   "execution_count": 102,
   "metadata": {
    "ExecuteTime": {
     "end_time": "2019-11-04T03:19:08.740104Z",
     "start_time": "2019-11-04T03:19:08.734511Z"
    }
   },
   "outputs": [
    {
     "data": {
      "text/plain": [
       "array([-1.28822975e-231,  2.00389893e+000,  2.78113689e-314,\n",
       "        2.78114481e-314,  2.78114482e-314,  2.12199580e-314,\n",
       "        0.00000000e+000,  3.95252517e-323,  2.12199579e-314,\n",
       "        2.76946182e-314,  2.76946163e-314,  2.76946188e-314,\n",
       "        2.77594478e-314,  2.79264360e-314,  2.79264366e-314,\n",
       "        2.79264373e-314,  2.79264379e-314,  2.79264385e-314,\n",
       "        2.79264392e-314,  2.79264398e-314,  2.79264404e-314,\n",
       "        2.21885319e-314, -1.28822975e-231,  2.00389893e+000,\n",
       "        2.34573531e-314,  2.21885273e-314,  2.34575557e-314,\n",
       "        2.21885273e-314,  2.34573147e-314,  2.21885273e-314,\n",
       "        2.33376200e-314,  2.21885319e-314,  2.34574979e-314,\n",
       "        2.21885273e-314,  1.29074111e-231, -1.28822975e-231,\n",
       "        5.92878775e-323,  0.00000000e+000,  0.00000000e+000,\n",
       "        0.00000000e+000,  0.00000000e+000,  0.00000000e+000,\n",
       "        0.00000000e+000,  0.00000000e+000,  0.00000000e+000,\n",
       "        0.00000000e+000,  2.12199579e-314,  2.12199579e-314,\n",
       "        0.00000000e+000,  0.00000000e+000,  2.75557184e-314,\n",
       "        0.00000000e+000,  0.00000000e+000,  0.00000000e+000,\n",
       "        2.75557184e-314,  2.75557184e-314,  0.00000000e+000,\n",
       "        1.72443224e-307,  0.00000000e+000,  0.00000000e+000,\n",
       "        0.00000000e+000,  4.94065646e-324,  2.79263831e-314,\n",
       "        2.12199579e-314,  4.94065646e-324,  0.00000000e+000,\n",
       "        0.00000000e+000,  0.00000000e+000,  0.00000000e+000,\n",
       "        0.00000000e+000,  0.00000000e+000,  0.00000000e+000,\n",
       "        0.00000000e+000,  0.00000000e+000,  0.00000000e+000,\n",
       "        0.00000000e+000,  0.00000000e+000,  0.00000000e+000,\n",
       "        0.00000000e+000,  0.00000000e+000,  0.00000000e+000,\n",
       "        0.00000000e+000,  0.00000000e+000,  0.00000000e+000,\n",
       "        0.00000000e+000,  0.00000000e+000,  3.50977866e+064,\n",
       "        0.00000000e+000,  0.00000000e+000,  0.00000000e+000])"
      ]
     },
     "execution_count": 102,
     "metadata": {},
     "output_type": "execute_result"
    }
   ],
   "source": [
    "np.empty(len(features))"
   ]
  },
  {
   "cell_type": "code",
   "execution_count": 103,
   "metadata": {
    "ExecuteTime": {
     "end_time": "2019-11-04T03:19:09.085342Z",
     "start_time": "2019-11-04T03:19:09.081516Z"
    }
   },
   "outputs": [
    {
     "data": {
      "text/plain": [
       "180"
      ]
     },
     "execution_count": 103,
     "metadata": {},
     "output_type": "execute_result"
    }
   ],
   "source": [
    "features.shape[1]"
   ]
  },
  {
   "cell_type": "code",
   "execution_count": 104,
   "metadata": {
    "ExecuteTime": {
     "end_time": "2019-11-04T03:19:09.349304Z",
     "start_time": "2019-11-04T03:19:09.285791Z"
    }
   },
   "outputs": [
    {
     "data": {
      "text/html": [
       "<div>\n",
       "<style scoped>\n",
       "    .dataframe tbody tr th:only-of-type {\n",
       "        vertical-align: middle;\n",
       "    }\n",
       "\n",
       "    .dataframe tbody tr th {\n",
       "        vertical-align: top;\n",
       "    }\n",
       "\n",
       "    .dataframe thead th {\n",
       "        text-align: right;\n",
       "    }\n",
       "</style>\n",
       "<table border=\"1\" class=\"dataframe\">\n",
       "  <thead>\n",
       "    <tr style=\"text-align: right;\">\n",
       "      <th></th>\n",
       "      <th>datetime</th>\n",
       "      <th>high</th>\n",
       "      <th>low</th>\n",
       "    </tr>\n",
       "  </thead>\n",
       "  <tbody>\n",
       "    <tr>\n",
       "      <th>0</th>\n",
       "      <td>20190501 000100</td>\n",
       "      <td>1.12188</td>\n",
       "      <td>1.12182</td>\n",
       "    </tr>\n",
       "    <tr>\n",
       "      <th>1</th>\n",
       "      <td>20190501 000200</td>\n",
       "      <td>1.12184</td>\n",
       "      <td>1.12182</td>\n",
       "    </tr>\n",
       "    <tr>\n",
       "      <th>2</th>\n",
       "      <td>20190501 000300</td>\n",
       "      <td>1.12183</td>\n",
       "      <td>1.12182</td>\n",
       "    </tr>\n",
       "    <tr>\n",
       "      <th>3</th>\n",
       "      <td>20190501 000400</td>\n",
       "      <td>1.12183</td>\n",
       "      <td>1.12182</td>\n",
       "    </tr>\n",
       "    <tr>\n",
       "      <th>4</th>\n",
       "      <td>20190501 000500</td>\n",
       "      <td>1.12183</td>\n",
       "      <td>1.12179</td>\n",
       "    </tr>\n",
       "    <tr>\n",
       "      <th>5</th>\n",
       "      <td>20190501 000600</td>\n",
       "      <td>1.12181</td>\n",
       "      <td>1.12180</td>\n",
       "    </tr>\n",
       "    <tr>\n",
       "      <th>6</th>\n",
       "      <td>20190501 000700</td>\n",
       "      <td>1.12180</td>\n",
       "      <td>1.12179</td>\n",
       "    </tr>\n",
       "    <tr>\n",
       "      <th>7</th>\n",
       "      <td>20190501 000800</td>\n",
       "      <td>1.12180</td>\n",
       "      <td>1.12179</td>\n",
       "    </tr>\n",
       "    <tr>\n",
       "      <th>8</th>\n",
       "      <td>20190501 000900</td>\n",
       "      <td>1.12180</td>\n",
       "      <td>1.12180</td>\n",
       "    </tr>\n",
       "    <tr>\n",
       "      <th>9</th>\n",
       "      <td>20190501 001000</td>\n",
       "      <td>1.12184</td>\n",
       "      <td>1.12182</td>\n",
       "    </tr>\n",
       "    <tr>\n",
       "      <th>10</th>\n",
       "      <td>20190501 001100</td>\n",
       "      <td>1.12184</td>\n",
       "      <td>1.12183</td>\n",
       "    </tr>\n",
       "    <tr>\n",
       "      <th>11</th>\n",
       "      <td>20190501 001200</td>\n",
       "      <td>1.12184</td>\n",
       "      <td>1.12179</td>\n",
       "    </tr>\n",
       "    <tr>\n",
       "      <th>12</th>\n",
       "      <td>20190501 001300</td>\n",
       "      <td>1.12183</td>\n",
       "      <td>1.12180</td>\n",
       "    </tr>\n",
       "    <tr>\n",
       "      <th>13</th>\n",
       "      <td>20190501 001400</td>\n",
       "      <td>1.12184</td>\n",
       "      <td>1.12182</td>\n",
       "    </tr>\n",
       "    <tr>\n",
       "      <th>14</th>\n",
       "      <td>20190501 001500</td>\n",
       "      <td>1.12183</td>\n",
       "      <td>1.12182</td>\n",
       "    </tr>\n",
       "    <tr>\n",
       "      <th>15</th>\n",
       "      <td>20190501 001600</td>\n",
       "      <td>1.12183</td>\n",
       "      <td>1.12182</td>\n",
       "    </tr>\n",
       "    <tr>\n",
       "      <th>16</th>\n",
       "      <td>20190501 001700</td>\n",
       "      <td>1.12184</td>\n",
       "      <td>1.12181</td>\n",
       "    </tr>\n",
       "    <tr>\n",
       "      <th>17</th>\n",
       "      <td>20190501 001800</td>\n",
       "      <td>1.12184</td>\n",
       "      <td>1.12182</td>\n",
       "    </tr>\n",
       "    <tr>\n",
       "      <th>18</th>\n",
       "      <td>20190501 001900</td>\n",
       "      <td>1.12183</td>\n",
       "      <td>1.12182</td>\n",
       "    </tr>\n",
       "    <tr>\n",
       "      <th>19</th>\n",
       "      <td>20190501 002000</td>\n",
       "      <td>1.12183</td>\n",
       "      <td>1.12182</td>\n",
       "    </tr>\n",
       "    <tr>\n",
       "      <th>20</th>\n",
       "      <td>20190501 002100</td>\n",
       "      <td>1.12183</td>\n",
       "      <td>1.12182</td>\n",
       "    </tr>\n",
       "    <tr>\n",
       "      <th>21</th>\n",
       "      <td>20190501 002200</td>\n",
       "      <td>1.12183</td>\n",
       "      <td>1.12182</td>\n",
       "    </tr>\n",
       "    <tr>\n",
       "      <th>22</th>\n",
       "      <td>20190501 002300</td>\n",
       "      <td>1.12183</td>\n",
       "      <td>1.12182</td>\n",
       "    </tr>\n",
       "    <tr>\n",
       "      <th>23</th>\n",
       "      <td>20190501 002400</td>\n",
       "      <td>1.12183</td>\n",
       "      <td>1.12181</td>\n",
       "    </tr>\n",
       "    <tr>\n",
       "      <th>24</th>\n",
       "      <td>20190501 002500</td>\n",
       "      <td>1.12184</td>\n",
       "      <td>1.12182</td>\n",
       "    </tr>\n",
       "    <tr>\n",
       "      <th>25</th>\n",
       "      <td>20190501 002600</td>\n",
       "      <td>1.12188</td>\n",
       "      <td>1.12180</td>\n",
       "    </tr>\n",
       "    <tr>\n",
       "      <th>26</th>\n",
       "      <td>20190501 002700</td>\n",
       "      <td>1.12182</td>\n",
       "      <td>1.12178</td>\n",
       "    </tr>\n",
       "    <tr>\n",
       "      <th>27</th>\n",
       "      <td>20190501 002800</td>\n",
       "      <td>1.12182</td>\n",
       "      <td>1.12181</td>\n",
       "    </tr>\n",
       "    <tr>\n",
       "      <th>28</th>\n",
       "      <td>20190501 002900</td>\n",
       "      <td>1.12181</td>\n",
       "      <td>1.12178</td>\n",
       "    </tr>\n",
       "    <tr>\n",
       "      <th>29</th>\n",
       "      <td>20190501 003000</td>\n",
       "      <td>1.12178</td>\n",
       "      <td>1.12177</td>\n",
       "    </tr>\n",
       "    <tr>\n",
       "      <th>...</th>\n",
       "      <td>...</td>\n",
       "      <td>...</td>\n",
       "      <td>...</td>\n",
       "    </tr>\n",
       "    <tr>\n",
       "      <th>31938</th>\n",
       "      <td>20190531 162900</td>\n",
       "      <td>1.11682</td>\n",
       "      <td>1.11668</td>\n",
       "    </tr>\n",
       "    <tr>\n",
       "      <th>31939</th>\n",
       "      <td>20190531 163000</td>\n",
       "      <td>1.11671</td>\n",
       "      <td>1.11667</td>\n",
       "    </tr>\n",
       "    <tr>\n",
       "      <th>31940</th>\n",
       "      <td>20190531 163100</td>\n",
       "      <td>1.11668</td>\n",
       "      <td>1.11665</td>\n",
       "    </tr>\n",
       "    <tr>\n",
       "      <th>31941</th>\n",
       "      <td>20190531 163200</td>\n",
       "      <td>1.11667</td>\n",
       "      <td>1.11666</td>\n",
       "    </tr>\n",
       "    <tr>\n",
       "      <th>31942</th>\n",
       "      <td>20190531 163300</td>\n",
       "      <td>1.11670</td>\n",
       "      <td>1.11666</td>\n",
       "    </tr>\n",
       "    <tr>\n",
       "      <th>31943</th>\n",
       "      <td>20190531 163400</td>\n",
       "      <td>1.11669</td>\n",
       "      <td>1.11667</td>\n",
       "    </tr>\n",
       "    <tr>\n",
       "      <th>31944</th>\n",
       "      <td>20190531 163500</td>\n",
       "      <td>1.11669</td>\n",
       "      <td>1.11667</td>\n",
       "    </tr>\n",
       "    <tr>\n",
       "      <th>31945</th>\n",
       "      <td>20190531 163600</td>\n",
       "      <td>1.11669</td>\n",
       "      <td>1.11667</td>\n",
       "    </tr>\n",
       "    <tr>\n",
       "      <th>31946</th>\n",
       "      <td>20190531 163700</td>\n",
       "      <td>1.11669</td>\n",
       "      <td>1.11668</td>\n",
       "    </tr>\n",
       "    <tr>\n",
       "      <th>31947</th>\n",
       "      <td>20190531 163800</td>\n",
       "      <td>1.11667</td>\n",
       "      <td>1.11663</td>\n",
       "    </tr>\n",
       "    <tr>\n",
       "      <th>31948</th>\n",
       "      <td>20190531 163900</td>\n",
       "      <td>1.11666</td>\n",
       "      <td>1.11662</td>\n",
       "    </tr>\n",
       "    <tr>\n",
       "      <th>31949</th>\n",
       "      <td>20190531 164000</td>\n",
       "      <td>1.11662</td>\n",
       "      <td>1.11658</td>\n",
       "    </tr>\n",
       "    <tr>\n",
       "      <th>31950</th>\n",
       "      <td>20190531 164100</td>\n",
       "      <td>1.11662</td>\n",
       "      <td>1.11658</td>\n",
       "    </tr>\n",
       "    <tr>\n",
       "      <th>31951</th>\n",
       "      <td>20190531 164200</td>\n",
       "      <td>1.11664</td>\n",
       "      <td>1.11660</td>\n",
       "    </tr>\n",
       "    <tr>\n",
       "      <th>31952</th>\n",
       "      <td>20190531 164300</td>\n",
       "      <td>1.11666</td>\n",
       "      <td>1.11661</td>\n",
       "    </tr>\n",
       "    <tr>\n",
       "      <th>31953</th>\n",
       "      <td>20190531 164400</td>\n",
       "      <td>1.11666</td>\n",
       "      <td>1.11657</td>\n",
       "    </tr>\n",
       "    <tr>\n",
       "      <th>31954</th>\n",
       "      <td>20190531 164500</td>\n",
       "      <td>1.11666</td>\n",
       "      <td>1.11660</td>\n",
       "    </tr>\n",
       "    <tr>\n",
       "      <th>31955</th>\n",
       "      <td>20190531 164600</td>\n",
       "      <td>1.11666</td>\n",
       "      <td>1.11656</td>\n",
       "    </tr>\n",
       "    <tr>\n",
       "      <th>31956</th>\n",
       "      <td>20190531 164700</td>\n",
       "      <td>1.11662</td>\n",
       "      <td>1.11657</td>\n",
       "    </tr>\n",
       "    <tr>\n",
       "      <th>31957</th>\n",
       "      <td>20190531 164800</td>\n",
       "      <td>1.11661</td>\n",
       "      <td>1.11660</td>\n",
       "    </tr>\n",
       "    <tr>\n",
       "      <th>31958</th>\n",
       "      <td>20190531 164900</td>\n",
       "      <td>1.11661</td>\n",
       "      <td>1.11660</td>\n",
       "    </tr>\n",
       "    <tr>\n",
       "      <th>31959</th>\n",
       "      <td>20190531 165000</td>\n",
       "      <td>1.11675</td>\n",
       "      <td>1.11656</td>\n",
       "    </tr>\n",
       "    <tr>\n",
       "      <th>31960</th>\n",
       "      <td>20190531 165100</td>\n",
       "      <td>1.11671</td>\n",
       "      <td>1.11665</td>\n",
       "    </tr>\n",
       "    <tr>\n",
       "      <th>31961</th>\n",
       "      <td>20190531 165200</td>\n",
       "      <td>1.11673</td>\n",
       "      <td>1.11666</td>\n",
       "    </tr>\n",
       "    <tr>\n",
       "      <th>31962</th>\n",
       "      <td>20190531 165300</td>\n",
       "      <td>1.11676</td>\n",
       "      <td>1.11669</td>\n",
       "    </tr>\n",
       "    <tr>\n",
       "      <th>31963</th>\n",
       "      <td>20190531 165400</td>\n",
       "      <td>1.11686</td>\n",
       "      <td>1.11676</td>\n",
       "    </tr>\n",
       "    <tr>\n",
       "      <th>31964</th>\n",
       "      <td>20190531 165500</td>\n",
       "      <td>1.11692</td>\n",
       "      <td>1.11678</td>\n",
       "    </tr>\n",
       "    <tr>\n",
       "      <th>31965</th>\n",
       "      <td>20190531 165600</td>\n",
       "      <td>1.11692</td>\n",
       "      <td>1.11685</td>\n",
       "    </tr>\n",
       "    <tr>\n",
       "      <th>31966</th>\n",
       "      <td>20190531 165700</td>\n",
       "      <td>1.11688</td>\n",
       "      <td>1.11679</td>\n",
       "    </tr>\n",
       "    <tr>\n",
       "      <th>31967</th>\n",
       "      <td>20190531 165800</td>\n",
       "      <td>1.11686</td>\n",
       "      <td>1.11675</td>\n",
       "    </tr>\n",
       "  </tbody>\n",
       "</table>\n",
       "<p>31968 rows × 3 columns</p>\n",
       "</div>"
      ],
      "text/plain": [
       "              datetime     high      low\n",
       "0      20190501 000100  1.12188  1.12182\n",
       "1      20190501 000200  1.12184  1.12182\n",
       "2      20190501 000300  1.12183  1.12182\n",
       "3      20190501 000400  1.12183  1.12182\n",
       "4      20190501 000500  1.12183  1.12179\n",
       "...                ...      ...      ...\n",
       "31963  20190531 165400  1.11686  1.11676\n",
       "31964  20190531 165500  1.11692  1.11678\n",
       "31965  20190531 165600  1.11692  1.11685\n",
       "31966  20190531 165700  1.11688  1.11679\n",
       "31967  20190531 165800  1.11686  1.11675\n",
       "\n",
       "[31968 rows x 3 columns]"
      ]
     },
     "execution_count": 104,
     "metadata": {},
     "output_type": "execute_result"
    }
   ],
   "source": [
    "df['eurusd']"
   ]
  },
  {
   "cell_type": "code",
   "execution_count": 84,
   "metadata": {
    "ExecuteTime": {
     "end_time": "2019-11-03T22:16:23.606301Z",
     "start_time": "2019-11-03T22:16:23.594579Z"
    }
   },
   "outputs": [
    {
     "data": {
      "text/plain": [
       "31616"
      ]
     },
     "execution_count": 84,
     "metadata": {},
     "output_type": "execute_result"
    }
   ],
   "source": [
    "np.min([df[key].shape[0] for key in df.keys()])"
   ]
  },
  {
   "cell_type": "code",
   "execution_count": 85,
   "metadata": {
    "ExecuteTime": {
     "end_time": "2019-11-03T22:32:06.836069Z",
     "start_time": "2019-11-03T22:32:06.832187Z"
    }
   },
   "outputs": [
    {
     "data": {
      "text/plain": [
       "(80, 360)"
      ]
     },
     "execution_count": 85,
     "metadata": {},
     "output_type": "execute_result"
    }
   ],
   "source": [
    "features.shape"
   ]
  },
  {
   "cell_type": "code",
   "execution_count": 133,
   "metadata": {
    "ExecuteTime": {
     "end_time": "2019-11-04T23:17:06.533391Z",
     "start_time": "2019-11-04T23:17:06.509070Z"
    }
   },
   "outputs": [
    {
     "data": {
      "text/plain": [
       "tensorflow.python.framework.type_spec.TypeSpec"
      ]
     },
     "execution_count": 133,
     "metadata": {},
     "output_type": "execute_result"
    }
   ],
   "source": [
    "import tensorflow as tf\n",
    "tf.TypeSpec"
   ]
  },
  {
   "cell_type": "code",
   "execution_count": 134,
   "metadata": {
    "ExecuteTime": {
     "end_time": "2019-11-04T23:25:36.321937Z",
     "start_time": "2019-11-04T23:25:36.306985Z"
    }
   },
   "outputs": [
    {
     "data": {
      "text/plain": [
       "'2.0.0'"
      ]
     },
     "execution_count": 134,
     "metadata": {},
     "output_type": "execute_result"
    }
   ],
   "source": [
    "tf.__version__"
   ]
  },
  {
   "cell_type": "code",
   "execution_count": 135,
   "metadata": {
    "ExecuteTime": {
     "end_time": "2019-11-05T05:33:50.110275Z",
     "start_time": "2019-11-05T05:33:49.928666Z"
    }
   },
   "outputs": [
    {
     "data": {
      "text/html": [
       "<div>\n",
       "<style scoped>\n",
       "    .dataframe tbody tr th:only-of-type {\n",
       "        vertical-align: middle;\n",
       "    }\n",
       "\n",
       "    .dataframe tbody tr th {\n",
       "        vertical-align: top;\n",
       "    }\n",
       "\n",
       "    .dataframe thead th {\n",
       "        text-align: right;\n",
       "    }\n",
       "</style>\n",
       "<table border=\"1\" class=\"dataframe\">\n",
       "  <thead>\n",
       "    <tr style=\"text-align: right;\">\n",
       "      <th></th>\n",
       "      <th>timestamp</th>\n",
       "      <th>ccy</th>\n",
       "      <th>bid_price</th>\n",
       "      <th>ask_price</th>\n",
       "      <th>bid_ret</th>\n",
       "      <th>ask_ret</th>\n",
       "      <th>mid_price</th>\n",
       "    </tr>\n",
       "  </thead>\n",
       "  <tbody>\n",
       "    <tr>\n",
       "      <th>0</th>\n",
       "      <td>2019-05-01 00:02:00</td>\n",
       "      <td>audusd</td>\n",
       "      <td>0.70514</td>\n",
       "      <td>0.70517</td>\n",
       "      <td>0.000000</td>\n",
       "      <td>0.000000</td>\n",
       "      <td>0.00003</td>\n",
       "    </tr>\n",
       "    <tr>\n",
       "      <th>1</th>\n",
       "      <td>2019-05-01 00:03:00</td>\n",
       "      <td>audusd</td>\n",
       "      <td>0.70517</td>\n",
       "      <td>0.70517</td>\n",
       "      <td>0.000043</td>\n",
       "      <td>0.000000</td>\n",
       "      <td>0.00000</td>\n",
       "    </tr>\n",
       "    <tr>\n",
       "      <th>2</th>\n",
       "      <td>2019-05-01 00:04:00</td>\n",
       "      <td>audusd</td>\n",
       "      <td>0.70517</td>\n",
       "      <td>0.70518</td>\n",
       "      <td>0.000000</td>\n",
       "      <td>0.000014</td>\n",
       "      <td>0.00001</td>\n",
       "    </tr>\n",
       "    <tr>\n",
       "      <th>3</th>\n",
       "      <td>2019-05-01 00:05:00</td>\n",
       "      <td>audusd</td>\n",
       "      <td>0.70517</td>\n",
       "      <td>0.70518</td>\n",
       "      <td>0.000000</td>\n",
       "      <td>0.000000</td>\n",
       "      <td>0.00001</td>\n",
       "    </tr>\n",
       "    <tr>\n",
       "      <th>4</th>\n",
       "      <td>2019-05-01 00:06:00</td>\n",
       "      <td>audusd</td>\n",
       "      <td>0.70517</td>\n",
       "      <td>0.70518</td>\n",
       "      <td>0.000000</td>\n",
       "      <td>0.000000</td>\n",
       "      <td>0.00001</td>\n",
       "    </tr>\n",
       "    <tr>\n",
       "      <th>5</th>\n",
       "      <td>2019-05-01 00:07:00</td>\n",
       "      <td>audusd</td>\n",
       "      <td>0.70517</td>\n",
       "      <td>0.70518</td>\n",
       "      <td>0.000000</td>\n",
       "      <td>0.000000</td>\n",
       "      <td>0.00001</td>\n",
       "    </tr>\n",
       "    <tr>\n",
       "      <th>6</th>\n",
       "      <td>2019-05-01 00:08:00</td>\n",
       "      <td>audusd</td>\n",
       "      <td>0.70517</td>\n",
       "      <td>0.70518</td>\n",
       "      <td>0.000000</td>\n",
       "      <td>0.000000</td>\n",
       "      <td>0.00001</td>\n",
       "    </tr>\n",
       "    <tr>\n",
       "      <th>7</th>\n",
       "      <td>2019-05-01 00:09:00</td>\n",
       "      <td>audusd</td>\n",
       "      <td>0.70517</td>\n",
       "      <td>0.70518</td>\n",
       "      <td>0.000000</td>\n",
       "      <td>0.000000</td>\n",
       "      <td>0.00001</td>\n",
       "    </tr>\n",
       "    <tr>\n",
       "      <th>8</th>\n",
       "      <td>2019-05-01 00:10:00</td>\n",
       "      <td>audusd</td>\n",
       "      <td>0.70517</td>\n",
       "      <td>0.70518</td>\n",
       "      <td>0.000000</td>\n",
       "      <td>0.000000</td>\n",
       "      <td>0.00001</td>\n",
       "    </tr>\n",
       "    <tr>\n",
       "      <th>9</th>\n",
       "      <td>2019-05-01 00:11:00</td>\n",
       "      <td>audusd</td>\n",
       "      <td>0.70518</td>\n",
       "      <td>0.70522</td>\n",
       "      <td>0.000014</td>\n",
       "      <td>0.000057</td>\n",
       "      <td>0.00004</td>\n",
       "    </tr>\n",
       "    <tr>\n",
       "      <th>10</th>\n",
       "      <td>2019-05-01 00:12:00</td>\n",
       "      <td>audusd</td>\n",
       "      <td>0.70519</td>\n",
       "      <td>0.70520</td>\n",
       "      <td>0.000014</td>\n",
       "      <td>-0.000028</td>\n",
       "      <td>0.00001</td>\n",
       "    </tr>\n",
       "    <tr>\n",
       "      <th>11</th>\n",
       "      <td>2019-05-01 00:13:00</td>\n",
       "      <td>audusd</td>\n",
       "      <td>0.70518</td>\n",
       "      <td>0.70520</td>\n",
       "      <td>-0.000014</td>\n",
       "      <td>0.000000</td>\n",
       "      <td>0.00002</td>\n",
       "    </tr>\n",
       "    <tr>\n",
       "      <th>12</th>\n",
       "      <td>2019-05-01 00:14:00</td>\n",
       "      <td>audusd</td>\n",
       "      <td>0.70518</td>\n",
       "      <td>0.70519</td>\n",
       "      <td>0.000000</td>\n",
       "      <td>-0.000014</td>\n",
       "      <td>0.00001</td>\n",
       "    </tr>\n",
       "    <tr>\n",
       "      <th>13</th>\n",
       "      <td>2019-05-01 00:15:00</td>\n",
       "      <td>audusd</td>\n",
       "      <td>0.70519</td>\n",
       "      <td>0.70519</td>\n",
       "      <td>0.000014</td>\n",
       "      <td>0.000000</td>\n",
       "      <td>0.00000</td>\n",
       "    </tr>\n",
       "    <tr>\n",
       "      <th>14</th>\n",
       "      <td>2019-05-01 00:16:00</td>\n",
       "      <td>audusd</td>\n",
       "      <td>0.70520</td>\n",
       "      <td>0.70521</td>\n",
       "      <td>0.000014</td>\n",
       "      <td>0.000028</td>\n",
       "      <td>0.00001</td>\n",
       "    </tr>\n",
       "    <tr>\n",
       "      <th>15</th>\n",
       "      <td>2019-05-01 00:17:00</td>\n",
       "      <td>audusd</td>\n",
       "      <td>0.70518</td>\n",
       "      <td>0.70520</td>\n",
       "      <td>-0.000028</td>\n",
       "      <td>-0.000014</td>\n",
       "      <td>0.00002</td>\n",
       "    </tr>\n",
       "    <tr>\n",
       "      <th>16</th>\n",
       "      <td>2019-05-01 00:18:00</td>\n",
       "      <td>audusd</td>\n",
       "      <td>0.70520</td>\n",
       "      <td>0.70529</td>\n",
       "      <td>0.000028</td>\n",
       "      <td>0.000128</td>\n",
       "      <td>0.00009</td>\n",
       "    </tr>\n",
       "    <tr>\n",
       "      <th>17</th>\n",
       "      <td>2019-05-01 00:19:00</td>\n",
       "      <td>audusd</td>\n",
       "      <td>0.70528</td>\n",
       "      <td>0.70530</td>\n",
       "      <td>0.000113</td>\n",
       "      <td>0.000014</td>\n",
       "      <td>0.00002</td>\n",
       "    </tr>\n",
       "    <tr>\n",
       "      <th>18</th>\n",
       "      <td>2019-05-01 00:20:00</td>\n",
       "      <td>audusd</td>\n",
       "      <td>0.70530</td>\n",
       "      <td>0.70531</td>\n",
       "      <td>0.000028</td>\n",
       "      <td>0.000014</td>\n",
       "      <td>0.00001</td>\n",
       "    </tr>\n",
       "    <tr>\n",
       "      <th>19</th>\n",
       "      <td>2019-05-01 00:21:00</td>\n",
       "      <td>audusd</td>\n",
       "      <td>0.70528</td>\n",
       "      <td>0.70531</td>\n",
       "      <td>-0.000028</td>\n",
       "      <td>0.000000</td>\n",
       "      <td>0.00003</td>\n",
       "    </tr>\n",
       "    <tr>\n",
       "      <th>20</th>\n",
       "      <td>2019-05-01 00:22:00</td>\n",
       "      <td>audusd</td>\n",
       "      <td>0.70537</td>\n",
       "      <td>0.70537</td>\n",
       "      <td>0.000128</td>\n",
       "      <td>0.000085</td>\n",
       "      <td>0.00000</td>\n",
       "    </tr>\n",
       "    <tr>\n",
       "      <th>21</th>\n",
       "      <td>2019-05-01 00:23:00</td>\n",
       "      <td>audusd</td>\n",
       "      <td>0.70537</td>\n",
       "      <td>0.70539</td>\n",
       "      <td>0.000000</td>\n",
       "      <td>0.000028</td>\n",
       "      <td>0.00002</td>\n",
       "    </tr>\n",
       "    <tr>\n",
       "      <th>22</th>\n",
       "      <td>2019-05-01 00:24:00</td>\n",
       "      <td>audusd</td>\n",
       "      <td>0.70527</td>\n",
       "      <td>0.70538</td>\n",
       "      <td>-0.000142</td>\n",
       "      <td>-0.000014</td>\n",
       "      <td>0.00011</td>\n",
       "    </tr>\n",
       "    <tr>\n",
       "      <th>23</th>\n",
       "      <td>2019-05-01 00:25:00</td>\n",
       "      <td>audusd</td>\n",
       "      <td>0.70535</td>\n",
       "      <td>0.70539</td>\n",
       "      <td>0.000113</td>\n",
       "      <td>0.000014</td>\n",
       "      <td>0.00004</td>\n",
       "    </tr>\n",
       "    <tr>\n",
       "      <th>24</th>\n",
       "      <td>2019-05-01 00:26:00</td>\n",
       "      <td>audusd</td>\n",
       "      <td>0.70538</td>\n",
       "      <td>0.70539</td>\n",
       "      <td>0.000043</td>\n",
       "      <td>0.000000</td>\n",
       "      <td>0.00001</td>\n",
       "    </tr>\n",
       "    <tr>\n",
       "      <th>25</th>\n",
       "      <td>2019-05-01 00:27:00</td>\n",
       "      <td>audusd</td>\n",
       "      <td>0.70537</td>\n",
       "      <td>0.70538</td>\n",
       "      <td>-0.000014</td>\n",
       "      <td>-0.000014</td>\n",
       "      <td>0.00001</td>\n",
       "    </tr>\n",
       "    <tr>\n",
       "      <th>26</th>\n",
       "      <td>2019-05-01 00:28:00</td>\n",
       "      <td>audusd</td>\n",
       "      <td>0.70535</td>\n",
       "      <td>0.70538</td>\n",
       "      <td>-0.000028</td>\n",
       "      <td>0.000000</td>\n",
       "      <td>0.00003</td>\n",
       "    </tr>\n",
       "    <tr>\n",
       "      <th>27</th>\n",
       "      <td>2019-05-01 00:29:00</td>\n",
       "      <td>audusd</td>\n",
       "      <td>0.70526</td>\n",
       "      <td>0.70534</td>\n",
       "      <td>-0.000128</td>\n",
       "      <td>-0.000057</td>\n",
       "      <td>0.00008</td>\n",
       "    </tr>\n",
       "    <tr>\n",
       "      <th>28</th>\n",
       "      <td>2019-05-01 00:30:00</td>\n",
       "      <td>audusd</td>\n",
       "      <td>0.70527</td>\n",
       "      <td>0.70529</td>\n",
       "      <td>0.000014</td>\n",
       "      <td>-0.000071</td>\n",
       "      <td>0.00002</td>\n",
       "    </tr>\n",
       "    <tr>\n",
       "      <th>29</th>\n",
       "      <td>2019-05-01 00:31:00</td>\n",
       "      <td>audusd</td>\n",
       "      <td>0.70528</td>\n",
       "      <td>0.70529</td>\n",
       "      <td>0.000014</td>\n",
       "      <td>0.000000</td>\n",
       "      <td>0.00001</td>\n",
       "    </tr>\n",
       "    <tr>\n",
       "      <th>...</th>\n",
       "      <td>...</td>\n",
       "      <td>...</td>\n",
       "      <td>...</td>\n",
       "      <td>...</td>\n",
       "      <td>...</td>\n",
       "      <td>...</td>\n",
       "      <td>...</td>\n",
       "    </tr>\n",
       "    <tr>\n",
       "      <th>285853</th>\n",
       "      <td>2019-05-26 23:30:00</td>\n",
       "      <td>usdsek</td>\n",
       "      <td>9.52895</td>\n",
       "      <td>9.52895</td>\n",
       "      <td>0.000000</td>\n",
       "      <td>0.000000</td>\n",
       "      <td>0.00000</td>\n",
       "    </tr>\n",
       "    <tr>\n",
       "      <th>285854</th>\n",
       "      <td>2019-05-26 23:31:00</td>\n",
       "      <td>usdsek</td>\n",
       "      <td>9.52895</td>\n",
       "      <td>9.52895</td>\n",
       "      <td>0.000000</td>\n",
       "      <td>0.000000</td>\n",
       "      <td>0.00000</td>\n",
       "    </tr>\n",
       "    <tr>\n",
       "      <th>285855</th>\n",
       "      <td>2019-05-26 23:32:00</td>\n",
       "      <td>usdsek</td>\n",
       "      <td>9.52895</td>\n",
       "      <td>9.52895</td>\n",
       "      <td>0.000000</td>\n",
       "      <td>0.000000</td>\n",
       "      <td>0.00000</td>\n",
       "    </tr>\n",
       "    <tr>\n",
       "      <th>285856</th>\n",
       "      <td>2019-05-26 23:33:00</td>\n",
       "      <td>usdsek</td>\n",
       "      <td>9.52895</td>\n",
       "      <td>9.52895</td>\n",
       "      <td>0.000000</td>\n",
       "      <td>0.000000</td>\n",
       "      <td>0.00000</td>\n",
       "    </tr>\n",
       "    <tr>\n",
       "      <th>285857</th>\n",
       "      <td>2019-05-26 23:34:00</td>\n",
       "      <td>usdsek</td>\n",
       "      <td>9.52895</td>\n",
       "      <td>9.52895</td>\n",
       "      <td>0.000000</td>\n",
       "      <td>0.000000</td>\n",
       "      <td>0.00000</td>\n",
       "    </tr>\n",
       "    <tr>\n",
       "      <th>285858</th>\n",
       "      <td>2019-05-26 23:35:00</td>\n",
       "      <td>usdsek</td>\n",
       "      <td>9.52895</td>\n",
       "      <td>9.52895</td>\n",
       "      <td>0.000000</td>\n",
       "      <td>0.000000</td>\n",
       "      <td>0.00000</td>\n",
       "    </tr>\n",
       "    <tr>\n",
       "      <th>285859</th>\n",
       "      <td>2019-05-26 23:36:00</td>\n",
       "      <td>usdsek</td>\n",
       "      <td>9.52895</td>\n",
       "      <td>9.52895</td>\n",
       "      <td>0.000000</td>\n",
       "      <td>0.000000</td>\n",
       "      <td>0.00000</td>\n",
       "    </tr>\n",
       "    <tr>\n",
       "      <th>285860</th>\n",
       "      <td>2019-05-26 23:37:00</td>\n",
       "      <td>usdsek</td>\n",
       "      <td>9.52895</td>\n",
       "      <td>9.52895</td>\n",
       "      <td>0.000000</td>\n",
       "      <td>0.000000</td>\n",
       "      <td>0.00000</td>\n",
       "    </tr>\n",
       "    <tr>\n",
       "      <th>285861</th>\n",
       "      <td>2019-05-26 23:38:00</td>\n",
       "      <td>usdsek</td>\n",
       "      <td>9.52895</td>\n",
       "      <td>9.52895</td>\n",
       "      <td>0.000000</td>\n",
       "      <td>0.000000</td>\n",
       "      <td>0.00000</td>\n",
       "    </tr>\n",
       "    <tr>\n",
       "      <th>285862</th>\n",
       "      <td>2019-05-26 23:39:00</td>\n",
       "      <td>usdsek</td>\n",
       "      <td>9.52895</td>\n",
       "      <td>9.52895</td>\n",
       "      <td>0.000000</td>\n",
       "      <td>0.000000</td>\n",
       "      <td>0.00000</td>\n",
       "    </tr>\n",
       "    <tr>\n",
       "      <th>285863</th>\n",
       "      <td>2019-05-26 23:40:00</td>\n",
       "      <td>usdsek</td>\n",
       "      <td>9.52895</td>\n",
       "      <td>9.52895</td>\n",
       "      <td>0.000000</td>\n",
       "      <td>0.000000</td>\n",
       "      <td>0.00000</td>\n",
       "    </tr>\n",
       "    <tr>\n",
       "      <th>285864</th>\n",
       "      <td>2019-05-26 23:41:00</td>\n",
       "      <td>usdsek</td>\n",
       "      <td>9.52895</td>\n",
       "      <td>9.52895</td>\n",
       "      <td>0.000000</td>\n",
       "      <td>0.000000</td>\n",
       "      <td>0.00000</td>\n",
       "    </tr>\n",
       "    <tr>\n",
       "      <th>285865</th>\n",
       "      <td>2019-05-26 23:42:00</td>\n",
       "      <td>usdsek</td>\n",
       "      <td>9.52895</td>\n",
       "      <td>9.52895</td>\n",
       "      <td>0.000000</td>\n",
       "      <td>0.000000</td>\n",
       "      <td>0.00000</td>\n",
       "    </tr>\n",
       "    <tr>\n",
       "      <th>285866</th>\n",
       "      <td>2019-05-26 23:43:00</td>\n",
       "      <td>usdsek</td>\n",
       "      <td>9.52895</td>\n",
       "      <td>9.52895</td>\n",
       "      <td>0.000000</td>\n",
       "      <td>0.000000</td>\n",
       "      <td>0.00000</td>\n",
       "    </tr>\n",
       "    <tr>\n",
       "      <th>285867</th>\n",
       "      <td>2019-05-26 23:44:00</td>\n",
       "      <td>usdsek</td>\n",
       "      <td>9.52895</td>\n",
       "      <td>9.52895</td>\n",
       "      <td>0.000000</td>\n",
       "      <td>0.000000</td>\n",
       "      <td>0.00000</td>\n",
       "    </tr>\n",
       "    <tr>\n",
       "      <th>285868</th>\n",
       "      <td>2019-05-26 23:45:00</td>\n",
       "      <td>usdsek</td>\n",
       "      <td>9.52895</td>\n",
       "      <td>9.52895</td>\n",
       "      <td>0.000000</td>\n",
       "      <td>0.000000</td>\n",
       "      <td>0.00000</td>\n",
       "    </tr>\n",
       "    <tr>\n",
       "      <th>285869</th>\n",
       "      <td>2019-05-26 23:46:00</td>\n",
       "      <td>usdsek</td>\n",
       "      <td>9.52895</td>\n",
       "      <td>9.52895</td>\n",
       "      <td>0.000000</td>\n",
       "      <td>0.000000</td>\n",
       "      <td>0.00000</td>\n",
       "    </tr>\n",
       "    <tr>\n",
       "      <th>285870</th>\n",
       "      <td>2019-05-26 23:47:00</td>\n",
       "      <td>usdsek</td>\n",
       "      <td>9.52895</td>\n",
       "      <td>9.52895</td>\n",
       "      <td>0.000000</td>\n",
       "      <td>0.000000</td>\n",
       "      <td>0.00000</td>\n",
       "    </tr>\n",
       "    <tr>\n",
       "      <th>285871</th>\n",
       "      <td>2019-05-26 23:48:00</td>\n",
       "      <td>usdsek</td>\n",
       "      <td>9.52895</td>\n",
       "      <td>9.52895</td>\n",
       "      <td>0.000000</td>\n",
       "      <td>0.000000</td>\n",
       "      <td>0.00000</td>\n",
       "    </tr>\n",
       "    <tr>\n",
       "      <th>285872</th>\n",
       "      <td>2019-05-26 23:49:00</td>\n",
       "      <td>usdsek</td>\n",
       "      <td>9.52895</td>\n",
       "      <td>9.52895</td>\n",
       "      <td>0.000000</td>\n",
       "      <td>0.000000</td>\n",
       "      <td>0.00000</td>\n",
       "    </tr>\n",
       "    <tr>\n",
       "      <th>285873</th>\n",
       "      <td>2019-05-26 23:50:00</td>\n",
       "      <td>usdsek</td>\n",
       "      <td>9.52895</td>\n",
       "      <td>9.52895</td>\n",
       "      <td>0.000000</td>\n",
       "      <td>0.000000</td>\n",
       "      <td>0.00000</td>\n",
       "    </tr>\n",
       "    <tr>\n",
       "      <th>285874</th>\n",
       "      <td>2019-05-26 23:51:00</td>\n",
       "      <td>usdsek</td>\n",
       "      <td>9.52895</td>\n",
       "      <td>9.52895</td>\n",
       "      <td>0.000000</td>\n",
       "      <td>0.000000</td>\n",
       "      <td>0.00000</td>\n",
       "    </tr>\n",
       "    <tr>\n",
       "      <th>285875</th>\n",
       "      <td>2019-05-26 23:52:00</td>\n",
       "      <td>usdsek</td>\n",
       "      <td>9.52895</td>\n",
       "      <td>9.52895</td>\n",
       "      <td>0.000000</td>\n",
       "      <td>0.000000</td>\n",
       "      <td>0.00000</td>\n",
       "    </tr>\n",
       "    <tr>\n",
       "      <th>285876</th>\n",
       "      <td>2019-05-26 23:53:00</td>\n",
       "      <td>usdsek</td>\n",
       "      <td>9.52895</td>\n",
       "      <td>9.52895</td>\n",
       "      <td>0.000000</td>\n",
       "      <td>0.000000</td>\n",
       "      <td>0.00000</td>\n",
       "    </tr>\n",
       "    <tr>\n",
       "      <th>285877</th>\n",
       "      <td>2019-05-26 23:54:00</td>\n",
       "      <td>usdsek</td>\n",
       "      <td>9.52895</td>\n",
       "      <td>9.52895</td>\n",
       "      <td>0.000000</td>\n",
       "      <td>0.000000</td>\n",
       "      <td>0.00000</td>\n",
       "    </tr>\n",
       "    <tr>\n",
       "      <th>285878</th>\n",
       "      <td>2019-05-26 23:55:00</td>\n",
       "      <td>usdsek</td>\n",
       "      <td>9.52895</td>\n",
       "      <td>9.52895</td>\n",
       "      <td>0.000000</td>\n",
       "      <td>0.000000</td>\n",
       "      <td>0.00000</td>\n",
       "    </tr>\n",
       "    <tr>\n",
       "      <th>285879</th>\n",
       "      <td>2019-05-26 23:56:00</td>\n",
       "      <td>usdsek</td>\n",
       "      <td>9.52895</td>\n",
       "      <td>9.52895</td>\n",
       "      <td>0.000000</td>\n",
       "      <td>0.000000</td>\n",
       "      <td>0.00000</td>\n",
       "    </tr>\n",
       "    <tr>\n",
       "      <th>285880</th>\n",
       "      <td>2019-05-26 23:57:00</td>\n",
       "      <td>usdsek</td>\n",
       "      <td>9.52895</td>\n",
       "      <td>9.52895</td>\n",
       "      <td>0.000000</td>\n",
       "      <td>0.000000</td>\n",
       "      <td>0.00000</td>\n",
       "    </tr>\n",
       "    <tr>\n",
       "      <th>285881</th>\n",
       "      <td>2019-05-26 23:58:00</td>\n",
       "      <td>usdsek</td>\n",
       "      <td>9.52895</td>\n",
       "      <td>9.52895</td>\n",
       "      <td>0.000000</td>\n",
       "      <td>0.000000</td>\n",
       "      <td>0.00000</td>\n",
       "    </tr>\n",
       "    <tr>\n",
       "      <th>285882</th>\n",
       "      <td>2019-05-26 23:59:00</td>\n",
       "      <td>usdsek</td>\n",
       "      <td>9.52895</td>\n",
       "      <td>9.52895</td>\n",
       "      <td>0.000000</td>\n",
       "      <td>0.000000</td>\n",
       "      <td>0.00000</td>\n",
       "    </tr>\n",
       "  </tbody>\n",
       "</table>\n",
       "<p>231651 rows × 7 columns</p>\n",
       "</div>"
      ],
      "text/plain": [
       "                 timestamp     ccy  bid_price  ask_price   bid_ret   ask_ret  \\\n",
       "0      2019-05-01 00:02:00  audusd    0.70514    0.70517  0.000000  0.000000   \n",
       "1      2019-05-01 00:03:00  audusd    0.70517    0.70517  0.000043  0.000000   \n",
       "2      2019-05-01 00:04:00  audusd    0.70517    0.70518  0.000000  0.000014   \n",
       "3      2019-05-01 00:05:00  audusd    0.70517    0.70518  0.000000  0.000000   \n",
       "4      2019-05-01 00:06:00  audusd    0.70517    0.70518  0.000000  0.000000   \n",
       "...                    ...     ...        ...        ...       ...       ...   \n",
       "285878 2019-05-26 23:55:00  usdsek    9.52895    9.52895  0.000000  0.000000   \n",
       "285879 2019-05-26 23:56:00  usdsek    9.52895    9.52895  0.000000  0.000000   \n",
       "285880 2019-05-26 23:57:00  usdsek    9.52895    9.52895  0.000000  0.000000   \n",
       "285881 2019-05-26 23:58:00  usdsek    9.52895    9.52895  0.000000  0.000000   \n",
       "285882 2019-05-26 23:59:00  usdsek    9.52895    9.52895  0.000000  0.000000   \n",
       "\n",
       "        mid_price  \n",
       "0         0.00003  \n",
       "1         0.00000  \n",
       "2         0.00001  \n",
       "3         0.00001  \n",
       "4         0.00001  \n",
       "...           ...  \n",
       "285878    0.00000  \n",
       "285879    0.00000  \n",
       "285880    0.00000  \n",
       "285881    0.00000  \n",
       "285882    0.00000  \n",
       "\n",
       "[231651 rows x 7 columns]"
      ]
     },
     "execution_count": 135,
     "metadata": {},
     "output_type": "execute_result"
    }
   ],
   "source": []
  },
  {
   "cell_type": "code",
   "execution_count": 171,
   "metadata": {
    "ExecuteTime": {
     "end_time": "2019-11-05T05:41:57.290182Z",
     "start_time": "2019-11-05T05:41:57.274125Z"
    }
   },
   "outputs": [],
   "source": [
    "cal = X_train[X_train.ccy=='usdjpy'][['bid_price', 'ask_price', 'bid_ret', 'ask_ret']].iloc[500:510].reset_index(drop=True)"
   ]
  },
  {
   "cell_type": "code",
   "execution_count": 172,
   "metadata": {
    "ExecuteTime": {
     "end_time": "2019-11-05T05:41:57.478164Z",
     "start_time": "2019-11-05T05:41:57.472953Z"
    }
   },
   "outputs": [],
   "source": [
    "cal['bs'] = pd.DataFrame(['B' if i == 0 else 'S' for i in np.random.choice(2, size=10)])"
   ]
  },
  {
   "cell_type": "code",
   "execution_count": 174,
   "metadata": {
    "ExecuteTime": {
     "end_time": "2019-11-05T05:42:54.077945Z",
     "start_time": "2019-11-05T05:42:54.058651Z"
    }
   },
   "outputs": [],
   "source": [
    "cal.to_csv('t.csv')"
   ]
  },
  {
   "cell_type": "code",
   "execution_count": null,
   "metadata": {},
   "outputs": [],
   "source": []
  },
  {
   "cell_type": "code",
   "execution_count": null,
   "metadata": {},
   "outputs": [],
   "source": []
  },
  {
   "cell_type": "code",
   "execution_count": null,
   "metadata": {},
   "outputs": [],
   "source": []
  },
  {
   "cell_type": "code",
   "execution_count": null,
   "metadata": {},
   "outputs": [],
   "source": []
  },
  {
   "cell_type": "code",
   "execution_count": 144,
   "metadata": {
    "ExecuteTime": {
     "end_time": "2019-11-05T05:36:58.816899Z",
     "start_time": "2019-11-05T05:36:58.402610Z"
    }
   },
   "outputs": [
    {
     "data": {
      "text/plain": [
       "<matplotlib.axes._subplots.AxesSubplot at 0x14b39e6a0>"
      ]
     },
     "execution_count": 144,
     "metadata": {},
     "output_type": "execute_result"
    },
    {
     "data": {
      "image/png": "[encoded data removed]",
      "text/plain": [
       "<Figure size 432x288 with 1 Axes>"
      ]
     },
     "metadata": {
      "needs_background": "light"
     },
     "output_type": "display_data"
    }
   ],
   "source": [
    "X_train[X_train.ccy=='usdjpy'][['bid_price']].plot()"
   ]
  },
  {
   "cell_type": "code",
   "execution_count": 150,
   "metadata": {
    "ExecuteTime": {
     "end_time": "2019-11-05T05:37:43.164272Z",
     "start_time": "2019-11-05T05:37:43.141072Z"
    }
   },
   "outputs": [
    {
     "data": {
      "text/html": [
       "<div>\n",
       "<style scoped>\n",
       "    .dataframe tbody tr th:only-of-type {\n",
       "        vertical-align: middle;\n",
       "    }\n",
       "\n",
       "    .dataframe tbody tr th {\n",
       "        vertical-align: top;\n",
       "    }\n",
       "\n",
       "    .dataframe thead th {\n",
       "        text-align: right;\n",
       "    }\n",
       "</style>\n",
       "<table border=\"1\" class=\"dataframe\">\n",
       "  <thead>\n",
       "    <tr style=\"text-align: right;\">\n",
       "      <th></th>\n",
       "      <th>bid_price</th>\n",
       "    </tr>\n",
       "  </thead>\n",
       "  <tbody>\n",
       "    <tr>\n",
       "      <th>195608</th>\n",
       "      <td>111.350</td>\n",
       "    </tr>\n",
       "    <tr>\n",
       "      <th>195609</th>\n",
       "      <td>111.332</td>\n",
       "    </tr>\n",
       "    <tr>\n",
       "      <th>195610</th>\n",
       "      <td>111.331</td>\n",
       "    </tr>\n",
       "    <tr>\n",
       "      <th>195611</th>\n",
       "      <td>111.341</td>\n",
       "    </tr>\n",
       "    <tr>\n",
       "      <th>195612</th>\n",
       "      <td>111.320</td>\n",
       "    </tr>\n",
       "    <tr>\n",
       "      <th>195613</th>\n",
       "      <td>111.323</td>\n",
       "    </tr>\n",
       "    <tr>\n",
       "      <th>195614</th>\n",
       "      <td>111.337</td>\n",
       "    </tr>\n",
       "    <tr>\n",
       "      <th>195615</th>\n",
       "      <td>111.336</td>\n",
       "    </tr>\n",
       "    <tr>\n",
       "      <th>195616</th>\n",
       "      <td>111.339</td>\n",
       "    </tr>\n",
       "    <tr>\n",
       "      <th>195617</th>\n",
       "      <td>111.361</td>\n",
       "    </tr>\n",
       "  </tbody>\n",
       "</table>\n",
       "</div>"
      ],
      "text/plain": [
       "        bid_price\n",
       "195608    111.350\n",
       "195609    111.332\n",
       "195610    111.331\n",
       "195611    111.341\n",
       "195612    111.320\n",
       "195613    111.323\n",
       "195614    111.337\n",
       "195615    111.336\n",
       "195616    111.339\n",
       "195617    111.361"
      ]
     },
     "execution_count": 150,
     "metadata": {},
     "output_type": "execute_result"
    }
   ],
   "source": [
    "X_train[X_train.ccy=='usdjpy'][['bid_price']].iloc[500:510]"
   ]
  },
  {
   "cell_type": "code",
   "execution_count": null,
   "metadata": {},
   "outputs": [],
   "source": []
  },
  {
   "cell_type": "code",
   "execution_count": null,
   "metadata": {},
   "outputs": [],
   "source": []
  },
  {
   "cell_type": "code",
   "execution_count": null,
   "metadata": {},
   "outputs": [],
   "source": []
  },
  {
   "cell_type": "code",
   "execution_count": null,
   "metadata": {},
   "outputs": [],
   "source": []
  },
  {
   "cell_type": "code",
   "execution_count": 60,
   "metadata": {
    "ExecuteTime": {
     "end_time": "2019-11-05T20:55:25.035058Z",
     "start_time": "2019-11-05T20:55:21.441180Z"
    }
   },
   "outputs": [
    {
     "ename": "ModuleNotFoundError",
     "evalue": "No module named 'tf'",
     "output_type": "error",
     "traceback": [
      "\u001b[0;31m---------------------------------------------------------------------------\u001b[0m",
      "\u001b[0;31mModuleNotFoundError\u001b[0m                       Traceback (most recent call last)",
      "\u001b[0;32m<ipython-input-60-86a2a42a453e>\u001b[0m in \u001b[0;36m<module>\u001b[0;34m\u001b[0m\n\u001b[1;32m      1\u001b[0m \u001b[0;32mimport\u001b[0m \u001b[0mtensorflow\u001b[0m \u001b[0;32mas\u001b[0m \u001b[0mtf\u001b[0m\u001b[0;34m\u001b[0m\u001b[0m\n\u001b[0;32m----> 2\u001b[0;31m \u001b[0;32mfrom\u001b[0m \u001b[0mtf\u001b[0m\u001b[0;34m.\u001b[0m\u001b[0mkeras\u001b[0m\u001b[0;34m.\u001b[0m\u001b[0moptimizers\u001b[0m \u001b[0;32mimport\u001b[0m \u001b[0mAdam\u001b[0m\u001b[0;34m\u001b[0m\u001b[0m\n\u001b[0m\u001b[1;32m      3\u001b[0m \u001b[0;32mfrom\u001b[0m \u001b[0mtf\u001b[0m\u001b[0;34m.\u001b[0m\u001b[0mkeras\u001b[0m\u001b[0;34m.\u001b[0m\u001b[0mmodels\u001b[0m \u001b[0;32mimport\u001b[0m \u001b[0mSequential\u001b[0m\u001b[0;34m\u001b[0m\u001b[0m\n\u001b[1;32m      4\u001b[0m \u001b[0;32mfrom\u001b[0m \u001b[0mtf\u001b[0m\u001b[0;34m.\u001b[0m\u001b[0mkeras\u001b[0m\u001b[0;34m.\u001b[0m\u001b[0mlayers\u001b[0m\u001b[0;34m.\u001b[0m\u001b[0mcore\u001b[0m \u001b[0;32mimport\u001b[0m \u001b[0mDense\u001b[0m\u001b[0;34m,\u001b[0m \u001b[0mDropout\u001b[0m\u001b[0;34m\u001b[0m\u001b[0m\n\u001b[1;32m      5\u001b[0m \u001b[0;32mimport\u001b[0m \u001b[0mrandom\u001b[0m\u001b[0;34m\u001b[0m\u001b[0m\n",
      "\u001b[0;31mModuleNotFoundError\u001b[0m: No module named 'tf'"
     ]
    }
   ],
   "source": [
    "import tensorflow as tf\n",
    "from tf.keras.optimizers import Adam\n",
    "from tf.keras.models import Sequential\n",
    "from tf.keras.layers.core import Dense, Dropout\n",
    "import random\n",
    "import numpy as np\n",
    "import pandas as pd\n",
    "from operator import add\n",
    "\n",
    "\n",
    "class DQNAgent(object):\n",
    "\n",
    "    def __init__(self):\n",
    "        self.reward = 0\n",
    "        self.gamma = 0.9\n",
    "        self.dataframe = pd.DataFrame()\n",
    "        self.short_memory = np.array([])\n",
    "        self.agent_target = 1\n",
    "        self.agent_predict = 0\n",
    "        self.learning_rate = 0.0005\n",
    "        self.model = self.network()\n",
    "        #self.model = self.network(\"weights.hdf5\")\n",
    "        self.epsilon = 0\n",
    "        self.actual = []\n",
    "        self.memory = []\n",
    "\n",
    "    def get_state(self, game, player, food):\n",
    "\n",
    "        state = [\n",
    "            (player.x_change == 20 and player.y_change == 0 and ((list(map(add, player.position[-1], [20, 0])) in player.position) or\n",
    "            player.position[-1][0] + 20 >= (game.game_width - 20))) or (player.x_change == -20 and player.y_change == 0 and ((list(map(add, player.position[-1], [-20, 0])) in player.position) or\n",
    "            player.position[-1][0] - 20 < 20)) or (player.x_change == 0 and player.y_change == -20 and ((list(map(add, player.position[-1], [0, -20])) in player.position) or\n",
    "            player.position[-1][-1] - 20 < 20)) or (player.x_change == 0 and player.y_change == 20 and ((list(map(add, player.position[-1], [0, 20])) in player.position) or\n",
    "            player.position[-1][-1] + 20 >= (game.game_height-20))),  # danger straight\n",
    "\n",
    "            (player.x_change == 0 and player.y_change == -20 and ((list(map(add,player.position[-1],[20, 0])) in player.position) or\n",
    "            player.position[ -1][0] + 20 > (game.game_width-20))) or (player.x_change == 0 and player.y_change == 20 and ((list(map(add,player.position[-1],\n",
    "            [-20,0])) in player.position) or player.position[-1][0] - 20 < 20)) or (player.x_change == -20 and player.y_change == 0 and ((list(map(\n",
    "            add,player.position[-1],[0,-20])) in player.position) or player.position[-1][-1] - 20 < 20)) or (player.x_change == 20 and player.y_change == 0 and (\n",
    "            (list(map(add,player.position[-1],[0,20])) in player.position) or player.position[-1][\n",
    "             -1] + 20 >= (game.game_height-20))),  # danger right\n",
    "\n",
    "             (player.x_change == 0 and player.y_change == 20 and ((list(map(add,player.position[-1],[20,0])) in player.position) or\n",
    "             player.position[-1][0] + 20 > (game.game_width-20))) or (player.x_change == 0 and player.y_change == -20 and ((list(map(\n",
    "             add, player.position[-1],[-20,0])) in player.position) or player.position[-1][0] - 20 < 20)) or (player.x_change == 20 and player.y_change == 0 and (\n",
    "            (list(map(add,player.position[-1],[0,-20])) in player.position) or player.position[-1][-1] - 20 < 20)) or (\n",
    "            player.x_change == -20 and player.y_change == 0 and ((list(map(add,player.position[-1],[0,20])) in player.position) or\n",
    "            player.position[-1][-1] + 20 >= (game.game_height-20))), #danger left\n",
    "\n",
    "\n",
    "            player.x_change == -20,  # move left\n",
    "            player.x_change == 20,  # move right\n",
    "            player.y_change == -20,  # move up\n",
    "            player.y_change == 20,  # move down\n",
    "            food.x_food < player.x,  # food left\n",
    "            food.x_food > player.x,  # food right\n",
    "            food.y_food < player.y,  # food up\n",
    "            food.y_food > player.y  # food down\n",
    "            ]\n",
    "\n",
    "        for i in range(len(state)):\n",
    "            if state[i]:\n",
    "                state[i]=1\n",
    "            else:\n",
    "                state[i]=0\n",
    "\n",
    "        return np.asarray(state)\n",
    "\n",
    "    def set_reward(self, player, crash):\n",
    "        self.reward = 0\n",
    "        if crash:\n",
    "            self.reward = -10\n",
    "            return self.reward\n",
    "        if player.eaten:\n",
    "            self.reward = 10\n",
    "        return self.reward\n",
    "\n",
    "    def network(self, weights=None):\n",
    "        model = Sequential()\n",
    "        model.add(Dense(output_dim=120, activation='relu', input_dim=11))\n",
    "        model.add(Dropout(0.15))\n",
    "        model.add(Dense(output_dim=120, activation='relu'))\n",
    "        model.add(Dropout(0.15))\n",
    "        model.add(Dense(output_dim=120, activation='relu'))\n",
    "        model.add(Dropout(0.15))\n",
    "        model.add(Dense(output_dim=3, activation='softmax'))\n",
    "        opt = Adam(self.learning_rate)\n",
    "        model.compile(loss='mse', optimizer=opt)\n",
    "\n",
    "        if weights:\n",
    "            model.load_weights(weights)\n",
    "        return model\n",
    "\n",
    "    def remember(self, state, action, reward, next_state, done):\n",
    "        self.memory.append((state, action, reward, next_state, done))\n",
    "\n",
    "    def replay_new(self, memory):\n",
    "        if len(memory) > 1000:\n",
    "            minibatch = random.sample(memory, 1000)\n",
    "        else:\n",
    "            minibatch = memory\n",
    "        for state, action, reward, next_state, done in minibatch:\n",
    "            target = reward\n",
    "            if not done:\n",
    "                target = reward + self.gamma * np.amax(self.model.predict(np.array([next_state]))[0])\n",
    "            target_f = self.model.predict(np.array([state]))\n",
    "            target_f[0][np.argmax(action)] = target\n",
    "            self.model.fit(np.array([state]), target_f, epochs=1, verbose=0)\n",
    "\n",
    "    def train_short_memory(self, state, action, reward, next_state, done):\n",
    "        target = reward\n",
    "        if not done:\n",
    "            target = reward + self.gamma * np.amax(self.model.predict(next_state.reshape((1, 11)))[0])\n",
    "        target_f = self.model.predict(state.reshape((1, 11)))\n",
    "        target_f[0][np.argmax(action)] = target\n",
    "        self.model.fit(state.reshape((1, 11)), target_f, epochs=1, verbose=0)"
   ]
  },
  {
   "cell_type": "code",
   "execution_count": 66,
   "metadata": {
    "ExecuteTime": {
     "end_time": "2019-11-05T21:00:44.591542Z",
     "start_time": "2019-11-05T21:00:44.587853Z"
    }
   },
   "outputs": [],
   "source": [
    "state = np.empty(11)"
   ]
  },
  {
   "cell_type": "code",
   "execution_count": 67,
   "metadata": {
    "ExecuteTime": {
     "end_time": "2019-11-05T21:00:48.986598Z",
     "start_time": "2019-11-05T21:00:48.979884Z"
    }
   },
   "outputs": [
    {
     "data": {
      "text/plain": [
       "array([0. , 0.1, 0.2, 0.3, 0.4, 0.5, 0.6, 0.7, 0.8, 0.9, 1. ])"
      ]
     },
     "execution_count": 67,
     "metadata": {},
     "output_type": "execute_result"
    }
   ],
   "source": [
    "state"
   ]
  },
  {
   "cell_type": "code",
   "execution_count": 65,
   "metadata": {
    "ExecuteTime": {
     "end_time": "2019-11-05T21:00:26.471979Z",
     "start_time": "2019-11-05T21:00:26.453310Z"
    }
   },
   "outputs": [
    {
     "ename": "TypeError",
     "evalue": "data type not understood",
     "output_type": "error",
     "traceback": [
      "\u001b[0;31m---------------------------------------------------------------------------\u001b[0m",
      "\u001b[0;31mTypeError\u001b[0m                                 Traceback (most recent call last)",
      "\u001b[0;32m<ipython-input-65-a65286a408e1>\u001b[0m in \u001b[0;36m<module>\u001b[0;34m\u001b[0m\n\u001b[0;32m----> 1\u001b[0;31m \u001b[0mtarget_f\u001b[0m \u001b[0;34m=\u001b[0m \u001b[0mnp\u001b[0m\u001b[0;34m.\u001b[0m\u001b[0mempty\u001b[0m\u001b[0;34m(\u001b[0m\u001b[0;36m1\u001b[0m\u001b[0;34m,\u001b[0m\u001b[0;36m11\u001b[0m\u001b[0;34m)\u001b[0m\u001b[0;34m\u001b[0m\u001b[0m\n\u001b[0m",
      "\u001b[0;31mTypeError\u001b[0m: data type not understood"
     ]
    }
   ],
   "source": [
    "target_f = np.empty(state.reshape(1,11))"
   ]
  },
  {
   "cell_type": "code",
   "execution_count": 129,
   "metadata": {
    "ExecuteTime": {
     "end_time": "2019-11-06T16:12:34.558225Z",
     "start_time": "2019-11-06T16:12:34.548163Z"
    }
   },
   "outputs": [
    {
     "data": {
      "text/plain": [
       "(285102, 7)"
      ]
     },
     "execution_count": 129,
     "metadata": {},
     "output_type": "execute_result"
    }
   ],
   "source": [
    "X_val.shape"
   ]
  },
  {
   "cell_type": "code",
   "execution_count": 130,
   "metadata": {
    "ExecuteTime": {
     "end_time": "2019-11-06T16:12:37.731143Z",
     "start_time": "2019-11-06T16:12:37.726394Z"
    }
   },
   "outputs": [
    {
     "data": {
      "text/plain": [
       "31678.0"
      ]
     },
     "execution_count": 130,
     "metadata": {},
     "output_type": "execute_result"
    }
   ],
   "source": [
    "285102/9"
   ]
  },
  {
   "cell_type": "code",
   "execution_count": 131,
   "metadata": {
    "ExecuteTime": {
     "end_time": "2019-11-06T16:12:46.325310Z",
     "start_time": "2019-11-06T16:12:46.314684Z"
    }
   },
   "outputs": [
    {
     "data": {
      "text/plain": [
       "316.78"
      ]
     },
     "execution_count": 131,
     "metadata": {},
     "output_type": "execute_result"
    }
   ],
   "source": [
    "31678/100"
   ]
  },
  {
   "cell_type": "code",
   "execution_count": 64,
   "metadata": {
    "ExecuteTime": {
     "end_time": "2019-11-05T21:00:19.247645Z",
     "start_time": "2019-11-05T21:00:19.237690Z"
    }
   },
   "outputs": [
    {
     "data": {
      "text/plain": [
       "array([[0. , 0.1, 0.2, 0.3, 0.4, 0.5, 0.6, 0.7, 0.8, 0.9, 1. ]])"
      ]
     },
     "execution_count": 64,
     "metadata": {},
     "output_type": "execute_result"
    }
   ],
   "source": [
    "target_f"
   ]
  },
  {
   "cell_type": "code",
   "execution_count": 68,
   "metadata": {
    "ExecuteTime": {
     "end_time": "2019-11-05T21:01:13.031847Z",
     "start_time": "2019-11-05T21:01:13.026913Z"
    }
   },
   "outputs": [
    {
     "data": {
      "text/plain": [
       "array([[0. , 0.1, 0.2, 0.3, 0.4, 0.5, 0.6, 0.7, 0.8, 0.9, 1. ]])"
      ]
     },
     "execution_count": 68,
     "metadata": {},
     "output_type": "execute_result"
    }
   ],
   "source": [
    "target_f"
   ]
  },
  {
   "cell_type": "code",
   "execution_count": 70,
   "metadata": {
    "ExecuteTime": {
     "end_time": "2019-11-05T21:01:20.021459Z",
     "start_time": "2019-11-05T21:01:20.016593Z"
    }
   },
   "outputs": [
    {
     "data": {
      "text/plain": [
       "array([0. , 0.1, 0.2, 0.3, 0.4, 0.5, 0.6, 0.7, 0.8, 0.9, 1. ])"
      ]
     },
     "execution_count": 70,
     "metadata": {},
     "output_type": "execute_result"
    }
   ],
   "source": [
    "target_f[0]"
   ]
  },
  {
   "cell_type": "code",
   "execution_count": 119,
   "metadata": {
    "ExecuteTime": {
     "end_time": "2019-11-06T16:09:12.815548Z",
     "start_time": "2019-11-06T16:09:12.811985Z"
    }
   },
   "outputs": [],
   "source": [
    "target_f_t = target_f.T"
   ]
  },
  {
   "cell_type": "code",
   "execution_count": 120,
   "metadata": {
    "ExecuteTime": {
     "end_time": "2019-11-06T16:09:17.083668Z",
     "start_time": "2019-11-06T16:09:17.080360Z"
    }
   },
   "outputs": [],
   "source": [
    "kk = pd.DataFrame(target_f_t)"
   ]
  },
  {
   "cell_type": "code",
   "execution_count": 124,
   "metadata": {
    "ExecuteTime": {
     "end_time": "2019-11-06T16:10:11.733492Z",
     "start_time": "2019-11-06T16:10:11.726827Z"
    }
   },
   "outputs": [],
   "source": [
    "kk.to_csv('kk.csv', index=False, index_label=False, header=False)"
   ]
  },
  {
   "cell_type": "code",
   "execution_count": 125,
   "metadata": {
    "ExecuteTime": {
     "end_time": "2019-11-06T16:10:11.917236Z",
     "start_time": "2019-11-06T16:10:11.905775Z"
    }
   },
   "outputs": [
    {
     "data": {
      "text/html": [
       "<div>\n",
       "<style scoped>\n",
       "    .dataframe tbody tr th:only-of-type {\n",
       "        vertical-align: middle;\n",
       "    }\n",
       "\n",
       "    .dataframe tbody tr th {\n",
       "        vertical-align: top;\n",
       "    }\n",
       "\n",
       "    .dataframe thead th {\n",
       "        text-align: right;\n",
       "    }\n",
       "</style>\n",
       "<table border=\"1\" class=\"dataframe\">\n",
       "  <thead>\n",
       "    <tr style=\"text-align: right;\">\n",
       "      <th></th>\n",
       "      <th>0</th>\n",
       "    </tr>\n",
       "  </thead>\n",
       "  <tbody>\n",
       "    <tr>\n",
       "      <th>0</th>\n",
       "      <td>0.0</td>\n",
       "    </tr>\n",
       "    <tr>\n",
       "      <th>1</th>\n",
       "      <td>0.1</td>\n",
       "    </tr>\n",
       "    <tr>\n",
       "      <th>2</th>\n",
       "      <td>0.2</td>\n",
       "    </tr>\n",
       "    <tr>\n",
       "      <th>3</th>\n",
       "      <td>0.3</td>\n",
       "    </tr>\n",
       "    <tr>\n",
       "      <th>4</th>\n",
       "      <td>0.4</td>\n",
       "    </tr>\n",
       "    <tr>\n",
       "      <th>5</th>\n",
       "      <td>0.5</td>\n",
       "    </tr>\n",
       "    <tr>\n",
       "      <th>6</th>\n",
       "      <td>0.6</td>\n",
       "    </tr>\n",
       "    <tr>\n",
       "      <th>7</th>\n",
       "      <td>0.7</td>\n",
       "    </tr>\n",
       "    <tr>\n",
       "      <th>8</th>\n",
       "      <td>0.8</td>\n",
       "    </tr>\n",
       "    <tr>\n",
       "      <th>9</th>\n",
       "      <td>0.9</td>\n",
       "    </tr>\n",
       "    <tr>\n",
       "      <th>10</th>\n",
       "      <td>1.0</td>\n",
       "    </tr>\n",
       "  </tbody>\n",
       "</table>\n",
       "</div>"
      ],
      "text/plain": [
       "      0\n",
       "0   0.0\n",
       "1   0.1\n",
       "2   0.2\n",
       "3   0.3\n",
       "4   0.4\n",
       "5   0.5\n",
       "6   0.6\n",
       "7   0.7\n",
       "8   0.8\n",
       "9   0.9\n",
       "10  1.0"
      ]
     },
     "execution_count": 125,
     "metadata": {},
     "output_type": "execute_result"
    }
   ],
   "source": [
    "kk"
   ]
  },
  {
   "cell_type": "code",
   "execution_count": null,
   "metadata": {},
   "outputs": [],
   "source": []
  },
  {
   "cell_type": "code",
   "execution_count": null,
   "metadata": {},
   "outputs": [],
   "source": []
  },
  {
   "cell_type": "code",
   "execution_count": null,
   "metadata": {},
   "outputs": [],
   "source": []
  },
  {
   "cell_type": "code",
   "execution_count": null,
   "metadata": {},
   "outputs": [],
   "source": []
  },
  {
   "cell_type": "code",
   "execution_count": null,
   "metadata": {},
   "outputs": [],
   "source": [
    "import numpy as np\n",
    "import pandas as pd\n",
    "\n",
    "def generate_episode(X, n, cur, split_sz, ts, ccy):    \n",
    "    '''\n",
    "    Input:\n",
    "        X: data (bid/ask for each currency pair)\n",
    "        n: get the n-th episode\n",
    "        cur: target currency\n",
    "        split_sz: size of one split. len(split) == len(batch) + len(lag).\n",
    "                  The number of episodes is int()\n",
    "        ts: a numpy array of unique time stamps\n",
    "        ccy: a Series of unique currency pairs\n",
    "    '''\n",
    "\n",
    "    start_idx = n * split_sz\n",
    "    end_idx = min((n+1) * split_sz, ts.size) - 1\n",
    "    data = X[(X.timestamp>=ts[start_idx]) & (X.timestamp<=ts[end_idx])]\n",
    "     \n",
    "    i = 0\n",
    "    other_bid = np.zeros((end_idx - start_idx + 1, ccy.shape[0]-1))\n",
    "    other_ask = np.zeros((end_idx - start_idx + 1, ccy.shape[0]-1))\n",
    "    for elem in ccy:\n",
    "        tmp = data[data.ccy == elem]\n",
    "        if elem == cur:\n",
    "            target_bid = tmp['bid_price'].values\n",
    "            target_ask = tmp['ask_price'].values\n",
    "        else:\n",
    "            other_bid[:,i] = tmp['bid_price'].values\n",
    "            other_ask[:,i] = tmp['ask_price'].values\n",
    "            i += 1\n",
    "    return target_bid, target_ask, other_bid, other_ask\n",
    "\n",
    "def log_returns(prices, lag):\n",
    "    '''\n",
    "    output: \n",
    "        returns[t][i] = log(p_t / p_{t-i}), 1 <= i <= lag\n",
    "    '''\n",
    "    returns = np.zeros((prices.shape[0]-lag, lag))\n",
    "    for i in range(lag):\n",
    "        returns[:,i] = (np.log(prices) - np.log(np.roll(prices, i+1)))[lag:]\n",
    "    return returns\n",
    "\n",
    "def get_features(target_bid, target_ask, other_bid, other_ask, lag):\n",
    "    '''\n",
    "    Output:\n",
    "        features: log returns of ask/bid for all currency pairs; shape (T-lag, 2*lag*cur_pairs); already normalized\n",
    "    '''\n",
    "    features = log_returns(target_bid, lag)\n",
    "    features = np.append(features, log_returns(target_ask, lag), axis = 1)\n",
    "    for i in range(other_bid.shape[1]):\n",
    "        features = np.append(features, log_returns(other_bid[:,i], lag), axis = 1)\n",
    "    for i in range(other_bid.shape[1]):\n",
    "        features = np.append(features, log_returns(other_ask[:,i], lag), axis = 1)\n",
    "        \n",
    "    normalized_fs = (features - features.mean()) / features.std()\n",
    "    return normalized_fs\n",
    "\n",
    "def draw_episode(X, cur, n, split_sz, lag, ts, ccy):\n",
    "    '''\n",
    "    Input:\n",
    "        X: data (bid/ask for each currency pair)\n",
    "        cur: currency pair that we target to trade\n",
    "        n: draw the n-th episode\n",
    "        split_sz: size of episode\n",
    "        lag: number of lag log-returns z_1,...z_m\n",
    "        ts: a numpy array of unique time stamps\n",
    "        ccy: a Series of unique currency pairs\n",
    "    Output:\n",
    "        target_bid: target currency's bid prices\n",
    "        target_ask: target currency's ask prices\n",
    "        features: features for feeding into the neural network\n",
    "        \n",
    "    Note: compared to Dai's code, I am not using min_history (min length of a valid episode) as argument; \n",
    "        Also, I am not randomly selecting episodes\n",
    "    '''\n",
    "    target_bid, target_ask, other_bid, other_ask = generate_episode(X, n, cur, split_sz, ts, ccy)\n",
    "    features = get_features(target_bid, target_ask, other_bid, other_ask, lag)\n",
    "    return target_bid[lag-1:], target_ask[lag-1:], features"
   ]
  },
  {
   "cell_type": "code",
   "execution_count": null,
   "metadata": {},
   "outputs": [],
   "source": []
  },
  {
   "cell_type": "code",
   "execution_count": null,
   "metadata": {},
   "outputs": [],
   "source": []
  },
  {
   "cell_type": "code",
   "execution_count": 51,
   "metadata": {
    "ExecuteTime": {
     "end_time": "2019-11-16T19:43:41.309195Z",
     "start_time": "2019-11-16T19:43:41.306223Z"
    }
   },
   "outputs": [],
   "source": [
    "pf_wt = np.zeros((1,10))"
   ]
  },
  {
   "cell_type": "code",
   "execution_count": 53,
   "metadata": {
    "ExecuteTime": {
     "end_time": "2019-11-16T19:43:52.069084Z",
     "start_time": "2019-11-16T19:43:52.066257Z"
    }
   },
   "outputs": [],
   "source": [
    "pf_wt[0][0] = 1"
   ]
  },
  {
   "cell_type": "code",
   "execution_count": 54,
   "metadata": {
    "ExecuteTime": {
     "end_time": "2019-11-16T19:43:54.628790Z",
     "start_time": "2019-11-16T19:43:54.624828Z"
    }
   },
   "outputs": [
    {
     "data": {
      "text/plain": [
       "array([[1., 0., 0., 0., 0., 0., 0., 0., 0., 0.]])"
      ]
     },
     "execution_count": 54,
     "metadata": {},
     "output_type": "execute_result"
    }
   ],
   "source": [
    "pf_wt"
   ]
  },
  {
   "cell_type": "code",
   "execution_count": 136,
   "metadata": {
    "ExecuteTime": {
     "end_time": "2019-11-17T00:03:33.373479Z",
     "start_time": "2019-11-17T00:03:33.361540Z"
    }
   },
   "outputs": [],
   "source": [
    "pf_wt = np.append(pf_wt, np.zeros((1,10)), axis=0)"
   ]
  },
  {
   "cell_type": "code",
   "execution_count": 137,
   "metadata": {
    "ExecuteTime": {
     "end_time": "2019-11-17T00:03:34.359710Z",
     "start_time": "2019-11-17T00:03:34.349625Z"
    }
   },
   "outputs": [
    {
     "data": {
      "text/plain": [
       "array([[1., 0., 0., 0., 0., 0., 0., 0., 0., 0.],\n",
       "       [0., 0., 0., 0., 0., 0., 0., 0., 0., 1.],\n",
       "       [0., 0., 0., 0., 0., 0., 0., 0., 0., 0.]])"
      ]
     },
     "execution_count": 137,
     "metadata": {},
     "output_type": "execute_result"
    }
   ],
   "source": [
    "pf_wt"
   ]
  },
  {
   "cell_type": "code",
   "execution_count": 62,
   "metadata": {
    "ExecuteTime": {
     "end_time": "2019-11-16T20:58:33.432906Z",
     "start_time": "2019-11-16T20:58:33.430194Z"
    }
   },
   "outputs": [],
   "source": [
    "pf_wt[1][-1] = 1"
   ]
  },
  {
   "cell_type": "code",
   "execution_count": 63,
   "metadata": {
    "ExecuteTime": {
     "end_time": "2019-11-16T20:58:35.339749Z",
     "start_time": "2019-11-16T20:58:35.335438Z"
    }
   },
   "outputs": [
    {
     "data": {
      "text/plain": [
       "array([[1., 0., 0., 0., 0., 0., 0., 0., 0., 0.],\n",
       "       [0., 0., 0., 0., 0., 0., 0., 0., 0., 1.]])"
      ]
     },
     "execution_count": 63,
     "metadata": {},
     "output_type": "execute_result"
    }
   ],
   "source": [
    "pf_wt"
   ]
  },
  {
   "cell_type": "code",
   "execution_count": 74,
   "metadata": {
    "ExecuteTime": {
     "end_time": "2019-11-16T21:01:13.225052Z",
     "start_time": "2019-11-16T21:01:13.210831Z"
    }
   },
   "outputs": [
    {
     "data": {
      "text/plain": [
       "148474       1.443835\n",
       "303728       0.891750\n",
       "458982       0.786714\n",
       "614236       1.526881\n",
       "769490       1.344040\n",
       "924744       1.001580\n",
       "1079998    109.447000\n",
       "1235252      8.682960\n",
       "1390506      9.528950\n",
       "Name: close, dtype: float64"
      ]
     },
     "execution_count": 74,
     "metadata": {},
     "output_type": "execute_result"
    }
   ],
   "source": [
    "X.loc[X.timestamp==np.max(X['timestamp']),:].close"
   ]
  },
  {
   "cell_type": "code",
   "execution_count": 75,
   "metadata": {
    "ExecuteTime": {
     "end_time": "2019-11-16T21:01:51.661134Z",
     "start_time": "2019-11-16T21:01:51.658611Z"
    }
   },
   "outputs": [],
   "source": [
    "qty = np.zeros((1,10))"
   ]
  },
  {
   "cell_type": "code",
   "execution_count": 76,
   "metadata": {
    "ExecuteTime": {
     "end_time": "2019-11-16T21:01:58.907610Z",
     "start_time": "2019-11-16T21:01:58.904176Z"
    }
   },
   "outputs": [],
   "source": [
    "qty[0] = np.array([10000, 0,0,0,0,0,0,0,0,0])"
   ]
  },
  {
   "cell_type": "code",
   "execution_count": 77,
   "metadata": {
    "ExecuteTime": {
     "end_time": "2019-11-16T21:02:00.588080Z",
     "start_time": "2019-11-16T21:02:00.583355Z"
    }
   },
   "outputs": [
    {
     "data": {
      "text/plain": [
       "array([[10000.,     0.,     0.,     0.,     0.,     0.,     0.,     0.,\n",
       "            0.,     0.]])"
      ]
     },
     "execution_count": 77,
     "metadata": {},
     "output_type": "execute_result"
    }
   ],
   "source": [
    "qty"
   ]
  },
  {
   "cell_type": "code",
   "execution_count": 78,
   "metadata": {
    "ExecuteTime": {
     "end_time": "2019-11-16T21:02:14.741669Z",
     "start_time": "2019-11-16T21:02:14.730730Z"
    }
   },
   "outputs": [],
   "source": [
    "price = X.loc[X.timestamp==np.max(X['timestamp']),:].close.to_numpy()"
   ]
  },
  {
   "cell_type": "code",
   "execution_count": 79,
   "metadata": {
    "ExecuteTime": {
     "end_time": "2019-11-16T21:02:16.557323Z",
     "start_time": "2019-11-16T21:02:16.553143Z"
    }
   },
   "outputs": [
    {
     "data": {
      "text/plain": [
       "array([  1.44383483,   0.89175042,   0.78671397,   1.52688074,\n",
       "         1.34404   ,   1.00158   , 109.447     ,   8.68296   ,\n",
       "         9.52895   ])"
      ]
     },
     "execution_count": 79,
     "metadata": {},
     "output_type": "execute_result"
    }
   ],
   "source": [
    "price"
   ]
  },
  {
   "cell_type": "code",
   "execution_count": 80,
   "metadata": {
    "ExecuteTime": {
     "end_time": "2019-11-16T21:02:42.515960Z",
     "start_time": "2019-11-16T21:02:42.511997Z"
    }
   },
   "outputs": [
    {
     "data": {
      "text/plain": [
       "1049.433568231547"
      ]
     },
     "execution_count": 80,
     "metadata": {},
     "output_type": "execute_result"
    }
   ],
   "source": [
    "10000/9.52895"
   ]
  },
  {
   "cell_type": "code",
   "execution_count": 85,
   "metadata": {
    "ExecuteTime": {
     "end_time": "2019-11-16T21:04:31.615447Z",
     "start_time": "2019-11-16T21:04:31.611999Z"
    }
   },
   "outputs": [],
   "source": [
    "wt = np.array([[1.0, 0.0],\n",
    "               [0.0, 1.0]])\n",
    "qty = np.array([[10, 0],\n",
    "                [0, 5]])\n",
    "price = np.array([[1, 2],\n",
    "                  [1, 2.2]])"
   ]
  },
  {
   "cell_type": "code",
   "execution_count": 86,
   "metadata": {
    "ExecuteTime": {
     "end_time": "2019-11-16T21:04:34.533578Z",
     "start_time": "2019-11-16T21:04:34.529427Z"
    }
   },
   "outputs": [
    {
     "data": {
      "text/plain": [
       "array([[1., 0.],\n",
       "       [0., 1.]])"
      ]
     },
     "execution_count": 86,
     "metadata": {},
     "output_type": "execute_result"
    }
   ],
   "source": [
    "wt"
   ]
  },
  {
   "cell_type": "code",
   "execution_count": 87,
   "metadata": {
    "ExecuteTime": {
     "end_time": "2019-11-16T21:04:36.913061Z",
     "start_time": "2019-11-16T21:04:36.908914Z"
    }
   },
   "outputs": [
    {
     "data": {
      "text/plain": [
       "array([[10,  0],\n",
       "       [ 0,  5]])"
      ]
     },
     "execution_count": 87,
     "metadata": {},
     "output_type": "execute_result"
    }
   ],
   "source": [
    "qty"
   ]
  },
  {
   "cell_type": "code",
   "execution_count": 88,
   "metadata": {
    "ExecuteTime": {
     "end_time": "2019-11-16T21:04:37.956654Z",
     "start_time": "2019-11-16T21:04:37.952771Z"
    }
   },
   "outputs": [
    {
     "data": {
      "text/plain": [
       "array([[1. , 2. ],\n",
       "       [1. , 2.2]])"
      ]
     },
     "execution_count": 88,
     "metadata": {},
     "output_type": "execute_result"
    }
   ],
   "source": [
    "price"
   ]
  },
  {
   "cell_type": "code",
   "execution_count": 89,
   "metadata": {
    "ExecuteTime": {
     "end_time": "2019-11-16T21:05:02.911022Z",
     "start_time": "2019-11-16T21:05:02.906910Z"
    }
   },
   "outputs": [
    {
     "data": {
      "text/plain": [
       "array([[10.,  0.],\n",
       "       [ 0., 11.]])"
      ]
     },
     "execution_count": 89,
     "metadata": {},
     "output_type": "execute_result"
    }
   ],
   "source": [
    "qty*price"
   ]
  },
  {
   "cell_type": "code",
   "execution_count": 90,
   "metadata": {
    "ExecuteTime": {
     "end_time": "2019-11-16T21:18:10.048339Z",
     "start_time": "2019-11-16T21:18:10.044402Z"
    }
   },
   "outputs": [
    {
     "data": {
      "text/plain": [
       "array([[1. , 2. ],\n",
       "       [1. , 2.2]])"
      ]
     },
     "execution_count": 90,
     "metadata": {},
     "output_type": "execute_result"
    }
   ],
   "source": [
    "price"
   ]
  },
  {
   "cell_type": "code",
   "execution_count": 91,
   "metadata": {
    "ExecuteTime": {
     "end_time": "2019-11-16T21:18:18.201918Z",
     "start_time": "2019-11-16T21:18:18.199467Z"
    }
   },
   "outputs": [],
   "source": [
    "p = price[1]"
   ]
  },
  {
   "cell_type": "code",
   "execution_count": 121,
   "metadata": {
    "ExecuteTime": {
     "end_time": "2019-11-16T21:21:28.918446Z",
     "start_time": "2019-11-16T21:21:28.883127Z"
    }
   },
   "outputs": [],
   "source": [
    "price = []\n",
    "for _ in range(10000):\n",
    "    price.append(np.random.normal(loc=1, scale=(3*10)**-2))"
   ]
  },
  {
   "cell_type": "code",
   "execution_count": 122,
   "metadata": {
    "ExecuteTime": {
     "end_time": "2019-11-16T21:21:29.266970Z",
     "start_time": "2019-11-16T21:21:29.050085Z"
    }
   },
   "outputs": [
    {
     "data": {
      "text/plain": [
       "(array([  21.,  161.,  793., 1973., 2998., 2536., 1145.,  318.,   51.,\n",
       "           4.]),\n",
       " array([0.9959719 , 0.99682927, 0.99768664, 0.99854401, 0.99940138,\n",
       "        1.00025875, 1.00111612, 1.00197349, 1.00283086, 1.00368823,\n",
       "        1.0045456 ]),\n",
       " <a list of 10 Patch objects>)"
      ]
     },
     "execution_count": 122,
     "metadata": {},
     "output_type": "execute_result"
    },
    {
     "data": {
      "image/png": "[encoded data removed]",
      "text/plain": [
       "<Figure size 432x288 with 1 Axes>"
      ]
     },
     "metadata": {
      "needs_background": "light"
     },
     "output_type": "display_data"
    }
   ],
   "source": [
    "plt.hist(price)"
   ]
  },
  {
   "cell_type": "code",
   "execution_count": 127,
   "metadata": {
    "ExecuteTime": {
     "end_time": "2019-11-16T21:22:22.390880Z",
     "start_time": "2019-11-16T21:22:22.385161Z"
    }
   },
   "outputs": [
    {
     "data": {
      "text/plain": [
       "array([0.99904777, 2.20178755])"
      ]
     },
     "execution_count": 127,
     "metadata": {},
     "output_type": "execute_result"
    }
   ],
   "source": [
    "p*np.random.normal(loc=1, scale=(3*10)**-2, size=p.shape[0])"
   ]
  },
  {
   "cell_type": "code",
   "execution_count": 128,
   "metadata": {
    "ExecuteTime": {
     "end_time": "2019-11-16T22:34:28.318879Z",
     "start_time": "2019-11-16T22:34:28.314742Z"
    }
   },
   "outputs": [
    {
     "data": {
      "text/plain": [
       "array([1. , 2.2])"
      ]
     },
     "execution_count": 128,
     "metadata": {},
     "output_type": "execute_result"
    }
   ],
   "source": [
    "p"
   ]
  },
  {
   "cell_type": "code",
   "execution_count": 132,
   "metadata": {
    "ExecuteTime": {
     "end_time": "2019-11-16T22:34:59.159228Z",
     "start_time": "2019-11-16T22:34:59.155056Z"
    }
   },
   "outputs": [
    {
     "data": {
      "text/plain": [
       "array([1., 2.])"
      ]
     },
     "execution_count": 132,
     "metadata": {},
     "output_type": "execute_result"
    }
   ],
   "source": [
    "np.floor(p)"
   ]
  },
  {
   "cell_type": "code",
   "execution_count": 133,
   "metadata": {
    "ExecuteTime": {
     "end_time": "2019-11-16T23:55:48.777044Z",
     "start_time": "2019-11-16T23:55:48.765085Z"
    }
   },
   "outputs": [
    {
     "data": {
      "text/plain": [
       "array([1. , 2.2])"
      ]
     },
     "execution_count": 133,
     "metadata": {},
     "output_type": "execute_result"
    }
   ],
   "source": [
    "p"
   ]
  },
  {
   "cell_type": "code",
   "execution_count": 134,
   "metadata": {
    "ExecuteTime": {
     "end_time": "2019-11-16T23:56:04.788510Z",
     "start_time": "2019-11-16T23:56:04.784247Z"
    }
   },
   "outputs": [
    {
     "data": {
      "text/plain": [
       "array([2., 2.])"
      ]
     },
     "execution_count": 134,
     "metadata": {},
     "output_type": "execute_result"
    }
   ],
   "source": [
    "p / np.array([0.5, 1.1])"
   ]
  },
  {
   "cell_type": "code",
   "execution_count": 140,
   "metadata": {
    "ExecuteTime": {
     "end_time": "2019-11-17T00:16:56.918445Z",
     "start_time": "2019-11-17T00:16:56.915561Z"
    }
   },
   "outputs": [],
   "source": [
    "p[0] = -1"
   ]
  },
  {
   "cell_type": "code",
   "execution_count": 141,
   "metadata": {
    "ExecuteTime": {
     "end_time": "2019-11-17T00:17:01.654083Z",
     "start_time": "2019-11-17T00:17:01.650138Z"
    }
   },
   "outputs": [
    {
     "data": {
      "text/plain": [
       "array([-1. ,  2.2])"
      ]
     },
     "execution_count": 141,
     "metadata": {},
     "output_type": "execute_result"
    }
   ],
   "source": [
    "p"
   ]
  },
  {
   "cell_type": "code",
   "execution_count": 142,
   "metadata": {
    "ExecuteTime": {
     "end_time": "2019-11-17T00:17:13.944621Z",
     "start_time": "2019-11-17T00:17:13.940429Z"
    }
   },
   "outputs": [
    {
     "data": {
      "text/plain": [
       "[-2.0, -2.2]"
      ]
     },
     "execution_count": 142,
     "metadata": {},
     "output_type": "execute_result"
    }
   ],
   "source": [
    "[v*2 if v<0 else v*-1 for v in p]"
   ]
  },
  {
   "cell_type": "code",
   "execution_count": 147,
   "metadata": {
    "ExecuteTime": {
     "end_time": "2019-11-17T03:03:39.952617Z",
     "start_time": "2019-11-17T03:03:39.943198Z"
    }
   },
   "outputs": [],
   "source": [
    "pv = np.random.rand(10)\n",
    "pv = pv/np.sum(pv)"
   ]
  },
  {
   "cell_type": "code",
   "execution_count": 148,
   "metadata": {
    "ExecuteTime": {
     "end_time": "2019-11-17T03:03:41.392195Z",
     "start_time": "2019-11-17T03:03:41.384720Z"
    }
   },
   "outputs": [
    {
     "data": {
      "text/plain": [
       "array([0.11291637, 0.13365333, 0.06842436, 0.10112539, 0.14210866,\n",
       "       0.13672527, 0.0643984 , 0.05563044, 0.00912414, 0.17589363])"
      ]
     },
     "execution_count": 148,
     "metadata": {},
     "output_type": "execute_result"
    }
   ],
   "source": [
    "pv"
   ]
  },
  {
   "cell_type": "code",
   "execution_count": null,
   "metadata": {},
   "outputs": [],
   "source": []
  }
 ],
 "metadata": {
  "kernelspec": {
   "display_name": "Python 3",
   "language": "python",
   "name": "python3"
  },
  "language_info": {
   "codemirror_mode": {
    "name": "ipython",
    "version": 3
   },
   "file_extension": ".py",
   "mimetype": "text/x-python",
   "name": "python",
   "nbconvert_exporter": "python",
   "pygments_lexer": "ipython3",
   "version": "3.6.6"
  }
 },
 "nbformat": 4,
 "nbformat_minor": 2
}
