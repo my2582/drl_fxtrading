{
 "cells": [
  {
   "cell_type": "markdown",
   "metadata": {},
   "source": [
    "# 1. Import packages"
   ]
  },
  {
   "cell_type": "code",
   "execution_count": 1,
   "metadata": {
    "ExecuteTime": {
     "end_time": "2019-11-03T17:57:29.160377Z",
     "start_time": "2019-11-03T17:57:27.837358Z"
    }
   },
   "outputs": [],
   "source": [
    "import os\n",
    "import numpy as np\n",
    "import pandas as pd\n",
    "\n",
    "# Plotting\n",
    "import matplotlib.pyplot as plt\n",
    "import seaborn as sns\n",
    "\n",
    "import logging "
   ]
  },
  {
   "cell_type": "code",
   "execution_count": 2,
   "metadata": {
    "ExecuteTime": {
     "end_time": "2019-11-03T17:57:29.166291Z",
     "start_time": "2019-11-03T17:57:29.162649Z"
    }
   },
   "outputs": [],
   "source": [
    "logging.basicConfig(format='%(levelname)s: %(message)s', level=logging.INFO)\n",
    "logger = logging.getLogger(__name__)"
   ]
  },
  {
   "cell_type": "code",
   "execution_count": 72,
   "metadata": {
    "ExecuteTime": {
     "end_time": "2019-11-03T19:50:58.857124Z",
     "start_time": "2019-11-03T19:50:58.848466Z"
    }
   },
   "outputs": [
    {
     "name": "stderr",
     "output_type": "stream",
     "text": [
      "INFO: dd\n"
     ]
    }
   ],
   "source": [
    "logger.info(\"dd\")"
   ]
  },
  {
   "cell_type": "markdown",
   "metadata": {},
   "source": [
    "# 2. Data loading"
   ]
  },
  {
   "cell_type": "markdown",
   "metadata": {},
   "source": [
    "## 2.1. Dataset description"
   ]
  },
  {
   "cell_type": "markdown",
   "metadata": {},
   "source": [
    "### A toy dataset for now\n",
    "#### G-10 currency pairs. Every curreny other than USD is against USD. So we have 9 pairs in total\n",
    "- gbpusd, usdsek, usdnok, usdjpy, usdcad, usdchf, nzdusd, eurusd, audusd"
   ]
  },
  {
   "cell_type": "markdown",
   "metadata": {},
   "source": [
    "#### Period in use: May 2019 (1 month)"
   ]
  },
  {
   "cell_type": "markdown",
   "metadata": {},
   "source": [
    "## 2.2 Loading a toy data set"
   ]
  },
  {
   "cell_type": "code",
   "execution_count": 74,
   "metadata": {
    "ExecuteTime": {
     "end_time": "2019-11-03T19:51:08.898049Z",
     "start_time": "2019-11-03T19:51:08.514277Z"
    },
    "scrolled": false
   },
   "outputs": [
    {
     "name": "stderr",
     "output_type": "stream",
     "text": [
      "INFO: Loading...\n",
      "INFO: nzdusd_DAT_ASCII_NZDUSD_M1_201905.csv\n",
      "INFO: usdchf_DAT_ASCII_USDCHF_M1_201905.csv\n",
      "INFO: usdnok_DAT_ASCII_USDNOK_M1_201905.csv\n",
      "INFO: gbpusd_DAT_ASCII_GBPUSD_M1_201905.csv\n",
      "INFO: usdsek_DAT_ASCII_USDSEK_M1_201905.csv\n",
      "INFO: usdjpy_DAT_ASCII_USDJPY_M1_201905.csv\n",
      "INFO: eurusd_DAT_ASCII_EURUSD_M1_201905.csv\n",
      "INFO: usdcad_DAT_ASCII_USDCAD_M1_201905.csv\n",
      "INFO: audusd_DAT_ASCII_AUDUSD_M1_201905.csv\n",
      "INFO: Complted.\n"
     ]
    }
   ],
   "source": [
    "toy_path = '../dataset/'\n",
    "toy_folders = ['toyset']\n",
    "\n",
    "# csv files have no explicit column header, but column names come in this order.\n",
    "# 'timestamp',  'opening', 'high', 'low', 'close', 'volume'\n",
    "# As we are only interested in timestamp and close prices, we set `usecols` = [0,4], a list of indices\n",
    "col_names = ['datetime',  'opening', 'high', 'low', 'close', 'volume']\n",
    "usecols = [0, 2, 3]\n",
    "\n",
    "df = {}\n",
    "f = pd.DataFrame(columns=col_names)\n",
    "total_size = 0\n",
    "logger.info(\"Loading...\")\n",
    "for folder in toy_folders:\n",
    "    files = os.listdir(toy_path+folder)\n",
    "    for file in files:\n",
    "        if file.endswith(\"05.csv\"):\n",
    "            logger.info(file)\n",
    "            tmp = pd.read_csv(os.path.join(toy_path, folder, file),\n",
    "                              delimiter=';', header=0, names=col_names, usecols=usecols)\n",
    "            loaded_ccy = file[:6]\n",
    "            if loaded_ccy in df.keys():\n",
    "                df[loaded_ccy] = df[loaded_ccy].append(tmp, ignore_index=True)\n",
    "            else:\n",
    "                df[loaded_ccy] = tmp.copy()\n",
    "            total_size += len(df[loaded_ccy])\n",
    "logger.info(\"Complted.\")"
   ]
  },
  {
   "cell_type": "code",
   "execution_count": 4,
   "metadata": {
    "ExecuteTime": {
     "end_time": "2019-11-03T17:57:29.577426Z",
     "start_time": "2019-11-03T17:57:29.573220Z"
    }
   },
   "outputs": [
    {
     "name": "stdout",
     "output_type": "stream",
     "text": [
      "We have 287995 data points in total for all pairs\n"
     ]
    }
   ],
   "source": [
    "print('We have {:d} data points in total for all pairs'.format(total_size))"
   ]
  },
  {
   "cell_type": "code",
   "execution_count": 5,
   "metadata": {
    "ExecuteTime": {
     "end_time": "2019-11-03T17:57:29.588538Z",
     "start_time": "2019-11-03T17:57:29.581273Z"
    }
   },
   "outputs": [
    {
     "data": {
      "text/plain": [
       "dict_keys(['nzdusd', 'usdchf', 'usdnok', 'gbpusd', 'usdsek', 'usdjpy', 'eurusd', 'usdcad', 'audusd'])"
      ]
     },
     "execution_count": 5,
     "metadata": {},
     "output_type": "execute_result"
    }
   ],
   "source": [
    "df.keys()"
   ]
  },
  {
   "cell_type": "code",
   "execution_count": 6,
   "metadata": {
    "ExecuteTime": {
     "end_time": "2019-11-03T17:57:29.595553Z",
     "start_time": "2019-11-03T17:57:29.591556Z"
    }
   },
   "outputs": [
    {
     "name": "stdout",
     "output_type": "stream",
     "text": [
      "We have a list of currency pairs: ['nzdusd', 'usdchf', 'usdnok', 'gbpusd', 'usdsek', 'usdjpy', 'eurusd', 'usdcad', 'audusd']\n"
     ]
    }
   ],
   "source": [
    "ccy_list = list(df.keys())\n",
    "print('We have a list of currency pairs:', ccy_list)"
   ]
  },
  {
   "cell_type": "code",
   "execution_count": 7,
   "metadata": {
    "ExecuteTime": {
     "end_time": "2019-11-03T17:57:29.627833Z",
     "start_time": "2019-11-03T17:57:29.598441Z"
    }
   },
   "outputs": [
    {
     "name": "stdout",
     "output_type": "stream",
     "text": [
      "e.g. nzdusd\n"
     ]
    },
    {
     "data": {
      "text/html": [
       "<div>\n",
       "<style scoped>\n",
       "    .dataframe tbody tr th:only-of-type {\n",
       "        vertical-align: middle;\n",
       "    }\n",
       "\n",
       "    .dataframe tbody tr th {\n",
       "        vertical-align: top;\n",
       "    }\n",
       "\n",
       "    .dataframe thead th {\n",
       "        text-align: right;\n",
       "    }\n",
       "</style>\n",
       "<table border=\"1\" class=\"dataframe\">\n",
       "  <thead>\n",
       "    <tr style=\"text-align: right;\">\n",
       "      <th></th>\n",
       "      <th>datetime</th>\n",
       "      <th>high</th>\n",
       "      <th>low</th>\n",
       "    </tr>\n",
       "  </thead>\n",
       "  <tbody>\n",
       "    <tr>\n",
       "      <th>0</th>\n",
       "      <td>20190501 000100</td>\n",
       "      <td>0.66490</td>\n",
       "      <td>0.66488</td>\n",
       "    </tr>\n",
       "    <tr>\n",
       "      <th>1</th>\n",
       "      <td>20190501 000200</td>\n",
       "      <td>0.66490</td>\n",
       "      <td>0.66485</td>\n",
       "    </tr>\n",
       "    <tr>\n",
       "      <th>2</th>\n",
       "      <td>20190501 000300</td>\n",
       "      <td>0.66491</td>\n",
       "      <td>0.66489</td>\n",
       "    </tr>\n",
       "    <tr>\n",
       "      <th>3</th>\n",
       "      <td>20190501 000400</td>\n",
       "      <td>0.66490</td>\n",
       "      <td>0.66489</td>\n",
       "    </tr>\n",
       "    <tr>\n",
       "      <th>4</th>\n",
       "      <td>20190501 000500</td>\n",
       "      <td>0.66490</td>\n",
       "      <td>0.66488</td>\n",
       "    </tr>\n",
       "  </tbody>\n",
       "</table>\n",
       "</div>"
      ],
      "text/plain": [
       "          datetime     high      low\n",
       "0  20190501 000100  0.66490  0.66488\n",
       "1  20190501 000200  0.66490  0.66485\n",
       "2  20190501 000300  0.66491  0.66489\n",
       "3  20190501 000400  0.66490  0.66489\n",
       "4  20190501 000500  0.66490  0.66488"
      ]
     },
     "execution_count": 7,
     "metadata": {},
     "output_type": "execute_result"
    }
   ],
   "source": [
    "print('e.g.', ccy_list[0])\n",
    "df[ccy_list[0]].head()"
   ]
  },
  {
   "cell_type": "markdown",
   "metadata": {},
   "source": [
    "#### We do not have ask prices in our data set.\n",
    "- We take high prices as `ask_price` and low prices as `bid_price` for now just until we have a new data set."
   ]
  },
  {
   "cell_type": "code",
   "execution_count": 8,
   "metadata": {
    "ExecuteTime": {
     "end_time": "2019-11-03T17:57:29.642216Z",
     "start_time": "2019-11-03T17:57:29.635181Z"
    }
   },
   "outputs": [
    {
     "data": {
      "text/plain": [
       "Index(['datetime', 'high', 'low'], dtype='object')"
      ]
     },
     "execution_count": 8,
     "metadata": {},
     "output_type": "execute_result"
    }
   ],
   "source": [
    "df['eurusd'].columns"
   ]
  },
  {
   "cell_type": "code",
   "execution_count": 9,
   "metadata": {
    "ExecuteTime": {
     "end_time": "2019-11-03T17:57:29.670487Z",
     "start_time": "2019-11-03T17:57:29.648438Z"
    }
   },
   "outputs": [],
   "source": [
    "for ccy in ccy_list:\n",
    "    df[ccy].rename(columns={'high': 'ask_price', 'low': 'bid_price'}, inplace=True)"
   ]
  },
  {
   "cell_type": "markdown",
   "metadata": {},
   "source": [
    "## 2.3 Data Integrity Check"
   ]
  },
  {
   "cell_type": "code",
   "execution_count": 10,
   "metadata": {
    "ExecuteTime": {
     "end_time": "2019-11-03T17:57:29.931192Z",
     "start_time": "2019-11-03T17:57:29.674566Z"
    },
    "scrolled": false
   },
   "outputs": [],
   "source": [
    "for i, ccy in enumerate(ccy_list):\n",
    "    desc = df[ccy].describe()\n",
    "    desc.rename(columns={'ask_price': ccy+'_ask', 'bid_price':ccy+'_bid'}, inplace=True)\n",
    "    if i == 0:\n",
    "        df_desc = desc.copy()\n",
    "    else:\n",
    "        df_desc = pd.merge(df_desc, desc, left_index=True, right_index=True)"
   ]
  },
  {
   "cell_type": "markdown",
   "metadata": {},
   "source": [
    "- Outliers: none.\n",
    "- Index: The number of data points a little vary. See the **2.5 `timestamp` policy** to handle this."
   ]
  },
  {
   "cell_type": "code",
   "execution_count": 11,
   "metadata": {
    "ExecuteTime": {
     "end_time": "2019-11-03T17:57:29.982365Z",
     "start_time": "2019-11-03T17:57:29.934790Z"
    },
    "scrolled": false
   },
   "outputs": [
    {
     "data": {
      "text/html": [
       "<div>\n",
       "<style scoped>\n",
       "    .dataframe tbody tr th:only-of-type {\n",
       "        vertical-align: middle;\n",
       "    }\n",
       "\n",
       "    .dataframe tbody tr th {\n",
       "        vertical-align: top;\n",
       "    }\n",
       "\n",
       "    .dataframe thead th {\n",
       "        text-align: right;\n",
       "    }\n",
       "</style>\n",
       "<table border=\"1\" class=\"dataframe\">\n",
       "  <thead>\n",
       "    <tr style=\"text-align: right;\">\n",
       "      <th></th>\n",
       "      <th>nzdusd_ask</th>\n",
       "      <th>nzdusd_bid</th>\n",
       "      <th>usdchf_ask</th>\n",
       "      <th>usdchf_bid</th>\n",
       "      <th>usdnok_ask</th>\n",
       "      <th>usdnok_bid</th>\n",
       "      <th>gbpusd_ask</th>\n",
       "      <th>gbpusd_bid</th>\n",
       "      <th>usdsek_ask</th>\n",
       "      <th>usdsek_bid</th>\n",
       "      <th>usdjpy_ask</th>\n",
       "      <th>usdjpy_bid</th>\n",
       "      <th>eurusd_ask</th>\n",
       "      <th>eurusd_bid</th>\n",
       "      <th>usdcad_ask</th>\n",
       "      <th>usdcad_bid</th>\n",
       "      <th>audusd_ask</th>\n",
       "      <th>audusd_bid</th>\n",
       "    </tr>\n",
       "  </thead>\n",
       "  <tbody>\n",
       "    <tr>\n",
       "      <th>count</th>\n",
       "      <td>31885.000000</td>\n",
       "      <td>31885.000000</td>\n",
       "      <td>31871.000000</td>\n",
       "      <td>31871.000000</td>\n",
       "      <td>32383.000000</td>\n",
       "      <td>32383.000000</td>\n",
       "      <td>31953.000000</td>\n",
       "      <td>31953.000000</td>\n",
       "      <td>31616.000000</td>\n",
       "      <td>31616.000000</td>\n",
       "      <td>32473.000000</td>\n",
       "      <td>32473.000000</td>\n",
       "      <td>31968.000000</td>\n",
       "      <td>31968.000000</td>\n",
       "      <td>31900.000000</td>\n",
       "      <td>31900.000000</td>\n",
       "      <td>31946.000000</td>\n",
       "      <td>31946.000000</td>\n",
       "    </tr>\n",
       "    <tr>\n",
       "      <th>mean</th>\n",
       "      <td>0.656137</td>\n",
       "      <td>0.656059</td>\n",
       "      <td>1.011103</td>\n",
       "      <td>1.011012</td>\n",
       "      <td>8.740825</td>\n",
       "      <td>8.739539</td>\n",
       "      <td>1.285139</td>\n",
       "      <td>1.284985</td>\n",
       "      <td>9.596976</td>\n",
       "      <td>9.595584</td>\n",
       "      <td>110.015410</td>\n",
       "      <td>110.003956</td>\n",
       "      <td>1.118613</td>\n",
       "      <td>1.118509</td>\n",
       "      <td>1.345870</td>\n",
       "      <td>1.345737</td>\n",
       "      <td>0.694530</td>\n",
       "      <td>0.694438</td>\n",
       "    </tr>\n",
       "    <tr>\n",
       "      <th>std</th>\n",
       "      <td>0.004287</td>\n",
       "      <td>0.004279</td>\n",
       "      <td>0.005351</td>\n",
       "      <td>0.005350</td>\n",
       "      <td>0.034109</td>\n",
       "      <td>0.034058</td>\n",
       "      <td>0.017836</td>\n",
       "      <td>0.017832</td>\n",
       "      <td>0.043117</td>\n",
       "      <td>0.043147</td>\n",
       "      <td>0.684108</td>\n",
       "      <td>0.685476</td>\n",
       "      <td>0.002978</td>\n",
       "      <td>0.002973</td>\n",
       "      <td>0.003246</td>\n",
       "      <td>0.003238</td>\n",
       "      <td>0.004925</td>\n",
       "      <td>0.004917</td>\n",
       "    </tr>\n",
       "    <tr>\n",
       "      <th>min</th>\n",
       "      <td>0.648210</td>\n",
       "      <td>0.648130</td>\n",
       "      <td>1.000250</td>\n",
       "      <td>1.000060</td>\n",
       "      <td>8.609150</td>\n",
       "      <td>8.607350</td>\n",
       "      <td>1.256290</td>\n",
       "      <td>1.255900</td>\n",
       "      <td>9.469900</td>\n",
       "      <td>9.468420</td>\n",
       "      <td>108.285000</td>\n",
       "      <td>108.277000</td>\n",
       "      <td>1.111240</td>\n",
       "      <td>1.110700</td>\n",
       "      <td>1.336170</td>\n",
       "      <td>1.335710</td>\n",
       "      <td>0.686470</td>\n",
       "      <td>0.686440</td>\n",
       "    </tr>\n",
       "    <tr>\n",
       "      <th>25%</th>\n",
       "      <td>0.652390</td>\n",
       "      <td>0.652320</td>\n",
       "      <td>1.007450</td>\n",
       "      <td>1.007330</td>\n",
       "      <td>8.719160</td>\n",
       "      <td>8.718090</td>\n",
       "      <td>1.267360</td>\n",
       "      <td>1.267200</td>\n",
       "      <td>9.566308</td>\n",
       "      <td>9.564930</td>\n",
       "      <td>109.551000</td>\n",
       "      <td>109.540000</td>\n",
       "      <td>1.116350</td>\n",
       "      <td>1.116270</td>\n",
       "      <td>1.343670</td>\n",
       "      <td>1.343560</td>\n",
       "      <td>0.691100</td>\n",
       "      <td>0.691010</td>\n",
       "    </tr>\n",
       "    <tr>\n",
       "      <th>50%</th>\n",
       "      <td>0.655690</td>\n",
       "      <td>0.655590</td>\n",
       "      <td>1.009590</td>\n",
       "      <td>1.009510</td>\n",
       "      <td>8.748570</td>\n",
       "      <td>8.747320</td>\n",
       "      <td>1.284000</td>\n",
       "      <td>1.283810</td>\n",
       "      <td>9.600090</td>\n",
       "      <td>9.598530</td>\n",
       "      <td>109.815000</td>\n",
       "      <td>109.796000</td>\n",
       "      <td>1.118780</td>\n",
       "      <td>1.118630</td>\n",
       "      <td>1.346150</td>\n",
       "      <td>1.346040</td>\n",
       "      <td>0.692870</td>\n",
       "      <td>0.692800</td>\n",
       "    </tr>\n",
       "    <tr>\n",
       "      <th>75%</th>\n",
       "      <td>0.659480</td>\n",
       "      <td>0.659390</td>\n",
       "      <td>1.016550</td>\n",
       "      <td>1.016420</td>\n",
       "      <td>8.764320</td>\n",
       "      <td>8.762980</td>\n",
       "      <td>1.302110</td>\n",
       "      <td>1.301910</td>\n",
       "      <td>9.634173</td>\n",
       "      <td>9.632803</td>\n",
       "      <td>110.348000</td>\n",
       "      <td>110.336000</td>\n",
       "      <td>1.120640</td>\n",
       "      <td>1.120550</td>\n",
       "      <td>1.347600</td>\n",
       "      <td>1.347480</td>\n",
       "      <td>0.699320</td>\n",
       "      <td>0.699230</td>\n",
       "    </tr>\n",
       "    <tr>\n",
       "      <th>max</th>\n",
       "      <td>0.666510</td>\n",
       "      <td>0.666420</td>\n",
       "      <td>1.022590</td>\n",
       "      <td>1.022250</td>\n",
       "      <td>8.804460</td>\n",
       "      <td>8.803100</td>\n",
       "      <td>1.317620</td>\n",
       "      <td>1.317360</td>\n",
       "      <td>9.687630</td>\n",
       "      <td>9.686170</td>\n",
       "      <td>111.699000</td>\n",
       "      <td>111.657000</td>\n",
       "      <td>1.126470</td>\n",
       "      <td>1.126210</td>\n",
       "      <td>1.356440</td>\n",
       "      <td>1.356270</td>\n",
       "      <td>0.706070</td>\n",
       "      <td>0.705980</td>\n",
       "    </tr>\n",
       "  </tbody>\n",
       "</table>\n",
       "</div>"
      ],
      "text/plain": [
       "         nzdusd_ask    nzdusd_bid    usdchf_ask    usdchf_bid    usdnok_ask  \\\n",
       "count  31885.000000  31885.000000  31871.000000  31871.000000  32383.000000   \n",
       "mean       0.656137      0.656059      1.011103      1.011012      8.740825   \n",
       "std        0.004287      0.004279      0.005351      0.005350      0.034109   \n",
       "min        0.648210      0.648130      1.000250      1.000060      8.609150   \n",
       "25%        0.652390      0.652320      1.007450      1.007330      8.719160   \n",
       "50%        0.655690      0.655590      1.009590      1.009510      8.748570   \n",
       "75%        0.659480      0.659390      1.016550      1.016420      8.764320   \n",
       "max        0.666510      0.666420      1.022590      1.022250      8.804460   \n",
       "\n",
       "         usdnok_bid    gbpusd_ask    gbpusd_bid    usdsek_ask    usdsek_bid  \\\n",
       "count  32383.000000  31953.000000  31953.000000  31616.000000  31616.000000   \n",
       "mean       8.739539      1.285139      1.284985      9.596976      9.595584   \n",
       "std        0.034058      0.017836      0.017832      0.043117      0.043147   \n",
       "min        8.607350      1.256290      1.255900      9.469900      9.468420   \n",
       "25%        8.718090      1.267360      1.267200      9.566308      9.564930   \n",
       "50%        8.747320      1.284000      1.283810      9.600090      9.598530   \n",
       "75%        8.762980      1.302110      1.301910      9.634173      9.632803   \n",
       "max        8.803100      1.317620      1.317360      9.687630      9.686170   \n",
       "\n",
       "         usdjpy_ask    usdjpy_bid    eurusd_ask    eurusd_bid    usdcad_ask  \\\n",
       "count  32473.000000  32473.000000  31968.000000  31968.000000  31900.000000   \n",
       "mean     110.015410    110.003956      1.118613      1.118509      1.345870   \n",
       "std        0.684108      0.685476      0.002978      0.002973      0.003246   \n",
       "min      108.285000    108.277000      1.111240      1.110700      1.336170   \n",
       "25%      109.551000    109.540000      1.116350      1.116270      1.343670   \n",
       "50%      109.815000    109.796000      1.118780      1.118630      1.346150   \n",
       "75%      110.348000    110.336000      1.120640      1.120550      1.347600   \n",
       "max      111.699000    111.657000      1.126470      1.126210      1.356440   \n",
       "\n",
       "         usdcad_bid    audusd_ask    audusd_bid  \n",
       "count  31900.000000  31946.000000  31946.000000  \n",
       "mean       1.345737      0.694530      0.694438  \n",
       "std        0.003238      0.004925      0.004917  \n",
       "min        1.335710      0.686470      0.686440  \n",
       "25%        1.343560      0.691100      0.691010  \n",
       "50%        1.346040      0.692870      0.692800  \n",
       "75%        1.347480      0.699320      0.699230  \n",
       "max        1.356270      0.706070      0.705980  "
      ]
     },
     "execution_count": 11,
     "metadata": {},
     "output_type": "execute_result"
    }
   ],
   "source": [
    "df_desc"
   ]
  },
  {
   "cell_type": "code",
   "execution_count": 12,
   "metadata": {
    "ExecuteTime": {
     "end_time": "2019-11-03T17:57:30.002260Z",
     "start_time": "2019-11-03T17:57:29.990199Z"
    }
   },
   "outputs": [
    {
     "data": {
      "text/plain": [
       "32473.0"
      ]
     },
     "execution_count": 12,
     "metadata": {},
     "output_type": "execute_result"
    }
   ],
   "source": [
    "max_datapoints = np.max(df_desc.loc['count'])\n",
    "max_datapoints"
   ]
  },
  {
   "cell_type": "markdown",
   "metadata": {},
   "source": [
    "## 2.4 Drop from and add some columns to `df`"
   ]
  },
  {
   "cell_type": "markdown",
   "metadata": {},
   "source": [
    "- Drop: `datetime` (no use)\n",
    "- Add: `ccy`, `timestamp`\n",
    "- Retain: `bid_price`, `ask_price`"
   ]
  },
  {
   "cell_type": "code",
   "execution_count": 13,
   "metadata": {
    "ExecuteTime": {
     "end_time": "2019-11-03T17:58:08.064612Z",
     "start_time": "2019-11-03T17:57:30.008068Z"
    }
   },
   "outputs": [],
   "source": [
    "for ccy in ccy_list:\n",
    "    df[ccy]['ccy'] = ccy\n",
    "    df[ccy]['timestamp'] = df[ccy].datetime.apply(lambda x: pd.to_datetime(x))\n",
    "    cols_to_use = ['timestamp', 'ccy', 'bid_price', 'ask_price']\n",
    "    df[ccy] = df[ccy][cols_to_use]"
   ]
  },
  {
   "cell_type": "code",
   "execution_count": 14,
   "metadata": {
    "ExecuteTime": {
     "end_time": "2019-11-03T17:58:08.079092Z",
     "start_time": "2019-11-03T17:58:08.067131Z"
    }
   },
   "outputs": [
    {
     "data": {
      "text/html": [
       "<div>\n",
       "<style scoped>\n",
       "    .dataframe tbody tr th:only-of-type {\n",
       "        vertical-align: middle;\n",
       "    }\n",
       "\n",
       "    .dataframe tbody tr th {\n",
       "        vertical-align: top;\n",
       "    }\n",
       "\n",
       "    .dataframe thead th {\n",
       "        text-align: right;\n",
       "    }\n",
       "</style>\n",
       "<table border=\"1\" class=\"dataframe\">\n",
       "  <thead>\n",
       "    <tr style=\"text-align: right;\">\n",
       "      <th></th>\n",
       "      <th>timestamp</th>\n",
       "      <th>ccy</th>\n",
       "      <th>bid_price</th>\n",
       "      <th>ask_price</th>\n",
       "    </tr>\n",
       "  </thead>\n",
       "  <tbody>\n",
       "    <tr>\n",
       "      <th>28271</th>\n",
       "      <td>2019-05-28 18:55:00</td>\n",
       "      <td>usdjpy</td>\n",
       "      <td>109.352</td>\n",
       "      <td>109.364</td>\n",
       "    </tr>\n",
       "    <tr>\n",
       "      <th>27639</th>\n",
       "      <td>2019-05-28 08:21:00</td>\n",
       "      <td>usdjpy</td>\n",
       "      <td>109.463</td>\n",
       "      <td>109.473</td>\n",
       "    </tr>\n",
       "    <tr>\n",
       "      <th>8588</th>\n",
       "      <td>2019-05-08 23:30:00</td>\n",
       "      <td>usdjpy</td>\n",
       "      <td>109.908</td>\n",
       "      <td>109.917</td>\n",
       "    </tr>\n",
       "    <tr>\n",
       "      <th>24913</th>\n",
       "      <td>2019-05-24 07:52:00</td>\n",
       "      <td>usdjpy</td>\n",
       "      <td>109.614</td>\n",
       "      <td>109.625</td>\n",
       "    </tr>\n",
       "    <tr>\n",
       "      <th>30026</th>\n",
       "      <td>2019-05-30 00:10:00</td>\n",
       "      <td>usdjpy</td>\n",
       "      <td>109.599</td>\n",
       "      <td>109.603</td>\n",
       "    </tr>\n",
       "  </tbody>\n",
       "</table>\n",
       "</div>"
      ],
      "text/plain": [
       "                timestamp     ccy  bid_price  ask_price\n",
       "28271 2019-05-28 18:55:00  usdjpy    109.352    109.364\n",
       "27639 2019-05-28 08:21:00  usdjpy    109.463    109.473\n",
       "8588  2019-05-08 23:30:00  usdjpy    109.908    109.917\n",
       "24913 2019-05-24 07:52:00  usdjpy    109.614    109.625\n",
       "30026 2019-05-30 00:10:00  usdjpy    109.599    109.603"
      ]
     },
     "execution_count": 14,
     "metadata": {},
     "output_type": "execute_result"
    }
   ],
   "source": [
    "#rand_ccy = ccy_list[np.random.randint(len(ccy_list))]\n",
    "rand_ccy='usdjpy'\n",
    "df[rand_ccy].sample(5)"
   ]
  },
  {
   "cell_type": "markdown",
   "metadata": {
    "ExecuteTime": {
     "end_time": "2019-10-30T16:05:23.457496Z",
     "start_time": "2019-10-30T16:05:23.451601Z"
    }
   },
   "source": [
    "### Check if we have all data points in `df`"
   ]
  },
  {
   "cell_type": "code",
   "execution_count": 15,
   "metadata": {
    "ExecuteTime": {
     "end_time": "2019-11-03T17:58:08.085937Z",
     "start_time": "2019-11-03T17:58:08.082423Z"
    }
   },
   "outputs": [],
   "source": [
    "assert np.sum([len(df[ccy]) for ccy in ccy_list]) == total_size, \"We got some data loss.\""
   ]
  },
  {
   "cell_type": "markdown",
   "metadata": {},
   "source": [
    "## 2.5 Padding missing time to `df`"
   ]
  },
  {
   "cell_type": "markdown",
   "metadata": {},
   "source": [
    "### Creating a new index `idx`\n",
    "#### `timestamp` policy:\n",
    "- If any curency pair has any price at timestamp $t$, then we have the timestamp $t$ for the rest of the currency pairs as well."
   ]
  },
  {
   "cell_type": "markdown",
   "metadata": {},
   "source": [
    "#### We create a union set `idx` of `timestamp` for every currency pair so that we can cover every data point."
   ]
  },
  {
   "cell_type": "code",
   "execution_count": 16,
   "metadata": {
    "ExecuteTime": {
     "end_time": "2019-11-03T17:58:08.101509Z",
     "start_time": "2019-11-03T17:58:08.088205Z"
    }
   },
   "outputs": [],
   "source": [
    "ccy_idx = {}\n",
    "for i, ccy in enumerate(ccy_list):\n",
    "    ccy_idx[ccy] = pd.Index(df[ccy].timestamp)\n",
    "    if i == 0 :\n",
    "        idx = pd.Index(ccy_idx[ccy])\n",
    "    else:\n",
    "        idx = idx.union(ccy_idx[ccy])"
   ]
  },
  {
   "cell_type": "markdown",
   "metadata": {},
   "source": [
    "#### Apply `idx` to every `df[ccy]`"
   ]
  },
  {
   "cell_type": "code",
   "execution_count": 17,
   "metadata": {
    "ExecuteTime": {
     "end_time": "2019-11-03T17:58:08.320531Z",
     "start_time": "2019-11-03T17:58:08.103806Z"
    }
   },
   "outputs": [],
   "source": [
    "for ccy in ccy_list:\n",
    "    df_ccy = pd.DataFrame(index=idx)\n",
    "    df[ccy] = df_ccy.merge(df[ccy], how='left', on='timestamp')\n",
    "    df[ccy]['ccy'].fillna(ccy, inplace=True)"
   ]
  },
  {
   "cell_type": "code",
   "execution_count": 18,
   "metadata": {
    "ExecuteTime": {
     "end_time": "2019-11-03T17:58:08.329775Z",
     "start_time": "2019-11-03T17:58:08.323774Z"
    }
   },
   "outputs": [],
   "source": [
    "assert np.min([df[f].shape[0] for f in df.keys()]) >= max_datapoints, \"We got some data loss.\""
   ]
  },
  {
   "cell_type": "markdown",
   "metadata": {},
   "source": [
    "#### We get the global earliest date and last date over the entire data set."
   ]
  },
  {
   "cell_type": "markdown",
   "metadata": {},
   "source": [
    "## 2.6 Create the data set `X`\n",
    "### We do it simply by appending `df` for each currency pair to create the data set `X`"
   ]
  },
  {
   "cell_type": "markdown",
   "metadata": {},
   "source": [
    "Create a template for `X`"
   ]
  },
  {
   "cell_type": "code",
   "execution_count": 19,
   "metadata": {
    "ExecuteTime": {
     "end_time": "2019-11-03T17:58:08.349622Z",
     "start_time": "2019-11-03T17:58:08.333894Z"
    }
   },
   "outputs": [
    {
     "data": {
      "text/html": [
       "<div>\n",
       "<style scoped>\n",
       "    .dataframe tbody tr th:only-of-type {\n",
       "        vertical-align: middle;\n",
       "    }\n",
       "\n",
       "    .dataframe tbody tr th {\n",
       "        vertical-align: top;\n",
       "    }\n",
       "\n",
       "    .dataframe thead th {\n",
       "        text-align: right;\n",
       "    }\n",
       "</style>\n",
       "<table border=\"1\" class=\"dataframe\">\n",
       "  <thead>\n",
       "    <tr style=\"text-align: right;\">\n",
       "      <th></th>\n",
       "      <th>timestamp</th>\n",
       "      <th>ccy</th>\n",
       "      <th>bid_price</th>\n",
       "      <th>ask_price</th>\n",
       "    </tr>\n",
       "  </thead>\n",
       "  <tbody>\n",
       "  </tbody>\n",
       "</table>\n",
       "</div>"
      ],
      "text/plain": [
       "Empty DataFrame\n",
       "Columns: [timestamp, ccy, bid_price, ask_price]\n",
       "Index: []"
      ]
     },
     "execution_count": 19,
     "metadata": {},
     "output_type": "execute_result"
    }
   ],
   "source": [
    "X = pd.DataFrame(columns = df[ccy_list[0]].columns)\n",
    "X"
   ]
  },
  {
   "cell_type": "code",
   "execution_count": 20,
   "metadata": {
    "ExecuteTime": {
     "end_time": "2019-11-03T17:58:08.449649Z",
     "start_time": "2019-11-03T17:58:08.353511Z"
    }
   },
   "outputs": [],
   "source": [
    "for ccy in ccy_list:\n",
    "    X = X.append(df[ccy], ignore_index=False, sort=False)"
   ]
  },
  {
   "cell_type": "code",
   "execution_count": 21,
   "metadata": {
    "ExecuteTime": {
     "end_time": "2019-11-03T17:58:08.479097Z",
     "start_time": "2019-11-03T17:58:08.453009Z"
    }
   },
   "outputs": [
    {
     "data": {
      "text/html": [
       "<div>\n",
       "<style scoped>\n",
       "    .dataframe tbody tr th:only-of-type {\n",
       "        vertical-align: middle;\n",
       "    }\n",
       "\n",
       "    .dataframe tbody tr th {\n",
       "        vertical-align: top;\n",
       "    }\n",
       "\n",
       "    .dataframe thead th {\n",
       "        text-align: right;\n",
       "    }\n",
       "</style>\n",
       "<table border=\"1\" class=\"dataframe\">\n",
       "  <thead>\n",
       "    <tr style=\"text-align: right;\">\n",
       "      <th></th>\n",
       "      <th>timestamp</th>\n",
       "      <th>ccy</th>\n",
       "      <th>bid_price</th>\n",
       "      <th>ask_price</th>\n",
       "    </tr>\n",
       "  </thead>\n",
       "  <tbody>\n",
       "    <tr>\n",
       "      <th>5481</th>\n",
       "      <td>2019-05-06 19:22:00</td>\n",
       "      <td>usdcad</td>\n",
       "      <td>1.34493</td>\n",
       "      <td>1.34497</td>\n",
       "    </tr>\n",
       "    <tr>\n",
       "      <th>14195</th>\n",
       "      <td>2019-05-14 20:36:00</td>\n",
       "      <td>audusd</td>\n",
       "      <td>0.69269</td>\n",
       "      <td>0.69271</td>\n",
       "    </tr>\n",
       "    <tr>\n",
       "      <th>23193</th>\n",
       "      <td>2019-05-23 02:34:00</td>\n",
       "      <td>usdchf</td>\n",
       "      <td>1.00868</td>\n",
       "      <td>1.00889</td>\n",
       "    </tr>\n",
       "    <tr>\n",
       "      <th>14872</th>\n",
       "      <td>2019-05-15 07:53:00</td>\n",
       "      <td>nzdusd</td>\n",
       "      <td>0.65527</td>\n",
       "      <td>0.65536</td>\n",
       "    </tr>\n",
       "    <tr>\n",
       "      <th>13242</th>\n",
       "      <td>2019-05-14 04:43:00</td>\n",
       "      <td>eurusd</td>\n",
       "      <td>1.12390</td>\n",
       "      <td>1.12396</td>\n",
       "    </tr>\n",
       "  </tbody>\n",
       "</table>\n",
       "</div>"
      ],
      "text/plain": [
       "                timestamp     ccy  bid_price  ask_price\n",
       "5481  2019-05-06 19:22:00  usdcad    1.34493    1.34497\n",
       "14195 2019-05-14 20:36:00  audusd    0.69269    0.69271\n",
       "23193 2019-05-23 02:34:00  usdchf    1.00868    1.00889\n",
       "14872 2019-05-15 07:53:00  nzdusd    0.65527    0.65536\n",
       "13242 2019-05-14 04:43:00  eurusd    1.12390    1.12396"
      ]
     },
     "execution_count": 21,
     "metadata": {},
     "output_type": "execute_result"
    }
   ],
   "source": [
    "X.sample(5)"
   ]
  },
  {
   "cell_type": "markdown",
   "metadata": {},
   "source": [
    "## 2.7 Missing Data Analysis\n",
    "#### An imputing policy:\n",
    "- First we sort `X` by `ccy` and `timestamp`, and reset the index.\n",
    "- Then we group `X` by `ccy`\n",
    "- We finally forwardfill (use previous values to fill missing values)"
   ]
  },
  {
   "cell_type": "code",
   "execution_count": 22,
   "metadata": {
    "ExecuteTime": {
     "end_time": "2019-11-03T17:58:08.599870Z",
     "start_time": "2019-11-03T17:58:08.482305Z"
    }
   },
   "outputs": [],
   "source": [
    "X = X.sort_values(by=['ccy','timestamp'])\n",
    "X.reset_index(drop=True, inplace=True)"
   ]
  },
  {
   "cell_type": "markdown",
   "metadata": {},
   "source": [
    "### Missing data\n",
    "- `bid_price`: 4,676\n",
    "- `ask_price`: 4,676\n",
    "- We impute them by previous values (done by group)"
   ]
  },
  {
   "cell_type": "code",
   "execution_count": 23,
   "metadata": {
    "ExecuteTime": {
     "end_time": "2019-11-03T17:58:08.633909Z",
     "start_time": "2019-11-03T17:58:08.608651Z"
    }
   },
   "outputs": [
    {
     "data": {
      "text/plain": [
       "timestamp       0\n",
       "ccy             0\n",
       "bid_price    4676\n",
       "ask_price    4676\n",
       "dtype: int64"
      ]
     },
     "execution_count": 23,
     "metadata": {},
     "output_type": "execute_result"
    }
   ],
   "source": [
    "X.isna().sum()"
   ]
  },
  {
   "cell_type": "code",
   "execution_count": 24,
   "metadata": {
    "ExecuteTime": {
     "end_time": "2019-11-03T17:58:08.702114Z",
     "start_time": "2019-11-03T17:58:08.639350Z"
    }
   },
   "outputs": [],
   "source": [
    "g = X.groupby('ccy')\n",
    "X['bid_price'] = g['bid_price'].fillna(method='ffill')\n",
    "X['ask_price'] = g['ask_price'].fillna(method='ffill')"
   ]
  },
  {
   "cell_type": "markdown",
   "metadata": {},
   "source": [
    "#### Now we have no missing value. Cleaning is *done*."
   ]
  },
  {
   "cell_type": "code",
   "execution_count": 25,
   "metadata": {
    "ExecuteTime": {
     "end_time": "2019-11-03T17:58:08.726928Z",
     "start_time": "2019-11-03T17:58:08.704432Z"
    }
   },
   "outputs": [
    {
     "data": {
      "text/plain": [
       "timestamp    0\n",
       "ccy          0\n",
       "bid_price    0\n",
       "ask_price    0\n",
       "dtype: int64"
      ]
     },
     "execution_count": 25,
     "metadata": {},
     "output_type": "execute_result"
    }
   ],
   "source": [
    "X.isna().sum()"
   ]
  },
  {
   "cell_type": "markdown",
   "metadata": {},
   "source": [
    "## 2.8 Calculate `bid_ret`, `ask_ret` and `mid_price`"
   ]
  },
  {
   "cell_type": "code",
   "execution_count": 26,
   "metadata": {
    "ExecuteTime": {
     "end_time": "2019-11-03T17:58:08.864488Z",
     "start_time": "2019-11-03T17:58:08.731110Z"
    }
   },
   "outputs": [],
   "source": [
    "X.loc[X['ccy'] == X['ccy'].shift(), 'bid_ret'] = np.log(X['bid_price']) - np.log(X['bid_price'].shift())\n",
    "X.loc[X['ccy'] == X['ccy'].shift(), 'ask_ret'] = np.log(X['ask_price']) - np.log(X['ask_price'].shift())\n",
    "X['mid_price'] = X['ask_price'] - X['bid_price']"
   ]
  },
  {
   "cell_type": "code",
   "execution_count": 27,
   "metadata": {
    "ExecuteTime": {
     "end_time": "2019-11-03T17:58:08.920456Z",
     "start_time": "2019-11-03T17:58:08.867369Z"
    },
    "scrolled": true
   },
   "outputs": [
    {
     "data": {
      "text/html": [
       "<div>\n",
       "<style scoped>\n",
       "    .dataframe tbody tr th:only-of-type {\n",
       "        vertical-align: middle;\n",
       "    }\n",
       "\n",
       "    .dataframe tbody tr th {\n",
       "        vertical-align: top;\n",
       "    }\n",
       "\n",
       "    .dataframe thead th {\n",
       "        text-align: right;\n",
       "    }\n",
       "</style>\n",
       "<table border=\"1\" class=\"dataframe\">\n",
       "  <thead>\n",
       "    <tr style=\"text-align: right;\">\n",
       "      <th></th>\n",
       "      <th>timestamp</th>\n",
       "      <th>ccy</th>\n",
       "      <th>bid_price</th>\n",
       "      <th>ask_price</th>\n",
       "      <th>bid_ret</th>\n",
       "      <th>ask_ret</th>\n",
       "      <th>mid_price</th>\n",
       "    </tr>\n",
       "  </thead>\n",
       "  <tbody>\n",
       "    <tr>\n",
       "      <th>0</th>\n",
       "      <td>2019-05-01 00:01:00</td>\n",
       "      <td>audusd</td>\n",
       "      <td>0.70514</td>\n",
       "      <td>0.70517</td>\n",
       "      <td>NaN</td>\n",
       "      <td>NaN</td>\n",
       "      <td>0.00003</td>\n",
       "    </tr>\n",
       "    <tr>\n",
       "      <th>32519</th>\n",
       "      <td>2019-05-01 00:01:00</td>\n",
       "      <td>eurusd</td>\n",
       "      <td>1.12182</td>\n",
       "      <td>1.12188</td>\n",
       "      <td>NaN</td>\n",
       "      <td>NaN</td>\n",
       "      <td>0.00006</td>\n",
       "    </tr>\n",
       "    <tr>\n",
       "      <th>65038</th>\n",
       "      <td>2019-05-01 00:01:00</td>\n",
       "      <td>gbpusd</td>\n",
       "      <td>1.30426</td>\n",
       "      <td>1.30430</td>\n",
       "      <td>NaN</td>\n",
       "      <td>NaN</td>\n",
       "      <td>0.00004</td>\n",
       "    </tr>\n",
       "    <tr>\n",
       "      <th>97557</th>\n",
       "      <td>2019-05-01 00:01:00</td>\n",
       "      <td>nzdusd</td>\n",
       "      <td>0.66488</td>\n",
       "      <td>0.66490</td>\n",
       "      <td>NaN</td>\n",
       "      <td>NaN</td>\n",
       "      <td>0.00002</td>\n",
       "    </tr>\n",
       "    <tr>\n",
       "      <th>130076</th>\n",
       "      <td>2019-05-01 00:01:00</td>\n",
       "      <td>usdcad</td>\n",
       "      <td>1.33774</td>\n",
       "      <td>1.33776</td>\n",
       "      <td>NaN</td>\n",
       "      <td>NaN</td>\n",
       "      <td>0.00002</td>\n",
       "    </tr>\n",
       "    <tr>\n",
       "      <th>162595</th>\n",
       "      <td>2019-05-01 00:01:00</td>\n",
       "      <td>usdchf</td>\n",
       "      <td>1.01927</td>\n",
       "      <td>1.01930</td>\n",
       "      <td>NaN</td>\n",
       "      <td>NaN</td>\n",
       "      <td>0.00003</td>\n",
       "    </tr>\n",
       "    <tr>\n",
       "      <th>195114</th>\n",
       "      <td>2019-05-01 00:01:00</td>\n",
       "      <td>usdjpy</td>\n",
       "      <td>111.48800</td>\n",
       "      <td>111.48900</td>\n",
       "      <td>NaN</td>\n",
       "      <td>NaN</td>\n",
       "      <td>0.00100</td>\n",
       "    </tr>\n",
       "    <tr>\n",
       "      <th>227633</th>\n",
       "      <td>2019-05-01 00:01:00</td>\n",
       "      <td>usdnok</td>\n",
       "      <td>8.62020</td>\n",
       "      <td>8.62055</td>\n",
       "      <td>NaN</td>\n",
       "      <td>NaN</td>\n",
       "      <td>0.00035</td>\n",
       "    </tr>\n",
       "    <tr>\n",
       "      <th>260152</th>\n",
       "      <td>2019-05-01 00:01:00</td>\n",
       "      <td>usdsek</td>\n",
       "      <td>9.48740</td>\n",
       "      <td>9.48757</td>\n",
       "      <td>NaN</td>\n",
       "      <td>NaN</td>\n",
       "      <td>0.00017</td>\n",
       "    </tr>\n",
       "  </tbody>\n",
       "</table>\n",
       "</div>"
      ],
      "text/plain": [
       "                 timestamp     ccy  bid_price  ask_price  bid_ret  ask_ret  \\\n",
       "0      2019-05-01 00:01:00  audusd    0.70514    0.70517      NaN      NaN   \n",
       "32519  2019-05-01 00:01:00  eurusd    1.12182    1.12188      NaN      NaN   \n",
       "65038  2019-05-01 00:01:00  gbpusd    1.30426    1.30430      NaN      NaN   \n",
       "97557  2019-05-01 00:01:00  nzdusd    0.66488    0.66490      NaN      NaN   \n",
       "130076 2019-05-01 00:01:00  usdcad    1.33774    1.33776      NaN      NaN   \n",
       "162595 2019-05-01 00:01:00  usdchf    1.01927    1.01930      NaN      NaN   \n",
       "195114 2019-05-01 00:01:00  usdjpy  111.48800  111.48900      NaN      NaN   \n",
       "227633 2019-05-01 00:01:00  usdnok    8.62020    8.62055      NaN      NaN   \n",
       "260152 2019-05-01 00:01:00  usdsek    9.48740    9.48757      NaN      NaN   \n",
       "\n",
       "        mid_price  \n",
       "0         0.00003  \n",
       "32519     0.00006  \n",
       "65038     0.00004  \n",
       "97557     0.00002  \n",
       "130076    0.00002  \n",
       "162595    0.00003  \n",
       "195114    0.00100  \n",
       "227633    0.00035  \n",
       "260152    0.00017  "
      ]
     },
     "execution_count": 27,
     "metadata": {},
     "output_type": "execute_result"
    }
   ],
   "source": [
    "X_boundary = X.loc[X['ccy'] != X['ccy'].shift()]\n",
    "X_boundary"
   ]
  },
  {
   "cell_type": "code",
   "execution_count": 28,
   "metadata": {
    "ExecuteTime": {
     "end_time": "2019-11-03T17:58:08.964242Z",
     "start_time": "2019-11-03T17:58:08.923426Z"
    }
   },
   "outputs": [],
   "source": [
    "X.dropna(axis='index', how='any', inplace=True)"
   ]
  },
  {
   "cell_type": "code",
   "execution_count": 29,
   "metadata": {
    "ExecuteTime": {
     "end_time": "2019-11-03T17:58:08.995294Z",
     "start_time": "2019-11-03T17:58:08.967834Z"
    },
    "scrolled": true
   },
   "outputs": [
    {
     "data": {
      "text/plain": [
       "timestamp    0\n",
       "ccy          0\n",
       "bid_price    0\n",
       "ask_price    0\n",
       "bid_ret      0\n",
       "ask_ret      0\n",
       "mid_price    0\n",
       "dtype: int64"
      ]
     },
     "execution_count": 29,
     "metadata": {},
     "output_type": "execute_result"
    }
   ],
   "source": [
    "X.isna().sum()"
   ]
  },
  {
   "cell_type": "code",
   "execution_count": 30,
   "metadata": {
    "ExecuteTime": {
     "end_time": "2019-11-03T17:58:09.003595Z",
     "start_time": "2019-11-03T17:58:08.997859Z"
    }
   },
   "outputs": [],
   "source": [
    "X.reset_index(drop=True, inplace=True)"
   ]
  },
  {
   "cell_type": "code",
   "execution_count": 31,
   "metadata": {
    "ExecuteTime": {
     "end_time": "2019-11-03T17:58:09.029487Z",
     "start_time": "2019-11-03T17:58:09.006374Z"
    }
   },
   "outputs": [
    {
     "data": {
      "text/html": [
       "<div>\n",
       "<style scoped>\n",
       "    .dataframe tbody tr th:only-of-type {\n",
       "        vertical-align: middle;\n",
       "    }\n",
       "\n",
       "    .dataframe tbody tr th {\n",
       "        vertical-align: top;\n",
       "    }\n",
       "\n",
       "    .dataframe thead th {\n",
       "        text-align: right;\n",
       "    }\n",
       "</style>\n",
       "<table border=\"1\" class=\"dataframe\">\n",
       "  <thead>\n",
       "    <tr style=\"text-align: right;\">\n",
       "      <th></th>\n",
       "      <th>timestamp</th>\n",
       "      <th>ccy</th>\n",
       "      <th>bid_price</th>\n",
       "      <th>ask_price</th>\n",
       "      <th>bid_ret</th>\n",
       "      <th>ask_ret</th>\n",
       "      <th>mid_price</th>\n",
       "    </tr>\n",
       "  </thead>\n",
       "  <tbody>\n",
       "    <tr>\n",
       "      <th>0</th>\n",
       "      <td>2019-05-01 00:02:00</td>\n",
       "      <td>audusd</td>\n",
       "      <td>0.70514</td>\n",
       "      <td>0.70517</td>\n",
       "      <td>0.000000</td>\n",
       "      <td>0.000000</td>\n",
       "      <td>0.00003</td>\n",
       "    </tr>\n",
       "    <tr>\n",
       "      <th>1</th>\n",
       "      <td>2019-05-01 00:03:00</td>\n",
       "      <td>audusd</td>\n",
       "      <td>0.70517</td>\n",
       "      <td>0.70517</td>\n",
       "      <td>0.000043</td>\n",
       "      <td>0.000000</td>\n",
       "      <td>0.00000</td>\n",
       "    </tr>\n",
       "    <tr>\n",
       "      <th>2</th>\n",
       "      <td>2019-05-01 00:04:00</td>\n",
       "      <td>audusd</td>\n",
       "      <td>0.70517</td>\n",
       "      <td>0.70518</td>\n",
       "      <td>0.000000</td>\n",
       "      <td>0.000014</td>\n",
       "      <td>0.00001</td>\n",
       "    </tr>\n",
       "    <tr>\n",
       "      <th>3</th>\n",
       "      <td>2019-05-01 00:05:00</td>\n",
       "      <td>audusd</td>\n",
       "      <td>0.70517</td>\n",
       "      <td>0.70518</td>\n",
       "      <td>0.000000</td>\n",
       "      <td>0.000000</td>\n",
       "      <td>0.00001</td>\n",
       "    </tr>\n",
       "    <tr>\n",
       "      <th>4</th>\n",
       "      <td>2019-05-01 00:06:00</td>\n",
       "      <td>audusd</td>\n",
       "      <td>0.70517</td>\n",
       "      <td>0.70518</td>\n",
       "      <td>0.000000</td>\n",
       "      <td>0.000000</td>\n",
       "      <td>0.00001</td>\n",
       "    </tr>\n",
       "  </tbody>\n",
       "</table>\n",
       "</div>"
      ],
      "text/plain": [
       "            timestamp     ccy  bid_price  ask_price   bid_ret   ask_ret  \\\n",
       "0 2019-05-01 00:02:00  audusd    0.70514    0.70517  0.000000  0.000000   \n",
       "1 2019-05-01 00:03:00  audusd    0.70517    0.70517  0.000043  0.000000   \n",
       "2 2019-05-01 00:04:00  audusd    0.70517    0.70518  0.000000  0.000014   \n",
       "3 2019-05-01 00:05:00  audusd    0.70517    0.70518  0.000000  0.000000   \n",
       "4 2019-05-01 00:06:00  audusd    0.70517    0.70518  0.000000  0.000000   \n",
       "\n",
       "   mid_price  \n",
       "0    0.00003  \n",
       "1    0.00000  \n",
       "2    0.00001  \n",
       "3    0.00001  \n",
       "4    0.00001  "
      ]
     },
     "execution_count": 31,
     "metadata": {},
     "output_type": "execute_result"
    }
   ],
   "source": [
    "X.head()"
   ]
  },
  {
   "cell_type": "markdown",
   "metadata": {},
   "source": [
    "## 2.9 Let's plot for a visual check."
   ]
  },
  {
   "cell_type": "code",
   "execution_count": 32,
   "metadata": {
    "ExecuteTime": {
     "end_time": "2019-11-03T17:58:09.047765Z",
     "start_time": "2019-11-03T17:58:09.034272Z"
    }
   },
   "outputs": [],
   "source": [
    "# Code: https://stackoverflow.com/questions/11640243/pandas-plot-multiple-y-axes\n",
    "def plot_multi(data, cols=None, spacing=.1, **kwargs):\n",
    "\n",
    "    from pandas import plotting\n",
    "\n",
    "    # Get default color style from pandas - can be changed to any other color list\n",
    "    if cols is None: cols = data.columns\n",
    "    if len(cols) == 0: return\n",
    "    colors = getattr(getattr(plotting, '_matplotlib').style, '_get_standard_colors')(num_colors=len(cols))\n",
    "\n",
    "    # First axis\n",
    "    ax = data.loc[:, cols[0]].plot(label=cols[0], color=colors[0], **kwargs)\n",
    "    ax.set_ylabel(ylabel=cols[0])\n",
    "    ax.tick_params(axis='y', colors=colors[0])\n",
    "    lines, labels = ax.get_legend_handles_labels()\n",
    "\n",
    "    for n in range(1, len(cols)):\n",
    "        # Multiple y-axes\n",
    "        ax_new = ax.twinx()\n",
    "        ax_new.spines['right'].set_position(('axes', 1 + spacing * (n - 1)))\n",
    "        data.loc[:, cols[n]].plot(ax=ax_new, label=cols[n], color=colors[n % len(colors)])\n",
    "        ax_new.set_ylabel(ylabel=cols[n])\n",
    "        ax_new.tick_params(axis='y', colors=colors[n % len(colors)])\n",
    "\n",
    "        # Proper legend position\n",
    "        line, label = ax_new.get_legend_handles_labels()\n",
    "        lines += line\n",
    "        labels += label\n",
    "\n",
    "    ax.legend(lines, labels, loc=0)\n",
    "    return ax"
   ]
  },
  {
   "cell_type": "code",
   "execution_count": 33,
   "metadata": {
    "ExecuteTime": {
     "end_time": "2019-11-03T17:58:09.405574Z",
     "start_time": "2019-11-03T17:58:09.051032Z"
    }
   },
   "outputs": [],
   "source": [
    "bid_dict = dict()\n",
    "ask_dict = dict()\n",
    "for ccy in ccy_list:\n",
    "    bid_dict[ccy] = X[X.ccy==ccy].bid_price.reset_index(drop=True)\n",
    "    ask_dict[ccy] = X[X.ccy==ccy].ask_price.reset_index(drop=True)\n",
    "X_bid = pd.DataFrame(bid_dict)\n",
    "X_ask = pd.DataFrame(ask_dict)"
   ]
  },
  {
   "cell_type": "code",
   "execution_count": 34,
   "metadata": {
    "ExecuteTime": {
     "end_time": "2019-11-03T17:58:09.431558Z",
     "start_time": "2019-11-03T17:58:09.408810Z"
    }
   },
   "outputs": [
    {
     "data": {
      "text/html": [
       "<div>\n",
       "<style scoped>\n",
       "    .dataframe tbody tr th:only-of-type {\n",
       "        vertical-align: middle;\n",
       "    }\n",
       "\n",
       "    .dataframe tbody tr th {\n",
       "        vertical-align: top;\n",
       "    }\n",
       "\n",
       "    .dataframe thead th {\n",
       "        text-align: right;\n",
       "    }\n",
       "</style>\n",
       "<table border=\"1\" class=\"dataframe\">\n",
       "  <thead>\n",
       "    <tr style=\"text-align: right;\">\n",
       "      <th></th>\n",
       "      <th>nzdusd</th>\n",
       "      <th>usdchf</th>\n",
       "      <th>usdnok</th>\n",
       "      <th>gbpusd</th>\n",
       "      <th>usdsek</th>\n",
       "      <th>usdjpy</th>\n",
       "      <th>eurusd</th>\n",
       "      <th>usdcad</th>\n",
       "      <th>audusd</th>\n",
       "    </tr>\n",
       "  </thead>\n",
       "  <tbody>\n",
       "    <tr>\n",
       "      <th>0</th>\n",
       "      <td>0.66485</td>\n",
       "      <td>1.01928</td>\n",
       "      <td>8.62052</td>\n",
       "      <td>1.30425</td>\n",
       "      <td>9.48757</td>\n",
       "      <td>111.488</td>\n",
       "      <td>1.12182</td>\n",
       "      <td>1.33776</td>\n",
       "      <td>0.70514</td>\n",
       "    </tr>\n",
       "    <tr>\n",
       "      <th>1</th>\n",
       "      <td>0.66489</td>\n",
       "      <td>1.01928</td>\n",
       "      <td>8.62105</td>\n",
       "      <td>1.30435</td>\n",
       "      <td>9.48757</td>\n",
       "      <td>111.488</td>\n",
       "      <td>1.12182</td>\n",
       "      <td>1.33777</td>\n",
       "      <td>0.70517</td>\n",
       "    </tr>\n",
       "    <tr>\n",
       "      <th>2</th>\n",
       "      <td>0.66489</td>\n",
       "      <td>1.01928</td>\n",
       "      <td>8.62104</td>\n",
       "      <td>1.30426</td>\n",
       "      <td>9.48757</td>\n",
       "      <td>111.489</td>\n",
       "      <td>1.12182</td>\n",
       "      <td>1.33781</td>\n",
       "      <td>0.70517</td>\n",
       "    </tr>\n",
       "    <tr>\n",
       "      <th>3</th>\n",
       "      <td>0.66488</td>\n",
       "      <td>1.01927</td>\n",
       "      <td>8.62111</td>\n",
       "      <td>1.30427</td>\n",
       "      <td>9.48757</td>\n",
       "      <td>111.487</td>\n",
       "      <td>1.12179</td>\n",
       "      <td>1.33783</td>\n",
       "      <td>0.70517</td>\n",
       "    </tr>\n",
       "    <tr>\n",
       "      <th>4</th>\n",
       "      <td>0.66488</td>\n",
       "      <td>1.01928</td>\n",
       "      <td>8.62132</td>\n",
       "      <td>1.30427</td>\n",
       "      <td>9.48790</td>\n",
       "      <td>111.488</td>\n",
       "      <td>1.12180</td>\n",
       "      <td>1.33784</td>\n",
       "      <td>0.70517</td>\n",
       "    </tr>\n",
       "  </tbody>\n",
       "</table>\n",
       "</div>"
      ],
      "text/plain": [
       "    nzdusd   usdchf   usdnok   gbpusd   usdsek   usdjpy   eurusd   usdcad  \\\n",
       "0  0.66485  1.01928  8.62052  1.30425  9.48757  111.488  1.12182  1.33776   \n",
       "1  0.66489  1.01928  8.62105  1.30435  9.48757  111.488  1.12182  1.33777   \n",
       "2  0.66489  1.01928  8.62104  1.30426  9.48757  111.489  1.12182  1.33781   \n",
       "3  0.66488  1.01927  8.62111  1.30427  9.48757  111.487  1.12179  1.33783   \n",
       "4  0.66488  1.01928  8.62132  1.30427  9.48790  111.488  1.12180  1.33784   \n",
       "\n",
       "    audusd  \n",
       "0  0.70514  \n",
       "1  0.70517  \n",
       "2  0.70517  \n",
       "3  0.70517  \n",
       "4  0.70517  "
      ]
     },
     "execution_count": 34,
     "metadata": {},
     "output_type": "execute_result"
    }
   ],
   "source": [
    "X_bid.head()"
   ]
  },
  {
   "cell_type": "code",
   "execution_count": 35,
   "metadata": {
    "ExecuteTime": {
     "end_time": "2019-11-03T17:58:09.458226Z",
     "start_time": "2019-11-03T17:58:09.435090Z"
    }
   },
   "outputs": [
    {
     "data": {
      "text/html": [
       "<div>\n",
       "<style scoped>\n",
       "    .dataframe tbody tr th:only-of-type {\n",
       "        vertical-align: middle;\n",
       "    }\n",
       "\n",
       "    .dataframe tbody tr th {\n",
       "        vertical-align: top;\n",
       "    }\n",
       "\n",
       "    .dataframe thead th {\n",
       "        text-align: right;\n",
       "    }\n",
       "</style>\n",
       "<table border=\"1\" class=\"dataframe\">\n",
       "  <thead>\n",
       "    <tr style=\"text-align: right;\">\n",
       "      <th></th>\n",
       "      <th>nzdusd</th>\n",
       "      <th>usdchf</th>\n",
       "      <th>usdnok</th>\n",
       "      <th>gbpusd</th>\n",
       "      <th>usdsek</th>\n",
       "      <th>usdjpy</th>\n",
       "      <th>eurusd</th>\n",
       "      <th>usdcad</th>\n",
       "      <th>audusd</th>\n",
       "    </tr>\n",
       "  </thead>\n",
       "  <tbody>\n",
       "    <tr>\n",
       "      <th>0</th>\n",
       "      <td>0.66490</td>\n",
       "      <td>1.01928</td>\n",
       "      <td>8.62105</td>\n",
       "      <td>1.30439</td>\n",
       "      <td>9.48757</td>\n",
       "      <td>111.489</td>\n",
       "      <td>1.12184</td>\n",
       "      <td>1.33780</td>\n",
       "      <td>0.70517</td>\n",
       "    </tr>\n",
       "    <tr>\n",
       "      <th>1</th>\n",
       "      <td>0.66491</td>\n",
       "      <td>1.01928</td>\n",
       "      <td>8.62106</td>\n",
       "      <td>1.30439</td>\n",
       "      <td>9.48757</td>\n",
       "      <td>111.489</td>\n",
       "      <td>1.12183</td>\n",
       "      <td>1.33781</td>\n",
       "      <td>0.70517</td>\n",
       "    </tr>\n",
       "    <tr>\n",
       "      <th>2</th>\n",
       "      <td>0.66490</td>\n",
       "      <td>1.01928</td>\n",
       "      <td>8.62124</td>\n",
       "      <td>1.30437</td>\n",
       "      <td>9.48757</td>\n",
       "      <td>111.489</td>\n",
       "      <td>1.12183</td>\n",
       "      <td>1.33784</td>\n",
       "      <td>0.70518</td>\n",
       "    </tr>\n",
       "    <tr>\n",
       "      <th>3</th>\n",
       "      <td>0.66490</td>\n",
       "      <td>1.01929</td>\n",
       "      <td>8.62135</td>\n",
       "      <td>1.30438</td>\n",
       "      <td>9.48791</td>\n",
       "      <td>111.489</td>\n",
       "      <td>1.12183</td>\n",
       "      <td>1.33788</td>\n",
       "      <td>0.70518</td>\n",
       "    </tr>\n",
       "    <tr>\n",
       "      <th>4</th>\n",
       "      <td>0.66489</td>\n",
       "      <td>1.01929</td>\n",
       "      <td>8.62141</td>\n",
       "      <td>1.30431</td>\n",
       "      <td>9.48791</td>\n",
       "      <td>111.488</td>\n",
       "      <td>1.12181</td>\n",
       "      <td>1.33787</td>\n",
       "      <td>0.70518</td>\n",
       "    </tr>\n",
       "  </tbody>\n",
       "</table>\n",
       "</div>"
      ],
      "text/plain": [
       "    nzdusd   usdchf   usdnok   gbpusd   usdsek   usdjpy   eurusd   usdcad  \\\n",
       "0  0.66490  1.01928  8.62105  1.30439  9.48757  111.489  1.12184  1.33780   \n",
       "1  0.66491  1.01928  8.62106  1.30439  9.48757  111.489  1.12183  1.33781   \n",
       "2  0.66490  1.01928  8.62124  1.30437  9.48757  111.489  1.12183  1.33784   \n",
       "3  0.66490  1.01929  8.62135  1.30438  9.48791  111.489  1.12183  1.33788   \n",
       "4  0.66489  1.01929  8.62141  1.30431  9.48791  111.488  1.12181  1.33787   \n",
       "\n",
       "    audusd  \n",
       "0  0.70517  \n",
       "1  0.70517  \n",
       "2  0.70518  \n",
       "3  0.70518  \n",
       "4  0.70518  "
      ]
     },
     "execution_count": 35,
     "metadata": {},
     "output_type": "execute_result"
    }
   ],
   "source": [
    "X_ask.head()"
   ]
  },
  {
   "cell_type": "markdown",
   "metadata": {},
   "source": [
    "#### Bid prices"
   ]
  },
  {
   "cell_type": "code",
   "execution_count": 36,
   "metadata": {
    "ExecuteTime": {
     "end_time": "2019-11-03T17:58:11.376326Z",
     "start_time": "2019-11-03T17:58:09.462427Z"
    },
    "scrolled": true
   },
   "outputs": [
    {
     "data": {
      "text/plain": [
       "<matplotlib.axes._subplots.AxesSubplot at 0x12871a5f8>"
      ]
     },
     "execution_count": 36,
     "metadata": {},
     "output_type": "execute_result"
    },
    {
     "data": {
      "image/png": "[encoded data removed]",
      "text/plain": [
       "<Figure size 720x360 with 9 Axes>"
      ]
     },
     "metadata": {},
     "output_type": "display_data"
    }
   ],
   "source": [
    "plot_multi(X_bid, figsize=(10, 5))"
   ]
  },
  {
   "cell_type": "markdown",
   "metadata": {},
   "source": [
    "#### Ask prices"
   ]
  },
  {
   "cell_type": "code",
   "execution_count": 37,
   "metadata": {
    "ExecuteTime": {
     "end_time": "2019-11-03T17:58:13.392872Z",
     "start_time": "2019-11-03T17:58:11.378379Z"
    }
   },
   "outputs": [
    {
     "data": {
      "text/plain": [
       "<matplotlib.axes._subplots.AxesSubplot at 0x129f34dd8>"
      ]
     },
     "execution_count": 37,
     "metadata": {},
     "output_type": "execute_result"
    },
    {
     "data": {
      "image/png": "[encoded data removed]",
      "text/plain": [
       "<Figure size 720x360 with 9 Axes>"
      ]
     },
     "metadata": {},
     "output_type": "display_data"
    }
   ],
   "source": [
    "plot_multi(X_ask, figsize=(10, 5))"
   ]
  },
  {
   "cell_type": "code",
   "execution_count": null,
   "metadata": {},
   "outputs": [],
   "source": []
  },
  {
   "cell_type": "markdown",
   "metadata": {},
   "source": [
    "# 3. Data set `X` is ready"
   ]
  },
  {
   "cell_type": "markdown",
   "metadata": {},
   "source": [
    "## 3.1 Take a look"
   ]
  },
  {
   "cell_type": "code",
   "execution_count": 38,
   "metadata": {
    "ExecuteTime": {
     "end_time": "2019-11-03T17:58:13.400943Z",
     "start_time": "2019-11-03T17:58:13.396081Z"
    }
   },
   "outputs": [
    {
     "data": {
      "text/plain": [
       "(292662, 7)"
      ]
     },
     "execution_count": 38,
     "metadata": {},
     "output_type": "execute_result"
    }
   ],
   "source": [
    "X.shape"
   ]
  },
  {
   "cell_type": "code",
   "execution_count": 39,
   "metadata": {
    "ExecuteTime": {
     "end_time": "2019-11-03T17:58:13.434991Z",
     "start_time": "2019-11-03T17:58:13.403501Z"
    }
   },
   "outputs": [
    {
     "data": {
      "text/html": [
       "<div>\n",
       "<style scoped>\n",
       "    .dataframe tbody tr th:only-of-type {\n",
       "        vertical-align: middle;\n",
       "    }\n",
       "\n",
       "    .dataframe tbody tr th {\n",
       "        vertical-align: top;\n",
       "    }\n",
       "\n",
       "    .dataframe thead th {\n",
       "        text-align: right;\n",
       "    }\n",
       "</style>\n",
       "<table border=\"1\" class=\"dataframe\">\n",
       "  <thead>\n",
       "    <tr style=\"text-align: right;\">\n",
       "      <th></th>\n",
       "      <th>timestamp</th>\n",
       "      <th>ccy</th>\n",
       "      <th>bid_price</th>\n",
       "      <th>ask_price</th>\n",
       "      <th>bid_ret</th>\n",
       "      <th>ask_ret</th>\n",
       "      <th>mid_price</th>\n",
       "    </tr>\n",
       "  </thead>\n",
       "  <tbody>\n",
       "    <tr>\n",
       "      <th>3555</th>\n",
       "      <td>2019-05-03 11:17:00</td>\n",
       "      <td>audusd</td>\n",
       "      <td>0.70207</td>\n",
       "      <td>0.70220</td>\n",
       "      <td>0.000014</td>\n",
       "      <td>0.000014</td>\n",
       "      <td>0.00013</td>\n",
       "    </tr>\n",
       "    <tr>\n",
       "      <th>261307</th>\n",
       "      <td>2019-05-01 19:25:00</td>\n",
       "      <td>usdsek</td>\n",
       "      <td>9.53442</td>\n",
       "      <td>9.53491</td>\n",
       "      <td>-0.000041</td>\n",
       "      <td>0.000000</td>\n",
       "      <td>0.00049</td>\n",
       "    </tr>\n",
       "    <tr>\n",
       "      <th>23283</th>\n",
       "      <td>2019-05-23 04:05:00</td>\n",
       "      <td>audusd</td>\n",
       "      <td>0.68713</td>\n",
       "      <td>0.68724</td>\n",
       "      <td>0.000058</td>\n",
       "      <td>0.000116</td>\n",
       "      <td>0.00011</td>\n",
       "    </tr>\n",
       "    <tr>\n",
       "      <th>153696</th>\n",
       "      <td>2019-05-23 09:46:00</td>\n",
       "      <td>usdcad</td>\n",
       "      <td>1.34973</td>\n",
       "      <td>1.35012</td>\n",
       "      <td>-0.000126</td>\n",
       "      <td>-0.000037</td>\n",
       "      <td>0.00039</td>\n",
       "    </tr>\n",
       "    <tr>\n",
       "      <th>48689</th>\n",
       "      <td>2019-05-16 05:33:00</td>\n",
       "      <td>eurusd</td>\n",
       "      <td>1.12093</td>\n",
       "      <td>1.12114</td>\n",
       "      <td>0.000027</td>\n",
       "      <td>0.000161</td>\n",
       "      <td>0.00021</td>\n",
       "    </tr>\n",
       "  </tbody>\n",
       "</table>\n",
       "</div>"
      ],
      "text/plain": [
       "                 timestamp     ccy  bid_price  ask_price   bid_ret   ask_ret  \\\n",
       "3555   2019-05-03 11:17:00  audusd    0.70207    0.70220  0.000014  0.000014   \n",
       "261307 2019-05-01 19:25:00  usdsek    9.53442    9.53491 -0.000041  0.000000   \n",
       "23283  2019-05-23 04:05:00  audusd    0.68713    0.68724  0.000058  0.000116   \n",
       "153696 2019-05-23 09:46:00  usdcad    1.34973    1.35012 -0.000126 -0.000037   \n",
       "48689  2019-05-16 05:33:00  eurusd    1.12093    1.12114  0.000027  0.000161   \n",
       "\n",
       "        mid_price  \n",
       "3555      0.00013  \n",
       "261307    0.00049  \n",
       "23283     0.00011  \n",
       "153696    0.00039  \n",
       "48689     0.00021  "
      ]
     },
     "execution_count": 39,
     "metadata": {},
     "output_type": "execute_result"
    }
   ],
   "source": [
    "X.sample(5)"
   ]
  },
  {
   "cell_type": "code",
   "execution_count": 40,
   "metadata": {
    "ExecuteTime": {
     "end_time": "2019-11-03T17:58:13.485643Z",
     "start_time": "2019-11-03T17:58:13.443201Z"
    }
   },
   "outputs": [
    {
     "data": {
      "text/html": [
       "<div>\n",
       "<style scoped>\n",
       "    .dataframe tbody tr th:only-of-type {\n",
       "        vertical-align: middle;\n",
       "    }\n",
       "\n",
       "    .dataframe tbody tr th {\n",
       "        vertical-align: top;\n",
       "    }\n",
       "\n",
       "    .dataframe thead th {\n",
       "        text-align: right;\n",
       "    }\n",
       "</style>\n",
       "<table border=\"1\" class=\"dataframe\">\n",
       "  <thead>\n",
       "    <tr style=\"text-align: right;\">\n",
       "      <th></th>\n",
       "      <th>timestamp</th>\n",
       "      <th>ccy</th>\n",
       "      <th>bid_price</th>\n",
       "      <th>ask_price</th>\n",
       "      <th>bid_ret</th>\n",
       "      <th>ask_ret</th>\n",
       "      <th>mid_price</th>\n",
       "    </tr>\n",
       "  </thead>\n",
       "  <tbody>\n",
       "    <tr>\n",
       "      <th>65036</th>\n",
       "      <td>2019-05-01 00:02:00</td>\n",
       "      <td>gbpusd</td>\n",
       "      <td>1.30425</td>\n",
       "      <td>1.30439</td>\n",
       "      <td>-0.000008</td>\n",
       "      <td>0.000069</td>\n",
       "      <td>0.00014</td>\n",
       "    </tr>\n",
       "    <tr>\n",
       "      <th>65037</th>\n",
       "      <td>2019-05-01 00:03:00</td>\n",
       "      <td>gbpusd</td>\n",
       "      <td>1.30435</td>\n",
       "      <td>1.30439</td>\n",
       "      <td>0.000077</td>\n",
       "      <td>0.000000</td>\n",
       "      <td>0.00004</td>\n",
       "    </tr>\n",
       "    <tr>\n",
       "      <th>65038</th>\n",
       "      <td>2019-05-01 00:04:00</td>\n",
       "      <td>gbpusd</td>\n",
       "      <td>1.30426</td>\n",
       "      <td>1.30437</td>\n",
       "      <td>-0.000069</td>\n",
       "      <td>-0.000015</td>\n",
       "      <td>0.00011</td>\n",
       "    </tr>\n",
       "    <tr>\n",
       "      <th>65039</th>\n",
       "      <td>2019-05-01 00:05:00</td>\n",
       "      <td>gbpusd</td>\n",
       "      <td>1.30427</td>\n",
       "      <td>1.30438</td>\n",
       "      <td>0.000008</td>\n",
       "      <td>0.000008</td>\n",
       "      <td>0.00011</td>\n",
       "    </tr>\n",
       "    <tr>\n",
       "      <th>65040</th>\n",
       "      <td>2019-05-01 00:06:00</td>\n",
       "      <td>gbpusd</td>\n",
       "      <td>1.30427</td>\n",
       "      <td>1.30431</td>\n",
       "      <td>0.000000</td>\n",
       "      <td>-0.000054</td>\n",
       "      <td>0.00004</td>\n",
       "    </tr>\n",
       "  </tbody>\n",
       "</table>\n",
       "</div>"
      ],
      "text/plain": [
       "                timestamp     ccy  bid_price  ask_price   bid_ret   ask_ret  \\\n",
       "65036 2019-05-01 00:02:00  gbpusd    1.30425    1.30439 -0.000008  0.000069   \n",
       "65037 2019-05-01 00:03:00  gbpusd    1.30435    1.30439  0.000077  0.000000   \n",
       "65038 2019-05-01 00:04:00  gbpusd    1.30426    1.30437 -0.000069 -0.000015   \n",
       "65039 2019-05-01 00:05:00  gbpusd    1.30427    1.30438  0.000008  0.000008   \n",
       "65040 2019-05-01 00:06:00  gbpusd    1.30427    1.30431  0.000000 -0.000054   \n",
       "\n",
       "       mid_price  \n",
       "65036    0.00014  \n",
       "65037    0.00004  \n",
       "65038    0.00011  \n",
       "65039    0.00011  \n",
       "65040    0.00004  "
      ]
     },
     "execution_count": 40,
     "metadata": {},
     "output_type": "execute_result"
    }
   ],
   "source": [
    "X[X.ccy=='gbpusd'].head(5)"
   ]
  },
  {
   "cell_type": "markdown",
   "metadata": {},
   "source": [
    "## Split: Training set and Validation set(=evaluation set)\n",
    "- Training set `X_train`: The first two and a half weeks (From May 1, 2019 to May 19, 2019)\n",
    "- Validation set `X_val`: The following one week (From May 20, 2019 to May 26, 2019)\n",
    "- Test set `X_test`: The rest of days (From May 27, 2019 to May 31, 2019)\n",
    "  - In fact, we never create `X_test` until the very last moment."
   ]
  },
  {
   "cell_type": "code",
   "execution_count": 41,
   "metadata": {
    "ExecuteTime": {
     "end_time": "2019-11-03T17:58:13.536991Z",
     "start_time": "2019-11-03T17:58:13.489420Z"
    }
   },
   "outputs": [],
   "source": [
    "X_train = X[(X.timestamp >= pd.datetime(2019, 5, 1)) &\n",
    "            (X.timestamp < pd.datetime(2019, 5, 20))]\n",
    "X_val = X[(X.timestamp >= pd.datetime(2019, 5, 20)) &\n",
    "          (X.timestamp < pd.datetime(2019, 5, 27))]"
   ]
  },
  {
   "cell_type": "code",
   "execution_count": 42,
   "metadata": {
    "ExecuteTime": {
     "end_time": "2019-11-03T17:58:13.615698Z",
     "start_time": "2019-11-03T17:58:13.540607Z"
    }
   },
   "outputs": [],
   "source": [
    "X.drop(X[(X.timestamp >= pd.datetime(2019, 5, 27)) & (\n",
    "    X.timestamp < pd.datetime(2019, 6, 1))].index, inplace=True)"
   ]
  },
  {
   "cell_type": "code",
   "execution_count": 43,
   "metadata": {
    "ExecuteTime": {
     "end_time": "2019-11-03T17:58:13.642353Z",
     "start_time": "2019-11-03T17:58:13.619647Z"
    },
    "scrolled": false
   },
   "outputs": [
    {
     "data": {
      "text/html": [
       "<div>\n",
       "<style scoped>\n",
       "    .dataframe tbody tr th:only-of-type {\n",
       "        vertical-align: middle;\n",
       "    }\n",
       "\n",
       "    .dataframe tbody tr th {\n",
       "        vertical-align: top;\n",
       "    }\n",
       "\n",
       "    .dataframe thead th {\n",
       "        text-align: right;\n",
       "    }\n",
       "</style>\n",
       "<table border=\"1\" class=\"dataframe\">\n",
       "  <thead>\n",
       "    <tr style=\"text-align: right;\">\n",
       "      <th></th>\n",
       "      <th>timestamp</th>\n",
       "      <th>ccy</th>\n",
       "      <th>bid_price</th>\n",
       "      <th>ask_price</th>\n",
       "      <th>bid_ret</th>\n",
       "      <th>ask_ret</th>\n",
       "      <th>mid_price</th>\n",
       "    </tr>\n",
       "  </thead>\n",
       "  <tbody>\n",
       "    <tr>\n",
       "      <th>285878</th>\n",
       "      <td>2019-05-26 23:55:00</td>\n",
       "      <td>usdsek</td>\n",
       "      <td>9.52895</td>\n",
       "      <td>9.52895</td>\n",
       "      <td>0.0</td>\n",
       "      <td>0.0</td>\n",
       "      <td>0.0</td>\n",
       "    </tr>\n",
       "    <tr>\n",
       "      <th>285879</th>\n",
       "      <td>2019-05-26 23:56:00</td>\n",
       "      <td>usdsek</td>\n",
       "      <td>9.52895</td>\n",
       "      <td>9.52895</td>\n",
       "      <td>0.0</td>\n",
       "      <td>0.0</td>\n",
       "      <td>0.0</td>\n",
       "    </tr>\n",
       "    <tr>\n",
       "      <th>285880</th>\n",
       "      <td>2019-05-26 23:57:00</td>\n",
       "      <td>usdsek</td>\n",
       "      <td>9.52895</td>\n",
       "      <td>9.52895</td>\n",
       "      <td>0.0</td>\n",
       "      <td>0.0</td>\n",
       "      <td>0.0</td>\n",
       "    </tr>\n",
       "    <tr>\n",
       "      <th>285881</th>\n",
       "      <td>2019-05-26 23:58:00</td>\n",
       "      <td>usdsek</td>\n",
       "      <td>9.52895</td>\n",
       "      <td>9.52895</td>\n",
       "      <td>0.0</td>\n",
       "      <td>0.0</td>\n",
       "      <td>0.0</td>\n",
       "    </tr>\n",
       "    <tr>\n",
       "      <th>285882</th>\n",
       "      <td>2019-05-26 23:59:00</td>\n",
       "      <td>usdsek</td>\n",
       "      <td>9.52895</td>\n",
       "      <td>9.52895</td>\n",
       "      <td>0.0</td>\n",
       "      <td>0.0</td>\n",
       "      <td>0.0</td>\n",
       "    </tr>\n",
       "  </tbody>\n",
       "</table>\n",
       "</div>"
      ],
      "text/plain": [
       "                 timestamp     ccy  bid_price  ask_price  bid_ret  ask_ret  \\\n",
       "285878 2019-05-26 23:55:00  usdsek    9.52895    9.52895      0.0      0.0   \n",
       "285879 2019-05-26 23:56:00  usdsek    9.52895    9.52895      0.0      0.0   \n",
       "285880 2019-05-26 23:57:00  usdsek    9.52895    9.52895      0.0      0.0   \n",
       "285881 2019-05-26 23:58:00  usdsek    9.52895    9.52895      0.0      0.0   \n",
       "285882 2019-05-26 23:59:00  usdsek    9.52895    9.52895      0.0      0.0   \n",
       "\n",
       "        mid_price  \n",
       "285878        0.0  \n",
       "285879        0.0  \n",
       "285880        0.0  \n",
       "285881        0.0  \n",
       "285882        0.0  "
      ]
     },
     "execution_count": 43,
     "metadata": {},
     "output_type": "execute_result"
    }
   ],
   "source": [
    "X.tail()"
   ]
  },
  {
   "cell_type": "markdown",
   "metadata": {},
   "source": [
    "## 3.2 Save to csv files"
   ]
  },
  {
   "cell_type": "code",
   "execution_count": 61,
   "metadata": {
    "ExecuteTime": {
     "end_time": "2019-11-03T18:03:48.083262Z",
     "start_time": "2019-11-03T18:03:46.353287Z"
    }
   },
   "outputs": [],
   "source": [
    "X_train.to_csv('../dataset/toy_X_train.csv', index=False)\n",
    "X_val.to_csv('../dataset/toy_X_val.csv', index=False)"
   ]
  },
  {
   "cell_type": "markdown",
   "metadata": {},
   "source": [
    "### The end of preprocessing ------------------------------------------------"
   ]
  },
  {
   "cell_type": "code",
   "execution_count": null,
   "metadata": {},
   "outputs": [],
   "source": []
  },
  {
   "cell_type": "code",
   "execution_count": null,
   "metadata": {},
   "outputs": [],
   "source": []
  },
  {
   "cell_type": "code",
   "execution_count": null,
   "metadata": {},
   "outputs": [],
   "source": []
  },
  {
   "cell_type": "markdown",
   "metadata": {},
   "source": [
    "# Dat2019/DRL/run.py"
   ]
  },
  {
   "cell_type": "markdown",
   "metadata": {},
   "source": [
    "#### Import required packages"
   ]
  },
  {
   "cell_type": "code",
   "execution_count": 51,
   "metadata": {
    "ExecuteTime": {
     "end_time": "2019-11-03T17:59:26.157631Z",
     "start_time": "2019-11-03T17:59:26.152296Z"
    }
   },
   "outputs": [],
   "source": [
    "from __future__ import absolute_import, division, print_function, unicode_literals\n",
    "\n",
    "import numpy as np\n",
    "\n",
    "# utils\n",
    "import time\n",
    "\n",
    "# TensorFlow\n",
    "import tensorflow as tf\n",
    "import tensorflow.keras.optimizers as kop\n",
    "import tensorflow.keras.losses as kls\n",
    "from tensorflow.keras.layers import Dense\n",
    "from tensorflow.keras import Model"
   ]
  },
  {
   "cell_type": "markdown",
   "metadata": {},
   "source": [
    "#### Import our packages"
   ]
  },
  {
   "cell_type": "code",
   "execution_count": 45,
   "metadata": {
    "ExecuteTime": {
     "end_time": "2019-11-03T17:58:16.893349Z",
     "start_time": "2019-11-03T17:58:16.889726Z"
    }
   },
   "outputs": [],
   "source": [
    "from features import draw_episode"
   ]
  },
  {
   "cell_type": "markdown",
   "metadata": {},
   "source": [
    "#### Configuration\n",
    "- *Json* format or something else will be used later, but for now..."
   ]
  },
  {
   "cell_type": "code",
   "execution_count": 53,
   "metadata": {
    "ExecuteTime": {
     "end_time": "2019-11-03T18:00:31.882655Z",
     "start_time": "2019-11-03T18:00:31.878156Z"
    }
   },
   "outputs": [],
   "source": [
    "config = {}\n",
    "config['lag'] = 20\n",
    "config['ep_size'] = 100\n",
    "config['init_lr'] = 0.005\n",
    "config['momentum'] = 0.9\n",
    "config['num_of_eval_data'] = 30\n",
    "config['target_currency'] = 'audusd'\n",
    "config['epochs'] = 100\n",
    "config['timespan'] = 1440   # one full day (1440 minutes)\n",
    "\n",
    "tf.keras.backend.set_floatx('float64')"
   ]
  },
  {
   "cell_type": "code",
   "execution_count": 47,
   "metadata": {
    "ExecuteTime": {
     "end_time": "2019-11-03T17:58:16.908989Z",
     "start_time": "2019-11-03T17:58:16.902741Z"
    }
   },
   "outputs": [],
   "source": [
    "class Policy(Model):\n",
    "    def __init__(self):\n",
    "        super(Policy, self).__init__('mlp_policy')\n",
    "        self.fc1 = Dense(units=256, activation='relu')\n",
    "        self.fc2 = Dense(units=64, activation='relu')\n",
    "        self.value = Dense(1, activation='tanh', name='value')\n",
    "        \n",
    "        self.saved_log_probs = []\n",
    "        self.rewards = 0\n",
    "#         self.actions = []\n",
    "        \n",
    "    def call(self, inputs):\n",
    "        # `inputs` is a numpy array. We convert to Tensor.\n",
    "        x = tf.convert_to_tensor(inputs)\n",
    "        \n",
    "        x = self.fc1(x)\n",
    "        x = self.fc2(x)\n",
    "        x = self.value(x)\n",
    "        \n",
    "        return x\n",
    "    \n",
    "#     def choose_action(self, obs):\n",
    "#         # self.call() will be executed under the hool.\n",
    "#         value = self.predict(obs)\n",
    "        \n",
    "#         return np.squeeze(value, axis=-1)"
   ]
  },
  {
   "cell_type": "code",
   "execution_count": 48,
   "metadata": {
    "ExecuteTime": {
     "end_time": "2019-11-03T17:58:16.927866Z",
     "start_time": "2019-11-03T17:58:16.911604Z"
    }
   },
   "outputs": [],
   "source": [
    "policy = Policy()"
   ]
  },
  {
   "cell_type": "code",
   "execution_count": 49,
   "metadata": {
    "ExecuteTime": {
     "end_time": "2019-11-03T17:58:20.456082Z",
     "start_time": "2019-11-03T17:58:20.443990Z"
    }
   },
   "outputs": [],
   "source": [
    "def train_eval():\n",
    "    # We use an optimizer defined in Keras (kop)\n",
    "    optimizer = kop.SGD(\n",
    "        learning_rate=config['init_lr'], momentum=config['momentum'], name='SGD')\n",
    "\n",
    "    # Machine limits for floating point types.\n",
    "    eps = np.finfo(np.float64).eps.item()\n",
    "    rewards_over_time = []\n",
    "\n",
    "    num_of_eval_data = config['num_of_eval_data']\n",
    "    path = './base/best_model_' + \\\n",
    "        config['target_currency'] + str(time.time()) + '.tf'\n",
    "\n",
    "    for epoch in range(config['epochs']):\n",
    "        for ep_idx in range(config['ep_size']):\n",
    "            prev_action = 0\n",
    "            # n is `n-th` episode\n",
    "            # ep_size is a length of one episode.\n",
    "            # in draw_episode(), X[n:n+ep_size+1] will be used.\n",
    "            \n",
    "            # For a lag of 20,\n",
    "            # feature_span[0] := [20 target's log return(bid prices),\n",
    "            #                     20 target's log return(ask prices),\n",
    "            #                     8*20 others' log return(bid prices),\n",
    "            #                     8*20 others' log return(ask prices)]\n",
    "            #     at the oldest time stamp.\n",
    "            # (feature_span[-1] has features at the latest)\n",
    "            # Features are nomalized within draw_episode()\n",
    "            target_bid, target_ask, feature_span = \\\n",
    "                draw_episode(X=X_train, cur=config['target_currency'],\n",
    "                             n=ep_idx, ep_size=config['ep_size'],\n",
    "                             lag=config['lag'])\n",
    "            bid, ask, features = target_bid[config['lag']:] * 1e3, \\\n",
    "                            target_ask[config['lag']:]*1e3, \\\n",
    "                            feature_span\n",
    "            \n",
    "            # We loop through time stamps in order within an episode.\n",
    "            for t in range(config['timespan']):\n",
    "                observation = feature_span[t]\n",
    "                \n",
    "                # The neural networks returns an action-like value\n",
    "                # `state` is a numpy array.\n",
    "                action_by_nets = policy(observation)\n",
    "                \n",
    "                # An actual action to take should effectively cause a trade.\n",
    "                # Therefore, we subtract `prev_action_by_nets`\n",
    "                # from `action_by_nets` and take it as our `action`\n",
    "                action = action_by_nets - prev_action\n",
    "                print(action, action.shape)\n",
    "                price = 0\n",
    "                if action > 0:\n",
    "                    price = ask[t]  # We buy\n",
    "                elif action < 0:\n",
    "                    price = bid[t]  # We sell\n",
    "                \n",
    "                # This is an immediate reward caused by taking an action\n",
    "                reward = tf.math.add(-1*action*price)\n",
    "                \n",
    "                # Accumulated rewards\n",
    "                policy.rewards += reward\n",
    "                \n",
    "                prev_action = action_by_nets\n",
    "            \n",
    "            # Now that we've completed one episode,\n",
    "            # we optimize the neural nets.\n",
    "            losses = policy.train_on_batch(-policy.rewards / config['timespan'])\n",
    "#             with tf.GradientTape() as tape:\n",
    "#                 loss = -policy.rewards / config['timespan']\n",
    "#             grads = tape.gradient(loss, policy.trainable_variables)\n",
    "#             optimizer.apply_gradient(zip(grads, model.trainable_variables))\n",
    "            \n",
    "            if ep_idx % 10 == 0:\n",
    "                logger.info('Epoch:{} Episode:{}. The training loss is {}'.format(epoch, ep_idx, loss.item()))\n",
    "            \n",
    "            policy.rewards = 0"
   ]
  },
  {
   "cell_type": "code",
   "execution_count": 54,
   "metadata": {
    "ExecuteTime": {
     "end_time": "2019-11-03T18:00:35.179081Z",
     "start_time": "2019-11-03T18:00:35.092449Z"
    }
   },
   "outputs": [
    {
     "ename": "ValueError",
     "evalue": "Input 0 of layer dense is incompatible with the layer: : expected min_ndim=2, found ndim=1. Full shape received: [360]",
     "output_type": "error",
     "traceback": [
      "\u001b[0;31m---------------------------------------------------------------------------\u001b[0m",
      "\u001b[0;31mValueError\u001b[0m                                Traceback (most recent call last)",
      "\u001b[0;32m<ipython-input-54-8d6533c980f7>\u001b[0m in \u001b[0;36m<module>\u001b[0;34m\u001b[0m\n\u001b[0;32m----> 1\u001b[0;31m \u001b[0mtrain_eval\u001b[0m\u001b[0;34m(\u001b[0m\u001b[0;34m)\u001b[0m\u001b[0;34m\u001b[0m\u001b[0m\n\u001b[0m",
      "\u001b[0;32m<ipython-input-49-ca72884d5141>\u001b[0m in \u001b[0;36mtrain_eval\u001b[0;34m()\u001b[0m\n\u001b[1;32m     41\u001b[0m                 \u001b[0;31m# The neural networks returns an action-like value\u001b[0m\u001b[0;34m\u001b[0m\u001b[0;34m\u001b[0m\u001b[0m\n\u001b[1;32m     42\u001b[0m                 \u001b[0;31m# `state` is a numpy array.\u001b[0m\u001b[0;34m\u001b[0m\u001b[0;34m\u001b[0m\u001b[0m\n\u001b[0;32m---> 43\u001b[0;31m                 \u001b[0maction_by_nets\u001b[0m \u001b[0;34m=\u001b[0m \u001b[0mpolicy\u001b[0m\u001b[0;34m(\u001b[0m\u001b[0mobservation\u001b[0m\u001b[0;34m)\u001b[0m\u001b[0;34m\u001b[0m\u001b[0m\n\u001b[0m\u001b[1;32m     44\u001b[0m \u001b[0;34m\u001b[0m\u001b[0m\n\u001b[1;32m     45\u001b[0m                 \u001b[0;31m# An actual action to take should effectively cause a trade.\u001b[0m\u001b[0;34m\u001b[0m\u001b[0;34m\u001b[0m\u001b[0m\n",
      "\u001b[0;32m~/anaconda3/envs/dl/lib/python3.6/site-packages/tensorflow_core/python/keras/engine/base_layer.py\u001b[0m in \u001b[0;36m__call__\u001b[0;34m(self, inputs, *args, **kwargs)\u001b[0m\n\u001b[1;32m    889\u001b[0m           with base_layer_utils.autocast_context_manager(\n\u001b[1;32m    890\u001b[0m               self._compute_dtype):\n\u001b[0;32m--> 891\u001b[0;31m             \u001b[0moutputs\u001b[0m \u001b[0;34m=\u001b[0m \u001b[0mself\u001b[0m\u001b[0;34m.\u001b[0m\u001b[0mcall\u001b[0m\u001b[0;34m(\u001b[0m\u001b[0mcast_inputs\u001b[0m\u001b[0;34m,\u001b[0m \u001b[0;34m*\u001b[0m\u001b[0margs\u001b[0m\u001b[0;34m,\u001b[0m \u001b[0;34m**\u001b[0m\u001b[0mkwargs\u001b[0m\u001b[0;34m)\u001b[0m\u001b[0;34m\u001b[0m\u001b[0m\n\u001b[0m\u001b[1;32m    892\u001b[0m           \u001b[0mself\u001b[0m\u001b[0;34m.\u001b[0m\u001b[0m_handle_activity_regularization\u001b[0m\u001b[0;34m(\u001b[0m\u001b[0minputs\u001b[0m\u001b[0;34m,\u001b[0m \u001b[0moutputs\u001b[0m\u001b[0;34m)\u001b[0m\u001b[0;34m\u001b[0m\u001b[0m\n\u001b[1;32m    893\u001b[0m           \u001b[0mself\u001b[0m\u001b[0;34m.\u001b[0m\u001b[0m_set_mask_metadata\u001b[0m\u001b[0;34m(\u001b[0m\u001b[0minputs\u001b[0m\u001b[0;34m,\u001b[0m \u001b[0moutputs\u001b[0m\u001b[0;34m,\u001b[0m \u001b[0minput_masks\u001b[0m\u001b[0;34m)\u001b[0m\u001b[0;34m\u001b[0m\u001b[0m\n",
      "\u001b[0;32m<ipython-input-47-a5c1ed4025d4>\u001b[0m in \u001b[0;36mcall\u001b[0;34m(self, inputs)\u001b[0m\n\u001b[1;32m     14\u001b[0m         \u001b[0mx\u001b[0m \u001b[0;34m=\u001b[0m \u001b[0mtf\u001b[0m\u001b[0;34m.\u001b[0m\u001b[0mconvert_to_tensor\u001b[0m\u001b[0;34m(\u001b[0m\u001b[0minputs\u001b[0m\u001b[0;34m)\u001b[0m\u001b[0;34m\u001b[0m\u001b[0m\n\u001b[1;32m     15\u001b[0m \u001b[0;34m\u001b[0m\u001b[0m\n\u001b[0;32m---> 16\u001b[0;31m         \u001b[0mx\u001b[0m \u001b[0;34m=\u001b[0m \u001b[0mself\u001b[0m\u001b[0;34m.\u001b[0m\u001b[0mfc1\u001b[0m\u001b[0;34m(\u001b[0m\u001b[0mx\u001b[0m\u001b[0;34m)\u001b[0m\u001b[0;34m\u001b[0m\u001b[0m\n\u001b[0m\u001b[1;32m     17\u001b[0m         \u001b[0mx\u001b[0m \u001b[0;34m=\u001b[0m \u001b[0mself\u001b[0m\u001b[0;34m.\u001b[0m\u001b[0mfc2\u001b[0m\u001b[0;34m(\u001b[0m\u001b[0mx\u001b[0m\u001b[0;34m)\u001b[0m\u001b[0;34m\u001b[0m\u001b[0m\n\u001b[1;32m     18\u001b[0m         \u001b[0mx\u001b[0m \u001b[0;34m=\u001b[0m \u001b[0mself\u001b[0m\u001b[0;34m.\u001b[0m\u001b[0mvalue\u001b[0m\u001b[0;34m(\u001b[0m\u001b[0mx\u001b[0m\u001b[0;34m)\u001b[0m\u001b[0;34m\u001b[0m\u001b[0m\n",
      "\u001b[0;32m~/anaconda3/envs/dl/lib/python3.6/site-packages/tensorflow_core/python/keras/engine/base_layer.py\u001b[0m in \u001b[0;36m__call__\u001b[0;34m(self, inputs, *args, **kwargs)\u001b[0m\n\u001b[1;32m    885\u001b[0m         \u001b[0;31m# Eager execution on data tensors.\u001b[0m\u001b[0;34m\u001b[0m\u001b[0;34m\u001b[0m\u001b[0m\n\u001b[1;32m    886\u001b[0m         \u001b[0;32mwith\u001b[0m \u001b[0mbackend\u001b[0m\u001b[0;34m.\u001b[0m\u001b[0mname_scope\u001b[0m\u001b[0;34m(\u001b[0m\u001b[0mself\u001b[0m\u001b[0;34m.\u001b[0m\u001b[0m_name_scope\u001b[0m\u001b[0;34m(\u001b[0m\u001b[0;34m)\u001b[0m\u001b[0;34m)\u001b[0m\u001b[0;34m:\u001b[0m\u001b[0;34m\u001b[0m\u001b[0m\n\u001b[0;32m--> 887\u001b[0;31m           \u001b[0mself\u001b[0m\u001b[0;34m.\u001b[0m\u001b[0m_maybe_build\u001b[0m\u001b[0;34m(\u001b[0m\u001b[0minputs\u001b[0m\u001b[0;34m)\u001b[0m\u001b[0;34m\u001b[0m\u001b[0m\n\u001b[0m\u001b[1;32m    888\u001b[0m           \u001b[0mcast_inputs\u001b[0m \u001b[0;34m=\u001b[0m \u001b[0mself\u001b[0m\u001b[0;34m.\u001b[0m\u001b[0m_maybe_cast_inputs\u001b[0m\u001b[0;34m(\u001b[0m\u001b[0minputs\u001b[0m\u001b[0;34m)\u001b[0m\u001b[0;34m\u001b[0m\u001b[0m\n\u001b[1;32m    889\u001b[0m           with base_layer_utils.autocast_context_manager(\n",
      "\u001b[0;32m~/anaconda3/envs/dl/lib/python3.6/site-packages/tensorflow_core/python/keras/engine/base_layer.py\u001b[0m in \u001b[0;36m_maybe_build\u001b[0;34m(self, inputs)\u001b[0m\n\u001b[1;32m   2120\u001b[0m     \u001b[0;32mif\u001b[0m \u001b[0;32mnot\u001b[0m \u001b[0mself\u001b[0m\u001b[0;34m.\u001b[0m\u001b[0mbuilt\u001b[0m\u001b[0;34m:\u001b[0m\u001b[0;34m\u001b[0m\u001b[0m\n\u001b[1;32m   2121\u001b[0m       input_spec.assert_input_compatibility(\n\u001b[0;32m-> 2122\u001b[0;31m           self.input_spec, inputs, self.name)\n\u001b[0m\u001b[1;32m   2123\u001b[0m       \u001b[0minput_list\u001b[0m \u001b[0;34m=\u001b[0m \u001b[0mnest\u001b[0m\u001b[0;34m.\u001b[0m\u001b[0mflatten\u001b[0m\u001b[0;34m(\u001b[0m\u001b[0minputs\u001b[0m\u001b[0;34m)\u001b[0m\u001b[0;34m\u001b[0m\u001b[0m\n\u001b[1;32m   2124\u001b[0m       \u001b[0;32mif\u001b[0m \u001b[0minput_list\u001b[0m \u001b[0;32mand\u001b[0m \u001b[0mself\u001b[0m\u001b[0;34m.\u001b[0m\u001b[0m_dtype_policy\u001b[0m\u001b[0;34m.\u001b[0m\u001b[0mcompute_dtype\u001b[0m \u001b[0;32mis\u001b[0m \u001b[0;32mNone\u001b[0m\u001b[0;34m:\u001b[0m\u001b[0;34m\u001b[0m\u001b[0m\n",
      "\u001b[0;32m~/anaconda3/envs/dl/lib/python3.6/site-packages/tensorflow_core/python/keras/engine/input_spec.py\u001b[0m in \u001b[0;36massert_input_compatibility\u001b[0;34m(input_spec, inputs, layer_name)\u001b[0m\n\u001b[1;32m    191\u001b[0m                          \u001b[0;34m', found ndim='\u001b[0m \u001b[0;34m+\u001b[0m \u001b[0mstr\u001b[0m\u001b[0;34m(\u001b[0m\u001b[0mndim\u001b[0m\u001b[0;34m)\u001b[0m \u001b[0;34m+\u001b[0m\u001b[0;34m\u001b[0m\u001b[0m\n\u001b[1;32m    192\u001b[0m                          \u001b[0;34m'. Full shape received: '\u001b[0m \u001b[0;34m+\u001b[0m\u001b[0;34m\u001b[0m\u001b[0m\n\u001b[0;32m--> 193\u001b[0;31m                          str(x.shape.as_list()))\n\u001b[0m\u001b[1;32m    194\u001b[0m     \u001b[0;31m# Check dtype.\u001b[0m\u001b[0;34m\u001b[0m\u001b[0;34m\u001b[0m\u001b[0m\n\u001b[1;32m    195\u001b[0m     \u001b[0;32mif\u001b[0m \u001b[0mspec\u001b[0m\u001b[0;34m.\u001b[0m\u001b[0mdtype\u001b[0m \u001b[0;32mis\u001b[0m \u001b[0;32mnot\u001b[0m \u001b[0;32mNone\u001b[0m\u001b[0;34m:\u001b[0m\u001b[0;34m\u001b[0m\u001b[0m\n",
      "\u001b[0;31mValueError\u001b[0m: Input 0 of layer dense is incompatible with the layer: : expected min_ndim=2, found ndim=1. Full shape received: [360]"
     ]
    }
   ],
   "source": [
    "train_eval()"
   ]
  },
  {
   "cell_type": "markdown",
   "metadata": {},
   "source": [
    "# environment.py"
   ]
  },
  {
   "cell_type": "code",
   "execution_count": 135,
   "metadata": {
    "ExecuteTime": {
     "end_time": "2019-11-02T14:49:37.856972Z",
     "start_time": "2019-11-02T14:49:37.853603Z"
    }
   },
   "outputs": [],
   "source": [
    "import numpy as np\n",
    "import pandas as pd"
   ]
  },
  {
   "cell_type": "code",
   "execution_count": 136,
   "metadata": {
    "ExecuteTime": {
     "end_time": "2019-11-02T14:49:38.844177Z",
     "start_time": "2019-11-02T14:49:38.828123Z"
    }
   },
   "outputs": [],
   "source": [
    "class ForexEnv(object):\n",
    "    '''\n",
    "    Observation:\n",
    "        self.timestamp\n",
    "        self.state =   3 (the day of the week, hour, minute) +\n",
    "                       3 (the previous position; {-1, 0, 1}) + \n",
    "                      20 (the 10-minute bid and ask prices of the target currency) +\n",
    "                      80 (the 10-minute mid prices of the rest of 8 currency pairs)\n",
    "                   = 106 (total)\n",
    "        self.price_record: bid and ask prices of the target currency\n",
    "        \n",
    "    Actions:\n",
    "        -1: short 100%\n",
    "         0: take a neutral position (no action) and 0 reward. \n",
    "        +1: long 100%\n",
    "        \n",
    "    Starting State:\n",
    "        random start within training set.\n",
    "        i.e., we pick an arbitrary number and take it as index to start with.                 \n",
    "    '''\n",
    "    \n",
    "    def __init__(self, cur='audusd', lag=10, min_history=1440, mode='train'):\n",
    "        self.ccy = cur\n",
    "        self.lag = lag\n",
    "        self.min_history = min_history\n",
    "        self.index = None\n",
    "        self.state = None\n",
    "        self.price_record = None\n",
    "        self.X_train = X_train\n",
    "        self.X_val = X.val\n",
    "        self.trainframe = self.X_train.index.values.tolist()\n",
    "        self.valframe = self.X_val.index.values.tolist()\n",
    "        self.train = self.trainframe[:-self.min_history]\n",
    "        self.val = self.valframe[:-self.min_history]\n",
    "        self.mode = mode"
   ]
  },
  {
   "cell_type": "code",
   "execution_count": null,
   "metadata": {},
   "outputs": [],
   "source": []
  },
  {
   "cell_type": "code",
   "execution_count": null,
   "metadata": {},
   "outputs": [],
   "source": []
  },
  {
   "cell_type": "code",
   "execution_count": null,
   "metadata": {},
   "outputs": [],
   "source": []
  },
  {
   "cell_type": "markdown",
   "metadata": {},
   "source": [
    "# experiment.py"
   ]
  },
  {
   "cell_type": "code",
   "execution_count": 46,
   "metadata": {
    "ExecuteTime": {
     "end_time": "2019-11-01T16:37:09.947822Z",
     "start_time": "2019-11-01T16:37:09.945203Z"
    }
   },
   "outputs": [],
   "source": [
    "import numpy as np\n",
    "\n",
    "import time"
   ]
  },
  {
   "cell_type": "code",
   "execution_count": 47,
   "metadata": {
    "ExecuteTime": {
     "end_time": "2019-11-01T16:37:10.365380Z",
     "start_time": "2019-11-01T16:37:10.360022Z"
    }
   },
   "outputs": [],
   "source": [
    "cur ='eurusd'\n",
    "reward_path = './results/rewards/' + cur + time.strftime(\"%Y%m%d-%H%M%S\") + '/'\n",
    "agent_path = './results/agents/' + cur + time.strftime(\"%Y%m%d-%H%M%S\") + '/'\n",
    "\n",
    "if not os.path.exists(reward_path):\n",
    "    os.makedirs(reward_path)\n",
    "if not os.path.exists(agent_path):\n",
    "    os.makedirs(agent_path)\n"
   ]
  },
  {
   "cell_type": "code",
   "execution_count": null,
   "metadata": {},
   "outputs": [],
   "source": []
  },
  {
   "cell_type": "code",
   "execution_count": null,
   "metadata": {},
   "outputs": [],
   "source": []
  },
  {
   "cell_type": "code",
   "execution_count": 131,
   "metadata": {
    "ExecuteTime": {
     "end_time": "2019-11-04T03:28:54.331637Z",
     "start_time": "2019-11-04T03:28:54.312860Z"
    }
   },
   "outputs": [
    {
     "data": {
      "text/html": [
       "<div>\n",
       "<style scoped>\n",
       "    .dataframe tbody tr th:only-of-type {\n",
       "        vertical-align: middle;\n",
       "    }\n",
       "\n",
       "    .dataframe tbody tr th {\n",
       "        vertical-align: top;\n",
       "    }\n",
       "\n",
       "    .dataframe thead th {\n",
       "        text-align: right;\n",
       "    }\n",
       "</style>\n",
       "<table border=\"1\" class=\"dataframe\">\n",
       "  <thead>\n",
       "    <tr style=\"text-align: right;\">\n",
       "      <th></th>\n",
       "      <th>timestamp</th>\n",
       "      <th>ccy</th>\n",
       "      <th>bid_price</th>\n",
       "      <th>ask_price</th>\n",
       "      <th>bid_ret</th>\n",
       "      <th>ask_ret</th>\n",
       "      <th>mid_price</th>\n",
       "    </tr>\n",
       "  </thead>\n",
       "  <tbody>\n",
       "    <tr>\n",
       "      <th>10</th>\n",
       "      <td>2019-05-01 00:12:00</td>\n",
       "      <td>audusd</td>\n",
       "      <td>0.70519</td>\n",
       "      <td>0.70520</td>\n",
       "      <td>0.000014</td>\n",
       "      <td>-0.000028</td>\n",
       "      <td>0.00001</td>\n",
       "    </tr>\n",
       "    <tr>\n",
       "      <th>11</th>\n",
       "      <td>2019-05-01 00:13:00</td>\n",
       "      <td>audusd</td>\n",
       "      <td>0.70518</td>\n",
       "      <td>0.70520</td>\n",
       "      <td>-0.000014</td>\n",
       "      <td>0.000000</td>\n",
       "      <td>0.00002</td>\n",
       "    </tr>\n",
       "    <tr>\n",
       "      <th>12</th>\n",
       "      <td>2019-05-01 00:14:00</td>\n",
       "      <td>audusd</td>\n",
       "      <td>0.70518</td>\n",
       "      <td>0.70519</td>\n",
       "      <td>0.000000</td>\n",
       "      <td>-0.000014</td>\n",
       "      <td>0.00001</td>\n",
       "    </tr>\n",
       "    <tr>\n",
       "      <th>13</th>\n",
       "      <td>2019-05-01 00:15:00</td>\n",
       "      <td>audusd</td>\n",
       "      <td>0.70519</td>\n",
       "      <td>0.70519</td>\n",
       "      <td>0.000014</td>\n",
       "      <td>0.000000</td>\n",
       "      <td>0.00000</td>\n",
       "    </tr>\n",
       "    <tr>\n",
       "      <th>14</th>\n",
       "      <td>2019-05-01 00:16:00</td>\n",
       "      <td>audusd</td>\n",
       "      <td>0.70520</td>\n",
       "      <td>0.70521</td>\n",
       "      <td>0.000014</td>\n",
       "      <td>0.000028</td>\n",
       "      <td>0.00001</td>\n",
       "    </tr>\n",
       "  </tbody>\n",
       "</table>\n",
       "</div>"
      ],
      "text/plain": [
       "             timestamp     ccy  bid_price  ask_price   bid_ret   ask_ret  \\\n",
       "10 2019-05-01 00:12:00  audusd    0.70519    0.70520  0.000014 -0.000028   \n",
       "11 2019-05-01 00:13:00  audusd    0.70518    0.70520 -0.000014  0.000000   \n",
       "12 2019-05-01 00:14:00  audusd    0.70518    0.70519  0.000000 -0.000014   \n",
       "13 2019-05-01 00:15:00  audusd    0.70519    0.70519  0.000014  0.000000   \n",
       "14 2019-05-01 00:16:00  audusd    0.70520    0.70521  0.000014  0.000028   \n",
       "\n",
       "    mid_price  \n",
       "10    0.00001  \n",
       "11    0.00002  \n",
       "12    0.00001  \n",
       "13    0.00000  \n",
       "14    0.00001  "
      ]
     },
     "execution_count": 131,
     "metadata": {},
     "output_type": "execute_result"
    }
   ],
   "source": [
    "X_train.iloc[10:15]"
   ]
  },
  {
   "cell_type": "code",
   "execution_count": 63,
   "metadata": {
    "ExecuteTime": {
     "end_time": "2019-11-03T19:36:18.589671Z",
     "start_time": "2019-11-03T19:36:18.586891Z"
    }
   },
   "outputs": [],
   "source": [
    "from features import draw_episode"
   ]
  },
  {
   "cell_type": "code",
   "execution_count": 115,
   "metadata": {
    "ExecuteTime": {
     "end_time": "2019-11-04T03:22:18.581449Z",
     "start_time": "2019-11-04T03:22:18.544121Z"
    }
   },
   "outputs": [],
   "source": [
    "target_bid, target_ask, features = draw_episode(\n",
    "    X, cur='audusd', n=2, ep_size=5, lag=2)"
   ]
  },
  {
   "cell_type": "code",
   "execution_count": 116,
   "metadata": {
    "ExecuteTime": {
     "end_time": "2019-11-04T03:22:18.929509Z",
     "start_time": "2019-11-04T03:22:18.925607Z"
    }
   },
   "outputs": [
    {
     "data": {
      "text/plain": [
       "array([0.70519, 0.70518, 0.70518, 0.70519, 0.7052 ])"
      ]
     },
     "execution_count": 116,
     "metadata": {},
     "output_type": "execute_result"
    }
   ],
   "source": [
    "target_bid"
   ]
  },
  {
   "cell_type": "code",
   "execution_count": 117,
   "metadata": {
    "ExecuteTime": {
     "end_time": "2019-11-04T03:22:20.540153Z",
     "start_time": "2019-11-04T03:22:20.535805Z"
    }
   },
   "outputs": [
    {
     "data": {
      "text/plain": [
       "(5,)"
      ]
     },
     "execution_count": 117,
     "metadata": {},
     "output_type": "execute_result"
    }
   ],
   "source": [
    "target_bid.shape"
   ]
  },
  {
   "cell_type": "code",
   "execution_count": 118,
   "metadata": {
    "ExecuteTime": {
     "end_time": "2019-11-04T03:22:21.143174Z",
     "start_time": "2019-11-04T03:22:21.138929Z"
    }
   },
   "outputs": [
    {
     "data": {
      "text/plain": [
       "array([0.7052 , 0.7052 , 0.70519, 0.70519, 0.70521])"
      ]
     },
     "execution_count": 118,
     "metadata": {},
     "output_type": "execute_result"
    }
   ],
   "source": [
    "target_ask"
   ]
  },
  {
   "cell_type": "code",
   "execution_count": 119,
   "metadata": {
    "ExecuteTime": {
     "end_time": "2019-11-04T03:22:23.392752Z",
     "start_time": "2019-11-04T03:22:23.388864Z"
    }
   },
   "outputs": [
    {
     "data": {
      "text/plain": [
       "(5,)"
      ]
     },
     "execution_count": 119,
     "metadata": {},
     "output_type": "execute_result"
    }
   ],
   "source": [
    "target_ask.shape"
   ]
  },
  {
   "cell_type": "code",
   "execution_count": 129,
   "metadata": {
    "ExecuteTime": {
     "end_time": "2019-11-04T03:27:54.606113Z",
     "start_time": "2019-11-04T03:27:54.600274Z"
    }
   },
   "outputs": [
    {
     "data": {
      "text/plain": [
       "array([ 0.1184248 , -0.58560619, -0.5855962 , -0.5855962 ,  1.00355167,\n",
       "        1.44612103,  0.87973326,  1.6410534 ,  0.86520712,  0.86520712,\n",
       "       -0.62372478,  3.08713404,  1.57963245,  2.55379478, -2.10809715,\n",
       "       -1.21750035, -0.28469299, -0.28469299,  0.1184248 ,  0.5893887 ,\n",
       "        0.56097837,  0.1184248 , -0.64285448,  0.1184248 ,  0.86517342,\n",
       "        1.61193328, -0.25264583,  0.1184248 ,  0.60548446,  1.0925489 ,\n",
       "       -0.32686362, -0.32686362, -1.14849256, -0.745386  , -0.71883333,\n",
       "       -0.71883333])"
      ]
     },
     "execution_count": 129,
     "metadata": {},
     "output_type": "execute_result"
    }
   ],
   "source": [
    "features[0]"
   ]
  },
  {
   "cell_type": "code",
   "execution_count": 121,
   "metadata": {
    "ExecuteTime": {
     "end_time": "2019-11-04T03:22:24.143031Z",
     "start_time": "2019-11-04T03:22:24.139404Z"
    }
   },
   "outputs": [
    {
     "data": {
      "text/plain": [
       "(3, 36)"
      ]
     },
     "execution_count": 121,
     "metadata": {},
     "output_type": "execute_result"
    }
   ],
   "source": [
    "features.shape"
   ]
  },
  {
   "cell_type": "code",
   "execution_count": 122,
   "metadata": {
    "ExecuteTime": {
     "end_time": "2019-11-04T03:22:24.698343Z",
     "start_time": "2019-11-04T03:22:24.692720Z"
    }
   },
   "outputs": [
    {
     "data": {
      "text/plain": [
       "array([ 0.1184248 , -0.58560619, -0.5855962 , -0.5855962 ,  1.00355167,\n",
       "        1.44612103,  0.87973326,  1.6410534 ,  0.86520712,  0.86520712,\n",
       "       -0.62372478,  3.08713404,  1.57963245,  2.55379478, -2.10809715,\n",
       "       -1.21750035, -0.28469299, -0.28469299,  0.1184248 ,  0.5893887 ,\n",
       "        0.56097837,  0.1184248 , -0.64285448,  0.1184248 ,  0.86517342,\n",
       "        1.61193328, -0.25264583,  0.1184248 ,  0.60548446,  1.0925489 ,\n",
       "       -0.32686362, -0.32686362, -1.14849256, -0.745386  , -0.71883333,\n",
       "       -0.71883333])"
      ]
     },
     "execution_count": 122,
     "metadata": {},
     "output_type": "execute_result"
    }
   ],
   "source": [
    "features[0]"
   ]
  },
  {
   "cell_type": "code",
   "execution_count": 123,
   "metadata": {
    "ExecuteTime": {
     "end_time": "2019-11-04T03:22:25.408060Z",
     "start_time": "2019-11-04T03:22:25.398066Z"
    }
   },
   "outputs": [
    {
     "data": {
      "text/plain": [
       "(36,)"
      ]
     },
     "execution_count": 123,
     "metadata": {},
     "output_type": "execute_result"
    }
   ],
   "source": [
    "features[0].shape"
   ]
  },
  {
   "cell_type": "code",
   "execution_count": 124,
   "metadata": {
    "ExecuteTime": {
     "end_time": "2019-11-04T03:22:28.036723Z",
     "start_time": "2019-11-04T03:22:28.033029Z"
    }
   },
   "outputs": [
    {
     "data": {
      "text/plain": [
       "3"
      ]
     },
     "execution_count": 124,
     "metadata": {},
     "output_type": "execute_result"
    }
   ],
   "source": [
    "len(features)"
   ]
  },
  {
   "cell_type": "code",
   "execution_count": 102,
   "metadata": {
    "ExecuteTime": {
     "end_time": "2019-11-04T03:19:08.740104Z",
     "start_time": "2019-11-04T03:19:08.734511Z"
    }
   },
   "outputs": [
    {
     "data": {
      "text/plain": [
       "array([-1.28822975e-231,  2.00389893e+000,  2.78113689e-314,\n",
       "        2.78114481e-314,  2.78114482e-314,  2.12199580e-314,\n",
       "        0.00000000e+000,  3.95252517e-323,  2.12199579e-314,\n",
       "        2.76946182e-314,  2.76946163e-314,  2.76946188e-314,\n",
       "        2.77594478e-314,  2.79264360e-314,  2.79264366e-314,\n",
       "        2.79264373e-314,  2.79264379e-314,  2.79264385e-314,\n",
       "        2.79264392e-314,  2.79264398e-314,  2.79264404e-314,\n",
       "        2.21885319e-314, -1.28822975e-231,  2.00389893e+000,\n",
       "        2.34573531e-314,  2.21885273e-314,  2.34575557e-314,\n",
       "        2.21885273e-314,  2.34573147e-314,  2.21885273e-314,\n",
       "        2.33376200e-314,  2.21885319e-314,  2.34574979e-314,\n",
       "        2.21885273e-314,  1.29074111e-231, -1.28822975e-231,\n",
       "        5.92878775e-323,  0.00000000e+000,  0.00000000e+000,\n",
       "        0.00000000e+000,  0.00000000e+000,  0.00000000e+000,\n",
       "        0.00000000e+000,  0.00000000e+000,  0.00000000e+000,\n",
       "        0.00000000e+000,  2.12199579e-314,  2.12199579e-314,\n",
       "        0.00000000e+000,  0.00000000e+000,  2.75557184e-314,\n",
       "        0.00000000e+000,  0.00000000e+000,  0.00000000e+000,\n",
       "        2.75557184e-314,  2.75557184e-314,  0.00000000e+000,\n",
       "        1.72443224e-307,  0.00000000e+000,  0.00000000e+000,\n",
       "        0.00000000e+000,  4.94065646e-324,  2.79263831e-314,\n",
       "        2.12199579e-314,  4.94065646e-324,  0.00000000e+000,\n",
       "        0.00000000e+000,  0.00000000e+000,  0.00000000e+000,\n",
       "        0.00000000e+000,  0.00000000e+000,  0.00000000e+000,\n",
       "        0.00000000e+000,  0.00000000e+000,  0.00000000e+000,\n",
       "        0.00000000e+000,  0.00000000e+000,  0.00000000e+000,\n",
       "        0.00000000e+000,  0.00000000e+000,  0.00000000e+000,\n",
       "        0.00000000e+000,  0.00000000e+000,  0.00000000e+000,\n",
       "        0.00000000e+000,  0.00000000e+000,  3.50977866e+064,\n",
       "        0.00000000e+000,  0.00000000e+000,  0.00000000e+000])"
      ]
     },
     "execution_count": 102,
     "metadata": {},
     "output_type": "execute_result"
    }
   ],
   "source": [
    "np.empty(len(features))"
   ]
  },
  {
   "cell_type": "code",
   "execution_count": 103,
   "metadata": {
    "ExecuteTime": {
     "end_time": "2019-11-04T03:19:09.085342Z",
     "start_time": "2019-11-04T03:19:09.081516Z"
    }
   },
   "outputs": [
    {
     "data": {
      "text/plain": [
       "180"
      ]
     },
     "execution_count": 103,
     "metadata": {},
     "output_type": "execute_result"
    }
   ],
   "source": [
    "features.shape[1]"
   ]
  },
  {
   "cell_type": "code",
   "execution_count": 104,
   "metadata": {
    "ExecuteTime": {
     "end_time": "2019-11-04T03:19:09.349304Z",
     "start_time": "2019-11-04T03:19:09.285791Z"
    }
   },
   "outputs": [
    {
     "data": {
      "text/html": [
       "<div>\n",
       "<style scoped>\n",
       "    .dataframe tbody tr th:only-of-type {\n",
       "        vertical-align: middle;\n",
       "    }\n",
       "\n",
       "    .dataframe tbody tr th {\n",
       "        vertical-align: top;\n",
       "    }\n",
       "\n",
       "    .dataframe thead th {\n",
       "        text-align: right;\n",
       "    }\n",
       "</style>\n",
       "<table border=\"1\" class=\"dataframe\">\n",
       "  <thead>\n",
       "    <tr style=\"text-align: right;\">\n",
       "      <th></th>\n",
       "      <th>datetime</th>\n",
       "      <th>high</th>\n",
       "      <th>low</th>\n",
       "    </tr>\n",
       "  </thead>\n",
       "  <tbody>\n",
       "    <tr>\n",
       "      <th>0</th>\n",
       "      <td>20190501 000100</td>\n",
       "      <td>1.12188</td>\n",
       "      <td>1.12182</td>\n",
       "    </tr>\n",
       "    <tr>\n",
       "      <th>1</th>\n",
       "      <td>20190501 000200</td>\n",
       "      <td>1.12184</td>\n",
       "      <td>1.12182</td>\n",
       "    </tr>\n",
       "    <tr>\n",
       "      <th>2</th>\n",
       "      <td>20190501 000300</td>\n",
       "      <td>1.12183</td>\n",
       "      <td>1.12182</td>\n",
       "    </tr>\n",
       "    <tr>\n",
       "      <th>3</th>\n",
       "      <td>20190501 000400</td>\n",
       "      <td>1.12183</td>\n",
       "      <td>1.12182</td>\n",
       "    </tr>\n",
       "    <tr>\n",
       "      <th>4</th>\n",
       "      <td>20190501 000500</td>\n",
       "      <td>1.12183</td>\n",
       "      <td>1.12179</td>\n",
       "    </tr>\n",
       "    <tr>\n",
       "      <th>5</th>\n",
       "      <td>20190501 000600</td>\n",
       "      <td>1.12181</td>\n",
       "      <td>1.12180</td>\n",
       "    </tr>\n",
       "    <tr>\n",
       "      <th>6</th>\n",
       "      <td>20190501 000700</td>\n",
       "      <td>1.12180</td>\n",
       "      <td>1.12179</td>\n",
       "    </tr>\n",
       "    <tr>\n",
       "      <th>7</th>\n",
       "      <td>20190501 000800</td>\n",
       "      <td>1.12180</td>\n",
       "      <td>1.12179</td>\n",
       "    </tr>\n",
       "    <tr>\n",
       "      <th>8</th>\n",
       "      <td>20190501 000900</td>\n",
       "      <td>1.12180</td>\n",
       "      <td>1.12180</td>\n",
       "    </tr>\n",
       "    <tr>\n",
       "      <th>9</th>\n",
       "      <td>20190501 001000</td>\n",
       "      <td>1.12184</td>\n",
       "      <td>1.12182</td>\n",
       "    </tr>\n",
       "    <tr>\n",
       "      <th>10</th>\n",
       "      <td>20190501 001100</td>\n",
       "      <td>1.12184</td>\n",
       "      <td>1.12183</td>\n",
       "    </tr>\n",
       "    <tr>\n",
       "      <th>11</th>\n",
       "      <td>20190501 001200</td>\n",
       "      <td>1.12184</td>\n",
       "      <td>1.12179</td>\n",
       "    </tr>\n",
       "    <tr>\n",
       "      <th>12</th>\n",
       "      <td>20190501 001300</td>\n",
       "      <td>1.12183</td>\n",
       "      <td>1.12180</td>\n",
       "    </tr>\n",
       "    <tr>\n",
       "      <th>13</th>\n",
       "      <td>20190501 001400</td>\n",
       "      <td>1.12184</td>\n",
       "      <td>1.12182</td>\n",
       "    </tr>\n",
       "    <tr>\n",
       "      <th>14</th>\n",
       "      <td>20190501 001500</td>\n",
       "      <td>1.12183</td>\n",
       "      <td>1.12182</td>\n",
       "    </tr>\n",
       "    <tr>\n",
       "      <th>15</th>\n",
       "      <td>20190501 001600</td>\n",
       "      <td>1.12183</td>\n",
       "      <td>1.12182</td>\n",
       "    </tr>\n",
       "    <tr>\n",
       "      <th>16</th>\n",
       "      <td>20190501 001700</td>\n",
       "      <td>1.12184</td>\n",
       "      <td>1.12181</td>\n",
       "    </tr>\n",
       "    <tr>\n",
       "      <th>17</th>\n",
       "      <td>20190501 001800</td>\n",
       "      <td>1.12184</td>\n",
       "      <td>1.12182</td>\n",
       "    </tr>\n",
       "    <tr>\n",
       "      <th>18</th>\n",
       "      <td>20190501 001900</td>\n",
       "      <td>1.12183</td>\n",
       "      <td>1.12182</td>\n",
       "    </tr>\n",
       "    <tr>\n",
       "      <th>19</th>\n",
       "      <td>20190501 002000</td>\n",
       "      <td>1.12183</td>\n",
       "      <td>1.12182</td>\n",
       "    </tr>\n",
       "    <tr>\n",
       "      <th>20</th>\n",
       "      <td>20190501 002100</td>\n",
       "      <td>1.12183</td>\n",
       "      <td>1.12182</td>\n",
       "    </tr>\n",
       "    <tr>\n",
       "      <th>21</th>\n",
       "      <td>20190501 002200</td>\n",
       "      <td>1.12183</td>\n",
       "      <td>1.12182</td>\n",
       "    </tr>\n",
       "    <tr>\n",
       "      <th>22</th>\n",
       "      <td>20190501 002300</td>\n",
       "      <td>1.12183</td>\n",
       "      <td>1.12182</td>\n",
       "    </tr>\n",
       "    <tr>\n",
       "      <th>23</th>\n",
       "      <td>20190501 002400</td>\n",
       "      <td>1.12183</td>\n",
       "      <td>1.12181</td>\n",
       "    </tr>\n",
       "    <tr>\n",
       "      <th>24</th>\n",
       "      <td>20190501 002500</td>\n",
       "      <td>1.12184</td>\n",
       "      <td>1.12182</td>\n",
       "    </tr>\n",
       "    <tr>\n",
       "      <th>25</th>\n",
       "      <td>20190501 002600</td>\n",
       "      <td>1.12188</td>\n",
       "      <td>1.12180</td>\n",
       "    </tr>\n",
       "    <tr>\n",
       "      <th>26</th>\n",
       "      <td>20190501 002700</td>\n",
       "      <td>1.12182</td>\n",
       "      <td>1.12178</td>\n",
       "    </tr>\n",
       "    <tr>\n",
       "      <th>27</th>\n",
       "      <td>20190501 002800</td>\n",
       "      <td>1.12182</td>\n",
       "      <td>1.12181</td>\n",
       "    </tr>\n",
       "    <tr>\n",
       "      <th>28</th>\n",
       "      <td>20190501 002900</td>\n",
       "      <td>1.12181</td>\n",
       "      <td>1.12178</td>\n",
       "    </tr>\n",
       "    <tr>\n",
       "      <th>29</th>\n",
       "      <td>20190501 003000</td>\n",
       "      <td>1.12178</td>\n",
       "      <td>1.12177</td>\n",
       "    </tr>\n",
       "    <tr>\n",
       "      <th>...</th>\n",
       "      <td>...</td>\n",
       "      <td>...</td>\n",
       "      <td>...</td>\n",
       "    </tr>\n",
       "    <tr>\n",
       "      <th>31938</th>\n",
       "      <td>20190531 162900</td>\n",
       "      <td>1.11682</td>\n",
       "      <td>1.11668</td>\n",
       "    </tr>\n",
       "    <tr>\n",
       "      <th>31939</th>\n",
       "      <td>20190531 163000</td>\n",
       "      <td>1.11671</td>\n",
       "      <td>1.11667</td>\n",
       "    </tr>\n",
       "    <tr>\n",
       "      <th>31940</th>\n",
       "      <td>20190531 163100</td>\n",
       "      <td>1.11668</td>\n",
       "      <td>1.11665</td>\n",
       "    </tr>\n",
       "    <tr>\n",
       "      <th>31941</th>\n",
       "      <td>20190531 163200</td>\n",
       "      <td>1.11667</td>\n",
       "      <td>1.11666</td>\n",
       "    </tr>\n",
       "    <tr>\n",
       "      <th>31942</th>\n",
       "      <td>20190531 163300</td>\n",
       "      <td>1.11670</td>\n",
       "      <td>1.11666</td>\n",
       "    </tr>\n",
       "    <tr>\n",
       "      <th>31943</th>\n",
       "      <td>20190531 163400</td>\n",
       "      <td>1.11669</td>\n",
       "      <td>1.11667</td>\n",
       "    </tr>\n",
       "    <tr>\n",
       "      <th>31944</th>\n",
       "      <td>20190531 163500</td>\n",
       "      <td>1.11669</td>\n",
       "      <td>1.11667</td>\n",
       "    </tr>\n",
       "    <tr>\n",
       "      <th>31945</th>\n",
       "      <td>20190531 163600</td>\n",
       "      <td>1.11669</td>\n",
       "      <td>1.11667</td>\n",
       "    </tr>\n",
       "    <tr>\n",
       "      <th>31946</th>\n",
       "      <td>20190531 163700</td>\n",
       "      <td>1.11669</td>\n",
       "      <td>1.11668</td>\n",
       "    </tr>\n",
       "    <tr>\n",
       "      <th>31947</th>\n",
       "      <td>20190531 163800</td>\n",
       "      <td>1.11667</td>\n",
       "      <td>1.11663</td>\n",
       "    </tr>\n",
       "    <tr>\n",
       "      <th>31948</th>\n",
       "      <td>20190531 163900</td>\n",
       "      <td>1.11666</td>\n",
       "      <td>1.11662</td>\n",
       "    </tr>\n",
       "    <tr>\n",
       "      <th>31949</th>\n",
       "      <td>20190531 164000</td>\n",
       "      <td>1.11662</td>\n",
       "      <td>1.11658</td>\n",
       "    </tr>\n",
       "    <tr>\n",
       "      <th>31950</th>\n",
       "      <td>20190531 164100</td>\n",
       "      <td>1.11662</td>\n",
       "      <td>1.11658</td>\n",
       "    </tr>\n",
       "    <tr>\n",
       "      <th>31951</th>\n",
       "      <td>20190531 164200</td>\n",
       "      <td>1.11664</td>\n",
       "      <td>1.11660</td>\n",
       "    </tr>\n",
       "    <tr>\n",
       "      <th>31952</th>\n",
       "      <td>20190531 164300</td>\n",
       "      <td>1.11666</td>\n",
       "      <td>1.11661</td>\n",
       "    </tr>\n",
       "    <tr>\n",
       "      <th>31953</th>\n",
       "      <td>20190531 164400</td>\n",
       "      <td>1.11666</td>\n",
       "      <td>1.11657</td>\n",
       "    </tr>\n",
       "    <tr>\n",
       "      <th>31954</th>\n",
       "      <td>20190531 164500</td>\n",
       "      <td>1.11666</td>\n",
       "      <td>1.11660</td>\n",
       "    </tr>\n",
       "    <tr>\n",
       "      <th>31955</th>\n",
       "      <td>20190531 164600</td>\n",
       "      <td>1.11666</td>\n",
       "      <td>1.11656</td>\n",
       "    </tr>\n",
       "    <tr>\n",
       "      <th>31956</th>\n",
       "      <td>20190531 164700</td>\n",
       "      <td>1.11662</td>\n",
       "      <td>1.11657</td>\n",
       "    </tr>\n",
       "    <tr>\n",
       "      <th>31957</th>\n",
       "      <td>20190531 164800</td>\n",
       "      <td>1.11661</td>\n",
       "      <td>1.11660</td>\n",
       "    </tr>\n",
       "    <tr>\n",
       "      <th>31958</th>\n",
       "      <td>20190531 164900</td>\n",
       "      <td>1.11661</td>\n",
       "      <td>1.11660</td>\n",
       "    </tr>\n",
       "    <tr>\n",
       "      <th>31959</th>\n",
       "      <td>20190531 165000</td>\n",
       "      <td>1.11675</td>\n",
       "      <td>1.11656</td>\n",
       "    </tr>\n",
       "    <tr>\n",
       "      <th>31960</th>\n",
       "      <td>20190531 165100</td>\n",
       "      <td>1.11671</td>\n",
       "      <td>1.11665</td>\n",
       "    </tr>\n",
       "    <tr>\n",
       "      <th>31961</th>\n",
       "      <td>20190531 165200</td>\n",
       "      <td>1.11673</td>\n",
       "      <td>1.11666</td>\n",
       "    </tr>\n",
       "    <tr>\n",
       "      <th>31962</th>\n",
       "      <td>20190531 165300</td>\n",
       "      <td>1.11676</td>\n",
       "      <td>1.11669</td>\n",
       "    </tr>\n",
       "    <tr>\n",
       "      <th>31963</th>\n",
       "      <td>20190531 165400</td>\n",
       "      <td>1.11686</td>\n",
       "      <td>1.11676</td>\n",
       "    </tr>\n",
       "    <tr>\n",
       "      <th>31964</th>\n",
       "      <td>20190531 165500</td>\n",
       "      <td>1.11692</td>\n",
       "      <td>1.11678</td>\n",
       "    </tr>\n",
       "    <tr>\n",
       "      <th>31965</th>\n",
       "      <td>20190531 165600</td>\n",
       "      <td>1.11692</td>\n",
       "      <td>1.11685</td>\n",
       "    </tr>\n",
       "    <tr>\n",
       "      <th>31966</th>\n",
       "      <td>20190531 165700</td>\n",
       "      <td>1.11688</td>\n",
       "      <td>1.11679</td>\n",
       "    </tr>\n",
       "    <tr>\n",
       "      <th>31967</th>\n",
       "      <td>20190531 165800</td>\n",
       "      <td>1.11686</td>\n",
       "      <td>1.11675</td>\n",
       "    </tr>\n",
       "  </tbody>\n",
       "</table>\n",
       "<p>31968 rows × 3 columns</p>\n",
       "</div>"
      ],
      "text/plain": [
       "              datetime     high      low\n",
       "0      20190501 000100  1.12188  1.12182\n",
       "1      20190501 000200  1.12184  1.12182\n",
       "2      20190501 000300  1.12183  1.12182\n",
       "3      20190501 000400  1.12183  1.12182\n",
       "4      20190501 000500  1.12183  1.12179\n",
       "...                ...      ...      ...\n",
       "31963  20190531 165400  1.11686  1.11676\n",
       "31964  20190531 165500  1.11692  1.11678\n",
       "31965  20190531 165600  1.11692  1.11685\n",
       "31966  20190531 165700  1.11688  1.11679\n",
       "31967  20190531 165800  1.11686  1.11675\n",
       "\n",
       "[31968 rows x 3 columns]"
      ]
     },
     "execution_count": 104,
     "metadata": {},
     "output_type": "execute_result"
    }
   ],
   "source": [
    "df['eurusd']"
   ]
  },
  {
   "cell_type": "code",
   "execution_count": 84,
   "metadata": {
    "ExecuteTime": {
     "end_time": "2019-11-03T22:16:23.606301Z",
     "start_time": "2019-11-03T22:16:23.594579Z"
    }
   },
   "outputs": [
    {
     "data": {
      "text/plain": [
       "31616"
      ]
     },
     "execution_count": 84,
     "metadata": {},
     "output_type": "execute_result"
    }
   ],
   "source": [
    "np.min([df[key].shape[0] for key in df.keys()])"
   ]
  },
  {
   "cell_type": "code",
   "execution_count": 85,
   "metadata": {
    "ExecuteTime": {
     "end_time": "2019-11-03T22:32:06.836069Z",
     "start_time": "2019-11-03T22:32:06.832187Z"
    }
   },
   "outputs": [
    {
     "data": {
      "text/plain": [
       "(80, 360)"
      ]
     },
     "execution_count": 85,
     "metadata": {},
     "output_type": "execute_result"
    }
   ],
   "source": [
    "features.shape"
   ]
  },
  {
   "cell_type": "code",
   "execution_count": null,
   "metadata": {},
   "outputs": [],
   "source": []
  }
 ],
 "metadata": {
  "kernelspec": {
   "display_name": "Python 3",
   "language": "python",
   "name": "python3"
  },
  "language_info": {
   "codemirror_mode": {
    "name": "ipython",
    "version": 3
   },
   "file_extension": ".py",
   "mimetype": "text/x-python",
   "name": "python",
   "nbconvert_exporter": "python",
   "pygments_lexer": "ipython3",
   "version": "3.6.6"
  }
 },
 "nbformat": 4,
 "nbformat_minor": 2
}
