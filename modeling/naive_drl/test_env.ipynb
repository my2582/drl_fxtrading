{
 "cells": [
  {
   "cell_type": "code",
   "execution_count": 1,
   "metadata": {},
   "outputs": [],
   "source": [
    "import pandas as pd\n",
    "import numpy as np\n",
    "from environment import Environment\n",
    "\n",
    "config = {\n",
    "    'epi_sz': 100,\n",
    "    'target_currency': 'usdaud',\n",
    "    'bins': np.concatenate([[-10], np.arange(-1e-4, 1.1e-4, 1e-5), [10]]),\n",
    "    'channels': 30\n",
    "}\n",
    "\n",
    "\n",
    "X_train = pd.read_csv('../../dataset/toy_X_train_close.csv', sep=',')\n",
    "\n",
    "env = Environment(X_train, config)\n",
    "step_counter, state, price_tuple, is_finished = env.reset(epi_idx=0)\n",
    "step_counter, state, price_tuple, is_finished = env.step(action = 0.1, inv_wt=0.1)"
   ]
  },
  {
   "cell_type": "code",
   "execution_count": null,
   "metadata": {},
   "outputs": [],
   "source": []
  }
 ],
 "metadata": {
  "kernelspec": {
   "display_name": "Python 3",
   "language": "python",
   "name": "python3"
  },
  "language_info": {
   "codemirror_mode": {
    "name": "ipython",
    "version": 3
   },
   "file_extension": ".py",
   "mimetype": "text/x-python",
   "name": "python",
   "nbconvert_exporter": "python",
   "pygments_lexer": "ipython3",
   "version": "3.6.8"
  }
 },
 "nbformat": 4,
 "nbformat_minor": 2
}
